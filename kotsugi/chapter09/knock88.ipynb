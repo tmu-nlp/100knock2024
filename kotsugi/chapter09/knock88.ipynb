{
 "cells": [
  {
   "cell_type": "code",
   "execution_count": 1,
   "metadata": {},
   "outputs": [],
   "source": [
    "import re\n",
    "import spacy\n",
    "import pandas as pd\n",
    "import torch\n",
    "from torch import nn\n",
    "\n",
    "df = pd.read_csv(\"./id.csv\", index_col=0)\n",
    "vocab_dim = df[\"ID\"].max()\n",
    "\n",
    "nlp = spacy.load(\"en_core_web_sm\")\n",
    "\n",
    "def search_id(word: str) -> int:\n",
    "  try:\n",
    "    return df.loc[[word]][\"ID\"].values[0]\n",
    "  except:\n",
    "    return 0\n",
    "\n",
    "def tokenizer(title: str):\n",
    "  words = []\n",
    "\n",
    "  code_regex = re.compile('[!\"#$%&\\'\\\\\\\\()*+,-./:;<=>?@[\\\\]^_`{|}~「」〔〕“”〈〉『』【】＆＊・（）＄＃＠。、？！｀＋￥％]')\n",
    "  text = code_regex.sub('', title.rstrip().lower())\n",
    "\n",
    "  doc = nlp(text)\n",
    "\n",
    "  for token in doc:\n",
    "    id = search_id(token.text)\n",
    "    words.append(id)\n",
    "\n",
    "  return words\n",
    "\n",
    "\n",
    "# 重み初期化関数の定義\n",
    "def init_weights(m):\n",
    "  if isinstance(m, nn.RNN):\n",
    "    for name, param in m.named_parameters():\n",
    "      if 'weight_ih' in name:\n",
    "        nn.init.xavier_uniform_(param.data)\n",
    "      elif 'weight_hh' in name:\n",
    "        nn.init.orthogonal_(param.data)\n",
    "      elif 'bias' in name:\n",
    "        nn.init.constant_(param.data, 0)"
   ]
  },
  {
   "cell_type": "code",
   "execution_count": 2,
   "metadata": {},
   "outputs": [
    {
     "name": "stdout",
     "output_type": "stream",
     "text": [
      "学習済みベクトル利用単語数: 6790 / 8195\n"
     ]
    }
   ],
   "source": [
    "import os\n",
    "import numpy as np\n",
    "from dotenv import load_dotenv\n",
    "from gensim.models import KeyedVectors\n",
    "\n",
    "load_dotenv()\n",
    "FILE_DIR = os.getenv('FILE_DIR')\n",
    "model = KeyedVectors.load_word2vec_format(f\"{FILE_DIR}/GoogleNews-vectors-negative300.bin\", binary=True)\n",
    "\n",
    "VOCAB_SIZE = vocab_dim + 2\n",
    "EMB_SIZE = 300\n",
    "\n",
    "weights = np.zeros((VOCAB_SIZE, EMB_SIZE))\n",
    "words_in_pretrained = 0\n",
    "\n",
    "weights.shape\n",
    "\n",
    "target = df[df[\"COUNT\"] > 1].index.tolist()\n",
    "\n",
    "for i, word in enumerate(target):\n",
    "  try:\n",
    "    weights[i] = model[word]\n",
    "    words_in_pretrained += 1\n",
    "  except KeyError:\n",
    "    weights[i] = np.random.normal(scale=0.1, size=(EMB_SIZE,))\n",
    "  \n",
    "weights = torch.from_numpy(weights.astype((np.float32)))\n",
    "\n",
    "print(f'学習済みベクトル利用単語数: {words_in_pretrained} / {VOCAB_SIZE}')"
   ]
  },
  {
   "cell_type": "code",
   "execution_count": 3,
   "metadata": {},
   "outputs": [],
   "source": [
    "from torch.utils import data\n",
    "\n",
    "class NewsDataset(data.Dataset):\n",
    "  \"\"\"\n",
    "  newsのDatasetクラス\n",
    "  \n",
    "  Attributes\n",
    "  ----------------------------\n",
    "  X : データフレーム\n",
    "    単語ベクトルの平均をまとめたテンソル\n",
    "  y : テンソル\n",
    "    カテゴリをラベル化したテンソル\n",
    "  phase : 'train' or 'val'\n",
    "    学習か訓練かを設定する\n",
    "  \"\"\"\n",
    "  \n",
    "  def __init__(self, X, y, phase='train'):\n",
    "    self.X = X['TITLE']\n",
    "    self.y = y\n",
    "    self.phase = phase\n",
    "  \n",
    "  def __len__(self):\n",
    "    \"\"\"全データサイズを返す\"\"\"\n",
    "    return len(self.y)\n",
    "  \n",
    "  def __getitem__(self, idx):\n",
    "    \"\"\"idxに対応するテンソル形式のデータとラベルを取得\"\"\"\n",
    "    inputs = torch.tensor(tokenizer(self.X[idx]))\n",
    "    return inputs, self.y[idx]\n",
    "\n",
    "def category_to_label(category: str):\n",
    "  if 'b' in category:\n",
    "    return 0\n",
    "  elif 't' in category:\n",
    "    return 1\n",
    "  elif 'e' in category:\n",
    "    return 2\n",
    "  elif 'm' in category:\n",
    "    return 3\n",
    "  else:\n",
    "    return -1\n",
    "  \n",
    "def collate_fn(batch):\n",
    "  sequences = [x[0] for x in batch]\n",
    "  labels = torch.LongTensor([x[1] for x in batch])\n",
    "  x = torch.nn.utils.rnn.pad_sequence(sequences, batch_first=True)\n",
    "  return x, labels\n",
    "\n",
    "\n",
    "data_dir = \"../chapter06\"\n",
    "train = pd.read_csv(f\"{data_dir}/train.txt\", sep=\"\\t\", header=None, names=['CATEGORY', 'TITLE'])\n",
    "valid = pd.read_csv(f\"{data_dir}/valid.txt\", sep=\"\\t\", header=None, names=['CATEGORY', 'TITLE'])\n",
    "test = pd.read_csv(f\"{data_dir}/test.txt\", sep=\"\\t\", header=None, names=['CATEGORY', 'TITLE'])\n",
    "\n",
    "train_Y = torch.tensor(train[\"CATEGORY\"].map(category_to_label).values)\n",
    "valid_Y = torch.tensor(valid[\"CATEGORY\"].map(category_to_label).values)\n",
    "test_Y = torch.tensor(test[\"CATEGORY\"].map(category_to_label).values)\n",
    "\n",
    "train_dataset = NewsDataset(train, train_Y, phase='train')\n",
    "valid_dataset = NewsDataset(valid, valid_Y, phase='val')\n",
    "test_dataset = NewsDataset(test, test_Y, phase='val')\n",
    "\n",
    "batch_size = 128\n",
    "\n",
    "train_dataloader = data.DataLoader(train_dataset, batch_size=batch_size, shuffle=True, collate_fn=collate_fn)\n",
    "valid_dataloader = data.DataLoader(valid_dataset, batch_size=batch_size, shuffle=False, collate_fn=collate_fn)\n",
    "test_dataloader = data.DataLoader(test_dataset, batch_size=batch_size, shuffle=False, collate_fn=collate_fn)\n",
    "\n",
    "dataloader = {\n",
    "  \"train\": train_dataloader,\n",
    "  \"val\": valid_dataloader,\n",
    "  \"test\": test_dataloader,\n",
    "}"
   ]
  },
  {
   "cell_type": "code",
   "execution_count": 4,
   "metadata": {},
   "outputs": [],
   "source": [
    "from torch import optim\n",
    "from torch.nn import functional as F\n",
    "\n",
    "class MyCNN(nn.Module):\n",
    "  def __init__(self, vocab_dim, embedding_dim, padding_idx, output_size, out_channels, kernel_heights, stride, padding, emb_weights):\n",
    "    super(MyCNN, self).__init__()\n",
    "\n",
    "    self.embeddings = nn.Embedding.from_pretrained(emb_weights, padding_idx=padding_idx)\n",
    "    self.conv = nn.Conv2d(1, out_channels, (kernel_heights, embedding_dim), stride, (padding, 0))\n",
    "    self.drop = nn.Dropout(0.4)\n",
    "    self.fc = nn.Linear(out_channels, output_size)\n",
    "\n",
    "  def forward(self, x):\n",
    "    emb = self.embeddings(x).unsqueeze(1)\n",
    "    conv = self.conv(emb)\n",
    "    act = F.relu(conv.squeeze(3))\n",
    "    max_pool = F.max_pool1d(act, act.size()[2])\n",
    "    logits = self.fc(self.drop(max_pool.squeeze(2)))\n",
    "    pred = torch.softmax(logits, dim=-1)\n",
    "    return pred\n",
    "  \n",
    "PADDING_SIZE = vocab_dim + 1\n",
    "net = MyCNN(VOCAB_SIZE, 300, PADDING_SIZE, 4, 500, 2, 1, 1, weights)\n",
    "net.apply(init_weights)\n",
    "\n",
    "net.train()\n",
    "loss_fn = nn.CrossEntropyLoss()\n",
    "op = optim.Adam(net.parameters(), lr=0.0005)"
   ]
  },
  {
   "cell_type": "code",
   "execution_count": 5,
   "metadata": {},
   "outputs": [
    {
     "name": "stdout",
     "output_type": "stream",
     "text": [
      "------\n",
      "Epoch 0/30\n"
     ]
    },
    {
     "name": "stderr",
     "output_type": "stream",
     "text": [
      "100%|██████████| 84/84 [01:28<00:00,  1.05s/it]\n"
     ]
    },
    {
     "name": "stdout",
     "output_type": "stream",
     "text": [
      "train loss: 1.232096990232207, acc: 0.5476413369178772\n"
     ]
    },
    {
     "name": "stderr",
     "output_type": "stream",
     "text": [
      "100%|██████████| 11/11 [00:10<00:00,  1.06it/s]\n"
     ]
    },
    {
     "name": "stdout",
     "output_type": "stream",
     "text": [
      "train loss: 1.1454628513244811, acc: 0.6729041934013367\n",
      "------\n",
      "Epoch 1/30\n"
     ]
    },
    {
     "name": "stderr",
     "output_type": "stream",
     "text": [
      "100%|██████████| 84/84 [01:23<00:00,  1.00it/s]\n"
     ]
    },
    {
     "name": "stdout",
     "output_type": "stream",
     "text": [
      "train loss: 1.0989501796291812, acc: 0.6969299912452698\n"
     ]
    },
    {
     "name": "stderr",
     "output_type": "stream",
     "text": [
      "100%|██████████| 11/11 [00:09<00:00,  1.12it/s]\n"
     ]
    },
    {
     "name": "stdout",
     "output_type": "stream",
     "text": [
      "train loss: 1.0631369023979782, acc: 0.7208083868026733\n",
      "------\n",
      "Epoch 2/30\n"
     ]
    },
    {
     "name": "stderr",
     "output_type": "stream",
     "text": [
      "100%|██████████| 84/84 [01:31<00:00,  1.08s/it]\n"
     ]
    },
    {
     "name": "stdout",
     "output_type": "stream",
     "text": [
      "train loss: 1.0430060110035035, acc: 0.734369158744812\n"
     ]
    },
    {
     "name": "stderr",
     "output_type": "stream",
     "text": [
      "100%|██████████| 11/11 [00:11<00:00,  1.00s/it]\n"
     ]
    },
    {
     "name": "stdout",
     "output_type": "stream",
     "text": [
      "train loss: 1.0293077073411314, acc: 0.7410179376602173\n",
      "------\n",
      "Epoch 3/30\n"
     ]
    },
    {
     "name": "stderr",
     "output_type": "stream",
     "text": [
      "100%|██████████| 84/84 [01:23<00:00,  1.01it/s]\n"
     ]
    },
    {
     "name": "stdout",
     "output_type": "stream",
     "text": [
      "train loss: 1.0110939258673985, acc: 0.7558966875076294\n"
     ]
    },
    {
     "name": "stderr",
     "output_type": "stream",
     "text": [
      "100%|██████████| 11/11 [00:09<00:00,  1.11it/s]\n"
     ]
    },
    {
     "name": "stdout",
     "output_type": "stream",
     "text": [
      "train loss: 1.0143391764806415, acc: 0.7544910311698914\n",
      "------\n",
      "Epoch 4/30\n"
     ]
    },
    {
     "name": "stderr",
     "output_type": "stream",
     "text": [
      "100%|██████████| 84/84 [01:19<00:00,  1.06it/s]\n"
     ]
    },
    {
     "name": "stdout",
     "output_type": "stream",
     "text": [
      "train loss: 0.9910702548282327, acc: 0.7715275287628174\n"
     ]
    },
    {
     "name": "stderr",
     "output_type": "stream",
     "text": [
      "100%|██████████| 11/11 [00:09<00:00,  1.14it/s]\n"
     ]
    },
    {
     "name": "stdout",
     "output_type": "stream",
     "text": [
      "train loss: 0.9990244450683365, acc: 0.7604790329933167\n",
      "------\n",
      "Epoch 5/30\n"
     ]
    },
    {
     "name": "stderr",
     "output_type": "stream",
     "text": [
      "100%|██████████| 84/84 [01:24<00:00,  1.00s/it]\n"
     ]
    },
    {
     "name": "stdout",
     "output_type": "stream",
     "text": [
      "train loss: 0.9761441630711943, acc: 0.7828528881072998\n"
     ]
    },
    {
     "name": "stderr",
     "output_type": "stream",
     "text": [
      "100%|██████████| 11/11 [00:10<00:00,  1.07it/s]\n"
     ]
    },
    {
     "name": "stdout",
     "output_type": "stream",
     "text": [
      "train loss: 0.9898803027090198, acc: 0.7679640650749207\n",
      "------\n",
      "Epoch 6/30\n"
     ]
    },
    {
     "name": "stderr",
     "output_type": "stream",
     "text": [
      "100%|██████████| 84/84 [01:25<00:00,  1.02s/it]\n"
     ]
    },
    {
     "name": "stdout",
     "output_type": "stream",
     "text": [
      "train loss: 0.9669148511808047, acc: 0.7902470827102661\n"
     ]
    },
    {
     "name": "stderr",
     "output_type": "stream",
     "text": [
      "100%|██████████| 11/11 [00:10<00:00,  1.02it/s]\n"
     ]
    },
    {
     "name": "stdout",
     "output_type": "stream",
     "text": [
      "train loss: 0.9837630027068589, acc: 0.7747005820274353\n",
      "------\n",
      "Epoch 7/30\n"
     ]
    },
    {
     "name": "stderr",
     "output_type": "stream",
     "text": [
      "100%|██████████| 84/84 [01:35<00:00,  1.13s/it]\n"
     ]
    },
    {
     "name": "stdout",
     "output_type": "stream",
     "text": [
      "train loss: 0.9573679306184875, acc: 0.7978285551071167\n"
     ]
    },
    {
     "name": "stderr",
     "output_type": "stream",
     "text": [
      "100%|██████████| 11/11 [00:12<00:00,  1.11s/it]\n"
     ]
    },
    {
     "name": "stdout",
     "output_type": "stream",
     "text": [
      "train loss: 0.9778951692010114, acc: 0.779940128326416\n",
      "------\n",
      "Epoch 8/30\n"
     ]
    },
    {
     "name": "stderr",
     "output_type": "stream",
     "text": [
      "100%|██████████| 84/84 [01:21<00:00,  1.03it/s]\n"
     ]
    },
    {
     "name": "stdout",
     "output_type": "stream",
     "text": [
      "train loss: 0.9498701494581822, acc: 0.8024148344993591\n"
     ]
    },
    {
     "name": "stderr",
     "output_type": "stream",
     "text": [
      "100%|██████████| 11/11 [00:09<00:00,  1.13it/s]\n"
     ]
    },
    {
     "name": "stdout",
     "output_type": "stream",
     "text": [
      "train loss: 0.9739152110979229, acc: 0.783682644367218\n",
      "------\n",
      "Epoch 9/30\n"
     ]
    },
    {
     "name": "stderr",
     "output_type": "stream",
     "text": [
      "100%|██████████| 84/84 [01:19<00:00,  1.06it/s]\n"
     ]
    },
    {
     "name": "stdout",
     "output_type": "stream",
     "text": [
      "train loss: 0.9458998877963785, acc: 0.8055035471916199\n"
     ]
    },
    {
     "name": "stderr",
     "output_type": "stream",
     "text": [
      "100%|██████████| 11/11 [00:09<00:00,  1.16it/s]\n"
     ]
    },
    {
     "name": "stdout",
     "output_type": "stream",
     "text": [
      "train loss: 0.9717406309293416, acc: 0.7791916131973267\n",
      "------\n",
      "Epoch 10/30\n"
     ]
    },
    {
     "name": "stderr",
     "output_type": "stream",
     "text": [
      "100%|██████████| 84/84 [01:18<00:00,  1.07it/s]\n"
     ]
    },
    {
     "name": "stdout",
     "output_type": "stream",
     "text": [
      "train loss: 0.9400809556971057, acc: 0.8078435063362122\n"
     ]
    },
    {
     "name": "stderr",
     "output_type": "stream",
     "text": [
      "100%|██████████| 11/11 [00:09<00:00,  1.17it/s]\n"
     ]
    },
    {
     "name": "stdout",
     "output_type": "stream",
     "text": [
      "train loss: 0.9674323707997442, acc: 0.783682644367218\n",
      "------\n",
      "Epoch 11/30\n"
     ]
    },
    {
     "name": "stderr",
     "output_type": "stream",
     "text": [
      "100%|██████████| 84/84 [01:18<00:00,  1.08it/s]\n"
     ]
    },
    {
     "name": "stdout",
     "output_type": "stream",
     "text": [
      "train loss: 0.9373065810085727, acc: 0.8107450604438782\n"
     ]
    },
    {
     "name": "stderr",
     "output_type": "stream",
     "text": [
      "100%|██████████| 11/11 [00:09<00:00,  1.15it/s]\n"
     ]
    },
    {
     "name": "stdout",
     "output_type": "stream",
     "text": [
      "train loss: 0.9688203309824367, acc: 0.7806886434555054\n",
      "------\n",
      "Epoch 12/30\n"
     ]
    },
    {
     "name": "stderr",
     "output_type": "stream",
     "text": [
      "100%|██████████| 84/84 [01:18<00:00,  1.08it/s]\n"
     ]
    },
    {
     "name": "stdout",
     "output_type": "stream",
     "text": [
      "train loss: 0.9344750976616057, acc: 0.8114938139915466\n"
     ]
    },
    {
     "name": "stderr",
     "output_type": "stream",
     "text": [
      "100%|██████████| 11/11 [00:09<00:00,  1.14it/s]\n"
     ]
    },
    {
     "name": "stdout",
     "output_type": "stream",
     "text": [
      "train loss: 0.964791969981736, acc: 0.783682644367218\n",
      "------\n",
      "Epoch 13/30\n"
     ]
    },
    {
     "name": "stderr",
     "output_type": "stream",
     "text": [
      "100%|██████████| 84/84 [01:18<00:00,  1.07it/s]\n"
     ]
    },
    {
     "name": "stdout",
     "output_type": "stream",
     "text": [
      "train loss: 0.9326598091948484, acc: 0.8128042221069336\n"
     ]
    },
    {
     "name": "stderr",
     "output_type": "stream",
     "text": [
      "100%|██████████| 11/11 [00:09<00:00,  1.15it/s]\n"
     ]
    },
    {
     "name": "stdout",
     "output_type": "stream",
     "text": [
      "train loss: 0.9628081810688545, acc: 0.7844311594963074\n",
      "------\n",
      "Epoch 14/30\n"
     ]
    },
    {
     "name": "stderr",
     "output_type": "stream",
     "text": [
      "100%|██████████| 84/84 [01:17<00:00,  1.08it/s]\n"
     ]
    },
    {
     "name": "stdout",
     "output_type": "stream",
     "text": [
      "train loss: 0.9308826456530538, acc: 0.8130849599838257\n"
     ]
    },
    {
     "name": "stderr",
     "output_type": "stream",
     "text": [
      "100%|██████████| 11/11 [00:09<00:00,  1.19it/s]\n"
     ]
    },
    {
     "name": "stdout",
     "output_type": "stream",
     "text": [
      "train loss: 0.9618251255886283, acc: 0.783682644367218\n",
      "------\n",
      "Epoch 15/30\n"
     ]
    },
    {
     "name": "stderr",
     "output_type": "stream",
     "text": [
      "100%|██████████| 84/84 [01:16<00:00,  1.09it/s]\n"
     ]
    },
    {
     "name": "stdout",
     "output_type": "stream",
     "text": [
      "train loss: 0.929263728537929, acc: 0.8141145706176758\n"
     ]
    },
    {
     "name": "stderr",
     "output_type": "stream",
     "text": [
      "100%|██████████| 11/11 [00:09<00:00,  1.17it/s]\n"
     ]
    },
    {
     "name": "stdout",
     "output_type": "stream",
     "text": [
      "train loss: 0.9607708643296522, acc: 0.7859281301498413\n",
      "------\n",
      "Epoch 16/30\n"
     ]
    },
    {
     "name": "stderr",
     "output_type": "stream",
     "text": [
      "100%|██████████| 84/84 [01:18<00:00,  1.07it/s]\n"
     ]
    },
    {
     "name": "stdout",
     "output_type": "stream",
     "text": [
      "train loss: 0.9278063786159245, acc: 0.8147697448730469\n"
     ]
    },
    {
     "name": "stderr",
     "output_type": "stream",
     "text": [
      "100%|██████████| 11/11 [00:09<00:00,  1.13it/s]\n"
     ]
    },
    {
     "name": "stdout",
     "output_type": "stream",
     "text": [
      "train loss: 0.9600454543878932, acc: 0.7859281301498413\n",
      "------\n",
      "Epoch 17/30\n"
     ]
    },
    {
     "name": "stderr",
     "output_type": "stream",
     "text": [
      "100%|██████████| 84/84 [01:20<00:00,  1.04it/s]\n"
     ]
    },
    {
     "name": "stdout",
     "output_type": "stream",
     "text": [
      "train loss: 0.9268802691827058, acc: 0.8148633241653442\n"
     ]
    },
    {
     "name": "stderr",
     "output_type": "stream",
     "text": [
      "100%|██████████| 11/11 [00:09<00:00,  1.14it/s]\n"
     ]
    },
    {
     "name": "stdout",
     "output_type": "stream",
     "text": [
      "train loss: 0.9595906745173974, acc: 0.7844311594963074\n",
      "------\n",
      "Epoch 18/30\n"
     ]
    },
    {
     "name": "stderr",
     "output_type": "stream",
     "text": [
      "100%|██████████| 84/84 [01:20<00:00,  1.05it/s]\n"
     ]
    },
    {
     "name": "stdout",
     "output_type": "stream",
     "text": [
      "train loss: 0.9263604206121266, acc: 0.8152377605438232\n"
     ]
    },
    {
     "name": "stderr",
     "output_type": "stream",
     "text": [
      "100%|██████████| 11/11 [00:10<00:00,  1.09it/s]\n"
     ]
    },
    {
     "name": "stdout",
     "output_type": "stream",
     "text": [
      "train loss: 0.960204136942675, acc: 0.7844311594963074\n",
      "------\n",
      "Epoch 19/30\n"
     ]
    },
    {
     "name": "stderr",
     "output_type": "stream",
     "text": [
      "100%|██████████| 84/84 [01:17<00:00,  1.08it/s]\n"
     ]
    },
    {
     "name": "stdout",
     "output_type": "stream",
     "text": [
      "train loss: 0.9256904291463942, acc: 0.8152377605438232\n"
     ]
    },
    {
     "name": "stderr",
     "output_type": "stream",
     "text": [
      "100%|██████████| 11/11 [00:09<00:00,  1.15it/s]\n"
     ]
    },
    {
     "name": "stdout",
     "output_type": "stream",
     "text": [
      "train loss: 0.9577290165924026, acc: 0.7859281301498413\n",
      "------\n",
      "Epoch 20/30\n"
     ]
    },
    {
     "name": "stderr",
     "output_type": "stream",
     "text": [
      "100%|██████████| 84/84 [01:17<00:00,  1.08it/s]\n"
     ]
    },
    {
     "name": "stdout",
     "output_type": "stream",
     "text": [
      "train loss: 0.9233667784663722, acc: 0.8159865140914917\n"
     ]
    },
    {
     "name": "stderr",
     "output_type": "stream",
     "text": [
      "100%|██████████| 11/11 [00:09<00:00,  1.17it/s]\n"
     ]
    },
    {
     "name": "stdout",
     "output_type": "stream",
     "text": [
      "train loss: 0.9661362042684041, acc: 0.7881736755371094\n",
      "------\n",
      "Epoch 21/30\n"
     ]
    },
    {
     "name": "stderr",
     "output_type": "stream",
     "text": [
      "100%|██████████| 84/84 [01:17<00:00,  1.08it/s]\n"
     ]
    },
    {
     "name": "stdout",
     "output_type": "stream",
     "text": [
      "train loss: 0.9144492100035818, acc: 0.8292773962020874\n"
     ]
    },
    {
     "name": "stderr",
     "output_type": "stream",
     "text": [
      "100%|██████████| 11/11 [00:09<00:00,  1.17it/s]\n"
     ]
    },
    {
     "name": "stdout",
     "output_type": "stream",
     "text": [
      "train loss: 0.9534327237905856, acc: 0.80613774061203\n",
      "------\n",
      "Epoch 22/30\n"
     ]
    },
    {
     "name": "stderr",
     "output_type": "stream",
     "text": [
      "100%|██████████| 84/84 [01:23<00:00,  1.01it/s]\n"
     ]
    },
    {
     "name": "stdout",
     "output_type": "stream",
     "text": [
      "train loss: 0.8992304649303041, acc: 0.8613815307617188\n"
     ]
    },
    {
     "name": "stderr",
     "output_type": "stream",
     "text": [
      "100%|██████████| 11/11 [00:09<00:00,  1.16it/s]\n"
     ]
    },
    {
     "name": "stdout",
     "output_type": "stream",
     "text": [
      "train loss: 0.9509662129208, acc: 0.8166167736053467\n",
      "------\n",
      "Epoch 23/30\n"
     ]
    },
    {
     "name": "stderr",
     "output_type": "stream",
     "text": [
      "100%|██████████| 84/84 [01:17<00:00,  1.08it/s]\n"
     ]
    },
    {
     "name": "stdout",
     "output_type": "stream",
     "text": [
      "train loss: 0.8857912787869824, acc: 0.8762635588645935\n"
     ]
    },
    {
     "name": "stderr",
     "output_type": "stream",
     "text": [
      "100%|██████████| 11/11 [00:09<00:00,  1.20it/s]\n"
     ]
    },
    {
     "name": "stdout",
     "output_type": "stream",
     "text": [
      "train loss: 0.9335193940979278, acc: 0.81886225938797\n",
      "------\n",
      "Epoch 24/30\n"
     ]
    },
    {
     "name": "stderr",
     "output_type": "stream",
     "text": [
      "100%|██████████| 84/84 [01:28<00:00,  1.05s/it]\n"
     ]
    },
    {
     "name": "stdout",
     "output_type": "stream",
     "text": [
      "train loss: 0.8727286725354882, acc: 0.8900224566459656\n"
     ]
    },
    {
     "name": "stderr",
     "output_type": "stream",
     "text": [
      "100%|██████████| 11/11 [00:11<00:00,  1.07s/it]\n"
     ]
    },
    {
     "name": "stdout",
     "output_type": "stream",
     "text": [
      "train loss: 0.9282348520027663, acc: 0.8293412923812866\n",
      "------\n",
      "Epoch 25/30\n"
     ]
    },
    {
     "name": "stderr",
     "output_type": "stream",
     "text": [
      "100%|██████████| 84/84 [01:26<00:00,  1.03s/it]\n"
     ]
    },
    {
     "name": "stdout",
     "output_type": "stream",
     "text": [
      "train loss: 0.8606997380003149, acc: 0.9011605978012085\n"
     ]
    },
    {
     "name": "stderr",
     "output_type": "stream",
     "text": [
      "100%|██████████| 11/11 [00:10<00:00,  1.07it/s]\n"
     ]
    },
    {
     "name": "stdout",
     "output_type": "stream",
     "text": [
      "train loss: 0.9224079433315528, acc: 0.833832323551178\n",
      "------\n",
      "Epoch 26/30\n"
     ]
    },
    {
     "name": "stderr",
     "output_type": "stream",
     "text": [
      "100%|██████████| 84/84 [01:23<00:00,  1.01it/s]\n"
     ]
    },
    {
     "name": "stdout",
     "output_type": "stream",
     "text": [
      "train loss: 0.8546328294906488, acc: 0.9054661393165588\n"
     ]
    },
    {
     "name": "stderr",
     "output_type": "stream",
     "text": [
      "100%|██████████| 11/11 [00:10<00:00,  1.10it/s]\n"
     ]
    },
    {
     "name": "stdout",
     "output_type": "stream",
     "text": [
      "train loss: 0.9208123587562652, acc: 0.832335352897644\n",
      "------\n",
      "Epoch 27/30\n"
     ]
    },
    {
     "name": "stderr",
     "output_type": "stream",
     "text": [
      "100%|██████████| 84/84 [01:17<00:00,  1.08it/s]\n"
     ]
    },
    {
     "name": "stdout",
     "output_type": "stream",
     "text": [
      "train loss: 0.8478139333848157, acc: 0.9098652005195618\n"
     ]
    },
    {
     "name": "stderr",
     "output_type": "stream",
     "text": [
      "100%|██████████| 11/11 [00:09<00:00,  1.10it/s]\n"
     ]
    },
    {
     "name": "stdout",
     "output_type": "stream",
     "text": [
      "train loss: 0.9134753307182631, acc: 0.8443113565444946\n",
      "------\n",
      "Epoch 28/30\n"
     ]
    },
    {
     "name": "stderr",
     "output_type": "stream",
     "text": [
      "100%|██████████| 84/84 [01:26<00:00,  1.03s/it]\n"
     ]
    },
    {
     "name": "stdout",
     "output_type": "stream",
     "text": [
      "train loss: 0.8427537778306659, acc: 0.91407710313797\n"
     ]
    },
    {
     "name": "stderr",
     "output_type": "stream",
     "text": [
      "100%|██████████| 11/11 [00:10<00:00,  1.10it/s]\n"
     ]
    },
    {
     "name": "stdout",
     "output_type": "stream",
     "text": [
      "train loss: 0.9118584016126073, acc: 0.841317355632782\n",
      "------\n",
      "Epoch 29/30\n"
     ]
    },
    {
     "name": "stderr",
     "output_type": "stream",
     "text": [
      "100%|██████████| 84/84 [01:27<00:00,  1.04s/it]\n"
     ]
    },
    {
     "name": "stdout",
     "output_type": "stream",
     "text": [
      "train loss: 0.8389262971651327, acc: 0.9155746698379517\n"
     ]
    },
    {
     "name": "stderr",
     "output_type": "stream",
     "text": [
      "100%|██████████| 11/11 [00:09<00:00,  1.14it/s]"
     ]
    },
    {
     "name": "stdout",
     "output_type": "stream",
     "text": [
      "train loss: 0.9094903251368128, acc: 0.8368263244628906\n"
     ]
    },
    {
     "name": "stderr",
     "output_type": "stream",
     "text": [
      "\n"
     ]
    }
   ],
   "source": [
    "from tqdm import tqdm\n",
    "\n",
    "epochs = 30\n",
    "\n",
    "for i in range(epochs):\n",
    "  print(\"------\")\n",
    "  print(f\"Epoch {i}/{epochs}\")\n",
    "  \n",
    "  for phase in [\"train\", \"val\"]:\n",
    "    epoch_loss = 0.0\n",
    "    epoch_acc = 0.0\n",
    "    \n",
    "    if phase == \"train\":\n",
    "      net.train()\n",
    "    else:\n",
    "      net.eval()\n",
    "\n",
    "    for data, label in tqdm(dataloader[phase]):\n",
    "      op.zero_grad()\n",
    "\n",
    "      with torch.set_grad_enabled(phase == \"train\"):\n",
    "        outputs = net(data)\n",
    "        loss = loss_fn(outputs, label)\n",
    "        _, pred = torch.max(outputs, 1)\n",
    "\n",
    "        if phase == \"train\":\n",
    "          loss.backward()\n",
    "          op.step()\n",
    "\n",
    "        epoch_loss += loss.item() * data.size(0)\n",
    "        epoch_acc += torch.sum(pred == label.data)\n",
    "    \n",
    "    size = len(dataloader[phase].dataset)\n",
    "    print(f\"train loss: {epoch_loss / size}, acc: {epoch_acc / size}\")"
   ]
  }
 ],
 "metadata": {
  "kernelspec": {
   "display_name": "venv",
   "language": "python",
   "name": "python3"
  },
  "language_info": {
   "codemirror_mode": {
    "name": "ipython",
    "version": 3
   },
   "file_extension": ".py",
   "mimetype": "text/x-python",
   "name": "python",
   "nbconvert_exporter": "python",
   "pygments_lexer": "ipython3",
   "version": "3.12.3"
  }
 },
 "nbformat": 4,
 "nbformat_minor": 2
}
