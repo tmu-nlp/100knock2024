{
 "cells": [
  {
   "cell_type": "markdown",
   "metadata": {},
   "source": [
    "# モデルの初期化"
   ]
  },
  {
   "cell_type": "code",
   "execution_count": 1,
   "metadata": {},
   "outputs": [
    {
     "data": {
      "text/plain": [
       "8193"
      ]
     },
     "execution_count": 1,
     "metadata": {},
     "output_type": "execute_result"
    }
   ],
   "source": [
    "import pandas as pd\n",
    "\n",
    "df = pd.read_csv(\"./id.csv\")\n",
    "\n",
    "vocab_dim = df[\"ID\"].max()\n",
    "vocab_dim"
   ]
  },
  {
   "cell_type": "code",
   "execution_count": 2,
   "metadata": {},
   "outputs": [],
   "source": [
    "from torch import nn\n",
    "\n",
    "# 重み初期化関数の定義\n",
    "def init_weights(m):\n",
    "  if isinstance(m, nn.RNN):\n",
    "    for name, param in m.named_parameters():\n",
    "      if 'weight_ih' in name:\n",
    "        nn.init.xavier_uniform_(param.data)\n",
    "      elif 'weight_hh' in name:\n",
    "        nn.init.orthogonal_(param.data)\n",
    "      elif 'bias' in name:\n",
    "        nn.init.constant_(param.data, 0)"
   ]
  },
  {
   "cell_type": "code",
   "execution_count": 3,
   "metadata": {},
   "outputs": [
    {
     "data": {
      "text/plain": [
       "MyRNN(\n",
       "  (embeddings): Embedding(8193, 300)\n",
       "  (rnn): RNN(300, 50)\n",
       "  (fc): Linear(in_features=50, out_features=4, bias=True)\n",
       ")"
      ]
     },
     "execution_count": 3,
     "metadata": {},
     "output_type": "execute_result"
    }
   ],
   "source": [
    "from knock81 import MyRNN\n",
    "\n",
    "model = MyRNN(300, 50, vocab_dim, 4)\n",
    "model.apply(init_weights)"
   ]
  },
  {
   "cell_type": "markdown",
   "metadata": {},
   "source": [
    "# 学習データの作成"
   ]
  },
  {
   "cell_type": "markdown",
   "metadata": {},
   "source": [
    "## id変換器の定義（from knock80）"
   ]
  },
  {
   "cell_type": "code",
   "execution_count": 4,
   "metadata": {},
   "outputs": [],
   "source": [
    "import re\n",
    "import spacy\n",
    "\n",
    "nlp = spacy.load(\"en_core_web_sm\")\n",
    "\n",
    "def search_id(word: str) -> int:\n",
    "  try:\n",
    "    return df.loc[[word]][\"ID\"].values[0]\n",
    "  except:\n",
    "    return 0\n",
    "\n",
    "def tokenizer(title: str):\n",
    "  words = []\n",
    "\n",
    "  code_regex = re.compile('[!\"#$%&\\'\\\\\\\\()*+,-./:;<=>?@[\\\\]^_`{|}~「」〔〕“”〈〉『』【】＆＊・（）＄＃＠。、？！｀＋￥％]')\n",
    "  text = code_regex.sub('', title.rstrip().lower())\n",
    "\n",
    "  doc = nlp(text)\n",
    "\n",
    "  for token in doc:\n",
    "    id = search_id(token.text)\n",
    "    words.append(id)\n",
    "\n",
    "  return words"
   ]
  },
  {
   "cell_type": "markdown",
   "metadata": {},
   "source": [
    "## データセットの作成"
   ]
  },
  {
   "cell_type": "code",
   "execution_count": 5,
   "metadata": {},
   "outputs": [],
   "source": [
    "import torch\n",
    "from torch.utils import data\n",
    "\n",
    "class NewsDataset(data.Dataset):\n",
    "  \"\"\"\n",
    "  newsのDatasetクラス\n",
    "  \n",
    "  Attributes\n",
    "  ----------------------------\n",
    "  X : データフレーム\n",
    "      単語ベクトルの平均をまとめたテンソル\n",
    "  y : テンソル\n",
    "      カテゴリをラベル化したテンソル\n",
    "  phase : 'train' or 'val'\n",
    "      学習か訓練かを設定する\n",
    "  \"\"\"\n",
    "  def __init__(self, X, y, phase='train'):\n",
    "    self.X = X['TITLE']\n",
    "    self.y = y\n",
    "    self.phase = phase\n",
    "  \n",
    "  def __len__(self):\n",
    "    \"\"\"全データサイズを返す\"\"\"\n",
    "    return len(self.y)\n",
    "  \n",
    "  def __getitem__(self, idx):\n",
    "    \"\"\"idxに対応するテンソル形式のデータとラベルを取得\"\"\"\n",
    "    inputs = torch.tensor(tokenizer(self.X[idx]))\n",
    "    return inputs, self.y[idx]\n"
   ]
  },
  {
   "cell_type": "code",
   "execution_count": 6,
   "metadata": {},
   "outputs": [],
   "source": [
    "import pandas as pd\n",
    "\n",
    "data_dir = \"../chapter06\"\n",
    "train = pd.read_csv(f\"{data_dir}/train.txt\", sep=\"\\t\", header=None, names=['CATEGORY', 'TITLE'])\n",
    "valid = pd.read_csv(f\"{data_dir}/valid.txt\", sep=\"\\t\", header=None, names=['CATEGORY', 'TITLE'])\n",
    "test = pd.read_csv(f\"{data_dir}/test.txt\", sep=\"\\t\", header=None, names=['CATEGORY', 'TITLE'])"
   ]
  },
  {
   "cell_type": "code",
   "execution_count": 7,
   "metadata": {},
   "outputs": [],
   "source": [
    "def category_to_label(category: str):\n",
    "  if 'b' in category:\n",
    "    return 0\n",
    "  elif 't' in category:\n",
    "    return 1\n",
    "  elif 'e' in category:\n",
    "    return 2\n",
    "  elif 'm' in category:\n",
    "    return 3\n",
    "  else:\n",
    "    return -1\n",
    "\n",
    "train_Y = torch.tensor(train[\"CATEGORY\"].map(category_to_label).values)\n",
    "valid_Y = torch.tensor(valid[\"CATEGORY\"].map(category_to_label).values)\n",
    "test_Y = torch.tensor(test[\"CATEGORY\"].map(category_to_label).values)"
   ]
  },
  {
   "cell_type": "code",
   "execution_count": 8,
   "metadata": {},
   "outputs": [],
   "source": [
    "train_dataset = NewsDataset(train, train_Y, phase='train')\n",
    "valid_dataset = NewsDataset(valid, valid_Y, phase='val')\n",
    "test_dataset = NewsDataset(test, test_Y, phase='val')"
   ]
  },
  {
   "cell_type": "code",
   "execution_count": 9,
   "metadata": {},
   "outputs": [],
   "source": [
    "torch.manual_seed(1)\n",
    "\n",
    "train_dataloader = data.DataLoader(train_dataset, batch_size=1, shuffle=True)\n",
    "valid_dataloader = data.DataLoader(valid_dataset, batch_size=1, shuffle=False)\n",
    "test_dataloader = data.DataLoader(test_dataset, batch_size=1, shuffle=False)\n",
    "\n",
    "dataloader = {\n",
    "  \"train\": train_dataloader,\n",
    "  \"val\": valid_dataloader,\n",
    "  \"test\": test_dataloader,\n",
    "}"
   ]
  },
  {
   "cell_type": "code",
   "execution_count": 10,
   "metadata": {},
   "outputs": [],
   "source": [
    "from torch import optim\n",
    "\n",
    "model.train()\n",
    "loss_fn = nn.CrossEntropyLoss()\n",
    "op = optim.SGD(model.parameters(), lr=0.1)"
   ]
  },
  {
   "cell_type": "code",
   "execution_count": 11,
   "metadata": {},
   "outputs": [
    {
     "name": "stdout",
     "output_type": "stream",
     "text": [
      "------\n",
      "Epoch 0/5\n"
     ]
    },
    {
     "name": "stderr",
     "output_type": "stream",
     "text": [
      "100%|██████████| 10684/10684 [05:31<00:00, 32.26it/s]\n"
     ]
    },
    {
     "name": "stdout",
     "output_type": "stream",
     "text": [
      "train loss: 1.2876507903263392, acc: 0.40630850195884705\n"
     ]
    },
    {
     "name": "stderr",
     "output_type": "stream",
     "text": [
      "100%|██████████| 1336/1336 [00:35<00:00, 38.01it/s]\n"
     ]
    },
    {
     "name": "stdout",
     "output_type": "stream",
     "text": [
      "train loss: 1.2706913043728132, acc: 0.40793412923812866\n",
      "------\n",
      "Epoch 1/5\n"
     ]
    },
    {
     "name": "stderr",
     "output_type": "stream",
     "text": [
      "100%|██████████| 10684/10684 [05:01<00:00, 35.39it/s]\n"
     ]
    },
    {
     "name": "stdout",
     "output_type": "stream",
     "text": [
      "train loss: 1.2698354373282594, acc: 0.41220515966415405\n"
     ]
    },
    {
     "name": "stderr",
     "output_type": "stream",
     "text": [
      "100%|██████████| 1336/1336 [00:33<00:00, 40.03it/s]\n"
     ]
    },
    {
     "name": "stdout",
     "output_type": "stream",
     "text": [
      "train loss: 1.2614200067912746, acc: 0.40793412923812866\n",
      "------\n",
      "Epoch 2/5\n"
     ]
    },
    {
     "name": "stderr",
     "output_type": "stream",
     "text": [
      "100%|██████████| 10684/10684 [05:09<00:00, 34.55it/s]\n"
     ]
    },
    {
     "name": "stdout",
     "output_type": "stream",
     "text": [
      "train loss: 1.2834007936564333, acc: 0.40359416604042053\n"
     ]
    },
    {
     "name": "stderr",
     "output_type": "stream",
     "text": [
      "100%|██████████| 1336/1336 [00:35<00:00, 38.09it/s]\n"
     ]
    },
    {
     "name": "stdout",
     "output_type": "stream",
     "text": [
      "train loss: 1.2925025453556798, acc: 0.40793412923812866\n",
      "------\n",
      "Epoch 3/5\n"
     ]
    },
    {
     "name": "stderr",
     "output_type": "stream",
     "text": [
      "100%|██████████| 10684/10684 [04:50<00:00, 36.83it/s]\n"
     ]
    },
    {
     "name": "stdout",
     "output_type": "stream",
     "text": [
      "train loss: 1.2666718505911505, acc: 0.41894420981407166\n"
     ]
    },
    {
     "name": "stderr",
     "output_type": "stream",
     "text": [
      "100%|██████████| 1336/1336 [00:29<00:00, 45.01it/s]\n"
     ]
    },
    {
     "name": "stdout",
     "output_type": "stream",
     "text": [
      "train loss: 1.2828105116586486, acc: 0.40793412923812866\n",
      "------\n",
      "Epoch 4/5\n"
     ]
    },
    {
     "name": "stderr",
     "output_type": "stream",
     "text": [
      "100%|██████████| 10684/10684 [04:37<00:00, 38.50it/s]\n"
     ]
    },
    {
     "name": "stdout",
     "output_type": "stream",
     "text": [
      "train loss: 1.2665421485186783, acc: 0.40846124291419983\n"
     ]
    },
    {
     "name": "stderr",
     "output_type": "stream",
     "text": [
      "100%|██████████| 1336/1336 [00:29<00:00, 44.68it/s]"
     ]
    },
    {
     "name": "stdout",
     "output_type": "stream",
     "text": [
      "train loss: 1.260601889765905, acc: 0.40793412923812866\n"
     ]
    },
    {
     "name": "stderr",
     "output_type": "stream",
     "text": [
      "\n"
     ]
    }
   ],
   "source": [
    "from tqdm import tqdm\n",
    "\n",
    "epochs = 5\n",
    "\n",
    "for i in range(epochs):\n",
    "  print(\"------\")\n",
    "  print(f\"Epoch {i}/{epochs}\")\n",
    "  \n",
    "  for phase in [\"train\", \"val\"]:\n",
    "    epoch_loss = 0.0\n",
    "    epoch_acc = 0.0\n",
    "    \n",
    "    if phase == \"train\":\n",
    "      model.train()\n",
    "    else:\n",
    "      model.eval()\n",
    "\n",
    "    for data, label in tqdm(dataloader[phase]):\n",
    "      op.zero_grad()\n",
    "\n",
    "      with torch.set_grad_enabled(phase == \"train\"):\n",
    "        outputs = model(data)\n",
    "        loss = loss_fn(outputs, label)\n",
    "        _, pred = torch.max(outputs, 1)\n",
    "\n",
    "        if phase == \"train\":\n",
    "          loss.backward()\n",
    "          op.step()\n",
    "\n",
    "        epoch_loss += loss.item() * data.size(0)\n",
    "        epoch_acc += torch.sum(pred == label.data)\n",
    "    \n",
    "    size = len(dataloader[phase].dataset)\n",
    "    print(f\"train loss: {epoch_loss / size}, acc: {epoch_acc / size}\")\n"
   ]
  },
  {
   "cell_type": "code",
   "execution_count": 12,
   "metadata": {},
   "outputs": [],
   "source": [
    "torch.save(model.state_dict(), \"knock82.model.pt\")"
   ]
  }
 ],
 "metadata": {
  "kernelspec": {
   "display_name": "venv",
   "language": "python",
   "name": "python3"
  },
  "language_info": {
   "codemirror_mode": {
    "name": "ipython",
    "version": 3
   },
   "file_extension": ".py",
   "mimetype": "text/x-python",
   "name": "python",
   "nbconvert_exporter": "python",
   "pygments_lexer": "ipython3",
   "version": "3.12.3"
  }
 },
 "nbformat": 4,
 "nbformat_minor": 2
}
