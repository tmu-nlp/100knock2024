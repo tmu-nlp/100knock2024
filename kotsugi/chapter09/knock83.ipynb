{
 "cells": [
  {
   "cell_type": "code",
   "execution_count": 1,
   "metadata": {},
   "outputs": [
    {
     "data": {
      "text/plain": [
       "MyRNN(\n",
       "  (embeddings): Embedding(8193, 300)\n",
       "  (rnn): RNN(300, 50)\n",
       "  (fc): Linear(in_features=50, out_features=4, bias=True)\n",
       ")"
      ]
     },
     "execution_count": 1,
     "metadata": {},
     "output_type": "execute_result"
    }
   ],
   "source": [
    "import re\n",
    "import spacy\n",
    "import pandas as pd\n",
    "import torch\n",
    "from torch.utils import data\n",
    "from torch import nn\n",
    "from knock81 import MyRNN\n",
    "\n",
    "\n",
    "df = pd.read_csv(\"./id.csv\")\n",
    "\n",
    "vocab_dim = df[\"ID\"].max()\n",
    "\n",
    "nlp = spacy.load(\"en_core_web_sm\")\n",
    "\n",
    "def search_id(word: str) -> int:\n",
    "  try:\n",
    "    return df.loc[[word]][\"ID\"].values[0]\n",
    "  except:\n",
    "    return 0\n",
    "\n",
    "\n",
    "def tokenizer(title: str):\n",
    "  words = []\n",
    "\n",
    "  code_regex = re.compile('[!\"#$%&\\'\\\\\\\\()*+,-./:;<=>?@[\\\\]^_`{|}~「」〔〕“”〈〉『』【】＆＊・（）＄＃＠。、？！｀＋￥％]')\n",
    "  text = code_regex.sub('', title.rstrip().lower())\n",
    "\n",
    "  doc = nlp(text)\n",
    "\n",
    "  for token in doc:\n",
    "    id = search_id(token.text)\n",
    "    words.append(id)\n",
    "\n",
    "  return words\n",
    "\n",
    "\n",
    "# 重み初期化関数の定義\n",
    "def init_weights(m):\n",
    "  if isinstance(m, nn.RNN):\n",
    "    for name, param in m.named_parameters():\n",
    "      if 'weight_ih' in name:\n",
    "        nn.init.xavier_uniform_(param.data)\n",
    "      elif 'weight_hh' in name:\n",
    "        nn.init.orthogonal_(param.data)\n",
    "      elif 'bias' in name:\n",
    "        nn.init.constant_(param.data, 0)\n",
    "\n",
    "\n",
    "class NewsDataset(data.Dataset):\n",
    "  \"\"\"\n",
    "  newsのDatasetクラス\n",
    "  \n",
    "  Attributes\n",
    "  ----------------------------\n",
    "  X : データフレーム\n",
    "      単語ベクトルの平均をまとめたテンソル\n",
    "  y : テンソル\n",
    "      カテゴリをラベル化したテンソル\n",
    "  phase : 'train' or 'val'\n",
    "      学習か訓練かを設定する\n",
    "  \"\"\"\n",
    "  def __init__(self, X, y, phase='train'):\n",
    "    self.X = X['TITLE']\n",
    "    self.y = y\n",
    "    self.phase = phase\n",
    "  \n",
    "  def __len__(self):\n",
    "    \"\"\"全データサイズを返す\"\"\"\n",
    "    return len(self.y)\n",
    "  \n",
    "  def __getitem__(self, idx):\n",
    "    \"\"\"idxに対応するテンソル形式のデータとラベルを取得\"\"\"\n",
    "    inputs = torch.tensor(tokenizer(self.X[idx]))\n",
    "    return inputs, self.y[idx]\n",
    "\n",
    "\n",
    "def category_to_label(category: str):\n",
    "  if 'b' in category:\n",
    "    return 0\n",
    "  elif 't' in category:\n",
    "    return 1\n",
    "  elif 'e' in category:\n",
    "    return 2\n",
    "  elif 'm' in category:\n",
    "    return 3\n",
    "  else:\n",
    "    return -1\n",
    "\n",
    "\n",
    "data_dir = \"../chapter06\"\n",
    "train = pd.read_csv(f\"{data_dir}/train.txt\", sep=\"\\t\", header=None, names=['CATEGORY', 'TITLE'])\n",
    "valid = pd.read_csv(f\"{data_dir}/valid.txt\", sep=\"\\t\", header=None, names=['CATEGORY', 'TITLE'])\n",
    "test = pd.read_csv(f\"{data_dir}/test.txt\", sep=\"\\t\", header=None, names=['CATEGORY', 'TITLE'])\n",
    "\n",
    "train_Y = torch.tensor(train[\"CATEGORY\"].map(category_to_label).values)\n",
    "valid_Y = torch.tensor(valid[\"CATEGORY\"].map(category_to_label).values)\n",
    "test_Y = torch.tensor(test[\"CATEGORY\"].map(category_to_label).values)\n",
    "\n",
    "train_dataset = NewsDataset(train, train_Y, phase='train')\n",
    "valid_dataset = NewsDataset(valid, valid_Y, phase='val')\n",
    "test_dataset = NewsDataset(test, test_Y, phase='val')\n",
    "\n",
    "model = MyRNN(300, 50, vocab_dim, 4)\n",
    "model.apply(init_weights)\n"
   ]
  },
  {
   "cell_type": "code",
   "execution_count": 2,
   "metadata": {},
   "outputs": [],
   "source": [
    "def collate_fn(batch):\n",
    "  sequences = [x[0] for x in batch]\n",
    "  labels = torch.LongTensor([x[1] for x in batch])\n",
    "  x = torch.nn.utils.rnn.pad_sequence(sequences, batch_first=True)\n",
    "  return x, labels"
   ]
  },
  {
   "cell_type": "code",
   "execution_count": 3,
   "metadata": {},
   "outputs": [
    {
     "name": "stdout",
     "output_type": "stream",
     "text": [
      "tensor([[0, 0, 0,  ..., 0, 0, 0],\n",
      "        [0, 0, 0,  ..., 0, 0, 0],\n",
      "        [0, 0, 0,  ..., 0, 0, 0],\n",
      "        ...,\n",
      "        [0, 0, 0,  ..., 0, 0, 0],\n",
      "        [0, 0, 0,  ..., 0, 0, 0],\n",
      "        [0, 0, 0,  ..., 0, 0, 0]])\n",
      "tensor([1, 0, 1, 1, 0, 3, 2, 3, 0, 0, 2, 3, 2, 0, 2, 0, 2, 2, 2, 3, 1, 0, 0, 2,\n",
      "        0, 2, 2, 2, 0, 2, 0, 3, 0, 0, 0, 2, 0, 3, 0, 2, 0, 0, 3, 1, 2, 0, 0, 0,\n",
      "        2, 2, 2, 3, 0, 1, 2, 2, 2, 2, 2, 2, 2, 0, 0, 2])\n"
     ]
    }
   ],
   "source": [
    "batch_size = 64\n",
    "\n",
    "train_dataloader = data.DataLoader(train_dataset, batch_size=batch_size, shuffle=True, collate_fn=collate_fn)\n",
    "valid_dataloader = data.DataLoader(valid_dataset, batch_size=batch_size, shuffle=False, collate_fn=collate_fn)\n",
    "test_dataloader = data.DataLoader( test_dataset, batch_size=batch_size, shuffle=False, collate_fn=collate_fn)\n",
    "\n",
    "dataloader = {\n",
    "  \"train\": train_dataloader,\n",
    "  \"val\": valid_dataloader,\n",
    "  \"test\": test_dataloader,\n",
    "}\n",
    "\n",
    "# 動作確認\n",
    "batch_iter = iter(dataloader['train'])\n",
    "inputs, labels = next(batch_iter)\n",
    "print(inputs)\n",
    "print(labels)"
   ]
  },
  {
   "cell_type": "code",
   "execution_count": 4,
   "metadata": {},
   "outputs": [],
   "source": [
    "from torch import optim\n",
    "\n",
    "model.train()\n",
    "loss_fn = nn.CrossEntropyLoss()\n",
    "op = optim.SGD(model.parameters(), lr=0.1)"
   ]
  },
  {
   "cell_type": "code",
   "execution_count": 6,
   "metadata": {},
   "outputs": [
    {
     "name": "stdout",
     "output_type": "stream",
     "text": [
      "使用デバイス: cpu\n"
     ]
    },
    {
     "data": {
      "text/plain": [
       "MyRNN(\n",
       "  (embeddings): Embedding(8193, 300)\n",
       "  (rnn): RNN(300, 50)\n",
       "  (fc): Linear(in_features=50, out_features=4, bias=True)\n",
       ")"
      ]
     },
     "execution_count": 6,
     "metadata": {},
     "output_type": "execute_result"
    }
   ],
   "source": [
    "device = torch.device(\"cuda:0\" if torch.cuda.is_available() else \"cpu\")\n",
    "\n",
    "if torch.cuda.is_available():\n",
    "  print(torch.cuda.get_device_name())\n",
    "\n",
    "print(\"使用デバイス:\", device)\n",
    "model.to(device)"
   ]
  },
  {
   "cell_type": "code",
   "execution_count": 7,
   "metadata": {},
   "outputs": [
    {
     "name": "stdout",
     "output_type": "stream",
     "text": [
      "------\n",
      "Epoch 0/5\n"
     ]
    },
    {
     "name": "stderr",
     "output_type": "stream",
     "text": [
      "100%|██████████| 167/167 [03:32<00:00,  1.27s/it]\n"
     ]
    },
    {
     "name": "stdout",
     "output_type": "stream",
     "text": [
      "train loss: 1.2674920687912912, acc: 0.4154810905456543\n"
     ]
    },
    {
     "name": "stderr",
     "output_type": "stream",
     "text": [
      "100%|██████████| 21/21 [00:25<00:00,  1.19s/it]\n"
     ]
    },
    {
     "name": "stdout",
     "output_type": "stream",
     "text": [
      "train loss: 1.2667445543997302, acc: 0.40793412923812866\n",
      "------\n",
      "Epoch 1/5\n"
     ]
    },
    {
     "name": "stderr",
     "output_type": "stream",
     "text": [
      "100%|██████████| 167/167 [03:27<00:00,  1.24s/it]\n"
     ]
    },
    {
     "name": "stdout",
     "output_type": "stream",
     "text": [
      "train loss: 1.260049956026081, acc: 0.42231374979019165\n"
     ]
    },
    {
     "name": "stderr",
     "output_type": "stream",
     "text": [
      "100%|██████████| 21/21 [00:27<00:00,  1.30s/it]\n"
     ]
    },
    {
     "name": "stdout",
     "output_type": "stream",
     "text": [
      "train loss: 1.2650611165040981, acc: 0.40793412923812866\n",
      "------\n",
      "Epoch 2/5\n"
     ]
    },
    {
     "name": "stderr",
     "output_type": "stream",
     "text": [
      "100%|██████████| 167/167 [03:49<00:00,  1.38s/it]\n"
     ]
    },
    {
     "name": "stdout",
     "output_type": "stream",
     "text": [
      "train loss: 1.2604771079485089, acc: 0.41688504815101624\n"
     ]
    },
    {
     "name": "stderr",
     "output_type": "stream",
     "text": [
      "100%|██████████| 21/21 [00:23<00:00,  1.11s/it]\n"
     ]
    },
    {
     "name": "stdout",
     "output_type": "stream",
     "text": [
      "train loss: 1.261752892397121, acc: 0.40793412923812866\n",
      "------\n",
      "Epoch 3/5\n"
     ]
    },
    {
     "name": "stderr",
     "output_type": "stream",
     "text": [
      "100%|██████████| 167/167 [03:20<00:00,  1.20s/it]\n"
     ]
    },
    {
     "name": "stdout",
     "output_type": "stream",
     "text": [
      "train loss: 1.260044274996033, acc: 0.41201797127723694\n"
     ]
    },
    {
     "name": "stderr",
     "output_type": "stream",
     "text": [
      "100%|██████████| 21/21 [00:25<00:00,  1.22s/it]\n"
     ]
    },
    {
     "name": "stdout",
     "output_type": "stream",
     "text": [
      "train loss: 1.2629908780137935, acc: 0.40793412923812866\n",
      "------\n",
      "Epoch 4/5\n"
     ]
    },
    {
     "name": "stderr",
     "output_type": "stream",
     "text": [
      "100%|██████████| 167/167 [03:32<00:00,  1.27s/it]\n"
     ]
    },
    {
     "name": "stdout",
     "output_type": "stream",
     "text": [
      "train loss: 1.2600767748581698, acc: 0.4166978597640991\n"
     ]
    },
    {
     "name": "stderr",
     "output_type": "stream",
     "text": [
      "100%|██████████| 21/21 [00:24<00:00,  1.14s/it]"
     ]
    },
    {
     "name": "stdout",
     "output_type": "stream",
     "text": [
      "train loss: 1.260904187927703, acc: 0.40793412923812866\n"
     ]
    },
    {
     "name": "stderr",
     "output_type": "stream",
     "text": [
      "\n"
     ]
    }
   ],
   "source": [
    "from tqdm import tqdm\n",
    "\n",
    "epochs = 5\n",
    "\n",
    "for i in range(epochs):\n",
    "  print(\"------\")\n",
    "  print(f\"Epoch {i}/{epochs}\")\n",
    "  \n",
    "  for phase in [\"train\", \"val\"]:\n",
    "    epoch_loss = 0.0\n",
    "    epoch_acc = 0.0\n",
    "    \n",
    "    if phase == \"train\":\n",
    "      model.train()\n",
    "    else:\n",
    "      model.eval()\n",
    "\n",
    "    for data, label in tqdm(dataloader[phase]):\n",
    "      data = data.to(device)\n",
    "      lebel = label.to(device)\n",
    "      op.zero_grad()\n",
    "\n",
    "      with torch.set_grad_enabled(phase == \"train\"):\n",
    "        outputs = model(data)\n",
    "        loss = loss_fn(outputs, label)\n",
    "        _, pred = torch.max(outputs, 1)\n",
    "\n",
    "        if phase == \"train\":\n",
    "          loss.backward()\n",
    "          op.step()\n",
    "\n",
    "        epoch_loss += loss.item() * data.size(0)\n",
    "        epoch_acc += torch.sum(pred == label.data)\n",
    "    \n",
    "    size = len(dataloader[phase].dataset)\n",
    "    print(f\"train loss: {epoch_loss / size}, acc: {epoch_acc / size}\")"
   ]
  }
 ],
 "metadata": {
  "kernelspec": {
   "display_name": "venv",
   "language": "python",
   "name": "python3"
  },
  "language_info": {
   "codemirror_mode": {
    "name": "ipython",
    "version": 3
   },
   "file_extension": ".py",
   "mimetype": "text/x-python",
   "name": "python",
   "nbconvert_exporter": "python",
   "pygments_lexer": "ipython3",
   "version": "3.12.3"
  }
 },
 "nbformat": 4,
 "nbformat_minor": 2
}
