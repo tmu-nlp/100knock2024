{
 "cells": [
  {
   "cell_type": "code",
   "execution_count": 1,
   "metadata": {},
   "outputs": [],
   "source": [
    "import re\n",
    "import spacy\n",
    "import pandas as pd\n",
    "import torch\n",
    "from torch import nn\n",
    "\n",
    "df = pd.read_csv(\"./id.csv\", index_col=0)\n",
    "vocab_dim = df[\"ID\"].max()\n",
    "\n",
    "nlp = spacy.load(\"en_core_web_sm\")\n",
    "\n",
    "def search_id(word: str) -> int:\n",
    "  try:\n",
    "    return df.loc[[word]][\"ID\"].values[0]\n",
    "  except:\n",
    "    return 0\n",
    "\n",
    "def tokenizer(title: str):\n",
    "  words = []\n",
    "\n",
    "  code_regex = re.compile('[!\"#$%&\\'\\\\\\\\()*+,-./:;<=>?@[\\\\]^_`{|}~「」〔〕“”〈〉『』【】＆＊・（）＄＃＠。、？！｀＋￥％]')\n",
    "  text = code_regex.sub('', title.rstrip().lower())\n",
    "\n",
    "  doc = nlp(text)\n",
    "\n",
    "  for token in doc:\n",
    "    id = search_id(token.text)\n",
    "    words.append(id)\n",
    "\n",
    "  return words\n",
    "\n",
    "\n",
    "# 重み初期化関数の定義\n",
    "def init_weights(m):\n",
    "  if isinstance(m, nn.RNN):\n",
    "    for name, param in m.named_parameters():\n",
    "      if 'weight_ih' in name:\n",
    "        nn.init.xavier_uniform_(param.data)\n",
    "      elif 'weight_hh' in name:\n",
    "        nn.init.orthogonal_(param.data)\n",
    "      elif 'bias' in name:\n",
    "        nn.init.constant_(param.data, 0)"
   ]
  },
  {
   "cell_type": "code",
   "execution_count": 2,
   "metadata": {},
   "outputs": [
    {
     "name": "stdout",
     "output_type": "stream",
     "text": [
      "学習済みベクトル利用単語数: 6790 / 8195\n"
     ]
    }
   ],
   "source": [
    "import os\n",
    "import numpy as np\n",
    "from dotenv import load_dotenv\n",
    "from gensim.models import KeyedVectors\n",
    "\n",
    "load_dotenv()\n",
    "FILE_DIR = os.getenv('FILE_DIR')\n",
    "model = KeyedVectors.load_word2vec_format(f\"{FILE_DIR}/GoogleNews-vectors-negative300.bin\", binary=True)\n",
    "\n",
    "VOCAB_SIZE = vocab_dim + 2\n",
    "EMB_SIZE = 300\n",
    "\n",
    "weights = np.zeros((VOCAB_SIZE, EMB_SIZE))\n",
    "words_in_pretrained = 0\n",
    "\n",
    "weights.shape\n",
    "\n",
    "target = df[df[\"COUNT\"] > 1].index.tolist()\n",
    "\n",
    "for i, word in enumerate(target):\n",
    "  try:\n",
    "    weights[i] = model[word]\n",
    "    words_in_pretrained += 1\n",
    "  except KeyError:\n",
    "    weights[i] = np.random.normal(scale=0.1, size=(EMB_SIZE,))\n",
    "  \n",
    "weights = torch.from_numpy(weights.astype((np.float32)))\n",
    "\n",
    "print(f'学習済みベクトル利用単語数: {words_in_pretrained} / {VOCAB_SIZE}')"
   ]
  },
  {
   "cell_type": "code",
   "execution_count": 3,
   "metadata": {},
   "outputs": [],
   "source": [
    "from torch.utils import data\n",
    "\n",
    "class NewsDataset(data.Dataset):\n",
    "  \"\"\"\n",
    "  newsのDatasetクラス\n",
    "  \n",
    "  Attributes\n",
    "  ----------------------------\n",
    "  X : データフレーム\n",
    "    単語ベクトルの平均をまとめたテンソル\n",
    "  y : テンソル\n",
    "    カテゴリをラベル化したテンソル\n",
    "  phase : 'train' or 'val'\n",
    "    学習か訓練かを設定する\n",
    "  \"\"\"\n",
    "  \n",
    "  def __init__(self, X, y, phase='train'):\n",
    "    self.X = X['TITLE']\n",
    "    self.y = y\n",
    "    self.phase = phase\n",
    "  \n",
    "  def __len__(self):\n",
    "    \"\"\"全データサイズを返す\"\"\"\n",
    "    return len(self.y)\n",
    "  \n",
    "  def __getitem__(self, idx):\n",
    "    \"\"\"idxに対応するテンソル形式のデータとラベルを取得\"\"\"\n",
    "    inputs = torch.tensor(tokenizer(self.X[idx]))\n",
    "    return inputs, self.y[idx]\n",
    "\n",
    "def category_to_label(category: str):\n",
    "  if 'b' in category:\n",
    "    return 0\n",
    "  elif 't' in category:\n",
    "    return 1\n",
    "  elif 'e' in category:\n",
    "    return 2\n",
    "  elif 'm' in category:\n",
    "    return 3\n",
    "  else:\n",
    "    return -1\n",
    "  \n",
    "def collate_fn(batch):\n",
    "  sequences = [x[0] for x in batch]\n",
    "  labels = torch.LongTensor([x[1] for x in batch])\n",
    "  x = torch.nn.utils.rnn.pad_sequence(sequences, batch_first=True)\n",
    "  return x, labels\n",
    "\n",
    "\n",
    "data_dir = \"../chapter06\"\n",
    "train = pd.read_csv(f\"{data_dir}/train.txt\", sep=\"\\t\", header=None, names=['CATEGORY', 'TITLE'])\n",
    "valid = pd.read_csv(f\"{data_dir}/valid.txt\", sep=\"\\t\", header=None, names=['CATEGORY', 'TITLE'])\n",
    "test = pd.read_csv(f\"{data_dir}/test.txt\", sep=\"\\t\", header=None, names=['CATEGORY', 'TITLE'])\n",
    "\n",
    "train_Y = torch.tensor(train[\"CATEGORY\"].map(category_to_label).values)\n",
    "valid_Y = torch.tensor(valid[\"CATEGORY\"].map(category_to_label).values)\n",
    "test_Y = torch.tensor(test[\"CATEGORY\"].map(category_to_label).values)\n",
    "\n",
    "train_dataset = NewsDataset(train, train_Y, phase='train')\n",
    "valid_dataset = NewsDataset(valid, valid_Y, phase='val')\n",
    "test_dataset = NewsDataset(test, test_Y, phase='val')\n",
    "\n",
    "batch_size = 64\n",
    "\n",
    "train_dataloader = data.DataLoader(train_dataset, batch_size=batch_size, shuffle=True, collate_fn=collate_fn)\n",
    "valid_dataloader = data.DataLoader(valid_dataset, batch_size=batch_size, shuffle=False, collate_fn=collate_fn)\n",
    "test_dataloader = data.DataLoader(test_dataset, batch_size=batch_size, shuffle=False, collate_fn=collate_fn)\n",
    "\n",
    "dataloader = {\n",
    "  \"train\": train_dataloader,\n",
    "  \"val\": valid_dataloader,\n",
    "  \"test\": test_dataloader,\n",
    "}"
   ]
  },
  {
   "cell_type": "code",
   "execution_count": 4,
   "metadata": {},
   "outputs": [],
   "source": [
    "from torch import optim\n",
    "from torch.nn import functional as F\n",
    "\n",
    "class MyCNN(nn.Module):\n",
    "  def __init__(self, vocab_dim, embedding_dim, padding_idx, output_size, out_channels, kernel_heights, stride, padding, emb_weights):\n",
    "    super(MyCNN, self).__init__()\n",
    "\n",
    "    self.embeddings = nn.Embedding.from_pretrained(emb_weights, padding_idx=padding_idx)\n",
    "    self.conv = nn.Conv2d(1, out_channels, (kernel_heights, embedding_dim), stride, (padding, 0))\n",
    "    self.drop = nn.Dropout(0.4)\n",
    "    self.fc = nn.Linear(out_channels, output_size)\n",
    "\n",
    "  def forward(self, x):\n",
    "    emb = self.embeddings(x).unsqueeze(1)\n",
    "    conv = self.conv(emb)\n",
    "    act = F.relu(conv.squeeze(3))\n",
    "    max_pool = F.max_pool1d(act, act.size()[2])\n",
    "    logits = self.fc(self.drop(max_pool.squeeze(2)))\n",
    "    pred = torch.softmax(logits, dim=-1)\n",
    "    return pred\n",
    "  \n",
    "PADDING_SIZE = vocab_dim + 1\n",
    "net = MyCNN(VOCAB_SIZE, 300, PADDING_SIZE, 4, 100, 3, 1, 1, weights)\n",
    "net.apply(init_weights)\n",
    "\n",
    "net.train()\n",
    "loss_fn = nn.CrossEntropyLoss()\n",
    "op = optim.SGD(net.parameters(), lr=0.1)"
   ]
  },
  {
   "cell_type": "code",
   "execution_count": 5,
   "metadata": {},
   "outputs": [
    {
     "name": "stdout",
     "output_type": "stream",
     "text": [
      "------\n",
      "Epoch 0/5\n"
     ]
    },
    {
     "name": "stderr",
     "output_type": "stream",
     "text": [
      "100%|██████████| 167/167 [01:19<00:00,  2.11it/s]\n"
     ]
    },
    {
     "name": "stdout",
     "output_type": "stream",
     "text": [
      "train loss: 1.2947031659430128, acc: 0.4276488125324249\n"
     ]
    },
    {
     "name": "stderr",
     "output_type": "stream",
     "text": [
      "100%|██████████| 21/21 [00:09<00:00,  2.30it/s]\n"
     ]
    },
    {
     "name": "stdout",
     "output_type": "stream",
     "text": [
      "train loss: 1.2630339639629433, acc: 0.41017964482307434\n",
      "------\n",
      "Epoch 1/5\n"
     ]
    },
    {
     "name": "stderr",
     "output_type": "stream",
     "text": [
      "100%|██████████| 167/167 [01:13<00:00,  2.29it/s]\n"
     ]
    },
    {
     "name": "stdout",
     "output_type": "stream",
     "text": [
      "train loss: 1.2527551982162688, acc: 0.469674289226532\n"
     ]
    },
    {
     "name": "stderr",
     "output_type": "stream",
     "text": [
      "100%|██████████| 21/21 [00:09<00:00,  2.30it/s]\n"
     ]
    },
    {
     "name": "stdout",
     "output_type": "stream",
     "text": [
      "train loss: 1.2459526747286678, acc: 0.4109281301498413\n",
      "------\n",
      "Epoch 2/5\n"
     ]
    },
    {
     "name": "stderr",
     "output_type": "stream",
     "text": [
      "100%|██████████| 167/167 [01:14<00:00,  2.24it/s]\n"
     ]
    },
    {
     "name": "stdout",
     "output_type": "stream",
     "text": [
      "train loss: 1.2296252307352704, acc: 0.5283601880073547\n"
     ]
    },
    {
     "name": "stderr",
     "output_type": "stream",
     "text": [
      "100%|██████████| 21/21 [00:09<00:00,  2.27it/s]\n"
     ]
    },
    {
     "name": "stdout",
     "output_type": "stream",
     "text": [
      "train loss: 1.2099216041450729, acc: 0.613772451877594\n",
      "------\n",
      "Epoch 3/5\n"
     ]
    },
    {
     "name": "stderr",
     "output_type": "stream",
     "text": [
      "100%|██████████| 167/167 [01:14<00:00,  2.25it/s]\n"
     ]
    },
    {
     "name": "stdout",
     "output_type": "stream",
     "text": [
      "train loss: 1.1919293313470953, acc: 0.5953762531280518\n"
     ]
    },
    {
     "name": "stderr",
     "output_type": "stream",
     "text": [
      "100%|██████████| 21/21 [00:09<00:00,  2.33it/s]\n"
     ]
    },
    {
     "name": "stdout",
     "output_type": "stream",
     "text": [
      "train loss: 1.16211704579656, acc: 0.6744012236595154\n",
      "------\n",
      "Epoch 4/5\n"
     ]
    },
    {
     "name": "stderr",
     "output_type": "stream",
     "text": [
      "100%|██████████| 167/167 [01:14<00:00,  2.23it/s]\n"
     ]
    },
    {
     "name": "stdout",
     "output_type": "stream",
     "text": [
      "train loss: 1.146767139925755, acc: 0.647510290145874\n"
     ]
    },
    {
     "name": "stderr",
     "output_type": "stream",
     "text": [
      "100%|██████████| 21/21 [00:09<00:00,  2.26it/s]"
     ]
    },
    {
     "name": "stdout",
     "output_type": "stream",
     "text": [
      "train loss: 1.120934599173997, acc: 0.682634711265564\n"
     ]
    },
    {
     "name": "stderr",
     "output_type": "stream",
     "text": [
      "\n"
     ]
    }
   ],
   "source": [
    "from tqdm import tqdm\n",
    "\n",
    "epochs = 5\n",
    "\n",
    "for i in range(epochs):\n",
    "  print(\"------\")\n",
    "  print(f\"Epoch {i}/{epochs}\")\n",
    "  \n",
    "  for phase in [\"train\", \"val\"]:\n",
    "    epoch_loss = 0.0\n",
    "    epoch_acc = 0.0\n",
    "    \n",
    "    if phase == \"train\":\n",
    "      net.train()\n",
    "    else:\n",
    "      net.eval()\n",
    "\n",
    "    for data, label in tqdm(dataloader[phase]):\n",
    "      op.zero_grad()\n",
    "\n",
    "      with torch.set_grad_enabled(phase == \"train\"):\n",
    "        outputs = net(data)\n",
    "        loss = loss_fn(outputs, label)\n",
    "        _, pred = torch.max(outputs, 1)\n",
    "\n",
    "        if phase == \"train\":\n",
    "          loss.backward()\n",
    "          op.step()\n",
    "\n",
    "        epoch_loss += loss.item() * data.size(0)\n",
    "        epoch_acc += torch.sum(pred == label.data)\n",
    "    \n",
    "    size = len(dataloader[phase].dataset)\n",
    "    print(f\"train loss: {epoch_loss / size}, acc: {epoch_acc / size}\")"
   ]
  }
 ],
 "metadata": {
  "kernelspec": {
   "display_name": "venv",
   "language": "python",
   "name": "python3"
  },
  "language_info": {
   "codemirror_mode": {
    "name": "ipython",
    "version": 3
   },
   "file_extension": ".py",
   "mimetype": "text/x-python",
   "name": "python",
   "nbconvert_exporter": "python",
   "pygments_lexer": "ipython3",
   "version": "3.12.3"
  }
 },
 "nbformat": 4,
 "nbformat_minor": 2
}
