{
 "cells": [
  {
   "cell_type": "code",
   "execution_count": 1,
   "metadata": {},
   "outputs": [],
   "source": [
    "from transformers import AutoTokenizer\n",
    "\n",
    "tokenizer = AutoTokenizer.from_pretrained(\"bert-base-uncased\")\n",
    "\n",
    "def preprocess_function(examples):\n",
    "  return tokenizer(examples[\"text\"], truncation=True, max_length=512)"
   ]
  },
  {
   "cell_type": "code",
   "execution_count": 2,
   "metadata": {},
   "outputs": [],
   "source": [
    "import numpy as np\n",
    "import evaluate\n",
    "\n",
    "metric = evaluate.load(\"accuracy\")\n",
    "\n",
    "def compute_metrics(eval_pred):\n",
    "  logits, labels = eval_pred\n",
    "  predictions = np.argmax(logits, axis=-1)\n",
    "  return metric.compute(predictions=predictions, references=labels)"
   ]
  },
  {
   "cell_type": "code",
   "execution_count": 3,
   "metadata": {},
   "outputs": [],
   "source": [
    "def category_to_label(category: str):\n",
    "  if 'b' in category:\n",
    "    return 0\n",
    "  elif 't' in category:\n",
    "    return 1\n",
    "  elif 'e' in category:\n",
    "    return 2\n",
    "  elif 'm' in category:\n",
    "    return 3\n",
    "  else:\n",
    "    return -1"
   ]
  },
  {
   "cell_type": "code",
   "execution_count": 4,
   "metadata": {},
   "outputs": [
    {
     "data": {
      "application/vnd.jupyter.widget-view+json": {
       "model_id": "f43352d633cc4d7585686285cff39121",
       "version_major": 2,
       "version_minor": 0
      },
      "text/plain": [
       "Map:   0%|          | 0/10684 [00:00<?, ? examples/s]"
      ]
     },
     "metadata": {},
     "output_type": "display_data"
    },
    {
     "data": {
      "application/vnd.jupyter.widget-view+json": {
       "model_id": "a40a39f31bae4bc58c6bf5e1cff84c75",
       "version_major": 2,
       "version_minor": 0
      },
      "text/plain": [
       "Map:   0%|          | 0/1336 [00:00<?, ? examples/s]"
      ]
     },
     "metadata": {},
     "output_type": "display_data"
    },
    {
     "data": {
      "application/vnd.jupyter.widget-view+json": {
       "model_id": "3f809430aa4e4b9aabbeacbefd74314d",
       "version_major": 2,
       "version_minor": 0
      },
      "text/plain": [
       "Map:   0%|          | 0/1335 [00:00<?, ? examples/s]"
      ]
     },
     "metadata": {},
     "output_type": "display_data"
    },
    {
     "name": "stderr",
     "output_type": "stream",
     "text": [
      "Some weights of BertForSequenceClassification were not initialized from the model checkpoint at bert-base-uncased and are newly initialized: ['classifier.bias', 'classifier.weight']\n",
      "You should probably TRAIN this model on a down-stream task to be able to use it for predictions and inference.\n"
     ]
    },
    {
     "data": {
      "text/html": [
       "\n",
       "    <div>\n",
       "      \n",
       "      <progress value='2670' max='2670' style='width:300px; height:20px; vertical-align: middle;'></progress>\n",
       "      [2670/2670 1:06:43, Epoch 2/3]\n",
       "    </div>\n",
       "    <table border=\"1\" class=\"dataframe\">\n",
       "  <thead>\n",
       " <tr style=\"text-align: left;\">\n",
       "      <th>Step</th>\n",
       "      <th>Training Loss</th>\n",
       "      <th>Validation Loss</th>\n",
       "      <th>Accuracy</th>\n",
       "    </tr>\n",
       "  </thead>\n",
       "  <tbody>\n",
       "    <tr>\n",
       "      <td>250</td>\n",
       "      <td>No log</td>\n",
       "      <td>0.326558</td>\n",
       "      <td>0.908683</td>\n",
       "    </tr>\n",
       "    <tr>\n",
       "      <td>500</td>\n",
       "      <td>0.373000</td>\n",
       "      <td>0.273635</td>\n",
       "      <td>0.916916</td>\n",
       "    </tr>\n",
       "    <tr>\n",
       "      <td>750</td>\n",
       "      <td>0.373000</td>\n",
       "      <td>0.250217</td>\n",
       "      <td>0.925898</td>\n",
       "    </tr>\n",
       "    <tr>\n",
       "      <td>1000</td>\n",
       "      <td>0.238600</td>\n",
       "      <td>0.297081</td>\n",
       "      <td>0.922904</td>\n",
       "    </tr>\n",
       "    <tr>\n",
       "      <td>1250</td>\n",
       "      <td>0.238600</td>\n",
       "      <td>0.282947</td>\n",
       "      <td>0.931138</td>\n",
       "    </tr>\n",
       "    <tr>\n",
       "      <td>1500</td>\n",
       "      <td>0.154100</td>\n",
       "      <td>0.283721</td>\n",
       "      <td>0.934132</td>\n",
       "    </tr>\n",
       "    <tr>\n",
       "      <td>1750</td>\n",
       "      <td>0.154100</td>\n",
       "      <td>0.243296</td>\n",
       "      <td>0.936377</td>\n",
       "    </tr>\n",
       "    <tr>\n",
       "      <td>2000</td>\n",
       "      <td>0.090200</td>\n",
       "      <td>0.329903</td>\n",
       "      <td>0.940868</td>\n",
       "    </tr>\n",
       "    <tr>\n",
       "      <td>2250</td>\n",
       "      <td>0.090200</td>\n",
       "      <td>0.298026</td>\n",
       "      <td>0.942365</td>\n",
       "    </tr>\n",
       "    <tr>\n",
       "      <td>2500</td>\n",
       "      <td>0.069700</td>\n",
       "      <td>0.303154</td>\n",
       "      <td>0.943114</td>\n",
       "    </tr>\n",
       "  </tbody>\n",
       "</table><p>"
      ],
      "text/plain": [
       "<IPython.core.display.HTML object>"
      ]
     },
     "metadata": {},
     "output_type": "display_data"
    },
    {
     "data": {
      "text/html": [],
      "text/plain": [
       "<IPython.core.display.HTML object>"
      ]
     },
     "metadata": {},
     "output_type": "display_data"
    },
    {
     "data": {
      "text/html": [],
      "text/plain": [
       "<IPython.core.display.HTML object>"
      ]
     },
     "metadata": {},
     "output_type": "display_data"
    }
   ],
   "source": [
    "import pandas as pd\n",
    "import datasets\n",
    "from transformers import AutoModelForSequenceClassification, DataCollatorWithPadding, Trainer, TrainingArguments\n",
    "\n",
    "df = pd.read_table('../chapter06/train.txt', header=None, sep=\"\\t\")\n",
    "df.columns = [\"label\", \"text\"]\n",
    "df[\"label\"] = df[\"label\"].map(category_to_label).values\n",
    "valid = pd.read_table('../chapter06/valid.txt', header=None, sep=\"\\t\")\n",
    "valid.columns = [\"label\", \"text\"]\n",
    "valid[\"label\"] = valid[\"label\"].map(category_to_label).values\n",
    "test = pd.read_table('../chapter06/test.txt', header=None, sep=\"\\t\")\n",
    "test.columns = [\"label\", \"text\"]\n",
    "test[\"label\"] = test[\"label\"].map(category_to_label).values\n",
    "\n",
    "\n",
    "train_dataset = datasets.Dataset.from_pandas(df[[\"label\", \"text\"]])\n",
    "train_tokenized = train_dataset.map(preprocess_function, batched=True)\n",
    "val_dataset = datasets.Dataset.from_pandas(valid[[\"label\", \"text\"]])\n",
    "val_tokenized = val_dataset.map(preprocess_function, batched=True)\n",
    "test_dataset = datasets.Dataset.from_pandas(test[[\"text\"]])\n",
    "test_tokenized = test_dataset.map(preprocess_function, batched=True)\n",
    "\n",
    "data_collator = DataCollatorWithPadding(tokenizer=tokenizer)\n",
    "\n",
    "model = AutoModelForSequenceClassification.from_pretrained(\n",
    "  \"bert-base-uncased\", num_labels=4\n",
    ")\n",
    "\n",
    "training_args = TrainingArguments(\n",
    "  output_dir=f\"./results\",\n",
    "  learning_rate=4e-5,\n",
    "  per_device_train_batch_size=4,\n",
    "  per_device_eval_batch_size=64,\n",
    "  num_train_epochs=3,\n",
    "  weight_decay=0.01,\n",
    "  eval_strategy=\"steps\",\n",
    "  eval_steps=250,\n",
    "  load_best_model_at_end=True,\n",
    "  save_steps=1000,\n",
    "  gradient_accumulation_steps=3,\n",
    "  save_total_limit=3,\n",
    ")\n",
    "\n",
    "trainer = Trainer(\n",
    "  model=model,\n",
    "  args=training_args,\n",
    "  train_dataset=train_tokenized,\n",
    "  eval_dataset=val_tokenized,\n",
    "  tokenizer=tokenizer,\n",
    "  data_collator=data_collator,\n",
    "  compute_metrics=compute_metrics,\n",
    ")\n",
    "\n",
    "trainer.train()\n",
    "\n",
    "oof_results = trainer.predict(test_dataset=val_tokenized)\n",
    "np.save(f\"oof_prediction\", oof_results.predictions)\n",
    "\n",
    "results = trainer.predict(test_dataset=test_tokenized)\n",
    "np.save(f\"test_prediction\", results.predictions)\n"
   ]
  }
 ],
 "metadata": {
  "kernelspec": {
   "display_name": "venv",
   "language": "python",
   "name": "python3"
  },
  "language_info": {
   "codemirror_mode": {
    "name": "ipython",
    "version": 3
   },
   "file_extension": ".py",
   "mimetype": "text/x-python",
   "name": "python",
   "nbconvert_exporter": "python",
   "pygments_lexer": "ipython3",
   "version": "3.12.3"
  }
 },
 "nbformat": 4,
 "nbformat_minor": 2
}
