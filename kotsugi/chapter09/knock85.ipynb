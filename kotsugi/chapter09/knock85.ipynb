{
 "cells": [
  {
   "cell_type": "code",
   "execution_count": 1,
   "metadata": {},
   "outputs": [],
   "source": [
    "import re\n",
    "import spacy\n",
    "import pandas as pd\n",
    "import torch\n",
    "from torch import nn\n",
    "\n",
    "df = pd.read_csv(\"./id.csv\", index_col=0)\n",
    "vocab_dim = df[\"ID\"].max()\n",
    "\n",
    "nlp = spacy.load(\"en_core_web_sm\")\n",
    "\n",
    "def search_id(word: str) -> int:\n",
    "  try:\n",
    "    return df.loc[[word]][\"ID\"].values[0]\n",
    "  except:\n",
    "    return 0\n",
    "\n",
    "def tokenizer(title: str):\n",
    "  words = []\n",
    "\n",
    "  code_regex = re.compile('[!\"#$%&\\'\\\\\\\\()*+,-./:;<=>?@[\\\\]^_`{|}~「」〔〕“”〈〉『』【】＆＊・（）＄＃＠。、？！｀＋￥％]')\n",
    "  text = code_regex.sub('', title.rstrip().lower())\n",
    "\n",
    "  doc = nlp(text)\n",
    "\n",
    "  for token in doc:\n",
    "    id = search_id(token.text)\n",
    "    words.append(id)\n",
    "\n",
    "  return words\n",
    "\n",
    "\n",
    "# 重み初期化関数の定義\n",
    "def init_weights(m):\n",
    "  if isinstance(m, nn.RNN):\n",
    "    for name, param in m.named_parameters():\n",
    "      if 'weight_ih' in name:\n",
    "        nn.init.xavier_uniform_(param.data)\n",
    "      elif 'weight_hh' in name:\n",
    "        nn.init.orthogonal_(param.data)\n",
    "      elif 'bias' in name:\n",
    "        nn.init.constant_(param.data, 0)"
   ]
  },
  {
   "cell_type": "code",
   "execution_count": 2,
   "metadata": {},
   "outputs": [
    {
     "name": "stdout",
     "output_type": "stream",
     "text": [
      "学習済みベクトル利用単語数: 6790 / 8195\n"
     ]
    }
   ],
   "source": [
    "import os\n",
    "import numpy as np\n",
    "from dotenv import load_dotenv\n",
    "from gensim.models import KeyedVectors\n",
    "\n",
    "load_dotenv()\n",
    "FILE_DIR = os.getenv('FILE_DIR')\n",
    "model = KeyedVectors.load_word2vec_format(f\"{FILE_DIR}/GoogleNews-vectors-negative300.bin\", binary=True)\n",
    "\n",
    "VOCAB_SIZE = vocab_dim + 2\n",
    "EMB_SIZE = 300\n",
    "\n",
    "weights = np.zeros((VOCAB_SIZE, EMB_SIZE))\n",
    "words_in_pretrained = 0\n",
    "\n",
    "weights.shape\n",
    "\n",
    "target = df[df[\"COUNT\"] > 1].index.tolist()\n",
    "\n",
    "for i, word in enumerate(target):\n",
    "  try:\n",
    "    weights[i] = model[word]\n",
    "    words_in_pretrained += 1\n",
    "  except KeyError:\n",
    "    weights[i] = np.random.normal(scale=0.1, size=(EMB_SIZE,))\n",
    "  \n",
    "weights = torch.from_numpy(weights.astype((np.float32)))\n",
    "\n",
    "print(f'学習済みベクトル利用単語数: {words_in_pretrained} / {VOCAB_SIZE}')"
   ]
  },
  {
   "cell_type": "code",
   "execution_count": 3,
   "metadata": {},
   "outputs": [],
   "source": [
    "from torch.utils import data\n",
    "\n",
    "class NewsDataset(data.Dataset):\n",
    "  \"\"\"\n",
    "  newsのDatasetクラス\n",
    "  \n",
    "  Attributes\n",
    "  ----------------------------\n",
    "  X : データフレーム\n",
    "    単語ベクトルの平均をまとめたテンソル\n",
    "  y : テンソル\n",
    "    カテゴリをラベル化したテンソル\n",
    "  phase : 'train' or 'val'\n",
    "    学習か訓練かを設定する\n",
    "  \"\"\"\n",
    "  \n",
    "  def __init__(self, X, y, phase='train'):\n",
    "    self.X = X['TITLE']\n",
    "    self.y = y\n",
    "    self.phase = phase\n",
    "  \n",
    "  def __len__(self):\n",
    "    \"\"\"全データサイズを返す\"\"\"\n",
    "    return len(self.y)\n",
    "  \n",
    "  def __getitem__(self, idx):\n",
    "    \"\"\"idxに対応するテンソル形式のデータとラベルを取得\"\"\"\n",
    "    inputs = torch.tensor(tokenizer(self.X[idx]))\n",
    "    return inputs, self.y[idx]\n",
    "\n",
    "def category_to_label(category: str):\n",
    "  if 'b' in category:\n",
    "    return 0\n",
    "  elif 't' in category:\n",
    "    return 1\n",
    "  elif 'e' in category:\n",
    "    return 2\n",
    "  elif 'm' in category:\n",
    "    return 3\n",
    "  else:\n",
    "    return -1\n",
    "  \n",
    "def collate_fn(batch):\n",
    "  sequences = [x[0] for x in batch]\n",
    "  labels = torch.LongTensor([x[1] for x in batch])\n",
    "  x = torch.nn.utils.rnn.pad_sequence(sequences, batch_first=True)\n",
    "  return x, labels\n",
    "\n",
    "\n",
    "data_dir = \"../chapter06\"\n",
    "train = pd.read_csv(f\"{data_dir}/train.txt\", sep=\"\\t\", header=None, names=['CATEGORY', 'TITLE'])\n",
    "valid = pd.read_csv(f\"{data_dir}/valid.txt\", sep=\"\\t\", header=None, names=['CATEGORY', 'TITLE'])\n",
    "test = pd.read_csv(f\"{data_dir}/test.txt\", sep=\"\\t\", header=None, names=['CATEGORY', 'TITLE'])\n",
    "\n",
    "train_Y = torch.tensor(train[\"CATEGORY\"].map(category_to_label).values)\n",
    "valid_Y = torch.tensor(valid[\"CATEGORY\"].map(category_to_label).values)\n",
    "test_Y = torch.tensor(test[\"CATEGORY\"].map(category_to_label).values)\n",
    "\n",
    "train_dataset = NewsDataset(train, train_Y, phase='train')\n",
    "valid_dataset = NewsDataset(valid, valid_Y, phase='val')\n",
    "test_dataset = NewsDataset(test, test_Y, phase='val')\n",
    "\n",
    "batch_size = 64\n",
    "\n",
    "train_dataloader = data.DataLoader(train_dataset, batch_size=batch_size, shuffle=True, collate_fn=collate_fn)\n",
    "valid_dataloader = data.DataLoader(valid_dataset, batch_size=batch_size, shuffle=False, collate_fn=collate_fn)\n",
    "test_dataloader = data.DataLoader(test_dataset, batch_size=batch_size, shuffle=False, collate_fn=collate_fn)\n",
    "\n",
    "dataloader = {\n",
    "  \"train\": train_dataloader,\n",
    "  \"val\": valid_dataloader,\n",
    "  \"test\": test_dataloader,\n",
    "}"
   ]
  },
  {
   "cell_type": "code",
   "execution_count": 10,
   "metadata": {},
   "outputs": [],
   "source": [
    "from torch import optim\n",
    "\n",
    "\n",
    "class MyRNN(nn.Module):\n",
    "  def __init__(self, embedding_dim, hidden_dim, output_size, padding_idx, emb_weights, num_layers=3):\n",
    "    super(MyRNN, self).__init__()\n",
    "\n",
    "    self.embeddings = nn.Embedding.from_pretrained(emb_weights, padding_idx=padding_idx)\n",
    "    self.rnn = nn.RNN(embedding_dim, hidden_dim, num_layers, batch_first=True, bidirectional=True)\n",
    "    self.fc = nn.Linear(hidden_dim * 2, output_size)\n",
    "\n",
    "  def forward(self, x):\n",
    "    x = self.embeddings(x)\n",
    "    x, h_T = self.rnn(x)\n",
    "    x = x[:, -1, :]\n",
    "    x = self.fc(x)\n",
    "    pred = torch.softmax(x, dim=-1)\n",
    "    return pred\n",
    "  \n",
    "PADDING_SIZE = vocab_dim + 1\n",
    "net = MyRNN(300, 50, 4, PADDING_SIZE, weights)\n",
    "net.apply(init_weights)\n",
    "\n",
    "net.train()\n",
    "loss_fn = nn.CrossEntropyLoss()\n",
    "op = optim.SGD(net.parameters(), lr=0.1)"
   ]
  },
  {
   "cell_type": "code",
   "execution_count": 11,
   "metadata": {},
   "outputs": [
    {
     "name": "stdout",
     "output_type": "stream",
     "text": [
      "------\n",
      "Epoch 0/5\n"
     ]
    },
    {
     "name": "stderr",
     "output_type": "stream",
     "text": [
      "100%|██████████| 167/167 [01:36<00:00,  1.72it/s]\n"
     ]
    },
    {
     "name": "stdout",
     "output_type": "stream",
     "text": [
      "train loss: 1.2363731310368478, acc: 0.4927929639816284\n"
     ]
    },
    {
     "name": "stderr",
     "output_type": "stream",
     "text": [
      "100%|██████████| 21/21 [00:12<00:00,  1.66it/s]\n"
     ]
    },
    {
     "name": "stdout",
     "output_type": "stream",
     "text": [
      "train loss: 1.196171892617277, acc: 0.535179615020752\n",
      "------\n",
      "Epoch 1/5\n"
     ]
    },
    {
     "name": "stderr",
     "output_type": "stream",
     "text": [
      "100%|██████████| 167/167 [01:33<00:00,  1.78it/s]\n"
     ]
    },
    {
     "name": "stdout",
     "output_type": "stream",
     "text": [
      "train loss: 1.1792436732374654, acc: 0.5571883320808411\n"
     ]
    },
    {
     "name": "stderr",
     "output_type": "stream",
     "text": [
      "100%|██████████| 21/21 [00:12<00:00,  1.74it/s]\n"
     ]
    },
    {
     "name": "stdout",
     "output_type": "stream",
     "text": [
      "train loss: 1.1301102681074313, acc: 0.6077844500541687\n",
      "------\n",
      "Epoch 2/5\n"
     ]
    },
    {
     "name": "stderr",
     "output_type": "stream",
     "text": [
      "100%|██████████| 167/167 [01:31<00:00,  1.82it/s]\n"
     ]
    },
    {
     "name": "stdout",
     "output_type": "stream",
     "text": [
      "train loss: 1.1452478590372215, acc: 0.5930362939834595\n"
     ]
    },
    {
     "name": "stderr",
     "output_type": "stream",
     "text": [
      "100%|██████████| 21/21 [00:10<00:00,  1.93it/s]\n"
     ]
    },
    {
     "name": "stdout",
     "output_type": "stream",
     "text": [
      "train loss: 1.1118580859578298, acc: 0.6272454857826233\n",
      "------\n",
      "Epoch 3/5\n"
     ]
    },
    {
     "name": "stderr",
     "output_type": "stream",
     "text": [
      "100%|██████████| 167/167 [01:31<00:00,  1.83it/s]\n"
     ]
    },
    {
     "name": "stdout",
     "output_type": "stream",
     "text": [
      "train loss: 1.1242155403021523, acc: 0.6134406328201294\n"
     ]
    },
    {
     "name": "stderr",
     "output_type": "stream",
     "text": [
      "100%|██████████| 21/21 [00:10<00:00,  1.92it/s]\n"
     ]
    },
    {
     "name": "stdout",
     "output_type": "stream",
     "text": [
      "train loss: 1.136133408831979, acc: 0.602544903755188\n",
      "------\n",
      "Epoch 4/5\n"
     ]
    },
    {
     "name": "stderr",
     "output_type": "stream",
     "text": [
      "100%|██████████| 167/167 [01:30<00:00,  1.84it/s]\n"
     ]
    },
    {
     "name": "stdout",
     "output_type": "stream",
     "text": [
      "train loss: 1.1097684358666784, acc: 0.6298202872276306\n"
     ]
    },
    {
     "name": "stderr",
     "output_type": "stream",
     "text": [
      "100%|██████████| 21/21 [00:10<00:00,  1.94it/s]"
     ]
    },
    {
     "name": "stdout",
     "output_type": "stream",
     "text": [
      "train loss: 1.1086364791778747, acc: 0.632485032081604\n"
     ]
    },
    {
     "name": "stderr",
     "output_type": "stream",
     "text": [
      "\n"
     ]
    }
   ],
   "source": [
    "from tqdm import tqdm\n",
    "\n",
    "epochs = 5\n",
    "\n",
    "for i in range(epochs):\n",
    "  print(\"------\")\n",
    "  print(f\"Epoch {i}/{epochs}\")\n",
    "  \n",
    "  for phase in [\"train\", \"val\"]:\n",
    "    epoch_loss = 0.0\n",
    "    epoch_acc = 0.0\n",
    "    \n",
    "    if phase == \"train\":\n",
    "      net.train()\n",
    "    else:\n",
    "      net.eval()\n",
    "\n",
    "    for data, label in tqdm(dataloader[phase]):\n",
    "      op.zero_grad()\n",
    "\n",
    "      with torch.set_grad_enabled(phase == \"train\"):\n",
    "        outputs = net(data)\n",
    "        loss = loss_fn(outputs, label)\n",
    "        _, pred = torch.max(outputs, 1)\n",
    "\n",
    "        if phase == \"train\":\n",
    "          loss.backward()\n",
    "          op.step()\n",
    "\n",
    "        epoch_loss += loss.item() * data.size(0)\n",
    "        epoch_acc += torch.sum(pred == label.data)\n",
    "    \n",
    "    size = len(dataloader[phase].dataset)\n",
    "    print(f\"train loss: {epoch_loss / size}, acc: {epoch_acc / size}\")"
   ]
  }
 ],
 "metadata": {
  "kernelspec": {
   "display_name": "venv",
   "language": "python",
   "name": "python3"
  },
  "language_info": {
   "codemirror_mode": {
    "name": "ipython",
    "version": 3
   },
   "file_extension": ".py",
   "mimetype": "text/x-python",
   "name": "python",
   "nbconvert_exporter": "python",
   "pygments_lexer": "ipython3",
   "version": "3.12.3"
  }
 },
 "nbformat": 4,
 "nbformat_minor": 2
}
