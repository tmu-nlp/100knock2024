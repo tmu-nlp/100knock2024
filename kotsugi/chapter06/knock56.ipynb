{
 "cells": [
  {
   "cell_type": "code",
   "execution_count": 1,
   "metadata": {},
   "outputs": [
    {
     "name": "stdout",
     "output_type": "stream",
     "text": [
      "['m' 'b' 'b' ... 'b' 'e' 'b'] 0.9272744290527892\n",
      "['e' 'e' 'b' ... 'b' 'b' 'e'] 0.8786516853932584\n"
     ]
    }
   ],
   "source": [
    "from sklearn.metrics import classification_report\n",
    "from importnb import imports\n",
    "\n",
    "with imports(\"ipynb\"):\n",
    "  from knock54 import y_train_pred, y_train_true, y_test_pred, y_test_true"
   ]
  },
  {
   "cell_type": "code",
   "execution_count": 2,
   "metadata": {},
   "outputs": [
    {
     "name": "stdout",
     "output_type": "stream",
     "text": [
      "              precision    recall  f1-score   support\n",
      "\n",
      "           b       0.93      0.97      0.95      4548\n",
      "           e       0.92      0.99      0.95      4181\n",
      "           m       0.97      0.69      0.81       727\n",
      "           t       0.92      0.73      0.81      1228\n",
      "\n",
      "    accuracy                           0.93     10684\n",
      "   macro avg       0.93      0.84      0.88     10684\n",
      "weighted avg       0.93      0.93      0.92     10684\n",
      "\n"
     ]
    }
   ],
   "source": [
    "print(classification_report(y_train_true, y_train_pred))"
   ]
  },
  {
   "cell_type": "code",
   "execution_count": 3,
   "metadata": {},
   "outputs": [
    {
     "name": "stdout",
     "output_type": "stream",
     "text": [
      "              precision    recall  f1-score   support\n",
      "\n",
      "           b       0.88      0.92      0.90       534\n",
      "           e       0.89      0.96      0.92       568\n",
      "           m       0.86      0.51      0.64        87\n",
      "           t       0.84      0.62      0.72       146\n",
      "\n",
      "    accuracy                           0.88      1335\n",
      "   macro avg       0.87      0.75      0.79      1335\n",
      "weighted avg       0.88      0.88      0.87      1335\n",
      "\n"
     ]
    }
   ],
   "source": [
    "print(classification_report(y_test_true, y_test_pred))"
   ]
  }
 ],
 "metadata": {
  "kernelspec": {
   "display_name": "venv",
   "language": "python",
   "name": "python3"
  },
  "language_info": {
   "codemirror_mode": {
    "name": "ipython",
    "version": 3
   },
   "file_extension": ".py",
   "mimetype": "text/x-python",
   "name": "python",
   "nbconvert_exporter": "python",
   "pygments_lexer": "ipython3",
   "version": "3.12.3"
  }
 },
 "nbformat": 4,
 "nbformat_minor": 2
}
