{
 "cells": [
  {
   "cell_type": "code",
   "execution_count": 1,
   "metadata": {},
   "outputs": [
    {
     "name": "stdout",
     "output_type": "stream",
     "text": [
      "  CATEGORY                                              TITLE   10  100   11  \\\n",
      "0        m  UPDATE 1-Guinea haemorrhagic fever may have cr...  0.0  0.0  0.0   \n",
      "1        b  France's Orange won't carry Netflix on set-top...  0.0  0.0  0.0   \n",
      "2        b  UPDATE 3-Valeant shares fall on lowered 2014, ...  0.0  0.0  0.0   \n",
      "3        e  Dylan fan shells out $2MILLION for one-of-a-ki...  0.0  0.0  0.0   \n",
      "4        b  UPDATE 6-France meets Alstom bidders with pled...  0.0  0.0  0.0   \n",
      "\n",
      "    12   13  1300   14   15  ...  yields  york  you  young  your   yr  yuan  \\\n",
      "0  0.0  0.0   0.0  0.0  0.0  ...     0.0   0.0  0.0    0.0   0.0  0.0   0.0   \n",
      "1  0.0  0.0   0.0  0.0  0.0  ...     0.0   0.0  0.0    0.0   0.0  0.0   0.0   \n",
      "2  0.0  0.0   0.0  0.0  0.0  ...     0.0   0.0  0.0    0.0   0.0  0.0   0.0   \n",
      "3  0.0  0.0   0.0  0.0  0.0  ...     0.0   0.0  0.0    0.0   0.0  0.0   0.0   \n",
      "4  0.0  0.0   0.0  0.0  0.0  ...     0.0   0.0  0.0    0.0   0.0  0.0   0.0   \n",
      "\n",
      "   zac  zendaya  zone  \n",
      "0  0.0      0.0   0.0  \n",
      "1  0.0      0.0   0.0  \n",
      "2  0.0      0.0   0.0  \n",
      "3  0.0      0.0   0.0  \n",
      "4  0.0      0.0   0.0  \n",
      "\n",
      "[5 rows x 2374 columns]\n",
      "    10  100   11   12   13  1300   14   15   16   17  ...  yields  york  you  \\\n",
      "0  0.0  0.0  0.0  0.0  0.0   0.0  0.0  0.0  0.0  0.0  ...     0.0   0.0  0.0   \n",
      "1  0.0  0.0  0.0  0.0  0.0   0.0  0.0  0.0  0.0  0.0  ...     0.0   0.0  0.0   \n",
      "2  0.0  0.0  0.0  0.0  0.0   0.0  0.0  0.0  0.0  0.0  ...     0.0   0.0  0.0   \n",
      "3  0.0  0.0  0.0  0.0  0.0   0.0  0.0  0.0  0.0  0.0  ...     0.0   0.0  0.0   \n",
      "4  0.0  0.0  0.0  0.0  0.0   0.0  0.0  0.0  0.0  0.0  ...     0.0   0.0  0.0   \n",
      "\n",
      "   young  your   yr  yuan  zac  zendaya  zone  \n",
      "0    0.0   0.0  0.0   0.0  0.0      0.0   0.0  \n",
      "1    0.0   0.0  0.0   0.0  0.0      0.0   0.0  \n",
      "2    0.0   0.0  0.0   0.0  0.0      0.0   0.0  \n",
      "3    0.0   0.0  0.0   0.0  0.0      0.0   0.0  \n",
      "4    0.0   0.0  0.0   0.0  0.0      0.0   0.0  \n",
      "\n",
      "[5 rows x 2372 columns]\n",
      "0    m\n",
      "1    b\n",
      "2    b\n",
      "3    e\n",
      "4    b\n",
      "Name: CATEGORY, dtype: object\n",
      "['m' 'b' 'b' ... 'b' 'e' 'b'] 0.9272744290527892\n",
      "['e' 'e' 'b' ... 'b' 'b' 'e'] 0.8786516853932584\n"
     ]
    }
   ],
   "source": [
    "from importnb import imports\n",
    "\n",
    "with imports(\"ipynb\"):\n",
    "  from knock52 import lr\n",
    "  from knock54 import train_df"
   ]
  },
  {
   "cell_type": "code",
   "execution_count": 2,
   "metadata": {},
   "outputs": [],
   "source": [
    "import numpy as np\n",
    "\n",
    "feature_labels = train_df.columns [1:]\n",
    "feature_idx = -np.sum(lr.coef_, axis=0).argsort()\n",
    "desc_feature_labels = [feature_labels[i] for i in feature_idx]"
   ]
  },
  {
   "cell_type": "code",
   "execution_count": 3,
   "metadata": {},
   "outputs": [
    {
     "data": {
      "text/plain": [
       "['spotted',\n",
       " 'held',\n",
       " 'subscribers',\n",
       " 'boe',\n",
       " 'least',\n",
       " 'biotech',\n",
       " 'down',\n",
       " 'pace',\n",
       " 'storage',\n",
       " 'higher']"
      ]
     },
     "execution_count": 3,
     "metadata": {},
     "output_type": "execute_result"
    }
   ],
   "source": [
    "desc_feature_labels[:10]"
   ]
  },
  {
   "cell_type": "code",
   "execution_count": 4,
   "metadata": {},
   "outputs": [
    {
     "data": {
      "text/plain": [
       "['samsung',\n",
       " 'linked',\n",
       " 'hiv',\n",
       " 'murdoch',\n",
       " 'superman',\n",
       " 'potential',\n",
       " 'so',\n",
       " 'potter',\n",
       " 'studios',\n",
       " 'project']"
      ]
     },
     "execution_count": 4,
     "metadata": {},
     "output_type": "execute_result"
    }
   ],
   "source": [
    "desc_feature_labels[-10:]"
   ]
  }
 ],
 "metadata": {
  "kernelspec": {
   "display_name": "venv",
   "language": "python",
   "name": "python3"
  },
  "language_info": {
   "codemirror_mode": {
    "name": "ipython",
    "version": 3
   },
   "file_extension": ".py",
   "mimetype": "text/x-python",
   "name": "python",
   "nbconvert_exporter": "python",
   "pygments_lexer": "ipython3",
   "version": "3.12.3"
  }
 },
 "nbformat": 4,
 "nbformat_minor": 2
}
