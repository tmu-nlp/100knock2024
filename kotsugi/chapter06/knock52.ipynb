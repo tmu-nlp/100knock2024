{
 "cells": [
  {
   "cell_type": "code",
   "execution_count": 1,
   "metadata": {},
   "outputs": [
    {
     "name": "stdout",
     "output_type": "stream",
     "text": [
      "  CATEGORY                                              TITLE   10  100   11  \\\n",
      "0        m  UPDATE 1-Guinea haemorrhagic fever may have cr...  0.0  0.0  0.0   \n",
      "1        b  France's Orange won't carry Netflix on set-top...  0.0  0.0  0.0   \n",
      "2        b  UPDATE 3-Valeant shares fall on lowered 2014, ...  0.0  0.0  0.0   \n",
      "3        e  Dylan fan shells out $2MILLION for one-of-a-ki...  0.0  0.0  0.0   \n",
      "4        b  UPDATE 6-France meets Alstom bidders with pled...  0.0  0.0  0.0   \n",
      "\n",
      "    12   13  1300   14   15  ...  yields  york  you  young  your   yr  yuan  \\\n",
      "0  0.0  0.0   0.0  0.0  0.0  ...     0.0   0.0  0.0    0.0   0.0  0.0   0.0   \n",
      "1  0.0  0.0   0.0  0.0  0.0  ...     0.0   0.0  0.0    0.0   0.0  0.0   0.0   \n",
      "2  0.0  0.0   0.0  0.0  0.0  ...     0.0   0.0  0.0    0.0   0.0  0.0   0.0   \n",
      "3  0.0  0.0   0.0  0.0  0.0  ...     0.0   0.0  0.0    0.0   0.0  0.0   0.0   \n",
      "4  0.0  0.0   0.0  0.0  0.0  ...     0.0   0.0  0.0    0.0   0.0  0.0   0.0   \n",
      "\n",
      "   zac  zendaya  zone  \n",
      "0  0.0      0.0   0.0  \n",
      "1  0.0      0.0   0.0  \n",
      "2  0.0      0.0   0.0  \n",
      "3  0.0      0.0   0.0  \n",
      "4  0.0      0.0   0.0  \n",
      "\n",
      "[5 rows x 2374 columns]\n"
     ]
    }
   ],
   "source": [
    "import pandas as pd\n",
    "\n",
    "df = pd.read_csv(\"./train.feature.txt\")\n",
    "\n",
    "print(df.head())"
   ]
  },
  {
   "cell_type": "code",
   "execution_count": 2,
   "metadata": {},
   "outputs": [
    {
     "name": "stdout",
     "output_type": "stream",
     "text": [
      "    10  100   11   12   13  1300   14   15   16   17  ...  yields  york  you  \\\n",
      "0  0.0  0.0  0.0  0.0  0.0   0.0  0.0  0.0  0.0  0.0  ...     0.0   0.0  0.0   \n",
      "1  0.0  0.0  0.0  0.0  0.0   0.0  0.0  0.0  0.0  0.0  ...     0.0   0.0  0.0   \n",
      "2  0.0  0.0  0.0  0.0  0.0   0.0  0.0  0.0  0.0  0.0  ...     0.0   0.0  0.0   \n",
      "3  0.0  0.0  0.0  0.0  0.0   0.0  0.0  0.0  0.0  0.0  ...     0.0   0.0  0.0   \n",
      "4  0.0  0.0  0.0  0.0  0.0   0.0  0.0  0.0  0.0  0.0  ...     0.0   0.0  0.0   \n",
      "\n",
      "   young  your   yr  yuan  zac  zendaya  zone  \n",
      "0    0.0   0.0  0.0   0.0  0.0      0.0   0.0  \n",
      "1    0.0   0.0  0.0   0.0  0.0      0.0   0.0  \n",
      "2    0.0   0.0  0.0   0.0  0.0      0.0   0.0  \n",
      "3    0.0   0.0  0.0   0.0  0.0      0.0   0.0  \n",
      "4    0.0   0.0  0.0   0.0  0.0      0.0   0.0  \n",
      "\n",
      "[5 rows x 2372 columns]\n",
      "0    m\n",
      "1    b\n",
      "2    b\n",
      "3    e\n",
      "4    b\n",
      "Name: CATEGORY, dtype: object\n"
     ]
    }
   ],
   "source": [
    "x = df.iloc[:,2:]\n",
    "y = df.iloc[:,0]\n",
    "\n",
    "print(x.head())\n",
    "print(y.head())"
   ]
  },
  {
   "cell_type": "code",
   "execution_count": 3,
   "metadata": {},
   "outputs": [
    {
     "data": {
      "text/plain": [
       "['lr.pkl']"
      ]
     },
     "execution_count": 3,
     "metadata": {},
     "output_type": "execute_result"
    }
   ],
   "source": [
    "from sklearn.linear_model import LogisticRegression\n",
    "import joblib\n",
    "\n",
    "lr = LogisticRegression()\n",
    "lr.fit(x, y)\n",
    "joblib.dump(lr, 'lr.pkl', compress=True) "
   ]
  }
 ],
 "metadata": {
  "kernelspec": {
   "display_name": "venv",
   "language": "python",
   "name": "python3"
  },
  "language_info": {
   "codemirror_mode": {
    "name": "ipython",
    "version": 3
   },
   "file_extension": ".py",
   "mimetype": "text/x-python",
   "name": "python",
   "nbconvert_exporter": "python",
   "pygments_lexer": "ipython3",
   "version": "3.12.3"
  }
 },
 "nbformat": 4,
 "nbformat_minor": 2
}
