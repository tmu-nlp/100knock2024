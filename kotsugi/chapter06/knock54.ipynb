{
 "cells": [
  {
   "cell_type": "code",
   "execution_count": 1,
   "metadata": {},
   "outputs": [],
   "source": [
    "import pandas as pd\n",
    "from importnb import imports\n",
    "\n",
    "with imports(\"ipynb\"):\n",
    "  from knock53 import predict"
   ]
  },
  {
   "cell_type": "code",
   "execution_count": 2,
   "metadata": {},
   "outputs": [
    {
     "name": "stdout",
     "output_type": "stream",
     "text": [
      "['m' 'b' 'b' ... 'b' 'e' 'b'] 0.9272744290527892\n"
     ]
    }
   ],
   "source": [
    "train_df = pd.read_csv(\"./train.feature.txt\")\n",
    "x_train = train_df.iloc[:,2:]\n",
    "y_train_true = train_df.iloc[:,0]\n",
    "\n",
    "y_train_pred, accuracy = predict(x_train, y_train_true)\n",
    "\n",
    "print(y_train_pred, accuracy)"
   ]
  },
  {
   "cell_type": "code",
   "execution_count": 3,
   "metadata": {},
   "outputs": [
    {
     "name": "stdout",
     "output_type": "stream",
     "text": [
      "['e' 'e' 'b' ... 'b' 'b' 'e'] 0.8786516853932584\n"
     ]
    }
   ],
   "source": [
    "test_df = pd.read_csv(\"./test.feature.txt\")\n",
    "x_test = test_df.iloc[:,2:]\n",
    "y_test_true = test_df.iloc[:,0]\n",
    "\n",
    "y_test_pred, accuracy = predict(x_test, y_test_true)\n",
    "\n",
    "print(y_test_pred, accuracy)"
   ]
  }
 ],
 "metadata": {
  "kernelspec": {
   "display_name": "venv",
   "language": "python",
   "name": "python3"
  },
  "language_info": {
   "codemirror_mode": {
    "name": "ipython",
    "version": 3
   },
   "file_extension": ".py",
   "mimetype": "text/x-python",
   "name": "python",
   "nbconvert_exporter": "python",
   "pygments_lexer": "ipython3",
   "version": "3.12.3"
  }
 },
 "nbformat": 4,
 "nbformat_minor": 2
}
