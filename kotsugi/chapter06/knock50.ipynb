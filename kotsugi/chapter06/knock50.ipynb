{
 "cells": [
  {
   "cell_type": "code",
   "execution_count": 2,
   "metadata": {},
   "outputs": [],
   "source": [
    "import random\n",
    "\n",
    "target_publisher = [\n",
    "  \"Reuters\", \n",
    "  \"Huffington Post\", \n",
    "  \"Businessweek\", \n",
    "  \"Contactmusic.com\", \n",
    "  \"Daily Mail\",\n",
    "]\n",
    "\n",
    "data = []\n",
    "\n",
    "with open(\"./newsCorpora.csv\", \"r\") as f:\n",
    "  for line in f:\n",
    "    content = line.split(\"\\t\")\n",
    "    publisher = content[3]\n",
    "\n",
    "    if (publisher in target_publisher):\n",
    "      title = content[1]\n",
    "      category = content[4]\n",
    "\n",
    "      data.append(\"\\t\".join([category, title]))\n",
    "\n",
    "random.shuffle(data)"
   ]
  },
  {
   "cell_type": "code",
   "execution_count": 3,
   "metadata": {},
   "outputs": [],
   "source": [
    "data_size = len(data)\n",
    "train_max_idx = int(data_size * 0.80)\n",
    "train_data = data[:train_max_idx]\n",
    "\n",
    "with open(\"./train.txt\", \"w+\") as f:\n",
    "  for d in train_data:\n",
    "    f.write(f\"{d}\\n\")"
   ]
  },
  {
   "cell_type": "code",
   "execution_count": 4,
   "metadata": {},
   "outputs": [],
   "source": [
    "valid_max_idx = int((data_size - train_max_idx) * 0.50) + train_max_idx\n",
    "valid_data = data[train_max_idx:valid_max_idx]\n",
    "\n",
    "with open(\"./valid.txt\", \"w+\") as f:\n",
    "  for d in valid_data:\n",
    "    f.write(f\"{d}\\n\")"
   ]
  },
  {
   "cell_type": "code",
   "execution_count": 5,
   "metadata": {},
   "outputs": [],
   "source": [
    "test_data = data[valid_max_idx:-1]\n",
    "\n",
    "with open(\"./test.txt\", \"w+\") as f:\n",
    "  for d in test_data:\n",
    "    f.write(f\"{d}\\n\")"
   ]
  },
  {
   "cell_type": "code",
   "execution_count": 19,
   "metadata": {},
   "outputs": [],
   "source": [
    "import pandas as pd\n",
    "def count_categories(data):\n",
    "  df = pd.DataFrame(data).iloc[:,0].str.split('\\t', expand=True)\n",
    "  category = df.iloc[:,0]\n",
    "  return category.value_counts()"
   ]
  },
  {
   "cell_type": "code",
   "execution_count": 21,
   "metadata": {},
   "outputs": [
    {
     "name": "stdout",
     "output_type": "stream",
     "text": [
      "train: 0\n",
      "b    4548\n",
      "e    4181\n",
      "t    1228\n",
      "m     727\n",
      "Name: count, dtype: int64 data\n",
      "\n",
      "valid: 0\n",
      "e    545\n",
      "b    545\n",
      "t    150\n",
      "m     96\n",
      "Name: count, dtype: int64 data\n",
      "\n",
      "test: 0\n",
      "e    568\n",
      "b    534\n",
      "t    146\n",
      "m     87\n",
      "Name: count, dtype: int64 data\n",
      "\n"
     ]
    }
   ],
   "source": [
    "print(f\"train: {count_categories(train_data)} data\", end=\"\\n\\n\")\n",
    "print(f\"valid: {count_categories(valid_data)} data\", end=\"\\n\\n\")\n",
    "print(f\"test: {count_categories(test_data)} data\", end=\"\\n\\n\")"
   ]
  }
 ],
 "metadata": {
  "kernelspec": {
   "display_name": "venv",
   "language": "python",
   "name": "python3"
  },
  "language_info": {
   "codemirror_mode": {
    "name": "ipython",
    "version": 3
   },
   "file_extension": ".py",
   "mimetype": "text/x-python",
   "name": "python",
   "nbconvert_exporter": "python",
   "pygments_lexer": "ipython3",
   "version": "3.12.3"
  }
 },
 "nbformat": 4,
 "nbformat_minor": 2
}
