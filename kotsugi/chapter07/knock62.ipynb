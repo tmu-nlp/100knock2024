{
 "cells": [
  {
   "cell_type": "code",
   "execution_count": 1,
   "metadata": {},
   "outputs": [],
   "source": [
    "from importnb import imports\n",
    "\n",
    "with imports(\"ipynb\"):\n",
    "  from knock60 import model"
   ]
  },
  {
   "cell_type": "markdown",
   "metadata": {},
   "source": [
    "`model.most_similar`関数で，第一引数の単語とコサイン類似度が高い10語を出力"
   ]
  },
  {
   "cell_type": "code",
   "execution_count": 13,
   "metadata": {},
   "outputs": [],
   "source": [
    "result = model.most_similar(\"United_States\")"
   ]
  },
  {
   "cell_type": "code",
   "execution_count": 14,
   "metadata": {},
   "outputs": [
    {
     "name": "stdout",
     "output_type": "stream",
     "text": [
      "01: Unites_States      0.7877249121665955\n",
      "02: Untied_States      0.7541369795799255\n",
      "03: United_Sates       0.7400726079940796\n",
      "04: U.S.               0.7310774326324463\n",
      "05: theUnited_States   0.6404393315315247\n",
      "06: America            0.6178411841392517\n",
      "07: UnitedStates       0.6167312860488892\n",
      "08: Europe             0.6132988333702087\n",
      "09: countries          0.6044804453849792\n",
      "10: Canada             0.6019068956375122\n"
     ]
    }
   ],
   "source": [
    "for i, item in enumerate(result):\n",
    "  print(f\"{i+1:02}: {item[0].ljust(18)} {item[1]}\")"
   ]
  }
 ],
 "metadata": {
  "kernelspec": {
   "display_name": "venv",
   "language": "python",
   "name": "python3"
  },
  "language_info": {
   "codemirror_mode": {
    "name": "ipython",
    "version": 3
   },
   "file_extension": ".py",
   "mimetype": "text/x-python",
   "name": "python",
   "nbconvert_exporter": "python",
   "pygments_lexer": "ipython3",
   "version": "3.12.3"
  }
 },
 "nbformat": 4,
 "nbformat_minor": 2
}
