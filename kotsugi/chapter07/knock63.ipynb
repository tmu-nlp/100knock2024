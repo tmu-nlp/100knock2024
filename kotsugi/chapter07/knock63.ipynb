{
 "cells": [
  {
   "cell_type": "code",
   "execution_count": 1,
   "metadata": {},
   "outputs": [],
   "source": [
    "from importnb import imports\n",
    "\n",
    "with imports(\"ipynb\"):\n",
    "  from knock60 import model"
   ]
  },
  {
   "cell_type": "code",
   "execution_count": 2,
   "metadata": {},
   "outputs": [],
   "source": [
    "result = model.most_similar(positive=[\"Spain\", \"Athens\"], negative=[\"Madrid\"])"
   ]
  },
  {
   "cell_type": "code",
   "execution_count": 4,
   "metadata": {},
   "outputs": [
    {
     "name": "stdout",
     "output_type": "stream",
     "text": [
      "01: Greece                    0.6898481845855713\n",
      "02: Aristeidis_Grigoriadis    0.560684859752655\n",
      "03: Ioannis_Drymonakos        0.5552908778190613\n",
      "04: Greeks                    0.5450685620307922\n",
      "05: Ioannis_Christou          0.5400861501693726\n",
      "06: Hrysopiyi_Devetzi         0.5248444676399231\n",
      "07: Heraklio                  0.5207760334014893\n",
      "08: Athens_Greece             0.5168810486793518\n",
      "09: Lithuania                 0.5166866183280945\n",
      "10: Iraklion                  0.5146791934967041\n"
     ]
    }
   ],
   "source": [
    "for i, item in enumerate(result):\n",
    "  print(f\"{i+1:02}: {item[0].ljust(25)} {item[1]}\")"
   ]
  }
 ],
 "metadata": {
  "kernelspec": {
   "display_name": "venv",
   "language": "python",
   "name": "python3"
  },
  "language_info": {
   "codemirror_mode": {
    "name": "ipython",
    "version": 3
   },
   "file_extension": ".py",
   "mimetype": "text/x-python",
   "name": "python",
   "nbconvert_exporter": "python",
   "pygments_lexer": "ipython3",
   "version": "3.12.3"
  }
 },
 "nbformat": 4,
 "nbformat_minor": 2
}
