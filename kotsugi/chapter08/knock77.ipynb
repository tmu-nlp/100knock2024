{
 "cells": [
  {
   "cell_type": "code",
   "execution_count": 8,
   "metadata": {},
   "outputs": [],
   "source": [
    "import torch\n",
    "from torch.utils.data import TensorDataset, DataLoader\n",
    "\n",
    "torch.manual_seed(1)\n",
    "\n",
    "train_X = torch.load(\"./train_X.pt\")\n",
    "train_Y = torch.load(\"./train_Y.pt\")\n",
    "valid_X = torch.load(\"./valid_X.pt\")\n",
    "valid_Y = torch.load(\"./valid_Y.pt\")\n",
    "\n",
    "train_data = TensorDataset(train_X, train_Y)\n",
    "valid_data = TensorDataset(valid_X, valid_Y)"
   ]
  },
  {
   "cell_type": "code",
   "execution_count": 9,
   "metadata": {},
   "outputs": [],
   "source": [
    "from torch import nn\n",
    "\n",
    "# nn.Moduleを継承してモデルを作成\n",
    "class Perseptron(nn.Module):\n",
    "  def __init__(self, input_size, output_size) -> None:\n",
    "    super().__init__()\n",
    "\n",
    "    # nn.Linear: 全結合層を作成する\n",
    "    self.fc = nn.Linear(input_size, output_size, bias=False)\n",
    "\n",
    "    # 重み行列を正規分布に上書き\n",
    "    nn.init.normal_(self.fc.weight, 0.0, 1.0)\n",
    "\n",
    "  def forward(self, x):\n",
    "    return torch.softmax(self.fc(x), dim=-1)\n",
    "  \n",
    "model = Perseptron(train_X.size()[1], 4)\n",
    "model.load_state_dict(torch.load(\"./knock71.model.pt\"))\n",
    "loss_fn = nn.CrossEntropyLoss()"
   ]
  },
  {
   "cell_type": "code",
   "execution_count": 10,
   "metadata": {},
   "outputs": [],
   "source": [
    "from torch import optim\n",
    "\n",
    "op = optim.SGD(model.parameters(), lr=0.1)"
   ]
  },
  {
   "cell_type": "code",
   "execution_count": 11,
   "metadata": {},
   "outputs": [],
   "source": [
    "def calc(model, data, label):\n",
    "  size = len(data)\n",
    "  pred = model(data)\n",
    "  loss = loss_fn(pred, label)\n",
    "  accuracy = (pred.argmax(dim = 1) == label).sum().item() / size\n",
    "\n",
    "  return loss, accuracy"
   ]
  },
  {
   "cell_type": "code",
   "execution_count": 12,
   "metadata": {},
   "outputs": [
    {
     "name": "stdout",
     "output_type": "stream",
     "text": [
      "batch 1: 3.3115783255001587\n",
      "batch 2: 2.162783598199894\n",
      "batch 4: 1.1647682729002553\n",
      "batch 8: 0.6625867376002134\n",
      "batch 16: 0.3550213809001434\n",
      "batch 32: 0.22646925329972872\n",
      "batch 64: 0.20119026959946495\n",
      "batch 128: 0.12629914649951388\n"
     ]
    }
   ],
   "source": [
    "import time\n",
    "\n",
    "epochs = 10\n",
    "batches = [1, 2, 4, 8, 16, 32, 64, 128]\n",
    "losses = torch.zeros((2, epochs))\n",
    "accuracies = torch.zeros(2, epochs)\n",
    "\n",
    "for batch in batches:\n",
    "  train_dataloader = DataLoader(train_data, batch_size=batch, shuffle=True)\n",
    "  valid_dataloader = DataLoader(valid_data, batch_size=len(valid_data), shuffle=False)\n",
    "\n",
    "  start = time.perf_counter()\n",
    "  for i in range(epochs):\n",
    "    for j, (data, label) in enumerate(train_dataloader):\n",
    "      pred = model(data)\n",
    "      loss = loss_fn(pred, label)\n",
    "\n",
    "      op.zero_grad()\n",
    "      loss.backward()\n",
    "      op.step()\n",
    "  \n",
    "  end = time.perf_counter()\n",
    "\n",
    "  print(f\"batch {batch}: {(end - start)/epochs}\")"
   ]
  }
 ],
 "metadata": {
  "kernelspec": {
   "display_name": "venv",
   "language": "python",
   "name": "python3"
  },
  "language_info": {
   "codemirror_mode": {
    "name": "ipython",
    "version": 3
   },
   "file_extension": ".py",
   "mimetype": "text/x-python",
   "name": "python",
   "nbconvert_exporter": "python",
   "pygments_lexer": "ipython3",
   "version": "3.12.3"
  }
 },
 "nbformat": 4,
 "nbformat_minor": 2
}
