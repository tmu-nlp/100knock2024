{
 "cells": [
  {
   "cell_type": "code",
   "execution_count": 9,
   "metadata": {},
   "outputs": [],
   "source": [
    "import torch\n",
    "from torch.utils.data import TensorDataset, DataLoader\n",
    "\n",
    "torch.manual_seed(1)\n",
    "\n",
    "train_X = torch.load(\"./train_X.pt\")\n",
    "train_Y = torch.load(\"./train_Y.pt\")\n",
    "valid_X = torch.load(\"./valid_X.pt\")\n",
    "valid_Y = torch.load(\"./valid_Y.pt\")\n",
    "test_X = torch.load(\"./test_X.pt\")\n",
    "test_Y = torch.load(\"./test_Y.pt\")\n",
    "\n",
    "train_data = TensorDataset(train_X, train_Y)\n",
    "valid_data = TensorDataset(valid_X, valid_Y)"
   ]
  },
  {
   "cell_type": "code",
   "execution_count": 10,
   "metadata": {},
   "outputs": [],
   "source": [
    "from torch import nn\n",
    "\n",
    "class Perseptron(nn.Module):\n",
    "  def __init__(self, input_size, output_size) -> None:\n",
    "    super().__init__()\n",
    "\n",
    "    # nn.Linear: 全結合層を作成する\n",
    "    self.fc1 = nn.Linear(input_size, 100)\n",
    "    self.fc2 = nn.Linear(100, output_size)\n",
    "\n",
    "    # 重み行列を正規分布に上書き\n",
    "    nn.init.normal_(self.fc1.weight, 0.0, 1.0)\n",
    "    nn.init.normal_(self.fc2.weight, 0.0, 1.0)\n",
    "\n",
    "  def forward(self, x):\n",
    "    x = self.fc1(x)\n",
    "    x = self.fc2(x)\n",
    "    x = torch.softmax(x, dim=-1)\n",
    "    return x"
   ]
  },
  {
   "cell_type": "code",
   "execution_count": 11,
   "metadata": {},
   "outputs": [],
   "source": [
    "model = Perseptron(train_X.size()[1], 4)\n",
    "loss_fn = nn.CrossEntropyLoss()"
   ]
  },
  {
   "cell_type": "code",
   "execution_count": 12,
   "metadata": {},
   "outputs": [],
   "source": [
    "from torch import optim\n",
    "\n",
    "op = optim.SGD(model.parameters(), lr=0.1)"
   ]
  },
  {
   "cell_type": "code",
   "execution_count": 13,
   "metadata": {},
   "outputs": [],
   "source": [
    "train_dataloader = DataLoader(train_data, batch_size=64, shuffle=True)\n",
    "\n",
    "epochs = 250\n",
    "\n",
    "for i in range(epochs):\n",
    "    for j, (data, label) in enumerate(train_dataloader):\n",
    "      pred = model(data)\n",
    "      loss = loss_fn(pred, label)\n",
    "\n",
    "      op.zero_grad()\n",
    "      loss.backward()\n",
    "      op.step()"
   ]
  },
  {
   "cell_type": "code",
   "execution_count": 14,
   "metadata": {},
   "outputs": [
    {
     "data": {
      "text/plain": [
       "0.9150131037064769"
      ]
     },
     "execution_count": 14,
     "metadata": {},
     "output_type": "execute_result"
    }
   ],
   "source": [
    "pred = model(train_X)\n",
    "\n",
    "accuracy = (pred.argmax(dim = 1) == train_Y).sum().item()\n",
    "accuracy /= len(train_X)\n",
    "\n",
    "accuracy"
   ]
  },
  {
   "cell_type": "code",
   "execution_count": 15,
   "metadata": {},
   "outputs": [
    {
     "data": {
      "text/plain": [
       "0.8922155688622755"
      ]
     },
     "execution_count": 15,
     "metadata": {},
     "output_type": "execute_result"
    }
   ],
   "source": [
    "pred = model(valid_X)\n",
    "\n",
    "accuracy = (pred.argmax(dim = 1) == valid_Y).sum().item()\n",
    "accuracy /= len(valid_X)\n",
    "\n",
    "accuracy"
   ]
  },
  {
   "cell_type": "code",
   "execution_count": 16,
   "metadata": {},
   "outputs": [
    {
     "data": {
      "text/plain": [
       "0.8719101123595505"
      ]
     },
     "execution_count": 16,
     "metadata": {},
     "output_type": "execute_result"
    }
   ],
   "source": [
    "pred = model(test_X)\n",
    "\n",
    "accuracy = (pred.argmax(dim = 1) == test_Y).sum().item()\n",
    "accuracy /= len(test_X)\n",
    "\n",
    "accuracy"
   ]
  }
 ],
 "metadata": {
  "kernelspec": {
   "display_name": "venv",
   "language": "python",
   "name": "python3"
  },
  "language_info": {
   "codemirror_mode": {
    "name": "ipython",
    "version": 3
   },
   "file_extension": ".py",
   "mimetype": "text/x-python",
   "name": "python",
   "nbconvert_exporter": "python",
   "pygments_lexer": "ipython3",
   "version": "3.12.3"
  }
 },
 "nbformat": 4,
 "nbformat_minor": 2
}
