{
 "cells": [
  {
   "cell_type": "code",
   "execution_count": 1,
   "metadata": {},
   "outputs": [],
   "source": [
    "import pandas as pd\n",
    "\n",
    "data_dir = \"../chapter06\"\n",
    "train = pd.read_csv(f\"{data_dir}/train.txt\", sep=\"\\t\", header=None, names=['CATEGORY', 'TITLE'])\n",
    "valid = pd.read_csv(f\"{data_dir}/valid.txt\", sep=\"\\t\", header=None, names=['CATEGORY', 'TITLE'])\n",
    "test = pd.read_csv(f\"{data_dir}/test.txt\", sep=\"\\t\", header=None, names=['CATEGORY', 'TITLE'])"
   ]
  },
  {
   "cell_type": "code",
   "execution_count": 2,
   "metadata": {},
   "outputs": [],
   "source": [
    "import os\n",
    "from dotenv import load_dotenv\n",
    "from gensim.models import KeyedVectors\n",
    "\n",
    "load_dotenv()\n",
    "FILE_DIR = os.getenv('FILE_DIR')\n",
    "\n",
    "model = KeyedVectors.load_word2vec_format(f\"{FILE_DIR}/GoogleNews-vectors-negative300.bin\", binary=True)"
   ]
  },
  {
   "cell_type": "code",
   "execution_count": 3,
   "metadata": {},
   "outputs": [],
   "source": [
    "def category_to_label(category: str):\n",
    "  if 'b' in category:\n",
    "    return 0\n",
    "  elif 't' in category:\n",
    "    return 1\n",
    "  elif 'e' in category:\n",
    "    return 2\n",
    "  elif 'm' in category:\n",
    "    return 3\n",
    "  else:\n",
    "    return -1"
   ]
  },
  {
   "cell_type": "code",
   "execution_count": 4,
   "metadata": {},
   "outputs": [],
   "source": [
    "import re\n",
    "import spacy\n",
    "import numpy as np\n",
    "\n",
    "nlp = spacy.load(\"en_core_web_sm\", disable=(\"ner\", \"parser\"))\n",
    "\n",
    "def get_feature(text: str):\n",
    "    doc = nlp(text)\n",
    "    word_vectors = []\n",
    "\n",
    "    for token in doc:\n",
    "      try:\n",
    "        word = token.text.replace(\"\\n\", \"\")\n",
    "\n",
    "        code_regex = re.compile('[!\"#$%&\\'\\\\\\\\()*+,-./:;<=>?@[\\\\]^_`{|}~「」〔〕“”〈〉『』【】＆＊・（）＄＃＠。、？！｀＋￥％]')\n",
    "        word = code_regex.sub('', word)\n",
    "        if len(word.replace(' ', '')) == 0:\n",
    "          continue\n",
    "\n",
    "        vector = model.get_vector(word)\n",
    "        word_vectors.append(vector)\n",
    "\n",
    "      except:\n",
    "        continue\n",
    "\n",
    "      word_vectors_np = np.array(word_vectors)\n",
    "      word_vectors_avg = np.average(word_vectors_np, axis=0).tolist()\n",
    "\n",
    "    return word_vectors_avg"
   ]
  },
  {
   "cell_type": "code",
   "execution_count": 5,
   "metadata": {},
   "outputs": [],
   "source": [
    "import torch\n",
    "\n",
    "train_X = torch.tensor([get_feature(title) for title in train[\"TITLE\"]])\n",
    "valid_X = torch.tensor([get_feature(title) for title in valid[\"TITLE\"]])\n",
    "test_X = torch.tensor([get_feature(title) for title in test[\"TITLE\"]])\n",
    "\n",
    "torch.save(train_X, \"./train_X.pt\")\n",
    "torch.save(valid_X, \"./valid_X.pt\")\n",
    "torch.save(test_X, \"./test_X.pt\")"
   ]
  },
  {
   "cell_type": "code",
   "execution_count": 6,
   "metadata": {},
   "outputs": [],
   "source": [
    "train_Y = torch.tensor(train[\"CATEGORY\"].map(category_to_label).values)\n",
    "valid_Y = torch.tensor(valid[\"CATEGORY\"].map(category_to_label).values)\n",
    "test_Y = torch.tensor(test[\"CATEGORY\"].map(category_to_label).values)\n",
    "\n",
    "torch.save(train_Y, \"./train_Y.pt\")\n",
    "torch.save(valid_Y, \"./valid_Y.pt\")\n",
    "torch.save(test_Y, \"./test_Y.pt\")"
   ]
  }
 ],
 "metadata": {
  "kernelspec": {
   "display_name": "venv",
   "language": "python",
   "name": "python3"
  },
  "language_info": {
   "codemirror_mode": {
    "name": "ipython",
    "version": 3
   },
   "file_extension": ".py",
   "mimetype": "text/x-python",
   "name": "python",
   "nbconvert_exporter": "python",
   "pygments_lexer": "ipython3",
   "version": "3.12.3"
  }
 },
 "nbformat": 4,
 "nbformat_minor": 2
}
