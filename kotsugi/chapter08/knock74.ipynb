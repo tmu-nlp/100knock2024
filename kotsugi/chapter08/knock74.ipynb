{
 "cells": [
  {
   "cell_type": "code",
   "execution_count": 17,
   "metadata": {},
   "outputs": [],
   "source": [
    "import torch\n",
    "\n",
    "torch.manual_seed(1)\n",
    "\n",
    "train_X = torch.load(\"./train_X.pt\")\n",
    "train_Y = torch.load(\"./train_Y.pt\")\n",
    "test_X = torch.load(\"./test_X.pt\")\n",
    "test_Y = torch.load(\"./test_Y.pt\")"
   ]
  },
  {
   "cell_type": "code",
   "execution_count": 18,
   "metadata": {},
   "outputs": [],
   "source": [
    "from torch import nn\n",
    "\n",
    "# nn.Moduleを継承してモデルを作成\n",
    "class Perseptron(nn.Module):\n",
    "  def __init__(self, input_size, output_size) -> None:\n",
    "    super().__init__()\n",
    "\n",
    "    # nn.Linear: 全結合層を作成する\n",
    "    self.fc = nn.Linear(input_size, output_size, bias=False)\n",
    "\n",
    "    # 重み行列を正規分布に上書き\n",
    "    nn.init.normal_(self.fc.weight, 0.0, 1.0)\n",
    "\n",
    "  def forward(self, x):\n",
    "    return torch.softmax(self.fc(x), dim=-1)\n",
    "  \n",
    "model = Perseptron(train_X.size()[1], 4)\n",
    "model.load_state_dict(torch.load(\"./knock73.model.pt\"))\n",
    "loss_fn = nn.CrossEntropyLoss()"
   ]
  },
  {
   "cell_type": "code",
   "execution_count": 19,
   "metadata": {},
   "outputs": [
    {
     "data": {
      "text/plain": [
       "0.9392549606888806"
      ]
     },
     "execution_count": 19,
     "metadata": {},
     "output_type": "execute_result"
    }
   ],
   "source": [
    "pred = model(train_X)\n",
    "\n",
    "accuracy = (pred.argmax(dim = 1) == train_Y).sum().item()\n",
    "accuracy /= len(train_X)\n",
    "\n",
    "accuracy"
   ]
  },
  {
   "cell_type": "code",
   "execution_count": 20,
   "metadata": {},
   "outputs": [
    {
     "data": {
      "text/plain": [
       "0.8876404494382022"
      ]
     },
     "execution_count": 20,
     "metadata": {},
     "output_type": "execute_result"
    }
   ],
   "source": [
    "pred = model(test_X)\n",
    "\n",
    "accuracy = (pred.argmax(dim = 1) == test_Y).sum().item()\n",
    "accuracy /= len(test_X)\n",
    "\n",
    "accuracy"
   ]
  }
 ],
 "metadata": {
  "kernelspec": {
   "display_name": "venv",
   "language": "python",
   "name": "python3"
  },
  "language_info": {
   "codemirror_mode": {
    "name": "ipython",
    "version": 3
   },
   "file_extension": ".py",
   "mimetype": "text/x-python",
   "name": "python",
   "nbconvert_exporter": "python",
   "pygments_lexer": "ipython3",
   "version": "3.12.3"
  }
 },
 "nbformat": 4,
 "nbformat_minor": 2
}
