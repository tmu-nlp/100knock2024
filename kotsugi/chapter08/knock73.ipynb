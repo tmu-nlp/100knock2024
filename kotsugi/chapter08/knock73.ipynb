{
 "cells": [
  {
   "cell_type": "code",
   "execution_count": 1,
   "metadata": {},
   "outputs": [],
   "source": [
    "import torch\n",
    "from torch.utils.data import TensorDataset, DataLoader\n",
    "\n",
    "torch.manual_seed(1)\n",
    "train_X = torch.load(\"./train_X.pt\")\n",
    "train_Y = torch.load(\"./train_Y.pt\")\n",
    "\n",
    "train_data = TensorDataset(train_X, train_Y)\n",
    "train_dataloader = DataLoader(train_data, batch_size=1, shuffle=True)"
   ]
  },
  {
   "cell_type": "code",
   "execution_count": 2,
   "metadata": {},
   "outputs": [],
   "source": [
    "from torch import nn\n",
    "\n",
    "# nn.Moduleを継承してモデルを作成\n",
    "class Perseptron(nn.Module):\n",
    "  def __init__(self, input_size, output_size) -> None:\n",
    "    super().__init__()\n",
    "\n",
    "    # nn.Linear: 全結合層を作成する\n",
    "    self.fc = nn.Linear(input_size, output_size, bias=False)\n",
    "\n",
    "    # 重み行列を正規分布に上書き\n",
    "    nn.init.normal_(self.fc.weight, 0.0, 1.0)\n",
    "\n",
    "  def forward(self, x):\n",
    "    return torch.softmax(self.fc(x), dim=-1)\n",
    "  \n",
    "model = Perseptron(train_X.size()[1], 4)\n",
    "model.load_state_dict(torch.load(\"./knock71.model.pt\"))\n",
    "loss_fn = nn.CrossEntropyLoss()"
   ]
  },
  {
   "cell_type": "code",
   "execution_count": 3,
   "metadata": {},
   "outputs": [
    {
     "data": {
      "text/plain": [
       "Parameter containing:\n",
       "tensor([[ 0.8807,  2.5288,  0.8601,  ...,  0.4481,  0.1001,  1.5422],\n",
       "        [ 0.9785,  1.6087,  0.8545,  ...,  0.0863, -1.5734, -0.6372],\n",
       "        [-0.6044, -2.1389,  1.1721,  ..., -1.2481, -0.5696, -0.3201],\n",
       "        [ 0.4554, -1.5279, -1.8458,  ...,  0.8399,  0.3675, -0.1449]],\n",
       "       requires_grad=True)"
      ]
     },
     "execution_count": 3,
     "metadata": {},
     "output_type": "execute_result"
    }
   ],
   "source": [
    "model.fc.weight"
   ]
  },
  {
   "cell_type": "code",
   "execution_count": 4,
   "metadata": {},
   "outputs": [],
   "source": [
    "from torch import optim\n",
    "\n",
    "op = optim.SGD(model.parameters(), lr=0.1)"
   ]
  },
  {
   "cell_type": "code",
   "execution_count": 5,
   "metadata": {},
   "outputs": [
    {
     "data": {
      "text/plain": [
       "Parameter containing:\n",
       "tensor([[-0.3521,  2.4999, -0.9548,  ..., -1.6718,  5.2874, -1.8399],\n",
       "        [ 1.6600, -0.0357,  3.3315,  ...,  1.6676, -6.4627, -2.1711],\n",
       "        [ 1.7609, -0.6373, -1.4983,  ..., -2.8058, -1.0960,  0.7305],\n",
       "        [-1.3579, -1.3540,  0.1603,  ...,  2.9359,  0.6031,  3.7193]],\n",
       "       requires_grad=True)"
      ]
     },
     "execution_count": 5,
     "metadata": {},
     "output_type": "execute_result"
    }
   ],
   "source": [
    "epochs = 100\n",
    "\n",
    "for i in range(epochs):\n",
    "  for j, (data, label) in enumerate(train_dataloader):\n",
    "    pred = model(data)\n",
    "    loss = loss_fn(pred, label)\n",
    "\n",
    "    op.zero_grad()\n",
    "    loss.backward()\n",
    "    op.step()\n",
    "\n",
    "model.fc.weight"
   ]
  },
  {
   "cell_type": "code",
   "execution_count": 6,
   "metadata": {},
   "outputs": [],
   "source": [
    "torch.save(model.state_dict(), \"knock73.model.pt\")"
   ]
  }
 ],
 "metadata": {
  "kernelspec": {
   "display_name": "venv",
   "language": "python",
   "name": "python3"
  },
  "language_info": {
   "codemirror_mode": {
    "name": "ipython",
    "version": 3
   },
   "file_extension": ".py",
   "mimetype": "text/x-python",
   "name": "python",
   "nbconvert_exporter": "python",
   "pygments_lexer": "ipython3",
   "version": "3.12.3"
  }
 },
 "nbformat": 4,
 "nbformat_minor": 2
}
