{
 "cells": [
  {
   "cell_type": "code",
   "execution_count": 3,
   "metadata": {},
   "outputs": [],
   "source": [
    "\"\"\"\n",
    "cabochaを使用する際に文字化けしてしまい，こちら解決したので自分のやったことをメモしておきます!!\n",
    "課題点：cabochaの出力だけ文字化けしてしまう\n",
    "実施事項：cabochaの再インストール　，辞書をutf-8指定した上で再インストール，mecab辞書のアップデート\n",
    "https://taku910.github.io/cabocha/\n",
    "\n",
    "実施事項のどれが解決に繋がったのかはわからないのですが...\n",
    "こんな感じで解決しました!!参考までに...!!\n",
    "\"\"\"\n",
    "\n",
    "import CaboCha\n",
    "basepath = \"/Users/shirakawamomoko/Desktop/nlp100保存/chapter05/\"\n",
    "c = CaboCha.Parser()\n",
    "with open (basepath+\"/ai.ja.txt\",\"r\",encoding=\"utf-8\",errors=\"ignore\") as f_in, \\\n",
    "    open(basepath+\"ai.ja.txt.parsed\",\"w\",encoding=\"utf-8\",errors=\"ignore\")as f_out:\n",
    "    #errors=\"ignore\"：文字コードエラーで読めない文字だけスキップする\n",
    "    lines = f_in.readlines()\n",
    "    for l in lines:\n",
    "        #result =  c.parseToString(l)#1文ごとに形態素．\n",
    "        result =  c.parse(l)#1文ごとに形態素．\n",
    "        result = result.toString(CaboCha.FORMAT_LATTICE)\n",
    "        f_out.write(result)\n",
    "f_in.close()\n",
    "f_out.close()\n"
   ]
  },
  {
   "cell_type": "markdown",
   "metadata": {},
   "source": [
    "#!chcp 65001   \n",
    "#!whereis cabocha   \n",
    "#!./configure --with-charset=utf8   "
   ]
  }
 ],
 "metadata": {
  "interpreter": {
   "hash": "835e833e3fc08683878b4c51da562aefb7fad351900f35eb522834e1b1c3245e"
  },
  "kernelspec": {
   "display_name": "Python 3.9.16",
   "language": "python",
   "name": "python3"
  },
  "language_info": {
   "codemirror_mode": {
    "name": "ipython",
    "version": 3
   },
   "file_extension": ".py",
   "mimetype": "text/x-python",
   "name": "python",
   "nbconvert_exporter": "python",
   "pygments_lexer": "ipython3",
   "version": "3.9.16"
  },
  "orig_nbformat": 4
 },
 "nbformat": 4,
 "nbformat_minor": 2
}
