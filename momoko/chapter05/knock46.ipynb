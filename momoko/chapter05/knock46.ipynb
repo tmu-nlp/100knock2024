{
 "cells": [
  {
   "cell_type": "code",
   "execution_count": 1,
   "metadata": {},
   "outputs": [],
   "source": [
    "from importnb import imports\n",
    "with imports(\"ipynb\"):\n",
    "    import knock41\n",
    "\n",
    "verb_particles_list=[]\n",
    "\n",
    "for sentence in knock41.ai_phrase_dict:\n",
    "    for verb_kana in sentence:#chunks(e.g.){'morphs': ['人工', '知能'], 'dst': '17', 'srcs': ['なし'], 'pos': ['名詞', '名詞'], 'pos1': ['一般', '一般'], 'original': ['人工', '知能']}\n",
    "            for i in range(len(verb_kana[\"pos\"])):\n",
    "                if verb_kana[\"pos\"][i] == \"動詞\":\n",
    "                    for par in sentence:\n",
    "                        if verb_kana[\"dst\"] in par[\"srcs\"]:#もし動詞のdstがsrcsの中にいたら\n",
    "                            par_kana = par\n",
    "                            particles_list=[]\n",
    "                            bunsetu_list=[]#knock46の文節保存のため\n",
    "                            if \"助詞\" in par_kana[\"pos\"]:#もし助詞が入っていたら\n",
    "                                bunsetu_list.append(\"\\t\"+\"\".join(par_kana[\"morphs\"][no] if par_kana[\"pos\"][no] != \"記号\" else \"\" for no in range (len(par_kana[\"morphs\"]))))\n",
    "                                for p in range (len(par_kana[\"morphs\"])):\n",
    "                                    if par_kana[\"pos\"][p] == \"助詞\":\n",
    "                                        particles_list.append(\"\\t\"+par_kana[\"morphs\"][p])#「\\t助詞」の形でlistにappend\n",
    "                                particles = \"\".join(sorted(particles_list))#助詞たちを50音順に並び替え結合\n",
    "                                bunsetus = \"\".join(bunsetu_list)\n",
    "                                verb_particles_list.append(verb_kana[\"original\"][i]+\"\\t\"+particles+bunsetus+\"\\n\")#動詞は基本形なのでoriginal\n",
    "                    break#最左処理\n",
    "            \n",
    "with open (\"knock46.txt\",\"w\") as f:\n",
    "    for content in verb_particles_list:\n",
    "        f.writelines(content)"
   ]
  }
 ],
 "metadata": {
  "interpreter": {
   "hash": "835e833e3fc08683878b4c51da562aefb7fad351900f35eb522834e1b1c3245e"
  },
  "kernelspec": {
   "display_name": "Python 3.9.16",
   "language": "python",
   "name": "python3"
  },
  "language_info": {
   "codemirror_mode": {
    "name": "ipython",
    "version": 3
   },
   "file_extension": ".py",
   "mimetype": "text/x-python",
   "name": "python",
   "nbconvert_exporter": "python",
   "pygments_lexer": "ipython3",
   "version": "3.9.16"
  },
  "orig_nbformat": 4
 },
 "nbformat": 4,
 "nbformat_minor": 2
}
