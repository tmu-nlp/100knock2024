{
 "cells": [
  {
   "cell_type": "code",
   "execution_count": null,
   "metadata": {},
   "outputs": [],
   "source": [
    "from graphviz import Digraph\n",
    "from importnb import imports\n",
    "with imports(\"ipynb\"):\n",
    "    import knock41\n",
    "\n",
    "def to_make_ruraru_list(sentence):#sentence:「morphs,dst,srcs,pos」の辞書の1文分のリスト\n",
    "    for  num in range (len(sentence)):\n",
    "        clause = \"\".join(sentence[num][\"morphs\"][cl] if sentence[num][\"pos\"][cl] != \"記号\" else \"\" for cl in range (len(sentence[num][\"morphs\"])))#記号でなければmorphを連結\n",
    "        clause = str(num) +\"-\"+ clause#同じ文字列が来ると1つのものとされるので，ナンバリングをすることで差を作る\n",
    "        sentence[num][\"morphs\"] = clause\n",
    "    kakari_list=[]#(e.g.)'0-人工知能\\t34-研究分野とも', の1文についてlist\n",
    "    for ru in sentence:\n",
    "        for rareru in sentence:\n",
    "            if  ru[\"dst\"] in rareru[\"srcs\"]:#もしruのdstがrareruのsrcsにいたら\n",
    "                content = ru[\"morphs\"] + \"\\t\" + rareru[\"morphs\"]\n",
    "                kakari_list.append(content)\n",
    "\n",
    "    return kakari_list\n",
    "\n",
    "def to_make_graph(path,list):#path：pngの保存先パス　list：↑で作ったリスト\n",
    "    graph = Digraph(format=\"png\")\n",
    "    graph.attr('edge', fontname = 'IPAGothic')\n",
    "    for text in list:\n",
    "        text_sp = text.split(\"\\t\")\n",
    "        graph.node(text_sp[0])\n",
    "        graph.node(text_sp[1])\n",
    "        graph.edge(text_sp[0], text_sp[1])#係るノードから係られるノードに向かってエッジを追加\n",
    "        graph.render(path+\"/knock44\")#pngで出力する\n",
    "\n",
    "\n",
    "s = knock41.ai_phrase_dict[1]\n",
    "s_list = to_make_ruraru_list(s)\n",
    "to_make_graph(\"/Users/shirakawamomoko/Desktop/nlp100保存/chapter05\",s_list)"
   ]
  },
  {
   "cell_type": "code",
   "execution_count": null,
   "metadata": {},
   "outputs": [],
   "source": []
  }
 ],
 "metadata": {
  "interpreter": {
   "hash": "835e833e3fc08683878b4c51da562aefb7fad351900f35eb522834e1b1c3245e"
  },
  "kernelspec": {
   "display_name": "Python 3.9.16",
   "language": "python",
   "name": "python3"
  },
  "language_info": {
   "codemirror_mode": {
    "name": "ipython",
    "version": 3
   },
   "file_extension": ".py",
   "mimetype": "text/x-python",
   "name": "python",
   "nbconvert_exporter": "python",
   "pygments_lexer": "ipython3",
   "version": "3.9.16"
  },
  "orig_nbformat": 4
 },
 "nbformat": 4,
 "nbformat_minor": 2
}
