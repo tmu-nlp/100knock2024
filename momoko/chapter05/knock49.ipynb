{
 "cells": [
  {
   "cell_type": "code",
   "execution_count": 1,
   "metadata": {},
   "outputs": [],
   "source": [
    "#合ってないです，すみません...!!\n",
    "from importnb import imports\n",
    "with imports(\"ipynb\"):\n",
    "    import knock41\n",
    "\n",
    "count = 0\n",
    "all_list = []\n",
    "for sentence in knock41.ai_phrase_dict:\n",
    "    for first_chunk in sentence:\n",
    "        to_ne_list = []\n",
    "        if \"名詞\" in first_chunk[\"pos\"]:\n",
    "            # Join morphs and ignore symbols\n",
    "            for num in range (len(first_chunk[\"morphs\"])):\n",
    "                if first_chunk[\"pos\"][num]==\"名詞\":\n",
    "                    if count == 0:\n",
    "                        to_ne_list.append(\"X\")\n",
    "                        count += 1\n",
    "                    else:\n",
    "                        to_ne_list.append(\"Y\")\n",
    "                else:\n",
    "                    to_ne_list.append(\"\".join(first_chunk[\"morphs\"][num] for num in range(len(first_chunk[\"morphs\"])) if first_chunk[\"pos\"][num] != \"記号\"))\n",
    "                    dst = first_chunk[\"dst\"]\n",
    "                    #print(f\"最初のdst: {dst}\")\n",
    "                    while dst != -1:#dstが-1になったら探索を終了する\n",
    "                        next_found = False\n",
    "                        for next_chunk in sentence:\n",
    "                            if dst == next_chunk[\"clause\"]:\n",
    "                                to_ne_list.append(\"\".join(next_chunk[\"morphs\"][num] for num in range(len(next_chunk[\"morphs\"])) if next_chunk[\"pos\"][num] != \"記号\"))\n",
    "                                dst = next_chunk[\"dst\"]\n",
    "                                #print(f\"次のdst: {dst}\")\n",
    "                                next_found = True\n",
    "                                break\n",
    "                        if not next_found:\n",
    "                            break\n",
    "            all_list.append(\"->\".join(to_ne_list))\n",
    "\n",
    "with open (\"knock49.txt\",\"w\") as f:\n",
    "    for content in all_list:\n",
    "        f.writelines(content+\"\\n\")"
   ]
  },
  {
   "cell_type": "code",
   "execution_count": null,
   "metadata": {},
   "outputs": [],
   "source": []
  }
 ],
 "metadata": {
  "interpreter": {
   "hash": "835e833e3fc08683878b4c51da562aefb7fad351900f35eb522834e1b1c3245e"
  },
  "kernelspec": {
   "display_name": "Python 3.9.16",
   "language": "python",
   "name": "python3"
  },
  "language_info": {
   "codemirror_mode": {
    "name": "ipython",
    "version": 3
   },
   "file_extension": ".py",
   "mimetype": "text/x-python",
   "name": "python",
   "nbconvert_exporter": "python",
   "pygments_lexer": "ipython3",
   "version": "3.9.16"
  },
  "orig_nbformat": 4
 },
 "nbformat": 4,
 "nbformat_minor": 2
}
