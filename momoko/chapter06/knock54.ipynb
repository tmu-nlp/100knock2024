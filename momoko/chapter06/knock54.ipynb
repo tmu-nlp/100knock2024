{
 "cells": [
  {
   "cell_type": "code",
   "execution_count": 7,
   "metadata": {},
   "outputs": [
    {
     "name": "stderr",
     "output_type": "stream",
     "text": [
      "/Users/shirakawamomoko/anaconda3/envs/py38/lib/python3.9/site-packages/sklearn/linear_model/_logistic.py:458: ConvergenceWarning: lbfgs failed to converge (status=1):\n",
      "STOP: TOTAL NO. of ITERATIONS REACHED LIMIT.\n",
      "\n",
      "Increase the number of iterations (max_iter) or scale the data as shown in:\n",
      "    https://scikit-learn.org/stable/modules/preprocessing.html\n",
      "Please also refer to the documentation for alternative solver options:\n",
      "    https://scikit-learn.org/stable/modules/linear_model.html#logistic-regression\n",
      "  n_iter_i = _check_optimize_result(\n"
     ]
    },
    {
     "name": "stdout",
     "output_type": "stream",
     "text": [
      "trainデータ正解率:0.9940029985007496\n",
      "testデータ正解率:0.9122938530734632\n"
     ]
    }
   ],
   "source": [
    "from sklearn.metrics import accuracy_score\n",
    "from sklearn.linear_model import LogisticRegression\n",
    "import pandas as pd\n",
    "model = LogisticRegression() \n",
    "\n",
    "#予測するためのデータ\n",
    "x_train = pd.read_table(\"train.feature.txt\")\n",
    "x_test = pd.read_table(\"test.feature.txt\")\n",
    "\n",
    "#予測するデータに対する正解\n",
    "y_train = pd.read_table(\"train.txt\")[\"CATEGORY\"]\n",
    "y_test = pd.read_table(\"test.txt\")[\"CATEGORY\"]\n",
    "\n",
    "#モデルの重みを学習\n",
    "model.fit(x_train, y_train) \n",
    "\n",
    "#学習済機械学習モデルからcategoryを予測\n",
    "y_train_predicted = model.predict(x_train)\n",
    "y_test_predicted = model.predict(x_test)\n",
    "\n",
    "\n",
    "\n",
    "\n",
    "if __name__ == \"__main__\":#accuracy_score:モデルの予測精度を評価する為の関数\n",
    "    print(f\"trainデータ正解率:{accuracy_score(y_train,y_train_predicted)}\")\n",
    "    print(f\"testデータ正解率:{accuracy_score(y_test,y_test_predicted)}\")\n",
    "    \"\"\"\n",
    "    trainデータ正解率:0.9940029985007496\n",
    "    testデータ正解率:0.9122938530734632\n",
    "    \"\"\""
   ]
  },
  {
   "cell_type": "code",
   "execution_count": null,
   "metadata": {},
   "outputs": [],
   "source": []
  }
 ],
 "metadata": {
  "interpreter": {
   "hash": "835e833e3fc08683878b4c51da562aefb7fad351900f35eb522834e1b1c3245e"
  },
  "kernelspec": {
   "display_name": "Python 3.9.16",
   "language": "python",
   "name": "python3"
  },
  "language_info": {
   "codemirror_mode": {
    "name": "ipython",
    "version": 3
   },
   "file_extension": ".py",
   "mimetype": "text/x-python",
   "name": "python",
   "nbconvert_exporter": "python",
   "pygments_lexer": "ipython3",
   "version": "3.9.16"
  },
  "orig_nbformat": 4
 },
 "nbformat": 4,
 "nbformat_minor": 2
}
