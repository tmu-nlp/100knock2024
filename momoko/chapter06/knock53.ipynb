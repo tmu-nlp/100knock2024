{
 "cells": [
  {
   "cell_type": "code",
   "execution_count": 19,
   "metadata": {},
   "outputs": [],
   "source": [
    "import numpy as np\n",
    "import pandas as pd\n",
    "from sklearn.linear_model import LogisticRegression\n",
    "import pickle\n",
    "\n",
    "learning_rate = pickle.load(open(\"logistic_model.sav\",\"rb\"))#knock52で作った\n",
    "x_train = pd.read_table(\"train.feature.txt\",header=0)\n",
    "x_test = pd.read_table(\"test.feature.txt\",header=0)\n",
    "train = pd.read_table(\"train.txt\",header=0)\n",
    "test = pd.read_table(\"test.txt\",header=0)"
   ]
  },
  {
   "cell_type": "code",
   "execution_count": 20,
   "metadata": {},
   "outputs": [],
   "source": [
    "def prediction(learning_rate,data):#knock52で作った学習結果(learning_rate)からdataに対して予測をする．\n",
    "    \"\"\"\n",
    "    learning_rate:knock52で作成した学習結果\n",
    "    data:予測を行いたいデータ\n",
    "    \"\"\"\n",
    "    calc_predict = learning_rate.predict_proba(data)#予測確率の計算\n",
    "    #print(calc_predict)\n",
    "    max_predict = np.max(calc_predict,axis=1)#最も確率の高いものを指定\n",
    "    label_prediction = learning_rate.predict(data)#予測ラベルの取得\n",
    "\n",
    "    return max_predict,label_prediction"
   ]
  },
  {
   "cell_type": "code",
   "execution_count": 27,
   "metadata": {},
   "outputs": [],
   "source": [
    "#trainデータの正解率を計測\n",
    "train_predict = prediction(learning_rate,x_train)"
   ]
  },
  {
   "cell_type": "code",
   "execution_count": 28,
   "metadata": {},
   "outputs": [],
   "source": [
    "#testデータの正解率を計測\n",
    "test_predict = prediction(learning_rate,x_test)"
   ]
  },
  {
   "cell_type": "code",
   "execution_count": null,
   "metadata": {},
   "outputs": [],
   "source": []
  }
 ],
 "metadata": {
  "interpreter": {
   "hash": "835e833e3fc08683878b4c51da562aefb7fad351900f35eb522834e1b1c3245e"
  },
  "kernelspec": {
   "display_name": "Python 3.9.16",
   "language": "python",
   "name": "python3"
  },
  "language_info": {
   "codemirror_mode": {
    "name": "ipython",
    "version": 3
   },
   "file_extension": ".py",
   "mimetype": "text/x-python",
   "name": "python",
   "nbconvert_exporter": "python",
   "pygments_lexer": "ipython3",
   "version": "3.9.16"
  },
  "orig_nbformat": 4
 },
 "nbformat": 4,
 "nbformat_minor": 2
}
