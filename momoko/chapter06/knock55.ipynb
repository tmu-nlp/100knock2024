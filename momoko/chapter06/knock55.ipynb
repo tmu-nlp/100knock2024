{
 "cells": [
  {
   "cell_type": "code",
   "execution_count": 7,
   "metadata": {},
   "outputs": [
    {
     "name": "stdout",
     "output_type": "stream",
     "text": [
      "trainデータ混合行列\n",
      " [[4484    4    1   14]\n",
      " [   5 4215    0    0]\n",
      " [   6    3  702    0]\n",
      " [  26    5    0 1207]]\n",
      "testデータ混合行列\n",
      "  [[522  20   1  14]\n",
      " [  7 520   2   3]\n",
      " [ 12  15  83   3]\n",
      " [ 23  16   1  92]]\n"
     ]
    }
   ],
   "source": [
    "\"\"\"\n",
    "混合行列：クラスの分類結果をまとめたもの(ここでは)．\n",
    "大まかにこんな感じ↓※のついている部分だけ正解!!\n",
    "True_Positive*/False_Negative\n",
    "False_Positive/True_Neative*\n",
    "\"\"\"\n",
    "from sklearn.metrics import confusion_matrix\n",
    "from importnb import imports\n",
    "with imports(\"ipynb\"):\n",
    "    import knock54\n",
    "\n",
    "\n",
    "print(f'trainデータ混合行列\\n {confusion_matrix(knock54.y_train, knock54.y_train_predicted)}')\n",
    "print(f'testデータ混合行列\\n  {confusion_matrix(knock54.y_test, knock54.y_test_predicted)}')"
   ]
  },
  {
   "cell_type": "code",
   "execution_count": null,
   "metadata": {},
   "outputs": [],
   "source": []
  }
 ],
 "metadata": {
  "interpreter": {
   "hash": "835e833e3fc08683878b4c51da562aefb7fad351900f35eb522834e1b1c3245e"
  },
  "kernelspec": {
   "display_name": "Python 3.9.16",
   "language": "python",
   "name": "python3"
  },
  "language_info": {
   "codemirror_mode": {
    "name": "ipython",
    "version": 3
   },
   "file_extension": ".py",
   "mimetype": "text/x-python",
   "name": "python",
   "nbconvert_exporter": "python",
   "pygments_lexer": "ipython3",
   "version": "3.9.16"
  },
  "orig_nbformat": 4
 },
 "nbformat": 4,
 "nbformat_minor": 2
}
