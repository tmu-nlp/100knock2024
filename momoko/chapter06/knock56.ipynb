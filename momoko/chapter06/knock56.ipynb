{
 "cells": [
  {
   "cell_type": "code",
   "execution_count": 1,
   "metadata": {},
   "outputs": [
    {
     "name": "stderr",
     "output_type": "stream",
     "text": [
      "/Users/shirakawamomoko/anaconda3/envs/py38/lib/python3.9/site-packages/sklearn/linear_model/_logistic.py:458: ConvergenceWarning: lbfgs failed to converge (status=1):\n",
      "STOP: TOTAL NO. of ITERATIONS REACHED LIMIT.\n",
      "\n",
      "Increase the number of iterations (max_iter) or scale the data as shown in:\n",
      "    https://scikit-learn.org/stable/modules/preprocessing.html\n",
      "Please also refer to the documentation for alternative solver options:\n",
      "    https://scikit-learn.org/stable/modules/linear_model.html#logistic-regression\n",
      "  n_iter_i = _check_optimize_result(\n"
     ]
    },
    {
     "name": "stdout",
     "output_type": "stream",
     "text": [
      "trainデータ正解率:0.9940029985007496\n",
      "testデータ正解率:0.9122938530734632\n",
      "             適合率       再現率     F1スコア\n",
      "b       0.925532  0.937163  0.931311\n",
      "e       0.910683  0.977444  0.942883\n",
      "t       0.954023  0.734513      0.83\n",
      "m       0.821429   0.69697  0.754098\n",
      "マイクロ平均  0.912294  0.912294  0.912294\n",
      "マクロ平均   0.902917  0.836522  0.864573\n"
     ]
    }
   ],
   "source": [
    "\"\"\"\n",
    "参考:https://www.codexa.net/ml-evaluation-cls/\n",
    "参考:https://datawokagaku.com/multiclass_roc/#macromicro\n",
    "\n",
    "適合率:カテゴリbだと予測したもののうち,実際にカテゴリbであるものの割合\n",
    "再現率:実際にカテゴリbであるもののうち,正しくカテゴリbと予測できたものの割合\n",
    "F1スコア:対照的な両者の特徴をバランス良く含んでいる指標\n",
    "マクロ平均：クラスレベルでの平均．クラス数で割る\n",
    "マイクロ平均：データレベルでの平均．データ数で割る\n",
    "\"\"\"\n",
    "\n",
    "import pandas as pd\n",
    "from sklearn.metrics import precision_score, recall_score, f1_score\n",
    "from importnb import imports\n",
    "with imports(\"ipynb\"):\n",
    "    import knock54 as k54\n",
    "\n",
    "#↓に計算結果をまとめていく\n",
    "df = pd.DataFrame(columns=[\"適合率\",\"再現率\",\"F1スコア\"],\\\n",
    "                    index=[\"b\",\"e\",\"t\",\"m\", \"マイクロ平均\",\"マクロ平均\"])\n",
    "\n",
    "df.loc[\"b\":\"m\",\"適合率\"] = precision_score(k54.y_test,k54.y_test_predicted,average=None)\n",
    "df.loc[\"b\":\"m\",\"再現率\"] = recall_score(k54.y_test,k54.y_test_predicted,average=None)\n",
    "df.loc[\"b\":\"m\",\"F1スコア\"] = f1_score(k54.y_test,k54.y_test_predicted,average=None)\n",
    "\n",
    "df.loc[\"マイクロ平均\",:] = [precision_score(k54.y_test, k54.y_test_predicted, average=\"micro\"), \\\n",
    "                            recall_score(k54.y_test, k54.y_test_predicted, average=\"micro\"), \\\n",
    "                            f1_score(k54.y_test, k54.y_test_predicted, average=\"micro\")]\n",
    "df.loc[\"マクロ平均\",:] = [precision_score(k54.y_test, k54.y_test_predicted, average=\"macro\"), \\\n",
    "                            recall_score(k54.y_test, k54.y_test_predicted, average=\"macro\"), \\\n",
    "                            f1_score(k54.y_test, k54.y_test_predicted, average=\"macro\")]\n",
    "\n",
    "print(df)\n",
    "\"\"\"\n",
    "        適合率       再現率     F1スコア\n",
    "b       0.925532  0.937163  0.931311\n",
    "e       0.910683  0.977444  0.942883\n",
    "t       0.954023  0.734513      0.83\n",
    "m       0.821429   0.69697  0.754098\n",
    "マイクロ平均  0.912294  0.912294  0.912294\n",
    "マクロ平均   0.902917  0.836522  0.864573\n",
    "\"\"\"\n",
    "\n"
   ]
  }
 ],
 "metadata": {
  "interpreter": {
   "hash": "835e833e3fc08683878b4c51da562aefb7fad351900f35eb522834e1b1c3245e"
  },
  "kernelspec": {
   "display_name": "Python 3.9.16",
   "language": "python",
   "name": "python3"
  },
  "language_info": {
   "codemirror_mode": {
    "name": "ipython",
    "version": 3
   },
   "file_extension": ".py",
   "mimetype": "text/x-python",
   "name": "python",
   "nbconvert_exporter": "python",
   "pygments_lexer": "ipython3",
   "version": "3.9.16"
  },
  "orig_nbformat": 4
 },
 "nbformat": 4,
 "nbformat_minor": 2
}
