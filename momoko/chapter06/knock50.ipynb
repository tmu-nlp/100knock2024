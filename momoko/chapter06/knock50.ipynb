{
 "cells": [
  {
   "cell_type": "code",
   "execution_count": 2,
   "metadata": {},
   "outputs": [
    {
     "name": "stdout",
     "output_type": "stream",
     "text": [
      "学習データ\n",
      " b    4503\n",
      "e    4220\n",
      "t    1238\n",
      "m     711\n",
      "Name: CATEGORY, dtype: int64\n",
      "検証データ\n",
      " b    567\n",
      "e    527\n",
      "t    154\n",
      "m     86\n",
      "Name: CATEGORY, dtype: int64\n",
      "評価データ\n",
      " b    557\n",
      "e    532\n",
      "t    132\n",
      "m    113\n",
      "Name: CATEGORY, dtype: int64\n"
     ]
    }
   ],
   "source": [
    "import shutil\n",
    "import pandas as pd\n",
    "from sklearn.model_selection import train_test_split\n",
    "\n",
    "#zipの解凍\n",
    "shutil.unpack_archive('news+aggregator.zip')\n",
    "\n",
    "#\"publisher\"が含まれるのが\"newsCorpora.csv\"．タブ区切り形式．\n",
    "df_news = pd.read_table(\"newsCorpora.csv\",header=None,names=[\"ID\",\"TITLE\",\"URL\",\"PUBLISHER\",\"CATEGORY\",\"STORY\",\"HOSTNAME\",\"TIMESTAMP\"])\n",
    "\n",
    "#抽出条件にマッチする事例の\"TITLE\"とCATEGORY\"を抽出する．\n",
    "l_publisher = [\"Reuters\", \"Huffington Post\", \"Businessweek\", \"Contactmusic.com\", \"Daily Mail\"]\n",
    "df_ex = df_news.loc[df_news[\"PUBLISHER\"].isin(l_publisher),[\"TITLE\",\"CATEGORY\"]]\n",
    "\n",
    "#事例をランダムに並び替えて分割\n",
    "df_train,df_not_train = train_test_split(df_ex, test_size=0.2)#学習データ:80%，それ以外:20%\n",
    "df_valid,df_test = train_test_split(df_not_train,test_size=0.5)#検証データ，評価データ各50%\n",
    "\n",
    "#タブ区切り形式でtxt出力\n",
    "df_train.to_csv(\"train.txt\",sep=\"\\t\",index=False)\n",
    "df_valid.to_csv(\"valid.txt\",sep=\"\\t\",index=False)\n",
    "df_test.to_csv(\"test.txt\",sep=\"\\t\",index=False)\n",
    "\n",
    "#各カテゴリの事例数\n",
    "print(\"学習データ\\n\",df_train[\"CATEGORY\"].value_counts())\n",
    "print(\"検証データ\\n\",df_valid[\"CATEGORY\"].value_counts())\n",
    "print(\"評価データ\\n\",df_test[\"CATEGORY\"].value_counts())"
   ]
  },
  {
   "cell_type": "code",
   "execution_count": 5,
   "metadata": {},
   "outputs": [
    {
     "name": "stdout",
     "output_type": "stream",
     "text": [
      "合計\n",
      " 13340\n",
      "学習データ\n",
      " 10672\n",
      "検証データ\n",
      " 1334\n",
      "評価データ\n",
      " 1334\n"
     ]
    }
   ],
   "source": [
    "print(\"合計\\n\",len(df_ex))\n",
    "print(\"学習データ\\n\",len(df_train[\"CATEGORY\"]))\n",
    "print(\"検証データ\\n\",len(df_valid[\"CATEGORY\"]))\n",
    "print(\"評価データ\\n\",len(df_test[\"CATEGORY\"]))"
   ]
  },
  {
   "cell_type": "code",
   "execution_count": null,
   "metadata": {},
   "outputs": [],
   "source": []
  }
 ],
 "metadata": {
  "interpreter": {
   "hash": "835e833e3fc08683878b4c51da562aefb7fad351900f35eb522834e1b1c3245e"
  },
  "kernelspec": {
   "display_name": "Python 3.9.16",
   "language": "python",
   "name": "python3"
  },
  "language_info": {
   "codemirror_mode": {
    "name": "ipython",
    "version": 3
   },
   "file_extension": ".py",
   "mimetype": "text/x-python",
   "name": "python",
   "nbconvert_exporter": "python",
   "pygments_lexer": "ipython3",
   "version": "3.9.16"
  },
  "orig_nbformat": 4
 },
 "nbformat": 4,
 "nbformat_minor": 2
}
