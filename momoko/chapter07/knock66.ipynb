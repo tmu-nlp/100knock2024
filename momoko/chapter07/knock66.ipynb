{
 "cells": [
  {
   "cell_type": "code",
   "execution_count": 41,
   "metadata": {},
   "outputs": [],
   "source": [
    "import pickle\n",
    "import pandas as pd\n",
    "from gensim.models import KeyedVectors\n",
    "from scipy.stats import spearmanr\n",
    "\n",
    "with open (\"knock60.pkl\",\"rb\") as f:\n",
    "    model = pickle.load(f)"
   ]
  },
  {
   "cell_type": "markdown",
   "metadata": {},
   "source": [
    "スピアマンの順位相関係数    \n",
    "2変数間にどの程度，順位づけの直線関係があるか調べる際に使う分析手段．"
   ]
  },
  {
   "cell_type": "code",
   "execution_count": 52,
   "metadata": {},
   "outputs": [
    {
     "name": "stdout",
     "output_type": "stream",
     "text": [
      "スピアマン相関係数:0.7000166486272194\n"
     ]
    }
   ],
   "source": [
    "def calc_sim(row):\n",
    "    try:\n",
    "        return model.similarity(row[\"Word 1\"],row[\"Word 2\"])\n",
    "    except ValueError:\n",
    "        return None\n",
    "\n",
    "df = pd.read_csv(\"./wordsim353/combined.csv\")\n",
    "df[\"sim\"] = df.apply(calc_sim,axis=1)\n",
    "spearman,p_val = spearmanr(df[\"sim\"],df[\"Human (mean)\"])\n",
    "\n",
    "print(f\"スピアマン相関係数:{spearman}\")"
   ]
  }
 ],
 "metadata": {
  "kernelspec": {
   "display_name": ".venv",
   "language": "python",
   "name": "python3"
  },
  "language_info": {
   "codemirror_mode": {
    "name": "ipython",
    "version": 3
   },
   "file_extension": ".py",
   "mimetype": "text/x-python",
   "name": "python",
   "nbconvert_exporter": "python",
   "pygments_lexer": "ipython3",
   "version": "3.11.9"
  }
 },
 "nbformat": 4,
 "nbformat_minor": 2
}
