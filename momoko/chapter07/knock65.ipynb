{
 "cells": [
  {
   "cell_type": "code",
   "execution_count": 9,
   "metadata": {},
   "outputs": [
    {
     "name": "stdout",
     "output_type": "stream",
     "text": [
      "意味的アナロジーの正解率：0.7308602999210734\n",
      "文法的アナロジーの正解率：0.7400468384074942\n"
     ]
    }
   ],
   "source": [
    "import pandas as pd\n",
    "\n",
    "df_sem_all = pd.read_table(\"64_semantic.txt\",names=[\"word0\",\"word1\",\"word2\",\"word3\",\"pred_word\",\"quantitiy\"])\n",
    "df_gra_all = pd.read_table(\"64_grammatical.txt\",names=[\"word0\",\"word1\",\"word2\",\"word3\",\"pred_word\",\"quantitiy\"])\n",
    "\n",
    "#↑のdataframeから正解している部分だけ抽出する\n",
    "df_sem_true = df_sem_all[df_sem_all[\"word3\"]==df_sem_all[\"pred_word\"]]\n",
    "df_gra_true = df_gra_all[df_gra_all[\"word3\"]==df_gra_all[\"pred_word\"]]\n",
    "\n",
    "sem_par_correct = len(df_sem_true)/len(df_sem_all) if (len(df_sem_all))>0 else 0\n",
    "gra_par_correct = len(df_gra_true)/len(df_gra_all) if (len(df_gra_all))>0 else 0\n",
    "\n",
    "#semとgraそれぞれの正解率の計算をする\n",
    "print(f\"意味的アナロジーの正解率：{sem_par_correct}\")\n",
    "print(f\"文法的アナロジーの正解率：{gra_par_correct}\")"
   ]
  },
  {
   "cell_type": "code",
   "execution_count": null,
   "metadata": {},
   "outputs": [],
   "source": []
  }
 ],
 "metadata": {
  "kernelspec": {
   "display_name": ".venv",
   "language": "python",
   "name": "python3"
  },
  "language_info": {
   "codemirror_mode": {
    "name": "ipython",
    "version": 3
   },
   "file_extension": ".py",
   "mimetype": "text/x-python",
   "name": "python",
   "nbconvert_exporter": "python",
   "pygments_lexer": "ipython3",
   "version": "3.11.9"
  }
 },
 "nbformat": 4,
 "nbformat_minor": 2
}
