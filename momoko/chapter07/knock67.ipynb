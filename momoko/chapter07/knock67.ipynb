{
 "cells": [
  {
   "cell_type": "code",
   "execution_count": 32,
   "metadata": {},
   "outputs": [],
   "source": [
    "import pandas as pd\n",
    "import numpy as np\n",
    "from gensim.models import KeyedVectors\n",
    "from sklearn.cluster import KMeans\n",
    "import pickle\n",
    "import re\n",
    "import nltk\n",
    "\n",
    "with open(\"knock60.pkl\", \"rb\") as f:\n",
    "    model = pickle.load(f)"
   ]
  },
  {
   "cell_type": "code",
   "execution_count": 33,
   "metadata": {},
   "outputs": [
    {
     "data": {
      "text/html": [
       "<div>\n",
       "<style scoped>\n",
       "    .dataframe tbody tr th:only-of-type {\n",
       "        vertical-align: middle;\n",
       "    }\n",
       "\n",
       "    .dataframe tbody tr th {\n",
       "        vertical-align: top;\n",
       "    }\n",
       "\n",
       "    .dataframe thead th {\n",
       "        text-align: right;\n",
       "    }\n",
       "</style>\n",
       "<table border=\"1\" class=\"dataframe\">\n",
       "  <thead>\n",
       "    <tr style=\"text-align: right;\">\n",
       "      <th></th>\n",
       "      <th>日本語名称</th>\n",
       "      <th>英語名称</th>\n",
       "      <th>２文字コード</th>\n",
       "    </tr>\n",
       "  </thead>\n",
       "  <tbody>\n",
       "    <tr>\n",
       "      <th>0</th>\n",
       "      <td>アイスランド共和国</td>\n",
       "      <td>Iceland</td>\n",
       "      <td>IS</td>\n",
       "    </tr>\n",
       "    <tr>\n",
       "      <th>1</th>\n",
       "      <td>アイルランド</td>\n",
       "      <td>Ireland</td>\n",
       "      <td>IE</td>\n",
       "    </tr>\n",
       "    <tr>\n",
       "      <th>2</th>\n",
       "      <td>アゼルバイジャン共和国</td>\n",
       "      <td>Azerbaijan</td>\n",
       "      <td>AZ</td>\n",
       "    </tr>\n",
       "    <tr>\n",
       "      <th>3</th>\n",
       "      <td>アフガニスタン</td>\n",
       "      <td>Afghanistan</td>\n",
       "      <td>AF</td>\n",
       "    </tr>\n",
       "    <tr>\n",
       "      <th>4</th>\n",
       "      <td>アメリカ合衆国</td>\n",
       "      <td>United States of America</td>\n",
       "      <td>US</td>\n",
       "    </tr>\n",
       "  </tbody>\n",
       "</table>\n",
       "</div>"
      ],
      "text/plain": [
       "         日本語名称                      英語名称 ２文字コード\n",
       "0    アイスランド共和国                   Iceland     IS\n",
       "1       アイルランド                   Ireland     IE\n",
       "2  アゼルバイジャン共和国                Azerbaijan     AZ\n",
       "3      アフガニスタン               Afghanistan     AF\n",
       "4      アメリカ合衆国  United States of America     US"
      ]
     },
     "execution_count": 33,
     "metadata": {},
     "output_type": "execute_result"
    }
   ],
   "source": [
    "#国名取得：https://www.jpo.go.jp/system/patent/pct/tetuzuki/document/kuni-meisho/kuni-meisho-ichiran.pdf\n",
    "df = pd.read_table(\"kuni-meisho-ichiran.csv\",sep=\",\",encoding=\"shift-jis\")\n",
    "df = df.drop(\"Unnamed: 3\",axis=1)#空白列が追加されちゃったので削除\n",
    "df.head()"
   ]
  },
  {
   "cell_type": "code",
   "execution_count": 34,
   "metadata": {},
   "outputs": [
    {
     "data": {
      "text/html": [
       "<div>\n",
       "<style scoped>\n",
       "    .dataframe tbody tr th:only-of-type {\n",
       "        vertical-align: middle;\n",
       "    }\n",
       "\n",
       "    .dataframe tbody tr th {\n",
       "        vertical-align: top;\n",
       "    }\n",
       "\n",
       "    .dataframe thead th {\n",
       "        text-align: right;\n",
       "    }\n",
       "</style>\n",
       "<table border=\"1\" class=\"dataframe\">\n",
       "  <thead>\n",
       "    <tr style=\"text-align: right;\">\n",
       "      <th></th>\n",
       "      <th>日本語名称</th>\n",
       "      <th>英語名称</th>\n",
       "      <th>２文字コード</th>\n",
       "    </tr>\n",
       "  </thead>\n",
       "  <tbody>\n",
       "    <tr>\n",
       "      <th>0</th>\n",
       "      <td>アイスランド共和国</td>\n",
       "      <td>iceland</td>\n",
       "      <td>IS</td>\n",
       "    </tr>\n",
       "    <tr>\n",
       "      <th>1</th>\n",
       "      <td>アイルランド</td>\n",
       "      <td>ireland</td>\n",
       "      <td>IE</td>\n",
       "    </tr>\n",
       "    <tr>\n",
       "      <th>2</th>\n",
       "      <td>アゼルバイジャン共和国</td>\n",
       "      <td>azerbaijan</td>\n",
       "      <td>AZ</td>\n",
       "    </tr>\n",
       "    <tr>\n",
       "      <th>3</th>\n",
       "      <td>アフガニスタン</td>\n",
       "      <td>afghanistan</td>\n",
       "      <td>AF</td>\n",
       "    </tr>\n",
       "    <tr>\n",
       "      <th>4</th>\n",
       "      <td>アメリカ合衆国</td>\n",
       "      <td>united_states_of_america</td>\n",
       "      <td>US</td>\n",
       "    </tr>\n",
       "  </tbody>\n",
       "</table>\n",
       "</div>"
      ],
      "text/plain": [
       "         日本語名称                      英語名称 ２文字コード\n",
       "0    アイスランド共和国                   iceland     IS\n",
       "1       アイルランド                   ireland     IE\n",
       "2  アゼルバイジャン共和国                azerbaijan     AZ\n",
       "3      アフガニスタン               afghanistan     AF\n",
       "4      アメリカ合衆国  united_states_of_america     US"
      ]
     },
     "execution_count": 34,
     "metadata": {},
     "output_type": "execute_result"
    }
   ],
   "source": [
    "def prep(row):#前処理をする．row:dataframe1行\n",
    "    text = row[\"英語名称\"]#英語名称だけを前処理対象にする\n",
    "    t_prep = re.sub(r\"-\",\"\",text)#ハイフン削除\n",
    "    t_prep = re.sub(r'[\\\"\\'.,:;\\(\\)#\\|\\*\\+\\!\\?#$%&/\\]\\[\\{\\}_]', '', t_prep)#記号削除(主にハイフンを消したい)\n",
    "    t_prep = re.sub(\" \", \"_\", t_prep)#空白をアンダーバーに\n",
    "    t_prep = t_prep.lower()#小文字化\n",
    "    row[\"英語名称\"] = t_prep#処理後の文字列に置き換え\n",
    "    return row\n",
    "\n",
    "df = df.apply(prep, axis=1)\n",
    "country_english = df[\"英語名称\"].tolist()\n",
    "#ベクトル計算ができる国とその値だけ↓のリストに追加していく\n",
    "vec_country=[]\n",
    "vec_num=[]\n",
    "df.head()"
   ]
  },
  {
   "cell_type": "code",
   "execution_count": 35,
   "metadata": {},
   "outputs": [],
   "source": [
    "for country in country_english:#単語ベクトルを計算できるものはする\n",
    "    try:\n",
    "        vec = np.array(model.get_vector(country),\"float64\")\n",
    "        vec_num.append(vec)\n",
    "        vec_country.append(country)\n",
    "    except:\n",
    "        pass"
   ]
  },
  {
   "cell_type": "code",
   "execution_count": 36,
   "metadata": {},
   "outputs": [],
   "source": [
    "pred = KMeans(n_clusters = 5,random_state=20030220).fit_predict(vec_num)#クラスター5つでクラスタリング\n",
    "pred = list(pred)#0~4の5種類でクラスタリングされた"
   ]
  },
  {
   "cell_type": "code",
   "execution_count": 37,
   "metadata": {},
   "outputs": [
    {
     "name": "stdout",
     "output_type": "stream",
     "text": [
      "['afghanistan', 'israel', 'iraq', 'iran', 'haiti', 'pakistan', 'libya', 'lebanon']\n",
      "['ireland', 'australia', 'canada', 'singapore', 'philippines', 'malaysia', 'south_africa']\n",
      "['zimbabwe', 'sri_lanka', 'chad', 'bangladesh']\n",
      "['iceland', 'yemen', 'uganda', 'ukraine', 'uruguay', 'ecuador', 'ethiopia', 'austria', 'oman', 'netherlands', 'ghana', 'qatar', 'guinea', 'cyprus', 'kuwait', 'croatia', 'kenya', 'costa_rica', 'colombia', 'congo', 'saudi_arabia', 'zambia', 'sierra_leone', 'jamaica', 'switzerland', 'sudan', 'somalia', 'china', 'chile', 'denmark', 'togo', 'dominican_republic', 'turkey', 'tonga', 'niger', 'nepal', 'norway', 'bahrain', 'panama', 'bahamas', 'hungary', 'fiji', 'finland', 'viet_nam', 'venezuela', 'peru', 'belgium', 'poland', 'mali', 'myanmar', 'monaco', 'morocco', 'romania']\n",
      "['argentina', 'italy', 'india', 'indonesia', 'egypt', 'cuba', 'greece', 'georgia', 'sweden', 'spain', 'thailand', 'germany', 'nigeria', 'japan', 'brazil', 'france', 'portugal', 'malta', 'mexico', 'jordan']\n"
     ]
    }
   ],
   "source": [
    "zipped = zip(pred,vec_country)#クラスタの数字と国名をくっつける\n",
    "dic = {}\n",
    "for content in zipped:\n",
    "    dic.setdefault(content[0],[]).append(content[1])\n",
    "    #setdefault:引数(キー，値)．[]キーがない時は追加する．国名をキーに対応して追加．\n",
    "\n",
    "if __name__ == \"__main__\":\n",
    "    for num in range (5):\n",
    "        print(dic[num])"
   ]
  },
  {
   "cell_type": "code",
   "execution_count": null,
   "metadata": {},
   "outputs": [],
   "source": []
  }
 ],
 "metadata": {
  "kernelspec": {
   "display_name": ".venv",
   "language": "python",
   "name": "python3"
  },
  "language_info": {
   "codemirror_mode": {
    "name": "ipython",
    "version": 3
   },
   "file_extension": ".py",
   "mimetype": "text/x-python",
   "name": "python",
   "nbconvert_exporter": "python",
   "pygments_lexer": "ipython3",
   "version": "3.11.9"
  }
 },
 "nbformat": 4,
 "nbformat_minor": 2
}
