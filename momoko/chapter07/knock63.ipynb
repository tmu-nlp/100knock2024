{
 "cells": [
  {
   "cell_type": "code",
   "execution_count": 1,
   "metadata": {},
   "outputs": [
    {
     "name": "stdout",
     "output_type": "stream",
     "text": [
      "[('Greece', 0.6898480653762817), ('Aristeidis_Grigoriadis', 0.560684859752655), ('Ioannis_Drymonakos', 0.555290937423706), ('Greeks', 0.5450686812400818), ('Ioannis_Christou', 0.5400862693786621), ('Hrysopiyi_Devetzi', 0.5248445272445679), ('Heraklio', 0.5207759141921997), ('Athens_Greece', 0.5168809294700623), ('Lithuania', 0.5166866183280945), ('Iraklion', 0.5146791934967041)]\n"
     ]
    }
   ],
   "source": [
    "from gensim.models import KeyedVectors\n",
    "import pickle\n",
    "\n",
    "with open(\"knock60.pkl\",\"rb\") as f:\n",
    "    model = pickle.load(f)\n",
    "\n",
    "#単語の意味を足し引きしてtop10を計算\n",
    "add_analogy = model.most_similar(positive=['Spain',\"Athens\"], negative=['Madrid'])\n",
    "\n",
    "print(add_analogy)"
   ]
  },
  {
   "cell_type": "code",
   "execution_count": null,
   "metadata": {},
   "outputs": [],
   "source": []
  }
 ],
 "metadata": {
  "kernelspec": {
   "display_name": ".venv",
   "language": "python",
   "name": "python3"
  },
  "language_info": {
   "codemirror_mode": {
    "name": "ipython",
    "version": 3
   },
   "file_extension": ".py",
   "mimetype": "text/x-python",
   "name": "python",
   "nbconvert_exporter": "python",
   "pygments_lexer": "ipython3",
   "version": "3.11.9"
  }
 },
 "nbformat": 4,
 "nbformat_minor": 2
}
