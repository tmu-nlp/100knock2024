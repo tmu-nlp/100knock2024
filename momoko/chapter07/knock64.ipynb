{
 "cells": [
  {
   "cell_type": "code",
   "execution_count": 2,
   "metadata": {},
   "outputs": [],
   "source": [
    "from gensim.models import KeyedVectors\n",
    "import pickle\n",
    "\n",
    "with open(\"knock60.pkl\", \"rb\") as f:\n",
    "    model = pickle.load(f)"
   ]
  },
  {
   "cell_type": "code",
   "execution_count": 38,
   "metadata": {},
   "outputs": [],
   "source": [
    "with open(\"questions-words.txt\",\"r\") as read_f:\n",
    "    with open(\"knock64.txt\",\"w\") as write_f:\n",
    "        lines = read_f.readlines()\n",
    "        for l in lines:\n",
    "            words = l.strip().split(\" \")\n",
    "            if len(words) != 4:continue  #単語が4つでなかったら終了\n",
    "            calc= model.most_similar(positive=[words[1],words[2]], negative=[words[0]])\n",
    "            #calc_e.g.('Mosul', 0.838557779788971),('Ramadi', 0.7857875227928162),...\n",
    "            calc_word,calc_value = calc[0]\n",
    "            write_f.write(f\"{words[0]}\\t{words[1]}\\t{words[2]}\\t{words[3]}\\t{calc_word}\\t{calc_value}\\n\")"
   ]
  },
  {
   "cell_type": "markdown",
   "metadata": {},
   "source": [
    "### 意味的アナロジ\n",
    "資本-共通-国, 資本-世界, 通貨, 都市-国家, 家族\n",
    "\n",
    "## 文法的アナロジ\n",
    "gram1-形容詞-副詞、gram2-反対、gram3-比較、gram4-最上級、gram5-現在分詞、gram6-国籍-形容詞、gram7-過去形、gram8-複数形、gram9-複数動詞\n",
    "*********\n",
    "今回，knock64.txtにおいて，    \n",
    "~8869が意味的アナロジー，8870~が文法的アナロジーになっていた!!"
   ]
  },
  {
   "cell_type": "code",
   "execution_count": 39,
   "metadata": {},
   "outputs": [],
   "source": [
    "with open (\"knock64.txt\",\"r\") as read_f:\n",
    "    with open (\"64_semantic.txt\",\"w\") as write_se, open(\"64_grammatical.txt\",\"w\") as write_gr:\n",
    "        for i,line in enumerate(read_f):\n",
    "            if i < 8869:\n",
    "                write_se.write(line)\n",
    "            else:\n",
    "                write_gr.write(line)"
   ]
  }
 ],
 "metadata": {
  "kernelspec": {
   "display_name": ".venv",
   "language": "python",
   "name": "python3"
  },
  "language_info": {
   "codemirror_mode": {
    "name": "ipython",
    "version": 3
   },
   "file_extension": ".py",
   "mimetype": "text/x-python",
   "name": "python",
   "nbconvert_exporter": "python",
   "pygments_lexer": "ipython3",
   "version": "3.11.9"
  }
 },
 "nbformat": 4,
 "nbformat_minor": 2
}
