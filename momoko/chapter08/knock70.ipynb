{
 "cells": [
  {
   "cell_type": "markdown",
   "metadata": {},
   "source": [
    "### PyTorchとは\n",
    "\n",
    "機械学習ライブラリ．   \n",
    "Tensor(=torch.Tensor)というクラスを定義しており，多次元配列の保存と演算に利用している．これは，np.arrayに似ているが，これ以上に様々な演算が可能である．   \n",
    "(参考：https://qiita.com/ya-ya-kaz716/items/bc13df58719f22332c28)"
   ]
  },
  {
   "cell_type": "code",
   "execution_count": 30,
   "metadata": {},
   "outputs": [
    {
     "name": "stdout",
     "output_type": "stream",
     "text": [
      "Tensor:\n",
      " tensor([[ 5,  3],\n",
      "        [10,  6]]) \n",
      "\n",
      "Numpy:\n",
      " [[ 5  3]\n",
      " [10  6]]\n"
     ]
    }
   ],
   "source": [
    "#ex.)\n",
    "# Tensor\n",
    "x_t = torch.tensor([[5,3],[10,6]])\n",
    "# Numpy\n",
    "x_n = np.array([[5,3],[10,6]])\n",
    "\n",
    "print('Tensor:\\n',x_t,'\\n')\n",
    "print('Numpy:\\n',x_n)\n",
    "\n"
   ]
  },
  {
   "cell_type": "code",
   "execution_count": 29,
   "metadata": {},
   "outputs": [],
   "source": [
    "from gensim.models import KeyedVectors\n",
    "import pandas as pd\n",
    "import re\n",
    "import torch\n",
    "import pickle\n",
    "import numpy as np\n",
    "\n",
    "with open (\"/Users/shirakawamomoko/Desktop/nlp100保存/chapter07/knock60.pkl\",\"rb\") as f:\n",
    "    model = pickle.load(f)"
   ]
  },
  {
   "cell_type": "code",
   "execution_count": 79,
   "metadata": {},
   "outputs": [],
   "source": [
    "def label_trans(cat):#i番目の事例ラベルyiの変換\n",
    "    trans_dict={\"b\":0, \"t\":1, \"e\":2, \"m\":3}\n",
    "    try:\n",
    "        return trans_dict[cat]\n",
    "    except:#対応するキーが見つからなかった場合\n",
    "        return print(f\"error: {cat}\")\n",
    "\n",
    "\n",
    "def Text2Vec(text):#特徴ベクトルの計算\n",
    "    sp_t = text.split(\" \")\n",
    "    sigma_vec = 0#Σ\n",
    "    length = 0#Ti\n",
    "    for t in sp_t:\n",
    "        try:\n",
    "            temp = model.get_vector(t)\n",
    "            sigma_vec += temp\n",
    "            length += 1\n",
    "        except:\n",
    "            pass\n",
    "    return sigma_vec/length#xi = (1/Ti)*∑t=1Tiemb(wi,t)\n",
    "\n",
    "\n",
    "def torch_save(data,path):#行列・ベクトルの作成&ファイルに保存\n",
    "    \"\"\"\n",
    "    data:処理対象のデータ名(拡張子を除く)\n",
    "    path:dataの格納場所\n",
    "    \"\"\"\n",
    "    df = pd.read_table(f\"{path}{data}.txt\")\n",
    "    del_sign = re.compile('[!\"#$%&\\'()*+,-./:;<=>?@[\\\\]^_`|＄＃＠£â€™]')#削除対象の記号の正規表現パターン\n",
    "    del_func = lambda x: del_sign.sub(\"\",x)#del_signをx(=入力された文字)から削除する無名関数\n",
    "    df[\"TITLE\"] = df[\"TITLE\"].map(del_func)#title列にdel_funcを適用\n",
    "    x_torch = torch.tensor(df[\"TITLE\"].apply(Text2Vec))\n",
    "    torch.save(x_torch,f\"X_{data}.pt\")#tensorを簡単に保存(.ptって何...??)\n",
    "    df[\"CATEGORY\"]=df[\"CATEGORY\"].map(label_trans)\n",
    "    y_torch = torch.tensor(df[\"CATEGORY\"])\n",
    "    torch.save(y_torch,f\"Y_{data}.pt\")\n",
    "    print(f\"Done!: {data}\")"
   ]
  },
  {
   "cell_type": "code",
   "execution_count": 80,
   "metadata": {},
   "outputs": [
    {
     "name": "stdout",
     "output_type": "stream",
     "text": [
      "Done!: train\n",
      "Done!: test\n",
      "Done!: valid\n"
     ]
    }
   ],
   "source": [
    "path = \"/Users/shirakawamomoko/Desktop/nlp100保存/chapter06/\"\n",
    "torch_save(\"train\",path)\n",
    "torch_save(\"test\",path)\n",
    "torch_save(\"valid\",path)"
   ]
  },
  {
   "cell_type": "code",
   "execution_count": null,
   "metadata": {},
   "outputs": [],
   "source": []
  }
 ],
 "metadata": {
  "kernelspec": {
   "display_name": ".venv",
   "language": "python",
   "name": "python3"
  },
  "language_info": {
   "codemirror_mode": {
    "name": "ipython",
    "version": 3
   },
   "file_extension": ".py",
   "mimetype": "text/x-python",
   "name": "python",
   "nbconvert_exporter": "python",
   "pygments_lexer": "ipython3",
   "version": "3.11.9"
  }
 },
 "nbformat": 4,
 "nbformat_minor": 2
}
