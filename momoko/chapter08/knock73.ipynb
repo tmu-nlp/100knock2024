{
 "cells": [
  {
   "cell_type": "markdown",
   "metadata": {},
   "source": [
    "### 確率的勾配降下法\n",
    "大量のデータからランダムサンプリングして取り出したデータに対し勾配を計算し，次のステップを決める．勾配が0に近い方に進んでいく．　　　 \n",
    "https://qiita.com/kenmatsu4/items/d282054ddedbd68fecb0"
   ]
  },
  {
   "cell_type": "code",
   "execution_count": 9,
   "metadata": {},
   "outputs": [],
   "source": [
    "from torch.utils.data import TensorDataset, DataLoader\n",
    "import torch\n",
    "import torch.nn as nn\n",
    "import torch.optim as optim\n",
    "from importnb import imports\n",
    "with imports (\"ipynb\"):\n",
    "    import  knock72 as k72"
   ]
  },
  {
   "cell_type": "code",
   "execution_count": 11,
   "metadata": {},
   "outputs": [],
   "source": [
    "loss = nn.CrossEntropyLoss(reduction=\"mean\")#クロスエントロピー損失を計算する．meanで損失の平均指定．\n",
    "x_train = torch.load(\"X_train.pt\")\n",
    "y_train  = torch.load(\"Y_train.pt\")\n",
    "dataset = TensorDataset(x_train,y_train)#同じ要素数の2つのtensorを渡し，その値を得る．\n",
    "dataload = DataLoader(dataset,batch_size=128,shuffle=True)\n",
    "\"\"\"\n",
    "torch.utils.data.DataLoader\n",
    "dataset:読み込むデータセット\n",
    "batch_size:学習するデータを何個ずつに分けるか．2^nが使われやすいらしい．\n",
    "\"\"\"\n",
    "d_method = optim.SGD(params=k72.k71.model.parameters(),lr=10)\n",
    "\"\"\"\n",
    "torch.optim.SGD\n",
    "params:最適化するパラメータの反復可能オブジェクト(for文が回せるやつみたいな)\n",
    "lr:学習率(https://qiita.com/amateur2020/items/23704993fb191db0020c)\n",
    "\"\"\"\n",
    "epoch =100#エポック:1つのtrainデータを一周する=1エポック\n",
    "for ep in range(epoch):\n",
    "    for x,y in dataload:\n",
    "        y_pred = k72.k71.model(x)\n",
    "        CE_loss = loss(y_pred,y)\n",
    "        d_method.zero_grad()\n",
    "        CE_loss.backward()\n",
    "        d_method.step()#学習率と最適化手法に基づいて重みを更新している\n",
    "\n",
    "torch.save(k72.k71.model.state_dict(),\"knock73_learning.pth\")#学習後のモデルを保#存\n"
   ]
  },
  {
   "cell_type": "code",
   "execution_count": null,
   "metadata": {},
   "outputs": [],
   "source": []
  }
 ],
 "metadata": {
  "kernelspec": {
   "display_name": ".venv",
   "language": "python",
   "name": "python3"
  },
  "language_info": {
   "codemirror_mode": {
    "name": "ipython",
    "version": 3
   },
   "file_extension": ".py",
   "mimetype": "text/x-python",
   "name": "python",
   "nbconvert_exporter": "python",
   "pygments_lexer": "ipython3",
   "version": "3.11.9"
  }
 },
 "nbformat": 4,
 "nbformat_minor": 2
}
