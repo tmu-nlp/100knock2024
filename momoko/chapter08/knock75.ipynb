{
 "cells": [
  {
   "cell_type": "code",
   "execution_count": 28,
   "metadata": {},
   "outputs": [],
   "source": [
    "\"\"\"\n",
    "TensorBoardをjupyter notebookで使えるようにする．\n",
    "TensorBoardとは，機械学習ワークフローの際に必要な測定値と視覚化を可能にする!!\n",
    "\"\"\"\n",
    "# Load the TensorBoard notebook extension\n",
    "from torch.utils.tensorboard import SummaryWriter\n",
    "from torch.utils.data import TensorDataset, DataLoader\n",
    "import torch\n",
    "import torch.nn as nn\n",
    "import torch.optim as optim\n",
    "\n",
    "# Clear any logs from previous runs\n",
    "!rm -rf ./logs/"
   ]
  },
  {
   "cell_type": "code",
   "execution_count": 29,
   "metadata": {},
   "outputs": [],
   "source": [
    "def t_board_write(model,x,y,epoch,loss,name):#TensorBoardに計算して書き込む\n",
    "    y_pred = model(x)\n",
    "    CE_loss = loss(y_pred,y)\n",
    "    result = torch.max(y_pred.data,dim=1).indices\n",
    "    \"\"\"\n",
    "    y_pred.data:各サンプルに対するクラスごとの確率\n",
    "    torch.max:行方向(dim=1)方向の最大値を計算する\n",
    "    indices:最もスコアの高いクラスを示す\n",
    "    \"\"\"\n",
    "    cor_pred = result.eq(y).sum()#正しく予測されたサンプル数\n",
    "    accuracy = cor_pred.numpy()/len(y_pred)#予測の精度(正解率)\n",
    "    writer.add_scalar(\"Loss/{}_Loss\".format(name), CE_loss, epoch)\n",
    "    writer.add_scalar(\"Accuracy/{}_Accuracy\".format(name), accuracy, epoch)\n",
    "    \"\"\"\n",
    "    writer.add_scalar:writerにaddしていく\n",
    "    第1引数:名称\n",
    "    第2引数:保存するデータ\n",
    "    第3引数:反復回数\n",
    "    \"\"\""
   ]
  },
  {
   "cell_type": "code",
   "execution_count": 30,
   "metadata": {},
   "outputs": [],
   "source": [
    "class NetWork(nn.Module):#nn.Moduleクラスのサブクラス化(=既存のクラスを活用し新しいクラスを作成する)\n",
    "    def __init__(self,input_feature,output):\n",
    "        \"\"\"\n",
    "        input_feature:データ(特徴)の入力ユニット数\n",
    "        output:出力結果への出力ユニット数\n",
    "        \"\"\"\n",
    "        super().__init__()#コンストラクタ(=クラスを新しくした瞬間実行される関数)の上書き\n",
    "        self.fc1 = nn.Linear(input_feature,output,bias=False)#線形変換する\n",
    "        nn.init.xavier_normal_(self.fc1.weight)#重みをXavierの初期化\n",
    "        self.fc2 = nn.Softmax(dim=1)#dim=1:行単位でsoftmaxをかけてくれる\n",
    "    \n",
    "    def forward(self,x):#フォワードパス(=ニューラルネットワークが初期の入力を層ごとに処理して出力に向けて送る)の定義\n",
    "        x = self.fc1(x)\n",
    "        x = self.fc2(x)\n",
    "        return x"
   ]
  },
  {
   "cell_type": "code",
   "execution_count": 31,
   "metadata": {},
   "outputs": [
    {
     "data": {
      "text/plain": [
       "'\\ntorch.optim.SGD\\nparams:最適化するパラメータの反復可能オブジェクト(for文が回せるやつみたいな)\\nlr:学習率(https://qiita.com/amateur2020/items/23704993fb191db0020c)\\n'"
      ]
     },
     "execution_count": 31,
     "metadata": {},
     "output_type": "execute_result"
    }
   ],
   "source": [
    "x_train = torch.load(\"X_train.pt\")\n",
    "y_train = torch.load(\"Y_train.pt\")\n",
    "x_valid = torch.load(\"X_valid.pt\")\n",
    "y_valid = torch.load(\"Y_valid.pt\")\n",
    "model = NetWork(300,4)\n",
    "\n",
    "loss = nn.CrossEntropyLoss(reduction=\"mean\")#クロスエントロピー損失を計算する．meanで損失の平均指定．\n",
    "dataset = TensorDataset(x_train,y_train)#同じ要素数の2つのtensorを渡し，その値を得る．\n",
    "dataload = DataLoader(dataset,batch_size=128,shuffle=True)\n",
    "\n",
    "d_method = optim.SGD(params=model.parameters(),lr=10)\n",
    "\"\"\"\n",
    "torch.optim.SGD\n",
    "params:最適化するパラメータの反復可能オブジェクト(for文が回せるやつみたいな)\n",
    "lr:学習率(https://qiita.com/amateur2020/items/23704993fb191db0020c)\n",
    "\"\"\""
   ]
  },
  {
   "cell_type": "code",
   "execution_count": 32,
   "metadata": {},
   "outputs": [],
   "source": [
    "writer = SummaryWriter(log_dir=\"logs\")#インスタンスを作成．log_dirでTensorBoard用のファイルを吐き出すディレクトリを指定する．\n",
    "epoch = 1000\n",
    "\n",
    "#エポック毎にバッチ処理をして損失を計算したりパラメータを更新したりする．\n",
    "for ep in range (epoch):#epoch回訓練を行う\n",
    "    for x,y in dataload:#128個(バッチサイズ)のデータxとラベルyを取得\n",
    "        y_pred = model(x)#モデルの予測\n",
    "        CE_loss = loss(y_pred,y)#クロスエントロピーの計算\n",
    "        d_method.zero_grad()#計算を正しく行うために，モデル内のパラメータ勾配を初期化する．\n",
    "        CE_loss.backward()#誤差逆伝搬の計算(損失を0に近づけるために必要なパラメータの勾配を効率的に計算できる)\n",
    "        d_method.step()#モデルのパラメータ更新\n",
    "    t_board_write(model, x_train, y_train, ep, loss, \"Train\")#trainデータについて損失，精度を計算しTensorBoardに書き込む．\n",
    "    t_board_write(model, x_valid, y_valid, ep, loss, \"Valid\")#validデータについて損失，精度を計算しTensorBoardに書き込む．\n",
    "\n",
    "torch.save(model.state_dict(), \"knock75_siglelayer.pth\")#モデルの保存\n",
    "writer.close()"
   ]
  },
  {
   "cell_type": "code",
   "execution_count": 33,
   "metadata": {},
   "outputs": [
    {
     "name": "stdout",
     "output_type": "stream",
     "text": [
      "zsh:fg:1: no job control in this shell.\n"
     ]
    }
   ],
   "source": [
    "!%tensorboard --logdir logs/fit"
   ]
  }
 ],
 "metadata": {
  "kernelspec": {
   "display_name": ".venv",
   "language": "python",
   "name": "python3"
  },
  "language_info": {
   "codemirror_mode": {
    "name": "ipython",
    "version": 3
   },
   "file_extension": ".py",
   "mimetype": "text/x-python",
   "name": "python",
   "nbconvert_exporter": "python",
   "pygments_lexer": "ipython3",
   "version": "3.11.9"
  }
 },
 "nbformat": 4,
 "nbformat_minor": 2
}
