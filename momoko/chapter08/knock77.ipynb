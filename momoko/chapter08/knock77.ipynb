{
 "cells": [
  {
   "cell_type": "code",
   "execution_count": 16,
   "metadata": {},
   "outputs": [],
   "source": [
    "from torch.utils.data import TensorDataset, DataLoader\n",
    "import torch\n",
    "import torch.nn as nn\n",
    "import torch.optim as optim\n",
    "import time\n",
    "from importnb import imports\n",
    "with imports (\"ipynb\"):\n",
    "    import knock76 as k76"
   ]
  },
  {
   "cell_type": "code",
   "execution_count": 17,
   "metadata": {},
   "outputs": [],
   "source": [
    "x_train = torch.load(\"X_train.pt\")\n",
    "y_train = torch.load(\"Y_train.pt\")\n",
    "\n",
    "b_list = [2**i for i in range(10)]#Bの値の変化リスト"
   ]
  },
  {
   "cell_type": "code",
   "execution_count": 23,
   "metadata": {},
   "outputs": [
    {
     "name": "stdout",
     "output_type": "stream",
     "text": [
      "バッチサイズ: 1\n",
      "所要時間: 1.1124047994613648\n",
      "バッチサイズ: 2\n",
      "所要時間: 1.3239017009735108\n",
      "バッチサイズ: 4\n",
      "所要時間: 0.6578557014465332\n",
      "バッチサイズ: 8\n",
      "所要時間: 0.35101368427276614\n",
      "バッチサイズ: 16\n",
      "所要時間: 0.19753651618957518\n",
      "バッチサイズ: 32\n",
      "所要時間: 0.13120431900024415\n",
      "バッチサイズ: 64\n",
      "所要時間: 0.08755991458892823\n",
      "バッチサイズ: 128\n",
      "所要時間: 0.05860750675201416\n",
      "バッチサイズ: 256\n",
      "所要時間: 0.051131916046142575\n",
      "バッチサイズ: 512\n",
      "所要時間: 0.04654781818389893\n"
     ]
    }
   ],
   "source": [
    "for bs in b_list:\n",
    "    #DataLoader:datasetからバッチ(データ数を何個で分けるか)ごとに取り出す\n",
    "    dl = DataLoader(k76.dataset, batch_size=bs, shuffle=True)\n",
    "    #params:最適化するパラメータの反復可能オブジェクト\n",
    "    d_method = optim.SGD(params=k76.model.parameters(),lr=0.01)\n",
    "    model = k76.NetWork(300,4)\n",
    "\n",
    "    epoch = 10\n",
    "    start = time.time()#開始時間\n",
    "    for ep in range(epoch):\n",
    "        for x,y in dl:\n",
    "            y_pred = model(x)#モデルの予測\n",
    "            CE_loss = k76.loss(y_pred,y)#クロスエントロピーの計算\n",
    "            d_method.zero_grad()#計算を正しく行うために，モデル内のパラメータ勾配を初期化する．\n",
    "            CE_loss.backward()#誤差逆伝搬の計算(損失を0に近づけるために必要なパラメータの勾配を効率的に計算できる)\n",
    "            d_method.step()#モデルのパラメータ更新\n",
    "    end = time.time()\n",
    "    time_required = (end-start)/epoch\n",
    "    print(f\"バッチサイズ: {bs}\")\n",
    "    print(f\"所要時間: {time_required}\")\n"
   ]
  },
  {
   "cell_type": "code",
   "execution_count": null,
   "metadata": {},
   "outputs": [],
   "source": []
  }
 ],
 "metadata": {
  "kernelspec": {
   "display_name": ".venv",
   "language": "python",
   "name": "python3"
  },
  "language_info": {
   "codemirror_mode": {
    "name": "ipython",
    "version": 3
   },
   "file_extension": ".py",
   "mimetype": "text/x-python",
   "name": "python",
   "nbconvert_exporter": "python",
   "pygments_lexer": "ipython3",
   "version": "3.11.9"
  }
 },
 "nbformat": 4,
 "nbformat_minor": 2
}
