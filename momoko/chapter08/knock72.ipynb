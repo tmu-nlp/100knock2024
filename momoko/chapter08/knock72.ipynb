{
 "cells": [
  {
   "cell_type": "code",
   "execution_count": 2,
   "metadata": {},
   "outputs": [],
   "source": [
    "import torch\n",
    "import torch.nn as nn\n",
    "from importnb import imports\n",
    "with imports (\"ipynb\"):\n",
    "    import  knock71 as k71"
   ]
  },
  {
   "cell_type": "markdown",
   "metadata": {},
   "source": [
    "### クロスエントロピー損失\n",
    "事例xiがyiに分類される確率が高いと損失が小さくなり，低いと損失大きくなる．\n",
    "https://pytorch.org/docs/stable/generated/torch.nn.CrossEntropyLoss.html"
   ]
  },
  {
   "cell_type": "code",
   "execution_count": 6,
   "metadata": {},
   "outputs": [
    {
     "name": "stdout",
     "output_type": "stream",
     "text": [
      "クロスエントロピー損失: 1.3906779289245605\n",
      "勾配: tensor([[ 4.4154e-04, -1.1373e-03,  8.1953e-04,  ..., -2.1835e-03,\n",
      "         -2.9647e-03,  3.2334e-03],\n",
      "        [ 6.4710e-04,  9.1302e-04, -1.5352e-03,  ..., -8.2015e-05,\n",
      "          2.0827e-03, -5.5936e-04],\n",
      "        [-2.6087e-03, -1.0549e-03,  2.7622e-03,  ...,  2.9539e-03,\n",
      "         -9.1603e-04, -1.1807e-03],\n",
      "        [ 1.5200e-03,  1.2792e-03, -2.0465e-03,  ..., -6.8830e-04,\n",
      "          1.7980e-03, -1.4934e-03]])\n"
     ]
    }
   ],
   "source": [
    "loss = nn.CrossEntropyLoss(reduction=\"mean\")#クロスエントロピー損失を計算する．meanで損失の平均指定．\n",
    "y_train  = torch.load(\"Y_train.pt\")\n",
    "y_pred = k71.model(k71.x_train)\n",
    "CE_loss = loss(y_pred,y_train)#クロスエントロピー損失:-log(事例xiがyiに分類される確率)\n",
    "k71.model.zero_grad()#計算を正しく行うために，モデル内のパラメータ勾配を初期化する．\n",
    "CE_loss.backward()#誤差逆伝搬の計算(損失を0に近づけるために必要なパラメータの勾配を効率的に計算できる)\n",
    "\n",
    "if __name__==\"__main__\":\n",
    "    print(f\"クロスエントロピー損失: {CE_loss.item()}\")\n",
    "    print(f\"勾配: {k71.model.fc1.weight.grad}\")#重みの勾配"
   ]
  },
  {
   "cell_type": "code",
   "execution_count": null,
   "metadata": {},
   "outputs": [],
   "source": []
  }
 ],
 "metadata": {
  "kernelspec": {
   "display_name": ".venv",
   "language": "python",
   "name": "python3"
  },
  "language_info": {
   "codemirror_mode": {
    "name": "ipython",
    "version": 3
   },
   "file_extension": ".py",
   "mimetype": "text/x-python",
   "name": "python",
   "nbconvert_exporter": "python",
   "pygments_lexer": "ipython3",
   "version": "3.11.9"
  }
 },
 "nbformat": 4,
 "nbformat_minor": 2
}
