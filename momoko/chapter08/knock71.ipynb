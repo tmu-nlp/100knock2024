{
 "cells": [
  {
   "cell_type": "markdown",
   "metadata": {},
   "source": [
    "### ソフトマックス関数とは\n",
    "入力されたベクトルの各成分を0.0~1.0の範囲の確率値に変換する関数．   \n",
    "ソフトマックス関数によって出力されるベクトルの各成分の和は1.0(=100%)となる．"
   ]
  },
  {
   "cell_type": "code",
   "execution_count": 1,
   "metadata": {},
   "outputs": [],
   "source": [
    "import torch\n",
    "from torch import nn#ニューラルネットワークのモジュール"
   ]
  },
  {
   "cell_type": "markdown",
   "metadata": {},
   "source": [
    "【nn.Linear】   \n",
    "bias=falseとすることで，加算バイアスを学習しない．    \n",
    "加算バイアスとは，引き算をする方が適切な場合でも，足し算を使って問題を解決しようとする．  \n",
    " \n",
    "【nn.init.xavier_normal_】   \n",
    "Xavierの方法の正規分布で初期化(=平均0の正規分布に)する関数．"
   ]
  },
  {
   "cell_type": "code",
   "execution_count": 7,
   "metadata": {},
   "outputs": [],
   "source": [
    "class NetWork(nn.Module):#nn.Moduleクラスのサブクラス化(=既存のクラスを活用し新しいクラスを作成する)\n",
    "    def __init__(self,input_feature,output):\n",
    "        \"\"\"\n",
    "        input_feature:データ(特徴)の入力ユニット数\n",
    "        output:出力結果への出力ユニット数\n",
    "        \"\"\"\n",
    "        super().__init__()#コンストラクタ(=クラスを新しくした瞬間実行される関数)の上書き\n",
    "        self.fc1 = nn.Linear(input_feature,output,bias=False)#線形変換する\n",
    "        nn.init.xavier_normal_(self.fc1.weight)#重みをXavierの初期化\n",
    "        self.fc2 = nn.Softmax(dim=1)#dim=1:行単位でsoftmaxをかけてくれる\n",
    "    \n",
    "    def forward(self,x):#フォワードパス(=ニューラルネットワークが初期の入力を層ごとに処理して出力に向けて送る)の定義\n",
    "        x = self.fc1(x)\n",
    "        x = self.fc2(x)\n",
    "        return x"
   ]
  },
  {
   "cell_type": "code",
   "execution_count": 8,
   "metadata": {},
   "outputs": [
    {
     "data": {
      "text/plain": [
       "tensor([[0.2632, 0.2537, 0.2383, 0.2447],\n",
       "        [0.2443, 0.2642, 0.2601, 0.2314],\n",
       "        [0.3073, 0.2302, 0.2332, 0.2293],\n",
       "        ...,\n",
       "        [0.2643, 0.2644, 0.2498, 0.2215],\n",
       "        [0.2410, 0.2442, 0.2328, 0.2820],\n",
       "        [0.2408, 0.2156, 0.2424, 0.3013]], grad_fn=<SoftmaxBackward0>)"
      ]
     },
     "execution_count": 8,
     "metadata": {},
     "output_type": "execute_result"
    }
   ],
   "source": [
    "x_train = torch.load(\"X_train.pt\")\n",
    "model = NetWork(300,4)\n",
    "model(x_train)"
   ]
  }
 ],
 "metadata": {
  "kernelspec": {
   "display_name": ".venv",
   "language": "python",
   "name": "python3"
  },
  "language_info": {
   "codemirror_mode": {
    "name": "ipython",
    "version": 3
   },
   "file_extension": ".py",
   "mimetype": "text/x-python",
   "name": "python",
   "nbconvert_exporter": "python",
   "pygments_lexer": "ipython3",
   "version": "3.11.9"
  }
 },
 "nbformat": 4,
 "nbformat_minor": 2
}
