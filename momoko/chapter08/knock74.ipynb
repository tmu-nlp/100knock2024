{
 "cells": [
  {
   "cell_type": "code",
   "execution_count": 2,
   "metadata": {},
   "outputs": [],
   "source": [
    "import torch\n",
    "import torch.nn as nn\n",
    "from importnb import imports\n",
    "with imports (\"ipynb\"):\n",
    "    import  knock71 as k71\n",
    "\n",
    "model = k71.model"
   ]
  },
  {
   "cell_type": "code",
   "execution_count": 6,
   "metadata": {},
   "outputs": [],
   "source": [
    "model.load_state_dict(torch.load(\"knock73_learning.pth\"))#モデルの読み込み\n",
    "x_test = torch.load(\"X_test.pt\")\n",
    "y_test = torch.load(\"Y_test.pt\")\n",
    "x_train = torch.load(\"X_train.pt\")\n",
    "y_train = torch.load(\"Y_train.pt\")"
   ]
  },
  {
   "cell_type": "code",
   "execution_count": 17,
   "metadata": {},
   "outputs": [],
   "source": [
    "def correct_answer_rate(data1,data2,name):#正解と答え合わせし正解率を計算\n",
    "    y_pred = model(data1)\n",
    "    result = torch.max(y_pred.data,dim=1).indices\n",
    "    \"\"\"\n",
    "    y_pred.data:各サンプルに対するクラスごとの確率\n",
    "    torch.max:行方向(dim=1)方向の最大値を計算する\n",
    "    indices:最もスコアの高いクラスを示す\n",
    "    \"\"\"\n",
    "    cor_pred = result.eq(data2).sum()#正しく予測されたサンプル数\n",
    "    par_cor_pred = cor_pred.numpy()/len(y_pred)#予測の精度(正解率)\n",
    "    print(f\"{name}データ正解率: {par_cor_pred}\")\n"
   ]
  },
  {
   "cell_type": "code",
   "execution_count": 18,
   "metadata": {},
   "outputs": [
    {
     "name": "stdout",
     "output_type": "stream",
     "text": [
      "trainデータ正解率: 0.9339392803598201\n",
      "testデータ正解率: 0.9032983508245878\n"
     ]
    }
   ],
   "source": [
    "correct_answer_rate(x_train,y_train,\"train\")\n",
    "correct_answer_rate(x_test,y_test,\"test\")"
   ]
  },
  {
   "cell_type": "code",
   "execution_count": null,
   "metadata": {},
   "outputs": [],
   "source": []
  }
 ],
 "metadata": {
  "kernelspec": {
   "display_name": ".venv",
   "language": "python",
   "name": "python3"
  },
  "language_info": {
   "codemirror_mode": {
    "name": "ipython",
    "version": 3
   },
   "file_extension": ".py",
   "mimetype": "text/x-python",
   "name": "python",
   "nbconvert_exporter": "python",
   "pygments_lexer": "ipython3",
   "version": "3.11.9"
  }
 },
 "nbformat": 4,
 "nbformat_minor": 2
}
