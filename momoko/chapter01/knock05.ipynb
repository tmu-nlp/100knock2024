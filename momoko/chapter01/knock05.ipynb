{
 "cells": [
  {
   "cell_type": "code",
   "execution_count": 1,
   "metadata": {},
   "outputs": [],
   "source": [
    "#05\n",
    "#n-gram：任意の文字数で文章を分割する手法．\n",
    "#bi-gram：n=2のn-gram\n",
    "\n",
    "def ngram_tukuro(inp,num):#inp：分割対象，num：分割数\n",
    "    tango_bi_gram=[]\n",
    "    moji_bi_gram=[]\n",
    "    if len(inp) < num:#分割数が上回った際は終了\n",
    "        return (\"nの値が大きすぎます．終了します．\")\n",
    "    \n",
    "    #単語bi-gramパート\n",
    "    if type(inp)==str:#文字列なら空白区切り，単語bi_gram作成．\n",
    "        inp_word = inp.split(\" \")\n",
    "        for i in range (len(inp_word)-num+1):\n",
    "            tango_bi_gram.append(inp_word[i:i+num])\n",
    "    else:#リストなら要素を前から順に取り，単語bi_gram作成．\n",
    "        for i in range(len(inp)-num+1):\n",
    "            tango_bi_gram.append(inp[i:i+num])\n",
    "    \n",
    "    #文字bi-gramパート\n",
    "    if type(inp)==str:#文字列なら，空白区切りしたリストを.join\n",
    "        tango_tati=\"\".join(inp_word)\n",
    "    else:\n",
    "        tango_tati=\"\".join(inp)\n",
    "    \n",
    "    for i in range(len(tango_tati)-num+1):#リストなら元のやつを.join\n",
    "        moji_bi_gram.append(tango_tati[i:i+num])\n",
    "\n",
    "    return tango_bi_gram,moji_bi_gram"
   ]
  },
  {
   "cell_type": "code",
   "execution_count": 2,
   "metadata": {},
   "outputs": [
    {
     "data": {
      "text/plain": [
       "([['I', 'am'], ['am', 'an'], ['an', 'NLPer']],\n",
       " ['Ia', 'am', 'ma', 'an', 'nN', 'NL', 'LP', 'Pe', 'er'])"
      ]
     },
     "execution_count": 2,
     "metadata": {},
     "output_type": "execute_result"
    }
   ],
   "source": [
    "ngram_tukuro(\"I am an NLPer\",2)"
   ]
  },
  {
   "cell_type": "code",
   "execution_count": 3,
   "metadata": {},
   "outputs": [
    {
     "data": {
      "text/plain": [
       "([['私', 'は', 'コーヒー'],\n",
       "  ['は', 'コーヒー', 'が'],\n",
       "  ['コーヒー', 'が', '好き'],\n",
       "  ['が', '好き', '!']],\n",
       " ['私はコ', 'はコー', 'コーヒ', 'ーヒー', 'ヒーが', 'ーが好', 'が好き', '好き!'])"
      ]
     },
     "execution_count": 3,
     "metadata": {},
     "output_type": "execute_result"
    }
   ],
   "source": [
    "ngram_tukuro([\"私\",\"は\",\"コーヒー\",\"が\",\"好き\",\"!\"],3)"
   ]
  },
  {
   "cell_type": "code",
   "execution_count": null,
   "metadata": {},
   "outputs": [],
   "source": []
  }
 ],
 "metadata": {
  "interpreter": {
   "hash": "34ccacd3b6fdbd462b750c5ef896413565fa613738e46158bd59146bdd5a1dd5"
  },
  "kernelspec": {
   "display_name": "Python 3.11.3",
   "language": "python",
   "name": "python3"
  },
  "language_info": {
   "codemirror_mode": {
    "name": "ipython",
    "version": 3
   },
   "file_extension": ".py",
   "mimetype": "text/x-python",
   "name": "python",
   "nbconvert_exporter": "python",
   "pygments_lexer": "ipython3",
   "version": "3.11.3"
  },
  "orig_nbformat": 4
 },
 "nbformat": 4,
 "nbformat_minor": 2
}
