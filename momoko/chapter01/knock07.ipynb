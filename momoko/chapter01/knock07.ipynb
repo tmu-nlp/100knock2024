{
 "cells": [
  {
   "cell_type": "code",
   "execution_count": 1,
   "metadata": {},
   "outputs": [
    {
     "data": {
      "text/plain": [
       "'12時の気温は22.4'"
      ]
     },
     "execution_count": 1,
     "metadata": {},
     "output_type": "execute_result"
    }
   ],
   "source": [
    "#07\n",
    "\n",
    "def kion_dayo(x,y,z):\n",
    "    ans = str(x) +\"時の\"+ str(y)  +\"は\"+ str(z)#intとstr混ぜるとエラーになる\n",
    "    return ans\n",
    "\n",
    "kion_dayo(12,\"気温\",22.4)"
   ]
  },
  {
   "cell_type": "code",
   "execution_count": null,
   "metadata": {},
   "outputs": [],
   "source": []
  }
 ],
 "metadata": {
  "interpreter": {
   "hash": "34ccacd3b6fdbd462b750c5ef896413565fa613738e46158bd59146bdd5a1dd5"
  },
  "kernelspec": {
   "display_name": "Python 3.11.3",
   "language": "python",
   "name": "python3"
  },
  "language_info": {
   "codemirror_mode": {
    "name": "ipython",
    "version": 3
   },
   "file_extension": ".py",
   "mimetype": "text/x-python",
   "name": "python",
   "nbconvert_exporter": "python",
   "pygments_lexer": "ipython3",
   "version": "3.11.3"
  },
  "orig_nbformat": 4
 },
 "nbformat": 4,
 "nbformat_minor": 2
}
