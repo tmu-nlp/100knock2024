{
 "cells": [
  {
   "cell_type": "code",
   "execution_count": 1,
   "metadata": {},
   "outputs": [],
   "source": [
    "#09\n",
    "import random\n",
    "\n",
    "def narabikae(moji):\n",
    "    ans_list = []\n",
    "    moji_sp = moji.split(\" \")\n",
    "\n",
    "    for m in moji_sp:\n",
    "        if len(m) > 4:#4文字より多い時\n",
    "           shu_m = m[1:len(m)-1]#並び替え対象の抽出\n",
    "           shu_d_m = random.sample(shu_m,len(m)-2)\n",
    "           shu_d_m = \"\".join(shu_d_m)#[\"a\",\"b\",\"c\"]  -> abc\n",
    "           m_for_ans = m[0] + shu_d_m + m[-1]\n",
    "           ans_list.append(m_for_ans)\n",
    "        else:#4文字以下の時\n",
    "            ans_list.append(m)\n",
    "\n",
    "    #リスト->文章\n",
    "    ans_bun = \"\"\n",
    "    for x in range (len(ans_list)):\n",
    "        if x != len(ans_list):#最後の単語以外は後ろに空白を追加\n",
    "            ans_bun = ans_bun + ans_list[x] + \" \"\n",
    "        else:\n",
    "            ans_bun = ans_bun + ans_list[x]\n",
    "    \n",
    "    return ans_bun"
   ]
  },
  {
   "cell_type": "code",
   "execution_count": 2,
   "metadata": {},
   "outputs": [
    {
     "data": {
      "text/plain": [
       "'I cound’lt bievlee that I cluod aaltulcy utedrnsand what I was rineadg : the pmnehoenal pwoer of the huamn mind . '"
      ]
     },
     "execution_count": 2,
     "metadata": {},
     "output_type": "execute_result"
    }
   ],
   "source": [
    "narabikae(\"I couldn’t believe that I could actually understand what I was reading : the phenomenal power of the human mind .\")"
   ]
  },
  {
   "cell_type": "code",
   "execution_count": null,
   "metadata": {},
   "outputs": [],
   "source": []
  }
 ],
 "metadata": {
  "interpreter": {
   "hash": "34ccacd3b6fdbd462b750c5ef896413565fa613738e46158bd59146bdd5a1dd5"
  },
  "kernelspec": {
   "display_name": "Python 3.11.3",
   "language": "python",
   "name": "python3"
  },
  "language_info": {
   "codemirror_mode": {
    "name": "ipython",
    "version": 3
   },
   "file_extension": ".py",
   "mimetype": "text/x-python",
   "name": "python",
   "nbconvert_exporter": "python",
   "pygments_lexer": "ipython3",
   "version": "3.11.3"
  },
  "orig_nbformat": 4
 },
 "nbformat": 4,
 "nbformat_minor": 2
}
