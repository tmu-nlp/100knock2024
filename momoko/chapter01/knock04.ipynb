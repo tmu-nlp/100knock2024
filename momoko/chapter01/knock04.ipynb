{
 "cells": [
  {
   "cell_type": "code",
   "execution_count": 1,
   "metadata": {},
   "outputs": [
    {
     "name": "stdout",
     "output_type": "stream",
     "text": [
      "<class 'dict'>\n",
      "{0: 'Hi', 1: 'H', 2: 'Li', 3: 'Be', 4: 'Bo', 5: 'C', 6: 'N', 7: 'O', 8: 'F', 9: 'N', 10: 'Na', 11: 'Mi', 12: 'Al', 13: 'Si', 14: 'Pe', 15: 'S', 16: 'C', 17: 'Ar', 18: 'Ki', 19: 'C'}\n"
     ]
    }
   ],
   "source": [
    "#04\n",
    "\n",
    "input=\"Hi He Lied Because Boron Could Not Oxidize Fluorine. New Nations Might Also Sign Peace Security Clause. Arthur King Can.\"\n",
    "king_list=[]\n",
    "num_list = [1, 5, 6, 7, 8, 9, 15, 16, 19]\n",
    "input_sp = input.split(\" \")\n",
    "\n",
    "for num in range (len(input_sp)):\n",
    "    if num in num_list:\n",
    "        king_list.append([num,input_sp[num][0]])#何番目か，input_spから対応する一文字目だけ持ってくる\n",
    "    else:\n",
    "        king_list.append([num,input_sp[num][0:2]])#何番目か，input_spから対応する1&2文字目だけ持ってくる\n",
    "\n",
    "king_dict = dict(king_list)#リストから辞書化\n",
    "print(type(king_dict))\n",
    "print(king_dict)"
   ]
  },
  {
   "cell_type": "code",
   "execution_count": null,
   "metadata": {},
   "outputs": [],
   "source": []
  }
 ],
 "metadata": {
  "interpreter": {
   "hash": "34ccacd3b6fdbd462b750c5ef896413565fa613738e46158bd59146bdd5a1dd5"
  },
  "kernelspec": {
   "display_name": "Python 3.11.3",
   "language": "python",
   "name": "python3"
  },
  "language_info": {
   "codemirror_mode": {
    "name": "ipython",
    "version": 3
   },
   "file_extension": ".py",
   "mimetype": "text/x-python",
   "name": "python",
   "nbconvert_exporter": "python",
   "pygments_lexer": "ipython3",
   "version": "3.11.3"
  },
  "orig_nbformat": 4
 },
 "nbformat": 4,
 "nbformat_minor": 2
}
