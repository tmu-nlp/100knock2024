{
 "cells": [
  {
   "cell_type": "code",
   "execution_count": 1,
   "metadata": {},
   "outputs": [
    {
     "name": "stdout",
     "output_type": "stream",
     "text": [
      "置換成功！\n"
     ]
    }
   ],
   "source": [
    "l_tabu = []\n",
    "with open(\"popular-names.txt\") as f:\n",
    "    for line in f:  # 1行ずつ参照する\n",
    "        tabu = line.replace(\"\\t\", \" \").replace(\"\\n\",\"\")\n",
    "        l_tabu.append(tabu)\n",
    "\n",
    "ans = !sed -e 's/\\t/ /g' ./popular-names.txt\n",
    "l_ans = list(ans)\n",
    "\n",
    "f.close()\n",
    "\n",
    "seikou_count=0\n",
    "for i in range(len(l_tabu)):\n",
    "    if l_tabu[i] == l_ans[i]:\n",
    "        seikou_count += 1\n",
    "\n",
    "if seikou_count == len(l_tabu):\n",
    "    print(\"置換成功！\")\n",
    "else:\n",
    "    print(\"置換失敗\")"
   ]
  },
  {
   "cell_type": "code",
   "execution_count": null,
   "metadata": {},
   "outputs": [],
   "source": []
  }
 ],
 "metadata": {
  "interpreter": {
   "hash": "34ccacd3b6fdbd462b750c5ef896413565fa613738e46158bd59146bdd5a1dd5"
  },
  "kernelspec": {
   "display_name": "Python 3.11.3",
   "language": "python",
   "name": "python3"
  },
  "language_info": {
   "codemirror_mode": {
    "name": "ipython",
    "version": 3
   },
   "file_extension": ".py",
   "mimetype": "text/x-python",
   "name": "python",
   "nbconvert_exporter": "python",
   "pygments_lexer": "ipython3",
   "version": "3.11.3"
  },
  "orig_nbformat": 4
 },
 "nbformat": 4,
 "nbformat_minor": 2
}
