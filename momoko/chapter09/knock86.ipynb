{
  "cells": [
    {
      "cell_type": "markdown",
      "metadata": {
        "id": "HE9O2HVCj1Qr"
      },
      "source": [
        "### 畳み込みニューラルネットワーク\n",
        "データから直接学習するディープラーニングのためのネットワーク構造．人の脳神経を模している．"
      ]
    },
    {
      "cell_type": "code",
      "execution_count": 19,
      "metadata": {
        "id": "Fc6r7CIlj69p"
      },
      "outputs": [],
      "source": [
        "import pandas as pd\n",
        "from collections import defaultdict\n",
        "import string\n",
        "import numpy as np\n",
        "from gensim.models import KeyedVectors\n",
        "import torch"
      ]
    },
    {
      "cell_type": "code",
      "execution_count": 20,
      "metadata": {
        "id": "hIJ0wQ-jloxj"
      },
      "outputs": [],
      "source": [
        "# knock80をまとめたもの\n",
        "class make_and_translate_ID():\n",
        "    def __init__(self, data):\n",
        "        self.train_dict = defaultdict(int)\n",
        "        self.id_list = []\n",
        "        self.id_dict = dict()\n",
        "        self.make_id(data)\n",
        "\n",
        "    def make_id(self, data):\n",
        "        for line in data:\n",
        "            words = line.translate(table).split()\n",
        "            for word in words:\n",
        "                self.train_dict[word] += 1\n",
        "        calc_dict = dict(self.train_dict)\n",
        "        sort_list = sorted(calc_dict.items(), key=lambda x: x[1], reverse=True)\n",
        "        for i, (trg_word, freq) in enumerate(sort_list):\n",
        "            if freq >= 2:\n",
        "                self.id_list.append((trg_word, i+1))\n",
        "            else:\n",
        "                self.id_list.append((trg_word, 0))\n",
        "        self.id_dict = dict(self.id_list)\n",
        "\n",
        "    def return_id(self, line):\n",
        "        one_hot_vec = []\n",
        "        words = line.strip().split(\" \")\n",
        "        for word in words:\n",
        "            if word in self.id_dict.keys():\n",
        "                one_hot_vec.append(self.id_dict[word])\n",
        "            else:\n",
        "                one_hot_vec.append(0)\n",
        "        return one_hot_vec"
      ]
    },
    {
      "cell_type": "code",
      "execution_count": 21,
      "metadata": {
        "colab": {
          "base_uri": "https://localhost:8080/"
        },
        "id": "g9_acoNcob6x",
        "outputId": "eefd7940-879b-46ce-8599-dc973ceed5ad"
      },
      "outputs": [
        {
          "name": "stdout",
          "output_type": "stream",
          "text": [
            "UPDATE 3-Big US banks' funding advantage reduced, could rise in crisis-official\n",
            "[4, 0, 7, 0, 3046, 5175, 0, 175, 123, 3, 0]\n"
          ]
        }
      ],
      "source": [
        "#全ての句読点文字をスペースに置き換える翻訳テーブル\n",
        "table = str.maketrans(string.punctuation, ' '*len(string.punctuation))\n",
        "header_name = ['TITLE', 'CATEGORY']\n",
        "\n",
        "train_data = pd.read_csv(\"../chapter06/train.txt\", header=None,sep='\\t', names=header_name)\n",
        "\n",
        "w2id = make_and_translate_ID(train_data[\"TITLE\"])\n",
        "test_vec = w2id.return_id(train_data[\"TITLE\"][10])\n",
        "print(train_data[\"TITLE\"][10])\n",
        "print(test_vec)"
      ]
    },
    {
      "cell_type": "code",
      "execution_count": 22,
      "metadata": {
        "colab": {
          "base_uri": "https://localhost:8080/"
        },
        "id": "iJGEIwVMo2-B",
        "outputId": "7c68a8cd-1a90-47f7-e648-77b716ea6aef"
      },
      "outputs": [
        {
          "name": "stdout",
          "output_type": "stream",
          "text": [
            "学習済単語数: 16412 / 17157\n",
            "torch.Size([17157, 300])\n"
          ]
        }
      ],
      "source": [
        "model = KeyedVectors.load_word2vec_format('../chapter07/GoogleNews-vectors-negative300.bin.gz', binary=True)\n",
        "\n",
        "VOCAB_SIZE = len(set(w2id.id_dict.keys())) + 1\n",
        "EMB_SIZE = 300\n",
        "weights = np.zeros((VOCAB_SIZE, EMB_SIZE))#lenがVOCAB_SIZEの，EMB_SIZE個ずつ0が入っている配列\n",
        "words_in_pretrained = 0\n",
        "\n",
        "# 与えられた単語に対し，学習済モデルから単語埋め込み(=ベクトル)を取得する\n",
        "for i, word in enumerate(w2id.id_dict.keys()):\n",
        "    #i:単語ID，　word:単語\n",
        "    try:\n",
        "        weights[i] = model[word]\n",
        "        words_in_pretrained += 1\n",
        "    except KeyError:#キーがなければランダムなベクトルを生成\n",
        "        weights[i] = np.random.normal(scale=0.4, size=(EMB_SIZE,))\n",
        "\n",
        "weights = torch.from_numpy(weights.astype((np.float32)))#torch.from_numpy: ndarrayからtensorを作る\n",
        "print(f'学習済単語数: {words_in_pretrained} / {VOCAB_SIZE}')\n",
        "print(weights.size())"
      ]
    },
    {
      "cell_type": "code",
      "execution_count": 23,
      "metadata": {
        "id": "ZIgEvMv2yNOE"
      },
      "outputs": [],
      "source": [
        "import torch\n",
        "import torch.nn as nn\n",
        "from torch.utils.data import Dataset\n",
        "from torch.nn import functional as F"
      ]
    },
    {
      "cell_type": "code",
      "execution_count": 24,
      "metadata": {
        "id": "iAoJ5wHGD2hA"
      },
      "outputs": [],
      "source": [
        "class RNN(nn.Module):\n",
        "    def __init__(self, hidden_size, vocab_size, emb_size, pad_idx, output_size, device, num_layers, emb_weight=None, bidirectional=False):\n",
        "        super().__init__()\n",
        "        self.hid_size = hidden_size\n",
        "        self.num_layers = num_layers\n",
        "        self.num_directions = bidirectional + 1\n",
        "\n",
        "        if emb_weight != None:\n",
        "            self.emb = nn.Embedding.from_pretrained(\n",
        "                emb_weight, padding_idx=pad_idx)\n",
        "        else:\n",
        "            self.emb = nn.Embedding(vocab_size, emb_size, padding_idx=pad_idx)\n",
        "\n",
        "        self.rnn = nn.RNN(emb_size, hidden_size, num_layers,\n",
        "                          nonlinearity=\"tanh\", batch_first=True, bidirectional=bidirectional)\n",
        "        self.fc = nn.Linear(hidden_size * self.num_directions, output_size)\n",
        "\n",
        "    def forward(self, x):\n",
        "        self.batch_size = x.size()[0]\n",
        "        hidden = torch.zeros(self.num_layers * self.num_directions,\n",
        "                             self.batch_size, self.hid_size, device=device)\n",
        "        emb = self.emb(x)\n",
        "        out, hidden = self.rnn(emb, hidden)\n",
        "        out = self.fc(out[:, -1, :])\n",
        "        return out\n",
        "\n",
        "    def init_hidden(self, batch_size):\n",
        "        num_directions = 2 if self.bidirectional else 1\n",
        "        return torch.zeros(self.num_layers * num_directions, batch_size, self.hid_size).to(self.device)"
      ]
    },
    {
      "cell_type": "markdown",
      "metadata": {
        "id": "OLYqb6ngF8lV"
      },
      "source": [
        "ここが新しい.   \n",
        "畳み込みニューラルネットワーク(=CNN).  \n",
        "入力層->畳み込み層(局所的な特徴量の抽出)->プーリング層(移動不変性の付与)"
      ]
    },
    {
      "cell_type": "code",
      "execution_count": 25,
      "metadata": {
        "id": "PAuO8o5sD4Bk"
      },
      "outputs": [],
      "source": [
        "class CNN(nn.Module):\n",
        "    def __init__(self, vocab_size, emb_size, padding_idx, output_size, out_channels, kernel_heights, stride, padding, emb_weights=None):\n",
        "        \"\"\"\n",
        "        vocab_size: 語彙サイズ\n",
        "        emb_size: 埋め込み層サイズ\n",
        "        padding_idx: ↑でパディングに使うインデックス\n",
        "        output_size: 出力サイズ\n",
        "        out_channels: 畳み込みの出力チャンネル数\n",
        "        kernel_heights: 畳み込みカーネルの高さ\n",
        "        stride: 畳み込みのストライド\n",
        "        padding: 畳み込みのパディング\n",
        "        emb_weights: 事前学習済みの埋め込み重なり\n",
        "        \"\"\"\n",
        "        super().__init__()\n",
        "        if emb_weights != None:  #埋め込み層の定義\n",
        "          self.emb = nn.Embedding.from_pretrained(emb_weights, padding_idx=padding_idx)\n",
        "        else:\n",
        "          self.emb = nn.Embedding(vocab_size, emb_size, padding_idx=padding_idx)\n",
        "        self.conv = nn.Conv2d(1, out_channels, (kernel_heights, emb_size), stride, (padding, 0))#畳み込み層の定義\n",
        "        self.drop = nn.Dropout(0.3)#過学習を防ぐためにランダムに1部分のニューロンを無効\n",
        "        self.fc = nn.Linear(out_channels, output_size)#全結合層の定義\n",
        "\n",
        "    def forward(self,x):\n",
        "        emb = self.emb(x).unsqueeze(1)#畳み込み層の適用\n",
        "        conv = self.conv(emb)#畳み込み層の適用\n",
        "        act = F.relu(conv.squeeze(3))#活性化関数の適用\n",
        "        max_pool = F.max_pool1d(act, act.size()[2])#最大プーリング層の適用\n",
        "        out = self.fc(self.drop(max_pool.squeeze(2)))#全結合層とドロップアウトの適用\n",
        "        return out"
      ]
    },
    {
      "cell_type": "code",
      "execution_count": 26,
      "metadata": {
        "id": "IH5DJu1ND6Br"
      },
      "outputs": [],
      "source": [
        "class NewsDataset(Dataset):\n",
        "    def __init__(self, x, y, tokenizer):\n",
        "        self.x = x\n",
        "        self.y = y\n",
        "        self.tokenizer = tokenizer\n",
        "\n",
        "    def __len__(self):\n",
        "        return len(self.y)\n",
        "\n",
        "    def __getitem__(self, idx):\n",
        "        text = self.x[idx]\n",
        "        inputs = self.tokenizer(text)\n",
        "\n",
        "        return {\n",
        "            'inputs': torch.tensor(inputs, dtype=torch.int64),\n",
        "            'labels': torch.tensor(self.y[idx], dtype=torch.int64)\n",
        "        }"
      ]
    },
    {
      "cell_type": "code",
      "execution_count": 27,
      "metadata": {
        "id": "Akdesy1qPIIa"
      },
      "outputs": [],
      "source": [
        "train = pd.read_csv(\"../chapter06/train.txt\", sep='\\t')\n",
        "valid = pd.read_csv(\"../chapter06/valid.txt\", sep='\\t')\n",
        "test = pd.read_csv(\"../chapter06/test.txt\", sep='\\t')\n",
        "\n",
        "category = {'b': 0, 't': 1, 'e': 2, 'm': 3}\n",
        "y_train = torch.tensor(train['CATEGORY'].map(lambda x: category[x]).values)\n",
        "y_valid = torch.tensor(valid['CATEGORY'].map(lambda x: category[x]).values)\n",
        "y_test = torch.tensor(test['CATEGORY'].map(lambda x: category[x]).values)\n",
        "\n",
        "dataset_train = NewsDataset(train[\"TITLE\"], y_train, w2id.return_id)\n",
        "dataset_valid = NewsDataset(valid[\"TITLE\"], y_valid, w2id.return_id)\n",
        "dataset_test = NewsDataset(test[\"TITLE\"], y_test, w2id.return_id)"
      ]
    },
    {
      "cell_type": "code",
      "execution_count": 28,
      "metadata": {
        "colab": {
          "base_uri": "https://localhost:8080/"
        },
        "id": "5aWSxTpbPTwr",
        "outputId": "ddfe92ef-f721-473d-9d8f-74e614689ea4"
      },
      "outputs": [
        {
          "name": "stdout",
          "output_type": "stream",
          "text": [
            "tensor([[0.2202, 0.2674, 0.2600, 0.2524]], grad_fn=<SoftmaxBackward0>)\n",
            "tensor([[0.2156, 0.2295, 0.2793, 0.2757]], grad_fn=<SoftmaxBackward0>)\n",
            "tensor([[0.2281, 0.2734, 0.2685, 0.2301]], grad_fn=<SoftmaxBackward0>)\n",
            "tensor([[0.2184, 0.2538, 0.2900, 0.2378]], grad_fn=<SoftmaxBackward0>)\n",
            "tensor([[0.2292, 0.2495, 0.2910, 0.2303]], grad_fn=<SoftmaxBackward0>)\n",
            "tensor([[0.2228, 0.2061, 0.2728, 0.2982]], grad_fn=<SoftmaxBackward0>)\n",
            "tensor([[0.2317, 0.2380, 0.2975, 0.2328]], grad_fn=<SoftmaxBackward0>)\n",
            "tensor([[0.2282, 0.2054, 0.2795, 0.2869]], grad_fn=<SoftmaxBackward0>)\n",
            "tensor([[0.2160, 0.2475, 0.2977, 0.2388]], grad_fn=<SoftmaxBackward0>)\n",
            "tensor([[0.2383, 0.2398, 0.2524, 0.2695]], grad_fn=<SoftmaxBackward0>)\n"
          ]
        },
        {
          "name": "stderr",
          "output_type": "stream",
          "text": [
            "/var/folders/1p/m23jt2g15kz8d77xv0qpzbt40000gn/T/ipykernel_37913/3360178210.py:16: UserWarning: To copy construct from a tensor, it is recommended to use sourceTensor.clone().detach() or sourceTensor.clone().detach().requires_grad_(True), rather than torch.tensor(sourceTensor).\n",
            "  'labels': torch.tensor(self.y[idx], dtype=torch.int64)\n"
          ]
        }
      ],
      "source": [
        "VOCAB_SIZE = len(set(w2id.id_dict.values())) + 1\n",
        "EMB_SIZE = 300\n",
        "PADDING_IDX = len(set(w2id.id_dict.values()))\n",
        "OUTPUT_SIZE = 4\n",
        "OUT_CHANNELS = 100\n",
        "KERNEL_HEIGHTS = 3\n",
        "STRIDE = 1\n",
        "PADDING = 1\n",
        "\n",
        "model = CNN(VOCAB_SIZE, EMB_SIZE, PADDING_IDX, OUTPUT_SIZE, OUT_CHANNELS, KERNEL_HEIGHTS, STRIDE, PADDING, emb_weights=weights)\n",
        "\n",
        "for i in range(10):\n",
        "  X = dataset_train[i]['inputs']\n",
        "  print(torch.softmax(model(X.unsqueeze(0)), dim=-1))"
      ]
    },
    {
      "cell_type": "code",
      "execution_count": 29,
      "metadata": {
        "id": "KRR7wJz2PgNa"
      },
      "outputs": [],
      "source": [
        "from torch.utils.data import DataLoader\n",
        "from torch.utils.data import Dataset\n",
        "import time\n",
        "from torch import optim\n",
        "import numpy as np\n",
        "from matplotlib import pyplot as plt"
      ]
    },
    {
      "cell_type": "code",
      "execution_count": 30,
      "metadata": {
        "id": "iXemgzpWPs7z"
      },
      "outputs": [],
      "source": [
        "# knock82より\n",
        "# 損失の正解率の計算\n",
        "def calc_loss_and_acc(model, dataset, device=None, criterion=None):\n",
        "    # model.eval()\n",
        "    dataloader = DataLoader(dataset, batch_size=1, shuffle=False)\n",
        "    loss = 0.0\n",
        "    total = 0\n",
        "    correct = 0\n",
        "    with torch.no_grad():\n",
        "        for data in dataloader:\n",
        "            inputs = data[\"inputs\"].to(device)\n",
        "            labels = data[\"labels\"].to(device)\n",
        "            outputs = model(inputs)\n",
        "\n",
        "            if criterion != None:\n",
        "                loss += criterion(outputs, labels).item()\n",
        "\n",
        "            pred = torch.argmax(outputs, dim=-1)\n",
        "            total += len(inputs)\n",
        "            correct += (pred == labels).sum().item()\n",
        "\n",
        "        return loss / len(dataset), correct / total"
      ]
    },
    {
      "cell_type": "code",
      "execution_count": 31,
      "metadata": {
        "id": "XbFsXCNTPxp6"
      },
      "outputs": [],
      "source": [
        "# knock82より\n",
        "# 学習する\n",
        "def train_model(dataset_train, dataset_valid, batch_size, model, criterion,  optimizer, num_epochs, device=None, collate_fn=None):\n",
        "    model.to(device)\n",
        "\n",
        "    dataloader_train = DataLoader(\n",
        "        dataset_train, batch_size=batch_size, shuffle=True, collate_fn=collate_fn)\n",
        "    dataloader_valid = DataLoader(\n",
        "        dataset_valid, batch_size=1, shuffle=False)\n",
        "\n",
        "    log_train = []\n",
        "    log_valid = []\n",
        "\n",
        "    for epoch in range(num_epochs):\n",
        "        start_time = time.time()\n",
        "\n",
        "        model.train()\n",
        "        loss_train = 0.0\n",
        "        for data in dataloader_train:\n",
        "            optimizer.zero_grad()\n",
        "\n",
        "            inputs = data[\"inputs\"].to(device)\n",
        "            labels = data[\"labels\"].to(device)\n",
        "            outputs = model(inputs)\n",
        "            loss = criterion(outputs, labels)\n",
        "            loss.backward()\n",
        "            optimizer.step()\n",
        "        end_time = time.time()\n",
        "\n",
        "        model.eval()\n",
        "        loss_train, acc_train = calc_loss_and_acc(\n",
        "            model, dataset_train, device, criterion=criterion)\n",
        "        loss_valid, acc_valid = calc_loss_and_acc(\n",
        "            model, dataset_valid, device, criterion=criterion)\n",
        "        log_train.append([loss_train, acc_train])\n",
        "        log_valid.append([loss_valid, acc_valid])\n",
        "\n",
        "        torch.save({'epoch': epoch, 'model_state_dict': model.state_dict(\n",
        "        ), 'optimizer_state_dict': optimizer.state_dict()}, f'./k86_saves/checkpoint{epoch + 1}.pt')\n",
        "\n",
        "        print(f\"epoch: {epoch+1},\"\n",
        "        f\"loss_train: {loss_train:.4f},\"\n",
        "        f\"accuracy_train: {acc_train:.4f},\"\n",
        "        f\"loss_valid: {loss_valid:.4f},\"\n",
        "        f\"accuracy_valid: {acc_valid:.4f},\"\n",
        "        f\"train_time: {(end_time - start_time):.4f}sec\")\n",
        "    return {\n",
        "        \"train\": log_train,\n",
        "        \"valid\": log_valid\n",
        "    }"
      ]
    },
    {
      "cell_type": "code",
      "execution_count": 32,
      "metadata": {
        "id": "JjxqV3e8P0nm"
      },
      "outputs": [],
      "source": [
        "# knock83より\n",
        "#　損失，正解率の可視化\n",
        "def make_graph_by_logs(log, savename):\n",
        "    fig, ax = plt.subplots(1, 2, figsize=(15, 5))\n",
        "    ax[0].plot(np.array(log['train']).T[0], label='train')\n",
        "    ax[0].plot(np.array(log['valid']).T[0], label='valid')\n",
        "    ax[0].set_xlabel('epoch')\n",
        "    ax[0].set_ylabel('loss')\n",
        "    ax[0].legend()\n",
        "    ax[1].plot(np.array(log['train']).T[1], label='train')\n",
        "    ax[1].plot(np.array(log['valid']).T[1], label='valid')\n",
        "    ax[1].set_xlabel('epoch')\n",
        "    ax[1].set_ylabel('accuracy')\n",
        "    ax[1].legend()\n",
        "    plt.savefig(savename)"
      ]
    },
    {
      "cell_type": "code",
      "execution_count": 33,
      "metadata": {
        "id": "v1YXtUNYP2rT"
      },
      "outputs": [],
      "source": [
        "# ミニバッチ化，GPU上で計算\n",
        "#バッチデータを統一すること\n",
        "class Padseq():\n",
        "    def __init__(self, padding_idx):\n",
        "        self.padding_idx = padding_idx\n",
        "\n",
        "    def __call__(self, batch):\n",
        "        sorted_batch = sorted(\n",
        "            batch, key=lambda x: x['inputs'].shape[0], reverse=True)\n",
        "        sequences = [x['inputs'] for x in sorted_batch]\n",
        "        sequences_padded = torch.nn.utils.rnn.pad_sequence(\n",
        "            sequences, batch_first=True, padding_value=self.padding_idx)\n",
        "        labels = torch.LongTensor([x['labels'] for x in sorted_batch])\n",
        "\n",
        "        return {'inputs': sequences_padded, 'labels': labels}"
      ]
    },
    {
      "cell_type": "code",
      "execution_count": 34,
      "metadata": {
        "id": "xmkBQdpbP4Wq"
      },
      "outputs": [],
      "source": [
        "VOCAB_SIZE = len(set(w2id.id_dict.values())) + 1\n",
        "EMB_SIZE = 300\n",
        "PADDING_IDX = len(set(w2id.id_dict.values()))\n",
        "OUTPUT_SIZE = 4\n",
        "HIDDEN_SIZE = 50\n",
        "NUM_LAYERS = 2\n",
        "LEARNING_RATE = 5e-2\n",
        "BATCH_SIZE = 32\n",
        "NUM_EPOCHS = 10\n",
        "\n",
        "device = torch.device(\"mps\")"
      ]
    },
    {
      "cell_type": "code",
      "execution_count": 35,
      "metadata": {
        "colab": {
          "base_uri": "https://localhost:8080/",
          "height": 381
        },
        "id": "TP3uJZBbQaQB",
        "outputId": "8ed87db1-6c37-4852-9ad3-8a9d08f937c4"
      },
      "outputs": [
        {
          "name": "stderr",
          "output_type": "stream",
          "text": [
            "/var/folders/1p/m23jt2g15kz8d77xv0qpzbt40000gn/T/ipykernel_37913/3360178210.py:16: UserWarning: To copy construct from a tensor, it is recommended to use sourceTensor.clone().detach() or sourceTensor.clone().detach().requires_grad_(True), rather than torch.tensor(sourceTensor).\n",
            "  'labels': torch.tensor(self.y[idx], dtype=torch.int64)\n"
          ]
        },
        {
          "name": "stdout",
          "output_type": "stream",
          "text": [
            "epoch: 1,loss_train: 1.3369,accuracy_train: 0.4041,loss_valid: 1.3619,accuracy_valid: 0.3988,train_time: 9.8826sec\n",
            "epoch: 2,loss_train: 1.3013,accuracy_train: 0.4213,loss_valid: 1.3342,accuracy_valid: 0.4190,train_time: 9.9447sec\n",
            "epoch: 3,loss_train: 1.3574,accuracy_train: 0.4028,loss_valid: 1.3884,accuracy_valid: 0.4018,train_time: 10.2344sec\n",
            "epoch: 4,loss_train: 1.2677,accuracy_train: 0.4960,loss_valid: 1.3231,accuracy_valid: 0.4850,train_time: 10.1020sec\n",
            "epoch: 5,loss_train: 1.5186,accuracy_train: 0.4026,loss_valid: 1.5545,accuracy_valid: 0.4010,train_time: 10.0969sec\n",
            "epoch: 6,loss_train: 1.2385,accuracy_train: 0.4728,loss_valid: 1.2604,accuracy_valid: 0.4715,train_time: 10.0498sec\n",
            "epoch: 7,loss_train: 1.3424,accuracy_train: 0.4441,loss_valid: 1.3822,accuracy_valid: 0.4340,train_time: 10.0284sec\n",
            "epoch: 8,loss_train: 1.3588,accuracy_train: 0.4117,loss_valid: 1.3842,accuracy_valid: 0.4085,train_time: 10.1495sec\n",
            "epoch: 9,loss_train: 1.2815,accuracy_train: 0.4694,loss_valid: 1.3181,accuracy_valid: 0.4685,train_time: 9.8865sec\n",
            "epoch: 10,loss_train: 1.2256,accuracy_train: 0.5049,loss_valid: 1.2559,accuracy_valid: 0.4993,train_time: 9.9121sec\n",
            "Train Accuracy: 0.505\n",
            "Test Accuracy: 0.496\n"
          ]
        },
        {
          "data": {
            "image/png": "[encoded data removed]",
            "text/plain": [
              "<Figure size 1500x500 with 2 Axes>"
            ]
          },
          "metadata": {},
          "output_type": "display_data"
        }
      ],
      "source": [
        "model = RNN(HIDDEN_SIZE, VOCAB_SIZE, EMB_SIZE, PADDING_IDX, OUTPUT_SIZE, device, NUM_LAYERS, emb_weight=weights, bidirectional=True)\n",
        "\n",
        "criterion = nn.CrossEntropyLoss()\n",
        "\n",
        "optimizer = torch.optim.SGD(model.parameters(), lr=LEARNING_RATE)\n",
        "\n",
        "log = train_model(dataset_train, dataset_valid, BATCH_SIZE, model, criterion, optimizer, NUM_EPOCHS, device=device, collate_fn=Padseq(PADDING_IDX))\n",
        "\n",
        "make_graph_by_logs(log, \"./graphs/knock86.png\")\n",
        "_, acc_train = calc_loss_and_acc(model, dataset_train,device)\n",
        "_, acc_test = calc_loss_and_acc(model, dataset_test,device)\n",
        "print(f'Train Accuracy: {acc_train:.3f}')\n",
        "print(f'Test Accuracy: {acc_test:.3f}')"
      ]
    },
    {
      "cell_type": "code",
      "execution_count": null,
      "metadata": {},
      "outputs": [],
      "source": []
    }
  ],
  "metadata": {
    "colab": {
      "provenance": []
    },
    "kernelspec": {
      "display_name": "Python 3",
      "name": "python3"
    },
    "language_info": {
      "codemirror_mode": {
        "name": "ipython",
        "version": 3
      },
      "file_extension": ".py",
      "mimetype": "text/x-python",
      "name": "python",
      "nbconvert_exporter": "python",
      "pygments_lexer": "ipython3",
      "version": "3.11.9"
    }
  },
  "nbformat": 4,
  "nbformat_minor": 0
}
