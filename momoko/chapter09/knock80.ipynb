{
 "cells": [
  {
   "cell_type": "code",
   "execution_count": 14,
   "metadata": {},
   "outputs": [],
   "source": [
    "import pandas as pd\n",
    "import re\n",
    "import nltk"
   ]
  },
  {
   "cell_type": "code",
   "execution_count": 15,
   "metadata": {},
   "outputs": [],
   "source": [
    "def translate_to_id(filename):\n",
    "    # txtファイルの読み込み\n",
    "    df = pd.read_csv(filename,sep=\"\\t\")\n",
    "\n",
    "    # 合計登場回数，列名を2次元配列に\n",
    "    l_sum = list(df.sum())\n",
    "    l_col = df.columns.values\n",
    "    l_zipped = list(zip(l_sum, l_col))\n",
    "\n",
    "    # 登場回数の少ない順に並べる\n",
    "    sorted_l = sorted(l_zipped)\n",
    "\n",
    "    # 最頻出単語から順にid付与\n",
    "    l_translated = []\n",
    "    id_num = 1\n",
    "    for word in reversed(sorted_l):\n",
    "        if word[0] > 2:# 出現頻度が2回以上なら\n",
    "\n",
    "            l_translated.append([word[1],id_num])\n",
    "            id_num += 1\n",
    "        else:\n",
    "            l_translated.append([word[1],0])\n",
    "    \n",
    "    return dict(l_translated)"
   ]
  },
  {
   "cell_type": "code",
   "execution_count": 16,
   "metadata": {},
   "outputs": [],
   "source": [
    "train_id = translate_to_id(\"../chapter06/train.feature.txt\")"
   ]
  },
  {
   "cell_type": "code",
   "execution_count": 17,
   "metadata": {},
   "outputs": [
    {
     "data": {
      "text/plain": [
       "'\\nfind_id_by_word(train_id, \"bowe bergdahls platoonmate testifies before congress that he should face\")\\n[5610, 0, 0, 5760, 234, 2518, 100, 186, 1030, 370]\\n'"
      ]
     },
     "execution_count": 17,
     "metadata": {},
     "output_type": "execute_result"
    }
   ],
   "source": [
    "def find_id_by_word(dict, words):\n",
    "    sp_words = words.split(\" \")\n",
    "    l_id = []\n",
    "    \n",
    "    for word in sp_words:\n",
    "        # knock51の前処理と同じ\n",
    "        t_prep = re.sub(re.compile('<.*?>'), '',word)# htmlタグ削除\n",
    "        t_prep = re.sub(r'[\\\"\\'.,:;\\(\\)#\\|\\*\\+\\!\\?#$%&/\\]\\[\\{\\}]', '', t_prep)# 記号削除\n",
    "        t_prep = re.sub('[0-9]+', '', t_prep)# 数字を削除\n",
    "        t_prep = re.sub(r\"-\",\"\",t_prep)# ハイフン削除\n",
    "        t_prep = t_prep.lower()# 小文字化\n",
    "        t_prep = \" \".join([nltk.PorterStemmer().stem(t) for t in t_prep.split()])# ステミング(語幹の抽出)\n",
    "        #print(word, t_prep)\n",
    "        try:\n",
    "            l_id.append(dict[t_prep])\n",
    "        except KeyError:\n",
    "            l_id.append(0)\n",
    "            \n",
    "    #print(f\"入力された文章: {words}\")\n",
    "    #print(f\"id変換: {l_id}\")\n",
    "    #print(l_id)\n",
    "    return l_id\n",
    "\n",
    "\"\"\"\n",
    "find_id_by_word(train_id, \"bowe bergdahls platoonmate testifies before congress that he should face\")\n",
    "[5610, 0, 0, 5760, 234, 2518, 100, 186, 1030, 370]\n",
    "\"\"\""
   ]
  },
  {
   "cell_type": "code",
   "execution_count": 18,
   "metadata": {},
   "outputs": [
    {
     "data": {
      "text/plain": [
       "[461, 106, 42, 38, 2, 1033, 679, 275, 10, 81, 1619, 38, 2, 110, 1, 177, 0, 0]"
      ]
     },
     "execution_count": 18,
     "metadata": {},
     "output_type": "execute_result"
    }
   ],
   "source": [
    "find_id_by_word(train_id, 'While no deals are in place yet, Williams and Chris Columbus are in talks to join  ...')"
   ]
  },
  {
   "cell_type": "code",
   "execution_count": null,
   "metadata": {},
   "outputs": [],
   "source": []
  }
 ],
 "metadata": {
  "kernelspec": {
   "display_name": ".venv",
   "language": "python",
   "name": "python3"
  },
  "language_info": {
   "codemirror_mode": {
    "name": "ipython",
    "version": 3
   },
   "file_extension": ".py",
   "mimetype": "text/x-python",
   "name": "python",
   "nbconvert_exporter": "python",
   "pygments_lexer": "ipython3",
   "version": "3.11.9"
  }
 },
 "nbformat": 4,
 "nbformat_minor": 2
}
