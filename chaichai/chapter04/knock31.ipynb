{
 "cells": [
  {
   "cell_type": "code",
   "execution_count": 10,
   "id": "c84bfa8b",
   "metadata": {
    "scrolled": false
   },
   "outputs": [],
   "source": [
    "def parse_mecab_output(file_path):\n",
    "    sentences = []  # 文全体を格納するリスト\n",
    "    sentence = []   # 個々の文を構成する形態素を格納するリスト\n",
    "\n",
    "    with open(file_path, 'r', encoding='utf-8') as file:\n",
    "        for i, line in enumerate(file):\n",
    "            line = line.strip()\n",
    "            if not line or line == 'EOS':  # 空行や\"EOS\"行は文の終わりとして扱う\n",
    "                if sentence:  # 文が空でない場合、文をsentencesに追加\n",
    "                    sentences.append(sentence)\n",
    "                    sentence = []  # 新しい文の準備\n",
    "                continue\n",
    "\n",
    "            parts = line.split('\\t')\n",
    "            if len(parts) < 2:  # タブで分割された部分が2つ未満の場合はスキップ\n",
    "                continue\n",
    "\n",
    "            surface = parts[0]\n",
    "            feature_list = parts[1].split(',')\n",
    "            if len(feature_list) < 5:  # 形態素情報が足りない場合はスキップ\n",
    "                continue\n",
    "\n",
    "            morpheme = {\n",
    "                'surface': surface,\n",
    "                'base': feature_list[2] if len(feature_list) > 2 else '*',  # 基本形\n",
    "                'pos': feature_list[3] if len(feature_list) > 3 else '*',   # 品詞\n",
    "                'pos1': feature_list[4] if len(feature_list) > 4 else '*'   # 品詞細分類1\n",
    "            }\n",
    "            sentence.append(morpheme)\n",
    "\n",
    "        if sentence:  # ファイルの最後に残った文を追加\n",
    "            sentences.append(sentence)\n",
    "\n",
    "    return sentences\n",
    "\n",
    "sentences = parse_mecab_output('neko.txt.mecab')"
   ]
  },
  {
   "cell_type": "code",
   "execution_count": 11,
   "id": "bfcf8f53",
   "metadata": {},
   "outputs": [
    {
     "name": "stdout",
     "output_type": "stream",
     "text": [
      "[]\n"
     ]
    }
   ],
   "source": [
    "verbs = []\n",
    "for sentence in sentences:\n",
    "    for morpheme in sentence:\n",
    "        if morpheme['pos'] == '動詞':\n",
    "            verbs.append(morpheme['surface'])\n",
    "\n",
    "print(verbs[:10])  # 最初の10個の動詞の表層形を表示"
   ]
  }
 ],
 "metadata": {
  "kernelspec": {
   "display_name": "Python 3 (ipykernel)",
   "language": "python",
   "name": "python3"
  },
  "language_info": {
   "codemirror_mode": {
    "name": "ipython",
    "version": 3
   },
   "file_extension": ".py",
   "mimetype": "text/x-python",
   "name": "python",
   "nbconvert_exporter": "python",
   "pygments_lexer": "ipython3",
   "version": "3.11.5"
  }
 },
 "nbformat": 4,
 "nbformat_minor": 5
}
