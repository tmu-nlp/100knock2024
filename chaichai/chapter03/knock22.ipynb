{
 "cells": [
  {
   "cell_type": "code",
   "execution_count": 1,
   "id": "e246d876",
   "metadata": {},
   "outputs": [],
   "source": [
    "import gzip\n",
    "import json\n",
    "\n",
    "def read_wikipedia_article(filepath, target_title):\n",
    "    with gzip.open(filepath, 'rt', encoding='utf-8') as file:\n",
    "        for line in file:\n",
    "            article = json.loads(line)\n",
    "            if article['title'] == target_title:\n",
    "                return article['text']\n",
    "    return None\n",
    "\n",
    "def extract_category_lines(text):\n",
    "    lines = text.split('\\n')\n",
    "    category_lines = [line for line in lines if '[[Category:' in line]\n",
    "    return category_lines"
   ]
  },
  {
   "cell_type": "code",
   "execution_count": 2,
   "id": "c04e7488",
   "metadata": {},
   "outputs": [],
   "source": [
    "def extract_category_names(text):\n",
    "    lines = text.split('\\n')\n",
    "    category_names = []\n",
    "    for line in lines:\n",
    "        if '[[Category:' in line:\n",
    "            start = line.find('Category:') + 9\n",
    "            end = line.find(']', start)\n",
    "            category_name = line[start:end]\n",
    "            if '|' in category_name:\n",
    "                category_name = category_name[:category_name.find('|')]\n",
    "            category_names.append(category_name)\n",
    "    return category_names"
   ]
  },
  {
   "cell_type": "code",
   "execution_count": 4,
   "id": "254c8f29",
   "metadata": {},
   "outputs": [
    {
     "name": "stdout",
     "output_type": "stream",
     "text": [
      "['イギリス', 'イギリス連邦加盟国', '英連邦王国', 'G8加盟国', '欧州連合加盟国', '海洋国家', '現存する君主国', '島国', '1801年に成立した国家・領域']\n"
     ]
    }
   ],
   "source": [
    "article_text = read_wikipedia_article('jawiki-country.json.gz', 'イギリス')\n",
    "category_names = extract_category_names(article_text)\n",
    "print(category_names)"
   ]
  }
 ],
 "metadata": {
  "kernelspec": {
   "display_name": "Python 3 (ipykernel)",
   "language": "python",
   "name": "python3"
  },
  "language_info": {
   "codemirror_mode": {
    "name": "ipython",
    "version": 3
   },
   "file_extension": ".py",
   "mimetype": "text/x-python",
   "name": "python",
   "nbconvert_exporter": "python",
   "pygments_lexer": "ipython3",
   "version": "3.11.5"
  }
 },
 "nbformat": 4,
 "nbformat_minor": 5
}
