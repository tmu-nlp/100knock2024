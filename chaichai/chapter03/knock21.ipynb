{
 "cells": [
  {
   "cell_type": "code",
   "execution_count": 2,
   "id": "7bc9cfed",
   "metadata": {},
   "outputs": [],
   "source": [
    "import gzip\n",
    "import json\n",
    "\n",
    "def read_wikipedia_article(filepath, target_title):\n",
    "    with gzip.open(filepath, 'rt', encoding='utf-8') as file:\n",
    "        for line in file:\n",
    "            article = json.loads(line)\n",
    "            if article['title'] == target_title:\n",
    "                return article['text']\n",
    "    return None"
   ]
  },
  {
   "cell_type": "code",
   "execution_count": 3,
   "id": "427df2d5",
   "metadata": {},
   "outputs": [],
   "source": [
    "def extract_category_lines(text):\n",
    "    lines = text.split('\\n')\n",
    "    category_lines = [line for line in lines if '[[Category:' in line]\n",
    "    return category_lines"
   ]
  },
  {
   "cell_type": "code",
   "execution_count": 4,
   "id": "0c2d08fa",
   "metadata": {},
   "outputs": [
    {
     "name": "stdout",
     "output_type": "stream",
     "text": [
      "['[[Category:イギリス|*]]', '[[Category:イギリス連邦加盟国]]', '[[Category:英連邦王国|*]]', '[[Category:G8加盟国]]', '[[Category:欧州連合加盟国|元]]', '[[Category:海洋国家]]', '[[Category:現存する君主国]]', '[[Category:島国]]', '[[Category:1801年に成立した国家・領域]]']\n"
     ]
    }
   ],
   "source": [
    "article_text = read_wikipedia_article('jawiki-country.json.gz', 'イギリス')\n",
    "category_lines = extract_category_lines(article_text)\n",
    "print(category_lines)"
   ]
  },
  {
   "cell_type": "code",
   "execution_count": null,
   "id": "6c6cb609",
   "metadata": {},
   "outputs": [],
   "source": []
  }
 ],
 "metadata": {
  "kernelspec": {
   "display_name": "Python 3 (ipykernel)",
   "language": "python",
   "name": "python3"
  },
  "language_info": {
   "codemirror_mode": {
    "name": "ipython",
    "version": 3
   },
   "file_extension": ".py",
   "mimetype": "text/x-python",
   "name": "python",
   "nbconvert_exporter": "python",
   "pygments_lexer": "ipython3",
   "version": "3.11.5"
  }
 },
 "nbformat": 4,
 "nbformat_minor": 5
}
