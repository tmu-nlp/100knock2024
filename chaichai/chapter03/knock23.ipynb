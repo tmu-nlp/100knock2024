{
 "cells": [
  {
   "cell_type": "code",
   "execution_count": 1,
   "id": "b243facb",
   "metadata": {},
   "outputs": [],
   "source": [
    "import gzip\n",
    "import json\n",
    "\n",
    "def read_wikipedia_article(filepath, target_title):\n",
    "    with gzip.open(filepath, 'rt', encoding='utf-8') as file:\n",
    "        for line in file:\n",
    "            article = json.loads(line)\n",
    "            if article['title'] == target_title:\n",
    "                return article['text']\n",
    "    return None\n",
    "\n",
    "def extract_sections(text):\n",
    "    lines = text.split('\\n')\n",
    "    sections = []\n",
    "    for line in lines:\n",
    "        if line.startswith('='):\n",
    "            level = line.count('=') // 2 - 1\n",
    "            section_name = line.strip('= ')\n",
    "            sections.append((section_name, level))\n",
    "    return sections"
   ]
  },
  {
   "cell_type": "code",
   "execution_count": 2,
   "id": "295ba5b7",
   "metadata": {},
   "outputs": [
    {
     "name": "stdout",
     "output_type": "stream",
     "text": [
      "Section: 国名, Level: 1\n",
      "Section: 歴史, Level: 1\n",
      "Section: 地理, Level: 1\n",
      "Section: 主要都市, Level: 2\n",
      "Section: 気候, Level: 2\n",
      "Section: 政治, Level: 1\n",
      "Section: 元首, Level: 2\n",
      "Section: 法, Level: 2\n",
      "Section: 内政, Level: 2\n",
      "Section: 地方行政区分, Level: 2\n",
      "Section: 外交・軍事, Level: 2\n",
      "Section: 経済, Level: 1\n",
      "Section: 鉱業, Level: 2\n",
      "Section: 農業, Level: 2\n",
      "Section: 貿易, Level: 2\n",
      "Section: 不動産, Level: 2\n",
      "Section: エネルギー政策, Level: 2\n",
      "Section: 通貨, Level: 2\n",
      "Section: 企業, Level: 2\n",
      "Section: 通信, Level: 3\n",
      "Section: 交通, Level: 1\n",
      "Section: 道路, Level: 2\n",
      "Section: 鉄道, Level: 2\n",
      "Section: 海運, Level: 2\n",
      "Section: 航空, Level: 2\n",
      "Section: 科学技術, Level: 1\n",
      "Section: 国民, Level: 1\n",
      "Section: 言語, Level: 2\n",
      "Section: 宗教, Level: 2\n",
      "Section: 婚姻, Level: 2\n",
      "Section: 移住, Level: 2\n",
      "Section: 教育, Level: 2\n",
      "Section: 医療, Level: 2\n",
      "Section: 文化, Level: 1\n",
      "Section: 食文化, Level: 2\n",
      "Section: 文学, Level: 2\n",
      "Section: 哲学, Level: 2\n",
      "Section: 音楽, Level: 2\n",
      "Section: ポピュラー音楽, Level: 3\n",
      "Section: 映画, Level: 2\n",
      "Section: コメディ, Level: 2\n",
      "Section: 国花, Level: 2\n",
      "Section: 世界遺産, Level: 2\n",
      "Section: 祝祭日, Level: 2\n",
      "Section: スポーツ, Level: 2\n",
      "Section: サッカー, Level: 3\n",
      "Section: クリケット, Level: 3\n",
      "Section: 競馬, Level: 3\n",
      "Section: モータースポーツ, Level: 3\n",
      "Section: 野球, Level: 3\n",
      "Section: カーリング, Level: 3\n",
      "Section: 自転車競技, Level: 3\n",
      "Section: 脚注, Level: 1\n",
      "Section: 関連項目, Level: 1\n",
      "Section: 外部リンク, Level: 1\n"
     ]
    }
   ],
   "source": [
    "article_text = read_wikipedia_article('jawiki-country.json.gz', 'イギリス')\n",
    "sections = extract_sections(article_text)\n",
    "for section, level in sections:\n",
    "    print(f\"Section: {section}, Level: {level}\")"
   ]
  },
  {
   "cell_type": "code",
   "execution_count": null,
   "id": "89293f68",
   "metadata": {},
   "outputs": [],
   "source": []
  }
 ],
 "metadata": {
  "kernelspec": {
   "display_name": "Python 3 (ipykernel)",
   "language": "python",
   "name": "python3"
  },
  "language_info": {
   "codemirror_mode": {
    "name": "ipython",
    "version": 3
   },
   "file_extension": ".py",
   "mimetype": "text/x-python",
   "name": "python",
   "nbconvert_exporter": "python",
   "pygments_lexer": "ipython3",
   "version": "3.11.5"
  }
 },
 "nbformat": 4,
 "nbformat_minor": 5
}
