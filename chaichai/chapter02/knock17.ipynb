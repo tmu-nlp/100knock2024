{
 "cells": [
  {
   "cell_type": "code",
   "execution_count": 1,
   "id": "1630b82e",
   "metadata": {},
   "outputs": [
    {
     "name": "stdout",
     "output_type": "stream",
     "text": [
      "['Mary' 'Anna' 'Emma' 'Elizabeth' 'Minnie' 'Margaret' 'Ida' 'Alice'\n",
      " 'Bertha' 'Sarah' 'John' 'William' 'James' 'Charles' 'George' 'Frank'\n",
      " 'Joseph' 'Thomas' 'Henry' 'Robert' 'Annie' 'Edward' 'Clara' 'Florence'\n",
      " 'Ethel' 'Bessie' 'Harry' 'Helen' 'Ruth' 'Marie' 'Lillian' 'Mildred'\n",
      " 'Dorothy' 'Frances' 'Walter' 'Evelyn' 'Virginia' 'Richard' 'Betty'\n",
      " 'Donald' 'Doris' 'Shirley' 'Barbara' 'Patricia' 'Joan' 'Nancy' 'Carol'\n",
      " 'David' 'Ronald' 'Judith' 'Linda' 'Sandra' 'Carolyn' 'Sharon' 'Michael'\n",
      " 'Susan' 'Donna' 'Larry' 'Kathleen' 'Deborah' 'Gary' 'Karen' 'Debra'\n",
      " 'Pamela' 'Cynthia' 'Mark' 'Steven' 'Lisa' 'Jeffrey' 'Lori' 'Kimberly'\n",
      " 'Tammy' 'Angela' 'Michelle' 'Jennifer' 'Melissa' 'Christopher' 'Brian'\n",
      " 'Amy' 'Laura' 'Tracy' 'Julie' 'Jason' 'Scott' 'Stephanie' 'Heather'\n",
      " 'Nicole' 'Matthew' 'Rebecca' 'Jessica' 'Amanda' 'Daniel' 'Kelly' 'Joshua'\n",
      " 'Crystal' 'Ashley' 'Megan' 'Brittany' 'Andrew' 'Justin' 'Samantha'\n",
      " 'Lauren' 'Emily' 'Brandon' 'Tyler' 'Taylor' 'Nicholas' 'Jacob' 'Hannah'\n",
      " 'Austin' 'Alexis' 'Rachel' 'Madison' 'Abigail' 'Olivia' 'Ethan' 'Anthony'\n",
      " 'Isabella' 'Ava' 'Sophia' 'Chloe' 'Alexander' 'Mia' 'Jayden' 'Noah'\n",
      " 'Aiden' 'Mason' 'Liam' 'Charlotte' 'Harper' 'Benjamin' 'Elijah' 'Amelia'\n",
      " 'Logan' 'Oliver' 'Lucas']\n"
     ]
    }
   ],
   "source": [
    "import pandas as pd\n",
    "\n",
    "#ファイルの読み込み\n",
    "file_path = 'popular-names.txt'\n",
    "df = pd.read_csv(file_path, sep='\\t', header=None)\n",
    "\n",
    "#一列目の文字を取得\n",
    "first_column = df[0]\n",
    "\n",
    "#重複を排して異なる文字列の集合を取得\n",
    "unique_strings = first_column.unique()\n",
    "\n",
    "#結果を表示\n",
    "print(unique_strings)"
   ]
  },
  {
   "cell_type": "code",
   "execution_count": null,
   "id": "71c67d11",
   "metadata": {},
   "outputs": [],
   "source": [
    "#CLI\n",
    "#cutで一列目を取得\n",
    "#sortで並べ替え\n",
    "#uniqで重複を排除\n",
    "cut -f1 filename.txt | sort | uniq"
   ]
  }
 ],
 "metadata": {
  "kernelspec": {
   "display_name": "Python 3 (ipykernel)",
   "language": "python",
   "name": "python3"
  },
  "language_info": {
   "codemirror_mode": {
    "name": "ipython",
    "version": 3
   },
   "file_extension": ".py",
   "mimetype": "text/x-python",
   "name": "python",
   "nbconvert_exporter": "python",
   "pygments_lexer": "ipython3",
   "version": "3.11.5"
  }
 },
 "nbformat": 4,
 "nbformat_minor": 5
}
