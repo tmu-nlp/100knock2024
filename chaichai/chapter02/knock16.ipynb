{
 "cells": [
  {
   "cell_type": "code",
   "execution_count": 3,
   "id": "5a8cc9c7",
   "metadata": {},
   "outputs": [],
   "source": [
    "def split_file_by_parts(filename, parts):\n",
    "    # 指定されたファイルを開く\n",
    "    with open(filename, 'r') as file:\n",
    "        lines = file.readlines()\n",
    "    \n",
    "    total_lines = len(lines)\n",
    "    # 各ファイルの行数を計算\n",
    "    lines_per_part = total_lines // parts\n",
    "    # 最後のファイルには残りのすべての行を含める\n",
    "    lines_in_last_part = lines_per_part + (total_lines % parts)\n",
    "    \n",
    "    # ファイルを分割する\n",
    "    for i in range(parts):\n",
    "        part_filename = f\"{filename}_part{i+1}\"\n",
    "        start_index = i * lines_per_part\n",
    "        if i == parts - 1:\n",
    "            end_index = start_index + lines_in_last_part\n",
    "        else:\n",
    "            end_index = start_index + lines_per_part\n",
    "        # 各部分ごとにファイルを書き出す\n",
    "        with open(part_filename, 'w') as part_file:\n",
    "            part_file.writelines(lines[start_index:end_index])\n",
    "    \n",
    "    print(f\"File is split into {parts} parts.\")"
   ]
  },
  {
   "cell_type": "code",
   "execution_count": 4,
   "id": "3fd8f6a3",
   "metadata": {},
   "outputs": [
    {
     "name": "stdout",
     "output_type": "stream",
     "text": [
      "File is split into 5 parts.\n"
     ]
    }
   ],
   "source": [
    "# ファイル名と分割数を設定\n",
    "filename = 'popular-names.txt'\n",
    "parts = 5  # 分割するファイルの数\n",
    "# 関数を呼び出す\n",
    "split_file_by_parts(filename, parts)"
   ]
  },
  {
   "cell_type": "code",
   "execution_count": null,
   "id": "b03c951f",
   "metadata": {},
   "outputs": [],
   "source": [
    "# CLIでのファイル分割\n",
    "#!/bin/bash\n",
    "filename=\"example.txt\"  # 分割するファイル名\n",
    "parts=5                 # 分割するファイルの数\n",
    "prefix=\"example_part_\"  # 出力ファイルのプレフィックス\n",
    "# 行数をカウント\n",
    "total_lines=$(wc -l < \"$filename\")\n",
    "# 各ファイルに含む行数を計算\n",
    "lines_per_part=$((total_lines / parts))\n",
    "if [ $((total_lines % parts)) -ne 0 ]; then\n",
    "    lines_per_part=$((lines_per_part + 1))\n",
    "fi\n",
    "# ファイルの分割\n",
    "split -l $lines_per_part \"$filename\" \"$prefix\"\n",
    "echo \"File has been split into $parts parts.\""
   ]
  }
 ],
 "metadata": {
  "kernelspec": {
   "display_name": "Python 3 (ipykernel)",
   "language": "python",
   "name": "python3"
  },
  "language_info": {
   "codemirror_mode": {
    "name": "ipython",
    "version": 3
   },
   "file_extension": ".py",
   "mimetype": "text/x-python",
   "name": "python",
   "nbconvert_exporter": "python",
   "pygments_lexer": "ipython3",
   "version": "3.11.5"
  }
 },
 "nbformat": 4,
 "nbformat_minor": 5
}
