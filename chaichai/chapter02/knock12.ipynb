{
 "cells": [
  {
   "cell_type": "code",
   "execution_count": 4,
   "id": "cf19aa8f",
   "metadata": {},
   "outputs": [],
   "source": [
    "with open('popular-names.txt', 'r') as file_read:\n",
    "    with open('col1.txt', 'w') as file:\n",
    "        for line in file_read:\n",
    "            first_column = line.split('\\t')[0]  \n",
    "            file.write(first_column + '\\n')\n",
    "            \n",
    "    with open('col2.txt', 'w') as file:\n",
    "        for line in file_read:\n",
    "            second_column = line.split('\\t')[1]\n",
    "            file.write(second_column+ '\\n')"
   ]
  },
  {
   "cell_type": "code",
   "execution_count": null,
   "id": "53e6c8e9",
   "metadata": {},
   "outputs": [],
   "source": [
    "## UNIXコマンド\n"
   ]
  }
 ],
 "metadata": {
  "kernelspec": {
   "display_name": "Python 3 (ipykernel)",
   "language": "python",
   "name": "python3"
  },
  "language_info": {
   "codemirror_mode": {
    "name": "ipython",
    "version": 3
   },
   "file_extension": ".py",
   "mimetype": "text/x-python",
   "name": "python",
   "nbconvert_exporter": "python",
   "pygments_lexer": "ipython3",
   "version": "3.11.5"
  }
 },
 "nbformat": 4,
 "nbformat_minor": 5
}
