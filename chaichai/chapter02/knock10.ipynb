{
 "cells": [
  {
   "cell_type": "code",
   "execution_count": 1,
   "id": "72b4777b",
   "metadata": {},
   "outputs": [
    {
     "name": "stdout",
     "output_type": "stream",
     "text": [
      "ファイルの行数は2780行です。\n"
     ]
    }
   ],
   "source": [
    "## readモードでファイルを開く\n",
    "filepath = 'popular-names.txt' \n",
    "with open(filepath, 'r') as file:\n",
    "    line_count = sum(1 for line in file)\n",
    "    \n",
    "## 出力\n",
    "print(f'ファイルの行数は{line_count}行です。')"
   ]
  },
  {
   "cell_type": "code",
   "execution_count": null,
   "id": "9f0ee086",
   "metadata": {},
   "outputs": [],
   "source": [
    "## UNIXコマンドでの実行\n",
    "wc -l 'popular-name.txt'"
   ]
  },
  {
   "cell_type": "code",
   "execution_count": null,
   "id": "ac812022",
   "metadata": {},
   "outputs": [],
   "source": [
    "## 実行結果\n",
    "2780 popular-names.txt"
   ]
  }
 ],
 "metadata": {
  "kernelspec": {
   "display_name": "Python 3 (ipykernel)",
   "language": "python",
   "name": "python3"
  },
  "language_info": {
   "codemirror_mode": {
    "name": "ipython",
    "version": 3
   },
   "file_extension": ".py",
   "mimetype": "text/x-python",
   "name": "python",
   "nbconvert_exporter": "python",
   "pygments_lexer": "ipython3",
   "version": "3.11.5"
  }
 },
 "nbformat": 4,
 "nbformat_minor": 5
}
