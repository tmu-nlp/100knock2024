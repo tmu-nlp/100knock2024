{
 "cells": [
  {
   "cell_type": "code",
   "execution_count": 9,
   "id": "5a57bab8",
   "metadata": {},
   "outputs": [],
   "source": [
    "def display_first_n_lines(N):\n",
    "    file_path = 'popular-names.txt'\n",
    "    with open(file_path, 'r') as file:\n",
    "        for i in range(N):\n",
    "            line = file.readline()\n",
    "            print(line)\n",
    "            \n",
    "            if not line:\n",
    "                break;"
   ]
  },
  {
   "cell_type": "code",
   "execution_count": 10,
   "id": "b0408e81",
   "metadata": {},
   "outputs": [
    {
     "name": "stdout",
     "output_type": "stream",
     "text": [
      "Mary\tF\t7065\t1880\n",
      "\n",
      "Anna\tF\t2604\t1880\n",
      "\n",
      "Emma\tF\t2003\t1880\n",
      "\n",
      "Elizabeth\tF\t1939\t1880\n",
      "\n",
      "Minnie\tF\t1746\t1880\n",
      "\n",
      "Margaret\tF\t1578\t1880\n",
      "\n",
      "Ida\tF\t1472\t1880\n",
      "\n",
      "Alice\tF\t1414\t1880\n",
      "\n",
      "Bertha\tF\t1320\t1880\n",
      "\n",
      "Sarah\tF\t1288\t1880\n",
      "\n"
     ]
    }
   ],
   "source": [
    "display_first_n_lines(10)"
   ]
  },
  {
   "cell_type": "code",
   "execution_count": null,
   "id": "a0b65dce",
   "metadata": {},
   "outputs": [],
   "source": [
    "##UNIXコマンド\n",
    "head -n 10 popular-names.txt"
   ]
  }
 ],
 "metadata": {
  "kernelspec": {
   "display_name": "Python 3 (ipykernel)",
   "language": "python",
   "name": "python3"
  },
  "language_info": {
   "codemirror_mode": {
    "name": "ipython",
    "version": 3
   },
   "file_extension": ".py",
   "mimetype": "text/x-python",
   "name": "python",
   "nbconvert_exporter": "python",
   "pygments_lexer": "ipython3",
   "version": "3.11.5"
  }
 },
 "nbformat": 4,
 "nbformat_minor": 5
}
