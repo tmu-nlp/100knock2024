{
 "cells": [
  {
   "cell_type": "code",
   "execution_count": 7,
   "id": "9aab12cf",
   "metadata": {},
   "outputs": [],
   "source": [
    "def display_first_n_lines(N):\n",
    "    file_path = 'popular-names.txt'\n",
    "    with open(file_path, 'r') as file:\n",
    "        line_count = len(file.readlines())\n",
    "        if(N <= line_count):\n",
    "            n_lines = file.readlines()\n",
    "            print(f'N行目まで：{n_lines[0]}')\n",
    "        else:\n",
    "            print(f'行数より多い値を指定しています！！')"
   ]
  },
  {
   "cell_type": "code",
   "execution_count": 8,
   "id": "836de781",
   "metadata": {},
   "outputs": [
    {
     "ename": "IndexError",
     "evalue": "list index out of range",
     "output_type": "error",
     "traceback": [
      "\u001b[0;31m---------------------------------------------------------------------------\u001b[0m",
      "\u001b[0;31mIndexError\u001b[0m                                Traceback (most recent call last)",
      "Cell \u001b[0;32mIn[8], line 1\u001b[0m\n\u001b[0;32m----> 1\u001b[0m display_first_n_lines(\u001b[38;5;241m10\u001b[39m)\n",
      "Cell \u001b[0;32mIn[7], line 7\u001b[0m, in \u001b[0;36mdisplay_first_n_lines\u001b[0;34m(N)\u001b[0m\n\u001b[1;32m      5\u001b[0m \u001b[38;5;28;01mif\u001b[39;00m(N \u001b[38;5;241m<\u001b[39m\u001b[38;5;241m=\u001b[39m line_count):\n\u001b[1;32m      6\u001b[0m     n_lines \u001b[38;5;241m=\u001b[39m file\u001b[38;5;241m.\u001b[39mreadlines()\n\u001b[0;32m----> 7\u001b[0m     \u001b[38;5;28mprint\u001b[39m(\u001b[38;5;124mf\u001b[39m\u001b[38;5;124m'\u001b[39m\u001b[38;5;124mN行目まで：\u001b[39m\u001b[38;5;132;01m{\u001b[39;00mn_lines[\u001b[38;5;241m0\u001b[39m]\u001b[38;5;132;01m}\u001b[39;00m\u001b[38;5;124m'\u001b[39m)\n\u001b[1;32m      8\u001b[0m \u001b[38;5;28;01melse\u001b[39;00m:\n\u001b[1;32m      9\u001b[0m     \u001b[38;5;28mprint\u001b[39m(\u001b[38;5;124mf\u001b[39m\u001b[38;5;124m'\u001b[39m\u001b[38;5;124m行数より多い値を指定しています！！\u001b[39m\u001b[38;5;124m'\u001b[39m)\n",
      "\u001b[0;31mIndexError\u001b[0m: list index out of range"
     ]
    }
   ],
   "source": [
    "display_first_n_lines(10)"
   ]
  },
  {
   "cell_type": "code",
   "execution_count": null,
   "id": "cb07f3e3",
   "metadata": {},
   "outputs": [],
   "source": []
  }
 ],
 "metadata": {
  "kernelspec": {
   "display_name": "Python 3 (ipykernel)",
   "language": "python",
   "name": "python3"
  },
  "language_info": {
   "codemirror_mode": {
    "name": "ipython",
    "version": 3
   },
   "file_extension": ".py",
   "mimetype": "text/x-python",
   "name": "python",
   "nbconvert_exporter": "python",
   "pygments_lexer": "ipython3",
   "version": "3.11.5"
  }
 },
 "nbformat": 4,
 "nbformat_minor": 5
}
