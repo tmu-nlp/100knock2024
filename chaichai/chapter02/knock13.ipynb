{
 "cells": [
  {
   "cell_type": "code",
   "execution_count": 7,
   "id": "8de5ee5f",
   "metadata": {},
   "outputs": [],
   "source": [
    "first_path = 'col1.txt'\n",
    "second_path = 'col2.txt'\n",
    "output_path = 'merged_column.txt'\n",
    "\n",
    "# Open both input files and the output file\n",
    "with open(first_path, 'r') as file1, open(second_path, 'r') as file2, open('merged_columns.txt', 'w') as outfile:\n",
    "    # Read lines simultaneously from both files\n",
    "    for line1, line2 in zip(file1, file2):\n",
    "        # Strip newline characters and combine the lines with a tab delimiter\n",
    "        merged_line = line1.strip() + '\\t' + line2.strip() + '\\n'\n",
    "        # Write the combined line to the output file\n",
    "        outfile.write(merged_line)"
   ]
  },
  {
   "cell_type": "code",
   "execution_count": null,
   "id": "c9597dbf",
   "metadata": {},
   "outputs": [],
   "source": [
    "##UNIXコマンド\n",
    "paste col1.txt col2.txt"
   ]
  }
 ],
 "metadata": {
  "kernelspec": {
   "display_name": "Python 3 (ipykernel)",
   "language": "python",
   "name": "python3"
  },
  "language_info": {
   "codemirror_mode": {
    "name": "ipython",
    "version": 3
   },
   "file_extension": ".py",
   "mimetype": "text/x-python",
   "name": "python",
   "nbconvert_exporter": "python",
   "pygments_lexer": "ipython3",
   "version": "3.11.5"
  }
 },
 "nbformat": 4,
 "nbformat_minor": 5
}
