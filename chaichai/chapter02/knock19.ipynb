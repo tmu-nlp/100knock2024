{
 "cells": [
  {
   "cell_type": "code",
   "execution_count": 1,
   "id": "0ced38b8",
   "metadata": {},
   "outputs": [
    {
     "name": "stdout",
     "output_type": "stream",
     "text": [
      "0\n",
      "James      118\n",
      "William    111\n",
      "Robert     108\n",
      "John       108\n",
      "Mary        92\n",
      "          ... \n",
      "Scott        1\n",
      "Rachel       1\n",
      "Kelly        1\n",
      "Crystal      1\n",
      "Lucas        1\n",
      "Name: count, Length: 136, dtype: int64\n"
     ]
    }
   ],
   "source": [
    "# 必要なライブラリをインポート\n",
    "import pandas as pd\n",
    "\n",
    "# データを読み込む\n",
    "data = pd.read_csv('popular-names.txt', sep='\\t', header=None)\n",
    "\n",
    "# 1列目のデータの出現頻度を計算\n",
    "frequency = data[0].value_counts()\n",
    "\n",
    "# 頻度の高い順にソートして表示\n",
    "print(frequency)"
   ]
  },
  {
   "cell_type": "code",
   "execution_count": null,
   "id": "37356fc6",
   "metadata": {},
   "outputs": [],
   "source": [
    "##CLI\n",
    "cut -f1 popular-names.txt | sort | uniq -c | sort -nr"
   ]
  }
 ],
 "metadata": {
  "kernelspec": {
   "display_name": "Python 3 (ipykernel)",
   "language": "python",
   "name": "python3"
  },
  "language_info": {
   "codemirror_mode": {
    "name": "ipython",
    "version": 3
   },
   "file_extension": ".py",
   "mimetype": "text/x-python",
   "name": "python",
   "nbconvert_exporter": "python",
   "pygments_lexer": "ipython3",
   "version": "3.11.5"
  }
 },
 "nbformat": 4,
 "nbformat_minor": 5
}
