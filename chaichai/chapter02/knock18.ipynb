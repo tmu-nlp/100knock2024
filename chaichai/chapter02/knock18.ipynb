{
 "cells": [
  {
   "cell_type": "code",
   "execution_count": 2,
   "id": "f502d512",
   "metadata": {},
   "outputs": [
    {
     "name": "stdout",
     "output_type": "stream",
     "text": [
      "            0  1      2     3\n",
      "1340    Linda  F  99689  1947\n",
      "1360    Linda  F  96211  1948\n",
      "1350    James  M  94757  1947\n",
      "1550  Michael  M  92704  1957\n",
      "1351   Robert  M  91640  1947\n",
      "...       ... ..    ...   ...\n",
      "27      Annie  F   1326  1881\n",
      "28     Bertha  F   1324  1881\n",
      "8      Bertha  F   1320  1880\n",
      "29      Alice  F   1308  1881\n",
      "9       Sarah  F   1288  1880\n",
      "\n",
      "[2780 rows x 4 columns]\n"
     ]
    }
   ],
   "source": [
    "# 必要なライブラリをインポート\n",
    "import pandas as pd\n",
    "\n",
    "# データを読み込む\n",
    "data = pd.read_csv('popular-names.txt', sep='\\t', header=None)\n",
    "\n",
    "# 3列目の数値でデータを逆順にソート\n",
    "sorted_data = data.sort_values(by=2, ascending=False)\n",
    "\n",
    "# ソートされたデータを表示\n",
    "print(sorted_data)"
   ]
  },
  {
   "cell_type": "code",
   "execution_count": null,
   "id": "95cbe0b1",
   "metadata": {},
   "outputs": [],
   "source": [
    "##CLI\n",
    "sort -k3,3nr popular-names.txt"
   ]
  }
 ],
 "metadata": {
  "kernelspec": {
   "display_name": "Python 3 (ipykernel)",
   "language": "python",
   "name": "python3"
  },
  "language_info": {
   "codemirror_mode": {
    "name": "ipython",
    "version": 3
   },
   "file_extension": ".py",
   "mimetype": "text/x-python",
   "name": "python",
   "nbconvert_exporter": "python",
   "pygments_lexer": "ipython3",
   "version": "3.11.5"
  }
 },
 "nbformat": 4,
 "nbformat_minor": 5
}
