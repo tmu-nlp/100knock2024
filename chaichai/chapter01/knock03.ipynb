{
 "cells": [
  {
   "cell_type": "code",
   "execution_count": 1,
   "id": "1026796f",
   "metadata": {},
   "outputs": [
    {
     "name": "stdout",
     "output_type": "stream",
     "text": [
      "['Now', 'I', 'need', 'a', 'drink,', 'alcoholic', 'of', 'course,', 'after', 'the', 'heavy', 'lectures', 'involving', 'quantum', 'mechanics.']\n"
     ]
    }
   ],
   "source": [
    "text = 'Now I need a drink, alcoholic of course, after the heavy lectures involving quantum mechanics.'\n",
    "text_split = text.split()\n",
    "print('空白だけ', text_split)"
   ]
  },
  {
   "cell_type": "code",
   "execution_count": 7,
   "id": "2c0d6e0f",
   "metadata": {},
   "outputs": [
    {
     "name": "stdout",
     "output_type": "stream",
     "text": [
      "空白とコンマ ['Now', 'I', 'need', 'a', 'drink', '', 'alcoholic', 'of', 'course', '', 'after', 'the', 'heavy', 'lectures', 'involving', 'quantum', 'mechanics', '']\n"
     ]
    }
   ],
   "source": [
    "import re\n",
    "\n",
    "result = re.split('[,. ]', text)\n",
    "print('空白とコンマ', result)"
   ]
  },
  {
   "cell_type": "code",
   "execution_count": null,
   "id": "a9637cfb",
   "metadata": {},
   "outputs": [],
   "source": []
  }
 ],
 "metadata": {
  "kernelspec": {
   "display_name": "Python 3 (ipykernel)",
   "language": "python",
   "name": "python3"
  },
  "language_info": {
   "codemirror_mode": {
    "name": "ipython",
    "version": 3
   },
   "file_extension": ".py",
   "mimetype": "text/x-python",
   "name": "python",
   "nbconvert_exporter": "python",
   "pygments_lexer": "ipython3",
   "version": "3.11.5"
  }
 },
 "nbformat": 4,
 "nbformat_minor": 5
}
