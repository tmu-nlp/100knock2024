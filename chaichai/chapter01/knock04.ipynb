{
 "cells": [
  {
   "cell_type": "code",
   "execution_count": 1,
   "id": "f6794ad7",
   "metadata": {},
   "outputs": [
    {
     "data": {
      "text/plain": [
       "{'H': 1,\n",
       " 'He': 2,\n",
       " 'Li': 3,\n",
       " 'Be': 4,\n",
       " 'B': 5,\n",
       " 'C': 6,\n",
       " 'N': 7,\n",
       " 'O': 8,\n",
       " 'F': 9,\n",
       " 'Ne': 10,\n",
       " 'Na': 11,\n",
       " 'Mi': 12,\n",
       " 'Al': 13,\n",
       " 'Si': 14,\n",
       " 'P': 15,\n",
       " 'S': 16,\n",
       " 'Cl': 17,\n",
       " 'Ar': 18,\n",
       " 'K': 19,\n",
       " 'Ca': 20}"
      ]
     },
     "execution_count": 1,
     "metadata": {},
     "output_type": "execute_result"
    }
   ],
   "source": [
    "# 文から単語を分解し、特定の条件で文字を取り出して、単語の位置への連想配列を作成するコードを書きます。\n",
    "\n",
    "# 与えられた文\n",
    "sentence = \"Hi He Lied Because Boron Could Not Oxidize Fluorine. New Nations Might Also Sign Peace Security Clause. Arthur King Can.\"\n",
    "\n",
    "# 文を単語に分割\n",
    "words = sentence.split()\n",
    "\n",
    "# 1文字だけ取り出す単語のインデックスのリスト（1から始まるインデックスを0から始まるインデックスに変換）\n",
    "one_letter_indices = {1, 5, 6, 7, 8, 9, 15, 16, 19}\n",
    "one_letter_indices = {index - 1 for index in one_letter_indices}\n",
    "\n",
    "# 単語の位置に対する連想配列を作成\n",
    "element_symbols = {}\n",
    "for i, word in enumerate(words):\n",
    "    # インデックスが1文字リストにある場合は1文字、そうでなければ2文字を取り出す\n",
    "    if i in one_letter_indices:\n",
    "        element_symbol = word[0]\n",
    "    else:\n",
    "        element_symbol = word[:2]\n",
    "    # 連想配列に追加（位置：シンボル）\n",
    "    element_symbols[element_symbol] = i + 1\n",
    "\n",
    "element_symbols"
   ]
  }
 ],
 "metadata": {
  "kernelspec": {
   "display_name": "Python 3 (ipykernel)",
   "language": "python",
   "name": "python3"
  },
  "language_info": {
   "codemirror_mode": {
    "name": "ipython",
    "version": 3
   },
   "file_extension": ".py",
   "mimetype": "text/x-python",
   "name": "python",
   "nbconvert_exporter": "python",
   "pygments_lexer": "ipython3",
   "version": "3.11.5"
  }
 },
 "nbformat": 4,
 "nbformat_minor": 5
}
