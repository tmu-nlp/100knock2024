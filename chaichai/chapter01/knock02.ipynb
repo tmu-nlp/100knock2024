{
 "cells": [
  {
   "cell_type": "code",
   "execution_count": 2,
   "id": "3874749c",
   "metadata": {},
   "outputs": [
    {
     "name": "stdout",
     "output_type": "stream",
     "text": [
      "パタトクカシーー\n"
     ]
    }
   ],
   "source": [
    "a = \"パトカー\"\n",
    "b = \"タクシー\"\n",
    "text = []\n",
    "\n",
    "for i in range(len(a)):\n",
    "    c = a[i] + b[i]\n",
    "    text.append(c)\n",
    "    \n",
    "result = \"\".join(text)\n",
    "print(result)"
   ]
  }
 ],
 "metadata": {
  "kernelspec": {
   "display_name": "Python 3 (ipykernel)",
   "language": "python",
   "name": "python3"
  },
  "language_info": {
   "codemirror_mode": {
    "name": "ipython",
    "version": 3
   },
   "file_extension": ".py",
   "mimetype": "text/x-python",
   "name": "python",
   "nbconvert_exporter": "python",
   "pygments_lexer": "ipython3",
   "version": "3.11.5"
  }
 },
 "nbformat": 4,
 "nbformat_minor": 5
}
