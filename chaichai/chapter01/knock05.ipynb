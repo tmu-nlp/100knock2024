{
 "cells": [
  {
   "cell_type": "code",
   "execution_count": 1,
   "id": "79ba1505",
   "metadata": {},
   "outputs": [
    {
     "data": {
      "text/plain": [
       "([('I', 'am'), ('am', 'an'), ('an', 'NLPer')],\n",
       " [('I', ' '),\n",
       "  (' ', 'a'),\n",
       "  ('a', 'm'),\n",
       "  ('m', ' '),\n",
       "  (' ', 'a'),\n",
       "  ('a', 'n'),\n",
       "  ('n', ' '),\n",
       "  (' ', 'N'),\n",
       "  ('N', 'L'),\n",
       "  ('L', 'P'),\n",
       "  ('P', 'e'),\n",
       "  ('e', 'r')])"
      ]
     },
     "execution_count": 1,
     "metadata": {},
     "output_type": "execute_result"
    }
   ],
   "source": [
    "def n_gram(sequence, n, unit=\"word\"):\n",
    "    \"\"\"任意のシーケンスからn-gramを生成する関数\n",
    "    \n",
    "    Args:\n",
    "        sequence (str or list): 入力シーケンス（文字列またはリスト）\n",
    "        n (int): n-gramのn値\n",
    "        unit (str): 'word' または 'char' でn-gramの単位を指定\n",
    "    \n",
    "    Returns:\n",
    "        list of tuples: n-gramのリスト\n",
    "    \"\"\"\n",
    "    if unit == \"word\":\n",
    "        # 単語に分割\n",
    "        sequence = sequence.split()\n",
    "    elif unit == \"char\":\n",
    "        # 文字列の場合はリストに変換しなくてもよいが、明示的にリストに変換\n",
    "        sequence = list(sequence)\n",
    "    \n",
    "    # n-gramを生成\n",
    "    n_grams = [tuple(sequence[i:i+n]) for i in range(len(sequence)-n+1)]\n",
    "    return n_grams\n",
    "\n",
    "# 文から単語bi-gramと文字bi-gramを得る\n",
    "sentence = \"I am an NLPer\"\n",
    "word_bi_grams = n_gram(sentence, 2, \"word\")\n",
    "char_bi_grams = n_gram(sentence, 2, \"char\")\n",
    "\n",
    "word_bi_grams, char_bi_grams"
   ]
  }
 ],
 "metadata": {
  "kernelspec": {
   "display_name": "Python 3 (ipykernel)",
   "language": "python",
   "name": "python3"
  },
  "language_info": {
   "codemirror_mode": {
    "name": "ipython",
    "version": 3
   },
   "file_extension": ".py",
   "mimetype": "text/x-python",
   "name": "python",
   "nbconvert_exporter": "python",
   "pygments_lexer": "ipython3",
   "version": "3.11.5"
  }
 },
 "nbformat": 4,
 "nbformat_minor": 5
}
