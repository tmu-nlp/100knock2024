{
  "cells": [
    {
      "cell_type": "code",
      "execution_count": null,
      "metadata": {
        "id": "pPF5_34qQpAN"
      },
      "outputs": [],
      "source": [
        "from google.colab import files\n",
        "uploaded = files.upload()\n",
        "\n",
        "for fn in uploaded.keys():\n",
        "  print('User uploaded file \"{name}\" with length {length} bytes'.format(\n",
        "      name=fn, length=len(uploaded[fn])))"
      ]
    },
    {
      "cell_type": "code",
      "execution_count": null,
      "metadata": {
        "id": "O3WekncrSDtW"
      },
      "outputs": [],
      "source": [
        "from google.colab import drive\n",
        "drive.mount('/content/drive')"
      ]
    },
    {
      "cell_type": "code",
      "execution_count": null,
      "metadata": {
        "id": "Ptu0mo8uJc6f"
      },
      "outputs": [],
      "source": [
        "!pip install git+https://github.com/huggingface/transformers"
      ]
    },
    {
      "cell_type": "code",
      "execution_count": null,
      "metadata": {
        "id": "jlInDXejJhpE"
      },
      "outputs": [],
      "source": [
        "!pip install transformers sentencepiece"
      ]
    },
    {
      "cell_type": "code",
      "execution_count": 5,
      "metadata": {
        "id": "59GKTIDaQkpO"
      },
      "outputs": [],
      "source": [
        "import numpy as np\n",
        "import pandas as pd\n",
        "import transformers\n",
        "import torch\n",
        "from torch.utils.data import Dataset, DataLoader\n",
        "from transformers import BertTokenizer, BertModel\n",
        "from torch import optim\n",
        "from torch import cuda\n",
        "import time\n",
        "from matplotlib import pyplot as plt"
      ]
    },
    {
      "cell_type": "code",
      "execution_count": null,
      "metadata": {
        "id": "7-b_scDhMkV1"
      },
      "outputs": [],
      "source": [
        "header_name = ['TITLE', 'CATEGORY']\n",
        "train = pd.read_csv(\"train.txt\", header=None, sep='\\t', names=header_name)\n",
        "valid = pd.read_csv(\"valid.txt\", header=None, sep='\\t', names=header_name)\n",
        "test = pd.read_csv(\"test.txt\", header=None, sep='\\t', names=header_name)"
      ]
    },
    {
      "cell_type": "code",
      "execution_count": 13,
      "metadata": {
        "id": "ya9qOeGFJyp-"
      },
      "outputs": [],
      "source": [
        "class NewsDataset(Dataset):\n",
        "    def __init__(self, x, y, tokenizer, max_len):\n",
        "        self.x = x  # Input data (titles)\n",
        "        self.y = y  # Labels (categories)\n",
        "        self.tokenizer = tokenizer  # BERT tokenizer\n",
        "        self.max_len = max_len  # Maximum length for padding\n",
        "\n",
        "    def __len__(self):\n",
        "        return len(self.y)\n",
        "\n",
        "    def __getitem__(self, idx):\n",
        "        text = self.x[idx]\n",
        "        inputs = self.tokenizer.encode_plus(\n",
        "            text,\n",
        "            add_special_tokens=True,\n",
        "            max_length=self.max_len,\n",
        "            padding='max_length',  # Padding the sequences to max length\n",
        "            truncation=True  # Truncate if sequence is longer than max length\n",
        "        )\n",
        "        ids = inputs['input_ids']\n",
        "        mask = inputs['attention_mask']\n",
        "\n",
        "        return {\n",
        "            \"ids\": torch.LongTensor(ids),\n",
        "            \"mask\": torch.LongTensor(mask),\n",
        "            \"labels\": torch.Tensor(self.y[idx])\n",
        "        }"
      ]
    },
    {
      "cell_type": "code",
      "execution_count": 14,
      "metadata": {
        "colab": {
          "base_uri": "https://localhost:8080/"
        },
        "id": "0asIoLVSJ4qH",
        "outputId": "013b4f7f-c82d-46e8-aa69-52f2ffc61228"
      },
      "outputs": [
        {
          "name": "stdout",
          "output_type": "stream",
          "text": [
            "ids: tensor([  101,  8011,  4048, 15908,  2015,  9944, 12065,  2007,  6468,  3666,\n",
            "         1002,  1015,  1012,  3486,  1024, 12731, 14343, 14767,   102,     0])\n",
            "mask: tensor([1, 1, 1, 1, 1, 1, 1, 1, 1, 1, 1, 1, 1, 1, 1, 1, 1, 1, 1, 0])\n",
            "labels: tensor([1., 0., 0., 0.])\n"
          ]
        }
      ],
      "source": [
        "y_train = pd.get_dummies(train, columns=['CATEGORY'])[['CATEGORY_b', 'CATEGORY_e', 'CATEGORY_t', 'CATEGORY_m']].values\n",
        "y_valid = pd.get_dummies(valid, columns=['CATEGORY'])[['CATEGORY_b', 'CATEGORY_e', 'CATEGORY_t', 'CATEGORY_m']].values\n",
        "y_test = pd.get_dummies(test, columns=['CATEGORY'])[['CATEGORY_b', 'CATEGORY_e', 'CATEGORY_t', 'CATEGORY_m']].values\n",
        "\n",
        "max_len = 20\n",
        "tokenizer = BertTokenizer.from_pretrained('bert-base-uncased')\n",
        "dataset_train = NewsDataset(train['TITLE'], y_train, tokenizer, max_len)\n",
        "dataset_valid = NewsDataset(valid['TITLE'], y_valid, tokenizer, max_len)\n",
        "dataset_test = NewsDataset(test['TITLE'], y_test, tokenizer, max_len)\n",
        "\n",
        "for var in dataset_train[0]:\n",
        "  print(f'{var}: {dataset_train[0][var]}')"
      ]
    },
    {
      "cell_type": "code",
      "execution_count": 15,
      "metadata": {
        "id": "GvDcPEBhKati"
      },
      "outputs": [],
      "source": [
        "# Defining the BERT-based classification model\n",
        "class BERTClass(torch.nn.Module):\n",
        "    def __init__(self, drop_rate, output_size):\n",
        "        super().__init__()\n",
        "        self.bert = BertModel.from_pretrained('bert-base-uncased')  # Pre-trained BERT model\n",
        "        self.drop = torch.nn.Dropout(drop_rate)  # Dropout layer\n",
        "        self.fc = torch.nn.Linear(768, output_size)  # Fully connected layer for classification\n",
        "\n",
        "    def forward(self, ids, mask, return_dict):\n",
        "        _, out = self.bert(ids, attention_mask=mask, return_dict=return_dict)\n",
        "        out = self.fc(self.drop(out))\n",
        "        return out"
      ]
    },
    {
      "cell_type": "code",
      "execution_count": 16,
      "metadata": {
        "id": "WiE8_briLj3j"
      },
      "outputs": [],
      "source": [
        "def calculate_loss_and_accuracy(model, criterion, loader, device):\n",
        "    model.eval()  # Set the model to evaluation mode\n",
        "    loss = 0.0  # Initialize the loss to zero\n",
        "    total = 0  # Initialize the total count to zero\n",
        "    correct = 0  # Initialize the count of correct predictions to zero\n",
        "    with torch.no_grad():  # Disable gradient calculations for inference\n",
        "        for data in loader:  # Iterate through the data loader\n",
        "            ids = data['ids'].to(device)  # Move input IDs to the specified device (CPU or GPU)\n",
        "            mask = data['mask'].to(device)  # Move attention masks to the specified device\n",
        "            labels = data['labels'].to(device)  # Move labels to the specified device\n",
        "\n",
        "            outputs = model(ids, mask, return_dict=False)  # Get model outputs\n",
        "\n",
        "            loss += criterion(outputs, labels).item()  # Accumulate the loss\n",
        "\n",
        "            pred = torch.argmax(outputs, dim=-1).cpu().numpy()  # Get predicted class indices\n",
        "            labels = torch.argmax(labels, dim=-1).cpu().numpy()  # Get true class indices\n",
        "            total += len(labels)  # Update the total count\n",
        "            correct += (pred == labels).sum().item()  # Update the count of correct predictions\n",
        "\n",
        "    return loss / len(loader), correct / total  # Return the average loss and accuracy\n",
        "\n",
        "\n",
        "def train_model(dataset_train, dataset_valid, batch_size, model, criterion, optimizer, num_epochs, device=None):\n",
        "    model.to(device)  # Move the model to the specified device\n",
        "\n",
        "    # Create data loaders for training and validation datasets\n",
        "    dataloader_train = DataLoader(dataset_train, batch_size=batch_size, shuffle=True)\n",
        "    dataloader_valid = DataLoader(dataset_valid, batch_size=len(dataset_valid), shuffle=False)\n",
        "\n",
        "    log_train = []  # log training loss and accuracy\n",
        "    log_valid = []\n",
        "    for epoch in range(num_epochs):\n",
        "        s_time = time.time()\n",
        "\n",
        "        model.train()  # Set the model to training mode\n",
        "        for data in dataloader_train:  # Loop over the training batches\n",
        "            ids = data['ids'].to(device)  # Move input IDs to the device\n",
        "            mask = data['mask'].to(device)  # Move attention masks to the device\n",
        "            labels = data['labels'].to(device)  # Move labels to the device\n",
        "\n",
        "            optimizer.zero_grad()  # Zero the parameter gradients\n",
        "\n",
        "            outputs = model(ids, mask, return_dict=False)  # Forward pass\n",
        "            loss = criterion(outputs, labels)  # Calculate the loss\n",
        "            loss.backward()  # Backpropagate the loss\n",
        "            optimizer.step()  # Update the model parameters\n",
        "\n",
        "        # Calculate loss and accuracy for training and validation sets\n",
        "        loss_train, acc_train = calculate_loss_and_accuracy(model, criterion, dataloader_train, device)\n",
        "        loss_valid, acc_valid = calculate_loss_and_accuracy(model, criterion, dataloader_valid, device)\n",
        "        log_train.append([loss_train, acc_train])\n",
        "        log_valid.append([loss_valid, acc_valid])\n",
        "\n",
        "        # Save the model checkpoint\n",
        "        torch.save({'epoch': epoch, 'model_state_dict': model.state_dict(), 'optimizer_state_dict': optimizer.state_dict()}, f'checkpoint{epoch + 1}.pt')\n",
        "\n",
        "        e_time = time.time()\n",
        "\n",
        "        # Print epoch statistics\n",
        "        print(f'epoch: {epoch + 1}, loss_train: {loss_train:.4f}, accuracy_train: {acc_train:.4f}, loss_valid: {loss_valid:.4f}, accuracy_valid: {acc_valid:.4f}, {(e_time - s_time):.4f}sec')\n",
        "\n",
        "    return {'train': log_train, 'valid': log_valid} "
      ]
    },
    {
      "cell_type": "code",
      "execution_count": 17,
      "metadata": {
        "colab": {
          "base_uri": "https://localhost:8080/",
          "height": 120,
          "referenced_widgets": [
            "e77ef6d32aa34e339ff3832c154debd1",
            "502a574de78d4a618aa756989326a93f",
            "46f7618571fa4d73965edc2dce5414ea",
            "88c158d890f04fdb8607e8f4237a2fe7",
            "88bd6be88139454c9750ff4ffd7b045a",
            "e4efd3b632a0444f91538dc71186f997",
            "af0915e6e04949afb6d6b45bd4658cf5",
            "e6280e8ded794304aa4751e810f6c913",
            "5a4a4d2fe78a49a1bb73ed8c05316914",
            "df20c5e2a16a443181e5fae8411a3e1a",
            "5e88ad75574f433998f8447cbfee6550"
          ]
        },
        "id": "4fYQI-C1Llu8",
        "outputId": "5017e1f4-87ef-46f3-c334-de8b940781e6"
      },
      "outputs": [
        {
          "data": {
            "application/vnd.jupyter.widget-view+json": {
              "model_id": "e77ef6d32aa34e339ff3832c154debd1",
              "version_major": 2,
              "version_minor": 0
            },
            "text/plain": [
              "model.safetensors:   0%|          | 0.00/440M [00:00<?, ?B/s]"
            ]
          },
          "metadata": {},
          "output_type": "display_data"
        },
        {
          "name": "stdout",
          "output_type": "stream",
          "text": [
            "epoch: 1, loss_train: 0.0847, accuracy_train: 0.9543, loss_valid: 0.1189, accuracy_valid: 0.9250, 66.9090sec\n",
            "epoch: 2, loss_train: 0.0445, accuracy_train: 0.9785, loss_valid: 0.1006, accuracy_valid: 0.9355, 67.2924sec\n",
            "epoch: 3, loss_train: 0.0296, accuracy_train: 0.9861, loss_valid: 0.1055, accuracy_valid: 0.9348, 68.3072sec\n",
            "epoch: 4, loss_train: 0.0218, accuracy_train: 0.9894, loss_valid: 0.1147, accuracy_valid: 0.9295, 72.5418sec\n"
          ]
        }
      ],
      "source": [
        "DROP_RATE = 0.4\n",
        "OUTPUT_SIZE = 4\n",
        "BATCH_SIZE = 32\n",
        "NUM_EPOCHS = 4\n",
        "LEARNING_RATE = 2e-5\n",
        "\n",
        "model = BERTClass(DROP_RATE, OUTPUT_SIZE)\n",
        "\n",
        "criterion = torch.nn.BCEWithLogitsLoss()\n",
        "\n",
        "optimizer = torch.optim.AdamW(params=model.parameters(), lr=LEARNING_RATE)\n",
        "\n",
        "device = 'cuda' if cuda.is_available() else 'cpu'\n",
        "\n",
        "log = train_model(dataset_train, dataset_valid, BATCH_SIZE, model, criterion, optimizer, NUM_EPOCHS, device=device)"
      ]
    },
    {
      "cell_type": "code",
      "execution_count": 18,
      "metadata": {
        "id": "_1lavwJyLu44"
      },
      "outputs": [],
      "source": [
        "def visualize_logs(log):\n",
        "    fig, ax = plt.subplots(1, 2, figsize=(15, 5))\n",
        "    ax[0].plot(np.array(log['train']).T[0], label='train')\n",
        "    ax[0].plot(np.array(log['valid']).T[0], label='valid')\n",
        "    ax[0].set_xlabel('epoch')\n",
        "    ax[0].set_ylabel('loss')\n",
        "    ax[0].legend()\n",
        "    ax[1].plot(np.array(log['train']).T[1], label='train')\n",
        "    ax[1].plot(np.array(log['valid']).T[1], label='valid')\n",
        "    ax[1].set_xlabel('epoch')\n",
        "    ax[1].set_ylabel('accuracy')\n",
        "    ax[1].legend()\n",
        "    plt.savefig(\"89.png\")"
      ]
    },
    {
      "cell_type": "code",
      "execution_count": 19,
      "metadata": {
        "colab": {
          "base_uri": "https://localhost:8080/",
          "height": 441
        },
        "id": "zDr-0Wm_Mz_f",
        "outputId": "e350a03a-20ff-4f2e-fc6e-eba8bbf1c4b8"
      },
      "outputs": [
        {
          "data": {
            "image/png": "[encoded data removed]",
            "text/plain": [
              "<Figure size 1500x500 with 2 Axes>"
            ]
          },
          "metadata": {},
          "output_type": "display_data"
        }
      ],
      "source": [
        "visualize_logs(log)"
      ]
    },
    {
      "cell_type": "code",
      "execution_count": 20,
      "metadata": {
        "id": "NIyi-6B7M5F_"
      },
      "outputs": [],
      "source": [
        "# Function to calculate accuracy\n",
        "def calculate_accuracy(model, dataset, device):\n",
        "    loader = DataLoader(dataset, batch_size=len(dataset), shuffle=False)  # Create a data loader for the dataset\n",
        "\n",
        "    model.eval()  # Set the model to evaluation mode\n",
        "    total = 0\n",
        "    correct = 0 \n",
        "    with torch.no_grad():  # Disable gradient calculations for inference\n",
        "        for data in loader: \n",
        "            ids = data['ids'].to(device) \n",
        "            mask = data['mask'].to(device)\n",
        "            labels = data['labels'].to(device)\n",
        "\n",
        "            outputs = model.forward(ids, mask, return_dict=False)  # Get model outputs\n",
        "\n",
        "            pred = torch.argmax(outputs, dim=-1).cpu().numpy()  # Get predicted class indices\n",
        "            labels = torch.argmax(labels, dim=-1).cpu().numpy()  # Get true class indices\n",
        "            total += len(labels)  # Update the total count\n",
        "            correct += (pred == labels).sum().item()  # Update the count of correct predictions\n",
        "\n",
        "    return correct / total"
      ]
    },
    {
      "cell_type": "code",
      "execution_count": 21,
      "metadata": {
        "colab": {
          "base_uri": "https://localhost:8080/"
        },
        "id": "wr53KoZuM7ia",
        "outputId": "cbbf42b0-56d7-4879-b3c7-ec666131d2a1"
      },
      "outputs": [
        {
          "name": "stdout",
          "output_type": "stream",
          "text": [
            "accuracy (train)：0.989\n",
            "accuracy (valid)：0.930\n",
            "accuracy (test)：0.929\n"
          ]
        }
      ],
      "source": [
        "print(f'accuracy (train): {calculate_accuracy(model, dataset_train, device):.3f}')\n",
        "print(f'accuracy (valid): {calculate_accuracy(model, dataset_valid, device):.3f}')\n",
        "print(f'accuracy (test): {calculate_accuracy(model, dataset_test, device):.3f}')"
      ]
    }
  ],
  "metadata": {
    "accelerator": "GPU",
    "colab": {
      "gpuType": "T4",
      "provenance": []
    },
    "kernelspec": {
      "display_name": "Python 3",
      "name": "python3"
    },
    "language_info": {
      "name": "python"
    },
    "widgets": {
      "application/vnd.jupyter.widget-state+json": {
        "46f7618571fa4d73965edc2dce5414ea": {
          "model_module": "@jupyter-widgets/controls",
          "model_module_version": "1.5.0",
          "model_name": "FloatProgressModel",
          "state": {
            "_dom_classes": [],
            "_model_module": "@jupyter-widgets/controls",
            "_model_module_version": "1.5.0",
            "_model_name": "FloatProgressModel",
            "_view_count": null,
            "_view_module": "@jupyter-widgets/controls",
            "_view_module_version": "1.5.0",
            "_view_name": "ProgressView",
            "bar_style": "success",
            "description": "",
            "description_tooltip": null,
            "layout": "IPY_MODEL_e6280e8ded794304aa4751e810f6c913",
            "max": 440449768,
            "min": 0,
            "orientation": "horizontal",
            "style": "IPY_MODEL_5a4a4d2fe78a49a1bb73ed8c05316914",
            "value": 440449768
          }
        },
        "502a574de78d4a618aa756989326a93f": {
          "model_module": "@jupyter-widgets/controls",
          "model_module_version": "1.5.0",
          "model_name": "HTMLModel",
          "state": {
            "_dom_classes": [],
            "_model_module": "@jupyter-widgets/controls",
            "_model_module_version": "1.5.0",
            "_model_name": "HTMLModel",
            "_view_count": null,
            "_view_module": "@jupyter-widgets/controls",
            "_view_module_version": "1.5.0",
            "_view_name": "HTMLView",
            "description": "",
            "description_tooltip": null,
            "layout": "IPY_MODEL_e4efd3b632a0444f91538dc71186f997",
            "placeholder": "​",
            "style": "IPY_MODEL_af0915e6e04949afb6d6b45bd4658cf5",
            "value": "model.safetensors: 100%"
          }
        },
        "5a4a4d2fe78a49a1bb73ed8c05316914": {
          "model_module": "@jupyter-widgets/controls",
          "model_module_version": "1.5.0",
          "model_name": "ProgressStyleModel",
          "state": {
            "_model_module": "@jupyter-widgets/controls",
            "_model_module_version": "1.5.0",
            "_model_name": "ProgressStyleModel",
            "_view_count": null,
            "_view_module": "@jupyter-widgets/base",
            "_view_module_version": "1.2.0",
            "_view_name": "StyleView",
            "bar_color": null,
            "description_width": ""
          }
        },
        "5e88ad75574f433998f8447cbfee6550": {
          "model_module": "@jupyter-widgets/controls",
          "model_module_version": "1.5.0",
          "model_name": "DescriptionStyleModel",
          "state": {
            "_model_module": "@jupyter-widgets/controls",
            "_model_module_version": "1.5.0",
            "_model_name": "DescriptionStyleModel",
            "_view_count": null,
            "_view_module": "@jupyter-widgets/base",
            "_view_module_version": "1.2.0",
            "_view_name": "StyleView",
            "description_width": ""
          }
        },
        "88bd6be88139454c9750ff4ffd7b045a": {
          "model_module": "@jupyter-widgets/base",
          "model_module_version": "1.2.0",
          "model_name": "LayoutModel",
          "state": {
            "_model_module": "@jupyter-widgets/base",
            "_model_module_version": "1.2.0",
            "_model_name": "LayoutModel",
            "_view_count": null,
            "_view_module": "@jupyter-widgets/base",
            "_view_module_version": "1.2.0",
            "_view_name": "LayoutView",
            "align_content": null,
            "align_items": null,
            "align_self": null,
            "border": null,
            "bottom": null,
            "display": null,
            "flex": null,
            "flex_flow": null,
            "grid_area": null,
            "grid_auto_columns": null,
            "grid_auto_flow": null,
            "grid_auto_rows": null,
            "grid_column": null,
            "grid_gap": null,
            "grid_row": null,
            "grid_template_areas": null,
            "grid_template_columns": null,
            "grid_template_rows": null,
            "height": null,
            "justify_content": null,
            "justify_items": null,
            "left": null,
            "margin": null,
            "max_height": null,
            "max_width": null,
            "min_height": null,
            "min_width": null,
            "object_fit": null,
            "object_position": null,
            "order": null,
            "overflow": null,
            "overflow_x": null,
            "overflow_y": null,
            "padding": null,
            "right": null,
            "top": null,
            "visibility": null,
            "width": null
          }
        },
        "88c158d890f04fdb8607e8f4237a2fe7": {
          "model_module": "@jupyter-widgets/controls",
          "model_module_version": "1.5.0",
          "model_name": "HTMLModel",
          "state": {
            "_dom_classes": [],
            "_model_module": "@jupyter-widgets/controls",
            "_model_module_version": "1.5.0",
            "_model_name": "HTMLModel",
            "_view_count": null,
            "_view_module": "@jupyter-widgets/controls",
            "_view_module_version": "1.5.0",
            "_view_name": "HTMLView",
            "description": "",
            "description_tooltip": null,
            "layout": "IPY_MODEL_df20c5e2a16a443181e5fae8411a3e1a",
            "placeholder": "​",
            "style": "IPY_MODEL_5e88ad75574f433998f8447cbfee6550",
            "value": " 440M/440M [00:03&lt;00:00, 132MB/s]"
          }
        },
        "af0915e6e04949afb6d6b45bd4658cf5": {
          "model_module": "@jupyter-widgets/controls",
          "model_module_version": "1.5.0",
          "model_name": "DescriptionStyleModel",
          "state": {
            "_model_module": "@jupyter-widgets/controls",
            "_model_module_version": "1.5.0",
            "_model_name": "DescriptionStyleModel",
            "_view_count": null,
            "_view_module": "@jupyter-widgets/base",
            "_view_module_version": "1.2.0",
            "_view_name": "StyleView",
            "description_width": ""
          }
        },
        "df20c5e2a16a443181e5fae8411a3e1a": {
          "model_module": "@jupyter-widgets/base",
          "model_module_version": "1.2.0",
          "model_name": "LayoutModel",
          "state": {
            "_model_module": "@jupyter-widgets/base",
            "_model_module_version": "1.2.0",
            "_model_name": "LayoutModel",
            "_view_count": null,
            "_view_module": "@jupyter-widgets/base",
            "_view_module_version": "1.2.0",
            "_view_name": "LayoutView",
            "align_content": null,
            "align_items": null,
            "align_self": null,
            "border": null,
            "bottom": null,
            "display": null,
            "flex": null,
            "flex_flow": null,
            "grid_area": null,
            "grid_auto_columns": null,
            "grid_auto_flow": null,
            "grid_auto_rows": null,
            "grid_column": null,
            "grid_gap": null,
            "grid_row": null,
            "grid_template_areas": null,
            "grid_template_columns": null,
            "grid_template_rows": null,
            "height": null,
            "justify_content": null,
            "justify_items": null,
            "left": null,
            "margin": null,
            "max_height": null,
            "max_width": null,
            "min_height": null,
            "min_width": null,
            "object_fit": null,
            "object_position": null,
            "order": null,
            "overflow": null,
            "overflow_x": null,
            "overflow_y": null,
            "padding": null,
            "right": null,
            "top": null,
            "visibility": null,
            "width": null
          }
        },
        "e4efd3b632a0444f91538dc71186f997": {
          "model_module": "@jupyter-widgets/base",
          "model_module_version": "1.2.0",
          "model_name": "LayoutModel",
          "state": {
            "_model_module": "@jupyter-widgets/base",
            "_model_module_version": "1.2.0",
            "_model_name": "LayoutModel",
            "_view_count": null,
            "_view_module": "@jupyter-widgets/base",
            "_view_module_version": "1.2.0",
            "_view_name": "LayoutView",
            "align_content": null,
            "align_items": null,
            "align_self": null,
            "border": null,
            "bottom": null,
            "display": null,
            "flex": null,
            "flex_flow": null,
            "grid_area": null,
            "grid_auto_columns": null,
            "grid_auto_flow": null,
            "grid_auto_rows": null,
            "grid_column": null,
            "grid_gap": null,
            "grid_row": null,
            "grid_template_areas": null,
            "grid_template_columns": null,
            "grid_template_rows": null,
            "height": null,
            "justify_content": null,
            "justify_items": null,
            "left": null,
            "margin": null,
            "max_height": null,
            "max_width": null,
            "min_height": null,
            "min_width": null,
            "object_fit": null,
            "object_position": null,
            "order": null,
            "overflow": null,
            "overflow_x": null,
            "overflow_y": null,
            "padding": null,
            "right": null,
            "top": null,
            "visibility": null,
            "width": null
          }
        },
        "e6280e8ded794304aa4751e810f6c913": {
          "model_module": "@jupyter-widgets/base",
          "model_module_version": "1.2.0",
          "model_name": "LayoutModel",
          "state": {
            "_model_module": "@jupyter-widgets/base",
            "_model_module_version": "1.2.0",
            "_model_name": "LayoutModel",
            "_view_count": null,
            "_view_module": "@jupyter-widgets/base",
            "_view_module_version": "1.2.0",
            "_view_name": "LayoutView",
            "align_content": null,
            "align_items": null,
            "align_self": null,
            "border": null,
            "bottom": null,
            "display": null,
            "flex": null,
            "flex_flow": null,
            "grid_area": null,
            "grid_auto_columns": null,
            "grid_auto_flow": null,
            "grid_auto_rows": null,
            "grid_column": null,
            "grid_gap": null,
            "grid_row": null,
            "grid_template_areas": null,
            "grid_template_columns": null,
            "grid_template_rows": null,
            "height": null,
            "justify_content": null,
            "justify_items": null,
            "left": null,
            "margin": null,
            "max_height": null,
            "max_width": null,
            "min_height": null,
            "min_width": null,
            "object_fit": null,
            "object_position": null,
            "order": null,
            "overflow": null,
            "overflow_x": null,
            "overflow_y": null,
            "padding": null,
            "right": null,
            "top": null,
            "visibility": null,
            "width": null
          }
        },
        "e77ef6d32aa34e339ff3832c154debd1": {
          "model_module": "@jupyter-widgets/controls",
          "model_module_version": "1.5.0",
          "model_name": "HBoxModel",
          "state": {
            "_dom_classes": [],
            "_model_module": "@jupyter-widgets/controls",
            "_model_module_version": "1.5.0",
            "_model_name": "HBoxModel",
            "_view_count": null,
            "_view_module": "@jupyter-widgets/controls",
            "_view_module_version": "1.5.0",
            "_view_name": "HBoxView",
            "box_style": "",
            "children": [
              "IPY_MODEL_502a574de78d4a618aa756989326a93f",
              "IPY_MODEL_46f7618571fa4d73965edc2dce5414ea",
              "IPY_MODEL_88c158d890f04fdb8607e8f4237a2fe7"
            ],
            "layout": "IPY_MODEL_88bd6be88139454c9750ff4ffd7b045a"
          }
        }
      }
    }
  },
  "nbformat": 4,
  "nbformat_minor": 0
}
