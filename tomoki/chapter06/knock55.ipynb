{
  "nbformat": 4,
  "nbformat_minor": 0,
  "metadata": {
    "colab": {
      "provenance": [],
      "machine_shape": "hm",
      "gpuType": "L4"
    },
    "kernelspec": {
      "name": "python3",
      "display_name": "Python 3"
    },
    "language_info": {
      "name": "python"
    },
    "accelerator": "GPU"
  },
  "cells": [
    {
      "cell_type": "code",
      "execution_count": 2,
      "metadata": {
        "colab": {
          "base_uri": "https://localhost:8080/"
        },
        "id": "yjYfKx0KpUa3",
        "outputId": "d89d374e-d9bc-4d7c-8baf-39510e9b39f5"
      },
      "outputs": [
        {
          "output_type": "stream",
          "name": "stdout",
          "text": [
            "Drive already mounted at /content/drive; to attempt to forcibly remount, call drive.mount(\"/content/drive\", force_remount=True).\n",
            "--2024-06-07 14:10:28--  https://archive.ics.uci.edu/static/public/359/news+aggregator.zip\n",
            "Resolving archive.ics.uci.edu (archive.ics.uci.edu)... 128.195.10.252\n",
            "Connecting to archive.ics.uci.edu (archive.ics.uci.edu)|128.195.10.252|:443... connected.\n",
            "HTTP request sent, awaiting response... 200 OK\n",
            "Length: unspecified\n",
            "Saving to: ‘news+aggregator.zip.1’\n",
            "\n",
            "news+aggregator.zip     [           <=>      ]  27.87M  11.1MB/s    in 2.5s    \n",
            "\n",
            "2024-06-07 14:10:31 (11.1 MB/s) - ‘news+aggregator.zip.1’ saved [29224203]\n",
            "\n",
            "Archive:  news+aggregator.zip\n",
            "replace 2pageSessions.csv? [y]es, [n]o, [A]ll, [N]one, [r]ename: "
          ]
        }
      ],
      "source": [
        "#No55(混同行列の作成）\n",
        "\n",
        "#NO54までのコード\n",
        "import pandas as pd\n",
        "import string\n",
        "import re\n",
        "from sklearn.model_selection import train_test_split\n",
        "from sklearn.feature_extraction.text import TfidfVectorizer\n",
        "from google.colab import drive\n",
        "drive.mount('/content/drive')\n",
        "!wget https://archive.ics.uci.edu/static/public/359/news+aggregator.zip\n",
        "!unzip news+aggregator.zip\n",
        "df = pd.read_csv(\"./newsCorpora.csv\",sep=\"\\t\",header=None,names=[\"ID\", \"TITLE\", \"URL\", \"PUBLISHER\", \"CATEGORY\", \"STORY\", \"HOSTNAME\", \"TIMESTAMP\"])\n",
        "#「PUBLISHER」の行から、”Reuters”, “Huffington Post”, “Businessweek”, “Contactmusic.com”, “Daily Mail”の事例（記事）のみを抽出する．\n",
        "#isinはあくまでbool値を返すことに注意(Trueが抽出される)\n",
        "df = df[df[\"PUBLISHER\"].isin([\"Reuters\", \"Huffington Post\", \"Businessweek\", \"Contactmusic.com\", \"Daily Mail\"])]\n",
        "#「TITLE」と「CATEGORY」の列を抽出する．\n",
        "df = df[[\"TITLE\", \"CATEGORY\"]]\n",
        "#学習、検証、評価データに分割する(分割したいもの、割合、shuffleはTrueがデフォルト)\n",
        "#まず0.9:0.1で分ける\n",
        "train, test = train_test_split(df, test_size=0.2)\n",
        "#次に0.2を半分にする(検証、評価データを0.1にする)\n",
        "test, valid = train_test_split(test, test_size=0.5)\n"
      ]
    },
    {
      "cell_type": "code",
      "source": [
        "def preprosessing(text):\n",
        "    #string.punctuation 「'!\"#$%&\\'()*+,-./:;<=>?@[\\\\]^_`{|}~'」のこと\n",
        "    table = str.maketrans(string.punctuation, ' '*len(string.punctuation))\n",
        "    #maketransで作成したtableを文字列を変換する\n",
        "    text = text.translate(table)\n",
        "    #小文字にする\n",
        "    text = text.lower()\n",
        "    #正規表現を利用するために、compileを用いてpatternを作成する\n",
        "    pattern = re.compile('[0-9]+')\n",
        "    #正規表現にマッチした部分に0を代入\n",
        "    text = re.sub(pattern, '0', text)\n",
        "\n",
        "    return text\n",
        "\n",
        "#データの連結、前処理\n",
        "df = pd.concat([train, valid, test], axis = 0)\n",
        "#もとのindexを削除\n",
        "df.reset_index(drop=True, inplace=True)\n",
        "\n",
        "df['TITLE'] = df['TITLE'].map(lambda x: preprosessing(x))\n",
        "#データの連結、前処理\n",
        "df = pd.concat([train, valid, test], axis = 0)\n",
        "df.reset_index(drop=True, inplace=True)\n",
        "#map関数　シーケンスの構成要素すべてに対して、ある関数の処理を行わせるという高階関数\n",
        "#lambda関数を用いて、xを引数として、preprosessing関数を呼び出す\n",
        "df['TITLE'] = df['TITLE'].map(lambda x: preprosessing(x))\n",
        "vec_tfidf = TfidfVectorizer() #TfidfVectorizerのインスタンス生成\n",
        "data = vec_tfidf.fit_transform(df['TITLE'])\n",
        "data = pd.DataFrame(data.toarray(), columns = vec_tfidf.get_feature_names_out())\n",
        "#整数除算をして、dataを分割する。\n",
        "split_point1 = int(len(data)//3)\n",
        "split_point2 = int(split_point1 * 2)\n",
        "#学習、検証、評価データ\n",
        "x_train = data[:split_point1]\n",
        "x_valid = data[split_point1:split_point2]\n",
        "x_test = data[split_point2:]\n",
        "#学習、検証、評価等別\n",
        "y_data = df['CATEGORY']\n",
        "y_train = y_data[:split_point1]\n",
        "y_valid = y_data[split_point1:split_point2]\n",
        "y_test = y_data[split_point2:]"
      ],
      "metadata": {
        "id": "ThSsL_WQq_Gk"
      },
      "execution_count": 3,
      "outputs": []
    },
    {
      "cell_type": "code",
      "source": [
        "from sklearn.linear_model import LogisticRegression\n",
        "#ロジスティック回帰モデルのインスタンス生成\n",
        "model = LogisticRegression()\n",
        "#訓練の実行(学習データ、ラベル(正解))\n",
        "model.fit(x_train, y_train)"
      ],
      "metadata": {
        "colab": {
          "base_uri": "https://localhost:8080/",
          "height": 74
        },
        "id": "TgOYnUYIrH-n",
        "outputId": "89d3e902-4c6f-494a-cdc2-067f3b897164"
      },
      "execution_count": 4,
      "outputs": [
        {
          "output_type": "execute_result",
          "data": {
            "text/plain": [
              "LogisticRegression()"
            ],
            "text/html": [
              "<style>#sk-container-id-1 {color: black;background-color: white;}#sk-container-id-1 pre{padding: 0;}#sk-container-id-1 div.sk-toggleable {background-color: white;}#sk-container-id-1 label.sk-toggleable__label {cursor: pointer;display: block;width: 100%;margin-bottom: 0;padding: 0.3em;box-sizing: border-box;text-align: center;}#sk-container-id-1 label.sk-toggleable__label-arrow:before {content: \"▸\";float: left;margin-right: 0.25em;color: #696969;}#sk-container-id-1 label.sk-toggleable__label-arrow:hover:before {color: black;}#sk-container-id-1 div.sk-estimator:hover label.sk-toggleable__label-arrow:before {color: black;}#sk-container-id-1 div.sk-toggleable__content {max-height: 0;max-width: 0;overflow: hidden;text-align: left;background-color: #f0f8ff;}#sk-container-id-1 div.sk-toggleable__content pre {margin: 0.2em;color: black;border-radius: 0.25em;background-color: #f0f8ff;}#sk-container-id-1 input.sk-toggleable__control:checked~div.sk-toggleable__content {max-height: 200px;max-width: 100%;overflow: auto;}#sk-container-id-1 input.sk-toggleable__control:checked~label.sk-toggleable__label-arrow:before {content: \"▾\";}#sk-container-id-1 div.sk-estimator input.sk-toggleable__control:checked~label.sk-toggleable__label {background-color: #d4ebff;}#sk-container-id-1 div.sk-label input.sk-toggleable__control:checked~label.sk-toggleable__label {background-color: #d4ebff;}#sk-container-id-1 input.sk-hidden--visually {border: 0;clip: rect(1px 1px 1px 1px);clip: rect(1px, 1px, 1px, 1px);height: 1px;margin: -1px;overflow: hidden;padding: 0;position: absolute;width: 1px;}#sk-container-id-1 div.sk-estimator {font-family: monospace;background-color: #f0f8ff;border: 1px dotted black;border-radius: 0.25em;box-sizing: border-box;margin-bottom: 0.5em;}#sk-container-id-1 div.sk-estimator:hover {background-color: #d4ebff;}#sk-container-id-1 div.sk-parallel-item::after {content: \"\";width: 100%;border-bottom: 1px solid gray;flex-grow: 1;}#sk-container-id-1 div.sk-label:hover label.sk-toggleable__label {background-color: #d4ebff;}#sk-container-id-1 div.sk-serial::before {content: \"\";position: absolute;border-left: 1px solid gray;box-sizing: border-box;top: 0;bottom: 0;left: 50%;z-index: 0;}#sk-container-id-1 div.sk-serial {display: flex;flex-direction: column;align-items: center;background-color: white;padding-right: 0.2em;padding-left: 0.2em;position: relative;}#sk-container-id-1 div.sk-item {position: relative;z-index: 1;}#sk-container-id-1 div.sk-parallel {display: flex;align-items: stretch;justify-content: center;background-color: white;position: relative;}#sk-container-id-1 div.sk-item::before, #sk-container-id-1 div.sk-parallel-item::before {content: \"\";position: absolute;border-left: 1px solid gray;box-sizing: border-box;top: 0;bottom: 0;left: 50%;z-index: -1;}#sk-container-id-1 div.sk-parallel-item {display: flex;flex-direction: column;z-index: 1;position: relative;background-color: white;}#sk-container-id-1 div.sk-parallel-item:first-child::after {align-self: flex-end;width: 50%;}#sk-container-id-1 div.sk-parallel-item:last-child::after {align-self: flex-start;width: 50%;}#sk-container-id-1 div.sk-parallel-item:only-child::after {width: 0;}#sk-container-id-1 div.sk-dashed-wrapped {border: 1px dashed gray;margin: 0 0.4em 0.5em 0.4em;box-sizing: border-box;padding-bottom: 0.4em;background-color: white;}#sk-container-id-1 div.sk-label label {font-family: monospace;font-weight: bold;display: inline-block;line-height: 1.2em;}#sk-container-id-1 div.sk-label-container {text-align: center;}#sk-container-id-1 div.sk-container {/* jupyter's `normalize.less` sets `[hidden] { display: none; }` but bootstrap.min.css set `[hidden] { display: none !important; }` so we also need the `!important` here to be able to override the default hidden behavior on the sphinx rendered scikit-learn.org. See: https://github.com/scikit-learn/scikit-learn/issues/21755 */display: inline-block !important;position: relative;}#sk-container-id-1 div.sk-text-repr-fallback {display: none;}</style><div id=\"sk-container-id-1\" class=\"sk-top-container\"><div class=\"sk-text-repr-fallback\"><pre>LogisticRegression()</pre><b>In a Jupyter environment, please rerun this cell to show the HTML representation or trust the notebook. <br />On GitHub, the HTML representation is unable to render, please try loading this page with nbviewer.org.</b></div><div class=\"sk-container\" hidden><div class=\"sk-item\"><div class=\"sk-estimator sk-toggleable\"><input class=\"sk-toggleable__control sk-hidden--visually\" id=\"sk-estimator-id-1\" type=\"checkbox\" checked><label for=\"sk-estimator-id-1\" class=\"sk-toggleable__label sk-toggleable__label-arrow\">LogisticRegression</label><div class=\"sk-toggleable__content\"><pre>LogisticRegression()</pre></div></div></div></div></div>"
            ]
          },
          "metadata": {},
          "execution_count": 4
        }
      ]
    },
    {
      "cell_type": "code",
      "source": [
        "# 正解率計算用のメソッド\n",
        "from sklearn.metrics import accuracy_score\n",
        "y_pred = model.predict(x_valid)\n",
        "#訓練データとテストデータを用いて予測する\n",
        "y_train_pred = model.predict(x_train)\n",
        "y_test_pred = model.predict(x_test)"
      ],
      "metadata": {
        "id": "EWFq8wEWrfV8"
      },
      "execution_count": 5,
      "outputs": []
    },
    {
      "cell_type": "code",
      "source": [
        "#True Positive   正例を正しく正例として判別できるケース\n",
        "#対角上にあるものが正しく判別できたケース\n",
        "\n",
        "#scikit-learnの混同行列の作成のためのモジュール\n",
        "from sklearn.metrics import confusion_matrix\n",
        "#seabornのimport(snsはSamuel Norman Seabornに由来しているらしい)\n",
        "import seaborn as sns\n",
        "#matplotlibのimport\n",
        "import matplotlib.pyplot as plt\n",
        "#学習データの混同行列の作成\n",
        "print(f'Confusion matrix (train)\\n: {confusion_matrix(y_train, y_train_pred)}')\n",
        "#テストデータの混同行列(ヒートマップ)の作成\n",
        "hm = confusion_matrix(y_test, y_test_pred)\n",
        "hm = pd.DataFrame(data=hm, index=[\"e\", \"b\", \"m\", \"t\"], columns=[\"e\", \"b\", \"m\", \"t\"])\n",
        "# square：枠を正方形にする　cbar：数値の大小を表す棒を表示　annot：boxの数字を表示 cmap：カラーコード選択\n",
        "sns.heatmap(hm, square=True, cbar=True, annot=True, cmap=\"cool\")\n",
        "#ラベルの付与\n",
        "plt.xlabel(\"Predict\")\n",
        "plt.ylabel(\"True\")\n",
        "#タイトルの付与\n",
        "plt.title(\"Test_Coufision\")\n",
        "#ヒートマップの保存\n",
        "plt.savefig(\"Heatmap.png\")"
      ],
      "metadata": {
        "colab": {
          "base_uri": "https://localhost:8080/",
          "height": 562
        },
        "id": "_kvR4tv4rlcI",
        "outputId": "ab32b76e-0ad5-4a94-b953-9d42f84d5bef"
      },
      "execution_count": 6,
      "outputs": [
        {
          "output_type": "stream",
          "name": "stdout",
          "text": [
            "Confusion matrix (train)\n",
            ": [[1849   18    0    7]\n",
            " [   6 1763    0    2]\n",
            " [  34   79  181    6]\n",
            " [  86   59    0  356]]\n"
          ]
        },
        {
          "output_type": "display_data",
          "data": {
            "text/plain": [
              "<Figure size 640x480 with 2 Axes>"
            ],
            "image/png": "[encoded data removed]"
          },
          "metadata": {}
        }
      ]
    }
  ]
}