{
 "cells": [
  {
   "cell_type": "code",
   "execution_count": null,
   "id": "78d059a2",
   "metadata": {},
   "outputs": [],
   "source": [
    "#No08(暗号文)\n",
    "sentence=\"My name is Tomoki Kera\"\n",
    "list=[]\n",
    "def cipher(S):\n",
    "    for i in S:\n",
    "        if i.islower():\n",
    "            i=chr(219-ord(i))\n",
    "        list.append(i)\n",
    "    return \"\".join(list)\n",
    "a=cipher(sentence)\n",
    "print(a)\n",
    "print(cipher(a))\n",
    "\n",
    "'''\n",
    "・平文(ひらぶん)…暗号化を施す前のデータ\n",
    "・暗号化…平文を暗号文(通信の内容が当事者以外には解読できないように、文字や記号を“一定の約束”でほかの記号に置き換えた文)に加工すること\n",
    "・復号…暗号文を平文に戻すこと\n",
    "'''"
   ]
  }
 ],
 "metadata": {
  "kernelspec": {
   "display_name": "Python 3 (ipykernel)",
   "language": "python",
   "name": "python3"
  },
  "language_info": {
   "codemirror_mode": {
    "name": "ipython",
    "version": 3
   },
   "file_extension": ".py",
   "mimetype": "text/x-python",
   "name": "python",
   "nbconvert_exporter": "python",
   "pygments_lexer": "ipython3",
   "version": "3.9.7"
  }
 },
 "nbformat": 4,
 "nbformat_minor": 5
}
