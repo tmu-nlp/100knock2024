{
 "cells": [
  {
   "cell_type": "code",
   "execution_count": null,
   "id": "1f64ca6d",
   "metadata": {},
   "outputs": [],
   "source": [
    "#No09(Typoglycemia)\n",
    "import random\n",
    "sentence=\"I couldn’t believe that I could actually understand what I was reading :the phenomenal power of the human mind.\"\n",
    "list=[]\n",
    "\n",
    "for i in sentence.split():\n",
    "    if len(i)>4:\n",
    "        list2=[]\n",
    "        #並び替え\n",
    "        for j in i[1:-1]:\n",
    "            list2.append(j)\n",
    "        random.shuffle(list2)\n",
    "        #並び替えたものを結合し、それをさらに最初と最後の文字と結合する\n",
    "        sentence2=\"\".join(list2)\n",
    "        k=i[0]+sentence2+i[-1]\n",
    "        list.append(k)\n",
    "    else:\n",
    "        list.append(i)\n",
    "    sentence3=\" \".join(list)\n",
    "print(sentence3)\n"
   ]
  }
 ],
 "metadata": {
  "kernelspec": {
   "display_name": "Python 3 (ipykernel)",
   "language": "python",
   "name": "python3"
  },
  "language_info": {
   "codemirror_mode": {
    "name": "ipython",
    "version": 3
   },
   "file_extension": ".py",
   "mimetype": "text/x-python",
   "name": "python",
   "nbconvert_exporter": "python",
   "pygments_lexer": "ipython3",
   "version": "3.9.7"
  }
 },
 "nbformat": 4,
 "nbformat_minor": 5
}
