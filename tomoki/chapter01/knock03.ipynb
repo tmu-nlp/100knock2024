{
 "cells": [
  {
   "cell_type": "code",
   "execution_count": null,
   "id": "28967523",
   "metadata": {},
   "outputs": [],
   "source": [
    "#No3(円周率)\n",
    "sentence=\"Now I need a drink, alcoholic of course, after the heavy lectures involving quantum mechanics.\"\n",
    "k={\",\":None,\".\":None}\n",
    "l=str.maketrans(k)\n",
    "sentence2=sentence.translate(l)\n",
    "Pi=sentence2.split()\n",
    "list=[]\n",
    "for i in Pi:\n",
    "    list.append(len(i))\n",
    "print(list)"
   ]
  }
 ],
 "metadata": {
  "kernelspec": {
   "display_name": "Python 3 (ipykernel)",
   "language": "python",
   "name": "python3"
  },
  "language_info": {
   "codemirror_mode": {
    "name": "ipython",
    "version": 3
   },
   "file_extension": ".py",
   "mimetype": "text/x-python",
   "name": "python",
   "nbconvert_exporter": "python",
   "pygments_lexer": "ipython3",
   "version": "3.9.7"
  }
 },
 "nbformat": 4,
 "nbformat_minor": 5
}
