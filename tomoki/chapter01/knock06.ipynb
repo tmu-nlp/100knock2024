{
 "cells": [
  {
   "cell_type": "code",
   "execution_count": 2,
   "id": "53c3fd9e",
   "metadata": {},
   "outputs": [
    {
     "name": "stdout",
     "output_type": "stream",
     "text": [
      "{'di', 'ar', 'ap', 'se', 'is', 'e', 'ra', 'ad', 'pa'}\n",
      "{'ar', 'ap', 'ph', 'h', 'gr', 'ra', 'ag', 'pa'}\n",
      "{'di', 'ar', 'ap', 'ph', 'h', 'se', 'is', 'e', 'gr', 'ra', 'ag', 'ad', 'pa'}\n",
      "{'ar', 'ap', 'pa', 'ra'}\n",
      "{'di', 'se', 'is', 'e', 'ad'}\n",
      "Xにreが含まれる\n"
     ]
    }
   ],
   "source": [
    "#NO6(集合)\n",
    "sentence='paraparaparadise'\n",
    "sentence2=\"paragraph\"\n",
    "\n",
    "def ngram(S,n):\n",
    "    list=[]\n",
    "    for i in range(len(S)):\n",
    "        try:\n",
    "            list.append(S[i:i+n])\n",
    "                        \n",
    "        except IndexError:\n",
    "            None\n",
    "    return list\n",
    "                        \n",
    "X=set(ngram(sentence,2))\n",
    "Y=set(ngram(sentence2,2))\n",
    "\n",
    "print(X)\n",
    "print(Y)\n",
    "print(X.union(Y))\n",
    "print(X.intersection(Y))\n",
    "print(X.difference(Y))\n",
    "\n",
    "if \"se\" in X:\n",
    "    print(\"Xにreが含まれる\")\n",
    "if \"se\" in Y:\n",
    "    print(\"Yにreが含まれる\")"
   ]
  }
 ],
 "metadata": {
  "kernelspec": {
   "display_name": "Python 3 (ipykernel)",
   "language": "python",
   "name": "python3"
  },
  "language_info": {
   "codemirror_mode": {
    "name": "ipython",
    "version": 3
   },
   "file_extension": ".py",
   "mimetype": "text/x-python",
   "name": "python",
   "nbconvert_exporter": "python",
   "pygments_lexer": "ipython3",
   "version": "3.9.7"
  }
 },
 "nbformat": 4,
 "nbformat_minor": 5
}
