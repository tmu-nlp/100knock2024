{
 "cells": [
  {
   "cell_type": "code",
   "execution_count": 2,
   "id": "8eb58b71",
   "metadata": {},
   "outputs": [
    {
     "ename": "SyntaxError",
     "evalue": "invalid syntax (Temp/ipykernel_12420/270510482.py, line 2)",
     "output_type": "error",
     "traceback": [
      "\u001b[1;36m  File \u001b[1;32m\"C:\\Users\\81807\\AppData\\Local\\Temp/ipykernel_12420/270510482.py\"\u001b[1;36m, line \u001b[1;32m2\u001b[0m\n\u001b[1;33m    $ git clone https://github.com/tmu-nlp/100knock2024.git\u001b[0m\n\u001b[1;37m    ^\u001b[0m\n\u001b[1;31mSyntaxError\u001b[0m\u001b[1;31m:\u001b[0m invalid syntax\n"
     ]
    }
   ],
   "source": [
    "#No0(文字列の逆順)\n",
    "$ git clone https://github.com/tmu-nlp/100knock2024.git\n",
    "s=\"stressed\"\n",
    "s_reversed=s[::-1]\n",
    "print(s_reversed)"
   ]
  }
 ],
 "metadata": {
  "kernelspec": {
   "display_name": "Python 3 (ipykernel)",
   "language": "python",
   "name": "python3"
  },
  "language_info": {
   "codemirror_mode": {
    "name": "ipython",
    "version": 3
   },
   "file_extension": ".py",
   "mimetype": "text/x-python",
   "name": "python",
   "nbconvert_exporter": "python",
   "pygments_lexer": "ipython3",
   "version": "3.9.7"
  }
 },
 "nbformat": 4,
 "nbformat_minor": 5
}
