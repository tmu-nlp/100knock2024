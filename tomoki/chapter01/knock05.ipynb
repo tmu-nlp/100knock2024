{
 "cells": [
  {
   "cell_type": "code",
   "execution_count": 2,
   "id": "b18c669a",
   "metadata": {},
   "outputs": [
    {
     "name": "stdout",
     "output_type": "stream",
     "text": [
      "[['I', 'am'], ['am', 'an'], ['an', 'NLPer'], ['NLPer']]\n",
      "['I ', ' a', 'am', 'm ', ' a', 'an', 'n ', ' N', 'NL', 'LP', 'Pe', 'er', 'r']\n"
     ]
    }
   ],
   "source": [
    "#No05(n-gram)\n",
    "sentence='I am an NLPer'\n",
    "\n",
    "def ngram(S,n):\n",
    "    list=[]\n",
    "    #ngramを作成する時、繰り返し回数は必ずlen(S)以下になる。\n",
    "    for i in range(len(S)):\n",
    "        try:\n",
    "            list.append(S[i:i+n])\n",
    "        \n",
    "        # list out of range（余分な繰り返し）はNoneにする。            \n",
    "        except IndexError:\n",
    "            None\n",
    "    return list\n",
    "                       \n",
    "print(ngram(sentence.split(),2))\n",
    "print(ngram(sentence,2))\n",
    "\n",
    "#n-gram　任意の文字数(単語数）で文章を分割する手法のこと"
   ]
  }
 ],
 "metadata": {
  "kernelspec": {
   "display_name": "Python 3 (ipykernel)",
   "language": "python",
   "name": "python3"
  },
  "language_info": {
   "codemirror_mode": {
    "name": "ipython",
    "version": 3
   },
   "file_extension": ".py",
   "mimetype": "text/x-python",
   "name": "python",
   "nbconvert_exporter": "python",
   "pygments_lexer": "ipython3",
   "version": "3.9.18"
  }
 },
 "nbformat": 4,
 "nbformat_minor": 5
}
