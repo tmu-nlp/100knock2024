{
 "cells": [
  {
   "cell_type": "code",
   "execution_count": null,
   "id": "b76dbf8f",
   "metadata": {},
   "outputs": [],
   "source": [
    "#No4(元素記号）\n",
    "sentence=\"Hi He Lied Because Boron Could Not Oxidize Fluorine. New Nations Might Also Sign Peace Security Clause. Arthur King Can.\"\n",
    "num=[1,5,6,7,8,9,15,16,19]\n",
    "element_dict={}\n",
    "for i, j in enumerate(sentence.split(),1):\n",
    "    if i in num:\n",
    "        element_dict[j[0]]=i\n",
    "    else:\n",
    "        element_dict[j[0:2]]=i\n",
    "print(element_dict)"
   ]
  }
 ],
 "metadata": {
  "kernelspec": {
   "display_name": "Python 3 (ipykernel)",
   "language": "python",
   "name": "python3"
  },
  "language_info": {
   "codemirror_mode": {
    "name": "ipython",
    "version": 3
   },
   "file_extension": ".py",
   "mimetype": "text/x-python",
   "name": "python",
   "nbconvert_exporter": "python",
   "pygments_lexer": "ipython3",
   "version": "3.9.7"
  }
 },
 "nbformat": 4,
 "nbformat_minor": 5
}
