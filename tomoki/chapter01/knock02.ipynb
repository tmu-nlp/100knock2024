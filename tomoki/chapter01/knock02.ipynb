{
 "cells": [
  {
   "cell_type": "code",
   "execution_count": null,
   "id": "6621d739",
   "metadata": {},
   "outputs": [],
   "source": [
    "#No2(「パトカー」＋「タクシー」＝「パタトクカシーー」)\n",
    "answer = \"\"\n",
    "for i in range(0,4):\n",
    "    answer += \"パトカー\"[i] + \"タクシー\"[i]\n",
    "print(answer)"
   ]
  }
 ],
 "metadata": {
  "kernelspec": {
   "display_name": "Python 3 (ipykernel)",
   "language": "python",
   "name": "python3"
  },
  "language_info": {
   "codemirror_mode": {
    "name": "ipython",
    "version": 3
   },
   "file_extension": ".py",
   "mimetype": "text/x-python",
   "name": "python",
   "nbconvert_exporter": "python",
   "pygments_lexer": "ipython3",
   "version": "3.9.7"
  }
 },
 "nbformat": 4,
 "nbformat_minor": 5
}
