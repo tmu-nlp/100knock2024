{
 "cells": [
  {
   "cell_type": "code",
   "execution_count": null,
   "metadata": {},
   "outputs": [],
   "source": [
    "def N_gram(n,string):\n",
    "    char = string.replace(\" \",\"\")\n",
    "    char_list = []\n",
    "    for c in range(len(char)):\n",
    "        char_list.append(char[c:c+n])\n",
    "    return char_list\n",
    "X = set(N_gram(2,\"paraparaparadise\"))\n",
    "Y = set(N_gram(2, \"paragraph\"))\n",
    "\n",
    "print('和集合:',X|Y)\n",
    "print('積集合:',X&Y)\n",
    "print('差集合:',X-Y)\n",
    "\n",
    "def word_search(word):\n",
    "    if word in X:\n",
    "        print(f\"Xは{word}含む\")\n",
    "    if word in Y:\n",
    "        print(f\"Yは{word}含む\")\n",
    "word_search('se')"
   ]
  }
 ],
 "metadata": {
  "interpreter": {
   "hash": "9ff8ea9f5bf98b88aeb07d5f996eec83cf9eb954a40999d60006e9e6a2d6768a"
  },
  "kernelspec": {
   "display_name": "Python 3.9.12",
   "language": "python",
   "name": "python3"
  },
  "language_info": {
   "name": "python",
   "version": "3.9.12"
  },
  "orig_nbformat": 4
 },
 "nbformat": 4,
 "nbformat_minor": 2
}
