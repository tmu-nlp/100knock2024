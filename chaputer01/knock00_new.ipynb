{
 "cells": [
  {
   "cell_type": "code",
   "execution_count": 2,
   "metadata": {},
   "outputs": [
    {
     "data": {
      "text/plain": [
       "'desserrts'"
      ]
     },
     "execution_count": 2,
     "metadata": {},
     "output_type": "execute_result"
    }
   ],
   "source": [
    "def reverse_string(s): #sは任意の文字列\n",
    "    result = ''\n",
    "    for char in s:\n",
    "        result = char + result\n",
    "    return result\n",
    "reverse_string('strressed')\n",
    "\n"
   ]
  },
  {
   "cell_type": "code",
   "execution_count": 3,
   "metadata": {},
   "outputs": [
    {
     "data": {
      "text/plain": [
       "'タクシー'"
      ]
     },
     "execution_count": 3,
     "metadata": {},
     "output_type": "execute_result"
    }
   ],
   "source": [
    "def culling(s,n):#sは任意の文字列 nは取り出したい数\n",
    "    result = ''\n",
    "    for i in range(n):\n",
    "        result = result + s[2*i+1] #奇数列を取り出す\n",
    "    return result\n",
    "culling('パタトクカシーー',4)\n"
   ]
  },
  {
   "cell_type": "code",
   "execution_count": 5,
   "metadata": {},
   "outputs": [
    {
     "data": {
      "text/plain": [
       "[3, 1, 4, 1, 5, 9, 2, 6, 5, 3, 5, 8, 9, 7, 9]"
      ]
     },
     "execution_count": 5,
     "metadata": {},
     "output_type": "execute_result"
    }
   ],
   "source": [
    "def string_count(s):\n",
    "    s = s.replace(',',' ').replace('.',' ')\n",
    "    s_list = s.split()\n",
    "    c_list = []\n",
    "    for w in s_list:\n",
    "        c_list.append(len(w))\n",
    "    return c_list\n",
    "string_count(\"Now I need a drink, alcoholic of course, after the heavy lectures involving quantum mechanics.\")"
   ]
  },
  {
   "cell_type": "code",
   "execution_count": 13,
   "metadata": {},
   "outputs": [
    {
     "data": {
      "text/plain": [
       "'[H, He, Li, Be, B, C, N, O, F, Ne, Na, Mi, Al, Si, P, S, Cl, Ar, K, Ca]'"
      ]
     },
     "execution_count": 13,
     "metadata": {},
     "output_type": "execute_result"
    }
   ],
   "source": [
    "def chemical_symbol(s):\n",
    "    s = s.replace(',', ' ').replace('.', ' ')\n",
    "    chemical_list = s.split()\n",
    "    number_list1 = [1, 5, 6, 7, 8, 9, 15, 16, 19]\n",
    "    result = []\n",
    "    for t in range(20):\n",
    "        if t + 1 in number_list1:\n",
    "            result.append(chemical_list[t][0])\n",
    "        else:\n",
    "            result.append(chemical_list[t][:2])\n",
    "    return f\"[{', '.join(result)}]\"\n",
    "\n",
    "chemical_symbol(\"Hi He Lied Because Boron Could Not Oxidize Fluorine. New Nations Might Also Sign Peace Security Clause. Arthur King Can.\")\n"
   ]
  },
  {
   "cell_type": "code",
   "execution_count": 19,
   "metadata": {},
   "outputs": [
    {
     "name": "stdout",
     "output_type": "stream",
     "text": [
      "単語bi-gram: [['I', 'am'], ['am', 'an'], ['an', 'NLPer'], ['NLPer']]\n",
      "文字bi-gram: ['Ia', 'am', 'ma', 'an', 'nN', 'NL', 'LP', 'Pe', 'er', 'r']\n"
     ]
    }
   ],
   "source": [
    "def N_gram(n,string):\n",
    "    word = string.split(\" \")\n",
    "    char = string.replace(\" \",\"\")\n",
    "    word_list = []\n",
    "    char_list = []\n",
    "    for w in range(len(word)):\n",
    "        word_list.append(word[w:w+n])\n",
    "    for c in range(len(char)):\n",
    "        char_list.append(char[c:c+n])\n",
    "    return word_list , char_list\n",
    "word_bigram,char_bigram = N_gram(2,'I am an NLPer')\n",
    "print('単語bi-gram:',word_bigram)\n",
    "print('文字bi-gram:',char_bigram)"
   ]
  },
  {
   "cell_type": "code",
   "execution_count": 30,
   "metadata": {},
   "outputs": [
    {
     "name": "stdout",
     "output_type": "stream",
     "text": [
      "和集合: {'di', 'gr', 'ad', 'ph', 'ra', 'ag', 'ar', 'h', 'e', 'se', 'ap', 'is', 'pa'}\n",
      "積集合: {'ap', 'ra', 'pa', 'ar'}\n",
      "差集合: {'di', 'ad', 'e', 'se', 'is'}\n",
      "Xはse含む\n"
     ]
    }
   ],
   "source": [
    "def N_gram(n,string):\n",
    "    char = string.replace(\" \",\"\")\n",
    "    char_list = []\n",
    "    for c in range(len(char)):\n",
    "        char_list.append(char[c:c+n])\n",
    "    return char_list\n",
    "X = set(N_gram(2,\"paraparaparadise\"))\n",
    "Y = set(N_gram(2, \"paragraph\"))\n",
    "\n",
    "print('和集合:',X|Y)\n",
    "print('積集合:',X&Y)\n",
    "print('差集合:',X-Y)\n",
    "\n",
    "def word_search(word):\n",
    "    if word in X:\n",
    "        print(f\"Xは{word}含む\")\n",
    "    if word in Y:\n",
    "        print(f\"Yは{word}含む\")\n",
    "word_search('se')\n",
    "\n"
   ]
  },
  {
   "cell_type": "code",
   "execution_count": 33,
   "metadata": {},
   "outputs": [
    {
     "name": "stdout",
     "output_type": "stream",
     "text": [
      "1時の気温は4\n"
     ]
    }
   ],
   "source": [
    "def temperature(x,y,z):\n",
    "    print(f'{x}時の{y}は{z}')\n",
    "temperature(1,'気温',4)"
   ]
  },
  {
   "cell_type": "code",
   "execution_count": 39,
   "metadata": {},
   "outputs": [
    {
     "data": {
      "text/plain": [
       "('zzzyyy', 'aaabbb')"
      ]
     },
     "execution_count": 39,
     "metadata": {},
     "output_type": "execute_result"
    }
   ],
   "source": [
    "import re\n",
    "def cipher(text):\n",
    "    temp = \"\"\n",
    "    for ch in text:\n",
    "        if ch in [chr(i) for i in range(ord('a'),ord('z')+1)]:\n",
    "            ch = chr(219 - ord(ch))\n",
    "        temp += ch\n",
    "    return temp\n",
    "password = cipher(\"aaabbb\")\n",
    "re_password = cipher(password)\n",
    "\n",
    "password,re_password"
   ]
  },
  {
   "cell_type": "code",
   "execution_count": 41,
   "metadata": {},
   "outputs": [
    {
     "name": "stdout",
     "output_type": "stream",
     "text": [
      "I co’ldunt beeivle that I cuold alltacuy utrnesadnd what I was raideng : the pmoehneanl peowr of the hmaun mind .\n"
     ]
    }
   ],
   "source": [
    "import random\n",
    "text09 = \"I couldn’t believe that I could actually understand what I was reading : the phenomenal power of the human mind .\"\n",
    "text09 = text09.replace(\".\", \"\")\n",
    "text09b = text09.split(\" \")\n",
    "temp = \"\"\n",
    "for txt in text09b:\n",
    "    if len(txt) <= 4:\n",
    "        pass\n",
    "    else:\n",
    "        txt = txt[0]+\"\".join(random.sample(txt[1:-1], len(txt[1:-1])))+txt[-1]\n",
    "    temp += txt + \" \"\n",
    "result = temp[:-1] + \".\"\n",
    "print(result)\n",
    "\n",
    "        "
   ]
  },
  {
   "cell_type": "code",
   "execution_count": 43,
   "metadata": {},
   "outputs": [
    {
     "name": "stdout",
     "output_type": "stream",
     "text": [
      "I donucl t ilbevee that I ulcdo ltayaucl tradnndsue what I was naegrdi the lmnoahenep rwoep of the auhnm mind\n"
     ]
    }
   ],
   "source": [
    "# def shuffle_words(sentence):\n",
    "#     # 正規表現で単語を抽出\n",
    "#     words = re.findall(r'\\b\\w+\\b', sentence)\n",
    "    \n",
    "#     # 単語の長さが4以上のものだけシャッフル\n",
    "#     shuffled_words = [word if len(word) <= 4 else ''.join(random.sample(word, len(word))) for word in words]\n",
    "    \n",
    "#     # 先頭と末尾の単語を残す\n",
    "#     result = ' '.join([shuffled_words[0]] + shuffled_words[1:-1] + [shuffled_words[-1]])\n",
    "#     return result\n",
    "\n",
    "# # 与えられた英語の文\n",
    "# original_sentence = \"I couldn’t believe that I could actually understand what I was reading : the phenomenal power of the human mind.\"\n",
    "\n",
    "# # ランダムに並び替えた結果\n",
    "# shuffled_sentence = shuffle_words(original_sentence)\n",
    "# print(shuffled_sentence)"
   ]
  }
 ],
 "metadata": {
  "interpreter": {
   "hash": "9ff8ea9f5bf98b88aeb07d5f996eec83cf9eb954a40999d60006e9e6a2d6768a"
  },
  "kernelspec": {
   "display_name": "Python 3.9.12",
   "language": "python",
   "name": "python3"
  },
  "language_info": {
   "codemirror_mode": {
    "name": "ipython",
    "version": 3
   },
   "file_extension": ".py",
   "mimetype": "text/x-python",
   "name": "python",
   "nbconvert_exporter": "python",
   "pygments_lexer": "ipython3",
   "version": "3.9.12"
  },
  "orig_nbformat": 4
 },
 "nbformat": 4,
 "nbformat_minor": 2
}
