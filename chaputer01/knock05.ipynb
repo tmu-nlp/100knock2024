{
 "cells": [
  {
   "cell_type": "code",
   "execution_count": null,
   "metadata": {},
   "outputs": [],
   "source": [
    "def temperature(x,y,z):\n",
    "    print(f'{x}時の{y}は{z}')\n",
    "temperature(1,'気温',4)"
   ]
  }
 ],
 "metadata": {
  "interpreter": {
   "hash": "9ff8ea9f5bf98b88aeb07d5f996eec83cf9eb954a40999d60006e9e6a2d6768a"
  },
  "kernelspec": {
   "display_name": "Python 3.9.12",
   "language": "python",
   "name": "python3"
  },
  "language_info": {
   "name": "python",
   "version": "3.9.12"
  },
  "orig_nbformat": 4
 },
 "nbformat": 4,
 "nbformat_minor": 2
}
