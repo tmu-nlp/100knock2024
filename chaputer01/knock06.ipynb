{
 "cells": [
  {
   "cell_type": "code",
   "execution_count": null,
   "metadata": {},
   "outputs": [],
   "source": [
    "import re\n",
    "def cipher(text):\n",
    "    temp = \"\"\n",
    "    for ch in text:\n",
    "        if ch in [chr(i) for i in range(ord('a'),ord('z')+1)]:\n",
    "            ch = chr(219 - ord(ch))\n",
    "        temp += ch\n",
    "    return temp\n",
    "password = cipher(\"aaabbb\")\n",
    "re_password = cipher(password)\n",
    "\n",
    "password,re_password"
   ]
  }
 ],
 "metadata": {
  "interpreter": {
   "hash": "9ff8ea9f5bf98b88aeb07d5f996eec83cf9eb954a40999d60006e9e6a2d6768a"
  },
  "kernelspec": {
   "display_name": "Python 3.9.12",
   "language": "python",
   "name": "python3"
  },
  "language_info": {
   "name": "python",
   "version": "3.9.12"
  },
  "orig_nbformat": 4
 },
 "nbformat": 4,
 "nbformat_minor": 2
}
