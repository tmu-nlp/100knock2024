{
 "cells": [
  {
   "cell_type": "code",
   "execution_count": null,
   "metadata": {},
   "outputs": [],
   "source": [
    "## 44. 係り受け木の可視化\n",
    "## 与えられた文の係り受け木を有向グラフとして可視化せよ．\n",
    "## 可視化には，Graphviz等を用いるとよい\n",
    "\n",
    "from knock41 import sentences\n",
    "from graphviz import Digraph\n",
    "\n",
    "g = Digraph(filename='44')\n",
    "for sentence in sentences:\n",
    "    for id, chunk in enumerate(sentence.chunks):\n",
    "        if chunk.dst != -1:\n",
    "            modifier = ''.join([morph.surface if morph.pos !=\n",
    "                               '記号' else '' for morph in chunk.morphs] + ['(' + str(id) + ')'])\n",
    "            modifiee = ''.join([morph.surface if morph.pos !=\n",
    "                               '記号' else '' for morph in sentence.chunks[chunk.dst].morphs] + ['(' + str(chunk.dst) + ')'])\n",
    "            g.node(modifier)\n",
    "            g.node(modifiee)\n",
    "            g.edge(modifier, modifiee)\n",
    "g.render(view=True)"
   ]
  }
 ],
 "metadata": {
  "language_info": {
   "name": "python"
  }
 },
 "nbformat": 4,
 "nbformat_minor": 2
}
