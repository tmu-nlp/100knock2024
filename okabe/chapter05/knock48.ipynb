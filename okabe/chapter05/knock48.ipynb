{
 "cells": [
  {
   "cell_type": "code",
   "execution_count": null,
   "metadata": {},
   "outputs": [],
   "source": [
    "## 48. 名詞から根へのパスの抽出\n",
    "## 文中のすべての名詞を含む文節に対し，その文節から構文木の根に至るパスを抽出せよ． \n",
    "## ただし，構文木上のパスは以下の仕様を満たすものとする．\n",
    "\n",
    "##  - 各文節は（表層形の）形態素列で表現する\n",
    "##  - パスの開始文節から終了文節に至るまで，各文節の表現を” -> “で連結する\n",
    "\n",
    "## 「ジョン・マッカーシーはAIに関する最初の会議で人工知能という用語を作り出した。」という例文を考える． \n",
    "## CaboChaを係り受け解析に用いた場合，次のような出力が得られると思われる．\n",
    "\n",
    "## ジョンマッカーシーは -> 作り出した\n",
    "## AIに関する -> 最初の -> 会議で -> 作り出した\n",
    "## 最初の -> 会議で -> 作り出した\n",
    "## 会議で -> 作り出した\n",
    "## 人工知能という -> 用語を -> 作り出した\n",
    "## 用語を -> 作り出した\n",
    "\n",
    "from knock41 import sentences\n",
    "\n",
    "def create_path(chunk, sentence, path_list):\n",
    "    '''Chunkオブジェクト, Sentenceオブジェクトのリスト，パスを格納するリストを受け取ってパスのリストを返す関数'''\n",
    "    # 係り先がないなら再帰終了\n",
    "    if chunk.dst == -1:\n",
    "        return path_list\n",
    "\n",
    "    # 係り先のチャンクをpath_listの末尾に追加\n",
    "    path_list.append(''.join(\n",
    "        [m.surface if m.pos != '記号' else '' for m in sentence.chunks[chunk.dst].morphs]))\n",
    "\n",
    "    # 係り先を係り元として関数に渡して再帰処理\n",
    "    return create_path(sentence.chunks[chunk.dst], sentence, path_list)\n",
    "\n",
    "\n",
    "sentence_path = []\n",
    "\n",
    "for sentence in sentences:\n",
    "    for chunk in sentence.chunks:\n",
    "        for morph in chunk.morphs:\n",
    "            if morph.pos == '名詞':\n",
    "                sentence_path = [''.join([m.surface if m.pos != '記号' else '' for m in chunk.morphs])] \\\n",
    "                    + create_path(chunk, sentence, [])\n",
    "                print(*sentence_path, sep=' -> ')\n",
    "                break"
   ]
  }
 ],
 "metadata": {
  "language_info": {
   "name": "python"
  }
 },
 "nbformat": 4,
 "nbformat_minor": 2
}
