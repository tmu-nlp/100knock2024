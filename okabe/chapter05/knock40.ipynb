{
 "cells": [
  {
   "cell_type": "code",
   "execution_count": null,
   "metadata": {},
   "outputs": [],
   "source": [
    "## 40. 係り受け解析結果の読み込み（形態素）\n",
    "## 形態素を表すクラスMorphを実装せよ．このクラスは表層形（surface），基本形（base），品詞（pos），品詞細分類1（pos1）をメンバ変数に持つこととする．\n",
    "## さらに，係り受け解析の結果（ai.ja.txt.parsed）を読み込み，各文をMorphオブジェクトのリストとして表現し，冒頭の説明文の形態素列を表示せよ\n",
    "\n",
    "class Morph():\n",
    "    def __init__(self, surface, base, pos, pos1):\n",
    "        self.surface = surface\n",
    "        self.base = base\n",
    "        self.pos = pos\n",
    "        self.pos1 = pos1\n",
    "\n",
    "\n",
    "morph_list = []\n",
    "sentences = []\n",
    "\n",
    "with open('ai.ja.txt.parsed', 'r') as f:\n",
    "    for line in f:\n",
    "        if line[0] == '*':\n",
    "            continue\n",
    "        elif line != 'EOS\\n':\n",
    "            data = line.replace('\\t', ',').split(',')\n",
    "            morph_list.append(Morph(data[0], data[7], data[1], data[2]))\n",
    "        else:\n",
    "            sentences.append(morph_list)\n",
    "            morph_list = []\n",
    "\n",
    "for m in sentences[2]:\n",
    "    print(vars(m))"
   ]
  }
 ],
 "metadata": {
  "language_info": {
   "name": "python"
  }
 },
 "nbformat": 4,
 "nbformat_minor": 2
}
