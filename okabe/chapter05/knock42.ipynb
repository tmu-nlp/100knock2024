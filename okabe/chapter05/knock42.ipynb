{
 "cells": [
  {
   "cell_type": "code",
   "execution_count": null,
   "metadata": {},
   "outputs": [],
   "source": [
    "## 42. 係り元と係り先の文節の表示\n",
    "## 係り元の文節と係り先の文節のテキストをタブ区切り形式ですべて抽出せよ．\n",
    "## ただし，句読点などの記号は出力しないようにせよ．\n",
    "from knock41 import sentences\n",
    "\n",
    "for sentence in sentences:\n",
    "    for chunk in sentence.chunks:\n",
    "        if chunk.dst != -1:\n",
    "            modifier = ''.join(\n",
    "                [morph.surface if morph.pos != '記号' else '' for morph in chunk.morphs])\n",
    "            modifiee = ''.join([morph.surface if morph.pos !=\n",
    "                               '記号' else '' for morph in sentence.chunks[chunk.dst].morphs])\n",
    "            print(modifier, modifiee, sep='\\t')"
   ]
  }
 ],
 "metadata": {
  "language_info": {
   "name": "python"
  }
 },
 "nbformat": 4,
 "nbformat_minor": 2
}
