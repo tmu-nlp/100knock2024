{
 "cells": [
  {
   "cell_type": "code",
   "execution_count": null,
   "metadata": {},
   "outputs": [],
   "source": [
    "## 47. 機能動詞構文のマイニング\n",
    "## 動詞のヲ格にサ変接続名詞が入っている場合のみに着目したい．46のプログラムを以下の仕様を満たすように改変せよ．\n",
    "\n",
    "##  - 「サ変接続名詞+を（助詞）」で構成される文節が動詞に係る場合のみを対象とする\n",
    "##  - 述語は「サ変接続名詞+を+動詞の基本形」とし，文節中に複数の動詞があるときは，最左の動詞を用いる\n",
    "##  - 述語に係る助詞（文節）が複数あるときは，すべての助詞をスペース区切りで辞書順に並べる\n",
    "##  - 述語に係る文節が複数ある場合は，すべての項をスペース区切りで並べる（助詞の並び順と揃えよ）\n",
    "\n",
    "## 例えば「また、自らの経験を元に学習を行う強化学習という手法もある。」という文から，以下の出力が得られるはずである．\n",
    "\n",
    "## 学習を行う\tに を\t元に 経験を\n",
    "\n",
    "from knock41 import sentences\n",
    "from unittest import case\n",
    "\n",
    "flag1 = False  # 動詞が見つかったらTrue\n",
    "flag2 = False  # 動詞にサ変+をでTrue\n",
    "verb = ''\n",
    "cases = []\n",
    "args = []\n",
    "\n",
    "for sentence in sentences:\n",
    "    for chunk in sentence.chunks:\n",
    "        if len(chunk.srcs) > 0:\n",
    "            for morph in chunk.morphs:\n",
    "                if morph.pos == '動詞':\n",
    "                    flag1 = True\n",
    "                    verb = morph.base\n",
    "            for s in chunk.srcs:\n",
    "                src_morphs = sentence.chunks[s].morphs\n",
    "                for i, morph in enumerate(src_morphs):\n",
    "                    if morph.pos == '助詞':\n",
    "                        cases.append(morph.surface)\n",
    "                        # argsに項を追加\n",
    "                        args.append(\n",
    "                            ''.join([morph.surface for morph in sentence.chunks[s].morphs])\n",
    "                        )\n",
    "                    if i < len(src_morphs)-1 and morph.pos1 == 'サ変接続' and src_morphs[i+1].surface == 'を':\n",
    "                        flag2 = True\n",
    "            if flag1 and flag2:\n",
    "                print(verb, ' '.join(cases), ' '.join(args), sep='\\t')  # 項も出力\n",
    "            flag1 = False\n",
    "            flag2 = False\n",
    "            verb = ''\n",
    "            cases.clear()\n",
    "            args.clear()"
   ]
  }
 ],
 "metadata": {
  "language_info": {
   "name": "python"
  }
 },
 "nbformat": 4,
 "nbformat_minor": 2
}
