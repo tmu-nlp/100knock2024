{
 "cells": [
  {
   "cell_type": "code",
   "execution_count": null,
   "metadata": {},
   "outputs": [],
   "source": [
    "## 46. 動詞の格フレーム情報の抽出\n",
    "## 45のプログラムを改変し，述語と格パターンに続けて項（述語に係っている文節そのもの）をタブ区切り形式で出力せよ．\n",
    "## 45の仕様に加えて，以下の仕様を満たすようにせよ．\n",
    "\n",
    "##  - 項は述語に係っている文節の単語列とする（末尾の助詞を取り除く必要はない）\n",
    "##  - 述語に係る文節が複数あるときは，助詞と同一の基準・順序でスペース区切りで並べる\n",
    "## 「ジョン・マッカーシーはAIに関する最初の会議で人工知能という用語を作り出した。」という例文を考える． \n",
    "## この文は「作り出す」という１つの動詞を含み，「作り出す」に係る文節は「ジョン・マッカーシーは」，「会議で」，「用語を」であると解析された場合は，次のような出力になるはずである．\n",
    "\n",
    "## 作り出す\tで は を\t会議で ジョンマッカーシーは 用語を\n",
    "\n",
    "from knock41 import sentences\n",
    "\n",
    "flag1 = False  # 動詞が見つかったらTrue\n",
    "flag2 = False  # 動詞に助詞がかかってたらTrue\n",
    "verb = ''\n",
    "cases = []\n",
    "args = []\n",
    "\n",
    "for sentence in sentences:\n",
    "    for chunk in sentence.chunks:\n",
    "        if len(chunk.srcs) > 0:\n",
    "            for morph in chunk.morphs:\n",
    "                if morph.pos == '動詞':\n",
    "                    flag1 = True\n",
    "                    verb = morph.base\n",
    "            for s in chunk.srcs:\n",
    "                for morph in sentence.chunks[s].morphs:\n",
    "                    if morph.pos == '助詞':\n",
    "                        flag2 = True\n",
    "                        cases.append(morph.surface)\n",
    "                        # argsに項を追加\n",
    "                        args.append(\n",
    "                            ''.join([morph.surface if morph.pos != '記号' else '' for morph in sentence.chunks[s].morphs])\n",
    "                        )\n",
    "        if flag1 and flag2:\n",
    "            print(verb + '\\t' + ' '.join(cases + args))  # 項も出力\n",
    "        flag1 = False\n",
    "        flag2 = False\n",
    "        verb = ''\n",
    "        cases.clear()\n",
    "        args.clear()"
   ]
  }
 ],
 "metadata": {
  "language_info": {
   "name": "python"
  }
 },
 "nbformat": 4,
 "nbformat_minor": 2
}
