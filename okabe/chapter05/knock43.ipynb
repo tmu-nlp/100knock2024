{
 "cells": [
  {
   "cell_type": "code",
   "execution_count": null,
   "metadata": {},
   "outputs": [],
   "source": [
    "## 43. 名詞を含む文節が動詞を含む文節に係るものを抽出\n",
    "## 名詞を含む文節が，動詞を含む文節に係るとき，これらをタブ区切り形式で抽出せよ．\n",
    "## ただし，句読点などの記号は出力しないようにせよ．\n",
    "\n",
    "from knock41 import sentences\n",
    "\n",
    "flag1 = False\n",
    "flag2 = False\n",
    "modifier = []\n",
    "modifiee = []\n",
    "\n",
    "for sentence in sentences:\n",
    "    for chunk in sentence.chunks:\n",
    "        if chunk.dst != -1:\n",
    "            for morph in chunk.morphs:\n",
    "                if morph.pos == '名詞':\n",
    "                    flag1 = True\n",
    "                if morph.pos != '記号':\n",
    "                    modifier.append(morph.surface)\n",
    "            for morph in sentence.chunks[chunk.dst].morphs:\n",
    "                if morph.pos == '動詞':\n",
    "                    flag2 = True\n",
    "                if morph.pos != '記号':\n",
    "                    modifiee.append(morph.surface)\n",
    "            if flag1 and flag2:\n",
    "                print(''.join(modifier), ''.join(modifiee), sep='\\t')\n",
    "            flag1 = False\n",
    "            flag2 = False\n",
    "            modifier.clear()\n",
    "            modifiee.clear()"
   ]
  }
 ],
 "metadata": {
  "language_info": {
   "name": "python"
  }
 },
 "nbformat": 4,
 "nbformat_minor": 2
}
