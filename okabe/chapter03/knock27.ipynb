{
 "cells": [
  {
   "cell_type": "code",
   "execution_count": null,
   "metadata": {},
   "outputs": [],
   "source": [
    "import json\n",
    "import re\n",
    "\n",
    "file_path = 'jawiki-country.json'\n",
    "\n",
    "with open(file_path, 'rt', encoding='utf-8') as file:\n",
    "    for line in file:\n",
    "        article = json.loads(line)\n",
    "        if article['title'] == 'イギリス':\n",
    "            text = article['text']\n",
    "            basic_info_text = re.search(r'{{基礎情報 国\\n(.*?)(\\n}})', text, flags=re.DOTALL)\n",
    "            if basic_info_text:\n",
    "                basic_info_content = basic_info_text.group(1)\n",
    "                fields = re.findall(r'\\|([^=]+?)\\s*=\\s*(.*?)(?=\\n\\||\\n}})', basic_info_content, flags=re.DOTALL)\n",
    "                info_dict = {}\n",
    "                for field, value in fields:\n",
    "                    no_markup = re.sub(r\"'{2,5}\", \"\", value)\n",
    "                    clean_text = re.sub(r'\\[\\[(?:[^|\\]]*\\|)?([^|\\]]+)\\]\\]', r'\\1', no_markup)\n",
    "                    info_dict[field.strip()] = clean_text.strip()\n",
    "            break\n",
    "\n",
    "for info in info_dict:\n",
    "    print(info,info_dict[info])"
   ]
  }
 ],
 "metadata": {
  "language_info": {
   "name": "python"
  }
 },
 "nbformat": 4,
 "nbformat_minor": 2
}
