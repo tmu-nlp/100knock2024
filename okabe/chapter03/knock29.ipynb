{
 "cells": [
  {
   "cell_type": "code",
   "execution_count": null,
   "metadata": {},
   "outputs": [],
   "source": [
    "import json\n",
    "import re\n",
    "import requests\n",
    "\n",
    "file_path = 'jawiki-country.json'\n",
    "\n",
    "def get_image_url(image_title):\n",
    "    endpoint = 'https://commons.wikimedia.org/w/api.php'\n",
    "    params = {\n",
    "        'action': 'query',\n",
    "        'format': 'json',\n",
    "        'prop': 'imageinfo',\n",
    "        'titles': f'File:{image_title}',\n",
    "        'iiprop': 'url'\n",
    "    }\n",
    "    response = requests.get(endpoint, params=params)\n",
    "    data = response.json()\n",
    "    page = next(iter(data['query']['pages'].values()))\n",
    "    if 'imageinfo' in page:\n",
    "        return page['imageinfo'][0]['url']\n",
    "    else:\n",
    "        return None\n",
    "\n",
    "with open(file_path, 'rt', encoding='utf-8') as file:\n",
    "    for line in file:\n",
    "        article = json.loads(line)\n",
    "        if article['title'] == 'イギリス':\n",
    "            text = article['text']\n",
    "            basic_info_text = re.search(r'{{基礎情報 国\\n(.*?)(\\n}})', text, flags=re.DOTALL)\n",
    "            if basic_info_text:\n",
    "                basic_info_content = basic_info_text.group(1)\n",
    "                flag_image_match = re.search(r'\\|国旗画像\\s*=\\s*(.*?)\\n', basic_info_content)\n",
    "                if flag_image_match:\n",
    "                    flag_image = flag_image_match.group(1).strip()\n",
    "                    flag_image_url = get_image_url(flag_image)\n",
    "                    print(flag_image_url)\n",
    "            break"
   ]
  }
 ],
 "metadata": {
  "language_info": {
   "name": "python"
  }
 },
 "nbformat": 4,
 "nbformat_minor": 2
}
