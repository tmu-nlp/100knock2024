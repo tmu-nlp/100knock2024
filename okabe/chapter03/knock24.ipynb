{
 "cells": [
  {
   "cell_type": "code",
   "execution_count": null,
   "metadata": {},
   "outputs": [],
   "source": [
    "import json\n",
    "import re\n",
    "\n",
    "file_path = 'jawiki-country.json'\n",
    "\n",
    "with open(file_path, 'r') as file:\n",
    "    for line in file:\n",
    "        article = json.loads(line)\n",
    "        if article['title'] == 'イギリス':\n",
    "            text = article['text']\n",
    "            sections = re.findall(r'(==+)(.*?)(==+)', text)\n",
    "            break\n",
    "\n",
    "print(sections)\n",
    "\n",
    "for equals, name, _ in sections:\n",
    "    level = len(equals) - 1  \n",
    "    print(f'{name.strip()} : Level{level}')"
   ]
  }
 ],
 "metadata": {
  "language_info": {
   "name": "python"
  }
 },
 "nbformat": 4,
 "nbformat_minor": 2
}
