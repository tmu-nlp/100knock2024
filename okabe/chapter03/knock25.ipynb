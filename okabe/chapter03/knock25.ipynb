{
 "cells": [
  {
   "cell_type": "code",
   "execution_count": null,
   "metadata": {},
   "outputs": [],
   "source": [
    "import json\n",
    "import re\n",
    "\n",
    "file_path = 'jawiki-country.json'\n",
    "\n",
    "with open(file_path, 'r') as file:\n",
    "    for line in file:\n",
    "        article = json.loads(line)\n",
    "        if article['title'] == 'イギリス':\n",
    "            text = article['text']\n",
    "            basic_info_text = re.search(r'{{基礎情報 国\\n(.*?)(\\n}})', text, flags=re.DOTALL)\n",
    "            if basic_info_text:\n",
    "                basic_info_content = basic_info_text.group(1)\n",
    "                fields = re.findall(r'\\|([^=]+?)\\s*=\\s*(.*?)(?=\\n\\||\\n}})', basic_info_content)\n",
    "                info_dict = {field.strip(): value.strip() for field, value in fields}\n",
    "            break\n",
    "\n",
    "for info in info_dict:\n",
    "    print(info, info_dict[info])"
   ]
  }
 ],
 "metadata": {
  "language_info": {
   "name": "python"
  }
 },
 "nbformat": 4,
 "nbformat_minor": 2
}
