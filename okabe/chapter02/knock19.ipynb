{
 "cells": [
  {
   "cell_type": "code",
   "execution_count": null,
   "metadata": {},
   "outputs": [],
   "source": [
    "from collections import Counter\n",
    "\n",
    "filename = \"popular-names.txt\"\n",
    "counter = Counter()\n",
    "\n",
    "with open(filename, 'r') as file:\n",
    "    for line in file:\n",
    "        columns = line.strip().split('\\t')\n",
    "        if columns:\n",
    "            counter[columns[0]] += 1\n",
    "file.close()\n",
    "\n",
    "for item, count in counter.most_common():\n",
    "    print(f\"{item}: {count}\")"
   ]
  },
  {
   "cell_type": "code",
   "execution_count": null,
   "metadata": {},
   "outputs": [],
   "source": [
    "#確認\n",
    "!cut -f1 popular-names.txt | sort | uniq -c | sort -nr"
   ]
  }
 ],
 "metadata": {
  "language_info": {
   "name": "python"
  }
 },
 "nbformat": 4,
 "nbformat_minor": 2
}
