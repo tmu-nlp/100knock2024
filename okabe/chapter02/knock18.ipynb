{
 "cells": [
  {
   "cell_type": "code",
   "execution_count": null,
   "metadata": {},
   "outputs": [],
   "source": [
    "filename = \"popular-names.txt\"\n",
    "\n",
    "with open(filename, 'r') as file:\n",
    "        lines = file.readlines()\n",
    "        sorted_lines = sorted(lines, key=lambda line: float(line.split('\\t')[2]), reverse=True)\n",
    "file.close()\n",
    "\n",
    "with open(\"popular-names-sorted3.txt\", 'w') as file:\n",
    "        for line in sorted_lines:\n",
    "            file.write(line)"
   ]
  },
  {
   "cell_type": "code",
   "execution_count": null,
   "metadata": {},
   "outputs": [],
   "source": [
    "#確認\n",
    "#!cat popular-names-sorted3.txt\n",
    "!sort -k3,3nr popular-names.txt"
   ]
  }
 ],
 "metadata": {
  "language_info": {
   "name": "python"
  }
 },
 "nbformat": 4,
 "nbformat_minor": 2
}
