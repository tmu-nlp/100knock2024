{
 "cells": [
  {
   "cell_type": "code",
   "execution_count": null,
   "metadata": {},
   "outputs": [],
   "source": [
    "filename = \"popular-names-modified.txt\"\n",
    "\n",
    "col1 = []\n",
    "col2 = []\n",
    "\n",
    "with open(filename, \"r\") as file:\n",
    "    for line in file:\n",
    "        line = line.strip().split()\n",
    "        col1.append(line[0] + '\\n')\n",
    "        col2.append(line[1] + '\\n')\n",
    "file.close()\n",
    "\n",
    "with open(\"col1.txt\",\"w\") as file:\n",
    "    file.writelines(col1)\n",
    "file.close()\n",
    "\n",
    "with open(\"col2.txt\",\"w\") as file:\n",
    "    file.writelines(col2)\n",
    "file.close()"
   ]
  },
  {
   "cell_type": "code",
   "execution_count": null,
   "metadata": {},
   "outputs": [],
   "source": [
    "#確認\n",
    "!cut -f1 col1.txt\n",
    "!cut -f2 col2.txt"
   ]
  }
 ],
 "metadata": {
  "language_info": {
   "name": "python"
  }
 },
 "nbformat": 4,
 "nbformat_minor": 2
}
