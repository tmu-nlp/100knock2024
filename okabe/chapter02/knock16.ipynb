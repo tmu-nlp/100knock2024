{
 "cells": [
  {
   "cell_type": "code",
   "execution_count": null,
   "metadata": {},
   "outputs": [],
   "source": [
    "filename = \"popular-names-modified.txt\"\n",
    "N = int(input())\n",
    "\n",
    "with open(filename, 'r') as file:\n",
    "        lines = file.readlines()\n",
    "        lines_per_file = [(len(lines)-(len(lines)*i//N))//(N-i) for i in range(N)] \n",
    " \n",
    "        for i in range(N):\n",
    "            with open(f'popular-names-modified-section{i+1}.txt', 'w') as f:\n",
    "                if i == 0:\n",
    "                     f.writelines(lines[0:lines_per_file[i]])\n",
    "                else:\n",
    "                    f.writelines(lines[lines_per_file[i-1]:lines_per_file[i]])"
   ]
  },
  {
   "cell_type": "code",
   "execution_count": null,
   "metadata": {},
   "outputs": [],
   "source": [
    "!split -l 556 -d -a 3 popular-names-modified.txt popular-names-modified-split-"
   ]
  }
 ],
 "metadata": {
  "language_info": {
   "name": "python"
  }
 },
 "nbformat": 4,
 "nbformat_minor": 2
}
