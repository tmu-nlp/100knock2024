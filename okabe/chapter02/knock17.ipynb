{
 "cells": [
  {
   "cell_type": "code",
   "execution_count": null,
   "metadata": {},
   "outputs": [],
   "source": [
    "filename = \"popular-names-modified.txt\"\n",
    "\n",
    "unique_strings = set()\n",
    "with open(filename, 'r') as file:\n",
    "    for line in file:\n",
    "        col = line.strip().split(\" \")\n",
    "        unique_strings.add(col[0])\n",
    "print(unique_strings)"
   ]
  },
  {
   "cell_type": "code",
   "execution_count": null,
   "metadata": {},
   "outputs": [],
   "source": [
    "#確認\n",
    "!cut -f1 popular-names.txt | sort | uniq"
   ]
  }
 ],
 "metadata": {
  "language_info": {
   "name": "python"
  }
 },
 "nbformat": 4,
 "nbformat_minor": 2
}
