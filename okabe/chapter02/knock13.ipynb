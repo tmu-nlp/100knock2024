{
 "cells": [
  {
   "cell_type": "code",
   "execution_count": null,
   "metadata": {},
   "outputs": [],
   "source": [
    "# col1.txt と col2.txt を開いて読み込む\n",
    "with open('col1.txt', 'r') as f1, open('col2.txt', 'r') as f2:\n",
    "    col1_lines = f1.readlines()\n",
    "    col2_lines = f2.readlines()\n",
    "\n",
    "# 新しいファイルに結合して保存\n",
    "with open('combined.txt', 'w') as f_out:\n",
    "    for col1, col2 in zip(col1_lines, col2_lines):\n",
    "        f_out.write(col1.strip() + '\\t' + col2)"
   ]
  },
  {
   "cell_type": "code",
   "execution_count": null,
   "metadata": {},
   "outputs": [],
   "source": [
    "#確認\n",
    "!paste col1.txt col2.txt"
   ]
  }
 ],
 "metadata": {
  "language_info": {
   "name": "python"
  }
 },
 "nbformat": 4,
 "nbformat_minor": 2
}
