{
 "cells": [
  {
   "cell_type": "code",
   "execution_count": null,
   "metadata": {},
   "outputs": [],
   "source": [
    "#文章中に出現する単語とその出現頻度を求め，出現頻度の高い順に並べよ\n",
    "import knock30\n",
    "\n",
    "word_dict = dict()\n",
    "\n",
    "for line in knock30.sentence_list:\n",
    "    for morph in line:\n",
    "        if morph[\"pos\"] == \"記号\":\n",
    "            continue\n",
    "        base = str(morph[\"base\"])\n",
    "        if base in word_dict:\n",
    "            word_dict[base] += 1\n",
    "        else:\n",
    "            word_dict[base] = 1\n",
    "\n",
    "sort_word_list = sorted(word_dict.items(), key=lambda x: x[1], reverse=True)\n",
    "\n",
    "print(sort_word_list)"
   ]
  }
 ],
 "metadata": {
  "language_info": {
   "name": "python"
  }
 },
 "nbformat": 4,
 "nbformat_minor": 2
}
