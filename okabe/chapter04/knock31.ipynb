{
 "cells": [
  {
   "cell_type": "code",
   "execution_count": null,
   "metadata": {},
   "outputs": [],
   "source": [
    "#動詞の表層形をすべて抽出せよ．\n",
    "import knock30\n",
    "\n",
    "verbs = list()\n",
    "\n",
    "for line in knock30.sentence_list:\n",
    "    for morph in line:\n",
    "        if morph['pos'] == \"動詞\":\n",
    "            verbs.append(morph['surface'])\n",
    "print(verbs)"
   ]
  }
 ],
 "metadata": {
  "language_info": {
   "name": "python"
  }
 },
 "nbformat": 4,
 "nbformat_minor": 2
}
