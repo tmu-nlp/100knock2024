{
 "cells": [
  {
   "cell_type": "code",
   "execution_count": null,
   "metadata": {},
   "outputs": [],
   "source": [
    "## 単語の出現頻度順位を横軸，その出現頻度を縦軸として，両対数グラフをプロットせよ\n",
    "import knock30\n",
    "import matplotlib.pyplot as plt\n",
    "import japanize_matplotlib #日本語化matplotlib\n",
    "import seaborn as sns\n",
    "sns.set(font=\"IPAexGothic\")\n",
    "\n",
    "word_dict = dict()\n",
    "\n",
    "for line in knock30.sentence_list:\n",
    "    for morph in line:\n",
    "        if morph[\"pos\"] == \"記号\":\n",
    "            continue\n",
    "        base = str(morph[\"base\"])\n",
    "        if base in word_dict:\n",
    "            word_dict[base] += 1\n",
    "        else:\n",
    "            word_dict[base] = 1\n",
    "\n",
    "sort_word_list = sorted(word_dict.items(), key=lambda x: x[1], reverse=True)\n",
    "\n",
    "# 頻度リストを作成\n",
    "frequencies = [freq for word, freq in sort_word_list]\n",
    "\n",
    "# 頻度順位リストを作成\n",
    "ranks = range(1, len(frequencies) + 1)\n",
    "\n",
    "# 両対数グラフのプロット\n",
    "plt.figure(figsize=(10, 6))\n",
    "plt.loglog(ranks, frequencies, marker='o', linestyle='none')\n",
    "plt.xlabel('出現頻度順位')\n",
    "plt.ylabel('出現頻度')\n",
    "plt.title('単語の出現頻度順位と出現頻度の両対数グラフ')\n",
    "plt.grid(True, which=\"both\", ls=\"--\")\n",
    "plt.show()"
   ]
  }
 ],
 "metadata": {
  "language_info": {
   "name": "python"
  }
 },
 "nbformat": 4,
 "nbformat_minor": 2
}
