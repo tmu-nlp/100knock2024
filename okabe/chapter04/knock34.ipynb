{
 "cells": [
  {
   "cell_type": "code",
   "execution_count": null,
   "metadata": {},
   "outputs": [],
   "source": [
    "#名詞の連接（連続して出現する名詞）を最長一致で抽出せよ\n",
    "\n",
    "import knock30\n",
    "\n",
    "ct_noun = list()\n",
    "\n",
    "for line in knock30.sentence_list:\n",
    "    temp_noun = \"\"\n",
    "    cnt = 0\n",
    "    for morph in line:\n",
    "        if morph[\"pos\"] == \"名詞\":\n",
    "            temp_noun += morph[\"surface\"]\n",
    "            cnt += 1\n",
    "        else:\n",
    "            if cnt > 1:\n",
    "                ct_noun.append(temp_noun)\n",
    "            temp_noun = \"\"\n",
    "            cnt = 0   \n",
    "\n",
    "length = 0\n",
    "longest = list()\n",
    "for elm in ct_noun:\n",
    "    if len(elm) > length:\n",
    "        longest.append(elm)\n",
    "        length = len(elm)\n",
    "\n",
    "print(longest)"
   ]
  }
 ],
 "metadata": {
  "language_info": {
   "name": "python"
  }
 },
 "nbformat": 4,
 "nbformat_minor": 2
}
