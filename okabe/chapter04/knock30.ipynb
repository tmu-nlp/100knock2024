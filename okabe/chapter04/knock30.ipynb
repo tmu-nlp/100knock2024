{
 "cells": [
  {
   "cell_type": "code",
   "execution_count": null,
   "metadata": {},
   "outputs": [],
   "source": [
    "## 形態素解析結果（neko.txt.mecab）を読み込むプログラムを実装せよ．\n",
    "## ただし，各形態素は表層形（surface），基本形（base），品詞（pos），品詞細分類1（pos1）をキーとするマッピング型に格納し，\n",
    "## 1文を形態素（マッピング型）のリストとして表現せよ．\n",
    "## 第4章の残りの問題では，ここで作ったプログラムを活用せよ．\n",
    "\n",
    "import re\n",
    "import numpy as np\n",
    "\n",
    "with open('neko2.txt.mecab','r') as f:\n",
    "    neko_data = f.read()\n",
    "split_neko = neko_data.split(\"\\n\")\n",
    "\n",
    "sentence_list = list()\n",
    "dict_line = dict()\n",
    "sentence = list()\n",
    "\n",
    "for line in split_neko:\n",
    "    split_line = re.split('[\\t,]',line)\n",
    "    #print(split_line)\n",
    "    if len(split_line) == 1 and split_line[0] == \"\":\n",
    "        continue\n",
    "    if len(split_line) == 1 and split_line[0] == \"EOS\":\n",
    "        sentence_list.append(sentence)\n",
    "        sentence = list()\n",
    "        continue\n",
    "    #print(split_line[0],split_line[7],split_line[1],split_line[2])\n",
    "    dict_line[\"surface\"] = split_line[0]\n",
    "    dict_line[\"base\"] = split_line[7]\n",
    "    dict_line[\"pos\"] = split_line[1]\n",
    "    dict_line[\"pos1\"] = split_line[2]\n",
    "    sentence.append(dict_line)\n",
    "    dict_line = dict()\n",
    "\n",
    "#for line in sentence_list:\n",
    "    #print(line)"
   ]
  }
 ],
 "metadata": {
  "language_info": {
   "name": "python"
  }
 },
 "nbformat": 4,
 "nbformat_minor": 2
}
