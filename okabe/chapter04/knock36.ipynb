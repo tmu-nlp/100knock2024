{
 "cells": [
  {
   "cell_type": "code",
   "execution_count": null,
   "metadata": {},
   "outputs": [],
   "source": [
    "#出現頻度が高い10語とその出現頻度をグラフ（例えば棒グラフなど）で表示せよ．\n",
    "import knock30\n",
    "import matplotlib.pyplot as plt\n",
    "import japanize_matplotlib #日本語化matplotlib\n",
    "import seaborn as sns\n",
    "sns.set(font=\"IPAexGothic\")\n",
    "\n",
    "word_dict = dict()\n",
    "\n",
    "for line in knock30.sentence_list:\n",
    "    for morph in line:\n",
    "        if morph[\"pos\"] == \"記号\":\n",
    "            continue\n",
    "        base = str(morph[\"base\"])\n",
    "        if base in word_dict:\n",
    "            word_dict[base] += 1\n",
    "        else:\n",
    "            word_dict[base] = 1\n",
    "\n",
    "sort_word_list = sorted(word_dict.items(), key=lambda x: x[1], reverse=True)\n",
    "\n",
    "top_10 = sort_word_list[:10]\n",
    "\n",
    "words, frequencies = zip(*top_10)\n",
    "\n",
    "plt.bar(words, frequencies)\n",
    "plt.xlabel('語')\n",
    "plt.ylabel('頻度')\n",
    "plt.title('出現頻度上位10単語')\n",
    "plt.show()"
   ]
  }
 ],
 "metadata": {
  "language_info": {
   "name": "python"
  }
 },
 "nbformat": 4,
 "nbformat_minor": 2
}
