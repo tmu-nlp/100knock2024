{
 "cells": [
  {
   "cell_type": "code",
   "execution_count": null,
   "metadata": {},
   "outputs": [],
   "source": [
    "#2つの名詞が「の」で連結されている名詞句を抽出せよ\n",
    "\n",
    "import knock30\n",
    "\n",
    "nouns = list()\n",
    "\n",
    "for line in knock30.sentence_list:\n",
    "    for i in range(len(line)):\n",
    "        if line[i]['base'] == \"の\" and line[i]['pos'] == \"助詞\":\n",
    "            #print(line)\n",
    "            if i<len(line)-1:\n",
    "                if line[i-1]['pos'] == \"名詞\" and line[i+1]['pos'] == \"名詞\":\n",
    "                    nouns.append(str(line[i-1]['surface']+\"の\"+line[i+1]['surface']))\n",
    "\n",
    "print(nouns)"
   ]
  }
 ],
 "metadata": {
  "language_info": {
   "name": "python"
  }
 },
 "nbformat": 4,
 "nbformat_minor": 2
}
