{
 "cells": [
  {
   "cell_type": "code",
   "execution_count": null,
   "metadata": {},
   "outputs": [],
   "source": [
    "#「猫」とよく共起する（共起頻度が高い）10語とその出現頻度をグラフ（例えば棒グラフなど）で表示せよ．\n",
    "import knock30\n",
    "import matplotlib.pyplot as plt\n",
    "import japanize_matplotlib #日本語化matplotlib\n",
    "import seaborn as sns\n",
    "from collections import defaultdict\n",
    "sns.set(font=\"IPAexGothic\")\n",
    "\n",
    "word_dict = defaultdict(int)\n",
    "\n",
    "for line in knock30.sentence_list:\n",
    "    if any(morph[\"base\"] == \"猫\" for morph in line):\n",
    "        for morph in line:\n",
    "            if morph[\"base\"] != \"猫\" and morph[\"pos\"] != \"記号\":\n",
    "                word_dict[morph[\"base\"]] += 1\n",
    "\n",
    "sort_word_list = sorted(word_dict.items(), key=lambda x: x[1], reverse=True)\n",
    "top_10 = sort_word_list[:10]\n",
    "\n",
    "words, frequencies = zip(*top_10)\n",
    "\n",
    "plt.bar(words, frequencies)\n",
    "plt.xlabel('語')\n",
    "plt.ylabel('頻度')\n",
    "plt.title('「猫」との共起頻度が高い10単語')\n",
    "plt.show()"
   ]
  }
 ],
 "metadata": {
  "language_info": {
   "name": "python"
  }
 },
 "nbformat": 4,
 "nbformat_minor": 2
}
