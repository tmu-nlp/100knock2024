{
 "cells": [
  {
   "cell_type": "code",
   "execution_count": null,
   "metadata": {},
   "outputs": [],
   "source": [
    "## 単語の出現頻度のヒストグラムを描け．ただし，横軸は出現頻度を表し，1から単語の出現頻度の最大値までの線形目盛とする．\n",
    "## 縦軸はx軸で示される出現頻度となった単語の異なり数（種類数）である\n",
    "import knock30\n",
    "import matplotlib.pyplot as plt\n",
    "import japanize_matplotlib #日本語化matplotlib\n",
    "import seaborn as sns\n",
    "sns.set(font=\"IPAexGothic\")\n",
    "\n",
    "word_dict = dict()\n",
    "\n",
    "for line in knock30.sentence_list:\n",
    "    for morph in line:\n",
    "        if morph[\"pos\"] == \"記号\":\n",
    "            continue\n",
    "        base = str(morph[\"base\"])\n",
    "        if base in word_dict:\n",
    "            word_dict[base] += 1\n",
    "        else:\n",
    "            word_dict[base] = 1\n",
    "\n",
    "sort_word_dict = dict(sorted(word_dict.items(), key=lambda x: x[1], reverse=True))\n",
    "\n",
    "frequencies = list(sort_word_dict.values())\n",
    "\n",
    "plt.hist(frequencies, bins=range(1, max(frequencies) + 2), edgecolor='black', align='left')\n",
    "plt.xlabel('出現頻度')\n",
    "plt.ylabel('単語の種類数')\n",
    "plt.title('単語の出現頻度のヒストグラム')\n",
    "plt.show()"
   ]
  }
 ],
 "metadata": {
  "language_info": {
   "name": "python"
  }
 },
 "nbformat": 4,
 "nbformat_minor": 2
}
