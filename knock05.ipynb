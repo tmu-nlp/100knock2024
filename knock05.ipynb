{
 "cells": [
  {
   "cell_type": "code",
   "execution_count": null,
   "metadata": {},
   "outputs": [],
   "source": [
    "def N_gram(n,string):\n",
    "    word = string.split(\" \")\n",
    "    char = string.replace(\" \",\"\")\n",
    "    word_list = []\n",
    "    char_list = []\n",
    "    for w in range(len(word)):\n",
    "        word_list.append(word[w:w+n])\n",
    "    for c in range(len(char)):\n",
    "        char_list.append(char[c:c+n])\n",
    "    return word_list , char_list\n",
    "word_bigram,char_bigram = N_gram(2,'I am an NLPer')\n",
    "print('単語bi-gram:',word_bigram)\n",
    "print('文字bi-gram:',char_bigram)"
   ]
  }
 ],
 "metadata": {
  "interpreter": {
   "hash": "9ff8ea9f5bf98b88aeb07d5f996eec83cf9eb954a40999d60006e9e6a2d6768a"
  },
  "kernelspec": {
   "display_name": "Python 3.9.12",
   "language": "python",
   "name": "python3"
  },
  "language_info": {
   "name": "python",
   "version": "3.9.12"
  },
  "orig_nbformat": 4
 },
 "nbformat": 4,
 "nbformat_minor": 2
}
