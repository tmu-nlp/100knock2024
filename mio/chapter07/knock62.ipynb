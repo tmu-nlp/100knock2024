{
  "nbformat": 4,
  "nbformat_minor": 0,
  "metadata": {
    "colab": {
      "provenance": []
    },
    "kernelspec": {
      "name": "python3",
      "display_name": "Python 3"
    },
    "language_info": {
      "name": "python"
    }
  },
  "cells": [
    {
      "cell_type": "code",
      "source": [
        "\"\"\"\n",
        "62. 類似度の高い単語10件\n",
        "“United States”とコサイン類似度が高い10語と，その類似度を出力せよ．\n",
        "\"\"\"\n",
        "from gensim.models import KeyedVectors\n",
        "import pickle\n",
        "\n",
        "# pickleファイルからWord2Vecモデルをロード\n",
        "with open(\"word2vec.pkl\", \"rb\") as f:\n",
        "    model = pickle.load(f)\n",
        "\n",
        "# \"United_States\"に最も類似した単語を表示\n",
        "print(model.most_similar(\"United_States\"))"
      ],
      "metadata": {
        "id": "jFRuh63y1Tg2"
      },
      "execution_count": null,
      "outputs": []
    }
  ]
}