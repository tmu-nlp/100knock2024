{
  "nbformat": 4,
  "nbformat_minor": 0,
  "metadata": {
    "colab": {
      "provenance": []
    },
    "kernelspec": {
      "name": "python3",
      "display_name": "Python 3"
    },
    "language_info": {
      "name": "python"
    }
  },
  "cells": [
    {
      "cell_type": "code",
      "source": [
        "\"\"\"\n",
        "68. Ward法によるクラスタリングPermalink\n",
        "国名に関する単語ベクトルに対し，Ward法による階層型クラスタリングを実行せよ．さらに，クラスタリング結果をデンドログラムとして可視化せよ．\n",
        "\"\"\"\n",
        "\n",
        "import matplotlib.pyplot as plt\n",
        "from scipy.cluster.hierarchy import linkage, dendrogram, fcluster\n",
        "from knock67 import *\n",
        "\n",
        "# 階層的クラスタリングの結果を計算\n",
        "linkage_result = linkage(country_vec, method='ward', metric='euclidean')\n",
        "\n",
        "# 図の設定\n",
        "plt.figure(num=None, figsize=(16, 9), dpi=200, facecolor='w', edgecolor='k')\n",
        "\n",
        "# デンドログラムを描画\n",
        "dendrogram(linkage_result, labels=country_list_in)\n",
        "\n",
        "# 画像をファイルに保存\n",
        "plt.savefig(\"68.png\")\n"
      ],
      "metadata": {
        "id": "U0v6_riJ_BXR"
      },
      "execution_count": null,
      "outputs": []
    },
    {
      "cell_type": "code",
      "source": [],
      "metadata": {
        "id": "YoVkCOz8Ff80"
      },
      "execution_count": null,
      "outputs": []
    }
  ]
}