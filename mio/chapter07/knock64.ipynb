{
  "nbformat": 4,
  "nbformat_minor": 0,
  "metadata": {
    "colab": {
      "provenance": []
    },
    "kernelspec": {
      "name": "python3",
      "display_name": "Python 3"
    },
    "language_info": {
      "name": "python"
    }
  },
  "cells": [
    {
      "cell_type": "code",
      "source": [
        "\"\"\"\n",
        "64. アナロジーデータでの実験Permalink\n",
        "単語アナロジーの評価データをダウンロードし，\n",
        "vec(2列目の単語) - vec(1列目の単語) + vec(3列目の単語)を計算し，\n",
        "そのベクトルと類似度が最も高い単語と，その類似度を求めよ．\n",
        "求めた単語と類似度は，各事例の末尾に追記せよ．\n",
        "\"\"\"\n",
        "\n",
        "from gensim.models import KeyedVectors\n",
        "import pickle\n",
        "\n",
        "# pickleファイルからWord2Vecモデルをロード\n",
        "with open(\"word2vec.pkl\", \"rb\") as f:\n",
        "    model = pickle.load(f)\n",
        "\n",
        "# アナロジーの質問文を含むファイルを読み込み、結果を64.txtに書き出す\n",
        "with open(\"64.txt\", \"w\") as o_file:\n",
        "    with open(\"questions-words.txt\", \"r\") as t_file:\n",
        "        for line in t_file:\n",
        "            words = line.strip().split(\" \")\n",
        "            if len(words) != 4:\n",
        "                continue  # 単語が4つでない行はスキップ\n",
        "            key, value = model.most_similar(\n",
        "                positive=[words[1], words[2]], negative=[words[0]])[0]\n",
        "            o_file.write(\n",
        "                f\"{words[0]} {words[1]} {words[2]} {words[3]} {key} {value}\\n\")\n",
        "\n",
        "# 8869行目までが意味的アナロジー\n",
        "# 8870行目以降が文法的アナロジー\n",
        "with open(\"64.txt\", \"r\") as f:\n",
        "    with open(\"64-semantic.txt\", 'w') as o_file1:\n",
        "        with open(\"64-syntactic.txt\", 'w') as o_file2:\n",
        "            for i, line in enumerate(f):\n",
        "                if i < 8869:\n",
        "                    o_file1.write(line)  # 意味的アナロジーを64-semantic.txtに書き出し\n",
        "                else:\n",
        "                    o_file2.write(line)  # 文法的アナロジーを64-syntactic.txtに書き出し\n"
      ],
      "metadata": {
        "id": "b1K8O5Q75dyR"
      },
      "execution_count": null,
      "outputs": []
    }
  ]
}