{
  "nbformat": 4,
  "nbformat_minor": 0,
  "metadata": {
    "colab": {
      "provenance": []
    },
    "kernelspec": {
      "name": "python3",
      "display_name": "Python 3"
    },
    "language_info": {
      "name": "python"
    }
  },
  "cells": [
    {
      "cell_type": "code",
      "source": [
        "\"\"\"\n",
        "69. t-SNEによる可視化\n",
        "ベクトル空間上の国名に関する単語ベクトルをt-SNEで可視化せよ\n",
        "\"\"\"\n",
        "import bhtsne\n",
        "from knock67 import *\n",
        "import matplotlib.pyplot as plt\n",
        "import numpy as np\n",
        "\n",
        "# 国のベクトルをt-SNEで2次元に圧縮\n",
        "emb = bhtsne.tsne(np.array(country_vec).astype(\n",
        "    np.float64), dimensions=2, rand_seed=20010101)\n",
        "\n",
        "# 図の設定\n",
        "plt.figure(figsize=(10, 10))\n",
        "\n",
        "# t-SNEの結果を散布図で表示\n",
        "plt.scatter(np.array(emb[:, 0]), np.array(emb[:, 1]))\n",
        "\n",
        "# 各点に国名を表示\n",
        "for (x, y), name in zip(emb, country_list_in):\n",
        "    plt.annotate(name, (x, y))\n",
        "\n",
        "# 画像をファイルに保存\n",
        "plt.savefig(\"69.png\")\n"
      ],
      "metadata": {
        "id": "i7jP7GpP_XAV"
      },
      "execution_count": null,
      "outputs": []
    }
  ]
}