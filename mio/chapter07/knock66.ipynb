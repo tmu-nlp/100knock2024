{
  "nbformat": 4,
  "nbformat_minor": 0,
  "metadata": {
    "colab": {
      "provenance": []
    },
    "kernelspec": {
      "name": "python3",
      "display_name": "Python 3"
    },
    "language_info": {
      "name": "python"
    }
  },
  "cells": [
    {
      "cell_type": "code",
      "source": [
        "\"\"\"\n",
        "66. WordSimilarity-353での評価\n",
        "The WordSimilarity-353 Test Collectionの評価データをダウンロードし，\n",
        "単語ベクトルにより計算される類似度のランキングと，人間の類似度判定のランキングの間のスピアマン相関係数を計算せよ．\n",
        "\"\"\"\n",
        "import pickle\n",
        "from scipy.stats import spearmanr\n",
        "\n",
        "# pickleファイルからWord2Vecモデルをロード\n",
        "with open(\"word2vec.pkl\", \"rb\") as f:\n",
        "    model = pickle.load(f)\n",
        "\n",
        "word1 = []\n",
        "word2 = []\n",
        "human_rank = []\n",
        "model_rank = []\n",
        "\n",
        "# combined.csvファイルから単語のペアと評価値を読み込む\n",
        "with open(\"combined.csv\", \"r\") as f:\n",
        "    next(f)  # ヘッダー行をスキップ\n",
        "    for line in f:\n",
        "        line_list = line.strip().split(\",\")\n",
        "        word1.append(line_list[0])\n",
        "        word2.append(line_list[1])\n",
        "        human_rank.append(float(line_list[2]))  # 人間の評価値をリストに追加\n",
        "        model_rank.append(model.similarity(line_list[0], line_list[1]))  # モデルの評価値をリストに追加\n",
        "\n",
        "# スピアマンの順位相関係数を計算\n",
        "correlation, pvalue = spearmanr(human_rank, model_rank)\n",
        "print(correlation)\n",
        "\n",
        "\"\"\"\n",
        "0.6849564489532377\n",
        "\"\"\"\n"
      ],
      "metadata": {
        "id": "IRO3POls8BeP"
      },
      "execution_count": null,
      "outputs": []
    }
  ]
}