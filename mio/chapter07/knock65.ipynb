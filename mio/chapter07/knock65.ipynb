{
  "nbformat": 4,
  "nbformat_minor": 0,
  "metadata": {
    "colab": {
      "provenance": []
    },
    "kernelspec": {
      "name": "python3",
      "display_name": "Python 3"
    },
    "language_info": {
      "name": "python"
    }
  },
  "cells": [
    {
      "cell_type": "code",
      "source": [
        "\"\"\"\n",
        "65. アナロジータスクでの正解率\n",
        "64の実行結果を用い，\n",
        "意味的アナロジー（semantic analogy）と文法的アナロジー（syntactic analogy）の正解率を測定せよ．\n",
        "\"\"\"\n",
        "\n",
        "# 意味的アナロジーの正答率を計算\n",
        "length1 = 0\n",
        "cnt1 = 0\n",
        "with open(\"64-semantic.txt\", \"r\") as t_file:\n",
        "    for line in t_file:\n",
        "        length1 += 1  # 行数をカウント\n",
        "        line_list = line.strip().split(\" \")\n",
        "        if line_list[3] == line_list[4]:  # 正解かどうかを判定\n",
        "            cnt1 += 1\n",
        "\n",
        "print(\"semantic analogy\")\n",
        "print(float(cnt1) / length1)  # 正答率を表示\n",
        "\n",
        "# 文法的アナロジーの正答率を計算\n",
        "length2 = 0\n",
        "cnt2 = 0\n",
        "with open(\"64-syntactic.txt\", \"r\") as t_file:\n",
        "    for line in t_file:\n",
        "        length2 += 1  # 行数をカウント\n",
        "        line_list = line.strip().split(\" \")\n",
        "        if line_list[3] == line_list[4]:  # 正解かどうかを判定\n",
        "            cnt2 += 1\n",
        "\n",
        "print(\"syntactic analogy\")\n",
        "print(float(cnt2) / length2)  # 正答率を表示"
      ],
      "metadata": {
        "id": "pFwdYIlU5pZ4"
      },
      "execution_count": null,
      "outputs": []
    }
  ]
}