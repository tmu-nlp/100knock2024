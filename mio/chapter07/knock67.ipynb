{
  "nbformat": 4,
  "nbformat_minor": 0,
  "metadata": {
    "colab": {
      "provenance": []
    },
    "kernelspec": {
      "name": "python3",
      "display_name": "Python 3"
    },
    "language_info": {
      "name": "python"
    }
  },
  "cells": [
    {
      "cell_type": "code",
      "source": [
        "\"\"\"\n",
        "67. k-meansクラスタリング\n",
        "国名に関する単語ベクトルを抽出し，k-meansクラスタリングをクラスタ数k=5として実行せよ．\n",
        "\"\"\"\n",
        "from gensim.models import KeyedVectors\n",
        "from collections import defaultdict\n",
        "from sklearn.cluster import KMeans\n",
        "import re\n",
        "import pickle\n",
        "import numpy as np\n",
        "\n",
        "# 国名に関する単語ベクトル\n",
        "# http://www.fao.org/countryprofiles/iso3list/en/\n",
        "\n",
        "with open(\"word2vec.pkl\", \"rb\") as f:\n",
        "    model = pickle.load(f)\n",
        "\n",
        "country_set = set()\n",
        "\n",
        "# country.csvから国名を読み込む\n",
        "with open(\"country.csv\", \"r\") as f:\n",
        "    next(f)\n",
        "    for line in f:\n",
        "        line_list = line.strip().split(\",\")\n",
        "        trg_word = line_list[1]\n",
        "        trg_word = re.sub(\"\\(.*\\)\", \"\", trg_word)  # 括弧内の文字を削除\n",
        "        trg_word = re.sub(\" \", \"_\", trg_word)  # 空白をアンダースコアに置換\n",
        "        trg_word = trg_word.rstrip(\"_\")  # 末尾のアンダースコアを削除\n",
        "        country_set.add(trg_word)\n",
        "\n",
        "country_list = list(country_set)\n",
        "country_list_in = []\n",
        "country_vec = []\n",
        "\n",
        "# モデルに含まれる国名のみを対象とする\n",
        "for country in country_list:\n",
        "    if country in model.index_to_key:\n",
        "        country_vec.append(model[country])\n",
        "        country_list_in.append(country)\n",
        "\n",
        "# KMeansクラスタリングを実行\n",
        "kmeans = KMeans(n_clusters=5, random_state=20010101)\n",
        "clus_num = kmeans.fit_predict(country_vec)\n",
        "\n",
        "if __name__ == \"__main__\":\n",
        "    for i in range(5):\n",
        "        cluster = np.where(kmeans.labels_ == i)[0]\n",
        "        print('cluster', i)\n",
        "        print(', '.join([country_list_in[k] for k in cluster]))\n"
      ],
      "metadata": {
        "id": "fwuELecC-x6v"
      },
      "execution_count": null,
      "outputs": []
    }
  ]
}