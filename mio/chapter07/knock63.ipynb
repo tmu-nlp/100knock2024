{
  "nbformat": 4,
  "nbformat_minor": 0,
  "metadata": {
    "colab": {
      "provenance": []
    },
    "kernelspec": {
      "name": "python3",
      "display_name": "Python 3"
    },
    "language_info": {
      "name": "python"
    }
  },
  "cells": [
    {
      "cell_type": "code",
      "source": [
        "\"\"\"\n",
        "63. 加法構成性によるアナロジー\n",
        "“Spain”の単語ベクトルから”Madrid”のベクトルを引き，”Athens”のベクトルを足したベクトルを計算し，\n",
        "そのベクトルと類似度の高い10語とその類似度を出力せよ．\n",
        "\"\"\"\n",
        "from gensim.models import KeyedVectors\n",
        "import pickle\n",
        "\n",
        "# pickleファイルからWord2Vecモデルをロード\n",
        "with open(\"word2vec.pkl\", \"rb\") as f:\n",
        "    model = pickle.load(f)\n",
        "\n",
        "# \"Spain\" + \"Athens\" - \"Madrid\"に最も類似した単語を表示\n",
        "print(model.most_similar(positive=[\"Spain\", \"Athens\"], negative=[\"Madrid\"]))"
      ],
      "metadata": {
        "id": "6Vc-BOsL4ilX"
      },
      "execution_count": null,
      "outputs": []
    }
  ]
}