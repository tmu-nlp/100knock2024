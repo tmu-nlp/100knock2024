{
  "nbformat": 4,
  "nbformat_minor": 0,
  "metadata": {
    "colab": {
      "provenance": []
    },
    "kernelspec": {
      "name": "python3",
      "display_name": "Python 3"
    },
    "language_info": {
      "name": "python"
    }
  },
  "cells": [
    {
      "cell_type": "code",
      "source": [
        "\"\"\"\n",
        "61. 単語の類似度Permalink\n",
        "“United States”と”U.S.”のコサイン類似度を計算せよ\n",
        "\"\"\"\n",
        "from gensim.models import KeyedVectors\n",
        "import pickle\n",
        "\n",
        "# pickleファイルからWord2Vecモデルをロード\n",
        "with open(\"word2vec.pkl\", \"rb\") as f:\n",
        "    model = pickle.load(f)\n",
        "\n",
        "# \"United_States\"と\"U.S.\"の類似度を計算\n",
        "sim = model.similarity(\"United_States\", \"U.S.\")\n",
        "print(sim)\n",
        "\n"
      ],
      "metadata": {
        "id": "cCSByC3Z1H3z"
      },
      "execution_count": null,
      "outputs": []
    }
  ]
}