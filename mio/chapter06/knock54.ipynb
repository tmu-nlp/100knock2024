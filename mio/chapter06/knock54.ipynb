{
  "nbformat": 4,
  "nbformat_minor": 0,
  "metadata": {
    "colab": {
      "provenance": []
    },
    "kernelspec": {
      "name": "python3",
      "display_name": "Python 3"
    },
    "language_info": {
      "name": "python"
    }
  },
  "cells": [
    {
      "cell_type": "code",
      "execution_count": null,
      "metadata": {
        "id": "PtKuA2WsUbzf"
      },
      "outputs": [],
      "source": [
        "#５４．\n",
        "from sklearn.metrics import accuracy_score\n",
        "from knock53 import *\n",
        "\n",
        "# 訓練データの正解率を計算\n",
        "train_acc = accuracy_score(train[\"CATEGORY\"], train_pred[1])\n",
        "\n",
        "# accuracy_score：テストデータの正解率を計算\n",
        "test_acc = accuracy_score(test[\"CATEGORY\"], test_pred[1])\n",
        "\n",
        "print(f\"訓練データの正解率:{train_acc:.3f}\")\n",
        "print(f\"テストデータの正解率:{test_acc:.3f}\")"
      ]
    }
  ]
}