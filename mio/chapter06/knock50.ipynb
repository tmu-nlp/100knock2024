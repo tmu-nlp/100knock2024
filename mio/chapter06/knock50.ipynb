{
  "cells": [
    {
      "cell_type": "code",
      "execution_count": null,
      "metadata": {
        "colab": {
          "base_uri": "https://localhost:8080/"
        },
        "id": "KHh7ADRoCLMF",
        "outputId": "c141e747-af75-459f-f773-a5aa5e8c8653"
      },
      "outputs": [
        {
          "name": "stdout",
          "output_type": "stream",
          "text": [
            "train_data\n",
            "CATEGORY\n",
            "b    4495\n",
            "e    4242\n",
            "t    1207\n",
            "m     728\n",
            "Name: count, dtype: int64\n",
            "valid_data\n",
            "CATEGORY\n",
            "b    586\n",
            "e    496\n",
            "t    168\n",
            "m     84\n",
            "Name: count, dtype: int64\n",
            "test_data\n",
            "CATEGORY\n",
            "b    546\n",
            "e    541\n",
            "t    149\n",
            "m     98\n",
            "Name: count, dtype: int64\n"
          ]
        }
      ],
      "source": [
        "#50. データの入手・整形\n",
        "#News Aggregator Data Setをダウンロードし、以下の要領で学習データ（train.txt），検証データ（valid.txt），評価データ（test.txt）を作成せよ．\n",
        "#ダウンロードしたzipファイルを解凍し，readme.txtの説明を読む．\n",
        "#情報源（publisher）が”Reuters”, “Huffington Post”, “Businessweek”, “Contactmusic.com”, “Daily Mail”の事例（記事）のみを抽出する．\n",
        "#抽出された事例をランダムに並び替える．\n",
        "#抽出された事例の80%を学習データ，残りの10%ずつを検証データと評価データに分割し，それぞれtrain.txt，valid.txt，test.txtというファイル名で保存する．ファイルには，１行に１事例を書き出すこととし，カテゴリ名と記事見出しのタブ区切り形式とせよ（このファイルは後に問題70で再利用する）．\n",
        "#学習データと評価データを作成したら，各カテゴリの事例数を確認せよ．\n",
        "\n",
        "import pandas as pd\n",
        "import numpy as np\n",
        "from sklearn.model_selection import train_test_split\n",
        "\n",
        "\"\"\"\n",
        "!wget https://archive.ics.uci.edu/ml/machine-learning-databases/00359/NewsAggregatorDataset.zip\n",
        "!unzip /content/NewsAggregatorDataset.zip\n",
        "\"\"\"\n",
        "#出版社のリストとカラムの名前を定義\n",
        "\n",
        "#抽出したい出版社のリスト\n",
        "extract_list = ['Reuters', 'Huffington Post',\n",
        "                'Businessweek', 'Contactmusic.com', 'Daily Mail']\n",
        "\n",
        "#CSVファイルのカラム名のリスト\n",
        "header_name = ['ID', 'TITLE', 'URL', 'PUBLISHER', 'CATEGORY', 'STORY', 'HOSTNAME', 'TIMESTAMP'\n",
        "               ]\n",
        "\n",
        "#元のデータを見るとheaderなし、分割はタブ、headerの名前はheader_nameリストの中身を割り当て\n",
        "df = pd.read_csv('newsCorpora.csv', header=None,sep='\\t', names=header_name)\n",
        "\n",
        "# dfの'PUBLISHER'の要素がextract_listの要素であるとき、'TITLE'と'CATEGORY'を抽出\n",
        "#pandas.Series.isin()メソッド：DataFrameの条件抽出/戻り値はbool型。引数に取得したい要素を指定\n",
        "#df[“列名”]：DataFrameの列を抽出\n",
        "df_extracted = df.loc[df['PUBLISHER'].isin(extract_list),['TITLE', 'CATEGORY']]\n",
        "\n",
        "#学習、検証、評価データに分割\n",
        "#sklearn.model_selection.train_test_split()関数：データセットの分割\n",
        "#                                               引数test_size：テスト用データの割合を指定\n",
        "#\n",
        "#                                               random_state：乱数のシードを指定するためのパラメータ/再現性のために使用\n",
        "#　　　　　　　　　　　　　　　　　　　　　　　　　　　　　　　　　　(shuffle=Trueというのもあるらしい)\n",
        "\n",
        "data_train, data_other = train_test_split(df_extracted, test_size=0.2, random_state=20010101)\n",
        "data_valid, data_test = train_test_split(data_other, test_size=0.5, random_state=20010101)\n",
        "\n",
        "\n",
        "data_train.to_csv(\"train.txt\", sep=\"\\t\", index=False)\n",
        "data_valid.to_csv(\"valid.txt\", sep=\"\\t\", index=False)\n",
        "data_test.to_csv(\"test.txt\", sep=\"\\t\", index=False)\n",
        "\n",
        "print(\"train_data\")\n",
        "print(data_train['CATEGORY'].value_counts())\n",
        "print(\"valid_data\")\n",
        "print(data_valid['CATEGORY'].value_counts())\n",
        "print(\"test_data\")\n",
        "print(data_test['CATEGORY'].value_counts())"
      ]
    },
    {
      "cell_type": "code",
      "execution_count": null,
      "metadata": {
        "colab": {
          "base_uri": "https://localhost:8080/"
        },
        "id": "07kxkROFxGC-",
        "outputId": "dc84d438-d74b-4293-ae50-eef5510c4ed7"
      },
      "outputs": [
        {
          "name": "stdout",
          "output_type": "stream",
          "text": [
            "    aa  aaliyah  abbvie  abc     about  about the  about to  above  abramson  \\\n",
            "0  0.0      0.0     0.0  0.0  0.274053        0.0       0.0    0.0       0.0   \n",
            "1  0.0      0.0     0.0  0.0  0.000000        0.0       0.0    0.0       0.0   \n",
            "2  0.0      0.0     0.0  0.0  0.000000        0.0       0.0    0.0       0.0   \n",
            "3  0.0      0.0     0.0  0.0  0.000000        0.0       0.0    0.0       0.0   \n",
            "4  0.0      0.0     0.0  0.0  0.000000        0.0       0.0    0.0       0.0   \n",
            "\n",
            "   abuse  ...  young  your  your mother   yr  yr high  yuan  zac  zac efron  \\\n",
            "0    0.0  ...    0.0   0.0          0.0  0.0      0.0   0.0  0.0        0.0   \n",
            "1    0.0  ...    0.0   0.0          0.0  0.0      0.0   0.0  0.0        0.0   \n",
            "2    0.0  ...    0.0   0.0          0.0  0.0      0.0   0.0  0.0        0.0   \n",
            "3    0.0  ...    0.0   0.0          0.0  0.0      0.0   0.0  0.0        0.0   \n",
            "4    0.0  ...    0.0   0.0          0.0  0.0      0.0   0.0  0.0        0.0   \n",
            "\n",
            "   zendaya  zone  \n",
            "0      0.0   0.0  \n",
            "1      0.0   0.0  \n",
            "2      0.0   0.0  \n",
            "3      0.0   0.0  \n",
            "4      0.0   0.0  \n",
            "\n",
            "[5 rows x 2737 columns]\n"
          ]
        }
      ],
      "source": [
        "import pandas as pd\n",
        "import string\n",
        "import re\n",
        "\n",
        "from sklearn.feature_extraction.text import CountVectorizer #BoW\n",
        "from sklearn.feature_extraction.text import TfidfVectorizer #tf-idf\n",
        "\n",
        "\n",
        "\n",
        "#作業２：前処理の関数化\n",
        "def prep(text):\n",
        "    text = re.sub(f\"[{string.punctuation}]\", \"\", text)\n",
        "    text = text.lower()  # 小文字化\n",
        "    text = re.sub(\"[0-9]+\", \"\", text)  # 1つ以上の数字を\"\"で置換\n",
        "    return text\n",
        "\n",
        "#作業３：テキストファイル読み込み\n",
        "header_name = ['TITLE', 'CATEGORY'] #元のデータにはヘッダーがないので新ヘッダー名をリストにまとめておく\n",
        "\n",
        "train = pd.read_csv(\"./train.txt\", header=None,\n",
        "                    sep='\\t', names=header_name)\n",
        "valid = pd.read_csv('./valid.txt', header=None,\n",
        "                    sep='\\t', names=header_name)\n",
        "test = pd.read_csv('./test.txt', header=None,\n",
        "                   sep='\\t', names=header_name)\n",
        "\n",
        "\n",
        "#作業４：データの結合,前処理関数適用\n",
        "df = pd.concat([train, valid, test], axis=0)    #concat([連結するDataFrame、Series(表1列) #カンマ区切り], axis=0 #縦方向)\n",
        "df.reset_index(drop=True, inplace=True) #drop=True：元のインデックス列を削除(DataFrameのサイズ削減)\n",
        "                                        #inplace=True:元のDataFrameを直接変更(デフォルトだと元のDataFrameを変更し、新しいDataFrameを返す）\n",
        "\n",
        "\n",
        "df[\"TITLE\"] = df[\"TITLE\"].apply(prep)#無名関数lambda：1つの引数 x を受け取り、prep()関数に渡す\n",
        "\n",
        "#作業５：データ分割、特徴量抽出\n",
        "train_valid_data = df[:len(train)+len(valid)] #トレーニングデータと検証データの合計行数までの行をtrain_valid_dに割り当て\n",
        "test_data = df[len(train)+len(valid):]\n",
        "\n",
        "vec_tfidf = TfidfVectorizer(min_df=10, ngram_range=(1, 2)) #min_df：dfの最小値を設定\n",
        "                                                           #n_gram_range：使用するn_gramを1~2gramに設定\n",
        "\n",
        "\n",
        "\n",
        "# fit_transform：fitの計算とtransformの計算を連続で実行\n",
        "# testのデータを用いずに統計量を獲得し，testはfitで得られた統計量に基づき正則化\n",
        "# testのデータを含めてfitすると，テストデータを用いて学習しているため不適\n",
        "\n",
        "#作業６：統計量の正規化、データフレームに変換、それぞれファイルに保存\n",
        "\n",
        "train_valid_f = vec_tfidf.fit_transform(train_valid_data[\"TITLE\"]) #fit_transform()：統計量を計算し、その統計量に基いて()の中身を正規化\n",
        "test_f = vec_tfidf.transform(test_data[\"TITLE\"]) # transform()：既に計算された統計量を再利用し、正規化\n",
        "\n",
        "train_valid_vec = pd.DataFrame(train_valid_f.toarray(), columns=vec_tfidf.get_feature_names_out()) #列：特徴量、行：タイトル\n",
        "test_vec = pd.DataFrame(test_f.toarray(), columns=vec_tfidf.get_feature_names_out())\n",
        "\n",
        "train_vec = train_valid_vec[:len(train)]\n",
        "valid_vec = train_valid_vec[len(train):len(train)+len(valid)]\n",
        "\n",
        "train_vec.to_csv(\"train.feature.txt\", sep=\"\\t\", index=False)\n",
        "valid_vec.to_csv(\"valid.feature.txt\", sep=\"\\t\", index=False)\n",
        "test_vec.to_csv(\"test.feature.txt\", sep=\"\\t\", index=False)\n",
        "\n",
        "#作業７：特徴ベクトルの表示\n",
        "print(train_vec.head())"
      ]
    },
    {
      "cell_type": "code",
      "execution_count": null,
      "metadata": {
        "id": "TiQ4C0lDED8C"
      },
      "outputs": [],
      "source": [
        "#52. 学習\n",
        "#51で構築した学習データを用いて，ロジスティック回帰モデルを学習せよ．\n",
        "\n",
        "import pandas as pd\n",
        "from sklearn.linear_model import LogisticRegression\n",
        "import pickle\n",
        "\n",
        "#ロジスティック回帰モデルのインスタンスを作成\n",
        "#random_state=20010101: モデルのランダムな動作を固定して再現性を確保\n",
        "#max_iter：最大の反復回数\n",
        "lr = LogisticRegression(random_state=20010101, max_iter=1000)\n",
        "\n",
        "#train_data = pd.read_table(\"train.txt\")\n",
        "#print(train_data.head())\n",
        "#トレーニングデータ読み込み\n",
        "\n",
        "X_train = pd.read_table(\"train.feature.txt\") #特徴量\n",
        "Y_train = pd.read_table(\"train.txt\")[\"CATEGORY\"] #カテゴリ情報\n",
        "\n",
        "#モデルのトレーニング\n",
        "lr.fit(X_train, Y_train)\n",
        "\n",
        "#モデルの保存(予測の際に使用)\n",
        "with open(\"logreg.pkl\", \"wb\") as f:\n",
        "    pickle.dump(lr, f)\n"
      ]
    },
    {
      "cell_type": "code",
      "execution_count": null,
      "metadata": {
        "id": "QZUcGPLgBptK"
      },
      "outputs": [],
      "source": []
    },
    {
      "cell_type": "code",
      "execution_count": null,
      "metadata": {
        "colab": {
          "base_uri": "https://localhost:8080/",
          "height": 90
        },
        "id": "Z12_QS6UiyOk",
        "outputId": "75ec3249-e099-4bf8-887f-2d9e34e1a5c4"
      },
      "outputs": [
        {
          "name": "stdout",
          "output_type": "stream",
          "text": [
            "[array([0.9732477 , 0.53978695, 0.98879519, ..., 0.78730501, 0.8779636 ,\n",
            "       0.37224871]), array(['e', 'e', 'e', ..., 'b', 'b', 'e'], dtype=object)]\n"
          ]
        },
        {
          "data": {
            "application/vnd.google.colaboratory.intrinsic+json": {
              "type": "string"
            },
            "text/plain": [
              "\"\\n[array([0.95639054, 0.95150829, 0.7172343 , ..., 0.41618661, 0.79069576,\\n       0.40435474]), array(['e', 'e', 't', ..., 'b', 'b', 'b'], dtype=object)]\\n\\n\""
            ]
          },
          "execution_count": 47,
          "metadata": {},
          "output_type": "execute_result"
        }
      ],
      "source": [
        "#53\n",
        "from sklearn.linear_model import LogisticRegression\n",
        "import pickle\n",
        "import numpy as np\n",
        "import pandas as pd\n",
        "\n",
        "#score_lr関数:与えられたロジスティック回帰モデルと入力データに対し、予測確率とクラスラベルの両方を返す\n",
        "def score_lr(lr, x):\n",
        "    return [np.max(lr.predict_proba(x), axis=1), lr.predict(x)]\n",
        "\n",
        "#logreg.pklから保存されたロジスティック回帰モデルを読み込む\n",
        "lr = pickle.load(open(\"logreg.pkl\", 'rb'))\n",
        "\n",
        "#train.feature.txtとtest.feature.txtからトレーニングデータとテストデータを読み込む\n",
        "X_train = pd.read_table(\"train.feature.txt\")\n",
        "X_test = pd.read_table(\"test.feature.txt\")\n",
        "\n",
        "#train.txtとtest.txtからトレーニングデータ、テストデータの正解ラベル読み込み\n",
        "train = pd.read_table(\"train.txt\")\n",
        "test = pd.read_table(\"test.txt\")\n",
        "\n",
        "#score_lr関数でトレーニングデータセットとテストデータセットのそれぞれに対して予測\n",
        "train_pred = score_lr(lr, X_train)\n",
        "test_pred = score_lr(lr, X_test)\n",
        "\n",
        "if __name__ == \"__main__\":\n",
        "    print(train_pred)\n",
        "\n",
        "\"\"\"\n",
        "[array([0.95639054, 0.95150829, 0.7172343 , ..., 0.41618661, 0.79069576,\n",
        "       0.40435474]), array(['e', 'e', 't', ..., 'b', 'b', 'b'], dtype=object)]\n",
        "\n",
        "\"\"\""
      ]
    },
    {
      "cell_type": "code",
      "execution_count": null,
      "metadata": {
        "colab": {
          "base_uri": "https://localhost:8080/"
        },
        "id": "90F0_tTPlCvy",
        "outputId": "46f23cfb-bb34-4a56-c10f-992cba4ed762"
      },
      "outputs": [
        {
          "name": "stdout",
          "output_type": "stream",
          "text": [
            "訓練データの正解率:0.920\n",
            "テストデータの正解率:0.870\n"
          ]
        }
      ],
      "source": [
        "#５４．\n",
        "from sklearn.metrics import accuracy_score\n",
        "#from knock53 import *\n",
        "\n",
        "# 訓練データの正解率を計算\n",
        "train_acc = accuracy_score(train[\"CATEGORY\"], train_pred[1])\n",
        "\n",
        "# accuracy_score：テストデータの正解率を計算\n",
        "test_acc = accuracy_score(test[\"CATEGORY\"], test_pred[1])\n",
        "\n",
        "print(f\"訓練データの正解率:{train_acc:.3f}\")\n",
        "print(f\"テストデータの正解率:{test_acc:.3f}\")"
      ]
    },
    {
      "cell_type": "code",
      "execution_count": null,
      "metadata": {
        "colab": {
          "base_uri": "https://localhost:8080/",
          "height": 610
        },
        "id": "BIJG-5orlrzq",
        "outputId": "53826073-d5be-46f0-f713-3072b2bc25ba"
      },
      "outputs": [
        {
          "name": "stdout",
          "output_type": "stream",
          "text": [
            "訓練データの混同行列\n",
            "[[4331  101   11   52]\n",
            " [  69 4161    3    9]\n",
            " [ 107  129  479   13]\n",
            " [ 214  143    6  844]]\n",
            "テストデータの混同行列\n",
            "[[506  26   3  11]\n",
            " [ 13 524   1   3]\n",
            " [ 23  27  46   2]\n",
            " [ 39  21   5  84]]\n"
          ]
        },
        {
          "data": {
            "image/png": "[encoded data removed]",
            "text/plain": [
              "<Figure size 640x480 with 2 Axes>"
            ]
          },
          "metadata": {},
          "output_type": "display_data"
        }
      ],
      "source": [
        "#５５\n",
        "from sklearn.metrics import confusion_matrix\n",
        "#from knock53 import *\n",
        "import seaborn as sns\n",
        "import matplotlib.pyplot as plt\n",
        "\n",
        "#混合行列を計算\n",
        "train_con = confusion_matrix(train[\"CATEGORY\"], train_pred[1])\n",
        "test_con = confusion_matrix(test[\"CATEGORY\"], test_pred[1])\n",
        "\n",
        "# 混同行列を表示\n",
        "print(\"訓練データの混同行列\")\n",
        "print(train_con)\n",
        "print(\"テストデータの混同行列\")\n",
        "print(test_con)\n",
        "\n",
        "# 訓練データの混同行列をヒートマップとして保存\n",
        "sns.heatmap(train_con, annot=True, cmap=\"Greens\")\n",
        "plt.savefig(\"train_confusion_matrix.png\")\n",
        "# 現在の図をクリア\n",
        "plt.clf()\n",
        "\n",
        "# テストデータの混同行列をヒートマップとして保存\n",
        "sns.heatmap(test_con, annot=True, cmap=\"Greens\")\n",
        "plt.savefig(\"test_confusion_matrix.png\")\n",
        "\n"
      ]
    },
    {
      "cell_type": "code",
      "execution_count": null,
      "metadata": {
        "colab": {
          "base_uri": "https://localhost:8080/"
        },
        "id": "vvCNp7sQzuv3",
        "outputId": "3d6477a7-301a-4f35-b5f2-3698c4a7b16c"
      },
      "outputs": [
        {
          "name": "stdout",
          "output_type": "stream",
          "text": [
            "              precision    recall  f1-score   support\n",
            "\n",
            "           b       0.87      0.93      0.90       546\n",
            "           e       0.88      0.97      0.92       541\n",
            "           m       0.84      0.47      0.60        98\n",
            "           t       0.84      0.56      0.67       149\n",
            "\n",
            "    accuracy                           0.87      1334\n",
            "   macro avg       0.86      0.73      0.77      1334\n",
            "weighted avg       0.87      0.87      0.86      1334\n",
            "\n"
          ]
        }
      ],
      "source": [
        "#56. 適合率，再現率，F1スコアの計測\n",
        "#52で学習したロジスティック回帰モデルの適合率，再現率，F1スコアを，評価データ上で計測せよ．\n",
        "#カテゴリごとに適合率，再現率，F1スコアを求め，カテゴリごとの性能をマイクロ平均（micro-average）とマクロ平均（macro-average）で統合せよ．\n",
        "\n",
        "from sklearn.metrics import *\n",
        "#from knock53 import *\n",
        "\n",
        "print(classification_report(test[\"CATEGORY\"], test_pred[1]))\n"
      ]
    },
    {
      "cell_type": "code",
      "execution_count": null,
      "metadata": {
        "colab": {
          "base_uri": "https://localhost:8080/"
        },
        "id": "ejcbtpTWmNi0",
        "outputId": "2ea0b240-5dd3-408b-99d8-322b2100f12b"
      },
      "outputs": [
        {
          "name": "stdout",
          "output_type": "stream",
          "text": [
            "b's weight\n",
            "    top10 : b\n",
            "1        bank\n",
            "2         fed\n",
            "3         ecb\n",
            "4      stocks\n",
            "5        euro\n",
            "6         oil\n",
            "7      profit\n",
            "8       china\n",
            "9     ukraine\n",
            "10  obamacare\n",
            "   worst10 : b\n",
            "1        video\n",
            "2          her\n",
            "3          and\n",
            "4        ebola\n",
            "5           tv\n",
            "6        aereo\n",
            "7     facebook\n",
            "8          the\n",
            "9    microsoft\n",
            "10       study\n",
            "e's weight\n",
            "     top10 : e\n",
            "1        chris\n",
            "2   kardashian\n",
            "3        movie\n",
            "4         film\n",
            "5          kim\n",
            "6          her\n",
            "7         paul\n",
            "8          she\n",
            "9      trailer\n",
            "10     beyonce\n",
            "   worst10 : e\n",
            "1           us\n",
            "2       update\n",
            "3       google\n",
            "4        study\n",
            "5         says\n",
            "6      billion\n",
            "7          ceo\n",
            "8        china\n",
            "9         data\n",
            "10          gm\n",
            "m's weight\n",
            "   top10 : m\n",
            "1      ebola\n",
            "2      study\n",
            "3     cancer\n",
            "4        fda\n",
            "5       mers\n",
            "6       drug\n",
            "7    doctors\n",
            "8        cdc\n",
            "9     health\n",
            "10     cases\n",
            "   worst10 : m\n",
            "1           gm\n",
            "2         deal\n",
            "3     facebook\n",
            "4      climate\n",
            "5          ceo\n",
            "6         bank\n",
            "7        sales\n",
            "8        apple\n",
            "9       google\n",
            "10          tv\n",
            "t's weight\n",
            "     top10 : t\n",
            "1       google\n",
            "2     facebook\n",
            "3        apple\n",
            "4    microsoft\n",
            "5      climate\n",
            "6   heartbleed\n",
            "7        tesla\n",
            "8      tmobile\n",
            "9      googles\n",
            "10        mars\n",
            "   worst10 : t\n",
            "1       shares\n",
            "2          fed\n",
            "3     american\n",
            "4          her\n",
            "5       cancer\n",
            "6         drug\n",
            "7       stocks\n",
            "8          but\n",
            "9          his\n",
            "10       movie\n"
          ]
        }
      ],
      "source": [
        "#57. 特徴量の重みの確認\n",
        "#52で学習したロジスティック回帰モデルの中で，重みの高い特徴量トップ10と，重みの低い特徴量トップ10を確認せよ．\n",
        "\n",
        "from sklearn.metrics import *\n",
        "#from knock53 import *\n",
        "import numpy as np\n",
        "\n",
        "feat = X_train.columns.values\n",
        "ind = [i for i in range(1, 11)]\n",
        "for c, coef in zip(lr.classes_, lr.coef_):\n",
        "    top10 = pd.DataFrame(feat[np.argsort(-coef)[:10]],\n",
        "                         columns=[f\"top10 : {c}\"], index=ind)\n",
        "    worst10 = pd.DataFrame(feat[np.argsort(coef)[:10]], columns=[\n",
        "                           f\"worst10 : {c}\"], index=ind)\n",
        "    print(f\"{c}'s weight\")\n",
        "    print(top10)\n",
        "    print(worst10)"
      ]
    },
    {
      "cell_type": "code",
      "execution_count": null,
      "metadata": {
        "colab": {
          "base_uri": "https://localhost:8080/",
          "height": 343
        },
        "id": "BKNOm78moMFv",
        "outputId": "9e103a1c-e39d-4780-a6b0-49fb56da2f03"
      },
      "outputs": [
        {
          "ename": "FileNotFoundError",
          "evalue": "[Errno 2] No such file or directory: 'logreg0.0001.pkl'",
          "output_type": "error",
          "traceback": [
            "\u001b[0;31m---------------------------------------------------------------------------\u001b[0m",
            "\u001b[0;31mFileNotFoundError\u001b[0m                         Traceback (most recent call last)",
            "\u001b[0;32m<ipython-input-60-bd6edb704f98>\u001b[0m in \u001b[0;36m<cell line: 34>\u001b[0;34m()\u001b[0m\n\u001b[1;32m     49\u001b[0m     \u001b[0;32mfor\u001b[0m \u001b[0mc\u001b[0m \u001b[0;32min\u001b[0m \u001b[0mregular\u001b[0m\u001b[0;34m:\u001b[0m\u001b[0;34m\u001b[0m\u001b[0;34m\u001b[0m\u001b[0m\n\u001b[1;32m     50\u001b[0m         \u001b[0;31m# model = learning_model(X_train, Y_train, c)\u001b[0m\u001b[0;34m\u001b[0m\u001b[0;34m\u001b[0m\u001b[0m\n\u001b[0;32m---> 51\u001b[0;31m         \u001b[0mmodel\u001b[0m \u001b[0;34m=\u001b[0m \u001b[0mopen_model\u001b[0m\u001b[0;34m(\u001b[0m\u001b[0mc\u001b[0m\u001b[0;34m)\u001b[0m\u001b[0;34m\u001b[0m\u001b[0;34m\u001b[0m\u001b[0m\n\u001b[0m\u001b[1;32m     52\u001b[0m         \u001b[0mtrain_pred\u001b[0m \u001b[0;34m=\u001b[0m \u001b[0mscore_lr\u001b[0m\u001b[0;34m(\u001b[0m\u001b[0mmodel\u001b[0m\u001b[0;34m,\u001b[0m \u001b[0mX_train\u001b[0m\u001b[0;34m)\u001b[0m\u001b[0;34m\u001b[0m\u001b[0;34m\u001b[0m\u001b[0m\n\u001b[1;32m     53\u001b[0m         \u001b[0mvalid_pred\u001b[0m \u001b[0;34m=\u001b[0m \u001b[0mscore_lr\u001b[0m\u001b[0;34m(\u001b[0m\u001b[0mmodel\u001b[0m\u001b[0;34m,\u001b[0m \u001b[0mX_valid\u001b[0m\u001b[0;34m)\u001b[0m\u001b[0;34m\u001b[0m\u001b[0;34m\u001b[0m\u001b[0m\n",
            "\u001b[0;32m<ipython-input-60-bd6edb704f98>\u001b[0m in \u001b[0;36mopen_model\u001b[0;34m(c)\u001b[0m\n\u001b[1;32m     27\u001b[0m \u001b[0;32mdef\u001b[0m \u001b[0mopen_model\u001b[0m\u001b[0;34m(\u001b[0m\u001b[0mc\u001b[0m\u001b[0;34m)\u001b[0m\u001b[0;34m:\u001b[0m\u001b[0;34m\u001b[0m\u001b[0;34m\u001b[0m\u001b[0m\n\u001b[1;32m     28\u001b[0m     \u001b[0mmodel_name\u001b[0m \u001b[0;34m=\u001b[0m \u001b[0;34m\"logreg\"\u001b[0m \u001b[0;34m+\u001b[0m \u001b[0mstr\u001b[0m\u001b[0;34m(\u001b[0m\u001b[0mc\u001b[0m\u001b[0;34m)\u001b[0m \u001b[0;34m+\u001b[0m \u001b[0;34m\".pkl\"\u001b[0m\u001b[0;34m\u001b[0m\u001b[0;34m\u001b[0m\u001b[0m\n\u001b[0;32m---> 29\u001b[0;31m     \u001b[0;32mwith\u001b[0m \u001b[0mopen\u001b[0m\u001b[0;34m(\u001b[0m\u001b[0mmodel_name\u001b[0m\u001b[0;34m,\u001b[0m \u001b[0;34m\"rb\"\u001b[0m\u001b[0;34m)\u001b[0m \u001b[0;32mas\u001b[0m \u001b[0mf\u001b[0m\u001b[0;34m:\u001b[0m\u001b[0;34m\u001b[0m\u001b[0;34m\u001b[0m\u001b[0m\n\u001b[0m\u001b[1;32m     30\u001b[0m         \u001b[0mmodel\u001b[0m \u001b[0;34m=\u001b[0m \u001b[0mpickle\u001b[0m\u001b[0;34m.\u001b[0m\u001b[0mload\u001b[0m\u001b[0;34m(\u001b[0m\u001b[0mf\u001b[0m\u001b[0;34m)\u001b[0m\u001b[0;34m\u001b[0m\u001b[0;34m\u001b[0m\u001b[0m\n\u001b[1;32m     31\u001b[0m     \u001b[0;32mreturn\u001b[0m \u001b[0mmodel\u001b[0m\u001b[0;34m\u001b[0m\u001b[0;34m\u001b[0m\u001b[0m\n",
            "\u001b[0;31mFileNotFoundError\u001b[0m: [Errno 2] No such file or directory: 'logreg0.0001.pkl'"
          ]
        }
      ],
      "source": [
        "#58. 正則化パラメータの変更\n",
        "#ロジスティック回帰モデルを学習するとき，正則化パラメータを調整することで，学習時の過学習（overfitting）の度合いを制御できる．\n",
        "#異なる正則化パラメータでロジスティック回帰モデルを学習し，学習データ，検証データ，および評価データ上の正解率を求めよ．\n",
        "#実験の結果は，正則化パラメータを横軸，正解率を縦軸としたグラフにまとめよ．\n",
        "\n",
        "import pandas as pd\n",
        "from sklearn.linear_model import LogisticRegression\n",
        "import pickle\n",
        "import numpy as np\n",
        "from sklearn.metrics import accuracy_score\n",
        "import matplotlib.pyplot as plt\n",
        "\n",
        "\n",
        "def score_lr(lr, x):\n",
        "    return [np.max(lr.predict_proba(x), axis=1), lr.predict(x)]\n",
        "\n",
        "\n",
        "def learning_model(x_train, y_train, c):\n",
        "    lr = LogisticRegression(random_state=20010101, max_iter=1000, C=c)\n",
        "    lr.fit(x_train, y_train)\n",
        "    model_name = \"logreg\" + str(c) + \".pkl\"\n",
        "    with open(model_name, \"wb\") as f:\n",
        "        pickle.dump(lr, f)\n",
        "    return lr\n",
        "\n",
        "\n",
        "def open_model(c):\n",
        "    model_name = \"logreg\" + str(c) + \".pkl\"\n",
        "    with open(model_name, \"rb\") as f:\n",
        "        model = pickle.load(f)\n",
        "    return model\n",
        "\n",
        "\n",
        "if __name__ == \"__main__\":\n",
        "    X_train = pd.read_table(\"train.feature.txt\")\n",
        "    X_valid = pd.read_table(\"valid.feature.txt\")\n",
        "    X_test = pd.read_table(\"test.feature.txt\")\n",
        "    Y_train = pd.read_table(\"train.txt\")[\"CATEGORY\"]\n",
        "    Y_valid = pd.read_table(\"valid.txt\")[\"CATEGORY\"]\n",
        "    Y_test = pd.read_table(\"test.txt\")[\"CATEGORY\"]\n",
        "    train = pd.read_table(\"train.txt\")\n",
        "    valid = pd.read_table(\"valid.txt\")\n",
        "    test = pd.read_table(\"test.txt\")\n",
        "    # 逆数が正則化項に対応するのに注意\n",
        "    regular = [0.0001, 0.001, 0.01, 0.1, 1, 10, 100]\n",
        "    train_acu = []\n",
        "    valid_acu = []\n",
        "    test_acu = []\n",
        "    for c in regular:\n",
        "        # model = learning_model(X_train, Y_train, c)\n",
        "        model = open_model(c)\n",
        "        train_pred = score_lr(model, X_train)\n",
        "        valid_pred = score_lr(model, X_valid)\n",
        "        test_pred = score_lr(model, X_test)\n",
        "        train_acu.append(accuracy_score(train[\"CATEGORY\"], train_pred[1]))\n",
        "        valid_acu.append(accuracy_score(valid[\"CATEGORY\"], valid_pred[1]))\n",
        "        test_acu.append(accuracy_score(test[\"CATEGORY\"], test_pred[1]))\n",
        "    plt.plot(regular, train_acu,  marker=\"o\", color=\"red\", label=\"train\")\n",
        "    plt.plot(regular, valid_acu,  marker=\"o\", color=\"blue\", label=\"valid\")\n",
        "    plt.plot(regular, test_acu,  marker=\"o\", color=\"green\", label=\"test\")\n",
        "    plt.xscale(\"log\")\n",
        "    plt.xlabel(\"C\")\n",
        "    plt.ylabel(\"Accuracy\")\n",
        "    plt.savefig(\"regular_parameter\")"
      ]
    },
    {
      "cell_type": "code",
      "execution_count": null,
      "metadata": {
        "colab": {
          "background_save": true
        },
        "id": "G417NdJIp5vK",
        "outputId": "25790c60-7a68-487f-9d35-150bc6d9febb"
      },
      "outputs": [
        {
          "name": "stdout",
          "output_type": "stream",
          "text": [
            "Best parameters : {'C': 5}\n",
            "Best cross-validation score : 0.886\n"
          ]
        },
        {
          "data": {
            "application/vnd.google.colaboratory.intrinsic+json": {
              "type": "string"
            },
            "text/plain": [
              "\"\\nBest parameters : {'C': 5}\\nBest cross-validation score : 0.882\\n\""
            ]
          },
          "execution_count": 61,
          "metadata": {},
          "output_type": "execute_result"
        }
      ],
      "source": [
        "import pandas as pd\n",
        "from sklearn.linear_model import LogisticRegression\n",
        "import pickle\n",
        "import numpy as np\n",
        "from sklearn.metrics import accuracy_score\n",
        "from sklearn.model_selection import GridSearchCV\n",
        "\n",
        "X_train = pd.read_table(\"train.feature.txt\")\n",
        "X_valid = pd.read_table(\"valid.feature.txt\")\n",
        "X_test = pd.read_table(\"test.feature.txt\")\n",
        "Y_train = pd.read_table(\"train.txt\")[\"CATEGORY\"]\n",
        "Y_valid = pd.read_table(\"valid.txt\")[\"CATEGORY\"]\n",
        "Y_test = pd.read_table(\"test.txt\")[\"CATEGORY\"]\n",
        "train = pd.read_table(\"train.txt\")\n",
        "valid = pd.read_table(\"valid.txt\")\n",
        "test = pd.read_table(\"test.txt\")\n",
        "param_grid = {'C': [i for i in range(1, 21)]}\n",
        "\n",
        "grid_search = GridSearchCV(LogisticRegression(\n",
        "    random_state=20010101, max_iter=1000), param_grid, cv=5)\n",
        "grid_search.fit(X_train, Y_train)\n",
        "\n",
        "print(\"Best parameters : {}\".format(grid_search.best_params_))\n",
        "print(\"Best cross-validation score : {:.3f}\".format(grid_search.best_score_))\n",
        "\n",
        "\"\"\"\n",
        "Best parameters : {'C': 5}\n",
        "Best cross-validation score : 0.882\n",
        "\"\"\""
      ]
    }
  ],
  "metadata": {
    "colab": {
      "provenance": []
    },
    "kernelspec": {
      "display_name": "Python 3",
      "name": "python3"
    },
    "language_info": {
      "name": "python"
    }
  },
  "nbformat": 4,
  "nbformat_minor": 0
}