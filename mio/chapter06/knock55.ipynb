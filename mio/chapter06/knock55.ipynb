{
  "nbformat": 4,
  "nbformat_minor": 0,
  "metadata": {
    "colab": {
      "provenance": []
    },
    "kernelspec": {
      "name": "python3",
      "display_name": "Python 3"
    },
    "language_info": {
      "name": "python"
    }
  },
  "cells": [
    {
      "cell_type": "code",
      "execution_count": null,
      "metadata": {
        "id": "kRTFXRPvoMjA"
      },
      "outputs": [],
      "source": [
        "#５５\n",
        "from sklearn.metrics import confusion_matrix\n",
        "from knock53 import *\n",
        "import seaborn as sns\n",
        "import matplotlib.pyplot as plt\n",
        "\n",
        "#混合行列を計算\n",
        "train_con = confusion_matrix(train[\"CATEGORY\"], train_pred[1])\n",
        "test_con = confusion_matrix(test[\"CATEGORY\"], test_pred[1])\n",
        "\n",
        "# 混同行列を表示\n",
        "print(\"訓練データの混同行列\")\n",
        "print(train_con)\n",
        "print(\"テストデータの混同行列\")\n",
        "print(test_con)\n",
        "\n",
        "# 訓練データの混同行列をヒートマップとして保存\n",
        "sns.heatmap(train_con, annot=True, cmap=\"Greens\")\n",
        "plt.savefig(\"train_confusion_matrix.png\")\n",
        "# 現在の図をクリア\n",
        "plt.clf()\n",
        "\n",
        "# テストデータの混同行列をヒートマップとして保存\n",
        "sns.heatmap(test_con, annot=True, cmap=\"Greens\")\n",
        "plt.savefig(\"test_confusion_matrix.png\")\n",
        "\n",
        "\"\"\"\n",
        "訓練データの混同行列\n",
        "[[4342  104    9   48]\n",
        " [  61 4165    2   11]\n",
        " [  99  123  481   11]\n",
        " [ 217  144    7  860]]\n",
        "テストデータの混同行列\n",
        "[[520  23   1  12]\n",
        " [ 19 506   1   2]\n",
        " [ 13  28  56   0]\n",
        " [ 40  33   2  80]]\n",
        "\"\"\""
      ]
    }
  ]
}