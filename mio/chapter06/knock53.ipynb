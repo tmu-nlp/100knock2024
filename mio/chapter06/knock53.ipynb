{
  "cells": [
    {
      "cell_type": "code",
      "execution_count": null,
      "metadata": {
        "id": "Z12_QS6UiyOk"
      },
      "outputs": [],
      "source": [
        "#53。\n",
        "from sklearn.linear_model import LogisticRegression\n",
        "import pickle\n",
        "import numpy as np\n",
        "import pandas as pd\n",
        "\n",
        "#score_lr関数:与えられたロジスティック回帰モデルと入力データに対し、予測確率とクラスラベルの両方を返す\n",
        "def score_lr(lr, x):\n",
        "    return [np.max(lr.predict_proba(x), axis=1), lr.predict(x)]\n",
        "\n",
        "#logreg.pklから保存されたロジスティック回帰モデルを読み込む\n",
        "lr = pickle.load(open(\"logreg.pkl\", 'rb'))\n",
        "\n",
        "#train.feature.txtとtest.feature.txtからトレーニングデータとテストデータを読み込ん\n",
        "X_train = pd.read_table(\"train.feature.txt\")\n",
        "X_test = pd.read_table(\"test.feature.txt\")\n",
        "\n",
        "#train.txtとtest.txtからトレーニングデータ、テストデータの正解ラベル読み込み\n",
        "train = pd.read_table(\"train.txt\")\n",
        "test = pd.read_table(\"test.txt\")\n",
        "\n",
        "#score_lr関数でトレーニングデータセットとテストデータセットのそれぞれに対して予測\n",
        "train_pred = score_lr(lr, X_train)\n",
        "test_pred = score_lr(lr, X_test)\n",
        "\n",
        "if __name__ == \"__main__\":\n",
        "    print(train_pred)\n",
        "\n",
        "\"\"\"\n",
        "※正解：\n",
        "[array([0.95639054, 0.95150829, 0.7172343 , ..., 0.41618661, 0.79069576,\n",
        "       0.40435474]), array(['e', 'e', 't', ..., 'b', 'b', 'b'], dtype=object)]\n",
        "\n",
        "\"\"\""
      ]
    }
  ],
  "metadata": {
    "colab": {
      "provenance": []
    },
    "kernelspec": {
      "display_name": "Python 3",
      "name": "python3"
    },
    "language_info": {
      "name": "python"
    }
  },
  "nbformat": 4,
  "nbformat_minor": 0
}
