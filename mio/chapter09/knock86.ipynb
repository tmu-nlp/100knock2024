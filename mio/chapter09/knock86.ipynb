{
  "nbformat": 4,
  "nbformat_minor": 0,
  "metadata": {
    "colab": {
      "provenance": []
    },
    "kernelspec": {
      "name": "python3",
      "display_name": "Python 3"
    },
    "language_info": {
      "name": "python"
    }
  },
  "cells": [
    {
      "cell_type": "code",
      "execution_count": null,
      "metadata": {
        "id": "PT2GOg9sXkkH"
      },
      "outputs": [],
      "source": [
        "\"\"\"\n",
        "86. 畳み込みニューラルネットワーク (CNN)Permalink\n",
        "ID番号で表現された単語列x=(x1,x2,…,xT)\n",
        "がある．ただし，T\n",
        "は単語列の長さ，xt∈RV\n",
        "は単語のID番号のone-hot表記である（V\n",
        "は単語の総数である）．畳み込みニューラルネットワーク（CNN: Convolutional Neural Network）を用い，単語列x\n",
        "からカテゴリy\n",
        "を予測するモデルを実装せよ．\n",
        "\n",
        "ただし，畳み込みニューラルネットワークの構成は以下の通りとする．\n",
        "\n",
        "単語埋め込みの次元数: dw\n",
        "畳み込みのフィルターのサイズ: 3 トークン\n",
        "畳み込みのストライド: 1 トークン\n",
        "畳み込みのパディング: あり\n",
        "畳み込み演算後の各時刻のベクトルの次元数: dh\n",
        "畳み込み演算後に最大値プーリング（max pooling）を適用し，入力文をdh\n",
        "次元の隠れベクトルで表現\n",
        "すなわち，時刻t\n",
        "の特徴ベクトルpt∈Rdh\n",
        "は次式で表される．\n",
        "\n",
        "pt=g(W(px)[emb(xt−1);emb(xt);emb(xt+1)]+b(p))\n",
        "ただし，W(px)∈Rdh×3dw,b(p)∈Rdh\n",
        "はCNNのパラメータ，g\n",
        "は活性化関数（例えばtanh\n",
        "やReLUなど），[a;b;c]\n",
        "はベクトルa,b,c\n",
        "の連結である．なお，行列W(px)\n",
        "の列数が3dw\n",
        "になるのは，3個のトークンの単語埋め込みを連結したものに対して，線形変換を行うためである．\n",
        "\n",
        "最大値プーリングでは，特徴ベクトルの次元毎に全時刻における最大値を取り，入力文書の特徴ベクトルc∈Rdh\n",
        "を求める．c[i]\n",
        "でベクトルc\n",
        "のi\n",
        "番目の次元の値を表すことにすると，最大値プーリングは次式で表される．\n",
        "\n",
        "c[i]=max1≤t≤Tpt[i]\n",
        "最後に，入力文書の特徴ベクトルc\n",
        "に行列W(yc)∈RL×dh\n",
        "とバイアス項b(y)∈RL\n",
        "による線形変換とソフトマックス関数を適用し，カテゴリy\n",
        "を予測する．\n",
        "\n",
        "y=softmax(W(yc)c+b(y))\n",
        "なお，この問題ではモデルの学習を行わず，ランダムに初期化された重み行列でy\n",
        "を計算するだけでよい．\n",
        "\"\"\"\n",
        "VOCAB_SIZE = len(set(w2id.id_dict.values())) + 1\n",
        "EMB_SIZE = 300\n",
        "PADDING_IDX = len(set(w2id.id_dict.values()))\n",
        "OUTPUT_SIZE = 4\n",
        "OUT_CHANNELS = 100\n",
        "KERNEL_HEIGHTS = 3\n",
        "STRIDE = 1\n",
        "PADDING = 1\n",
        "\n",
        "model = CNN(VOCAB_SIZE, EMB_SIZE, PADDING_IDX, OUTPUT_SIZE, OUT_CHANNELS, KERNEL_HEIGHTS, STRIDE, PADDING, emb_weights=weights)\n",
        "\n",
        "for i in range(10):\n",
        "  X = dataset_train[i]['inputs']\n",
        "  print(torch.softmax(model(X.unsqueeze(0)), dim=-1))\n",
        ""
      ]
    }
  ]
}