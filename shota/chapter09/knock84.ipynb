{
  "cells": [
    {
      "cell_type": "code",
      "execution_count": 1,
      "metadata": {
        "colab": {
          "base_uri": "https://localhost:8080/"
        },
        "id": "u3LQlfugXBRi",
        "outputId": "84595548-47bb-4b9b-c835-4285108a49d4"
      },
      "outputs": [
        {
          "name": "stdout",
          "output_type": "stream",
          "text": [
            "学習データ\n",
            "CATEGORY\n",
            "b    4502\n",
            "e    4223\n",
            "t    1219\n",
            "m     728\n",
            "Name: count, dtype: int64\n",
            "検証データ\n",
            "CATEGORY\n",
            "b    562\n",
            "e    528\n",
            "t    153\n",
            "m     91\n",
            "Name: count, dtype: int64\n",
            "評価データ\n",
            "CATEGORY\n",
            "b    563\n",
            "e    528\n",
            "t    152\n",
            "m     91\n",
            "Name: count, dtype: int64\n"
          ]
        }
      ],
      "source": [
        "#データの読み込み\n",
        "import pandas as pd\n",
        "train = pd.read_csv('/content/drive/MyDrive/Colab Notebooks/chapter09/train.txt', sep=\"\\t\")\n",
        "test = pd.read_csv('/content/drive/MyDrive/Colab Notebooks/chapter09/test.txt', sep=\"\\t\")\n",
        "valid = pd.read_csv('/content/drive/MyDrive/Colab Notebooks/chapter09/valid.txt', sep=\"\\t\")\n",
        "# データ数の確認\n",
        "print('学習データ')\n",
        "print(train['CATEGORY'].value_counts())\n",
        "print('検証データ')\n",
        "print(valid['CATEGORY'].value_counts())\n",
        "print('評価データ')\n",
        "print(test['CATEGORY'].value_counts())"
      ]
    },
    {
      "cell_type": "code",
      "execution_count": 2,
      "metadata": {
        "colab": {
          "base_uri": "https://localhost:8080/"
        },
        "id": "BaoFH2FcaZcJ",
        "outputId": "0fde9133-8b9c-4063-de4f-5691b0d2f595"
      },
      "outputs": [
        {
          "name": "stdout",
          "output_type": "stream",
          "text": [
            "[('to', 2151), ('...', 2031), ('in', 1415), ('as', 1027), ('on', 1025), ('UPDATE', 1000), ('-', 991), ('for', 969), ('of', 957), ('The', 859)]\n",
            "to 1\n",
            "... 2\n",
            "in 3\n",
            "as 4\n",
            "on 5\n",
            "UPDATE 6\n",
            "- 7\n",
            "for 8\n",
            "of 9\n",
            "The 10\n"
          ]
        }
      ],
      "source": [
        "# 単語の辞書を作成\n",
        "from collections import Counter\n",
        "words = []\n",
        "for text in train['TITLE']:                #訓練データから文章を1つずつ取り出す\n",
        "    for word in text.rstrip().split():     #文章を単語に分解\n",
        "        words.append(word)                 #単語をリストに追加\n",
        "c = Counter(words)                         #単語の出現回数を数える\n",
        "print(c.most_common(10))                   #頻度上位10単語\n",
        "word2id = {}                               #単語IDの辞書\n",
        "for i, cnt in enumerate(c.most_common()):  #頻度上位10単語分繰り返す\n",
        "    if cnt[1] > 1:                         #出現回数が1より大きい単語のみ\n",
        "        word2id[cnt[0]] = i + 1            #辞書に単語とIDを紐付ける\n",
        "for i, cnt in enumerate(word2id.items()):  #辞書の中身を確認\n",
        "    if i >= 10:                            #10単語だけ表示\n",
        "        break                              #for文を抜ける\n",
        "    print(cnt[0], cnt[1])                  #単語とIDを表示"
      ]
    },
    {
      "cell_type": "code",
      "execution_count": 3,
      "metadata": {
        "colab": {
          "base_uri": "https://localhost:8080/"
        },
        "id": "d-hhnRWjagOZ",
        "outputId": "98aa0663-d38b-4ef5-a39a-13aeb0c16783"
      },
      "outputs": [
        {
          "name": "stdout",
          "output_type": "stream",
          "text": [
            "Justin Bieber Under Investigation For Attempted Robbery At Dave & Buster's\n",
            "[66, 79, 733, 2094, 21, 4933, 6674, 35, 1514, 86, 0]\n"
          ]
        }
      ],
      "source": [
        "# 単語のID化\n",
        "def tokenizer(text):                                 #単語IDのリストを返す関数\n",
        "    words = text.rstrip().split()                    #単語に分解\n",
        "    return [word2id.get(word, 0) for word in words]  #単語のIDに変換\n",
        "\n",
        "sample = train.at[0, 'TITLE']                        #学習データの1つ目の文章\n",
        "print(sample)                                        #文章を表示\n",
        "print(tokenizer(sample))                             #文章を単語IDに変換"
      ]
    },
    {
      "cell_type": "code",
      "execution_count": 7,
      "metadata": {
        "colab": {
          "base_uri": "https://localhost:8080/"
        },
        "id": "HY0GKwcpKlfN",
        "outputId": "d9c9052d-cc5a-43aa-a769-d3b36140fefb"
      },
      "outputs": [
        {
          "name": "stdout",
          "output_type": "stream",
          "text": [
            "RNN(\n",
            "  (emb): Embedding(10328, 300, padding_idx=10327)\n",
            "  (rnn): LSTM(300, 50, batch_first=True)\n",
            "  (fc): Linear(in_features=50, out_features=4, bias=True)\n",
            ")\n"
          ]
        }
      ],
      "source": [
        "# RNNの作成\n",
        "# モデルの構築\n",
        "import random\n",
        "import torch\n",
        "from torch import nn\n",
        "import torch.utils.data as data\n",
        "from torchinfo import summary\n",
        "import numpy as np\n",
        "\n",
        "# 乱数のシードを設定\n",
        "# parserなどで指定\n",
        "seed = 1234\n",
        "\n",
        "random.seed(seed)                                   # Python標準ライブラリの乱数のシードを設定\n",
        "np.random.seed(seed)                                # Numpy乱数のシードを設定\n",
        "torch.manual_seed(seed)                             # PyTorch乱数のシードを設定\n",
        "torch.cuda.manual_seed(seed)                        # PyTorchのCUDA乱数のシードを設定\n",
        "torch.backends.cudnn.benchmark = False              # PyTorchのCUDNNのベンチマークを使用しない  (cudnn内の非決定的な処理の固定化)\n",
        "torch.backends.cudnn.deterministic = True           # PyTorchのCUDNNの定着を使用\n",
        "\n",
        "def seed_worker(worker_id):\n",
        "    worker_seed = torch.initial_seed() % 2**32      # 乱数生成のシードの初期値を設定\n",
        "    np.random.seed(worker_seed)                     # Numpy乱数のシードを設定\n",
        "    random.seed(worker_seed)                        # Python標準ライブラリの乱数のシードを設定\n",
        "\n",
        "g = torch.Generator()                               # PyTorch乱数のシードを設定\n",
        "g.manual_seed(seed)                                 # 乱数生成器にシードを設定\n",
        "\n",
        "class RNN(nn.Module):                                                                               # RNNクラスを定義\n",
        "    def __init__(self, vocab_size, emb_size, padding_idx, hidden_size, output_size, num_layers=1):  # コンストラクタ\n",
        "        super().__init__()                                                                          # 親クラスのコンストラクタを呼ぶ\n",
        "        self.emb = nn.Embedding(vocab_size, emb_size, padding_idx=padding_idx)                      # 単語埋め込み層\n",
        "        self.rnn = nn.LSTM(emb_size, hidden_size, batch_first=True)                                 # RNN層\n",
        "        self.fc = nn.Linear(hidden_size, output_size)                                               # 全結合層\n",
        "\n",
        "    def forward(self, x, h0=None):                                                                  # 順伝播処理\n",
        "        x = self.emb(x)                                                                             # 単語埋め込み\n",
        "        x, h = self.rnn(x, h0)                                                                      # RNN\n",
        "        x = x[:, -1, :]                                                                             # 最後のステップのみを抽出\n",
        "        logits = self.fc(x)                                                                         # 全結合層\n",
        "        return logits                                                                               # 出力\n",
        "\n",
        "# パラメータの設定\n",
        "VOCAB_SIZE = len(set(word2id.values())) + 2  # 辞書のID数 + unknown + パディングID\n",
        "EMB_SIZE = 300                               # 単語埋め込みベクトルのサイズ\n",
        "PADDING_IDX = len(set(word2id.values())) + 1 # パディングID\n",
        "OUTPUT_SIZE = 4                              # 出力サイズ\n",
        "HIDDEN_SIZE = 50                             # 隠れ層のサイズ\n",
        "NUM_LAYERS = 1                               # RNN層の数\n",
        "\n",
        "# モデルの定義\n",
        "model = RNN(VOCAB_SIZE, EMB_SIZE, PADDING_IDX, HIDDEN_SIZE, OUTPUT_SIZE, NUM_LAYERS)  # RNNクラスのインスタンスを作成\n",
        "print(model)                                                                          # モデルの構造を確認"
      ]
    },
    {
      "cell_type": "code",
      "execution_count": 8,
      "metadata": {
        "colab": {
          "base_uri": "https://localhost:8080/"
        },
        "id": "B-8OkqkTLAXg",
        "outputId": "2fdd0d13-48fe-47a0-b198-49cd2008d228"
      },
      "outputs": [
        {
          "name": "stdout",
          "output_type": "stream",
          "text": [
            "tensor([[  66,   79,  733, 2094,   21, 4933, 6674,   35, 1514,   86,    0]])\n",
            "torch.Size([1, 11])\n",
            "tensor([[0.2148, 0.2503, 0.2325, 0.3023]], grad_fn=<SoftmaxBackward0>)\n"
          ]
        }
      ],
      "source": [
        "x = torch.tensor([tokenizer(sample)], dtype=torch.int64)                           # 文章を単語IDに変換\n",
        "print(x)                                                                           # 文章をIDでを表示\n",
        "print(x.size())                                                                    # 文章のサイズを確認\n",
        "print(nn.Softmax(dim=-1)(model(x)))                                                # 出力を確認"
      ]
    },
    {
      "cell_type": "code",
      "execution_count": 9,
      "metadata": {
        "colab": {
          "base_uri": "https://localhost:8080/"
        },
        "id": "IhA2l-VwAsr_",
        "outputId": "dc3cf6e1-0e3f-4c84-9029-d326938ffdfa"
      },
      "outputs": [
        {
          "name": "stdout",
          "output_type": "stream",
          "text": [
            "torch.Size([10672])\n",
            "tensor([2, 0, 2,  ..., 0, 0, 0])\n"
          ]
        }
      ],
      "source": [
        "# ターゲットのテンソル化\n",
        "category_dict = {'b': 0, 't': 1, 'e':2, 'm':3}\n",
        "Y_train = torch.from_numpy(train['CATEGORY'].map(category_dict).values)\n",
        "Y_valid = torch.from_numpy(valid['CATEGORY'].map(category_dict).values)\n",
        "Y_test = torch.from_numpy(test['CATEGORY'].map(category_dict).values)\n",
        "print(Y_train.size())\n",
        "print(Y_train)"
      ]
    },
    {
      "cell_type": "code",
      "execution_count": 10,
      "metadata": {
        "colab": {
          "base_uri": "https://localhost:8080/"
        },
        "id": "qMifdMwaAvji",
        "outputId": "9ad03a20-0600-46e1-8bad-a954411534f2"
      },
      "outputs": [
        {
          "name": "stdout",
          "output_type": "stream",
          "text": [
            "torch.Size([11])\n",
            "tensor(2)\n",
            "torch.Size([11])\n",
            "tensor(3)\n",
            "torch.Size([13])\n",
            "tensor(2)\n"
          ]
        }
      ],
      "source": [
        "class NewsDataset(data.Dataset):\n",
        "    \"\"\"\n",
        "    newsのDatasetクラス\n",
        "\n",
        "    Attributes\n",
        "    ----------------------------\n",
        "    X : データフレーム\n",
        "        単語ベクトルの平均をまとめたテンソル\n",
        "    y : テンソル\n",
        "        カテゴリをラベル化したテンソル\n",
        "    phase : 'train' or 'val'\n",
        "        学習か訓練かを設定する\n",
        "    \"\"\"\n",
        "    def __init__(self, X, y, phase='train'):\n",
        "        self.X = X['TITLE']\n",
        "        self.y = y\n",
        "        self.phase = phase\n",
        "\n",
        "    def __len__(self):\n",
        "        \"\"\"全データサイズを返す\"\"\"\n",
        "        return len(self.y)\n",
        "\n",
        "    def __getitem__(self, idx):\n",
        "        \"\"\"idxに対応するテンソル形式のデータとラベルを取得\"\"\"\n",
        "        inputs = torch.tensor(tokenizer(self.X[idx]))\n",
        "        return inputs, self.y[idx]\n",
        "\n",
        "train_dataset = NewsDataset(train, Y_train, phase='train')\n",
        "valid_dataset = NewsDataset(valid, Y_valid, phase='val')\n",
        "test_dataset = NewsDataset(test, Y_test, phase='val')\n",
        "# 動作確認\n",
        "idx = 0\n",
        "print(train_dataset.__getitem__(idx)[0].size())\n",
        "print(train_dataset.__getitem__(idx)[1])\n",
        "print(valid_dataset.__getitem__(idx)[0].size())\n",
        "print(valid_dataset.__getitem__(idx)[1])\n",
        "print(test_dataset.__getitem__(idx)[0].size())\n",
        "print(test_dataset.__getitem__(idx)[1])"
      ]
    },
    {
      "cell_type": "code",
      "execution_count": 15,
      "metadata": {
        "colab": {
          "base_uri": "https://localhost:8080/"
        },
        "id": "xRSh5D22Axsg",
        "outputId": "c6d3dfb6-23ec-414f-c073-656b8a2255b8"
      },
      "outputs": [
        {
          "name": "stdout",
          "output_type": "stream",
          "text": [
            "tensor([[ 2649,  2300,  2301,  ..., 10327, 10327, 10327],\n",
            "        [10049,     0,     0,  ...,     2, 10327, 10327],\n",
            "        [ 1188,  1636,    10,  ..., 10327, 10327, 10327],\n",
            "        ...,\n",
            "        [  231,     0,   737,  ..., 10327, 10327, 10327],\n",
            "        [   10,     0,  1675,  ..., 10327, 10327, 10327],\n",
            "        [   10,  3239,    14,  ..., 10327, 10327, 10327]])\n",
            "tensor([2, 2, 2, 0, 2, 0, 0, 0, 2, 0, 1, 1, 3, 0, 1, 0, 0, 2, 1, 2, 2, 1, 0, 0,\n",
            "        0, 0, 0, 3, 0, 0, 2, 2, 0, 0, 0, 2, 2, 2, 2, 0, 0, 3, 0, 0, 0, 0, 2, 2,\n",
            "        2, 2, 3, 2, 2, 0, 0, 0, 0, 0, 2, 2, 0, 2, 2, 1])\n"
          ]
        }
      ],
      "source": [
        "def collate_fn(batch):\n",
        "    sequences = [x[0] for x in batch]\n",
        "    labels = torch.LongTensor([x[1] for x in batch])\n",
        "    x = torch.nn.utils.rnn.pad_sequence(sequences, batch_first=True, padding_value=PADDING_IDX)\n",
        "    return x, labels\n",
        "\n",
        "# DataLoaderを作成\n",
        "batch_size = 64\n",
        "\n",
        "train_dataloader = data.DataLoader(\n",
        "            train_dataset, batch_size=batch_size, shuffle=True, collate_fn=collate_fn, worker_init_fn=seed_worker, generator=g)\n",
        "valid_dataloader = data.DataLoader(\n",
        "            valid_dataset, batch_size=batch_size, shuffle=False, collate_fn=collate_fn, worker_init_fn=seed_worker, generator=g)\n",
        "test_dataloader = data.DataLoader(\n",
        "            test_dataset, batch_size=batch_size, shuffle=False, collate_fn=collate_fn, worker_init_fn=seed_worker, generator=g)\n",
        "\n",
        "dataloaders_dict = {'train': train_dataloader,\n",
        "                    'val': valid_dataloader,\n",
        "                    'test': test_dataloader,\n",
        "                   }\n",
        "\n",
        "# 動作確認\n",
        "batch_iter = iter(dataloaders_dict['train'])\n",
        "inputs, labels = next(batch_iter)\n",
        "print(inputs)\n",
        "print(labels)"
      ]
    },
    {
      "cell_type": "code",
      "execution_count": 25,
      "metadata": {
        "colab": {
          "base_uri": "https://localhost:8080/"
        },
        "id": "zLn_cZ71QGqD",
        "outputId": "58af7036-beb5-4163-b57a-ff5b7309143b"
      },
      "outputs": [
        {
          "name": "stdout",
          "output_type": "stream",
          "text": [
            "学習済みベクトル利用単語数: 8340 / 10328\n",
            "torch.Size([10328, 300])\n"
          ]
        }
      ],
      "source": [
        "from gensim.models import KeyedVectors\n",
        "\n",
        "# 学習済みモデルのロード\n",
        "file = '/content/drive/MyDrive/Colab Notebooks/chapter09/GoogleNews-vectors-negative300.bin.gz'\n",
        "model = KeyedVectors.load_word2vec_format(file, binary=True)\n",
        "\n",
        "# 学習済み単語ベクトルの取得\n",
        "VOCAB_SIZE = len(set(word2id.values())) + 2\n",
        "EMB_SIZE = 300\n",
        "weights = np.zeros((VOCAB_SIZE, EMB_SIZE))\n",
        "words_in_pretrained = 0\n",
        "for i, word in enumerate(word2id.keys()):\n",
        "    try:\n",
        "        weights[i] = model[word]\n",
        "        words_in_pretrained += 1\n",
        "    except KeyError:\n",
        "        weights[i] = np.random.normal(scale=0.1, size=(EMB_SIZE,))\n",
        "weights = torch.from_numpy(weights.astype((np.float32)))\n",
        "\n",
        "print(f'学習済みベクトル利用単語数: {words_in_pretrained} / {VOCAB_SIZE}')\n",
        "print(weights.size())"
      ]
    },
    {
      "cell_type": "code",
      "execution_count": 26,
      "metadata": {
        "id": "orK8m3eSRY11"
      },
      "outputs": [],
      "source": [
        "def calc_acc(net, dataloader):\n",
        "    device = torch.device(\"cuda:0\" if torch.cuda.is_available() else \"cpu\")\n",
        "    net.eval()\n",
        "    corrects = 0\n",
        "    with torch.no_grad():\n",
        "        for inputs, labels in dataloader:\n",
        "            inputs = inputs.to(device)\n",
        "            labels = labels.to(device)\n",
        "            outputs = net(inputs)\n",
        "            _, preds = torch.max(outputs, 1) # ラベルを予想\n",
        "            corrects += torch.sum(preds == labels.data).cpu()\n",
        "    return corrects / len(dataloader.dataset)"
      ]
    },
    {
      "cell_type": "code",
      "execution_count": 39,
      "metadata": {
        "colab": {
          "base_uri": "https://localhost:8080/"
        },
        "id": "T-hgB0t7Tf_h",
        "outputId": "681b31a1-29c8-4617-c7d7-3fc7a9f9b7bf"
      },
      "outputs": [
        {
          "name": "stdout",
          "output_type": "stream",
          "text": [
            "Tesla T4\n",
            "使用デバイス: cuda:0\n",
            "Epoch 1 / 30 (train) Loss: 1.1685, Acc: 0.4493, (val) Loss: 1.1368, Acc: 0.5120\n",
            "Epoch 2 / 30 (train) Loss: 1.1142, Acc: 0.5280, (val) Loss: 1.0087, Acc: 0.6192\n",
            "Epoch 3 / 30 (train) Loss: 1.0770, Acc: 0.5705, (val) Loss: 0.9874, Acc: 0.6484\n",
            "Epoch 4 / 30 (train) Loss: 0.9783, Acc: 0.6401, (val) Loss: 0.9085, Acc: 0.6687\n",
            "Epoch 5 / 30 (train) Loss: 0.8841, Acc: 0.6871, (val) Loss: 0.8497, Acc: 0.6889\n",
            "Epoch 6 / 30 (train) Loss: 0.8058, Acc: 0.7126, (val) Loss: 0.8051, Acc: 0.7084\n",
            "Epoch 7 / 30 (train) Loss: 0.7529, Acc: 0.7266, (val) Loss: 0.7338, Acc: 0.7391\n",
            "Epoch 8 / 30 (train) Loss: 0.6925, Acc: 0.7452, (val) Loss: 0.7215, Acc: 0.7384\n",
            "Epoch 9 / 30 (train) Loss: 0.6564, Acc: 0.7554, (val) Loss: 0.6848, Acc: 0.7474\n",
            "Epoch 10 / 30 (train) Loss: 0.6063, Acc: 0.7718, (val) Loss: 0.6608, Acc: 0.7609\n",
            "Epoch 11 / 30 (train) Loss: 0.5542, Acc: 0.7918, (val) Loss: 0.6810, Acc: 0.7496\n",
            "Epoch 12 / 30 (train) Loss: 0.5319, Acc: 0.7954, (val) Loss: 0.6518, Acc: 0.7691\n",
            "Epoch 13 / 30 (train) Loss: 0.5004, Acc: 0.8068, (val) Loss: 0.6389, Acc: 0.7766\n",
            "Epoch 14 / 30 (train) Loss: 0.7626, Acc: 0.7138, (val) Loss: 0.7123, Acc: 0.7541\n",
            "Epoch 15 / 30 (train) Loss: 0.7072, Acc: 0.7384, (val) Loss: 0.7082, Acc: 0.7406\n",
            "Epoch 16 / 30 (train) Loss: 0.6159, Acc: 0.7749, (val) Loss: 0.7513, Acc: 0.7159\n",
            "Epoch 17 / 30 (train) Loss: 0.5441, Acc: 0.8027, (val) Loss: 0.6702, Acc: 0.7639\n",
            "Epoch 18 / 30 (train) Loss: 0.4980, Acc: 0.8128, (val) Loss: 0.5893, Acc: 0.7864\n",
            "Epoch 19 / 30 (train) Loss: 0.4466, Acc: 0.8306, (val) Loss: 0.5831, Acc: 0.7826\n",
            "Epoch 20 / 30 (train) Loss: 0.4201, Acc: 0.8372, (val) Loss: 0.6084, Acc: 0.7916\n",
            "Epoch 21 / 30 (train) Loss: 0.3756, Acc: 0.8547, (val) Loss: 0.7557, Acc: 0.7526\n",
            "Epoch 22 / 30 (train) Loss: 0.3916, Acc: 0.8497, (val) Loss: 0.6546, Acc: 0.7841\n",
            "Epoch 23 / 30 (train) Loss: 0.3325, Acc: 0.8704, (val) Loss: 0.6418, Acc: 0.7871\n",
            "Epoch 24 / 30 (train) Loss: 0.2954, Acc: 0.8853, (val) Loss: 0.6113, Acc: 0.7916\n",
            "Epoch 25 / 30 (train) Loss: 0.2966, Acc: 0.8873, (val) Loss: 0.6927, Acc: 0.7826\n",
            "Epoch 26 / 30 (train) Loss: 0.2687, Acc: 0.8985, (val) Loss: 0.6695, Acc: 0.7969\n",
            "Epoch 27 / 30 (train) Loss: 0.2288, Acc: 0.9137, (val) Loss: 0.8073, Acc: 0.7954\n",
            "Epoch 28 / 30 (train) Loss: 0.2225, Acc: 0.9183, (val) Loss: 0.7828, Acc: 0.7939\n",
            "Epoch 29 / 30 (train) Loss: 0.2093, Acc: 0.9225, (val) Loss: 0.8157, Acc: 0.7924\n",
            "Epoch 30 / 30 (train) Loss: 0.1800, Acc: 0.9320, (val) Loss: 0.8063, Acc: 0.7841\n"
          ]
        }
      ],
      "source": [
        "# 学習を実行する\n",
        "# 学習用の関数を定義\n",
        "def train_model(net, dataloaders_dict, criterion, optimizer, num_epochs):\n",
        "\n",
        "    # 初期設定\n",
        "    # GPUが使えるか確認\n",
        "    device = torch.device(\"cuda:0\" if torch.cuda.is_available() else \"cpu\")\n",
        "    print(torch.cuda.get_device_name())\n",
        "    print(\"使用デバイス:\", device)\n",
        "\n",
        "    # ネットワークをgpuへ\n",
        "    net.to(device)\n",
        "\n",
        "    train_loss = []\n",
        "    train_acc = []\n",
        "    valid_loss = []\n",
        "    valid_acc = []\n",
        "\n",
        "    # epochのループ\n",
        "    for epoch in range(num_epochs):\n",
        "        # epochごとの学習と検証のループ\n",
        "        for phase in ['train', 'val']:\n",
        "            if phase == 'train':\n",
        "                net.train() # 訓練モード\n",
        "            else:\n",
        "                net.eval() # 検証モード\n",
        "\n",
        "            epoch_loss = 0.0 # epochの損失和\n",
        "            epoch_corrects = 0 # epochの正解数\n",
        "\n",
        "            # データローダーからミニバッチを取り出すループ\n",
        "            for inputs, labels in dataloaders_dict[phase]:\n",
        "                # GPUが使えるならGPUにおっくる\n",
        "                inputs = inputs.to(device)\n",
        "                labels = labels.to(device)\n",
        "                optimizer.zero_grad() # optimizerを初期化\n",
        "\n",
        "                # 順伝播計算(forward)\n",
        "                with torch.set_grad_enabled(phase == 'train'):\n",
        "                    outputs = net(inputs)\n",
        "                    loss = criterion(outputs, labels) # 損失を計算\n",
        "                    _, preds = torch.max(outputs, 1) # ラベルを予想\n",
        "\n",
        "                    # 訓練時は逆伝播\n",
        "                    if phase == 'train':\n",
        "                        loss.backward()\n",
        "                        optimizer.step()\n",
        "\n",
        "                    # イテレーション結果の計算\n",
        "                    # lossの合計を更新\n",
        "                    epoch_loss += loss.item() * inputs.size(0)\n",
        "                    # 正解数の合計を更新\n",
        "                    epoch_corrects += torch.sum(preds == labels.data)\n",
        "\n",
        "            # epochごとのlossと正解率の表示\n",
        "            epoch_loss = epoch_loss / len(dataloaders_dict[phase].dataset)\n",
        "            epoch_acc = epoch_corrects.double() / len(dataloaders_dict[phase].dataset)\n",
        "            if phase == 'train':\n",
        "                train_loss.append(epoch_loss)\n",
        "                train_acc.append(epoch_acc.cpu())\n",
        "            else:\n",
        "                valid_loss.append(epoch_loss)\n",
        "                valid_acc.append(epoch_acc.cpu())\n",
        "\n",
        "        print('Epoch {} / {} (train) Loss: {:.4f}, Acc: {:.4f}, (val) Loss: {:.4f}, Acc: {:.4f}'.format(epoch + 1, num_epochs, train_loss[-1], train_acc[-1], valid_loss[-1], valid_acc[-1]))\n",
        "    return train_loss, train_acc, valid_loss, valid_acc\n",
        "\n",
        "class RNN(nn.Module):\n",
        "    def __init__(self, vocab_size, emb_size, padding_idx, hidden_size, output_size, num_layers=1, emb_weights=None):\n",
        "        super().__init__()\n",
        "        if emb_weights != None:\n",
        "            self.emb = nn.Embedding.from_pretrained(emb_weights, padding_idx=padding_idx)\n",
        "        else:\n",
        "            self.emb = nn.Embedding(vocab_size, emb_size, padding_idx=padding_idx)\n",
        "        self.rnn = nn.LSTM(emb_size, hidden_size, num_layers, batch_first=True)\n",
        "        self.fc = nn.Linear(hidden_size, output_size)\n",
        "\n",
        "    def forward(self, x, h0=None):\n",
        "        x = self.emb(x)\n",
        "        x, h = self.rnn(x, h0)\n",
        "        x = x[:, -1, :]\n",
        "        logits = self.fc(x)\n",
        "        return logits\n",
        "\n",
        "# パラメータの設定\n",
        "VOCAB_SIZE = len(set(word2id.values())) + 2  # 辞書のID数 + unknown + パディングID\n",
        "EMB_SIZE = 300\n",
        "PADDING_IDX = len(set(word2id.values())) + 1\n",
        "OUTPUT_SIZE = 4\n",
        "HIDDEN_SIZE = 50\n",
        "NUM_LAYERS = 1\n",
        "\n",
        "# モデルの定義\n",
        "net = RNN(VOCAB_SIZE, EMB_SIZE, PADDING_IDX, HIDDEN_SIZE, OUTPUT_SIZE, NUM_LAYERS, weights)\n",
        "net.train()\n",
        "\n",
        "# 損失関数の定義\n",
        "criterion = nn.CrossEntropyLoss()\n",
        "\n",
        "# 最適化手法の定義\n",
        "optimizer = torch.optim.SGD(net.parameters(), lr=0.2, momentum=0.9)\n",
        "\n",
        "num_epochs = 30\n",
        "train_loss_weights, train_acc_weights, valid_loss_weights, valid_acc_weights = train_model(net,\n",
        "            dataloaders_dict, criterion, optimizer, num_epochs=num_epochs)"
      ]
    },
    {
      "cell_type": "code",
      "execution_count": 40,
      "metadata": {
        "colab": {
          "base_uri": "https://localhost:8080/",
          "height": 539
        },
        "id": "VtS1g3b8UcfR",
        "outputId": "7d02436b-6352-467e-a94c-ae30ad16507e"
      },
      "outputs": [
        {
          "data": {
            "image/png": "[encoded data removed]",
            "text/plain": [
              "<Figure size 1000x500 with 2 Axes>"
            ]
          },
          "metadata": {},
          "output_type": "display_data"
        },
        {
          "name": "stdout",
          "output_type": "stream",
          "text": [
            "学習データの正解率: 0.9239\n",
            "検証データの正解率: 0.7841\n",
            "テストデータの正解率: 0.7879\n"
          ]
        }
      ],
      "source": [
        "#グラフの描画\n",
        "import matplotlib.pyplot as plt\n",
        "fig, ax = plt.subplots(1,2, figsize=(10, 5))\n",
        "epochs = np.arange(num_epochs)\n",
        "ax[0].plot(epochs, train_loss_weights, label='train')\n",
        "ax[0].plot(epochs, valid_loss_weights, label='valid')\n",
        "ax[0].set_title('loss')\n",
        "ax[0].set_xlabel('epoch')\n",
        "ax[0].set_ylabel('loss')\n",
        "ax[1].plot(epochs, train_acc_weights, label='train')\n",
        "ax[1].plot(epochs, valid_acc_weights, label='valid')\n",
        "ax[1].set_title('acc')\n",
        "ax[1].set_xlabel('epoch')\n",
        "ax[1].set_ylabel('acc')\n",
        "ax[0].legend(loc='best')\n",
        "ax[1].legend(loc='best')\n",
        "plt.tight_layout()\n",
        "plt.savefig('fig84.png')\n",
        "plt.show()\n",
        "\n",
        "#正解率の計算\n",
        "acc_train = calc_acc(net, train_dataloader)\n",
        "acc_valid = calc_acc(net, valid_dataloader)\n",
        "acc_test = calc_acc(net, test_dataloader)\n",
        "print('学習データの正解率: {:.4f}'.format(acc_train))\n",
        "print('検証データの正解率: {:.4f}'.format(acc_valid))\n",
        "print('テストデータの正解率: {:.4f}'.format(acc_test))"
      ]
    },
    {
      "cell_type": "code",
      "execution_count": 14,
      "metadata": {
        "colab": {
          "base_uri": "https://localhost:8080/"
        },
        "id": "D3W_cKr_XQdh",
        "outputId": "d02215f7-db8b-4e71-be71-3221f510ef62"
      },
      "outputs": [
        {
          "name": "stdout",
          "output_type": "stream",
          "text": [
            "Drive already mounted at /content/drive; to attempt to forcibly remount, call drive.mount(\"/content/drive\", force_remount=True).\n"
          ]
        }
      ],
      "source": [
        "from google.colab import drive\n",
        "drive.mount('/content/drive')"
      ]
    },
    {
      "cell_type": "code",
      "execution_count": null,
      "metadata": {
        "id": "GJp3iMQQKqVL"
      },
      "outputs": [],
      "source": [
        "pip install torchinfo"
      ]
    }
  ],
  "metadata": {
    "accelerator": "GPU",
    "colab": {
      "gpuType": "T4",
      "provenance": []
    },
    "kernelspec": {
      "display_name": "Python 3",
      "name": "python3"
    },
    "language_info": {
      "name": "python"
    }
  },
  "nbformat": 4,
  "nbformat_minor": 0
}
