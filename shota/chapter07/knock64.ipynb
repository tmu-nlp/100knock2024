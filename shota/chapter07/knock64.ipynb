{
  "cells": [
    {
      "cell_type": "code",
      "execution_count": null,
      "metadata": {
        "id": "s1bgsabwZ6in"
      },
      "outputs": [],
      "source": [
        "#自然言語処理用のgensimパッケージ\n",
        "from gensim.models import KeyedVectors\n",
        "file = '/content/drive/MyDrive/Colab Notebooks/chapter07/GoogleNews-vectors-negative300.bin'\n",
        "#fileをword2vec形式で読み込み\n",
        "model = KeyedVectors.load_word2vec_format(file,binary = True)"
      ]
    },
    {
      "cell_type": "code",
      "execution_count": 5,
      "metadata": {
        "colab": {
          "base_uri": "https://localhost:8080/"
        },
        "id": "rRMzJe5K8xuW",
        "outputId": "5dece2cd-30ca-4728-827e-e5134c224961"
      },
      "outputs": [
        {
          "name": "stderr",
          "output_type": "stream",
          "text": [
            "100%|██████████| 19558/19558 [2:14:34<00:00,  2.42it/s]\n"
          ]
        }
      ],
      "source": [
        "from tqdm import tqdm\n",
        "file2 = '/content/drive/MyDrive/Colab Notebooks/chapter07/questions-words.txt'\n",
        "output = '/content/drive/MyDrive/Colab Notebooks/chapter07/questions-words_similarity.txt'\n",
        "\n",
        "# tqdm用のtotal数を先に調べておく\n",
        "total = 0\n",
        "with open(file2, 'r', encoding='utf-8') as f:\n",
        "    for row in f:\n",
        "        total += 1\n",
        "\n",
        "category = ''\n",
        "with open(file2, 'r', encoding='utf-8') as f1, \\\n",
        "        open(output, 'w', encoding='utf-8') as f2:\n",
        "    for row in tqdm(f1, total=total):                                                                           #tqdmで進捗を表示\n",
        "        if row.startswith(':'):                                                                                 #カテゴリーを表す行に関する処理\n",
        "            category = row.rstrip()[2:]                                                                         #カテゴリーを取得\n",
        "            continue\n",
        "        else:                                                                                                   #各カテゴリー内での処理\n",
        "            cols = row.rstrip().split()                                                                         #各行を空白区切りで行列に保存\n",
        "            word, similarity = model.most_similar(positive=[cols[1], cols[2]], negative=[cols[0]], topn=1)[0]   #2,3行目を加算し、1行目を減算し、最も類似度の大きい単語とその類似度を保存\n",
        "            f2.write('{}\\t{}\\t{}\\t{}\\n'.format(category, row.rstrip(), word, similarity))                       #ファイルへの書き込み"
      ]
    },
    {
      "cell_type": "code",
      "execution_count": null,
      "metadata": {
        "colab": {
          "base_uri": "https://localhost:8080/"
        },
        "id": "BnoeALWi81e0",
        "outputId": "667b7c73-b0d8-40d6-85d3-e8193074461b"
      },
      "outputs": [
        {
          "name": "stdout",
          "output_type": "stream",
          "text": [
            "Drive already mounted at /content/drive; to attempt to forcibly remount, call drive.mount(\"/content/drive\", force_remount=True).\n"
          ]
        }
      ],
      "source": [
        "from google.colab import drive\n",
        "drive.mount('/content/drive')"
      ]
    }
  ],
  "metadata": {
    "colab": {
      "provenance": []
    },
    "kernelspec": {
      "display_name": "Python 3",
      "name": "python3"
    },
    "language_info": {
      "name": "python"
    }
  },
  "nbformat": 4,
  "nbformat_minor": 0
}
