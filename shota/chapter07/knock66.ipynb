{
  "cells": [
    {
      "cell_type": "code",
      "execution_count": null,
      "metadata": {
        "id": "s1bgsabwZ6in"
      },
      "outputs": [],
      "source": [
        "#自然言語処理用のgensimパッケージ\n",
        "from gensim.models import KeyedVectors\n",
        "file = '/content/drive/MyDrive/Colab Notebooks/chapter07/GoogleNews-vectors-negative300.bin'\n",
        "#fileをword2vec形式で読み込み\n",
        "model = KeyedVectors.load_word2vec_format(file,binary = True)"
      ]
    },
    {
      "cell_type": "code",
      "execution_count": 5,
      "metadata": {
        "colab": {
          "base_uri": "https://localhost:8080/"
        },
        "id": "rRMzJe5K8xuW",
        "outputId": "fe721d2f-c2d7-48ea-823e-3b96b985d9bb"
      },
      "outputs": [
        {
          "name": "stdout",
          "output_type": "stream",
          "text": [
            "スピアマン相関係数: 0.7000166486272194\n"
          ]
        }
      ],
      "source": [
        "from scipy.stats import spearmanr\n",
        "\n",
        "file = '/content/drive/MyDrive/Colab Notebooks/chapter07/wordsim353/combined.csv'\n",
        "human = []\n",
        "w2v = []\n",
        "with open(file, 'r', encoding='utf-8') as f:\n",
        "    next(f)                                                 #タイトルを読み飛ばす\n",
        "    for row in f:                                           #1行ずつ取得\n",
        "        cols = row.rstrip().split(',')                      #csvファイルからコンマ区切りで単語を獲得\n",
        "        human.append(float(cols[2]))                        #人間の類似度判定スコアを取得\n",
        "        w2v.append(model.similarity(cols[0], cols[1]))      #2つの単語ベクトルから類似度を計算\n",
        "\n",
        "correlation, pvalue = spearmanr(human, w2v)                 #スピアマン係数を計算[相関係数,p値]\n",
        "\n",
        "print('スピアマン相関係数: {}'.format(correlation))"
      ]
    },
    {
      "cell_type": "code",
      "execution_count": 4,
      "metadata": {
        "colab": {
          "base_uri": "https://localhost:8080/"
        },
        "id": "BnoeALWi81e0",
        "outputId": "6e1c54ae-b7e5-4008-b5c2-c0eec4b1d2e0"
      },
      "outputs": [
        {
          "name": "stdout",
          "output_type": "stream",
          "text": [
            "Drive already mounted at /content/drive; to attempt to forcibly remount, call drive.mount(\"/content/drive\", force_remount=True).\n"
          ]
        }
      ],
      "source": [
        "from google.colab import drive\n",
        "drive.mount('/content/drive')"
      ]
    }
  ],
  "metadata": {
    "accelerator": "GPU",
    "colab": {
      "gpuType": "T4",
      "provenance": []
    },
    "kernelspec": {
      "display_name": "Python 3",
      "name": "python3"
    },
    "language_info": {
      "name": "python"
    }
  },
  "nbformat": 4,
  "nbformat_minor": 0
}
