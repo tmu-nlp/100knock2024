{
  "cells": [
    {
      "cell_type": "code",
      "execution_count": null,
      "metadata": {
        "id": "s1bgsabwZ6in"
      },
      "outputs": [],
      "source": [
        "#自然言語処理用のgensimパッケージ\n",
        "from gensim.models import KeyedVectors\n",
        "file = '/content/drive/MyDrive/Colab Notebooks/chapter07/GoogleNews-vectors-negative300.bin'\n",
        "#fileをword2vec形式で読み込み\n",
        "model = KeyedVectors.load_word2vec_format(file,binary = True)"
      ]
    },
    {
      "cell_type": "code",
      "execution_count": 3,
      "metadata": {
        "colab": {
          "base_uri": "https://localhost:8080/"
        },
        "id": "rRMzJe5K8xuW",
        "outputId": "ba40db7c-48bc-4b3a-ace4-ee265e2a8254"
      },
      "outputs": [
        {
          "name": "stdout",
          "output_type": "stream",
          "text": [
            "意味的アナロジーの正解率: 0.7308602999210734\n",
            "文法的アナロジーの正解率: 0.7400468384074942\n"
          ]
        }
      ],
      "source": [
        "#カテゴリ名が'gram'から始まるものが文法的アナロジー、それ以外のものが意味的アナロジー\n",
        "output = '/content/drive/MyDrive/Colab Notebooks/chapter07/questions-words_similarity.txt'\n",
        "\n",
        "sem_cnt = 0\n",
        "sem_true = 0\n",
        "syn_cnt = 0\n",
        "syn_true = 0\n",
        "with open(output, 'r', encoding='utf-8') as f:\n",
        "    for row in f:\n",
        "        cols = row.strip().split('\\t')                              #各行をタブ区切りで配列に保存\n",
        "        target = cols[1].split()[-1]                                #正解として元データの4行目の単語を指定\n",
        "        pred = cols[2]                                              #予測として求めた単語を取得\n",
        "        if not cols[0].startswith('gram'):                          #文法的アナロジーに関する処理\n",
        "            sem_cnt += 1                                            #文法的アナロジーの数\n",
        "            if target == pred:                                      #文法的アナロジーが正解と一致しているとき\n",
        "                sem_true += 1                                       #その数をカウント\n",
        "        else:                                                       #意味的アナロジーに関する処理\n",
        "            syn_cnt += 1                                            #意味的アナロジーの数\n",
        "            if target == pred:                                      #意味的アナロジーが正解と一致しているとき\n",
        "                syn_true += 1                                       #その数を数える\n",
        "print('意味的アナロジーの正解率: {}'.format(sem_true / sem_cnt))\n",
        "print('文法的アナロジーの正解率: {}'.format(syn_true / syn_cnt))"
      ]
    },
    {
      "cell_type": "code",
      "execution_count": null,
      "metadata": {
        "colab": {
          "base_uri": "https://localhost:8080/"
        },
        "id": "BnoeALWi81e0",
        "outputId": "a0a073a3-8d44-4a20-b41f-96f68f458c1a"
      },
      "outputs": [
        {
          "name": "stdout",
          "output_type": "stream",
          "text": [
            "Mounted at /content/drive\n"
          ]
        }
      ],
      "source": [
        "from google.colab import drive\n",
        "drive.mount('/content/drive')"
      ]
    }
  ],
  "metadata": {
    "accelerator": "GPU",
    "colab": {
      "gpuType": "T4",
      "provenance": []
    },
    "kernelspec": {
      "display_name": "Python 3",
      "name": "python3"
    },
    "language_info": {
      "name": "python"
    }
  },
  "nbformat": 4,
  "nbformat_minor": 0
}
