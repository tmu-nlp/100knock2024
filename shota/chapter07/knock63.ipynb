{
  "cells": [
    {
      "cell_type": "code",
      "execution_count": 7,
      "metadata": {
        "id": "s1bgsabwZ6in"
      },
      "outputs": [],
      "source": [
        "#自然言語処理用のgensimパッケージ\n",
        "from gensim.models import KeyedVectors\n",
        "file = '/content/drive/MyDrive/Colab Notebooks/chapter07/GoogleNews-vectors-negative300.bin'\n",
        "#fileをword2vec形式で読み込み\n",
        "model = KeyedVectors.load_word2vec_format(file,binary = True)"
      ]
    },
    {
      "cell_type": "code",
      "execution_count": 12,
      "metadata": {
        "colab": {
          "base_uri": "https://localhost:8080/"
        },
        "id": "rRMzJe5K8xuW",
        "outputId": "8d25b675-6706-484a-fa49-f5406b89e640"
      },
      "outputs": [
        {
          "name": "stdout",
          "output_type": "stream",
          "text": [
            "1 Greece 0.6898480653762817\n",
            "2 Aristeidis_Grigoriadis 0.560684859752655\n",
            "3 Ioannis_Drymonakos 0.5552908778190613\n",
            "4 Greeks 0.545068621635437\n",
            "5 Ioannis_Christou 0.5400862097740173\n",
            "6 Hrysopiyi_Devetzi 0.5248445272445679\n",
            "7 Heraklio 0.5207759737968445\n",
            "8 Athens_Greece 0.516880989074707\n",
            "9 Lithuania 0.5166865587234497\n",
            "10 Iraklion 0.5146791338920593\n"
          ]
        }
      ],
      "source": [
        "#most_similarでコサイン類似度による比較\n",
        "#引数の中で加算するベクトルと減算するベクトルを指定\n",
        "res = model.most_similar(positive=['Spain','Athens'],negative=['Madrid'],topn=10)\n",
        "for i,x in enumerate(res):\n",
        "    print(i+1,x[0],x[1])"
      ]
    },
    {
      "cell_type": "code",
      "execution_count": 5,
      "metadata": {
        "colab": {
          "base_uri": "https://localhost:8080/"
        },
        "id": "BnoeALWi81e0",
        "outputId": "6dbccbd4-3297-495d-f1c0-ed15eb4eeb42"
      },
      "outputs": [
        {
          "name": "stdout",
          "output_type": "stream",
          "text": [
            "Drive already mounted at /content/drive; to attempt to forcibly remount, call drive.mount(\"/content/drive\", force_remount=True).\n"
          ]
        }
      ],
      "source": [
        "from google.colab import drive\n",
        "drive.mount('/content/drive')"
      ]
    }
  ],
  "metadata": {
    "colab": {
      "provenance": []
    },
    "kernelspec": {
      "display_name": "Python 3",
      "name": "python3"
    },
    "language_info": {
      "name": "python"
    }
  },
  "nbformat": 4,
  "nbformat_minor": 0
}
