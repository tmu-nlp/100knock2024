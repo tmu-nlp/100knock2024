{
  "cells": [
    {
      "cell_type": "code",
      "execution_count": 7,
      "metadata": {
        "id": "s1bgsabwZ6in"
      },
      "outputs": [],
      "source": [
        "#自然言語処理用のgensimパッケージ\n",
        "from gensim.models import KeyedVectors\n",
        "file = '/content/drive/MyDrive/Colab Notebooks/chapter07/GoogleNews-vectors-negative300.bin'\n",
        "#fileをword2vec形式で読み込み\n",
        "model = KeyedVectors.load_word2vec_format(file,binary = True)"
      ]
    },
    {
      "cell_type": "code",
      "execution_count": 11,
      "metadata": {
        "colab": {
          "base_uri": "https://localhost:8080/"
        },
        "id": "rRMzJe5K8xuW",
        "outputId": "68b5c38c-5567-471c-9e62-3aad76dc2e0c"
      },
      "outputs": [
        {
          "name": "stdout",
          "output_type": "stream",
          "text": [
            "1 Unites_States 0.7877248525619507\n",
            "2 Untied_States 0.7541370987892151\n",
            "3 United_Sates 0.7400724291801453\n",
            "4 U.S. 0.7310774326324463\n",
            "5 theUnited_States 0.6404393911361694\n",
            "6 America 0.6178410053253174\n",
            "7 UnitedStates 0.6167312264442444\n",
            "8 Europe 0.6132988929748535\n",
            "9 countries 0.6044804453849792\n",
            "10 Canada 0.601906955242157\n"
          ]
        }
      ],
      "source": [
        "#most_similarでコサイン類似度による比較\n",
        "res = model.most_similar('United_States',topn=10)\n",
        "for i,x in enumerate(res):\n",
        "    print(i+1,x[0],x[1])      #xの中身⇒('Unites_States', 0.7877248525619507)"
      ]
    },
    {
      "cell_type": "code",
      "execution_count": 5,
      "metadata": {
        "colab": {
          "base_uri": "https://localhost:8080/"
        },
        "id": "BnoeALWi81e0",
        "outputId": "6dbccbd4-3297-495d-f1c0-ed15eb4eeb42"
      },
      "outputs": [
        {
          "name": "stdout",
          "output_type": "stream",
          "text": [
            "Drive already mounted at /content/drive; to attempt to forcibly remount, call drive.mount(\"/content/drive\", force_remount=True).\n"
          ]
        }
      ],
      "source": [
        "from google.colab import drive\n",
        "drive.mount('/content/drive')"
      ]
    }
  ],
  "metadata": {
    "colab": {
      "provenance": []
    },
    "kernelspec": {
      "display_name": "Python 3",
      "name": "python3"
    },
    "language_info": {
      "name": "python",
      "version": "3.12.3"
    }
  },
  "nbformat": 4,
  "nbformat_minor": 0
}
