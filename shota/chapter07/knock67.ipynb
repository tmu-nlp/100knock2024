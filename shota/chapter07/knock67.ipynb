{
  "cells": [
    {
      "cell_type": "code",
      "execution_count": null,
      "metadata": {
        "id": "s1bgsabwZ6in"
      },
      "outputs": [],
      "source": [
        "#自然言語処理用のgensimパッケージ\n",
        "from gensim.models import KeyedVectors\n",
        "file = '/content/drive/MyDrive/Colab Notebooks/chapter07/GoogleNews-vectors-negative300.bin'\n",
        "#fileをword2vec形式で読み込み\n",
        "model = KeyedVectors.load_word2vec_format(file,binary = True)"
      ]
    },
    {
      "cell_type": "code",
      "execution_count": 7,
      "metadata": {
        "colab": {
          "base_uri": "https://localhost:8080/"
        },
        "id": "rRMzJe5K8xuW",
        "outputId": "85d3955e-187f-40fa-c217-37ad8ae88392"
      },
      "outputs": [
        {
          "name": "stdout",
          "output_type": "stream",
          "text": [
            "129\n",
            "['Zambia', 'Jordan', 'Iceland', 'Spain', 'Austria', 'Hungary', 'Belize', 'Russia', 'Cyprus', 'Botswana', 'Denmark', 'Uzbekistan', 'Belarus', 'Namibia', 'Germany', 'Portugal', 'Liechtenstein', 'Kazakhstan', 'Rwanda', 'Japan', 'Gabon', 'Macedonia', 'Netherlands', 'Venezuela', 'Turkmenistan', 'Latvia', 'Tunisia', 'Morocco', 'Somalia', 'Samoa', 'Gambia', 'Bangladesh', 'Nigeria', 'Niger', 'Nepal', 'Ghana', 'Bhutan', 'Bahamas', 'Bulgaria', 'Montenegro', 'Algeria', 'Guinea', 'Ireland', 'Argentina', 'Bahrain', 'Pakistan', 'Mali', 'Egypt', 'Iran', 'Guyana', 'Israel', 'China', 'Sudan', 'Kenya', 'Angola', 'Croatia', 'Korea', 'Thailand', 'Estonia', 'Turkey', 'Philippines', 'Taiwan', 'Sweden', 'Mexico', 'Liberia', 'Qatar', 'France', 'Zimbabwe', 'Peru', 'Malaysia', 'Eritrea', 'Fiji', 'Libya', 'Norway', 'Honduras', 'Jamaica', 'Nicaragua', 'Lebanon', 'Poland', 'Azerbaijan', 'Serbia', 'Romania', 'Greenland', 'Brazil', 'Canada', 'Armenia', 'Chile', 'Switzerland', 'Burundi', 'India', 'Syria', 'Tajikistan', 'Afghanistan', 'Georgia', 'USA', 'Vietnam', 'England', 'Moldova', 'Ecuador', 'Dominica', 'Albania', 'Malawi', 'Oman', 'Suriname', 'Mauritania', 'Kyrgyzstan', 'Laos', 'Europe', 'Ukraine', 'Italy', 'Uganda', 'Indonesia', 'Cuba', 'Madagascar', 'Slovakia', 'Greece', 'Slovenia', 'Lithuania', 'Malta', 'Finland', 'Tuvalu', 'Mozambique', 'Cambodia', 'Belgium', 'Colombia', 'Australia', 'Uruguay', 'Iraq', 'Senegal']\n"
          ]
        }
      ],
      "source": [
        "# 単語の取得\n",
        "file = '/content/drive/MyDrive/Colab Notebooks/chapter07/questions-words_similarity.txt'\n",
        "categories1 = ['capital-common-countries', 'capital-world']                              #2行目に国名が含まれているカテゴリ\n",
        "categories2 = ['currency', 'gram6-nationality-adjective']                                #1行目に国名が含まれているカテゴリ\n",
        "countries = set()                                                                        #重複削除のためにset()\n",
        "with open(file, 'r', encoding='utf-8') as f:\n",
        "    for row in f:                                                                        #ファイルから1行ずつ読み出し\n",
        "        cols = row.strip().split('\\t')                                                   #タブ区切りで単語を取得\n",
        "        if cols[0] in categories1:                                                       #カテゴリ1に関する処理\n",
        "            country = cols[1].split()[1]                                                 #2行目の国名を取得\n",
        "            countries.add(country)                                                       #setに追加\n",
        "        elif cols[0] in categories2:                                                     #カテゴリ2に関する処理\n",
        "            country = cols[1].split()[0]                                                 #1行目の国名を取得\n",
        "            countries.add(country)                                                       #setに追加\n",
        "        else:                                                                            #カテゴリ1とカテゴリ2にふくまれていなければ何もしない\n",
        "            continue\n",
        "countries = list(countries)                                                              #集合を配列に変換\n",
        "print(len(countries))\n",
        "print(countries)\n",
        "\n",
        "# 単語ベクトルの取得\n",
        "countries_vec = [model[country] for country in countries]"
      ]
    },
    {
      "cell_type": "code",
      "execution_count": 8,
      "metadata": {
        "colab": {
          "base_uri": "https://localhost:8080/"
        },
        "id": "6DgQVkSZJL6w",
        "outputId": "3c9eff5f-7957-4275-8a6c-2251931edfb5"
      },
      "outputs": [
        {
          "name": "stderr",
          "output_type": "stream",
          "text": [
            "/usr/local/lib/python3.10/dist-packages/sklearn/cluster/_kmeans.py:870: FutureWarning: The default value of `n_init` will change from 10 to 'auto' in 1.4. Set the value of `n_init` explicitly to suppress the warning\n",
            "  warnings.warn(\n"
          ]
        },
        {
          "name": "stdout",
          "output_type": "stream",
          "text": [
            "cluster 0\n",
            "Belize, Venezuela, Samoa, Bahamas, Argentina, Guyana, Mexico, Peru, Fiji, Honduras, Jamaica, Nicaragua, Brazil, Chile, Ecuador, Dominica, Suriname, Cuba, Tuvalu, Colombia, Uruguay\n",
            "cluster 1\n",
            "Zambia, Botswana, Namibia, Rwanda, Gabon, Tunisia, Morocco, Gambia, Nigeria, Niger, Ghana, Algeria, Guinea, Mali, Sudan, Kenya, Angola, Liberia, Zimbabwe, Eritrea, Burundi, Malawi, Mauritania, Uganda, Madagascar, Mozambique, Senegal\n",
            "cluster 2\n",
            "Iceland, Spain, Austria, Hungary, Russia, Cyprus, Denmark, Belarus, Germany, Portugal, Liechtenstein, Kazakhstan, Macedonia, Netherlands, Latvia, Bulgaria, Montenegro, Ireland, Croatia, Estonia, Turkey, Sweden, France, Norway, Poland, Azerbaijan, Serbia, Romania, Greenland, Canada, Armenia, Switzerland, Georgia, USA, England, Moldova, Albania, Europe, Ukraine, Italy, Slovakia, Greece, Slovenia, Lithuania, Malta, Finland, Belgium\n",
            "cluster 3\n",
            "Jordan, Somalia, Bahrain, Pakistan, Egypt, Iran, Israel, Qatar, Libya, Lebanon, Syria, Afghanistan, Iraq\n",
            "cluster 4\n",
            "Uzbekistan, Japan, Turkmenistan, Bangladesh, Nepal, Bhutan, China, Korea, Thailand, Philippines, Taiwan, Malaysia, India, Tajikistan, Vietnam, Oman, Kyrgyzstan, Laos, Indonesia, Cambodia, Australia\n"
          ]
        }
      ],
      "source": [
        "from sklearn.cluster import KMeans\n",
        "import numpy as np\n",
        "\n",
        "# k-meansクラスタリング\n",
        "kmeans = KMeans(n_clusters=5)                          #クラスタ数を5に設定\n",
        "kmeans.fit(countries_vec)                              #作成した単語ベクトルをクラスタリング\n",
        "for i in range(5):\n",
        "    cluster = np.where(kmeans.labels_ == i)[0]         #クラスタのラベルがiのもののcontries_vecでの要素番号\n",
        "    print('cluster', i)\n",
        "    print(', '.join([countries[k] for k in cluster]))"
      ]
    },
    {
      "cell_type": "code",
      "execution_count": 4,
      "metadata": {
        "colab": {
          "base_uri": "https://localhost:8080/"
        },
        "id": "BnoeALWi81e0",
        "outputId": "6e1c54ae-b7e5-4008-b5c2-c0eec4b1d2e0"
      },
      "outputs": [
        {
          "name": "stdout",
          "output_type": "stream",
          "text": [
            "Drive already mounted at /content/drive; to attempt to forcibly remount, call drive.mount(\"/content/drive\", force_remount=True).\n"
          ]
        }
      ],
      "source": [
        "from google.colab import drive\n",
        "drive.mount('/content/drive')"
      ]
    }
  ],
  "metadata": {
    "accelerator": "GPU",
    "colab": {
      "gpuType": "T4",
      "provenance": []
    },
    "kernelspec": {
      "display_name": "Python 3",
      "name": "python3"
    },
    "language_info": {
      "name": "python"
    }
  },
  "nbformat": 4,
  "nbformat_minor": 0
}
