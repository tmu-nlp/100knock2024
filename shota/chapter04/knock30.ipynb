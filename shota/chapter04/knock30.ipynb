{
 "cells": [
  {
   "cell_type": "code",
   "execution_count": 3,
   "metadata": {},
   "outputs": [
    {
     "name": "stdout",
     "output_type": "stream",
     "text": [
      "[{'surface': '一', 'base': '一', 'pos': '名詞', 'pos1': '数'}]\n",
      "[{'surface': '\\u3000', 'base': '\\u3000', 'pos': '記号', 'pos1': '空白'}, {'surface': '吾輩', 'base': '吾輩', 'pos': '名詞', 'pos1': '代名詞'}, {'surface': 'は', 'base': 'は', 'pos': '助詞', 'pos1': '係助詞'}, {'surface': '猫', 'base': '猫', 'pos': '名詞', 'pos1': '一般'}, {'surface': 'で', 'base': 'だ', 'pos': '助動詞', 'pos1': '*'}, {'surface': 'ある', 'base': 'ある', 'pos': '助動詞', 'pos1': '*'}, {'surface': '。', 'base': '。', 'pos': '記号', 'pos1': '句点'}]\n",
      "[{'surface': '名前', 'base': '名前', 'pos': '名詞', 'pos1': '一般'}, {'surface': 'は', 'base': 'は', 'pos': '助詞', 'pos1': '係助詞'}, {'surface': 'まだ', 'base': 'まだ', 'pos': '副詞', 'pos1': '助詞類接続'}, {'surface': '無い', 'base': '無い', 'pos': '形容詞', 'pos1': '自立'}, {'surface': '。', 'base': '。', 'pos': '記号', 'pos1': '句点'}]\n"
     ]
    }
   ],
   "source": [
    "def read_mecab(file):\n",
    "    results = []\n",
    "    sentence = []\n",
    "    with open(file,\"r\") as f:\n",
    "        for line in f:                                 #ファイルから1行ずつ読み込んで処理\n",
    "            if line == 'EOS\\n':                        #EOSで文の終わりを判定\n",
    "                if len(sentence) != 0:                 #sentenceに要素が入っていれば結果に格納\n",
    "                    results.append(sentence)\n",
    "                    sentence = []                      #sentenceをリセット\n",
    "            else:                                      #EOS出なけらば各文に対して以下の処理を行う\n",
    "                morpheme1 = line.split('\\t')           #表層形の取得\n",
    "                morpheme2 = morpheme1[1].split(',')    #各種形態素の取得\n",
    "                words = {'surface':morpheme1[0],       #単語ごとに辞書に格納\n",
    "                         'base':morpheme2[6],\n",
    "                         'pos':morpheme2[0],\n",
    "                         'pos1':morpheme2[1]}\n",
    "                sentence.append(words)\n",
    "    \n",
    "    if len(sentence) != 0:                             #余りの分の処理\n",
    "        results.append(sentence)\n",
    "        sentence = []\n",
    "    \n",
    "    return results\n",
    "\n",
    "file = 'neko.txt.mecab'\n",
    "results = read_mecab(file)\n",
    "for i in range(3):                                     #上から3つ分の表示\n",
    "    print(results[i])"
   ]
  }
 ],
 "metadata": {
  "kernelspec": {
   "display_name": ".nlp",
   "language": "python",
   "name": "python3"
  },
  "language_info": {
   "codemirror_mode": {
    "name": "ipython",
    "version": 3
   },
   "file_extension": ".py",
   "mimetype": "text/x-python",
   "name": "python",
   "nbconvert_exporter": "python",
   "pygments_lexer": "ipython3",
   "version": "3.12.3"
  }
 },
 "nbformat": 4,
 "nbformat_minor": 2
}
