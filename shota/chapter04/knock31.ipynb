def read_mecab(file):
    results = []
    sentence = []
    with open(file,"r") as f:
        for line in f:                                 #ファイルから1行ずつ読み込んで処理
            if line == 'EOS\n':                        #EOSで文の終わりを判定
                if len(sentence) != 0:                 #sentenceに要素が入っていれば結果に格納
                    results.append(sentence)
                    sentence = []                      #sentenceをリセット
            else:                                      #EOS出なけらば各文に対して以下の処理を行う
                morpheme1 = line.split('\t')           #表層形の取得
                morpheme2 = morpheme1[1].split(',')    #各種形態素の取得
                words = {'surface':morpheme1[0],       #単語ごとに辞書に格納
                         'base':morpheme2[6],
                         'pos':morpheme2[0],
                         'pos1':morpheme2[1]}
                sentence.append(words)
    
    if len(sentence) != 0:
        results.append(sentence)
        sentence = []
    
    return results