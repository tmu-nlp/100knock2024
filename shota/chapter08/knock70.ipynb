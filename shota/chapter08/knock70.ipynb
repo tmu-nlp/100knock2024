{
  "cells": [
    {
      "cell_type": "code",
      "execution_count": 11,
      "metadata": {
        "id": "imGajP7AeQCr"
      },
      "outputs": [],
      "source": [
        "from gensim.models import KeyedVectors\n",
        "\n",
        "file = '/content/drive/MyDrive/Colab Notebooks/chapter07/GoogleNews-vectors-negative300.bin'\n",
        "model = KeyedVectors.load_word2vec_format(file, binary=True)"
      ]
    },
    {
      "cell_type": "code",
      "execution_count": 12,
      "metadata": {
        "colab": {
          "base_uri": "https://localhost:8080/"
        },
        "id": "IjwxWRSmbmj6",
        "outputId": "9fc1be02-5fd8-4dfa-86c8-65e2001cf6be"
      },
      "outputs": [
        {
          "name": "stdout",
          "output_type": "stream",
          "text": [
            "学習データ\n",
            "CATEGORY\n",
            "b    4502\n",
            "e    4223\n",
            "t    1219\n",
            "m     728\n",
            "Name: count, dtype: int64\n",
            "検証データ\n",
            "CATEGORY\n",
            "b    562\n",
            "e    528\n",
            "t    153\n",
            "m     91\n",
            "Name: count, dtype: int64\n",
            "評価データ\n",
            "CATEGORY\n",
            "b    563\n",
            "e    528\n",
            "t    152\n",
            "m     91\n",
            "Name: count, dtype: int64\n"
          ]
        }
      ],
      "source": [
        "#train,test,validの読み込み　\n",
        "import pandas as pd\n",
        "train = pd.read_csv('/content/drive/MyDrive/Colab Notebooks/chapter08/train.txt', sep=\"\\t\", header=0,names=[\"TITLE\",\"CATEGORY\"])\n",
        "test = pd.read_csv('/content/drive/MyDrive/Colab Notebooks/chapter08/test.txt', sep=\"\\t\", header=0,names=[\"TITLE\",\"CATEGORY\"])\n",
        "valid = pd.read_csv('/content/drive/MyDrive/Colab Notebooks/chapter08/valid.txt', sep=\"\\t\", header=0,names=[\"TITLE\",\"CATEGORY\"])\n",
        "\n",
        "#元のindexを削除し、indexを振りなおす\n",
        "train = train.reset_index(drop=True)\n",
        "valid = valid.reset_index(drop=True)\n",
        "test = test.reset_index(drop=True)\n",
        "\n",
        "# データ数の確認\n",
        "print('学習データ')\n",
        "print(train['CATEGORY'].value_counts())\n",
        "print('検証データ')\n",
        "print(valid['CATEGORY'].value_counts())\n",
        "print('評価データ')\n",
        "print(test['CATEGORY'].value_counts())\n"
      ]
    },
    {
      "cell_type": "code",
      "execution_count": 13,
      "metadata": {
        "id": "vnOiVxYPc77j"
      },
      "outputs": [],
      "source": [
        "import re\n",
        "from nltk import stem\n",
        "\n",
        "# データの連結\n",
        "df = pd.concat([train, valid, test], axis=0).reset_index(drop=True)\n",
        "\n",
        "# 前処理(データを整える)\n",
        "def preprocessing(text):\n",
        "    text_clean = re.sub(r'[\\\"\\'.,:;\\(\\)#\\|\\*\\+\\!\\?#$%&/\\]\\[\\{\\}]', '', text)\n",
        "    text_clean = re.sub('[0-9]+', '0', text_clean)\n",
        "    text_clean = re.sub('\\s-\\s', ' ', text_clean)\n",
        "    return text_clean\n",
        "\n",
        "#dfの単語に対して前処理を実行\n",
        "df['TITLE'] = df['TITLE'].apply(preprocessing)"
      ]
    },
    {
      "cell_type": "code",
      "execution_count": 14,
      "metadata": {
        "colab": {
          "base_uri": "https://localhost:8080/"
        },
        "id": "DpknguUSeF3G",
        "outputId": "1a6fb74b-88e1-4645-f15f-24775aa8cb67"
      },
      "outputs": [
        {
          "name": "stdout",
          "output_type": "stream",
          "text": [
            "torch.Size([10672, 300])\n",
            "tensor([[ 0.0368,  0.0300, -0.0738,  ..., -0.1523,  0.0419, -0.0774],\n",
            "        [ 0.0002, -0.0056, -0.0824,  ..., -0.0544,  0.0776, -0.0214],\n",
            "        [ 0.0266, -0.0166, -0.0877,  ..., -0.0522,  0.0517,  0.0093],\n",
            "        ...,\n",
            "        [-0.0291,  0.0529, -0.1453,  ...,  0.0494,  0.1548, -0.0910],\n",
            "        [-0.0269,  0.1204, -0.0289,  ..., -0.0062,  0.0739, -0.0327],\n",
            "        [ 0.0361,  0.1236,  0.0260,  ..., -0.0099, -0.0193,  0.0262]])\n"
          ]
        }
      ],
      "source": [
        "import numpy as np\n",
        "# 平均単語ベクトルの取得\n",
        "def w2v(text):\n",
        "    words = text.rstrip().split()\n",
        "    vec = [model[word] for word in words if word in model]\n",
        "    return np.array(sum(vec) / len(vec))\n",
        "\n",
        "vecs = np.array([])\n",
        "for text in df['TITLE']:\n",
        "    if len(vecs) == 0:                               #vecsが空のとき、\n",
        "        vecs = w2v(text)                             #w2v実行\n",
        "    else:                                            #vecsが空出ないとき、\n",
        "        vecs = np.vstack([vecs, w2v(text)])          #縦方向にvecsとw2vを結合\n",
        "\n",
        "# 特徴ベクトルのテンソル化\n",
        "import torch\n",
        "\n",
        "# 乱数のシードを設定\n",
        "torch.manual_seed(1234)\n",
        "np.random.seed(1234)\n",
        "\n",
        "#各サイズのテンソルを格納\n",
        "X_train = torch.from_numpy(vecs[:len(train), :])\n",
        "X_valid = torch.from_numpy(vecs[len(train):len(train)+ len(valid), :])\n",
        "X_test = torch.from_numpy(vecs[len(train)+ len(valid):, :])\n",
        "print(X_train.size())\n",
        "print(X_train)"
      ]
    },
    {
      "cell_type": "code",
      "execution_count": 16,
      "metadata": {
        "id": "dJw7yxbpfGBw"
      },
      "outputs": [],
      "source": [
        "# ターゲットのテンソル化\n",
        "category_dict = {'b': 0, 't': 1, 'e':2, 'm':3}\n",
        "Y_train = torch.from_numpy(train['CATEGORY'].map(category_dict).values)\n",
        "Y_valid = torch.from_numpy(valid['CATEGORY'].map(category_dict).values)\n",
        "Y_test = torch.from_numpy(test['CATEGORY'].map(category_dict).values)\n",
        "# 保存\n",
        "torch.save(X_train, '/content/drive/MyDrive/Colab Notebooks/chapter08/X_train.pt')\n",
        "torch.save(X_valid, '/content/drive/MyDrive/Colab Notebooks/chapter08/X_valid.pt')\n",
        "torch.save(X_test, '/content/drive/MyDrive/Colab Notebooks/chapter08/X_test.pt')\n",
        "torch.save(Y_train, '/content/drive/MyDrive/Colab Notebooks/chapter08/y_train.pt')\n",
        "torch.save(Y_valid, '/content/drive/MyDrive/Colab Notebooks/chapter08/y_valid.pt')\n",
        "torch.save(Y_test, '/content/drive/MyDrive/Colab Notebooks/chapter08/y_test.pt')"
      ]
    }
  ],
  "metadata": {
    "accelerator": "GPU",
    "colab": {
      "gpuType": "T4",
      "provenance": []
    },
    "kernelspec": {
      "display_name": "Python 3",
      "name": "python3"
    },
    "language_info": {
      "name": "python"
    }
  },
  "nbformat": 4,
  "nbformat_minor": 0
}
