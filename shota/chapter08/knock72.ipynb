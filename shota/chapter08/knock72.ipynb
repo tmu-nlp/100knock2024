{
  "cells": [
    {
      "cell_type": "code",
      "execution_count": 2,
      "metadata": {
        "id": "qQhtvLcjaYS-"
      },
      "outputs": [],
      "source": [
        "#作成したテンソルを読み込み\n",
        "import torch\n",
        "X_train = torch.load('/content/drive/MyDrive/Colab Notebooks/chapter08/X_train.pt')\n",
        "X_test = torch.load('/content/drive/MyDrive/Colab Notebooks/chapter08/X_test.pt')\n",
        "X_valid = torch.load('/content/drive/MyDrive/Colab Notebooks/chapter08/X_valid.pt')\n",
        "Y_train = torch.load('/content/drive/MyDrive/Colab Notebooks/chapter08/Y_train.pt')\n",
        "Y_test = torch.load('/content/drive/MyDrive/Colab Notebooks/chapter08/Y_test.pt')\n",
        "Y_valid = torch.load('/content/drive/MyDrive/Colab Notebooks/chapter08/Y_valid.pt')"
      ]
    },
    {
      "cell_type": "code",
      "execution_count": 5,
      "metadata": {
        "colab": {
          "base_uri": "https://localhost:8080/"
        },
        "id": "5ANhD6JzcI5m",
        "outputId": "893ea960-5340-486b-a038-f5272842503c"
      },
      "outputs": [
        {
          "name": "stdout",
          "output_type": "stream",
          "text": [
            "SLNet(\n",
            "  (fc): Linear(in_features=300, out_features=4, bias=True)\n",
            ")\n"
          ]
        }
      ],
      "source": [
        "# モデルの構築(nnはニューラルネットワーク)\n",
        "from torch import nn\n",
        "\n",
        "class SLNet(nn.Module):\n",
        "    def __init__(self, input_size, output_size):\n",
        "        super().__init__()\n",
        "        self.fc = nn.Linear(input_size, output_size) #全結合層の作成\n",
        "\n",
        "    def forward(self, x):\n",
        "        logits = self.fc(x)                          #フォワードパスの作成\n",
        "        return logits\n",
        "\n",
        "#入力300,出力4のサイズでインスタンスを作成\n",
        "model = SLNet(300, 4)\n",
        "print(model)"
      ]
    },
    {
      "cell_type": "code",
      "execution_count": 6,
      "metadata": {
        "colab": {
          "base_uri": "https://localhost:8080/"
        },
        "id": "3q05bHnlbZ0b",
        "outputId": "48ece085-ab0b-41de-bd28-f4349fe7ca18"
      },
      "outputs": [
        {
          "name": "stdout",
          "output_type": "stream",
          "text": [
            "損失:  1.3847644329071045\n",
            "勾配: \n",
            "tensor([[ 0.0093,  0.0076, -0.0187,  ..., -0.0385,  0.0106, -0.0196],\n",
            "        [ 0.0087,  0.0071, -0.0174,  ..., -0.0360,  0.0099, -0.0183],\n",
            "        [-0.0276, -0.0225,  0.0553,  ...,  0.1142, -0.0314,  0.0581],\n",
            "        [ 0.0096,  0.0078, -0.0192,  ..., -0.0397,  0.0109, -0.0202]])\n"
          ]
        }
      ],
      "source": [
        "from torch import nn\n",
        "# x_1のロスを求める\n",
        "criterion = nn.CrossEntropyLoss()\n",
        "logits = model(X_train[0])\n",
        "loss = criterion(logits, Y_train[0]) #logitsは入力,Y_trainは正解クラスのインデックス\n",
        "print(\"損失: \", loss.item())\n",
        "model.zero_grad()                    #モデルの勾配を0初期化(これをしないと勾配が蓄積され最小値へ向かわなくなる)\n",
        "loss.backward()                      #誤差逆伝播で勾配を計算\n",
        "print(\"勾配: \")\n",
        "print(model.fc.weight.grad)"
      ]
    },
    {
      "cell_type": "code",
      "execution_count": 7,
      "metadata": {
        "colab": {
          "base_uri": "https://localhost:8080/"
        },
        "id": "iTBfsAKIcMoS",
        "outputId": "f5f1b292-b055-489c-cee8-a754161fbfaa"
      },
      "outputs": [
        {
          "name": "stdout",
          "output_type": "stream",
          "text": [
            "損失:  1.3912034034729004\n",
            "勾配: \n",
            "tensor([[ 5.2330e-03,  4.0537e-03,  6.4646e-03,  ..., -3.0254e-03,\n",
            "         -3.6627e-03,  6.8580e-05],\n",
            "        [-3.5570e-04, -6.2660e-03, -1.7703e-02,  ..., -1.4046e-02,\n",
            "         -5.9107e-03, -6.4878e-03],\n",
            "        [-1.0407e-02, -5.4688e-04,  2.6028e-02,  ...,  3.4354e-02,\n",
            "         -6.9364e-03,  1.1840e-02],\n",
            "        [ 5.5293e-03,  2.7592e-03, -1.4790e-02,  ..., -1.7283e-02,\n",
            "          1.6510e-02, -5.4212e-03]])\n"
          ]
        }
      ],
      "source": [
        "# x_1~x_4のロスを求める\n",
        "logits = model(X_train[:4])\n",
        "loss = criterion(logits, Y_train[:4]) #logitsは入力,Y_trainは正解クラスのインデックス\n",
        "print(\"損失: \", loss.item())\n",
        "model.zero_grad()                    #モデルの勾配を0初期化(これをしないと勾配が蓄積され最小値へ向かわなくなる)\n",
        "loss.backward()                      #誤差逆伝播で勾配を計算\n",
        "print(\"勾配: \")\n",
        "print(model.fc.weight.grad)"
      ]
    }
  ],
  "metadata": {
    "colab": {
      "provenance": []
    },
    "kernelspec": {
      "display_name": "Python 3",
      "name": "python3"
    },
    "language_info": {
      "name": "python"
    }
  },
  "nbformat": 4,
  "nbformat_minor": 0
}
