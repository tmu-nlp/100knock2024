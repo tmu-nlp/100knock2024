{
  "cells": [
    {
      "cell_type": "code",
      "execution_count": 1,
      "metadata": {
        "id": "rCApASsMLzL7"
      },
      "outputs": [],
      "source": [
        "#作成したテンソルを読み込み\n",
        "import torch\n",
        "X_train = torch.load('/content/drive/MyDrive/Colab Notebooks/chapter08/X_train.pt')\n",
        "X_test = torch.load('/content/drive/MyDrive/Colab Notebooks/chapter08/X_test.pt')\n",
        "X_valid = torch.load('/content/drive/MyDrive/Colab Notebooks/chapter08/X_valid.pt')\n",
        "Y_train = torch.load('/content/drive/MyDrive/Colab Notebooks/chapter08/Y_train.pt')\n",
        "Y_test = torch.load('/content/drive/MyDrive/Colab Notebooks/chapter08/Y_test.pt')\n",
        "Y_valid = torch.load('/content/drive/MyDrive/Colab Notebooks/chapter08/Y_valid.pt')"
      ]
    },
    {
      "cell_type": "code",
      "execution_count": 2,
      "metadata": {
        "colab": {
          "base_uri": "https://localhost:8080/"
        },
        "id": "KbnL8tdaOwkU",
        "outputId": "9e91decc-bcd1-42c4-dd09-51713a416215"
      },
      "outputs": [
        {
          "name": "stdout",
          "output_type": "stream",
          "text": [
            "SLNet(\n",
            "  (fc): Linear(in_features=300, out_features=4, bias=True)\n",
            ")\n"
          ]
        }
      ],
      "source": [
        "# モデルの構築(nnはニューラルネットワーク)\n",
        "from torch import nn\n",
        "\n",
        "class SLNet(nn.Module):\n",
        "    def __init__(self, input_size, output_size):\n",
        "        super().__init__()\n",
        "        self.fc = nn.Linear(input_size, output_size) #全結合層の作成\n",
        "\n",
        "    def forward(self, x):\n",
        "        logits = self.fc(x)                          #フォワードパスの作成\n",
        "        return logits\n",
        "\n",
        "#入力300,出力4のサイズでインスタンスを作成\n",
        "model = SLNet(300, 4)\n",
        "print(model)"
      ]
    },
    {
      "cell_type": "code",
      "execution_count": 3,
      "metadata": {
        "colab": {
          "base_uri": "https://localhost:8080/"
        },
        "id": "zvg0LnxIOyJS",
        "outputId": "4b91a023-c370-4c05-d94a-f4879beedd8f"
      },
      "outputs": [
        {
          "name": "stdout",
          "output_type": "stream",
          "text": [
            "tensor([ 0.1009,  0.0172, -0.0042,  0.0302], grad_fn=<ViewBackward0>)\n",
            "tensor([0.2666, 0.2452, 0.2399, 0.2483], grad_fn=<SoftmaxBackward0>)\n"
          ]
        }
      ],
      "source": [
        "#事例1についてのみの検証\n",
        "logits = model(X_train[0])\n",
        "y_hat_1 = nn.Softmax(dim=-1)(logits)   #dim=1によって行単位の処理\n",
        "print(logits)\n",
        "print(y_hat_1)"
      ]
    },
    {
      "cell_type": "code",
      "execution_count": 4,
      "metadata": {
        "colab": {
          "base_uri": "https://localhost:8080/"
        },
        "id": "ncJAg18IQO9u",
        "outputId": "cf3830fd-03b0-40ac-9c7e-3306856bf51c"
      },
      "outputs": [
        {
          "name": "stdout",
          "output_type": "stream",
          "text": [
            "tensor([[ 0.1009,  0.0172, -0.0042,  0.0302],\n",
            "        [ 0.0924, -0.0700, -0.0909,  0.0518],\n",
            "        [ 0.0367,  0.0248, -0.0938, -0.0354],\n",
            "        [ 0.0425, -0.0163, -0.0451,  0.0053]], grad_fn=<AddmmBackward0>)\n",
            "tensor([[0.2666, 0.2452, 0.2399, 0.2483],\n",
            "        [0.2745, 0.2334, 0.2285, 0.2636],\n",
            "        [0.2634, 0.2603, 0.2312, 0.2451],\n",
            "        [0.2616, 0.2467, 0.2397, 0.2520]], grad_fn=<SoftmaxBackward0>)\n"
          ]
        }
      ],
      "source": [
        "#全事例に対して検証\n",
        "logits = model(X_train[:4])\n",
        "Y_hat = nn.Softmax(dim=1)(logits)\n",
        "print(logits)\n",
        "print(Y_hat)"
      ]
    }
  ],
  "metadata": {
    "colab": {
      "provenance": []
    },
    "kernelspec": {
      "display_name": "Python 3",
      "name": "python3"
    },
    "language_info": {
      "name": "python"
    }
  },
  "nbformat": 4,
  "nbformat_minor": 0
}
