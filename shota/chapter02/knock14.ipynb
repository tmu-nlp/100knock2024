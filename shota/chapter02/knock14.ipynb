{
 "cells": [
  {
   "cell_type": "code",
   "execution_count": 6,
   "metadata": {},
   "outputs": [
    {
     "name": "stdout",
     "output_type": "stream",
     "text": [
      "input N >> 5\n",
      "Mary\tF\t7065\t1880\n",
      "Anna\tF\t2604\t1880\n",
      "Emma\tF\t2003\t1880\n",
      "Elizabeth\tF\t1939\t1880\n",
      "Minnie\tF\t1746\t1880\n"
     ]
    }
   ],
   "source": [
    "#入力受け取り\n",
    "print(\"input N >> \",end = \"\")\n",
    "N = int(input())\n",
    "print(N)\n",
    "\n",
    "#ファイルの読み込み\n",
    "f = open(\"popular-names.txt\",\"r\")\n",
    "\n",
    "#一行ずつ読み込んで表示する\n",
    "#改行処理が重複するのでtxtファイルから読み込んだ分は削除しておく\n",
    "for i in range(N):\n",
    "    readed_line = f.readline().strip(\"\\n\")\n",
    "    print(readed_line)\n",
    "\n",
    "f.close()"
   ]
  },
  {
   "cell_type": "markdown",
   "metadata": {},
   "source": [
    "--UNIXコマンドによる確認画面--\n",
    "・-n(op) 表示する行数を指定\n",
    "\n",
    "shota@LAPTOP-7H1S837B:~/py_venvs/nlp100/100knock2024/shota/chapter02$ head -n 5 popular-names.txt\n",
    "Mary    F       7065    1880\n",
    "Anna    F       2604    1880\n",
    "Emma    F       2003    1880\n",
    "Elizabeth       F       1939    1880\n",
    "Minnie  F       1746    1880"
   ]
  }
 ],
 "metadata": {
  "kernelspec": {
   "display_name": ".nlp100",
   "language": "python",
   "name": "python3"
  },
  "language_info": {
   "codemirror_mode": {
    "name": "ipython",
    "version": 3
   },
   "file_extension": ".py",
   "mimetype": "text/x-python",
   "name": "python",
   "nbconvert_exporter": "python",
   "pygments_lexer": "ipython3",
   "version": "3.12.3"
  }
 },
 "nbformat": 4,
 "nbformat_minor": 2
}
