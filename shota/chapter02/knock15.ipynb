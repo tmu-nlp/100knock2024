{
 "cells": [
  {
   "cell_type": "code",
   "execution_count": 8,
   "metadata": {},
   "outputs": [
    {
     "name": "stdout",
     "output_type": "stream",
     "text": [
      "input N >> 5\n",
      "Benjamin\tM\t13381\t2018\n",
      "Elijah\tM\t12886\t2018\n",
      "Lucas\tM\t12585\t2018\n",
      "Mason\tM\t12435\t2018\n",
      "Logan\tM\t12352\t2018\n"
     ]
    }
   ],
   "source": [
    "#入力受け取り\n",
    "print(\"input N >> \",end = \"\")\n",
    "N = int(input())\n",
    "print(N)\n",
    "\n",
    "#ファイルの読み込み、1行ずつ配列に格納\n",
    "f = open(\"popular-names.txt\",\"r\")\n",
    "content = f.read().splitlines()          #['Mary\\tF\\t7065\\t1880', 'Anna\\tF\\t2604\\t1880',...]\n",
    "\n",
    "#表示に関わる処理 \n",
    "#表示する範囲は[-N,-1]になるようにループ範囲を調整\n",
    "for i in range(N,0,-1):\n",
    "    print(content[-i])\n",
    "\n",
    "f.close()"
   ]
  },
  {
   "cell_type": "markdown",
   "metadata": {},
   "source": [
    "--UNIXコマンドによる確認画面--\n",
    "・-n(op) 表示する行数を指定\n",
    "\n",
    "shota@LAPTOP-7H1S837B:~/py_venvs/nlp100/100knock2024/shota/chapter02$ tail -n 5 popular-names.txt\n",
    "Benjamin        M       13381   2018\n",
    "Elijah  M       12886   2018\n",
    "Lucas   M       12585   2018\n",
    "Mason   M       12435   2018\n",
    "Logan   M       12352   2018"
   ]
  }
 ],
 "metadata": {
  "kernelspec": {
   "display_name": ".nlp100",
   "language": "python",
   "name": "python3"
  },
  "language_info": {
   "codemirror_mode": {
    "name": "ipython",
    "version": 3
   },
   "file_extension": ".py",
   "mimetype": "text/x-python",
   "name": "python",
   "nbconvert_exporter": "python",
   "pygments_lexer": "ipython3",
   "version": "3.12.3"
  }
 },
 "nbformat": 4,
 "nbformat_minor": 2
}
