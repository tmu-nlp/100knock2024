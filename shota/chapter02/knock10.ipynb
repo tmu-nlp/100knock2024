{
 "cells": [
  {
   "cell_type": "code",
   "execution_count": 2,
   "metadata": {},
   "outputs": [
    {
     "name": "stdout",
     "output_type": "stream",
     "text": [
      "2780\n"
     ]
    }
   ],
   "source": [
    "#ファイルの読み込み\n",
    "f = open(\"popular-names.txt\",\"r\")\n",
    "\n",
    "#一行ずつ読み込んで、読み込めなくなるまで数える\n",
    "count = 0\n",
    "while True:\n",
    "    readed_line = f.readline()\n",
    "    if readed_line == \"\":\n",
    "        break\n",
    "    count += 1\n",
    "\n",
    "print(count)\n",
    "f.close()\n",
    "#closeし忘れると、リソースを食ったり、書き込みが正常に行われないなどが起こる"
   ]
  },
  {
   "cell_type": "markdown",
   "metadata": {},
   "source": [
    "--UNIXコマンドによる確認画面--\n",
    "\n",
    "(.venv1) shota@LAPTOP-7H1S837B:~/py_venvs/nlp100/100knock2024/shota/chapter02$ wc -l popular-names.txt\n",
    "2780 popular-names.txt"
   ]
  }
 ],
 "metadata": {
  "kernelspec": {
   "display_name": ".nlp100",
   "language": "python",
   "name": "python3"
  },
  "language_info": {
   "codemirror_mode": {
    "name": "ipython",
    "version": 3
   },
   "file_extension": ".py",
   "mimetype": "text/x-python",
   "name": "python",
   "nbconvert_exporter": "python",
   "pygments_lexer": "ipython3",
   "version": "3.12.3"
  }
 },
 "nbformat": 4,
 "nbformat_minor": 2
}
