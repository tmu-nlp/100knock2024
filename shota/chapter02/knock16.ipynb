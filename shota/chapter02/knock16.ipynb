{
 "cells": [
  {
   "cell_type": "code",
   "execution_count": 3,
   "metadata": {},
   "outputs": [
    {
     "name": "stdout",
     "output_type": "stream",
     "text": [
      "input N >> 1000\n"
     ]
    }
   ],
   "source": [
    "#入力受け取り\n",
    "print(\"input N >> \",end = \"\")\n",
    "N = int(input())\n",
    "print(N)\n",
    "\n",
    "#ファイルの読み込み\n",
    "f = open(\"popular-names.txt\",\"r\")\n",
    "\n",
    "#ファイルの分割処理\n",
    "count = 0\n",
    "while True:\n",
    "    count += 1\n",
    "    filename = \"split{0}.txt\".format(count)\n",
    "    w = open(filename,\"x\")\n",
    "    for i in range(N):\n",
    "        readed_line = f.readline()\n",
    "        w.write(readed_line)\n",
    "\n",
    "    w.close()\n",
    "    if readed_line == \"\":\n",
    "        break\n",
    "\n",
    "f.close()"
   ]
  },
  {
   "cell_type": "markdown",
   "metadata": {},
   "source": [
    "作成されたtxtファイルの上から5行を確認\n",
    "\n",
    "--split1.txt--\n",
    "Mary\tF\t7065\t1880\n",
    "Anna\tF\t2604\t1880\n",
    "Emma\tF\t2003\t1880\n",
    "Elizabeth\tF\t1939\t1880\n",
    "Minnie\tF\t1746\t1880\n",
    "\n",
    "--split2.txt--\n",
    "Mary\tF\t64146\t1930\n",
    "Betty\tF\t38234\t1930\n",
    "Dorothy\tF\t30409\t1930\n",
    "Helen\tF\t19914\t1930\n",
    "Margaret\tF\t18354\t1930\n",
    "\n",
    "--split3.txt--\n",
    "Jennifer\tF\t58375\t1980\n",
    "Amanda\tF\t35821\t1980\n",
    "Jessica\tF\t33921\t1980\n",
    "Melissa\tF\t31636\t1980\n",
    "Sarah\tF\t25755\t1980"
   ]
  },
  {
   "cell_type": "markdown",
   "metadata": {},
   "source": [
    "--UNIXコマンドによる確認画面--\n",
    "・-l(op) 分割する行数を指定\n",
    "\n",
    "shota@LAPTOP-7H1S837B:~/py_venvs/nlp100/100knock2024/shota/chapter02$ split -l 1000 popular-names.txt\n",
    "\n",
    "作成されたtxtファイルの上から5行を確認\n",
    "--xaa.txt--\n",
    "Mary\tF\t7065\t1880\n",
    "Anna\tF\t2604\t1880\n",
    "Emma\tF\t2003\t1880\n",
    "Elizabeth\tF\t1939\t1880\n",
    "Minnie\tF\t1746\t1880\n",
    "\n",
    "--xab.txt--\n",
    "Mary\tF\t64146\t1930\n",
    "Betty\tF\t38234\t1930\n",
    "Dorothy\tF\t30409\t1930\n",
    "Helen\tF\t19914\t1930\n",
    "Margaret\tF\t18354\t1930\n",
    "\n",
    "--xac.txt--\n",
    "Jennifer\tF\t58375\t1980\n",
    "Amanda\tF\t35821\t1980\n",
    "Jessica\tF\t33921\t1980\n",
    "Melissa\tF\t31636\t1980\n",
    "Sarah\tF\t25755\t1980"
   ]
  }
 ],
 "metadata": {
  "kernelspec": {
   "display_name": ".nlp100",
   "language": "python",
   "name": "python3"
  },
  "language_info": {
   "codemirror_mode": {
    "name": "ipython",
    "version": 3
   },
   "file_extension": ".py",
   "mimetype": "text/x-python",
   "name": "python",
   "nbconvert_exporter": "python",
   "pygments_lexer": "ipython3",
   "version": "3.12.3"
  }
 },
 "nbformat": 4,
 "nbformat_minor": 2
}
