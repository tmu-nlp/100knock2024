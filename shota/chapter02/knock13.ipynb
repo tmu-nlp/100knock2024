{
 "cells": [
  {
   "cell_type": "code",
   "execution_count": 3,
   "metadata": {},
   "outputs": [],
   "source": [
    "#ファイルの読み込み\n",
    "col1 = open(\"col1.txt\",\"r\")\n",
    "col2 = open(\"col2.txt\",\"r\")\n",
    "col3 = open(\"col3.txt\",\"x\")\n",
    "\n",
    "while True:\n",
    "    col1_line = col1.readline().strip(\"\\n\")\n",
    "    col2_line = col2.readline()\n",
    "    if col1_line == \"\" and col2_line == \"\":\n",
    "        break\n",
    "    col3.write(col1_line + \"\\t\" + col2_line)\n",
    "\n",
    "col1.close()\n",
    "col2.close()\n",
    "col3.close()"
   ]
  },
  {
   "cell_type": "markdown",
   "metadata": {},
   "source": [
    "--col3.txt--\n",
    "\n",
    "Mary\tF\n",
    "Anna\tF\n",
    "Emma    F\n",
    "Elizabeth\tF\n",
    "Minnie  F\n",
    "Margaret\tF\n",
    "Ida F               #テキストファイルで確認すると1行目と同じ位置に\"F\"が表示されている"
   ]
  },
  {
   "cell_type": "markdown",
   "metadata": {},
   "source": [
    "--UNIXコマンドによる確認画面--\n",
    "\n",
    "shota@LAPTOP-7H1S837B:~/py_venvs/nlp100/100knock2024/shota/chapter02$ paste -d \"\\t\" col1.txt col2.txt\n",
    "Mary    F\n",
    "Anna    F\n",
    "Emma    F\n",
    "Elizabeth       F\n",
    "Minnie  F\n",
    "Margaret        F\n",
    "Ida     F"
   ]
  }
 ],
 "metadata": {
  "kernelspec": {
   "display_name": ".nlp100",
   "language": "python",
   "name": "python3"
  },
  "language_info": {
   "codemirror_mode": {
    "name": "ipython",
    "version": 3
   },
   "file_extension": ".py",
   "mimetype": "text/x-python",
   "name": "python",
   "nbconvert_exporter": "python",
   "pygments_lexer": "ipython3",
   "version": "3.12.3"
  }
 },
 "nbformat": 4,
 "nbformat_minor": 2
}
