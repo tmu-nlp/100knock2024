{
 "cells": [
  {
   "cell_type": "code",
   "execution_count": 2,
   "metadata": {},
   "outputs": [
    {
     "name": "stderr",
     "output_type": "stream",
     "text": [
      "/usr/bin/xdg-open: 882: www-browser: not found\n",
      "/usr/bin/xdg-open: 882: links2: not found\n",
      "/usr/bin/xdg-open: 882: elinks: not found\n",
      "/usr/bin/xdg-open: 882: links: not found\n",
      "/usr/bin/xdg-open: 882: lynx: not found\n",
      "/usr/bin/xdg-open: 882: w3m: not found\n",
      "xdg-open: no method available for opening 'knock44.png'\n"
     ]
    }
   ],
   "source": [
    "#41で定義した関数を使用するためにimport\n",
    "from importnb import imports\n",
    "with imports('ipynb'):\n",
    "    import knock41 \n",
    "sentences = knock41.morphs_chunk()\n",
    "\n",
    "from graphviz import Digraph\n",
    "\n",
    "def draw_tree_graph(sentense):\n",
    "    g = Digraph(format='png',filename='knock44')                  #出力の形式を設定\n",
    "    g.attr('node',fontname = 'Meiryo')                            #属性を指定\n",
    "    for i,chunk in enumerate(sentense):\n",
    "        if chunk.dst != -1:\n",
    "            #係り元の文節を作成\n",
    "            modifier = ''.join([x.surface if x.pos != '記号' else '' for x in chunk.morphs]) + '({})'.format(i)     \n",
    "            #係り先の文節を作成           \n",
    "            modifiee = ''.join([x.surface if x.pos != '記号' else '' for x in sentense[chunk.dst].morphs]) + '({})'.format(chunk.dst)\n",
    "            g.edge(modifier,modifiee)\n",
    "    g.view()\n",
    "\n",
    "draw_tree_graph(sentences[1])\n"
   ]
  }
 ],
 "metadata": {
  "kernelspec": {
   "display_name": ".nlp",
   "language": "python",
   "name": "python3"
  },
  "language_info": {
   "codemirror_mode": {
    "name": "ipython",
    "version": 3
   },
   "file_extension": ".py",
   "mimetype": "text/x-python",
   "name": "python",
   "nbconvert_exporter": "python",
   "pygments_lexer": "ipython3",
   "version": "3.12.3"
  }
 },
 "nbformat": 4,
 "nbformat_minor": 2
}
