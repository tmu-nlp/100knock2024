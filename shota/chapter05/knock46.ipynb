{
 "cells": [
  {
   "cell_type": "code",
   "execution_count": 12,
   "metadata": {},
   "outputs": [
    {
     "name": "stdout",
     "output_type": "stream",
     "text": [
      "用いる\tを\t道具を\n",
      "する\tて を\t用いて 知能を\n",
      "指す\tを\t一分野を\n",
      "代わる\tに を\t人間に 知的行動を\n",
      "行う\tて に\t代わって コンピューターに\n",
      "する\tと も\t研究分野と も\n"
     ]
    }
   ],
   "source": [
    "#41で定義した関数を使用するためにimport\n",
    "from importnb import imports\n",
    "with imports('ipynb'):\n",
    "    import knock41 \n",
    "sentences = knock41.morphs_chunk()\n",
    "\n",
    "def frame(sentence):\n",
    "    particles = []\n",
    "    for chunk in sentence:                                       #文から文節を取り出す\n",
    "        for morph in chunk.morphs:                               #文節から単語を取り出す\n",
    "            if morph.pos == '動詞':                              #単語の品詞が動詞の時\n",
    "                if len(chunk.srcs) != 0:                         #その動詞の係り元の有無\n",
    "                    modifier = []                                #係り元の格リスト\n",
    "                    mod_dic = {}                                 #かかっている文節用辞書\n",
    "                    particle = ''                                #かかっている文節用\n",
    "                    for src in chunk.srcs:                       #係り元について\n",
    "                        for x in sentence[src].morphs:           #係り元の文節内の単語\n",
    "                            if x.pos != '記号':                  #記号でないとき\n",
    "                                particle += x.surface            #それを文節に追加\n",
    "                            if x.pos == '助詞':                  #助詞の時\n",
    "                                modifier.append(x.surface)       #係り元の格リストに追加\n",
    "                                mod_dic[x.surface] = particle    #格をキーとして文節を辞書に格納                                \n",
    "                                particle = ''                    #かかっている文節をリセット\n",
    "                        particle = ''\n",
    "                    if len(modifier) != 0:                #係り元の格が存在すれば\n",
    "                        modifier = sorted(list(set(modifier)))\n",
    "                        particles.append(morph.base + '\\t' + ' '.join(modifier) + '\\t' + ' '.join([mod_dic[x] for x in modifier]))  #それを出力用の配列に追加\n",
    "                break\n",
    "    return particles\n",
    "\n",
    "particles = frame(sentences[1])\n",
    "for particle in particles:\n",
    "    print(particle)"
   ]
  }
 ],
 "metadata": {
  "kernelspec": {
   "display_name": ".nlp",
   "language": "python",
   "name": "python3"
  },
  "language_info": {
   "codemirror_mode": {
    "name": "ipython",
    "version": 3
   },
   "file_extension": ".py",
   "mimetype": "text/x-python",
   "name": "python",
   "nbconvert_exporter": "python",
   "pygments_lexer": "ipython3",
   "version": "3.12.3"
  }
 },
 "nbformat": 4,
 "nbformat_minor": 2
}
