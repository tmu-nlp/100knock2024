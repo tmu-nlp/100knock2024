{
 "cells": [
  {
   "cell_type": "code",
   "execution_count": 3,
   "metadata": {},
   "outputs": [
    {
     "name": "stdout",
     "output_type": "stream",
     "text": [
      "道具を \t用いて\n",
      "知能を \t研究する\n",
      "一分野を \t指す\n",
      "知的行動を \t代わって\n",
      "人間に \t代わって\n",
      "コンピューターに \t行わせる\n",
      "研究分野とも \tされる\n"
     ]
    }
   ],
   "source": [
    "#41で定義した関数を使用するためにimport\n",
    "from importnb import imports\n",
    "with imports('ipynb'):\n",
    "    import knock41 \n",
    "sentences = knock41.morphs_chunk()\n",
    "\n",
    "def noun_verb(sentence):\n",
    "    for chunk in sentence:\n",
    "        if chunk.dst != -1:\n",
    "            modifier_pos = [x.pos for x in chunk.morphs]                       #係り元の品詞を取得\n",
    "            modifiee_pos = [x.pos for x in sentence[chunk.dst].morphs]         #係り先の品詞を取得\n",
    "            if '名詞' in modifier_pos and '動詞' in modifiee_pos:              #係り元に名詞、係り先に動詞が含まれているかを判定\n",
    "                #係り元の文節を作成\n",
    "                modifier = ''.join([x.surface if x.pos != '記号' else '' for x in chunk.morphs])     \n",
    "                #係り先の文節を作成           \n",
    "                modifiee = ''.join([x.surface if x.pos != '記号' else '' for x in sentence[chunk.dst].morphs])\n",
    "                #2つをつなげて表示\n",
    "                print(modifier + \" \\t\" + modifiee)\n",
    "\n",
    "noun_verb(sentences[1])"
   ]
  }
 ],
 "metadata": {
  "kernelspec": {
   "display_name": ".nlp",
   "language": "python",
   "name": "python3"
  },
  "language_info": {
   "codemirror_mode": {
    "name": "ipython",
    "version": 3
   },
   "file_extension": ".py",
   "mimetype": "text/x-python",
   "name": "python",
   "nbconvert_exporter": "python",
   "pygments_lexer": "ipython3",
   "version": "3.12.3"
  }
 },
 "nbformat": 4,
 "nbformat_minor": 2
}
