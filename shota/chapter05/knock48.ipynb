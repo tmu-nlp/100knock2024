{
 "cells": [
  {
   "cell_type": "code",
   "execution_count": 5,
   "metadata": {},
   "outputs": [
    {
     "name": "stdout",
     "output_type": "stream",
     "text": [
      "人工知能 -> 語 -> 研究分野とも -> される\n",
      "じんこうちのう -> 語 -> 研究分野とも -> される\n",
      "AI -> エーアイとは -> 語 -> 研究分野とも -> される\n",
      "エーアイとは -> 語 -> 研究分野とも -> される\n",
      "計算（）という -> コンピュータ（）という -> 道具を -> 用いて -> 研究する -> 計算機科学（）の -> 一分野を -> 指す -> 語 -> 研究分野とも -> される\n",
      "概念と -> コンピュータ（）という -> 道具を -> 用いて -> 研究する -> 計算機科学（）の -> 一分野を -> 指す -> 語 -> 研究分野とも -> される\n",
      "コンピュータ（）という -> 道具を -> 用いて -> 研究する -> 計算機科学（）の -> 一分野を -> 指す -> 語 -> 研究分野とも -> される\n",
      "道具を -> 用いて -> 研究する -> 計算機科学（）の -> 一分野を -> 指す -> 語 -> 研究分野とも -> される\n",
      "知能を -> 研究する -> 計算機科学（）の -> 一分野を -> 指す -> 語 -> 研究分野とも -> される\n",
      "研究する -> 計算機科学（）の -> 一分野を -> 指す -> 語 -> 研究分野とも -> される\n",
      "計算機科学（）の -> 一分野を -> 指す -> 語 -> 研究分野とも -> される\n",
      "一分野を -> 指す -> 語 -> 研究分野とも -> される\n",
      "語 -> 研究分野とも -> される\n",
      "言語の -> 推論 -> 知的行動を -> 代わって -> 行わせる -> 技術または -> 研究分野とも -> される\n",
      "理解や -> 推論 -> 知的行動を -> 代わって -> 行わせる -> 技術または -> 研究分野とも -> される\n",
      "推論 -> 知的行動を -> 代わって -> 行わせる -> 技術または -> 研究分野とも -> される\n",
      "問題解決などの -> 知的行動を -> 代わって -> 行わせる -> 技術または -> 研究分野とも -> される\n",
      "知的行動を -> 代わって -> 行わせる -> 技術または -> 研究分野とも -> される\n",
      "人間に -> 代わって -> 行わせる -> 技術または -> 研究分野とも -> される\n",
      "コンピューターに -> 行わせる -> 技術または -> 研究分野とも -> される\n",
      "技術または -> 研究分野とも -> される\n",
      "計算機コンピュータによる -> 情報処理システムの -> 実現に関する -> 研究分野とも -> される\n",
      "知的な -> 情報処理システムの -> 実現に関する -> 研究分野とも -> される\n",
      "情報処理システムの -> 実現に関する -> 研究分野とも -> される\n",
      "設計や -> 実現に関する -> 研究分野とも -> される\n",
      "実現に関する -> 研究分野とも -> される\n",
      "研究分野とも -> される\n"
     ]
    }
   ],
   "source": [
    "#41で定義した関数を使用するためにimport\n",
    "from importnb import imports\n",
    "with imports('ipynb'):\n",
    "    import knock41 \n",
    "sentences = knock41.morphs_chunk()\n",
    "\n",
    "def path (sentence):\n",
    "    for chunk in sentence:                                                                                          #文から文節を取り出す\n",
    "        modifier_path = [x.pos for x in chunk.morphs]                                                               #文節内の品詞を保存する配列\n",
    "        if '名詞' in modifier_path and chunk.dst != -1:                                                             #文節の中に名詞が含まれていて、かつその文節がどこかに係っているとき\n",
    "            path = [''.join([x.surface if x.pos != '記号' else '' for x in chunk.morphs])]                          #文節内の記号以外の単語の表層形をpathとする\n",
    "            nxt = chunk.dst                                                                                         #文節が係っている先をnxtとする\n",
    "            while nxt != -1:                                                                                        #係り先がなくなるまで\n",
    "                path.append(''.join([x.surface if x.pos != '記号' else '' for x in sentence[nxt].morphs]))          #係り先文節内の記号以外の単語をpathに追加する\n",
    "                nxt = sentence[nxt].dst                                                                             #nxtの更新\n",
    "            print(' -> '.join(path))                                                                                #pathを -> でつなげて表示\n",
    "\n",
    "path(sentences[1])          "
   ]
  }
 ],
 "metadata": {
  "kernelspec": {
   "display_name": ".nlp",
   "language": "python",
   "name": "python3"
  },
  "language_info": {
   "codemirror_mode": {
    "name": "ipython",
    "version": 3
   },
   "file_extension": ".py",
   "mimetype": "text/x-python",
   "name": "python",
   "nbconvert_exporter": "python",
   "pygments_lexer": "ipython3",
   "version": "3.12.3"
  }
 },
 "nbformat": 4,
 "nbformat_minor": 2
}
