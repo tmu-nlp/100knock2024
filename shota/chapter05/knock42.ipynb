{
 "cells": [
  {
   "cell_type": "code",
   "execution_count": 2,
   "metadata": {},
   "outputs": [
    {
     "name": "stdout",
     "output_type": "stream",
     "text": [
      "人工知能\t語\n",
      "じんこうちのう\t語\n",
      "AI\tエーアイとは\n",
      "エーアイとは\t語\n",
      "計算（）という\tコンピュータ（）という\n",
      "概念と\tコンピュータ（）という\n",
      "コンピュータ（）という\t道具を\n",
      "道具を\t用いて\n",
      "用いて\t研究する\n",
      "知能を\t研究する\n",
      "研究する\t計算機科学（）の\n",
      "計算機科学（）の\t一分野を\n",
      "一分野を\t指す\n",
      "指す\t語\n",
      "語\t研究分野とも\n",
      "言語の\t推論\n",
      "理解や\t推論\n",
      "推論\t知的行動を\n",
      "問題解決などの\t知的行動を\n",
      "知的行動を\t代わって\n",
      "人間に\t代わって\n",
      "代わって\t行わせる\n",
      "コンピューターに\t行わせる\n",
      "行わせる\t技術または\n",
      "技術または\t研究分野とも\n",
      "計算機コンピュータによる\t情報処理システムの\n",
      "知的な\t情報処理システムの\n",
      "情報処理システムの\t実現に関する\n",
      "設計や\t実現に関する\n",
      "実現に関する\t研究分野とも\n",
      "研究分野とも\tされる\n"
     ]
    }
   ],
   "source": [
    "#41で定義した関数を使用するためにimport\n",
    "from importnb import imports\n",
    "with imports('ipynb'):\n",
    "    import knock41\n",
    "sentences = knock41.morphs_chunk()\n",
    "\n",
    "def clause(sentence):\n",
    "    for chunk in sentence:\n",
    "        if chunk.dst != -1:\n",
    "            #係り元の文節を作成\n",
    "            modifier = ''.join([x.surface if x.pos != '記号' else '' for x in chunk.morphs])     \n",
    "            #係り先の文節を作成           \n",
    "            modifiee = ''.join([x.surface if x.pos != '記号' else '' for x in sentence[chunk.dst].morphs])\n",
    "            #2つをつなげて表示\n",
    "            print(modifier + \"\\t\" + modifiee)\n",
    "\n",
    "clause(sentences[1])\n",
    "#()は固有名詞判定のため非表示にならない"
   ]
  }
 ],
 "metadata": {
  "kernelspec": {
   "display_name": ".nlp",
   "language": "python",
   "name": "python3"
  },
  "language_info": {
   "codemirror_mode": {
    "name": "ipython",
    "version": 3
   },
   "file_extension": ".py",
   "mimetype": "text/x-python",
   "name": "python",
   "nbconvert_exporter": "python",
   "pygments_lexer": "ipython3",
   "version": "3.12.3"
  }
 },
 "nbformat": 4,
 "nbformat_minor": 2
}
