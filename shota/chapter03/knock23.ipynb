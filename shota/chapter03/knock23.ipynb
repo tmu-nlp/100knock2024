{
 "cells": [
  {
   "cell_type": "code",
   "execution_count": 2,
   "metadata": {},
   "outputs": [
    {
     "name": "stdout",
     "output_type": "stream",
     "text": [
      "国名 1\n",
      "歴史 1\n",
      "地理 1\n",
      "主要都市 2\n",
      "気候 2\n",
      "政治 1\n",
      "元首 2\n",
      "法 2\n",
      "内政 2\n",
      "地方行政区分 2\n",
      "外交・軍事 2\n",
      "経済 1\n",
      "鉱業 2\n",
      "農業 2\n",
      "貿易 2\n",
      "不動産 2\n",
      "通貨 2\n",
      "企業 2\n",
      "通信 3\n",
      "交通 1\n",
      "道路 2\n",
      "鉄道 2\n",
      "海運 2\n",
      "航空 2\n",
      "科学技術 1\n",
      "国民 1\n",
      "言語 2\n",
      "宗教 2\n",
      "婚姻 2\n",
      "移住 2\n",
      "教育 2\n",
      "医療 2\n",
      "文化 1\n",
      "食文化 2\n",
      "文学 2\n",
      "哲学 2\n",
      "音楽 2\n",
      "映画 2\n",
      "コメディ 2\n",
      "国花 2\n",
      "世界遺産 2\n",
      "祝祭日 2\n",
      "クリケット 3\n",
      "競馬 3\n",
      "野球 3\n",
      "脚注 1\n",
      "関連項目 1\n",
      "外部リンク 1\n"
     ]
    }
   ],
   "source": [
    "import pandas as pd\n",
    "import re\n",
    "#イギリスの記事を取得\n",
    "df = pd.read_json('jawiki-country.json.gz',lines=True)\n",
    "uk = df.query('title == \"イギリス\"')['text'].values[0]\n",
    "\n",
    "#ukの中身を1行ずつ配列に格納\n",
    "uk_list = uk.split(\"\\n\")\n",
    "\n",
    "#uk_listから1行ずつ取り出してカテゴリー名を宣言している確認\n",
    "#[ぁ-んァ-ヶｱ-ﾝﾞﾟ一-龠・a-zA-Z0-9] 順に、ひらがな、カタカナ、半角カタカナ、漢字、小文字アルファベット、大文字アルファベット、数字\n",
    "#re.searchで、=で始まって=で終わる部分文字列を探し、group()で取得\n",
    "#re.subで取り出した部分文字列の\"=\"を削除し、count()をつ使って\"=\"の数を取得\n",
    "for column in uk_list:\n",
    "    if re.search(r'=+[ぁ-んァ-ヶｱ-ﾝﾞﾟ一-龠・a-zA-Z0-9]+=+', column):\n",
    "        section = re.search(r'=+[ぁ-んァ-ヶｱ-ﾝﾞﾟ一-龠・a-zA-Z0-9]+=+',column).group()\n",
    "        print(re.sub(\"=\",\"\",section),section.count(\"=\")//2-1)\n"
   ]
  }
 ],
 "metadata": {
  "kernelspec": {
   "display_name": ".nlp100",
   "language": "python",
   "name": "python3"
  },
  "language_info": {
   "codemirror_mode": {
    "name": "ipython",
    "version": 3
   },
   "file_extension": ".py",
   "mimetype": "text/x-python",
   "name": "python",
   "nbconvert_exporter": "python",
   "pygments_lexer": "ipython3",
   "version": "3.12.3"
  }
 },
 "nbformat": 4,
 "nbformat_minor": 2
}
