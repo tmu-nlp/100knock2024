{
 "cells": [
  {
   "cell_type": "code",
   "execution_count": 41,
   "metadata": {},
   "outputs": [
    {
     "name": "stdout",
     "output_type": "stream",
     "text": [
      "{{Sisterlinks|commons=United Kingdom|commonscat=United Kingdom|s=Category:イギリス|n=Category:イギリス|voy=United Kingdom}}\n",
      "[[Category:イギリス|*]]\n",
      "[[Category:イギリス連邦加盟国]]\n",
      "[[Category:英連邦王国|*]]\n",
      "[[Category:G8加盟国]]\n",
      "[[Category:欧州連合加盟国|元]]\n",
      "[[Category:海洋国家]]\n",
      "[[Category:現存する君主国]]\n",
      "[[Category:島国]]\n",
      "[[Category:1801年に成立した国家・領域]]\n"
     ]
    }
   ],
   "source": [
    "import pandas as pd\n",
    "import re\n",
    "#イギリスの記事を取得\n",
    "df = pd.read_json('jawiki-country.json.gz',lines=True)\n",
    "uk = df.query('title == \"イギリス\"')['text'].values[0]\n",
    "\n",
    "#ukの中身を1行ずつ配列に格納\n",
    "uk_list = uk.split(\"\\n\")\n",
    "#['{{redirect|UK}}', '{{redirect|英国|春秋時代の諸侯国|英 (春秋)}}', '{{O...\n",
    "\n",
    "#uk_listから1行ずつ取り出してカテゴリー名を宣言している確認\n",
    "#.* 改行以外の任意の文字が0回以上繰り返される\n",
    "#match 文字列の先頭からマッチするかを確認、マッチすれば表示\n",
    "#(r'...)のrはraw string表し、\"\\\"がエスケープ文字にならない\n",
    "for column in uk_list:\n",
    "    if re.match(r'.*Category:.*', column):\n",
    "        print(column)"
   ]
  }
 ],
 "metadata": {
  "kernelspec": {
   "display_name": ".nlp100",
   "language": "python",
   "name": "python3"
  },
  "language_info": {
   "codemirror_mode": {
    "name": "ipython",
    "version": 3
   },
   "file_extension": ".py",
   "mimetype": "text/x-python",
   "name": "python",
   "nbconvert_exporter": "python",
   "pygments_lexer": "ipython3",
   "version": "3.12.3"
  }
 },
 "nbformat": 4,
 "nbformat_minor": 2
}
