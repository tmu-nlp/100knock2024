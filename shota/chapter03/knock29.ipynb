{
 "cells": [
  {
   "cell_type": "code",
   "execution_count": 16,
   "metadata": {},
   "outputs": [
    {
     "name": "stdout",
     "output_type": "stream",
     "text": [
      "https://upload.wikimedia.org/wikipedia/en/a/ae/Flag_of_the_United_Kingdom.svg\n"
     ]
    }
   ],
   "source": [
    "import pandas as pd\n",
    "import re\n",
    "import requests\n",
    "\n",
    "#イギリスの記事を取得\n",
    "df = pd.read_json('jawiki-country.json.gz',lines=True)\n",
    "uk = df.query('title == \"イギリス\"')['text'].values[0]\n",
    "\n",
    "#ukの中身を1行ずつ配列に格納\n",
    "uk_list = uk.split(\"\\n\")\n",
    "\n",
    "#uk_listから1行ずつ取り出してカテゴリー名を宣言している確認\n",
    "#re.searchで、\"|\"から始まり、\" =\"が間にあるような文字列を取得\n",
    "    #例) |略名  =イギリス\n",
    "#re.subで(\\s.*=.+ or \\|) を削除してkeyを取得し、valueは('\\|.* =' or ' or [+ or ]+)を削除して取得する\n",
    "dic = {}\n",
    "for column in uk_list:\n",
    "    if re.search(r'\\|(.+?)\\s=\\s*(.+)', column):\n",
    "        temp = re.search(r'\\|(.+?)\\s=\\s*(.+)',column).group()\n",
    "        dic[re.sub(r'\\s.*=.+|\\|','',temp)] = re.sub(r'\\|.*\\s=|\\'|\\[+|\\]|<.*>','',temp)\n",
    "        \n",
    "#--------------------------------------------------------ここまではknock28と一緒--------------------------------------------------------------\n",
    "\n",
    "#webAPIは、ウェブサービスが他のプログラムに対して自分の機能やデータを提供するために使われる\n",
    "#Session()がなくてもアクセスできるが、使わないと都度ログイン処理が必要になり、サーバに負荷がかかったり、パフォーマンスが低下したりする\n",
    "S = requests.Session()\n",
    "\n",
    "URL = \"https://en.wikipedia.org/w/api.php\"\n",
    " \n",
    "PARAMS = {\n",
    "    \"action\": \"query\",\n",
    "    \"format\": \"json\",\n",
    "    \"prop\": \"imageinfo\",\n",
    "    \"titles\": f\"File:{dic['国旗画像']}\",\n",
    "    \"iiprop\":\"url\"\n",
    "}\n",
    "\n",
    "#getメソッドでAPIからデータを取得、返り値はレスポンスオブジェクト、URL属性でアクセスするURLを指定、paramsでアクセスしたいURLにパラメータを付与できる(?より後がパラメータ)\n",
    "R = S.get(url=URL, params=PARAMS)\n",
    "#print(R.url),                  https://en.wikipedia.org/w/api.php?action=query&format=json&prop=imageinfo&titles=File%3A+Flag+of+the+United+Kingdom.svg&iiprop=url　(PAGESの情報が記載されている)\n",
    "#paramsを引数として渡さないとき, https://en.wikipedia.org/w/api.php\n",
    "\n",
    "#jsonメソッドでpythonの辞書オブジェクトに変換\n",
    "DATA = R.json()\n",
    "\n",
    "PAGES = DATA[\"query\"][\"pages\"]\n",
    "# print(PAGES)\n",
    "# {'23473560': {'pageid': 23473560, 'ns': 6, 'title': 'File:Flag of the United Kingdom.svg', 'imagerepository': 'local', 'imageinfo': [{'url': 'https://upload.wikimedia.org/wikipedia/en/a/ae/Flag_of_the_United_Kingdom.svg', 'descriptionurl': 'https://en.wikipedia.org/wiki/File:Flag_of_the_United_Kingdom.svg', 'descriptionshorturl': 'https://en.wikipedia.org/w/index.php?curid=23473560'}]}}\n",
    "\n",
    "for k, v in PAGES.items():\n",
    "    #print(v)、辞書型の入れ子になっている\n",
    "    print(v[\"imageinfo\"][0][\"url\"])"
   ]
  }
 ],
 "metadata": {
  "kernelspec": {
   "display_name": ".nlp",
   "language": "python",
   "name": "python3"
  },
  "language_info": {
   "codemirror_mode": {
    "name": "ipython",
    "version": 3
   },
   "file_extension": ".py",
   "mimetype": "text/x-python",
   "name": "python",
   "nbconvert_exporter": "python",
   "pygments_lexer": "ipython3",
   "version": "3.12.3"
  }
 },
 "nbformat": 4,
 "nbformat_minor": 2
}
