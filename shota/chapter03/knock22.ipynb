{
 "cells": [
  {
   "cell_type": "code",
   "execution_count": 1,
   "metadata": {},
   "outputs": [
    {
     "name": "stdout",
     "output_type": "stream",
     "text": [
      "イギリス\n",
      "イギリス\n",
      "イギリス連邦加盟国\n",
      "英連邦王国\n",
      "G8加盟国\n",
      "欧州連合加盟国\n",
      "海洋国家\n",
      "現存する君主国\n",
      "島国\n",
      "1801年に成立した国家・領域\n"
     ]
    }
   ],
   "source": [
    "import pandas as pd\n",
    "import re\n",
    "#イギリスの記事を取得\n",
    "df = pd.read_json('jawiki-country.json.gz',lines=True)\n",
    "uk = df.query('title == \"イギリス\"')['text'].values[0]\n",
    "\n",
    "#ukの中身を1行ずつ配列に格納\n",
    "uk_list = uk.split(\"\\n\")\n",
    "#['{{redirect|UK}}', '{{redirect|英国|春秋時代の諸侯国|英 (春秋)}}', '{{O...\n",
    "\n",
    "#uk_listから1行ずつ取り出してカテゴリー名を宣言している確認\n",
    "#[ぁ-んァ-ヶｱ-ﾝﾞﾟ一-龠・a-zA-Z0-9] 順に、ひらがな、カタカナ、半角カタカナ、漢字、小文字アルファベット、大文字アルファベット、数字\n",
    "#re.searchで、Category:で始まり上記の文字が1つ以上連続している部分文字列を探し、group()で取得\n",
    "#lstrip() で文字列の左から Category: を切り取って表示する\n",
    "for column in uk_list:\n",
    "    if re.search(r'Category:[ぁ-んァ-ヶｱ-ﾝﾞﾟ一-龠・a-zA-Z0-9]+', column):\n",
    "        part_of_sentence = re.search(r'Category:[ぁ-んァ-ヶｱ-ﾝﾞﾟ一-龠・a-zA-Z0-9]+',column).group()\n",
    "        print(part_of_sentence.lstrip(\"Category:\"))"
   ]
  }
 ],
 "metadata": {
  "kernelspec": {
   "display_name": ".nlp100",
   "language": "python",
   "name": "python3"
  },
  "language_info": {
   "codemirror_mode": {
    "name": "ipython",
    "version": 3
   },
   "file_extension": ".py",
   "mimetype": "text/x-python",
   "name": "python",
   "nbconvert_exporter": "python",
   "pygments_lexer": "ipython3",
   "version": "3.12.3"
  }
 },
 "nbformat": 4,
 "nbformat_minor": 2
}
