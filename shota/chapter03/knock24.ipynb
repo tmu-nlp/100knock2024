{
 "cells": [
  {
   "cell_type": "code",
   "execution_count": 13,
   "metadata": {},
   "outputs": [
    {
     "name": "stdout",
     "output_type": "stream",
     "text": [
      "Royal Coat of Arms of the United Kingdom.svg\n",
      "United States Navy Band - God Save the Queen.ogg\n",
      "Descriptio Prime Tabulae Europae.jpg\n",
      "Lenepveu, Jeanne d'Arc au siège d'Orléans.jpg\n",
      "London.bank\n",
      "Battle of Waterloo 1815.PNG\n",
      "Uk topo en.jpg\n",
      "BenNevis2005.jpg\n",
      "Population density UK 2011 census.png\n",
      "2019 Greenwich Peninsula & Canary Wharf.jpg\n",
      "Leeds CBD at night.jpg\n",
      "Palace of Westminster, London - Feb 2007.jpg\n",
      "Scotland Parliament Holyrood.jpg\n",
      "Donald Trump and Theresa May (33998675310) (cropped).jpg\n",
      "Soldiers Trooping the Colour, 16th June 2007.jpg\n",
      "City of London skyline from London City Hall - Oct 2008.jpg\n",
      "Oil platform in the North SeaPros.jpg\n",
      "Eurostar at St Pancras Jan 2008.jpg\n",
      "Heathrow Terminal 5C Iwelumo-1.jpg\n",
      "UKpop.svg\n",
      "Anglospeak.svg\n",
      "Royal Aberdeen Children's Hospital.jpg\n",
      "CHANDOS3.jpg\n",
      "The Fabs.JPG\n",
      "Wembley Stadium, illuminated.jpg\n"
     ]
    }
   ],
   "source": [
    "import pandas as pd\n",
    "import re\n",
    "#イギリスの記事を取得\n",
    "df = pd.read_json('jawiki-country.json.gz',lines=True)\n",
    "uk = df.query('title == \"イギリス\"')['text'].values[0]\n",
    "\n",
    "#ukの中身を1行ずつ配列に格納\n",
    "uk_list = uk.split(\"\\n\")\n",
    "\n",
    "#uk_listから1行ずつ取り出してカテゴリー名を宣言している確認\n",
    "#re.searchで、\"ファイル\"から始まり\".aaaa\"で終わるような文字列を取得\n",
    "    #例) ファイル:Royal Coat of Arms of the United Kingdom.svg\n",
    "#.+?は .+ が0回か1回繰り返されたものを表す\n",
    "#re.subで取り出した部分文字列の\"ファイル:\"を削除して表示\n",
    "for column in uk_list:\n",
    "    if re.search(r'ファイル.+?\\.[a-zA-Z]{3,4}', column):\n",
    "        mediafile = re.search(r'ファイル:.+?\\.[a-zA-Z]{3,4}',column).group()\n",
    "        print(re.sub('.*ファイル:','',mediafile))\n"
   ]
  }
 ],
 "metadata": {
  "kernelspec": {
   "display_name": ".nlp100",
   "language": "python",
   "name": "python3"
  },
  "language_info": {
   "codemirror_mode": {
    "name": "ipython",
    "version": 3
   },
   "file_extension": ".py",
   "mimetype": "text/x-python",
   "name": "python",
   "nbconvert_exporter": "python",
   "pygments_lexer": "ipython3",
   "version": "3.12.3"
  }
 },
 "nbformat": 4,
 "nbformat_minor": 2
}
