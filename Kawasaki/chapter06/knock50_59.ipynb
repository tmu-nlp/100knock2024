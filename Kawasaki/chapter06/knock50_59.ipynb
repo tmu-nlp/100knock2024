{
  "nbformat": 4,
  "nbformat_minor": 0,
  "metadata": {
    "colab": {
      "provenance": [],
      "gpuType": "T4"
    },
    "kernelspec": {
      "name": "python3",
      "display_name": "Python 3"
    },
    "language_info": {
      "name": "python"
    },
    "accelerator": "GPU"
  },
  "cells": [
    {
      "cell_type": "markdown",
      "source": [
        "# 第6章: 機械学習\n",
        "本章では，Fabio Gasparetti氏が公開しているNews Aggregator Data Setを用い，ニュース記事の見出しを「ビジネス」「科学技術」「エンターテイメント」「健康」のカテゴリに分類するタスク（カテゴリ分類）に取り組む．"
      ],
      "metadata": {
        "id": "w0n4I7ohChWM"
      }
    },
    {
      "cell_type": "code",
      "execution_count": null,
      "metadata": {
        "id": "hn3Pv-Jn8qG9",
        "colab": {
          "base_uri": "https://localhost:8080/"
        },
        "outputId": "c4ef05e5-5681-4e4d-d498-12805b1d020a"
      },
      "outputs": [
        {
          "output_type": "stream",
          "name": "stdout",
          "text": [
            "Mounted at /content/drive\n"
          ]
        }
      ],
      "source": [
        "from google.colab import drive\n",
        "drive.mount('/content/drive')"
      ]
    },
    {
      "cell_type": "code",
      "source": [
        "!pwd"
      ],
      "metadata": {
        "colab": {
          "base_uri": "https://localhost:8080/"
        },
        "id": "Ja3jURXf-Iej",
        "outputId": "a5bb4a1b-52c9-4e35-98b4-f8a35c8bfdbb"
      },
      "execution_count": null,
      "outputs": [
        {
          "output_type": "stream",
          "name": "stdout",
          "text": [
            "/content\n"
          ]
        }
      ]
    },
    {
      "cell_type": "code",
      "source": [
        "%cd '/content/drive/MyDrive/NLP100knock2024/chapter06/'"
      ],
      "metadata": {
        "colab": {
          "base_uri": "https://localhost:8080/"
        },
        "id": "1gdiMKi0-Q6a",
        "outputId": "b9bb47d1-1660-4d05-dec1-91afac16f495"
      },
      "execution_count": null,
      "outputs": [
        {
          "output_type": "stream",
          "name": "stdout",
          "text": [
            "/content/drive/MyDrive/NLP100knock2024/chapter06\n"
          ]
        }
      ]
    },
    {
      "cell_type": "code",
      "source": [
        "!pwd"
      ],
      "metadata": {
        "colab": {
          "base_uri": "https://localhost:8080/"
        },
        "id": "0XaP-iz2-7zH",
        "outputId": "fdae5aa6-fd53-4a16-ded1-ecd1ac64c1d5"
      },
      "execution_count": null,
      "outputs": [
        {
          "output_type": "stream",
          "name": "stdout",
          "text": [
            "/content/drive/MyDrive/NLP100knock2024/chapter06\n"
          ]
        }
      ]
    },
    {
      "cell_type": "code",
      "source": [
        "!sed -e 's/\"/'\\''/g' ./newsCorpora.csv > ./newsCorpora_re.csv"
      ],
      "metadata": {
        "id": "0GXZh4nJJJnt"
      },
      "execution_count": null,
      "outputs": []
    },
    {
      "cell_type": "markdown",
      "source": [
        "## 50. データの入手・整形\n",
        "News Aggregator Data Setをダウンロードし、以下の要領で学習データ（train.txt），検証データ（valid.txt），評価データ（test.txt）を作成せよ．\n",
        "\n",
        "1. ダウンロードしたzipファイルを解凍し，readme.txtの説明を読む．\n",
        "2. 情報源（publisher）が”Reuters”, “Huffington Post”, “Businessweek”, “Contactmusic.com”, “Daily Mail”の事例（記事）のみを抽出する．\n",
        "3. 抽出された事例をランダムに並び替える．\n",
        "4. 抽出された事例の80%を学習データ，残りの10%ずつを検証データと評価データに分割し，それぞれtrain.txt，valid.txt，test.txtというファイル名で保存する．ファイルには，１行に１事例を書き出すこととし，カテゴリ名と記事見出しのタブ区切り形式とせよ（このファイルは後に問題70で再利用する）．\n",
        "\n",
        "学習データと評価データを作成したら，各カテゴリの事例数を確認せよ．"
      ],
      "metadata": {
        "id": "40GIIxWtCrr0"
      }
    },
    {
      "cell_type": "code",
      "source": [
        "import pandas as pd\n",
        "import numpy as np\n",
        "from sklearn.model_selection import train_test_split\n",
        "\n",
        "\n",
        "extract_list = ['Reuters', 'Huffington Post',\n",
        "                'Businessweek', 'Contactmusic.com', 'Daily Mail']\n",
        "header_name = ['ID', 'TITLE', 'URL', 'PUBLISHER', 'CATEGORY', 'STORY', 'HOSTNAME', 'TIMESTAMP'\n",
        "               ]\n",
        "\n",
        "# pandasで読み込み\n",
        "# headerはなし．分割はタブ．headerの名前はheader_name．\n",
        "df = pd.read_csv('./newsCorpora_re.csv', header=None,\n",
        "                 sep='\\t', names=header_name)\n",
        "\n",
        "# 抽出\n",
        "# dfの'PUBLISHER'の要素に対しextract_listの要素である場合は，'TITLE'と'CATEGORY'を抽出\n",
        "df_ex = df.loc[df['PUBLISHER'].isin(extract_list), ['TITLE', 'CATEGORY']]\n",
        "\n",
        "data_train, data_other = train_test_split(\n",
        "    df_ex, test_size=0.2, random_state=20010101)\n",
        "data_valid, data_test = train_test_split(\n",
        "    data_other, test_size=0.5, random_state=20010101)\n",
        "\n",
        "data_train.to_csv(\"train.txt\", sep=\"\\t\", index=False, header=False)\n",
        "data_valid.to_csv(\"valid.txt\", sep=\"\\t\", index=False, header=False)\n",
        "data_test.to_csv(\"test.txt\", sep=\"\\t\", index=False, header=False)\n",
        "\n",
        "print(\"train_data\")\n",
        "print(data_train['CATEGORY'].value_counts())\n",
        "print(\"valid_data\")\n",
        "print(data_valid['CATEGORY'].value_counts())\n",
        "print(\"test_data\")\n",
        "print(data_test['CATEGORY'].value_counts())"
      ],
      "metadata": {
        "colab": {
          "base_uri": "https://localhost:8080/"
        },
        "id": "vrcDLehk-9J-",
        "outputId": "4578268b-5374-4535-b0fd-c2df094c7482"
      },
      "execution_count": null,
      "outputs": [
        {
          "output_type": "stream",
          "name": "stdout",
          "text": [
            "train_data\n",
            "CATEGORY\n",
            "b    4503\n",
            "e    4239\n",
            "t    1228\n",
            "m     714\n",
            "Name: count, dtype: int64\n",
            "valid_data\n",
            "CATEGORY\n",
            "b    568\n",
            "e    527\n",
            "t    142\n",
            "m     99\n",
            "Name: count, dtype: int64\n",
            "test_data\n",
            "CATEGORY\n",
            "b    556\n",
            "e    528\n",
            "t    155\n",
            "m     97\n",
            "Name: count, dtype: int64\n"
          ]
        }
      ]
    },
    {
      "cell_type": "code",
      "source": [
        "df.head()"
      ],
      "metadata": {
        "colab": {
          "base_uri": "https://localhost:8080/",
          "height": 467
        },
        "id": "wKmixsxU8vWv",
        "outputId": "f79ee1a8-7186-427d-a61c-b517aeb2447b"
      },
      "execution_count": null,
      "outputs": [
        {
          "output_type": "execute_result",
          "data": {
            "text/plain": [
              "   ID                                              TITLE  \\\n",
              "0   1  Fed official says weak data caused by weather,...   \n",
              "1   2  Fed's Charles Plosser sees high bar for change...   \n",
              "2   3  US open: Stocks fall after Fed official hints ...   \n",
              "3   4  Fed risks falling 'behind the curve', Charles ...   \n",
              "4   5  Fed's Plosser: Nasty Weather Has Curbed Job Gr...   \n",
              "\n",
              "                                                 URL          PUBLISHER  \\\n",
              "0  http://www.latimes.com/business/money/la-fi-mo...  Los Angeles Times   \n",
              "1  http://www.livemint.com/Politics/H2EvwJSK2VE6O...           Livemint   \n",
              "2  http://www.ifamagazine.com/news/us-open-stocks...       IFA Magazine   \n",
              "3  http://www.ifamagazine.com/news/fed-risks-fall...       IFA Magazine   \n",
              "4  http://www.moneynews.com/Economy/federal-reser...          Moneynews   \n",
              "\n",
              "  CATEGORY                          STORY             HOSTNAME      TIMESTAMP  \n",
              "0        b  ddUyU0VZz0BRneMioxUPQVP6sIxvM      www.latimes.com  1394470370698  \n",
              "1        b  ddUyU0VZz0BRneMioxUPQVP6sIxvM     www.livemint.com  1394470371207  \n",
              "2        b  ddUyU0VZz0BRneMioxUPQVP6sIxvM  www.ifamagazine.com  1394470371550  \n",
              "3        b  ddUyU0VZz0BRneMioxUPQVP6sIxvM  www.ifamagazine.com  1394470371793  \n",
              "4        b  ddUyU0VZz0BRneMioxUPQVP6sIxvM    www.moneynews.com  1394470372027  "
            ],
            "text/html": [
              "\n",
              "  <div id=\"df-ac0fb2af-65d7-4c89-9fb6-5c986e7a60af\" class=\"colab-df-container\">\n",
              "    <div>\n",
              "<style scoped>\n",
              "    .dataframe tbody tr th:only-of-type {\n",
              "        vertical-align: middle;\n",
              "    }\n",
              "\n",
              "    .dataframe tbody tr th {\n",
              "        vertical-align: top;\n",
              "    }\n",
              "\n",
              "    .dataframe thead th {\n",
              "        text-align: right;\n",
              "    }\n",
              "</style>\n",
              "<table border=\"1\" class=\"dataframe\">\n",
              "  <thead>\n",
              "    <tr style=\"text-align: right;\">\n",
              "      <th></th>\n",
              "      <th>ID</th>\n",
              "      <th>TITLE</th>\n",
              "      <th>URL</th>\n",
              "      <th>PUBLISHER</th>\n",
              "      <th>CATEGORY</th>\n",
              "      <th>STORY</th>\n",
              "      <th>HOSTNAME</th>\n",
              "      <th>TIMESTAMP</th>\n",
              "    </tr>\n",
              "  </thead>\n",
              "  <tbody>\n",
              "    <tr>\n",
              "      <th>0</th>\n",
              "      <td>1</td>\n",
              "      <td>Fed official says weak data caused by weather,...</td>\n",
              "      <td>http://www.latimes.com/business/money/la-fi-mo...</td>\n",
              "      <td>Los Angeles Times</td>\n",
              "      <td>b</td>\n",
              "      <td>ddUyU0VZz0BRneMioxUPQVP6sIxvM</td>\n",
              "      <td>www.latimes.com</td>\n",
              "      <td>1394470370698</td>\n",
              "    </tr>\n",
              "    <tr>\n",
              "      <th>1</th>\n",
              "      <td>2</td>\n",
              "      <td>Fed's Charles Plosser sees high bar for change...</td>\n",
              "      <td>http://www.livemint.com/Politics/H2EvwJSK2VE6O...</td>\n",
              "      <td>Livemint</td>\n",
              "      <td>b</td>\n",
              "      <td>ddUyU0VZz0BRneMioxUPQVP6sIxvM</td>\n",
              "      <td>www.livemint.com</td>\n",
              "      <td>1394470371207</td>\n",
              "    </tr>\n",
              "    <tr>\n",
              "      <th>2</th>\n",
              "      <td>3</td>\n",
              "      <td>US open: Stocks fall after Fed official hints ...</td>\n",
              "      <td>http://www.ifamagazine.com/news/us-open-stocks...</td>\n",
              "      <td>IFA Magazine</td>\n",
              "      <td>b</td>\n",
              "      <td>ddUyU0VZz0BRneMioxUPQVP6sIxvM</td>\n",
              "      <td>www.ifamagazine.com</td>\n",
              "      <td>1394470371550</td>\n",
              "    </tr>\n",
              "    <tr>\n",
              "      <th>3</th>\n",
              "      <td>4</td>\n",
              "      <td>Fed risks falling 'behind the curve', Charles ...</td>\n",
              "      <td>http://www.ifamagazine.com/news/fed-risks-fall...</td>\n",
              "      <td>IFA Magazine</td>\n",
              "      <td>b</td>\n",
              "      <td>ddUyU0VZz0BRneMioxUPQVP6sIxvM</td>\n",
              "      <td>www.ifamagazine.com</td>\n",
              "      <td>1394470371793</td>\n",
              "    </tr>\n",
              "    <tr>\n",
              "      <th>4</th>\n",
              "      <td>5</td>\n",
              "      <td>Fed's Plosser: Nasty Weather Has Curbed Job Gr...</td>\n",
              "      <td>http://www.moneynews.com/Economy/federal-reser...</td>\n",
              "      <td>Moneynews</td>\n",
              "      <td>b</td>\n",
              "      <td>ddUyU0VZz0BRneMioxUPQVP6sIxvM</td>\n",
              "      <td>www.moneynews.com</td>\n",
              "      <td>1394470372027</td>\n",
              "    </tr>\n",
              "  </tbody>\n",
              "</table>\n",
              "</div>\n",
              "    <div class=\"colab-df-buttons\">\n",
              "\n",
              "  <div class=\"colab-df-container\">\n",
              "    <button class=\"colab-df-convert\" onclick=\"convertToInteractive('df-ac0fb2af-65d7-4c89-9fb6-5c986e7a60af')\"\n",
              "            title=\"Convert this dataframe to an interactive table.\"\n",
              "            style=\"display:none;\">\n",
              "\n",
              "  <svg xmlns=\"http://www.w3.org/2000/svg\" height=\"24px\" viewBox=\"0 -960 960 960\">\n",
              "    <path d=\"M120-120v-720h720v720H120Zm60-500h600v-160H180v160Zm220 220h160v-160H400v160Zm0 220h160v-160H400v160ZM180-400h160v-160H180v160Zm440 0h160v-160H620v160ZM180-180h160v-160H180v160Zm440 0h160v-160H620v160Z\"/>\n",
              "  </svg>\n",
              "    </button>\n",
              "\n",
              "  <style>\n",
              "    .colab-df-container {\n",
              "      display:flex;\n",
              "      gap: 12px;\n",
              "    }\n",
              "\n",
              "    .colab-df-convert {\n",
              "      background-color: #E8F0FE;\n",
              "      border: none;\n",
              "      border-radius: 50%;\n",
              "      cursor: pointer;\n",
              "      display: none;\n",
              "      fill: #1967D2;\n",
              "      height: 32px;\n",
              "      padding: 0 0 0 0;\n",
              "      width: 32px;\n",
              "    }\n",
              "\n",
              "    .colab-df-convert:hover {\n",
              "      background-color: #E2EBFA;\n",
              "      box-shadow: 0px 1px 2px rgba(60, 64, 67, 0.3), 0px 1px 3px 1px rgba(60, 64, 67, 0.15);\n",
              "      fill: #174EA6;\n",
              "    }\n",
              "\n",
              "    .colab-df-buttons div {\n",
              "      margin-bottom: 4px;\n",
              "    }\n",
              "\n",
              "    [theme=dark] .colab-df-convert {\n",
              "      background-color: #3B4455;\n",
              "      fill: #D2E3FC;\n",
              "    }\n",
              "\n",
              "    [theme=dark] .colab-df-convert:hover {\n",
              "      background-color: #434B5C;\n",
              "      box-shadow: 0px 1px 3px 1px rgba(0, 0, 0, 0.15);\n",
              "      filter: drop-shadow(0px 1px 2px rgba(0, 0, 0, 0.3));\n",
              "      fill: #FFFFFF;\n",
              "    }\n",
              "  </style>\n",
              "\n",
              "    <script>\n",
              "      const buttonEl =\n",
              "        document.querySelector('#df-ac0fb2af-65d7-4c89-9fb6-5c986e7a60af button.colab-df-convert');\n",
              "      buttonEl.style.display =\n",
              "        google.colab.kernel.accessAllowed ? 'block' : 'none';\n",
              "\n",
              "      async function convertToInteractive(key) {\n",
              "        const element = document.querySelector('#df-ac0fb2af-65d7-4c89-9fb6-5c986e7a60af');\n",
              "        const dataTable =\n",
              "          await google.colab.kernel.invokeFunction('convertToInteractive',\n",
              "                                                    [key], {});\n",
              "        if (!dataTable) return;\n",
              "\n",
              "        const docLinkHtml = 'Like what you see? Visit the ' +\n",
              "          '<a target=\"_blank\" href=https://colab.research.google.com/notebooks/data_table.ipynb>data table notebook</a>'\n",
              "          + ' to learn more about interactive tables.';\n",
              "        element.innerHTML = '';\n",
              "        dataTable['output_type'] = 'display_data';\n",
              "        await google.colab.output.renderOutput(dataTable, element);\n",
              "        const docLink = document.createElement('div');\n",
              "        docLink.innerHTML = docLinkHtml;\n",
              "        element.appendChild(docLink);\n",
              "      }\n",
              "    </script>\n",
              "  </div>\n",
              "\n",
              "\n",
              "<div id=\"df-4577d198-32f2-484a-a1db-e478deded443\">\n",
              "  <button class=\"colab-df-quickchart\" onclick=\"quickchart('df-4577d198-32f2-484a-a1db-e478deded443')\"\n",
              "            title=\"Suggest charts\"\n",
              "            style=\"display:none;\">\n",
              "\n",
              "<svg xmlns=\"http://www.w3.org/2000/svg\" height=\"24px\"viewBox=\"0 0 24 24\"\n",
              "     width=\"24px\">\n",
              "    <g>\n",
              "        <path d=\"M19 3H5c-1.1 0-2 .9-2 2v14c0 1.1.9 2 2 2h14c1.1 0 2-.9 2-2V5c0-1.1-.9-2-2-2zM9 17H7v-7h2v7zm4 0h-2V7h2v10zm4 0h-2v-4h2v4z\"/>\n",
              "    </g>\n",
              "</svg>\n",
              "  </button>\n",
              "\n",
              "<style>\n",
              "  .colab-df-quickchart {\n",
              "      --bg-color: #E8F0FE;\n",
              "      --fill-color: #1967D2;\n",
              "      --hover-bg-color: #E2EBFA;\n",
              "      --hover-fill-color: #174EA6;\n",
              "      --disabled-fill-color: #AAA;\n",
              "      --disabled-bg-color: #DDD;\n",
              "  }\n",
              "\n",
              "  [theme=dark] .colab-df-quickchart {\n",
              "      --bg-color: #3B4455;\n",
              "      --fill-color: #D2E3FC;\n",
              "      --hover-bg-color: #434B5C;\n",
              "      --hover-fill-color: #FFFFFF;\n",
              "      --disabled-bg-color: #3B4455;\n",
              "      --disabled-fill-color: #666;\n",
              "  }\n",
              "\n",
              "  .colab-df-quickchart {\n",
              "    background-color: var(--bg-color);\n",
              "    border: none;\n",
              "    border-radius: 50%;\n",
              "    cursor: pointer;\n",
              "    display: none;\n",
              "    fill: var(--fill-color);\n",
              "    height: 32px;\n",
              "    padding: 0;\n",
              "    width: 32px;\n",
              "  }\n",
              "\n",
              "  .colab-df-quickchart:hover {\n",
              "    background-color: var(--hover-bg-color);\n",
              "    box-shadow: 0 1px 2px rgba(60, 64, 67, 0.3), 0 1px 3px 1px rgba(60, 64, 67, 0.15);\n",
              "    fill: var(--button-hover-fill-color);\n",
              "  }\n",
              "\n",
              "  .colab-df-quickchart-complete:disabled,\n",
              "  .colab-df-quickchart-complete:disabled:hover {\n",
              "    background-color: var(--disabled-bg-color);\n",
              "    fill: var(--disabled-fill-color);\n",
              "    box-shadow: none;\n",
              "  }\n",
              "\n",
              "  .colab-df-spinner {\n",
              "    border: 2px solid var(--fill-color);\n",
              "    border-color: transparent;\n",
              "    border-bottom-color: var(--fill-color);\n",
              "    animation:\n",
              "      spin 1s steps(1) infinite;\n",
              "  }\n",
              "\n",
              "  @keyframes spin {\n",
              "    0% {\n",
              "      border-color: transparent;\n",
              "      border-bottom-color: var(--fill-color);\n",
              "      border-left-color: var(--fill-color);\n",
              "    }\n",
              "    20% {\n",
              "      border-color: transparent;\n",
              "      border-left-color: var(--fill-color);\n",
              "      border-top-color: var(--fill-color);\n",
              "    }\n",
              "    30% {\n",
              "      border-color: transparent;\n",
              "      border-left-color: var(--fill-color);\n",
              "      border-top-color: var(--fill-color);\n",
              "      border-right-color: var(--fill-color);\n",
              "    }\n",
              "    40% {\n",
              "      border-color: transparent;\n",
              "      border-right-color: var(--fill-color);\n",
              "      border-top-color: var(--fill-color);\n",
              "    }\n",
              "    60% {\n",
              "      border-color: transparent;\n",
              "      border-right-color: var(--fill-color);\n",
              "    }\n",
              "    80% {\n",
              "      border-color: transparent;\n",
              "      border-right-color: var(--fill-color);\n",
              "      border-bottom-color: var(--fill-color);\n",
              "    }\n",
              "    90% {\n",
              "      border-color: transparent;\n",
              "      border-bottom-color: var(--fill-color);\n",
              "    }\n",
              "  }\n",
              "</style>\n",
              "\n",
              "  <script>\n",
              "    async function quickchart(key) {\n",
              "      const quickchartButtonEl =\n",
              "        document.querySelector('#' + key + ' button');\n",
              "      quickchartButtonEl.disabled = true;  // To prevent multiple clicks.\n",
              "      quickchartButtonEl.classList.add('colab-df-spinner');\n",
              "      try {\n",
              "        const charts = await google.colab.kernel.invokeFunction(\n",
              "            'suggestCharts', [key], {});\n",
              "      } catch (error) {\n",
              "        console.error('Error during call to suggestCharts:', error);\n",
              "      }\n",
              "      quickchartButtonEl.classList.remove('colab-df-spinner');\n",
              "      quickchartButtonEl.classList.add('colab-df-quickchart-complete');\n",
              "    }\n",
              "    (() => {\n",
              "      let quickchartButtonEl =\n",
              "        document.querySelector('#df-4577d198-32f2-484a-a1db-e478deded443 button');\n",
              "      quickchartButtonEl.style.display =\n",
              "        google.colab.kernel.accessAllowed ? 'block' : 'none';\n",
              "    })();\n",
              "  </script>\n",
              "</div>\n",
              "    </div>\n",
              "  </div>\n"
            ],
            "application/vnd.google.colaboratory.intrinsic+json": {
              "type": "dataframe",
              "variable_name": "df"
            }
          },
          "metadata": {},
          "execution_count": 7
        }
      ]
    },
    {
      "cell_type": "markdown",
      "source": [
        "## 51. 特徴量抽出\n",
        "学習データ，検証データ，評価データから特徴量を抽出し，それぞれtrain.feature.txt，valid.feature.txt，test.feature.txtというファイル名で保存せよ． なお，カテゴリ分類に有用そうな特徴量は各自で自由に設計せよ．記事の見出しを単語列に変換したものが最低限のベースラインとなるであろう．"
      ],
      "metadata": {
        "id": "gd8fe7lDDHjJ"
      }
    },
    {
      "cell_type": "code",
      "source": [
        "#51\n",
        "import pandas as pd\n",
        "import string\n",
        "import re\n",
        "\n",
        "#出現単語のカウントをベクトルにする\n",
        "from sklearn.feature_extraction.text import CountVectorizer\n",
        "#TF-IDFを計算する\n",
        "from sklearn.feature_extraction.text import TfidfVectorizer\n",
        "\n",
        "def prep(text):\n",
        "    text = \"\".join([i for i in text if i not in string.punctuation]) #textから記号でないものを抜き出す\n",
        "    # string.punctuation -> '!\"#$%&\\'()*+,-./:;<=>?@[\\\\]^_`{|}~'\n",
        "    text = text.lower()  # 小文字化\n",
        "    text = re.sub(\"[0-9]+\", \"\", text)  # 数字を削除\n",
        "    return text\n",
        "\n",
        "\n",
        "header_name = ['TITLE', 'CATEGORY']\n",
        "\n",
        "train = pd.read_csv('./train.txt', header=None,\n",
        "                    sep='\\t', names=header_name) #names：列名の指定\n",
        "valid = pd.read_csv('./valid.txt', header=None,\n",
        "                    sep='\\t', names=header_name)\n",
        "test = pd.read_csv('./test.txt', header=None,\n",
        "                   sep='\\t', names=header_name)\n",
        "\n",
        "#  concatで結合\n",
        "df = pd.concat([train, valid, test], axis=0)\n",
        "df.reset_index(drop=True, inplace=True)\n",
        "\n",
        "# https://note.nkmk.me/python-pandas-map-applymap-apply/\n",
        "# それぞれのxに対してprep(x)を返す\n",
        "# 要は前処理\n",
        "df[\"TITLE\"] = df[\"TITLE\"].map(lambda x: prep(x)) #TITLEにprep(x)を適用\n",
        "\n",
        "# 分割\n",
        "# trainのデータのみを用いてモデルを学習するため\n",
        "train_d = df[:len(train)]\n",
        "valid_d = df[len(train):len(train)+len()]\n",
        "test_d = df[len(train)+len(valid):]\n",
        "\n",
        "#\n",
        "#min_df：使用されている文書の割合(0～1)、または②使用されている文章数の下限(整数)を設定\n",
        "# 使用するn_gramを1～2gramに設定\n",
        "vec_tfidf = TfidfVectorizer(min_df=10, ngram_range=(1, 2))\n",
        "\n",
        "# fit：語彙の獲得、idfの計算\n",
        "# transform：文書を変換\n",
        "# fit_transform：fitの計算とtransformの計算を連続で実行\n",
        "# testのデータを用いずに統計量を獲得し，testはfitで得られた統計量に基づき正則化\n",
        "# testのデータを含めてfitすると，テストデータを用いて学習しているため不適\n",
        "train_f = vec_tfidf.fit_transform(train_d[\"TITLE\"])\n",
        "valid_f = vec_tfidf.transform(valid_d[\"TITLE\"])\n",
        "test_f = vec_tfidf.transform(test_d[\"TITLE\"])\n",
        "\n",
        "train_vec = pd.DataFrame(\n",
        "    train_f.toarray(), columns=vec_tfidf.get_feature_names_out())#get_feature_names()：特徴量ラベル\n",
        "valid_vec = pd.DataFrame(\n",
        "    valid_f.toarray(), columns=vec_tfidf.get_feature_names_out())\n",
        "test_vec = pd.DataFrame(\n",
        "    test_f.toarray(), columns=vec_tfidf.get_feature_names_out())\n",
        "\n",
        "train_vec.to_csv(\"./train.feature.txt\", sep=\"\\t\", index=False)\n",
        "valid_vec.to_csv(\"./valid.feature.txt\", sep=\"\\t\", index=False)\n",
        "test_vec.to_csv(\"./test.feature.txt\", sep=\"\\t\", index=False)\n",
        "\n",
        "print(train_vec.head())"
      ],
      "metadata": {
        "colab": {
          "base_uri": "https://localhost:8080/"
        },
        "id": "op0VEaE3Blkk",
        "outputId": "051998e1-0e87-439f-d700-1c4a4cd18596"
      },
      "execution_count": null,
      "outputs": [
        {
          "output_type": "stream",
          "name": "stdout",
          "text": [
            "    aa  abbvie     about  about the  about to  above  abramson  abuse  \\\n",
            "0  0.0     0.0  0.000000        0.0       0.0    0.0       0.0    0.0   \n",
            "1  0.0     0.0  0.000000        0.0       0.0    0.0       0.0    0.0   \n",
            "2  0.0     0.0  0.350617        0.0       0.0    0.0       0.0    0.0   \n",
            "3  0.0     0.0  0.000000        0.0       0.0    0.0       0.0    0.0   \n",
            "4  0.0     0.0  0.000000        0.0       0.0    0.0       0.0    0.0   \n",
            "\n",
            "   accelerates  access  ...  you to  young  your  your mother   yr  yuan  zac  \\\n",
            "0          0.0     0.0  ...     0.0    0.0   0.0          0.0  0.0   0.0  0.0   \n",
            "1          0.0     0.0  ...     0.0    0.0   0.0          0.0  0.0   0.0  0.0   \n",
            "2          0.0     0.0  ...     0.0    0.0   0.0          0.0  0.0   0.0  0.0   \n",
            "3          0.0     0.0  ...     0.0    0.0   0.0          0.0  0.0   0.0  0.0   \n",
            "4          0.0     0.0  ...     0.0    0.0   0.0          0.0  0.0   0.0  0.0   \n",
            "\n",
            "   zac efron  zendaya  zone  \n",
            "0        0.0      0.0   0.0  \n",
            "1        0.0      0.0   0.0  \n",
            "2        0.0      0.0   0.0  \n",
            "3        0.0      0.0   0.0  \n",
            "4        0.0      0.0   0.0  \n",
            "\n",
            "[5 rows x 2758 columns]\n"
          ]
        }
      ]
    },
    {
      "cell_type": "code",
      "source": [
        "train.head()"
      ],
      "metadata": {
        "colab": {
          "base_uri": "https://localhost:8080/",
          "height": 206
        },
        "id": "2qq0nMA3RZUB",
        "outputId": "e75b8aab-d8cb-4e9c-d7b5-dc4c0d39727e"
      },
      "execution_count": null,
      "outputs": [
        {
          "output_type": "execute_result",
          "data": {
            "text/plain": [
              "                                               TITLE CATEGORY\n",
              "0  Kim Kardashian Shares Makeup-Free Selfie, The ...        e\n",
              "1  Kanye West - Kanye West Booed At Wireless Fest...        e\n",
              "2  Google deletes search results about millionair...        t\n",
              "3  Kim Kardashian wears slit-to the-hip gown at M...        e\n",
              "4  Mickey Rooney's shambolic and desperate last d...        e"
            ],
            "text/html": [
              "\n",
              "  <div id=\"df-1b8b5a31-dc19-46d9-bf96-836e35df16a4\" class=\"colab-df-container\">\n",
              "    <div>\n",
              "<style scoped>\n",
              "    .dataframe tbody tr th:only-of-type {\n",
              "        vertical-align: middle;\n",
              "    }\n",
              "\n",
              "    .dataframe tbody tr th {\n",
              "        vertical-align: top;\n",
              "    }\n",
              "\n",
              "    .dataframe thead th {\n",
              "        text-align: right;\n",
              "    }\n",
              "</style>\n",
              "<table border=\"1\" class=\"dataframe\">\n",
              "  <thead>\n",
              "    <tr style=\"text-align: right;\">\n",
              "      <th></th>\n",
              "      <th>TITLE</th>\n",
              "      <th>CATEGORY</th>\n",
              "    </tr>\n",
              "  </thead>\n",
              "  <tbody>\n",
              "    <tr>\n",
              "      <th>0</th>\n",
              "      <td>Kim Kardashian Shares Makeup-Free Selfie, The ...</td>\n",
              "      <td>e</td>\n",
              "    </tr>\n",
              "    <tr>\n",
              "      <th>1</th>\n",
              "      <td>Kanye West - Kanye West Booed At Wireless Fest...</td>\n",
              "      <td>e</td>\n",
              "    </tr>\n",
              "    <tr>\n",
              "      <th>2</th>\n",
              "      <td>Google deletes search results about millionair...</td>\n",
              "      <td>t</td>\n",
              "    </tr>\n",
              "    <tr>\n",
              "      <th>3</th>\n",
              "      <td>Kim Kardashian wears slit-to the-hip gown at M...</td>\n",
              "      <td>e</td>\n",
              "    </tr>\n",
              "    <tr>\n",
              "      <th>4</th>\n",
              "      <td>Mickey Rooney's shambolic and desperate last d...</td>\n",
              "      <td>e</td>\n",
              "    </tr>\n",
              "  </tbody>\n",
              "</table>\n",
              "</div>\n",
              "    <div class=\"colab-df-buttons\">\n",
              "\n",
              "  <div class=\"colab-df-container\">\n",
              "    <button class=\"colab-df-convert\" onclick=\"convertToInteractive('df-1b8b5a31-dc19-46d9-bf96-836e35df16a4')\"\n",
              "            title=\"Convert this dataframe to an interactive table.\"\n",
              "            style=\"display:none;\">\n",
              "\n",
              "  <svg xmlns=\"http://www.w3.org/2000/svg\" height=\"24px\" viewBox=\"0 -960 960 960\">\n",
              "    <path d=\"M120-120v-720h720v720H120Zm60-500h600v-160H180v160Zm220 220h160v-160H400v160Zm0 220h160v-160H400v160ZM180-400h160v-160H180v160Zm440 0h160v-160H620v160ZM180-180h160v-160H180v160Zm440 0h160v-160H620v160Z\"/>\n",
              "  </svg>\n",
              "    </button>\n",
              "\n",
              "  <style>\n",
              "    .colab-df-container {\n",
              "      display:flex;\n",
              "      gap: 12px;\n",
              "    }\n",
              "\n",
              "    .colab-df-convert {\n",
              "      background-color: #E8F0FE;\n",
              "      border: none;\n",
              "      border-radius: 50%;\n",
              "      cursor: pointer;\n",
              "      display: none;\n",
              "      fill: #1967D2;\n",
              "      height: 32px;\n",
              "      padding: 0 0 0 0;\n",
              "      width: 32px;\n",
              "    }\n",
              "\n",
              "    .colab-df-convert:hover {\n",
              "      background-color: #E2EBFA;\n",
              "      box-shadow: 0px 1px 2px rgba(60, 64, 67, 0.3), 0px 1px 3px 1px rgba(60, 64, 67, 0.15);\n",
              "      fill: #174EA6;\n",
              "    }\n",
              "\n",
              "    .colab-df-buttons div {\n",
              "      margin-bottom: 4px;\n",
              "    }\n",
              "\n",
              "    [theme=dark] .colab-df-convert {\n",
              "      background-color: #3B4455;\n",
              "      fill: #D2E3FC;\n",
              "    }\n",
              "\n",
              "    [theme=dark] .colab-df-convert:hover {\n",
              "      background-color: #434B5C;\n",
              "      box-shadow: 0px 1px 3px 1px rgba(0, 0, 0, 0.15);\n",
              "      filter: drop-shadow(0px 1px 2px rgba(0, 0, 0, 0.3));\n",
              "      fill: #FFFFFF;\n",
              "    }\n",
              "  </style>\n",
              "\n",
              "    <script>\n",
              "      const buttonEl =\n",
              "        document.querySelector('#df-1b8b5a31-dc19-46d9-bf96-836e35df16a4 button.colab-df-convert');\n",
              "      buttonEl.style.display =\n",
              "        google.colab.kernel.accessAllowed ? 'block' : 'none';\n",
              "\n",
              "      async function convertToInteractive(key) {\n",
              "        const element = document.querySelector('#df-1b8b5a31-dc19-46d9-bf96-836e35df16a4');\n",
              "        const dataTable =\n",
              "          await google.colab.kernel.invokeFunction('convertToInteractive',\n",
              "                                                    [key], {});\n",
              "        if (!dataTable) return;\n",
              "\n",
              "        const docLinkHtml = 'Like what you see? Visit the ' +\n",
              "          '<a target=\"_blank\" href=https://colab.research.google.com/notebooks/data_table.ipynb>data table notebook</a>'\n",
              "          + ' to learn more about interactive tables.';\n",
              "        element.innerHTML = '';\n",
              "        dataTable['output_type'] = 'display_data';\n",
              "        await google.colab.output.renderOutput(dataTable, element);\n",
              "        const docLink = document.createElement('div');\n",
              "        docLink.innerHTML = docLinkHtml;\n",
              "        element.appendChild(docLink);\n",
              "      }\n",
              "    </script>\n",
              "  </div>\n",
              "\n",
              "\n",
              "<div id=\"df-ebc5711e-1a3e-4454-9054-933c648d4a41\">\n",
              "  <button class=\"colab-df-quickchart\" onclick=\"quickchart('df-ebc5711e-1a3e-4454-9054-933c648d4a41')\"\n",
              "            title=\"Suggest charts\"\n",
              "            style=\"display:none;\">\n",
              "\n",
              "<svg xmlns=\"http://www.w3.org/2000/svg\" height=\"24px\"viewBox=\"0 0 24 24\"\n",
              "     width=\"24px\">\n",
              "    <g>\n",
              "        <path d=\"M19 3H5c-1.1 0-2 .9-2 2v14c0 1.1.9 2 2 2h14c1.1 0 2-.9 2-2V5c0-1.1-.9-2-2-2zM9 17H7v-7h2v7zm4 0h-2V7h2v10zm4 0h-2v-4h2v4z\"/>\n",
              "    </g>\n",
              "</svg>\n",
              "  </button>\n",
              "\n",
              "<style>\n",
              "  .colab-df-quickchart {\n",
              "      --bg-color: #E8F0FE;\n",
              "      --fill-color: #1967D2;\n",
              "      --hover-bg-color: #E2EBFA;\n",
              "      --hover-fill-color: #174EA6;\n",
              "      --disabled-fill-color: #AAA;\n",
              "      --disabled-bg-color: #DDD;\n",
              "  }\n",
              "\n",
              "  [theme=dark] .colab-df-quickchart {\n",
              "      --bg-color: #3B4455;\n",
              "      --fill-color: #D2E3FC;\n",
              "      --hover-bg-color: #434B5C;\n",
              "      --hover-fill-color: #FFFFFF;\n",
              "      --disabled-bg-color: #3B4455;\n",
              "      --disabled-fill-color: #666;\n",
              "  }\n",
              "\n",
              "  .colab-df-quickchart {\n",
              "    background-color: var(--bg-color);\n",
              "    border: none;\n",
              "    border-radius: 50%;\n",
              "    cursor: pointer;\n",
              "    display: none;\n",
              "    fill: var(--fill-color);\n",
              "    height: 32px;\n",
              "    padding: 0;\n",
              "    width: 32px;\n",
              "  }\n",
              "\n",
              "  .colab-df-quickchart:hover {\n",
              "    background-color: var(--hover-bg-color);\n",
              "    box-shadow: 0 1px 2px rgba(60, 64, 67, 0.3), 0 1px 3px 1px rgba(60, 64, 67, 0.15);\n",
              "    fill: var(--button-hover-fill-color);\n",
              "  }\n",
              "\n",
              "  .colab-df-quickchart-complete:disabled,\n",
              "  .colab-df-quickchart-complete:disabled:hover {\n",
              "    background-color: var(--disabled-bg-color);\n",
              "    fill: var(--disabled-fill-color);\n",
              "    box-shadow: none;\n",
              "  }\n",
              "\n",
              "  .colab-df-spinner {\n",
              "    border: 2px solid var(--fill-color);\n",
              "    border-color: transparent;\n",
              "    border-bottom-color: var(--fill-color);\n",
              "    animation:\n",
              "      spin 1s steps(1) infinite;\n",
              "  }\n",
              "\n",
              "  @keyframes spin {\n",
              "    0% {\n",
              "      border-color: transparent;\n",
              "      border-bottom-color: var(--fill-color);\n",
              "      border-left-color: var(--fill-color);\n",
              "    }\n",
              "    20% {\n",
              "      border-color: transparent;\n",
              "      border-left-color: var(--fill-color);\n",
              "      border-top-color: var(--fill-color);\n",
              "    }\n",
              "    30% {\n",
              "      border-color: transparent;\n",
              "      border-left-color: var(--fill-color);\n",
              "      border-top-color: var(--fill-color);\n",
              "      border-right-color: var(--fill-color);\n",
              "    }\n",
              "    40% {\n",
              "      border-color: transparent;\n",
              "      border-right-color: var(--fill-color);\n",
              "      border-top-color: var(--fill-color);\n",
              "    }\n",
              "    60% {\n",
              "      border-color: transparent;\n",
              "      border-right-color: var(--fill-color);\n",
              "    }\n",
              "    80% {\n",
              "      border-color: transparent;\n",
              "      border-right-color: var(--fill-color);\n",
              "      border-bottom-color: var(--fill-color);\n",
              "    }\n",
              "    90% {\n",
              "      border-color: transparent;\n",
              "      border-bottom-color: var(--fill-color);\n",
              "    }\n",
              "  }\n",
              "</style>\n",
              "\n",
              "  <script>\n",
              "    async function quickchart(key) {\n",
              "      const quickchartButtonEl =\n",
              "        document.querySelector('#' + key + ' button');\n",
              "      quickchartButtonEl.disabled = true;  // To prevent multiple clicks.\n",
              "      quickchartButtonEl.classList.add('colab-df-spinner');\n",
              "      try {\n",
              "        const charts = await google.colab.kernel.invokeFunction(\n",
              "            'suggestCharts', [key], {});\n",
              "      } catch (error) {\n",
              "        console.error('Error during call to suggestCharts:', error);\n",
              "      }\n",
              "      quickchartButtonEl.classList.remove('colab-df-spinner');\n",
              "      quickchartButtonEl.classList.add('colab-df-quickchart-complete');\n",
              "    }\n",
              "    (() => {\n",
              "      let quickchartButtonEl =\n",
              "        document.querySelector('#df-ebc5711e-1a3e-4454-9054-933c648d4a41 button');\n",
              "      quickchartButtonEl.style.display =\n",
              "        google.colab.kernel.accessAllowed ? 'block' : 'none';\n",
              "    })();\n",
              "  </script>\n",
              "</div>\n",
              "    </div>\n",
              "  </div>\n"
            ],
            "application/vnd.google.colaboratory.intrinsic+json": {
              "type": "dataframe",
              "variable_name": "train",
              "summary": "{\n  \"name\": \"train\",\n  \"rows\": 10684,\n  \"fields\": [\n    {\n      \"column\": \"TITLE\",\n      \"properties\": {\n        \"dtype\": \"string\",\n        \"num_unique_values\": 10518,\n        \"samples\": [\n          \"Lana Del Rey Confirms Split From Longtime Love Barrie-James O'Neill\",\n          \"JPMorgan Drops After Profit Misses Analysts' Estimates\",\n          \"GE pledges 1000 new French jobs as part of Alstom deal-source\"\n        ],\n        \"semantic_type\": \"\",\n        \"description\": \"\"\n      }\n    },\n    {\n      \"column\": \"CATEGORY\",\n      \"properties\": {\n        \"dtype\": \"category\",\n        \"num_unique_values\": 4,\n        \"samples\": [\n          \"t\",\n          \"m\",\n          \"e\"\n        ],\n        \"semantic_type\": \"\",\n        \"description\": \"\"\n      }\n    }\n  ]\n}"
            }
          },
          "metadata": {},
          "execution_count": 9
        }
      ]
    },
    {
      "cell_type": "markdown",
      "source": [
        "## 52. 学習\n",
        "51で構築した学習データを用いて，ロジスティック回帰モデルを学習せよ．"
      ],
      "metadata": {
        "id": "pMZLZPwQDQ89"
      }
    },
    {
      "cell_type": "code",
      "source": [
        "from sklearn.linear_model import LogisticRegression\n",
        "import pickle #プログラムを実行し終えたあとも保存する機能を提供してくれるモジュール\n",
        "\n",
        "#ロジスティック回帰\n",
        "lr = LogisticRegression(random_state=20010101, max_iter=1000) #max_iter：最大学習回数\n",
        "\n",
        "X_train = pd.read_table(\"train.feature.txt\")\n",
        "Y_train = train['CATEGORY']\n",
        "\n",
        "#print(len(X_train))\n",
        "#print(len(Y_train))\n",
        "\n",
        "lr.fit(X_train, Y_train)\n",
        "\n",
        "#logreg.pklに書き込みモードで開く\n",
        "with open(\"logreg.pkl\", \"wb\") as f:\n",
        "    pickle.dump(lr, f)"
      ],
      "metadata": {
        "id": "T2hXEiR6AW5N"
      },
      "execution_count": null,
      "outputs": []
    },
    {
      "cell_type": "markdown",
      "source": [
        "## 53. 予測\n",
        "52で学習したロジスティック回帰モデルを用い，与えられた記事見出しからカテゴリとその予測確率を計算するプログラムを実装せよ．"
      ],
      "metadata": {
        "id": "YTky4ySqDYPM"
      }
    },
    {
      "cell_type": "code",
      "source": [
        "def score_lr(lr, x):\n",
        "    return [np.max(lr.predict_proba(x), axis=1), lr.predict(x)] #各サンプルがカテゴリに含まれる確率の最大値と、カテゴリを返す\n",
        "\n",
        "lr = pickle.load(open(\"logreg.pkl\", 'rb')) #logreg.pklからロード\n",
        "\n",
        "X_test = pd.read_table(\"test.feature.txt\")\n",
        "\n",
        "train_pred = score_lr(lr, X_train)\n",
        "test_pred = score_lr(lr, X_test)\n",
        "\n",
        "print(train_pred)\n"
      ],
      "metadata": {
        "colab": {
          "base_uri": "https://localhost:8080/"
        },
        "id": "Vea6ABjuAtUn",
        "outputId": "9a4320ea-1e6d-426a-954c-faf533d559b7"
      },
      "execution_count": null,
      "outputs": [
        {
          "output_type": "stream",
          "name": "stdout",
          "text": [
            "[array([0.95639016, 0.95150792, 0.71723264, ..., 0.41618606, 0.79069426,\n",
            "       0.4043551 ]), array(['e', 'e', 't', ..., 'b', 'b', 'b'], dtype=object)]\n"
          ]
        }
      ]
    },
    {
      "cell_type": "markdown",
      "source": [
        "## 54. 正解率の計測\n",
        "52で学習したロジスティック回帰モデルの正解率を，学習データおよび評価データ上で計測せよ．"
      ],
      "metadata": {
        "id": "VVoIvUZ3De6l"
      }
    },
    {
      "cell_type": "code",
      "source": [
        "from sklearn.metrics import accuracy_score\n",
        "\n",
        "train_acc = accuracy_score(train[\"CATEGORY\"], train_pred[1])\n",
        "test_acc = accuracy_score(test[\"CATEGORY\"], test_pred[1])\n",
        "\n",
        "print(f\"訓練データの正解率:{train_acc:.3f}\")\n",
        "print(f\"テストデータの正解率:{test_acc:.3f}\")\n"
      ],
      "metadata": {
        "colab": {
          "base_uri": "https://localhost:8080/"
        },
        "id": "6JTgX8K5BXgx",
        "outputId": "65bcc330-de51-47f2-fca2-b45e7cdf2f97"
      },
      "execution_count": null,
      "outputs": [
        {
          "output_type": "stream",
          "name": "stdout",
          "text": [
            "訓練データの正解率:0.922\n",
            "テストデータの正解率:0.870\n"
          ]
        }
      ]
    },
    {
      "cell_type": "markdown",
      "source": [
        "## 55. 混同行列の作成\n",
        "52で学習したロジスティック回帰モデルの混同行列（confusion matrix）を，学習データおよび評価データ上で作成せよ．"
      ],
      "metadata": {
        "id": "_B8kphrKDnl7"
      }
    },
    {
      "cell_type": "code",
      "source": [
        "from sklearn.metrics import confusion_matrix\n",
        "import seaborn as sns\n",
        "import matplotlib.pyplot as plt\n",
        "\n",
        "train_con = confusion_matrix(train[\"CATEGORY\"], train_pred[1])\n",
        "test_con = confusion_matrix(test[\"CATEGORY\"], test_pred[1])\n",
        "\n",
        "print(\"訓練データの混同行列\")\n",
        "print(train_con)\n",
        "print(\"テストデータの混同行列\")\n",
        "print(test_con)\n",
        "\n",
        "fig = plt.figure(figsize = (12, 6))\n",
        "ax1 = fig.add_subplot(1, 2, 1)\n",
        "sns.heatmap(train_con, annot=True, cmap=\"Greens\", ax = ax1)\n",
        "ax2 = fig.add_subplot(1, 2, 2)\n",
        "sns.heatmap(test_con, annot=True, cmap=\"Greens\", ax = ax2)\n",
        "plt.show()"
      ],
      "metadata": {
        "colab": {
          "base_uri": "https://localhost:8080/",
          "height": 696
        },
        "id": "D9poJKiXBd7f",
        "outputId": "4829a217-e31c-4efd-db39-38d4c91cbacb"
      },
      "execution_count": null,
      "outputs": [
        {
          "output_type": "stream",
          "name": "stdout",
          "text": [
            "訓練データの混同行列\n",
            "[[4342  104    9   48]\n",
            " [  61 4165    2   11]\n",
            " [  99  123  481   11]\n",
            " [ 217  144    7  860]]\n",
            "テストデータの混同行列\n",
            "[[520  23   1  12]\n",
            " [ 19 506   1   2]\n",
            " [ 13  28  56   0]\n",
            " [ 40  33   2  80]]\n"
          ]
        },
        {
          "output_type": "display_data",
          "data": {
            "text/plain": [
              "<Figure size 1200x600 with 4 Axes>"
            ],
            "image/png": "[encoded data removed]"
          },
          "metadata": {}
        }
      ]
    },
    {
      "cell_type": "markdown",
      "source": [
        "## 56. 適合率，再現率，F1スコアの計測\n",
        "52で学習したロジスティック回帰モデルの適合率，再現率，F1スコアを，評価データ上で計測せよ．カテゴリごとに適合率，再現率，F1スコアを求め，カテゴリごとの性能をマイクロ平均（micro-average）とマクロ平均（macro-average）で統合せよ．"
      ],
      "metadata": {
        "id": "xY_iUc2PDv8w"
      }
    },
    {
      "cell_type": "code",
      "source": [
        "from sklearn.metrics import *\n",
        "\n",
        "#classification_report：https://colab.research.google.com/drive/1-OxaX0IAuMz2Fz18yfy83YjL6T2MPq2V#scrollTo=LDwqO3D4Bix_&line=4&uniqifier=1\n",
        "print(classification_report(test[\"CATEGORY\"], test_pred[1]))"
      ],
      "metadata": {
        "colab": {
          "base_uri": "https://localhost:8080/"
        },
        "id": "LDwqO3D4Bix_",
        "outputId": "3e9c2683-0f3b-46d1-99bd-9cf14cd2c319"
      },
      "execution_count": null,
      "outputs": [
        {
          "output_type": "stream",
          "name": "stdout",
          "text": [
            "              precision    recall  f1-score   support\n",
            "\n",
            "           b       0.88      0.94      0.91       556\n",
            "           e       0.86      0.96      0.91       528\n",
            "           m       0.93      0.58      0.71        97\n",
            "           t       0.85      0.52      0.64       155\n",
            "\n",
            "    accuracy                           0.87      1336\n",
            "   macro avg       0.88      0.75      0.79      1336\n",
            "weighted avg       0.87      0.87      0.86      1336\n",
            "\n"
          ]
        }
      ]
    },
    {
      "cell_type": "markdown",
      "source": [
        "## 57. 特徴量の重みの確認\n",
        "52で学習したロジスティック回帰モデルの中で，重みの高い特徴量トップ10と，重みの低い特徴量トップ10を確認せよ．"
      ],
      "metadata": {
        "id": "H9K4cYq_D2uX"
      }
    },
    {
      "cell_type": "code",
      "source": [
        "feat = X_train.columns.values #特徴量\n",
        "ind = [i for i in range(1, 11)] #1から10までの\n",
        "for c, coef in zip(lr.classes_, lr.coef_): #c：クラス、coef：係数\n",
        "    top10 = pd.DataFrame(feat[np.argsort(-coef)[:10]], #-coefで降順にする\n",
        "                         columns=[f\"top10 : {c}\"], index=ind)\n",
        "    worst10 = pd.DataFrame(feat[np.argsort(coef)[:10]],\n",
        "                           columns=[f\"worst10 : {c}\"], index=ind)\n",
        "    print(f\"{c}'s weight\")\n",
        "    print(top10)\n",
        "    print(worst10)\n",
        "    print(\"---------------------\")"
      ],
      "metadata": {
        "id": "qXu_aixzBnmS",
        "colab": {
          "base_uri": "https://localhost:8080/"
        },
        "outputId": "2fcc8532-7c8c-4ba4-f901-e44d0f9a1473"
      },
      "execution_count": null,
      "outputs": [
        {
          "output_type": "stream",
          "name": "stdout",
          "text": [
            "b's weight\n",
            "    top10 : b\n",
            "1        bank\n",
            "2         fed\n",
            "3         ecb\n",
            "4         oil\n",
            "5      stocks\n",
            "6        euro\n",
            "7     ukraine\n",
            "8   obamacare\n",
            "9       china\n",
            "10      banks\n",
            "   worst10 : b\n",
            "1          and\n",
            "2          her\n",
            "3        video\n",
            "4           tv\n",
            "5        ebola\n",
            "6        study\n",
            "7       google\n",
            "8        aereo\n",
            "9         star\n",
            "10         the\n",
            "---------------------\n",
            "e's weight\n",
            "     top10 : e\n",
            "1        chris\n",
            "2   kardashian\n",
            "3        movie\n",
            "4         film\n",
            "5      wedding\n",
            "6          kim\n",
            "7         fans\n",
            "8         paul\n",
            "9          her\n",
            "10     trailer\n",
            "   worst10 : e\n",
            "1           us\n",
            "2       update\n",
            "3       google\n",
            "4        study\n",
            "5         says\n",
            "6           gm\n",
            "7          ceo\n",
            "8         data\n",
            "9     facebook\n",
            "10       china\n",
            "---------------------\n",
            "m's weight\n",
            "   top10 : m\n",
            "1      ebola\n",
            "2      study\n",
            "3     cancer\n",
            "4        fda\n",
            "5       mers\n",
            "6       drug\n",
            "7     health\n",
            "8    doctors\n",
            "9    medical\n",
            "10     heart\n",
            "   worst10 : m\n",
            "1          ceo\n",
            "2           gm\n",
            "3     facebook\n",
            "4         deal\n",
            "5      climate\n",
            "6         bank\n",
            "7        apple\n",
            "8      twitter\n",
            "9        sales\n",
            "10      google\n",
            "---------------------\n",
            "t's weight\n",
            "     top10 : t\n",
            "1       google\n",
            "2     facebook\n",
            "3        apple\n",
            "4      climate\n",
            "5    microsoft\n",
            "6           gm\n",
            "7      googles\n",
            "8      comcast\n",
            "9   heartbleed\n",
            "10        nasa\n",
            "   worst10 : t\n",
            "1          fed\n",
            "2       health\n",
            "3       cancer\n",
            "4          day\n",
            "5       shares\n",
            "6     american\n",
            "7         drug\n",
            "8       stocks\n",
            "9          her\n",
            "10     ukraine\n",
            "---------------------\n"
          ]
        }
      ]
    },
    {
      "cell_type": "markdown",
      "source": [
        "## 58. 正則化パラメータの変更\n",
        "ロジスティック回帰モデルを学習するとき，正則化パラメータを調整することで，学習時の過学習（overfitting）の度合いを制御できる．異なる正則化パラメータでロジスティック回帰モデルを学習し，学習データ，検証データ，および評価データ上の正解率を求めよ．実験の結果は，正則化パラメータを横軸，正解率を縦軸としたグラフにまとめよ．"
      ],
      "metadata": {
        "id": "Z7t5QzodD9wk"
      }
    },
    {
      "cell_type": "code",
      "source": [
        "def learning_model(x_train, y_train, c):\n",
        "    lr = LogisticRegression(random_state=20010101, max_iter=1000, C=c) #Cは正則化パラメータ\n",
        "    lr.fit(x_train, y_train)\n",
        "    model_name = \"logreg\" + str(c) + \".pkl\" #pickleファイルの名前\n",
        "    with open(model_name, \"wb\") as f:\n",
        "        pickle.dump(lr, f)\n",
        "    return lr\n",
        "\n",
        "\n",
        "def open_model(c):\n",
        "    model_name = \"logreg\" + str(c) + \".pkl\"\n",
        "    with open(model_name, \"rb\") as f:\n",
        "        model = pickle.load(f)\n",
        "    return model\n",
        "\n",
        "X_train = pd.read_table(\"train.feature.txt\")\n",
        "X_valid = pd.read_table(\"valid.feature.txt\")\n",
        "X_test = pd.read_table(\"test.feature.txt\")\n",
        "Y_train = train[\"CATEGORY\"]\n",
        "Y_valid = valid[\"CATEGORY\"]\n",
        "Y_test = test[\"CATEGORY\"]\n",
        "# 逆数が正則化項に対応するのに注意\n",
        "regular = [0.0001, 0.001, 0.01, 0.1, 1, 10, 100]\n",
        "train_acu = []\n",
        "valid_acu = []\n",
        "test_acu = []\n",
        "for c in regular:\n",
        "    model = learning_model(X_train, Y_train, c)\n",
        "    model = open_model(c)\n",
        "    train_pred = score_lr(model, X_train)\n",
        "    valid_pred = score_lr(model, X_valid)\n",
        "    test_pred = score_lr(model, X_test)\n",
        "    train_acu.append(accuracy_score(train[\"CATEGORY\"], train_pred[1]))\n",
        "    valid_acu.append(accuracy_score(valid[\"CATEGORY\"], valid_pred[1]))\n",
        "    test_acu.append(accuracy_score(test[\"CATEGORY\"], test_pred[1]))\n",
        "plt.plot(regular, train_acu,  marker=\"o\", color=\"red\", label=\"train\")\n",
        "plt.plot(regular, valid_acu,  marker=\"o\", color=\"blue\", label=\"valid\")\n",
        "plt.plot(regular, test_acu,  marker=\"o\", color=\"green\", label=\"test\")\n",
        "plt.xscale(\"log\")\n",
        "plt.xlabel(\"C\")\n",
        "plt.ylabel(\"Accuracy\")\n",
        "plt.savefig(\"regular_parameter\")"
      ],
      "metadata": {
        "id": "JCjPjeU4TT01",
        "colab": {
          "base_uri": "https://localhost:8080/",
          "height": 454
        },
        "outputId": "66666827-e217-4006-d362-2ebeea47ddbf"
      },
      "execution_count": null,
      "outputs": [
        {
          "output_type": "display_data",
          "data": {
            "text/plain": [
              "<Figure size 640x480 with 1 Axes>"
            ],
            "image/png": "[encoded data removed]"
          },
          "metadata": {}
        }
      ]
    },
    {
      "cell_type": "markdown",
      "source": [
        "## 59. ハイパーパラメータの探索\n",
        "学習アルゴリズムや学習パラメータを変えながら，カテゴリ分類モデルを学習せよ．検証データ上の正解率が最も高くなる学習アルゴリズム・パラメータを求めよ．また，その学習アルゴリズム・パラメータを用いたときの評価データ上の正解率を求めよ．"
      ],
      "metadata": {
        "id": "hUG3SENPEFaj"
      }
    },
    {
      "cell_type": "code",
      "source": [
        "from sklearn.model_selection import GridSearchCV\n",
        "\n",
        "param_grid = {'C': [i for i in range(1, 21)]}\n",
        "\n",
        "grid_search = GridSearchCV(LogisticRegression(\n",
        "    random_state=20010101, max_iter=1000), param_grid, cv=5)\n",
        "grid_search.fit(X_train, Y_train)\n",
        "\n",
        "print(\"Best parameters : {}\".format(grid_search.best_params_))\n",
        "print(\"Best cross-validation score : {:.3f}\".format(grid_search.best_score_))\n"
      ],
      "metadata": {
        "id": "mDBTUnXzTZ8a",
        "colab": {
          "base_uri": "https://localhost:8080/"
        },
        "outputId": "5975af60-8e46-4fd5-abee-53b51b4443b6"
      },
      "execution_count": null,
      "outputs": [
        {
          "output_type": "stream",
          "name": "stdout",
          "text": [
            "Best parameters : {'C': 5}\n",
            "Best cross-validation score : 0.882\n"
          ]
        }
      ]
    }
  ]
}