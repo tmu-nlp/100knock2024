{
 "cells": [
  {
   "cell_type": "code",
   "execution_count": 1,
   "id": "2b5bff5c-2815-4085-a367-8e4bc24a1662",
   "metadata": {},
   "outputs": [
    {
     "name": "stdout",
     "output_type": "stream",
     "text": [
      "パタトクカシーー\n"
     ]
    }
   ],
   "source": [
    "list1 = 'パトカー'\n",
    "list2 = 'タクシー'\n",
    "r = ''\n",
    "for i, j in zip(list1, list2):\n",
    "    r += i\n",
    "    r += j\n",
    "print(r)    "
   ]
  },
  {
   "cell_type": "code",
   "execution_count": null,
   "id": "c08fc1d5-9fb6-41b5-9439-d82ee5cd731a",
   "metadata": {},
   "outputs": [],
   "source": []
  }
 ],
 "metadata": {
  "kernelspec": {
   "display_name": "compe",
   "language": "python",
   "name": "compe"
  },
  "language_info": {
   "codemirror_mode": {
    "name": "ipython",
    "version": 3
   },
   "file_extension": ".py",
   "mimetype": "text/x-python",
   "name": "python",
   "nbconvert_exporter": "python",
   "pygments_lexer": "ipython3",
   "version": "3.9.12"
  }
 },
 "nbformat": 4,
 "nbformat_minor": 5
}
