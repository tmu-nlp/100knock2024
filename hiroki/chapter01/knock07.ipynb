{
 "cells": [
  {
   "cell_type": "code",
   "execution_count": 1,
   "id": "8a6e088c-6401-4d37-b912-ba7e0ae6d481",
   "metadata": {},
   "outputs": [
    {
     "name": "stdout",
     "output_type": "stream",
     "text": [
      "{'ad', 'se', 'ag', 'ar', 'ap', 'gr', 'pa', 'is', 'di', 'ra', 'ph'}\n",
      "{'pa', 'ra', 'ar', 'ap'}\n",
      "{'ad', 'is', 'se', 'di'}\n",
      "True\n",
      "False\n"
     ]
    }
   ],
   "source": [
    "word1 = 'paraparaparadise'\n",
    "word2 = 'paragraph'\n",
    "\n",
    "r = {word1[i] + word1[i+1] for i in range(len(word1)-1)}\n",
    "\n",
    "r2 = {word2[i] + word2[i+1] for i in range(len(word2)-1)}\n",
    "\n",
    "print(r|r2)\n",
    "print(r&r2)\n",
    "print(r-r2)\n",
    "print('se' in r)\n",
    "print('se' in r2)"
   ]
  },
  {
   "cell_type": "code",
   "execution_count": null,
   "id": "9e06ee16-c733-43fa-9fd3-3ac9f9cf7348",
   "metadata": {},
   "outputs": [],
   "source": []
  }
 ],
 "metadata": {
  "kernelspec": {
   "display_name": "compe",
   "language": "python",
   "name": "compe"
  },
  "language_info": {
   "codemirror_mode": {
    "name": "ipython",
    "version": 3
   },
   "file_extension": ".py",
   "mimetype": "text/x-python",
   "name": "python",
   "nbconvert_exporter": "python",
   "pygments_lexer": "ipython3",
   "version": "3.9.12"
  }
 },
 "nbformat": 4,
 "nbformat_minor": 5
}
