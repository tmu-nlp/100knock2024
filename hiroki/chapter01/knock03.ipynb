{
 "cells": [
  {
   "cell_type": "code",
   "execution_count": 1,
   "id": "07488c68-ae6a-4bfc-bba2-87ab4856ef67",
   "metadata": {},
   "outputs": [
    {
     "name": "stdout",
     "output_type": "stream",
     "text": [
      "パタトクカシーー\n"
     ]
    }
   ],
   "source": [
    "list1 = 'パトカー'\n",
    "list2 = 'タクシー'\n",
    "r = ''\n",
    "for i, j in zip(list1, list2):\n",
    "    r += i\n",
    "    r += j\n",
    "print(r)    "
   ]
  },
  {
   "cell_type": "code",
   "execution_count": null,
   "id": "871f7835-e1bc-429a-a3a9-348db01e7e80",
   "metadata": {},
   "outputs": [],
   "source": []
  }
 ],
 "metadata": {
  "kernelspec": {
   "display_name": "compe",
   "language": "python",
   "name": "compe"
  },
  "language_info": {
   "codemirror_mode": {
    "name": "ipython",
    "version": 3
   },
   "file_extension": ".py",
   "mimetype": "text/x-python",
   "name": "python",
   "nbconvert_exporter": "python",
   "pygments_lexer": "ipython3",
   "version": "3.9.12"
  }
 },
 "nbformat": 4,
 "nbformat_minor": 5
}
