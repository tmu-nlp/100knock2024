{
 "cells": [
  {
   "cell_type": "code",
   "execution_count": 2,
   "id": "013f8c9e-84ef-47f1-8b10-5202bfea9e16",
   "metadata": {},
   "outputs": [
    {
     "name": "stdout",
     "output_type": "stream",
     "text": [
      "I Wzmg Tl Ezg Tsrh Akkov\n"
     ]
    }
   ],
   "source": [
    "def cipher (text):\n",
    "    new_text = \"\"\n",
    "    for x in text:\n",
    "        if x.islower():\n",
    "            new_text += chr(219 - ord(x))\n",
    "        else:\n",
    "            new_text += x\n",
    "    print(new_text)\n",
    "cipher('I Want To Eat This Apple')"
   ]
  },
  {
   "cell_type": "code",
   "execution_count": null,
   "id": "2ac08646-b750-4113-a82a-471a4abdebd3",
   "metadata": {},
   "outputs": [],
   "source": []
  }
 ],
 "metadata": {
  "kernelspec": {
   "display_name": "compe",
   "language": "python",
   "name": "compe"
  },
  "language_info": {
   "codemirror_mode": {
    "name": "ipython",
    "version": 3
   },
   "file_extension": ".py",
   "mimetype": "text/x-python",
   "name": "python",
   "nbconvert_exporter": "python",
   "pygments_lexer": "ipython3",
   "version": "3.9.12"
  }
 },
 "nbformat": 4,
 "nbformat_minor": 5
}
