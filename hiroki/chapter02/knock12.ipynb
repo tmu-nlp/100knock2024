{
 "cells": [
  {
   "cell_type": "code",
   "execution_count": 1,
   "id": "4e21fa95-122b-44fa-86f2-97324e008459",
   "metadata": {},
   "outputs": [],
   "source": [
    "import pandas as pd\n",
    "df = pd.read_csv('popular-names.txt', delimiter='\\t', header=None)\n",
    "df.iloc[:,0].to_csv('col1.txt', sep=' ',header=False, index=False)\n",
    "df.iloc[:,1].to_csv('col2.txt', sep=' ',header=False, index=False)\n"
   ]
  },
  {
   "cell_type": "code",
   "execution_count": 2,
   "id": "e569151b-b8b4-4f8e-aeef-14cfddaaa7a6",
   "metadata": {},
   "outputs": [],
   "source": [
    "!cut -f 1  popular-names.txt > col1.txt\n",
    "!cut -f 2  popular-names.txt > col2.txt"
   ]
  },
  {
   "cell_type": "code",
   "execution_count": null,
   "id": "38eb52dc-7798-4814-99d6-a6524853a898",
   "metadata": {},
   "outputs": [],
   "source": []
  }
 ],
 "metadata": {
  "kernelspec": {
   "display_name": "compe",
   "language": "python",
   "name": "compe"
  },
  "language_info": {
   "codemirror_mode": {
    "name": "ipython",
    "version": 3
   },
   "file_extension": ".py",
   "mimetype": "text/x-python",
   "name": "python",
   "nbconvert_exporter": "python",
   "pygments_lexer": "ipython3",
   "version": "3.9.12"
  }
 },
 "nbformat": 4,
 "nbformat_minor": 5
}
