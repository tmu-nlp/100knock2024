{
 "cells": [
  {
   "cell_type": "code",
   "execution_count": 1,
   "id": "a23af55b-b918-499c-81f4-bba4c8821d35",
   "metadata": {},
   "outputs": [
    {
     "name": "stdin",
     "output_type": "stream",
     "text": [
      " 3\n"
     ]
    },
    {
     "name": "stdout",
     "output_type": "stream",
     "text": [
      "Lucas\tM\t12585\t2018\n",
      "Mason\tM\t12435\t2018\n",
      "Logan\tM\t12352\t2018\n"
     ]
    }
   ],
   "source": [
    "with open(\"popular-names.txt\", \"r\") as f:\n",
    "    val = int(input())\n",
    "    lines = f.readlines()\n",
    "    count = len(lines) - 1\n",
    "    for i in reversed(range(val)):\n",
    "        result = lines[count - i].replace('\\n', '')\n",
    "        print(result)"
   ]
  },
  {
   "cell_type": "code",
   "execution_count": 3,
   "id": "c1352af5-791d-4d32-83af-5783f173fd6d",
   "metadata": {},
   "outputs": [
    {
     "name": "stdout",
     "output_type": "stream",
     "text": [
      "Lucas\tM\t12585\t2018\n",
      "Mason\tM\t12435\t2018\n",
      "Logan\tM\t12352\t2018\n"
     ]
    }
   ],
   "source": [
    "!tail -n 3 \"popular-names.txt\""
   ]
  },
  {
   "cell_type": "code",
   "execution_count": null,
   "id": "75b2d25e-b19e-470e-8da6-c7b6f586d361",
   "metadata": {},
   "outputs": [],
   "source": []
  }
 ],
 "metadata": {
  "kernelspec": {
   "display_name": "compe",
   "language": "python",
   "name": "compe"
  },
  "language_info": {
   "codemirror_mode": {
    "name": "ipython",
    "version": 3
   },
   "file_extension": ".py",
   "mimetype": "text/x-python",
   "name": "python",
   "nbconvert_exporter": "python",
   "pygments_lexer": "ipython3",
   "version": "3.9.12"
  }
 },
 "nbformat": 4,
 "nbformat_minor": 5
}
