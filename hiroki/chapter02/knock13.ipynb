{
 "cells": [
  {
   "cell_type": "code",
   "execution_count": 1,
   "id": "24c25e69-2093-4a18-aab3-45979c5a2839",
   "metadata": {},
   "outputs": [],
   "source": [
    "import pandas as pd\n",
    "df1 = pd.read_csv('col1.txt', delimiter='\\t', header=None)\n",
    "df2 = pd.read_csv('col2.txt', delimiter='\\t', header=None)\n",
    "df = pd.concat([df1, df2], axis=1)\n",
    "df.to_csv('col1_2.txt', sep='\\t',header=False, index=False)\n"
   ]
  },
  {
   "cell_type": "code",
   "execution_count": 3,
   "id": "446518ef-bc86-4f4e-a5a6-c8391a4b35bd",
   "metadata": {},
   "outputs": [],
   "source": [
    "!paste col1.txt col2.txt > col1_2.txt"
   ]
  },
  {
   "cell_type": "code",
   "execution_count": null,
   "id": "bda6d162-a252-4667-87ef-06075a100222",
   "metadata": {},
   "outputs": [],
   "source": []
  }
 ],
 "metadata": {
  "kernelspec": {
   "display_name": "compe",
   "language": "python",
   "name": "compe"
  },
  "language_info": {
   "codemirror_mode": {
    "name": "ipython",
    "version": 3
   },
   "file_extension": ".py",
   "mimetype": "text/x-python",
   "name": "python",
   "nbconvert_exporter": "python",
   "pygments_lexer": "ipython3",
   "version": "3.9.12"
  }
 },
 "nbformat": 4,
 "nbformat_minor": 5
}
