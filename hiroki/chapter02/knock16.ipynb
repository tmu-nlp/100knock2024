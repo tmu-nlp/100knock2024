{
 "cells": [
  {
   "cell_type": "code",
   "execution_count": 3,
   "id": "8070fca8-30a9-46ad-af51-6b24245519c5",
   "metadata": {},
   "outputs": [
    {
     "name": "stdin",
     "output_type": "stream",
     "text": [
      " 3\n"
     ]
    }
   ],
   "source": [
    "import numpy as np\n",
    "with open(\"popular-names.txt\", \"r\") as f:\n",
    "    val = int(input())\n",
    "    lines = f.readlines()\n",
    "    count = len(lines)\n",
    "    num_list = range(count)\n",
    "    div_list = np.array_split(num_list, val)\n",
    "    for i, div in enumerate(div_list, 1):\n",
    "        f = open('{}.txt'.format(str(i).zfill(3)), 'w')\n",
    "        for j in div:\n",
    "            f.write(lines[j])\n",
    "        f.close()"
   ]
  },
  {
   "cell_type": "code",
   "execution_count": 4,
   "id": "d047d73b-b2ab-4908-940c-0f4543674b2b",
   "metadata": {},
   "outputs": [],
   "source": [
    "! split -n 3 -d --additional-suffix=.txt \"popular-names.txt\" "
   ]
  }
 ],
 "metadata": {
  "kernelspec": {
   "display_name": "compe",
   "language": "python",
   "name": "compe"
  },
  "language_info": {
   "codemirror_mode": {
    "name": "ipython",
    "version": 3
   },
   "file_extension": ".py",
   "mimetype": "text/x-python",
   "name": "python",
   "nbconvert_exporter": "python",
   "pygments_lexer": "ipython3",
   "version": "3.9.12"
  }
 },
 "nbformat": 4,
 "nbformat_minor": 5
}
