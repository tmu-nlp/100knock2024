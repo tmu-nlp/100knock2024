{
 "cells": [
  {
   "cell_type": "code",
   "execution_count": 11,
   "id": "b31cbb6e-6a9f-4db3-a59d-6206b248061e",
   "metadata": {},
   "outputs": [
    {
     "name": "stdout",
     "output_type": "stream",
     "text": [
      "国名: 1\n",
      "歴史: 1\n",
      "地理: 1\n",
      "主要都市: 2\n",
      "気候: 2\n",
      "政治: 1\n",
      "元首: 2\n",
      "法: 2\n",
      "内政: 2\n",
      "地方行政区分: 2\n",
      "外交・軍事: 2\n",
      "経済: 1\n",
      "鉱業: 2\n",
      "農業: 2\n",
      "貿易: 2\n",
      "不動産: 2\n",
      "エネルギー政策: 2\n",
      "通貨: 2\n",
      "企業: 2\n",
      "通信: 3\n",
      "交通: 1\n",
      "道路: 2\n",
      "鉄道: 2\n",
      "海運: 2\n",
      "航空: 2\n",
      "科学技術: 1\n",
      "国民: 1\n",
      "言語: 2\n",
      "宗教: 2\n",
      "婚姻: 2\n",
      "移住: 2\n",
      "教育: 2\n",
      "医療: 2\n",
      "文化: 1\n",
      "食文化: 2\n",
      "文学: 2\n",
      "哲学: 2\n",
      "音楽: 2\n",
      "ポピュラー音楽: 3\n",
      "映画: 2\n",
      "コメディ: 2\n",
      "国花: 2\n",
      "世界遺産: 2\n",
      "祝祭日: 2\n",
      "スポーツ: 2\n",
      "サッカー: 3\n",
      "クリケット: 3\n",
      "競馬: 3\n",
      "モータースポーツ: 3\n",
      "野球: 3\n",
      " カーリング : 3\n",
      " 自転車競技 : 3\n",
      "脚注: 1\n",
      "関連項目: 1\n",
      "外部リンク: 1\n"
     ]
    }
   ],
   "source": [
    "import gzip\n",
    "import json\n",
    "\n",
    "with gzip.open(\"Data/jawiki-country.json.gz\", 'rt', encoding='utf-8') as f:\n",
    "    for rows in f:\n",
    "        if json.loads(rows)['title'] == 'イギリス':\n",
    "            data = json.loads(rows)['text']\n",
    "            break\n",
    "        else:\n",
    "            continue\n",
    "\n",
    "pattern = r'={2,}(.+?)(={2,})'\n",
    "res = re.findall(pattern, data)\n",
    "res = [name + ': ' + str(len(lev) - 1) for name, lev in res]\n",
    "print('\\n'.join(res))"
   ]
  }
 ],
 "metadata": {
  "kernelspec": {
   "display_name": "compe",
   "language": "python",
   "name": "compe"
  },
  "language_info": {
   "codemirror_mode": {
    "name": "ipython",
    "version": 3
   },
   "file_extension": ".py",
   "mimetype": "text/x-python",
   "name": "python",
   "nbconvert_exporter": "python",
   "pygments_lexer": "ipython3",
   "version": "3.9.12"
  }
 },
 "nbformat": 4,
 "nbformat_minor": 5
}
