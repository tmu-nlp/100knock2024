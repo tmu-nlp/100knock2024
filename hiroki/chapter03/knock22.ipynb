{
 "cells": [
  {
   "cell_type": "code",
   "execution_count": 5,
   "id": "d01e4a35-1e9e-4fbe-919b-16fed5bdf262",
   "metadata": {},
   "outputs": [
    {
     "name": "stdout",
     "output_type": "stream",
     "text": [
      "イギリス\n",
      "イギリス連邦加盟国\n",
      "英連邦王国\n",
      "G8加盟国\n",
      "欧州連合加盟国\n",
      "海洋国家\n",
      "現存する君主国\n",
      "島国\n",
      "1801年に成立した国家・領域\n"
     ]
    }
   ],
   "source": [
    "import gzip\n",
    "import json\n",
    "\n",
    "with gzip.open(\"Data/jawiki-country.json.gz\", 'rt', encoding='utf-8') as f:\n",
    "    for rows in f:\n",
    "        if json.loads(rows)['title'] == 'イギリス':\n",
    "            data = json.loads(rows)['text']\n",
    "            break\n",
    "        else:\n",
    "            continue\n",
    "\n",
    "pattern = r'\\[\\[Category:(.*?)(?:\\|.*?)?\\]\\]'\n",
    "res = re.findall(pattern, data)\n",
    "print('\\n'.join(res))"
   ]
  },
  {
   "cell_type": "code",
   "execution_count": null,
   "id": "4dec1e3b-8a76-4c67-b9cb-a178d1caae21",
   "metadata": {},
   "outputs": [],
   "source": []
  }
 ],
 "metadata": {
  "kernelspec": {
   "display_name": "compe",
   "language": "python",
   "name": "compe"
  },
  "language_info": {
   "codemirror_mode": {
    "name": "ipython",
    "version": 3
   },
   "file_extension": ".py",
   "mimetype": "text/x-python",
   "name": "python",
   "nbconvert_exporter": "python",
   "pygments_lexer": "ipython3",
   "version": "3.9.12"
  }
 },
 "nbformat": 4,
 "nbformat_minor": 5
}
