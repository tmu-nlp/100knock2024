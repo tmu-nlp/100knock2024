{
 "cells": [
  {
   "cell_type": "code",
   "execution_count": null,
   "id": "52604b34-258e-4322-b6fb-05d1274bb27e",
   "metadata": {},
   "outputs": [],
   "source": [
    "from sklearn.metrics import precision_score, recall_score, f1_score\n",
    "\n",
    "def metrics(y_data, y_pred, ave=None):\n",
    "  precision_sco = precision_score(y_data, y_pred, average=ave)\n",
    "  recall_sco = recall_score(y_data, y_pred, average=ave)\n",
    "  f1_sco = f1_score(y_data, y_pred, average=ave)\n",
    "  form = \"適合率：{}\\n再現率：{}\\nF１：{}\\n\".format(precision_sco, recall_sco, f1_sco)\n",
    "  return form\n",
    "\n",
    "print(f\"【カテゴリ順】{model.classes_}\\n\\n{metrics(y_test, Y_pred_test)}\")\n",
    "print(\"【マクロ平均】\\n\", metrics(y_test, Y_pred_test, \"macro\"))\n",
    "print(\"【マイクロ平均】\\n\", metrics(y_test, Y_pred_test, \"micro\"))"
   ]
  }
 ],
 "metadata": {
  "kernelspec": {
   "display_name": "compe",
   "language": "python",
   "name": "compe"
  },
  "language_info": {
   "codemirror_mode": {
    "name": "ipython",
    "version": 3
   },
   "file_extension": ".py",
   "mimetype": "text/x-python",
   "name": "python",
   "nbconvert_exporter": "python",
   "pygments_lexer": "ipython3",
   "version": "3.9.12"
  }
 },
 "nbformat": 4,
 "nbformat_minor": 5
}
