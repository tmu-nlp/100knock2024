{
 "cells": [
  {
   "cell_type": "code",
   "execution_count": null,
   "id": "07fa9ba8-73fe-4d3b-80da-deffc1568019",
   "metadata": {},
   "outputs": [],
   "source": [
    "import numpy as np\n",
    "\n",
    "def score(lg, X):\n",
    "    pred = lg.predict(X)\n",
    "    proba = np.max(lg.predict_proba(X), axis=1)\n",
    "    return pred, proba\n",
    "\n",
    "train_pred, train_proba = score(lg, train_X)\n",
    "test_pred, test_proba = score(lg, test_X)\n",
    "\n",
    "print(train_pred)\n",
    "print(train_proba)"
   ]
  }
 ],
 "metadata": {
  "kernelspec": {
   "display_name": "compe",
   "language": "python",
   "name": "compe"
  },
  "language_info": {
   "codemirror_mode": {
    "name": "ipython",
    "version": 3
   },
   "file_extension": ".py",
   "mimetype": "text/x-python",
   "name": "python",
   "nbconvert_exporter": "python",
   "pygments_lexer": "ipython3",
   "version": "3.9.12"
  }
 },
 "nbformat": 4,
 "nbformat_minor": 5
}
