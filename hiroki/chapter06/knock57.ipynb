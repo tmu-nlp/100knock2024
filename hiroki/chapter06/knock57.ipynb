{
 "cells": [
  {
   "cell_type": "code",
   "execution_count": null,
   "id": "caa7a55b-fd2a-4287-8f12-d590756aa5ba",
   "metadata": {},
   "outputs": [],
   "source": [
    "import numpy as np\n",
    " \n",
    "features = x_train.columns.values\n",
    "for c, coef in zip(model.classes_, model.coef_):\n",
    "  top_10 = pd.DataFrame(features[np.argsort(-coef)[:10]], columns=[f\"重みの高い特徴量トップ10（クラス名：{c}）\"], index=[i for i in range(1, 11)])\n",
    "  worst_10 = pd.DataFrame(features[np.argsort(coef)[:10]], columns=[f\"重みの低い特徴量トップ10（クラス名：{c}）\"], index=[i for i in range(1, 11)])\n",
    "  print( top_10, \"\\n\"),\n",
    "  print(worst_10, \"\\n\", \"-\"*70)"
   ]
  }
 ],
 "metadata": {
  "kernelspec": {
   "display_name": "compe",
   "language": "python",
   "name": "compe"
  },
  "language_info": {
   "codemirror_mode": {
    "name": "ipython",
    "version": 3
   },
   "file_extension": ".py",
   "mimetype": "text/x-python",
   "name": "python",
   "nbconvert_exporter": "python",
   "pygments_lexer": "ipython3",
   "version": "3.9.12"
  }
 },
 "nbformat": 4,
 "nbformat_minor": 5
}
