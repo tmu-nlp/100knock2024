{
 "cells": [
  {
   "cell_type": "code",
   "execution_count": null,
   "id": "00cc636e-be95-452e-816c-68628f65e27d",
   "metadata": {},
   "outputs": [],
   "source": [
    "from sklearn.linear_model import LogisticRegression\n",
    "from sklearn.metrics import accuracy_score\n",
    "import matplotlib.pyplot as plt\n",
    "\n",
    "#モデル構築、学習（関数）\n",
    "def LR_model_fit(x_data, y_data, c):\n",
    "  model = LogisticRegression(C=c)\n",
    "  model.fit(x_data, y_data) \n",
    "  return model\n",
    "\n",
    "#学習済みモデルを用いて予測する（関数）\n",
    "def LR_pred(x_data, y_data, model):\n",
    "  Y_pred_data = model.predict(x_data)\n",
    "  accuracy = accuracy_score(Y_pred_data, y_data)\n",
    "  return accuracy\n",
    "\n",
    "train_acc = []\n",
    "valid_acc = []\n",
    "test_acc = []\n",
    "\n",
    "#正則化パラメータ\n",
    "c_list = np.linspace(0.001, 0.1, 5)\n",
    "\n",
    "for c in c_list:\n",
    "  model = LR_model_fit(x_train, y_train, c)\n",
    "  pre_train = LR_pred(x_train, y_train, model)\n",
    "  pre_valid = LR_pred(x_valid, y_valid, model)\n",
    "  pre_test = LR_pred(x_test, y_test, model)\n",
    "\n",
    "  train_acc.append(pre_train)\n",
    "  valid_acc.append(pre_valid)\n",
    "  test_acc.append(pre_test)\n",
    "\n",
    "  print(f\"【正則化パラメータ：{c}】\\n\")\n",
    "  print(f\"train_accuracy：{pre_train}\")\n",
    "  print(f\"valid_accuracy：{pre_valid}\")\n",
    "  print(f\"test_accuracy：{pre_test}\\n\")\n",
    "\n",
    "#可視化\n",
    "plt.plot(c_list, train_acc, label=\"train\", marker=\"o\")\n",
    "plt.plot(c_list, valid_acc, label=\"valid\", marker=\"o\")\n",
    "plt.plot(c_list, test_acc, label=\"test\", marker=\"o\")\n",
    "\n",
    "plt.legend()\n",
    "plt.grid(True)\n",
    "plt.xlabel(\"Regularization\")\n",
    "plt.ylabel(\"Accuracy\")\n",
    "plt.show()"
   ]
  }
 ],
 "metadata": {
  "kernelspec": {
   "display_name": "compe",
   "language": "python",
   "name": "compe"
  },
  "language_info": {
   "codemirror_mode": {
    "name": "ipython",
    "version": 3
   },
   "file_extension": ".py",
   "mimetype": "text/x-python",
   "name": "python",
   "nbconvert_exporter": "python",
   "pygments_lexer": "ipython3",
   "version": "3.9.12"
  }
 },
 "nbformat": 4,
 "nbformat_minor": 5
}
