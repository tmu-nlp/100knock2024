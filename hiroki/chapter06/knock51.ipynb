{
 "cells": [
  {
   "cell_type": "code",
   "execution_count": null,
   "id": "0e9eff4e-ed5c-4333-9348-6b692148832d",
   "metadata": {},
   "outputs": [],
   "source": [
    "import re\n",
    "from nltk import stem\n",
    "\n",
    "# データの結合\n",
    "df = pd.concat([train, valid, test], axis=0).reset_index(drop=True)\n",
    "\n",
    "def preprocessing(text):\n",
    "    # 記号の削除\n",
    "    text_clean = re.sub(r'[\\\"\\'.,:;\\(\\)#\\|\\*\\+\\!\\?#$%&/\\]\\[\\{\\}]', '', text)\n",
    "    # ' - 'みたいなつなぎ文字を削除\n",
    "    text_clean = re.sub('\\s-\\s', ' ', text_clean)\n",
    "    # 数字の正規化(全部0にする)\n",
    "    text_clean = re.sub('[0-9]+', '0', text_clean)\n",
    "    # 小文字化\n",
    "    text_clean = text_clean.lower()\n",
    "    # ステミングで語幹だけ取り出す\n",
    "    stemmer = stem.PorterStemmer()\n",
    "    res = [stemmer.stem(x) for x in text_clean.split()]\n",
    "    return ' '.join(res)\n",
    "\n",
    "df['TITLE'] = df['TITLE'].apply(preprocessing)\n",
    "df.head()"
   ]
  }
 ],
 "metadata": {
  "kernelspec": {
   "display_name": "compe",
   "language": "python",
   "name": "compe"
  },
  "language_info": {
   "codemirror_mode": {
    "name": "ipython",
    "version": 3
   },
   "file_extension": ".py",
   "mimetype": "text/x-python",
   "name": "python",
   "nbconvert_exporter": "python",
   "pygments_lexer": "ipython3",
   "version": "3.9.12"
  }
 },
 "nbformat": 4,
 "nbformat_minor": 5
}
