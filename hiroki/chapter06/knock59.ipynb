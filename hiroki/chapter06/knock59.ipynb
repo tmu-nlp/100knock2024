{
 "cells": [
  {
   "cell_type": "code",
   "execution_count": 5,
   "id": "1c649e53-f7fb-4a28-8519-0c82cb5df103",
   "metadata": {},
   "outputs": [
    {
     "name": "stdout",
     "output_type": "stream",
     "text": [
      "Fitting 5 folds for each of 3 candidates, totalling 15 fits\n",
      "\n",
      "train_score: 99.96%\n",
      "valid_score: 86.95%\n",
      "test_score: 87.30%\n"
     ]
    }
   ],
   "source": [
    "from sklearn.model_selection import GridSearchCV\n",
    "\n",
    "params = {\"C\": [0.001, 0.005, 10]}\n",
    "\n",
    "# グリッドサーチを行う\n",
    "gs_model = GridSearchCV(LogisticRegression(max_iter=1500),params, cv=5, verbose=1)\n",
    "gs_model.fit(x_train, y_train)\n",
    "\n",
    "#最適なモデルを取得する\n",
    "best_gs_model = gs_model.best_estimator_\n",
    "print(\"\\ntrain_score: {:.2%}\".format(best_gs_model.score(x_train, y_train)))\n",
    "print(\"valid_score: {:.2%}\".format(best_gs_model.score(x_valid, y_valid)))\n",
    "print(\"test_score: {:.2%}\".format(best_gs_model.score(x_test, y_test)))"
   ]
  },
  {
   "cell_type": "code",
   "execution_count": null,
   "id": "47f1687d-34e1-4864-b409-4f040161f830",
   "metadata": {},
   "outputs": [],
   "source": []
  }
 ],
 "metadata": {
  "kernelspec": {
   "display_name": "compe",
   "language": "python",
   "name": "compe"
  },
  "language_info": {
   "codemirror_mode": {
    "name": "ipython",
    "version": 3
   },
   "file_extension": ".py",
   "mimetype": "text/x-python",
   "name": "python",
   "nbconvert_exporter": "python",
   "pygments_lexer": "ipython3",
   "version": "3.9.12"
  }
 },
 "nbformat": 4,
 "nbformat_minor": 5
}
