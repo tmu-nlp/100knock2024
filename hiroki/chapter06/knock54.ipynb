{
 "cells": [
  {
   "cell_type": "code",
   "execution_count": null,
   "id": "87070b24-3968-4e06-aa4b-7a71603a2edb",
   "metadata": {},
   "outputs": [],
   "source": [
    "from sklearn.metrics import accuracy_score\n",
    "\n",
    "Y_pred_train = model.predict(x_train)\n",
    "Y_pred_test = model.predict(x_test)\n",
    "\n",
    "print(f\"train_accuracy：{accuracy_score(y_train, Y_pred_train)}\")\n",
    "print(f\"test_accuracy：{accuracy_score(y_test, Y_pred_test)}\")"
   ]
  }
 ],
 "metadata": {
  "kernelspec": {
   "display_name": "compe",
   "language": "python",
   "name": "compe"
  },
  "language_info": {
   "codemirror_mode": {
    "name": "ipython",
    "version": 3
   },
   "file_extension": ".py",
   "mimetype": "text/x-python",
   "name": "python",
   "nbconvert_exporter": "python",
   "pygments_lexer": "ipython3",
   "version": "3.9.12"
  }
 },
 "nbformat": 4,
 "nbformat_minor": 5
}
