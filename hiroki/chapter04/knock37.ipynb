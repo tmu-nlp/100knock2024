{
 "cells": [
  {
   "cell_type": "code",
   "execution_count": null,
   "id": "9fafbdfd-04e5-45e7-8579-4a5fd0ee34b8",
   "metadata": {},
   "outputs": [],
   "source": []
  },
  {
   "cell_type": "code",
   "execution_count": 1,
   "id": "5688365c-1156-4c26-9fc3-b32ac134b39a",
   "metadata": {},
   "outputs": [],
   "source": [
    "import MeCab"
   ]
  },
  {
   "cell_type": "code",
   "execution_count": 2,
   "id": "dc4d54d8-b1f9-4b51-b5e8-7be88b07bfaf",
   "metadata": {},
   "outputs": [],
   "source": [
    "mecab = MeCab.Tagger()"
   ]
  },
  {
   "cell_type": "code",
   "execution_count": 3,
   "id": "c3a3bb35-fbe5-4796-a3b0-ad69ab29f8f1",
   "metadata": {},
   "outputs": [
    {
     "data": {
      "text/plain": [
       "[[{'surface': '一', 'base': '一', 'pos': '名詞', 'pos1': '数'}],\n",
       " [{'surface': '\\u3000', 'base': '\\u3000', 'pos': '記号', 'pos1': '空白'},\n",
       "  {'surface': '吾輩', 'base': '吾輩', 'pos': '名詞', 'pos1': '代名詞'},\n",
       "  {'surface': 'は', 'base': 'は', 'pos': '助詞', 'pos1': '係助詞'},\n",
       "  {'surface': '猫', 'base': '猫', 'pos': '名詞', 'pos1': '一般'},\n",
       "  {'surface': 'で', 'base': 'だ', 'pos': '助動詞', 'pos1': '*'},\n",
       "  {'surface': 'ある', 'base': 'ある', 'pos': '助動詞', 'pos1': '*'},\n",
       "  {'surface': '。', 'base': '。', 'pos': '記号', 'pos1': '句点'}]]"
      ]
     },
     "execution_count": 3,
     "metadata": {},
     "output_type": "execute_result"
    }
   ],
   "source": [
    "def read_mecab(file):\n",
    "    results = []\n",
    "    morphs = []\n",
    "    with open(file, 'r', encoding='utf-8') as f:\n",
    "        for row in f:\n",
    "            if row == 'EOS\\n':\n",
    "                if len(morphs):\n",
    "                    results.append(morphs)\n",
    "                    morphs = []\n",
    "            else:\n",
    "                cols1 = row.split('\\t')\n",
    "                cols2 = cols1[1].split(',')\n",
    "                morph = {'surface': cols1[0],\n",
    "                         'base': cols2[6],\n",
    "                         'pos': cols2[0],\n",
    "                         'pos1': cols2[1],\n",
    "                        }\n",
    "                morphs.append(morph)\n",
    "    if len(morphs):\n",
    "        results.append(morphs)\n",
    "        morphs = []\n",
    "    return results\n",
    "\n",
    "results = read_mecab('Data/neko.txt.mecab')\n",
    "results[:2]"
   ]
  },
  {
   "cell_type": "code",
   "execution_count": null,
   "id": "84911e10-4a4c-47e9-b3a3-0c6265d4fb4d",
   "metadata": {},
   "outputs": [],
   "source": []
  },
  {
   "cell_type": "code",
   "execution_count": 4,
   "id": "547e7ffe-a849-4d99-91d8-0b8b71ddc0c4",
   "metadata": {},
   "outputs": [],
   "source": [
    "import collections\n",
    "word_list = []\n",
    "for morphs in results:\n",
    "    for i in range(len(morphs)):\n",
    "        if morphs[i][\"pos\"] != \"補助記号\" and morphs[i][\"pos\"] != \"助詞\" and morphs[i][\"pos\"] != \"助動詞\":\n",
    "            word_list.append(morphs[i][\"surface\"])\n",
    "c = collections.Counter(word_list)\n",
    "common = c.most_common()"
   ]
  },
  {
   "cell_type": "code",
   "execution_count": 7,
   "id": "0c16e8aa-e0ce-4989-aa51-58d07b8f0569",
   "metadata": {},
   "outputs": [
    {
     "data": {
      "text/plain": [
       "<BarContainer object of 10 artists>"
      ]
     },
     "execution_count": 7,
     "metadata": {},
     "output_type": "execute_result"
    },
    {
     "data": {
      "image/png": "[encoded data removed]",
      "text/plain": [
       "<Figure size 432x288 with 1 Axes>"
      ]
     },
     "metadata": {
      "needs_background": "light"
     },
     "output_type": "display_data"
    }
   ],
   "source": [
    "import itertools\n",
    "import matplotlib.pyplot as plt\n",
    "import japanize_matplotlib\n",
    "%matplotlib inline\n",
    "\n",
    "neko_list = []\n",
    "for morphs in results:\n",
    "    text37 = []\n",
    "    Flag = 0\n",
    "    for morph in morphs:\n",
    "        if \"猫\" in morph[\"surface\"]:\n",
    "            Flag = 1\n",
    "            continue\n",
    "        if morph[\"pos\"] != \"補助記号\" and morph[\"pos\"] != \"助詞\" and morph[\"pos\"] != \"助動詞\":\n",
    "            text37.append(morph[\"surface\"])\n",
    "    if Flag == 1:\n",
    "        neko_list.append(text37)\n",
    "all_neko = list(itertools.chain.from_iterable(neko_list))\n",
    "c = collections.Counter(all_neko)\n",
    "word_list = []\n",
    "height_list = []\n",
    "for i in range(10):\n",
    "    word_list.append(c.most_common()[:10][i][0])\n",
    "    height_list.append(c.most_common()[:10][i][1])\n",
    "plt.bar(x = word_list, height = height_list)\n"
   ]
  },
  {
   "cell_type": "code",
   "execution_count": null,
   "id": "69876faa-78b9-4481-951f-92d9e59c74d0",
   "metadata": {},
   "outputs": [],
   "source": []
  }
 ],
 "metadata": {
  "kernelspec": {
   "display_name": "compe",
   "language": "python",
   "name": "compe"
  },
  "language_info": {
   "codemirror_mode": {
    "name": "ipython",
    "version": 3
   },
   "file_extension": ".py",
   "mimetype": "text/x-python",
   "name": "python",
   "nbconvert_exporter": "python",
   "pygments_lexer": "ipython3",
   "version": "3.9.12"
  }
 },
 "nbformat": 4,
 "nbformat_minor": 5
}
