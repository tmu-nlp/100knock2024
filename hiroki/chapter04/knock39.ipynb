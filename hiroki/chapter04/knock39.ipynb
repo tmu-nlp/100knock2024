{
 "cells": [
  {
   "cell_type": "code",
   "execution_count": 1,
   "id": "3256f6ab-8e01-48ad-85b5-efa85dc653e4",
   "metadata": {},
   "outputs": [],
   "source": [
    "import MeCab"
   ]
  },
  {
   "cell_type": "code",
   "execution_count": 2,
   "id": "7460be0a-66d2-41c0-8c98-1af4a7261fab",
   "metadata": {},
   "outputs": [],
   "source": [
    "mecab = MeCab.Tagger()"
   ]
  },
  {
   "cell_type": "code",
   "execution_count": 3,
   "id": "95ab4b95-90ac-455c-a82d-601bf98c38b4",
   "metadata": {},
   "outputs": [
    {
     "data": {
      "text/plain": [
       "[[{'surface': '一', 'base': '一', 'pos': '名詞', 'pos1': '数'}],\n",
       " [{'surface': '\\u3000', 'base': '\\u3000', 'pos': '記号', 'pos1': '空白'},\n",
       "  {'surface': '吾輩', 'base': '吾輩', 'pos': '名詞', 'pos1': '代名詞'},\n",
       "  {'surface': 'は', 'base': 'は', 'pos': '助詞', 'pos1': '係助詞'},\n",
       "  {'surface': '猫', 'base': '猫', 'pos': '名詞', 'pos1': '一般'},\n",
       "  {'surface': 'で', 'base': 'だ', 'pos': '助動詞', 'pos1': '*'},\n",
       "  {'surface': 'ある', 'base': 'ある', 'pos': '助動詞', 'pos1': '*'},\n",
       "  {'surface': '。', 'base': '。', 'pos': '記号', 'pos1': '句点'}]]"
      ]
     },
     "execution_count": 3,
     "metadata": {},
     "output_type": "execute_result"
    }
   ],
   "source": [
    "def read_mecab(file):\n",
    "    results = []\n",
    "    morphs = []\n",
    "    with open(file, 'r', encoding='utf-8') as f:\n",
    "        for row in f:\n",
    "            if row == 'EOS\\n':\n",
    "                if len(morphs):\n",
    "                    results.append(morphs)\n",
    "                    morphs = []\n",
    "            else:\n",
    "                cols1 = row.split('\\t')\n",
    "                cols2 = cols1[1].split(',')\n",
    "                morph = {'surface': cols1[0],\n",
    "                         'base': cols2[6],\n",
    "                         'pos': cols2[0],\n",
    "                         'pos1': cols2[1],\n",
    "                        }\n",
    "                morphs.append(morph)\n",
    "    if len(morphs):\n",
    "        results.append(morphs)\n",
    "        morphs = []\n",
    "    return results\n",
    "\n",
    "results = read_mecab('Data/neko.txt.mecab')\n",
    "results[:2]"
   ]
  },
  {
   "cell_type": "code",
   "execution_count": 4,
   "id": "b275a9c4-bd47-4586-a6d4-9ed763e37954",
   "metadata": {},
   "outputs": [],
   "source": [
    "import collections\n",
    "word_list = []\n",
    "for morphs in results:\n",
    "    for i in range(len(morphs)):\n",
    "        if morphs[i][\"pos\"] != \"補助記号\" and morphs[i][\"pos\"] != \"助詞\" and morphs[i][\"pos\"] != \"助動詞\":\n",
    "            word_list.append(morphs[i][\"surface\"])\n",
    "c = collections.Counter(word_list)\n",
    "common = c.most_common()"
   ]
  },
  {
   "cell_type": "code",
   "execution_count": 6,
   "id": "03645a1f-2b83-47df-8384-d89e4fd9fbbd",
   "metadata": {},
   "outputs": [
    {
     "data": {
      "image/png": "[encoded data removed]",
      "text/plain": [
       "<Figure size 432x288 with 1 Axes>"
      ]
     },
     "metadata": {
      "needs_background": "light"
     },
     "output_type": "display_data"
    }
   ],
   "source": [
    "import matplotlib.pyplot as plt\n",
    "import japanize_matplotlib\n",
    "word_list = []\n",
    "for morphs in results:\n",
    "    for morph in morphs:\n",
    "        word_list.append(morph[\"surface\"])\n",
    "data39 = collections.Counter(word_list)\n",
    "temp = sorted((data39.values()), reverse = True)\n",
    "plt.plot(temp)\n",
    "plt.xlabel('出現頻度順位')\n",
    "plt.ylabel('出現頻度')\n",
    "ax = plt.gca()\n",
    "ax.set_yscale('log')  \n",
    "ax.set_xscale('log')\n",
    "plt.show()"
   ]
  },
  {
   "cell_type": "code",
   "execution_count": null,
   "id": "9164f989-9984-4082-9649-5e535b63e211",
   "metadata": {},
   "outputs": [],
   "source": []
  }
 ],
 "metadata": {
  "kernelspec": {
   "display_name": "compe",
   "language": "python",
   "name": "compe"
  },
  "language_info": {
   "codemirror_mode": {
    "name": "ipython",
    "version": 3
   },
   "file_extension": ".py",
   "mimetype": "text/x-python",
   "name": "python",
   "nbconvert_exporter": "python",
   "pygments_lexer": "ipython3",
   "version": "3.9.12"
  }
 },
 "nbformat": 4,
 "nbformat_minor": 5
}
