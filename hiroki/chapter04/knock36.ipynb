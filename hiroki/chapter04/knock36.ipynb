{
 "cells": [
  {
   "cell_type": "code",
   "execution_count": 8,
   "id": "593e33a3-7aa7-4e85-ab7c-8578ff096a21",
   "metadata": {},
   "outputs": [
    {
     "name": "stdout",
     "output_type": "stream",
     "text": [
      "Collecting japanize-matplotlib\n",
      "  Downloading japanize-matplotlib-1.1.3.tar.gz (4.1 MB)\n",
      "     ---------------------------------------- 4.1/4.1 MB 8.5 MB/s eta 0:00:00\n",
      "  Preparing metadata (setup.py): started\n",
      "  Preparing metadata (setup.py): finished with status 'done'\n",
      "Requirement already satisfied: matplotlib in c:\\users\\hiroki masui\\anaconda3\\envs\\compe\\lib\\site-packages (from japanize-matplotlib) (3.5.1)\n",
      "Requirement already satisfied: packaging>=20.0 in c:\\users\\hiroki masui\\anaconda3\\envs\\compe\\lib\\site-packages (from matplotlib->japanize-matplotlib) (21.3)\n",
      "Requirement already satisfied: numpy>=1.17 in c:\\users\\hiroki masui\\anaconda3\\envs\\compe\\lib\\site-packages (from matplotlib->japanize-matplotlib) (1.22.3)\n",
      "Requirement already satisfied: python-dateutil>=2.7 in c:\\users\\hiroki masui\\anaconda3\\envs\\compe\\lib\\site-packages (from matplotlib->japanize-matplotlib) (2.8.2)\n",
      "Requirement already satisfied: pillow>=6.2.0 in c:\\users\\hiroki masui\\anaconda3\\envs\\compe\\lib\\site-packages (from matplotlib->japanize-matplotlib) (9.2.0)\n",
      "Requirement already satisfied: pyparsing>=2.2.1 in c:\\users\\hiroki masui\\anaconda3\\envs\\compe\\lib\\site-packages (from matplotlib->japanize-matplotlib) (3.0.4)\n",
      "Requirement already satisfied: fonttools>=4.22.0 in c:\\users\\hiroki masui\\anaconda3\\envs\\compe\\lib\\site-packages (from matplotlib->japanize-matplotlib) (4.25.0)\n",
      "Requirement already satisfied: kiwisolver>=1.0.1 in c:\\users\\hiroki masui\\anaconda3\\envs\\compe\\lib\\site-packages (from matplotlib->japanize-matplotlib) (1.4.2)\n",
      "Requirement already satisfied: cycler>=0.10 in c:\\users\\hiroki masui\\anaconda3\\envs\\compe\\lib\\site-packages (from matplotlib->japanize-matplotlib) (0.11.0)\n",
      "Requirement already satisfied: six>=1.5 in c:\\users\\hiroki masui\\anaconda3\\envs\\compe\\lib\\site-packages (from python-dateutil>=2.7->matplotlib->japanize-matplotlib) (1.16.0)\n",
      "Building wheels for collected packages: japanize-matplotlib\n",
      "  Building wheel for japanize-matplotlib (setup.py): started\n",
      "  Building wheel for japanize-matplotlib (setup.py): finished with status 'done'\n",
      "  Created wheel for japanize-matplotlib: filename=japanize_matplotlib-1.1.3-py3-none-any.whl size=4120275 sha256=94fa32fae0b71b3a97c0231cfeb65e9344ac442c986e87ed80e058d0968bd465\n",
      "  Stored in directory: c:\\users\\hiroki masui\\appdata\\local\\pip\\cache\\wheels\\91\\8f\\c2\\83055ad0c9591b0a094730aa7cb2cc12fedacbcd2241baf534\n",
      "Successfully built japanize-matplotlib\n",
      "Installing collected packages: japanize-matplotlib\n",
      "Successfully installed japanize-matplotlib-1.1.3\n"
     ]
    }
   ],
   "source": [
    "! pip install japanize-matplotlib"
   ]
  },
  {
   "cell_type": "code",
   "execution_count": 1,
   "id": "10338f48-a52f-4219-9d30-6a7e7c986133",
   "metadata": {},
   "outputs": [],
   "source": [
    "import MeCab"
   ]
  },
  {
   "cell_type": "code",
   "execution_count": 2,
   "id": "b7f86c2c-962f-4c32-a49f-e763b3fca51d",
   "metadata": {},
   "outputs": [],
   "source": [
    "mecab = MeCab.Tagger()"
   ]
  },
  {
   "cell_type": "code",
   "execution_count": 6,
   "id": "20d7b899-7aa1-423a-972f-29c811e2683f",
   "metadata": {},
   "outputs": [
    {
     "data": {
      "text/plain": [
       "[[{'surface': '一', 'base': '一', 'pos': '名詞', 'pos1': '数'}],\n",
       " [{'surface': '\\u3000', 'base': '\\u3000', 'pos': '記号', 'pos1': '空白'},\n",
       "  {'surface': '吾輩', 'base': '吾輩', 'pos': '名詞', 'pos1': '代名詞'},\n",
       "  {'surface': 'は', 'base': 'は', 'pos': '助詞', 'pos1': '係助詞'},\n",
       "  {'surface': '猫', 'base': '猫', 'pos': '名詞', 'pos1': '一般'},\n",
       "  {'surface': 'で', 'base': 'だ', 'pos': '助動詞', 'pos1': '*'},\n",
       "  {'surface': 'ある', 'base': 'ある', 'pos': '助動詞', 'pos1': '*'},\n",
       "  {'surface': '。', 'base': '。', 'pos': '記号', 'pos1': '句点'}]]"
      ]
     },
     "execution_count": 6,
     "metadata": {},
     "output_type": "execute_result"
    }
   ],
   "source": [
    "def read_mecab(file):\n",
    "    results = []\n",
    "    morphs = []\n",
    "    with open(file, 'r', encoding='utf-8') as f:\n",
    "        for row in f:\n",
    "            if row == 'EOS\\n':\n",
    "                if len(morphs):\n",
    "                    results.append(morphs)\n",
    "                    morphs = []\n",
    "            else:\n",
    "                cols1 = row.split('\\t')\n",
    "                cols2 = cols1[1].split(',')\n",
    "                morph = {'surface': cols1[0],\n",
    "                         'base': cols2[6],\n",
    "                         'pos': cols2[0],\n",
    "                         'pos1': cols2[1],\n",
    "                        }\n",
    "                morphs.append(morph)\n",
    "    if len(morphs):\n",
    "        results.append(morphs)\n",
    "        morphs = []\n",
    "    return results\n",
    "\n",
    "results = read_mecab('Data/neko.txt.mecab')\n",
    "results[:2]"
   ]
  },
  {
   "cell_type": "code",
   "execution_count": null,
   "id": "1e417c8d-edd1-4c56-82c3-9a3a9d167289",
   "metadata": {},
   "outputs": [],
   "source": []
  },
  {
   "cell_type": "code",
   "execution_count": 9,
   "id": "45f40f72-807d-4bce-af4d-e8a3f3683724",
   "metadata": {},
   "outputs": [],
   "source": [
    "import collections\n",
    "word_list = []\n",
    "for morphs in results:\n",
    "    for i in range(len(morphs)):\n",
    "        if morphs[i][\"pos\"] != \"補助記号\" and morphs[i][\"pos\"] != \"助詞\" and morphs[i][\"pos\"] != \"助動詞\":\n",
    "            word_list.append(morphs[i][\"surface\"])\n",
    "c = collections.Counter(word_list)\n",
    "common = c.most_common()"
   ]
  },
  {
   "cell_type": "code",
   "execution_count": 11,
   "id": "0ccfb067-663b-44c5-94b1-74dab4358ce4",
   "metadata": {},
   "outputs": [
    {
     "data": {
      "text/plain": [
       "<BarContainer object of 10 artists>"
      ]
     },
     "execution_count": 11,
     "metadata": {},
     "output_type": "execute_result"
    },
    {
     "data": {
      "image/png": "[encoded data removed]",
      "text/plain": [
       "<Figure size 432x288 with 1 Axes>"
      ]
     },
     "metadata": {
      "needs_background": "light"
     },
     "output_type": "display_data"
    }
   ],
   "source": [
    "import matplotlib.pyplot as plt\n",
    "import japanize_matplotlib\n",
    "import collections\n",
    "%matplotlib inline\n",
    "word_list = []\n",
    "height_list = []\n",
    "for i in range(10):\n",
    "    word_list.append(c.most_common()[i][0]) \n",
    "    height_list.append(c.most_common()[i][1])\n",
    "plt.bar(x = word_list ,height = height_list)\n"
   ]
  },
  {
   "cell_type": "code",
   "execution_count": null,
   "id": "b41b1390-7069-46a2-8cb8-bc3a69283dd4",
   "metadata": {},
   "outputs": [],
   "source": []
  }
 ],
 "metadata": {
  "kernelspec": {
   "display_name": "compe",
   "language": "python",
   "name": "compe"
  },
  "language_info": {
   "codemirror_mode": {
    "name": "ipython",
    "version": 3
   },
   "file_extension": ".py",
   "mimetype": "text/x-python",
   "name": "python",
   "nbconvert_exporter": "python",
   "pygments_lexer": "ipython3",
   "version": "3.9.12"
  }
 },
 "nbformat": 4,
 "nbformat_minor": 5
}
