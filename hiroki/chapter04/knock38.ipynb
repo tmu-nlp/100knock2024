{
 "cells": [
  {
   "cell_type": "code",
   "execution_count": 1,
   "id": "5fba48f6-dc4c-453e-b8ef-3ffc24321a4d",
   "metadata": {},
   "outputs": [],
   "source": [
    "import MeCab"
   ]
  },
  {
   "cell_type": "code",
   "execution_count": 2,
   "id": "66985547-3164-4f11-8b0a-c22380100b34",
   "metadata": {},
   "outputs": [],
   "source": [
    "mecab = MeCab.Tagger()"
   ]
  },
  {
   "cell_type": "code",
   "execution_count": 3,
   "id": "3d62540e-fe35-4449-926e-fc44c36d5db0",
   "metadata": {},
   "outputs": [
    {
     "data": {
      "text/plain": [
       "[[{'surface': '一', 'base': '一', 'pos': '名詞', 'pos1': '数'}],\n",
       " [{'surface': '\\u3000', 'base': '\\u3000', 'pos': '記号', 'pos1': '空白'},\n",
       "  {'surface': '吾輩', 'base': '吾輩', 'pos': '名詞', 'pos1': '代名詞'},\n",
       "  {'surface': 'は', 'base': 'は', 'pos': '助詞', 'pos1': '係助詞'},\n",
       "  {'surface': '猫', 'base': '猫', 'pos': '名詞', 'pos1': '一般'},\n",
       "  {'surface': 'で', 'base': 'だ', 'pos': '助動詞', 'pos1': '*'},\n",
       "  {'surface': 'ある', 'base': 'ある', 'pos': '助動詞', 'pos1': '*'},\n",
       "  {'surface': '。', 'base': '。', 'pos': '記号', 'pos1': '句点'}]]"
      ]
     },
     "execution_count": 3,
     "metadata": {},
     "output_type": "execute_result"
    }
   ],
   "source": [
    "def read_mecab(file):\n",
    "    results = []\n",
    "    morphs = []\n",
    "    with open(file, 'r', encoding='utf-8') as f:\n",
    "        for row in f:\n",
    "            if row == 'EOS\\n':\n",
    "                if len(morphs):\n",
    "                    results.append(morphs)\n",
    "                    morphs = []\n",
    "            else:\n",
    "                cols1 = row.split('\\t')\n",
    "                cols2 = cols1[1].split(',')\n",
    "                morph = {'surface': cols1[0],\n",
    "                         'base': cols2[6],\n",
    "                         'pos': cols2[0],\n",
    "                         'pos1': cols2[1],\n",
    "                        }\n",
    "                morphs.append(morph)\n",
    "    if len(morphs):\n",
    "        results.append(morphs)\n",
    "        morphs = []\n",
    "    return results\n",
    "\n",
    "results = read_mecab('Data/neko.txt.mecab')\n",
    "results[:2]"
   ]
  },
  {
   "cell_type": "code",
   "execution_count": null,
   "id": "1fe3dcac-b71f-45c0-a6ef-cf84aced80d9",
   "metadata": {},
   "outputs": [],
   "source": []
  },
  {
   "cell_type": "code",
   "execution_count": 4,
   "id": "5b52df52-6ee0-42e4-a9a9-b315d4f6020b",
   "metadata": {},
   "outputs": [],
   "source": [
    "import collections\n",
    "word_list = []\n",
    "for morphs in results:\n",
    "    for i in range(len(morphs)):\n",
    "        if morphs[i][\"pos\"] != \"補助記号\" and morphs[i][\"pos\"] != \"助詞\" and morphs[i][\"pos\"] != \"助動詞\":\n",
    "            word_list.append(morphs[i][\"surface\"])\n",
    "c = collections.Counter(word_list)\n",
    "common = c.most_common()"
   ]
  },
  {
   "cell_type": "code",
   "execution_count": 6,
   "id": "251a09a0-18f8-4c30-af4e-5bd930f34f4d",
   "metadata": {},
   "outputs": [
    {
     "data": {
      "text/plain": [
       "(array([6192., 2268., 1114.,  688.,  536.,  349.,  278.,  240.,  171.,\n",
       "         130.,  116.,  110.,  102.,   92.,   79.,   59.,   52.,   60.,\n",
       "          50.,   47.,   24.,   27.,   37.,   36.,   28.,   22.,   24.,\n",
       "          43.]),\n",
       " array([ 1,  2,  3,  4,  5,  6,  7,  8,  9, 10, 11, 12, 13, 14, 15, 16, 17,\n",
       "        18, 19, 20, 21, 22, 23, 24, 25, 26, 27, 28, 29]),\n",
       " <BarContainer object of 28 artists>)"
      ]
     },
     "execution_count": 6,
     "metadata": {},
     "output_type": "execute_result"
    },
    {
     "data": {
      "image/png": "[encoded data removed]",
      "text/plain": [
       "<Figure size 432x288 with 1 Axes>"
      ]
     },
     "metadata": {
      "needs_background": "light"
     },
     "output_type": "display_data"
    }
   ],
   "source": [
    "import matplotlib.pyplot as plt\n",
    "word_list = []\n",
    "for morphs in results:\n",
    "    for morph in morphs:\n",
    "        word_list.append(morph[\"surface\"])\n",
    "data38 = collections.Counter(word_list)\n",
    "plt.hist(data38.values(), range(1, 30)) "
   ]
  },
  {
   "cell_type": "code",
   "execution_count": null,
   "id": "836b44bf-f022-4bd8-b2dc-9364c84facc4",
   "metadata": {},
   "outputs": [],
   "source": []
  }
 ],
 "metadata": {
  "kernelspec": {
   "display_name": "compe",
   "language": "python",
   "name": "compe"
  },
  "language_info": {
   "codemirror_mode": {
    "name": "ipython",
    "version": 3
   },
   "file_extension": ".py",
   "mimetype": "text/x-python",
   "name": "python",
   "nbconvert_exporter": "python",
   "pygments_lexer": "ipython3",
   "version": "3.9.12"
  }
 },
 "nbformat": 4,
 "nbformat_minor": 5
}
