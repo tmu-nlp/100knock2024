{
 "cells": [
  {
   "cell_type": "code",
   "execution_count": 1,
   "id": "3dfc3121-a506-4d78-b201-7730a87d90b9",
   "metadata": {},
   "outputs": [],
   "source": [
    "import MeCab"
   ]
  },
  {
   "cell_type": "code",
   "execution_count": 2,
   "id": "8c2a0049-d716-45ff-873e-94e1b2333d64",
   "metadata": {},
   "outputs": [],
   "source": [
    "mecab = MeCab.Tagger()"
   ]
  },
  {
   "cell_type": "code",
   "execution_count": 3,
   "id": "414e0cd0-bf1c-43e9-9a75-927ac8d00824",
   "metadata": {},
   "outputs": [
    {
     "data": {
      "text/plain": [
       "[[{'surface': '一', 'base': '一', 'pos': '名詞', 'pos1': '数'}],\n",
       " [{'surface': '\\u3000', 'base': '\\u3000', 'pos': '記号', 'pos1': '空白'},\n",
       "  {'surface': '吾輩', 'base': '吾輩', 'pos': '名詞', 'pos1': '代名詞'},\n",
       "  {'surface': 'は', 'base': 'は', 'pos': '助詞', 'pos1': '係助詞'},\n",
       "  {'surface': '猫', 'base': '猫', 'pos': '名詞', 'pos1': '一般'},\n",
       "  {'surface': 'で', 'base': 'だ', 'pos': '助動詞', 'pos1': '*'},\n",
       "  {'surface': 'ある', 'base': 'ある', 'pos': '助動詞', 'pos1': '*'},\n",
       "  {'surface': '。', 'base': '。', 'pos': '記号', 'pos1': '句点'}],\n",
       " [{'surface': '名前', 'base': '名前', 'pos': '名詞', 'pos1': '一般'},\n",
       "  {'surface': 'は', 'base': 'は', 'pos': '助詞', 'pos1': '係助詞'},\n",
       "  {'surface': 'まだ', 'base': 'まだ', 'pos': '副詞', 'pos1': '助詞類接続'},\n",
       "  {'surface': '無い', 'base': '無い', 'pos': '形容詞', 'pos1': '自立'},\n",
       "  {'surface': '。', 'base': '。', 'pos': '記号', 'pos1': '句点'}],\n",
       " [{'surface': '\\u3000', 'base': '\\u3000', 'pos': '記号', 'pos1': '空白'},\n",
       "  {'surface': 'どこ', 'base': 'どこ', 'pos': '名詞', 'pos1': '代名詞'},\n",
       "  {'surface': 'で', 'base': 'で', 'pos': '助詞', 'pos1': '格助詞'},\n",
       "  {'surface': '生れ', 'base': '生れる', 'pos': '動詞', 'pos1': '自立'},\n",
       "  {'surface': 'た', 'base': 'た', 'pos': '助動詞', 'pos1': '*'},\n",
       "  {'surface': 'か', 'base': 'か', 'pos': '助詞', 'pos1': '副助詞／並立助詞／終助詞'},\n",
       "  {'surface': 'とんと', 'base': 'とんと', 'pos': '副詞', 'pos1': '一般'},\n",
       "  {'surface': '見当', 'base': '見当', 'pos': '名詞', 'pos1': 'サ変接続'},\n",
       "  {'surface': 'が', 'base': 'が', 'pos': '助詞', 'pos1': '格助詞'},\n",
       "  {'surface': 'つか', 'base': 'つく', 'pos': '動詞', 'pos1': '自立'},\n",
       "  {'surface': 'ぬ', 'base': 'ぬ', 'pos': '助動詞', 'pos1': '*'},\n",
       "  {'surface': '。', 'base': '。', 'pos': '記号', 'pos1': '句点'}],\n",
       " [{'surface': '何', 'base': '何', 'pos': '名詞', 'pos1': '代名詞'},\n",
       "  {'surface': 'でも', 'base': 'でも', 'pos': '助詞', 'pos1': '副助詞'},\n",
       "  {'surface': '薄暗い', 'base': '薄暗い', 'pos': '形容詞', 'pos1': '自立'},\n",
       "  {'surface': 'じめじめ', 'base': 'じめじめ', 'pos': '副詞', 'pos1': '一般'},\n",
       "  {'surface': 'し', 'base': 'する', 'pos': '動詞', 'pos1': '自立'},\n",
       "  {'surface': 'た', 'base': 'た', 'pos': '助動詞', 'pos1': '*'},\n",
       "  {'surface': '所', 'base': '所', 'pos': '名詞', 'pos1': '非自立'},\n",
       "  {'surface': 'で', 'base': 'で', 'pos': '助詞', 'pos1': '格助詞'},\n",
       "  {'surface': 'ニャーニャー', 'base': '*\\n', 'pos': '名詞', 'pos1': '一般'},\n",
       "  {'surface': '泣い', 'base': '泣く', 'pos': '動詞', 'pos1': '自立'},\n",
       "  {'surface': 'て', 'base': 'て', 'pos': '助詞', 'pos1': '接続助詞'},\n",
       "  {'surface': 'いた事', 'base': 'いた事', 'pos': '名詞', 'pos1': '一般'},\n",
       "  {'surface': 'だけ', 'base': 'だけ', 'pos': '助詞', 'pos1': '副助詞'},\n",
       "  {'surface': 'は', 'base': 'は', 'pos': '助詞', 'pos1': '係助詞'},\n",
       "  {'surface': '記憶', 'base': '記憶', 'pos': '名詞', 'pos1': 'サ変接続'},\n",
       "  {'surface': 'し', 'base': 'する', 'pos': '動詞', 'pos1': '自立'},\n",
       "  {'surface': 'て', 'base': 'て', 'pos': '助詞', 'pos1': '接続助詞'},\n",
       "  {'surface': 'いる', 'base': 'いる', 'pos': '動詞', 'pos1': '非自立'},\n",
       "  {'surface': '。', 'base': '。', 'pos': '記号', 'pos1': '句点'}]]"
      ]
     },
     "execution_count": 3,
     "metadata": {},
     "output_type": "execute_result"
    }
   ],
   "source": [
    "def read_mecab(file):\n",
    "    results = []\n",
    "    morphs = []\n",
    "    with open(file, 'r', encoding='utf-8') as f:\n",
    "        for row in f:\n",
    "            if row == 'EOS\\n':\n",
    "                if len(morphs):\n",
    "                    results.append(morphs)\n",
    "                    morphs = []\n",
    "            else:\n",
    "                cols1 = row.split('\\t')\n",
    "                cols2 = cols1[1].split(',')\n",
    "                morph = {'surface': cols1[0],\n",
    "                         'base': cols2[6],\n",
    "                         'pos': cols2[0],\n",
    "                         'pos1': cols2[1],\n",
    "                        }\n",
    "                morphs.append(morph)\n",
    "    if len(morphs):\n",
    "        results.append(morphs)\n",
    "        morphs = []\n",
    "    return results\n",
    "\n",
    "results = read_mecab('Data/neko.txt.mecab')"
   ]
  },
  {
   "cell_type": "code",
   "execution_count": 5,
   "id": "3fb2e865-4c53-4cd5-a6a5-6357c30632a7",
   "metadata": {},
   "outputs": [
    {
     "data": {
      "text/plain": [
       "['彼の掌', '掌の上', '書生の顔', 'はずの顔', '顔の真中']"
      ]
     },
     "execution_count": 5,
     "metadata": {},
     "output_type": "execute_result"
    }
   ],
   "source": [
    "nolist = []\n",
    "for morphs in results:\n",
    "    for i in range(len(morphs)-1):\n",
    "        if morphs[i]['surface'] == 'の' and morphs[i-1]['pos'] == '名詞' and morphs[i+1]['pos'] == '名詞':\n",
    "            nolist.append(morphs[i-1]['surface'] + morphs[i]['surface'] + morphs[i+1]['surface'])\n",
    "nolist[:5]"
   ]
  },
  {
   "cell_type": "code",
   "execution_count": null,
   "id": "fff83ce6-12c6-44dc-b73e-9bbc5916feea",
   "metadata": {},
   "outputs": [],
   "source": []
  }
 ],
 "metadata": {
  "kernelspec": {
   "display_name": "compe",
   "language": "python",
   "name": "compe"
  },
  "language_info": {
   "codemirror_mode": {
    "name": "ipython",
    "version": 3
   },
   "file_extension": ".py",
   "mimetype": "text/x-python",
   "name": "python",
   "nbconvert_exporter": "python",
   "pygments_lexer": "ipython3",
   "version": "3.9.12"
  }
 },
 "nbformat": 4,
 "nbformat_minor": 5
}
