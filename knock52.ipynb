{
  "nbformat": 4,
  "nbformat_minor": 0,
  "metadata": {
    "colab": {
      "provenance": [],
      "authorship_tag": "ABX9TyNfNtIg71m8rG35gJw62ta1"
    },
    "kernelspec": {
      "name": "python3",
      "display_name": "Python 3"
    },
    "language_info": {
      "name": "python"
    }
  },
  "cells": [
    {
      "cell_type": "code",
      "execution_count": null,
      "metadata": {
        "id": "dzcwa_HrAicL"
      },
      "outputs": [],
      "source": [
        "#52. 学習\n",
        "#51で構築した学習データを用いて，ロジスティック回帰モデルを学習せよ．\n",
        "\n",
        "import pandas as pd\n",
        "from sklearn.linear_model import LogisticRegression\n",
        "import pickle\n",
        "\n",
        "#ロジスティック回帰モデルのインスタンスを作成\n",
        "#random_state=20010101: モデルのランダムな動作を固定して再現性を確保\n",
        "#max_iter：最大の反復回数\n",
        "lr = LogisticRegression(random_state=20010101, max_iter=1000)\n",
        "\n",
        "#トレーニングデータ読み込み\n",
        "X_train = pd.read_table(\"train.feature.txt\") #特徴量\n",
        "Y_train = pd.read_table(\"train.txt\")[\"CATEGORY\"] #カテゴリ情報\n",
        "\n",
        "#モデルのトレーニング\n",
        "lr.fit(X_train, Y_train)\n",
        "\n",
        "#モデルの保存(予測の際に使用)\n",
        "with open(\"logreg.pkl\", \"wb\") as f:\n",
        "    pickle.dump(lr, f)\n"
      ]
    }
  ]
}