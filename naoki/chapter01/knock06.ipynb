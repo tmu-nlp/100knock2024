{
 "cells": [
  {
   "cell_type": "code",
   "execution_count": null,
   "metadata": {},
   "outputs": [],
   "source": [
    "def N_gram(n,string):\n",
    "    char = string.replace(\" \",\"\")\n",
    "    char_list = []\n",
    "    for c in range(len(char)):\n",
    "        char_list.append(char[c:c+n])\n",
    "    return char_list\n",
    "X = set(N_gram(2,\"paraparaparadise\"))\n",
    "Y = set(N_gram(2, \"paragraph\"))\n",
    "\n",
    "print('和集合:',X|Y)\n",
    "print('積集合:',X&Y)\n",
    "print('差集合:',X-Y)\n",
    "\n",
    "def word_search(word):\n",
    "    if word in X:\n",
    "        print(f\"Xは{word}含む\")\n",
    "    if word in Y:\n",
    "        print(f\"Yは{word}含む\")\n",
    "word_search('se')"
   ]
  }
 ],
 "metadata": {
  "interpreter": {
   "hash": "9ff8ea9f5bf98b88aeb07d5f996eec83cf9eb954a40999d60006e9e6a2d6768a"
  },
  "kernelspec": {
   "display_name": "Python 3 (ipykernel)",
   "language": "python",
   "name": "python3"
  },
  "language_info": {
   "codemirror_mode": {
    "name": "ipython",
    "version": 3
   },
   "file_extension": ".py",
   "mimetype": "text/x-python",
   "name": "python",
   "nbconvert_exporter": "python",
   "pygments_lexer": "ipython3",
   "version": "3.8.13"
  }
 },
 "nbformat": 4,
 "nbformat_minor": 4
}
