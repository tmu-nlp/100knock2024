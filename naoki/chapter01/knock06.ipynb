{
 "cells": [
  {
   "cell_type": "code",
   "execution_count": 2,
   "metadata": {},
   "outputs": [
    {
     "name": "stdout",
     "output_type": "stream",
     "text": [
      "和集合: {'ap', 'ra', 'h', 'di', 'se', 'ag', 'gr', 'e', 'ad', 'pa', 'ph', 'ar', 'is'}\n",
      "積集合: {'ra', 'pa', 'ar', 'ap'}\n",
      "差集合: {'di', 'se', 'e', 'ad', 'is'}\n",
      "Xはse含む\n"
     ]
    }
   ],
   "source": [
    "def N_gram(n,string):\n",
    "    char = string.replace(\" \",\"\")\n",
    "    char_list = []\n",
    "    for c in range(len(char)):\n",
    "        char_list.append(char[c:c+n])\n",
    "    return char_list\n",
    "X = set(N_gram(2,\"paraparaparadise\"))\n",
    "Y = set(N_gram(2, \"paragraph\"))\n",
    "\n",
    "print('和集合:',X|Y)\n",
    "print('積集合:',X&Y)\n",
    "print('差集合:',X-Y)\n",
    "\n",
    "def word_search(word):\n",
    "    if word in X:\n",
    "        print(f\"Xは{word}含む\")\n",
    "    if word in Y:\n",
    "        print(f\"Yは{word}含む\")\n",
    "word_search('se')"
   ]
  },
  {
   "cell_type": "code",
   "execution_count": 3,
   "metadata": {},
   "outputs": [
    {
     "name": "stdout",
     "output_type": "stream",
     "text": [
      "含む\n"
     ]
    }
   ],
   "source": [
    "def N_gram(n,string):\n",
    "    char = string.replace(\" \",\"\")\n",
    "    char_list = []\n",
    "    for c in range(len(char)):\n",
    "        char_list.append(char[c:c+n])\n",
    "    return char_list\n",
    "X = set(N_gram(2,\"paraparaparadise\"))\n",
    "Y = set(N_gram(2, \"paragraph\"))\n",
    "\n",
    "if 'se' in X|Y:\n",
    "    print('含む')"
   ]
  }
 ],
 "metadata": {
  "interpreter": {
   "hash": "9ff8ea9f5bf98b88aeb07d5f996eec83cf9eb954a40999d60006e9e6a2d6768a"
  },
  "kernelspec": {
   "display_name": "Python 3 (ipykernel)",
   "language": "python",
   "name": "python3"
  },
  "language_info": {
   "codemirror_mode": {
    "name": "ipython",
    "version": 3
   },
   "file_extension": ".py",
   "mimetype": "text/x-python",
   "name": "python",
   "nbconvert_exporter": "python",
   "pygments_lexer": "ipython3",
   "version": "3.10.12"
  }
 },
 "nbformat": 4,
 "nbformat_minor": 4
}
