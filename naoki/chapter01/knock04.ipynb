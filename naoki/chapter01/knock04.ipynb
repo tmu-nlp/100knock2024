{
 "cells": [
  {
   "cell_type": "code",
   "execution_count": null,
   "metadata": {},
   "outputs": [],
   "source": [
    "def chemical_symbol(s):\n",
    "    s = s.replace(',', ' ').replace('.', ' ')\n",
    "    chemical_list = s.split()\n",
    "    number_list1 = [1, 5, 6, 7, 8, 9, 15, 16, 19]\n",
    "    result = []\n",
    "    for t in range(20):\n",
    "        if t + 1 in number_list1:\n",
    "            result.append(chemical_list[t][0])\n",
    "        else:\n",
    "            result.append(chemical_list[t][:2])\n",
    "    return f\"[{', '.join(result)}]\"\n",
    "\n",
    "chemical_symbol(\"Hi He Lied Because Boron Could Not Oxidize Fluorine. New Nations Might Also Sign Peace Security Clause. Arthur King Can.\")"
   ]
  }
 ],
 "metadata": {
  "interpreter": {
   "hash": "9ff8ea9f5bf98b88aeb07d5f996eec83cf9eb954a40999d60006e9e6a2d6768a"
  },
  "kernelspec": {
   "display_name": "Python 3 (ipykernel)",
   "language": "python",
   "name": "python3"
  },
  "language_info": {
   "codemirror_mode": {
    "name": "ipython",
    "version": 3
   },
   "file_extension": ".py",
   "mimetype": "text/x-python",
   "name": "python",
   "nbconvert_exporter": "python",
   "pygments_lexer": "ipython3",
   "version": "3.8.13"
  }
 },
 "nbformat": 4,
 "nbformat_minor": 4
}
