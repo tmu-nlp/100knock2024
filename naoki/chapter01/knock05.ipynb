{
 "cells": [
  {
   "cell_type": "code",
   "execution_count": null,
   "metadata": {},
   "outputs": [],
   "source": [
    "def N_gram(n,string):\n",
    "    #splitは任意の文字で文字列を区切り、リスト化する\n",
    "    word = string.split(\" \")\n",
    "    char = string.replace(\" \",\"\")\n",
    "    word_list = []\n",
    "    char_list = []\n",
    "    for w in range(len(word)):\n",
    "        word_list.append(word[w:w+n])\n",
    "    for c in range(len(char)):\n",
    "        char_list.append(char[c:c+n])\n",
    "    return word_list , char_list\n",
    "#2つの出力結果をまとめることも可能\n",
    "word_bigram,char_bigram = N_gram(2,'I am an NLPer')\n",
    "print('単語bi-gram:',word_bigram)\n",
    "print('文字bi-gram:',char_bigram)"
   ]
  }
 ],
 "metadata": {
  "interpreter": {
   "hash": "9ff8ea9f5bf98b88aeb07d5f996eec83cf9eb954a40999d60006e9e6a2d6768a"
  },
  "kernelspec": {
   "display_name": "Python 3 (ipykernel)",
   "language": "python",
   "name": "python3"
  },
  "language_info": {
   "codemirror_mode": {
    "name": "ipython",
    "version": 3
   },
   "file_extension": ".py",
   "mimetype": "text/x-python",
   "name": "python",
   "nbconvert_exporter": "python",
   "pygments_lexer": "ipython3",
   "version": "3.8.13"
  }
 },
 "nbformat": 4,
 "nbformat_minor": 4
}
