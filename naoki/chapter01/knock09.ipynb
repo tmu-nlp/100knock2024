{
 "cells": [
  {
   "cell_type": "code",
   "execution_count": null,
   "metadata": {},
   "outputs": [],
   "source": [
    "import random\n",
    "text09 = \"I couldn’t believe that I could actually understand what I was reading : the phenomenal power of the human mind .\"\n",
    "text09 = text09.replace(\".\", \"\")\n",
    "text09b = text09.split(\" \")\n",
    "temp = \"\"\n",
    "for txt in text09b:\n",
    "    if len(txt) <= 4:\n",
    "        pass\n",
    "    else:\n",
    "        txt = txt[0]+\"\".join(random.sample(txt[1:-1], len(txt[1:-1])))+txt[-1]\n",
    "    temp += txt + \" \"\n",
    "result = temp[:-1] + \".\"\n",
    "print(result)"
   ]
  }
 ],
 "metadata": {
  "interpreter": {
   "hash": "9ff8ea9f5bf98b88aeb07d5f996eec83cf9eb954a40999d60006e9e6a2d6768a"
  },
  "kernelspec": {
   "display_name": "Python 3 (ipykernel)",
   "language": "python",
   "name": "python3"
  },
  "language_info": {
   "codemirror_mode": {
    "name": "ipython",
    "version": 3
   },
   "file_extension": ".py",
   "mimetype": "text/x-python",
   "name": "python",
   "nbconvert_exporter": "python",
   "pygments_lexer": "ipython3",
   "version": "3.8.13"
  }
 },
 "nbformat": 4,
 "nbformat_minor": 4
}
