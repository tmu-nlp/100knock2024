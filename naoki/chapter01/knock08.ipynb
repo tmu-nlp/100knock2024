{
 "cells": [
  {
   "cell_type": "code",
   "execution_count": 3,
   "metadata": {},
   "outputs": [
    {
     "data": {
      "text/plain": [
       "('zzzyyy', 'aaabbb')"
      ]
     },
     "execution_count": 3,
     "metadata": {},
     "output_type": "execute_result"
    }
   ],
   "source": [
    "import re\n",
    "def cipher(text):\n",
    "    temp = \"\"\n",
    "    for ch in text:\n",
    "        if ch in [chr(i) for i in range(ord('a'),ord('z')+1)]:\n",
    "            ch = chr(219 - ord(ch))\n",
    "        temp += ch\n",
    "    return temp\n",
    "password = cipher(\"aaabbb\")\n",
    "re_password = cipher(password)\n",
    "\n",
    "password,re_password"
   ]
  },
  {
   "cell_type": "code",
   "execution_count": 8,
   "metadata": {},
   "outputs": [
    {
     "data": {
      "text/plain": [
       "('zzzyyy', 'aaabbb')"
      ]
     },
     "execution_count": 8,
     "metadata": {},
     "output_type": "execute_result"
    }
   ],
   "source": [
    "def cipher(text):\n",
    "    pas = ''\n",
    "    for ch in text:\n",
    "        if ch in [chr(i) for i in range(ord('a'),ord('z')+1)]:\n",
    "            pas_key = chr(219-ord(ch))\n",
    "            pas += pas_key\n",
    "    return pas\n",
    "\n",
    "password = cipher(\"aaabbb\")\n",
    "re_password = cipher(password)\n",
    "\n",
    "password,re_password"
   ]
  }
 ],
 "metadata": {
  "interpreter": {
   "hash": "9ff8ea9f5bf98b88aeb07d5f996eec83cf9eb954a40999d60006e9e6a2d6768a"
  },
  "kernelspec": {
   "display_name": "Python 3 (ipykernel)",
   "language": "python",
   "name": "python3"
  },
  "language_info": {
   "codemirror_mode": {
    "name": "ipython",
    "version": 3
   },
   "file_extension": ".py",
   "mimetype": "text/x-python",
   "name": "python",
   "nbconvert_exporter": "python",
   "pygments_lexer": "ipython3",
   "version": "3.10.12"
  }
 },
 "nbformat": 4,
 "nbformat_minor": 4
}
