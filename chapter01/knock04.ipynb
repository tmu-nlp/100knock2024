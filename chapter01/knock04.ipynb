{
 "cells": [
  {
   "cell_type": "markdown",
   "id": "a3340b8a",
   "metadata": {},
   "source": [
    "04. 元素記号\n",
    "\n",
    "“Hi He Lied Because Boron Could Not Oxidize Fluorine. New Nations Might Also Sign Peace Security Clause. Arthur King Can.”という文を単語に分解し，1, 5, 6, 7, 8, 9, 15, 16, 19番目の単語は先頭の1文字，それ以外の単語は先頭の2文字を取り出し，取り出した文字列から単語の位置（先頭から何番目の単語か）への連想配列（辞書型もしくはマップ型）を作成せよ．"
   ]
  },
  {
   "cell_type": "code",
   "execution_count": 1,
   "id": "695fbb8e",
   "metadata": {},
   "outputs": [
    {
     "name": "stdout",
     "output_type": "stream",
     "text": [
      "{'H': 1, 'He': 2, 'Li': 3, 'Be': 4, 'B': 5, 'C': 6, 'N': 7, 'O': 8, 'F': 9, 'Ne': 10, 'Na': 11, 'Mi': 12, 'Al': 13, 'Si': 14, 'P': 15, 'S': 16, 'Cl': 17, 'Ar': 18, 'K': 19, 'Ca': 20}\n"
     ]
    }
   ],
   "source": [
    "sentence = \"Hi He Lied Because Boron Could Not Oxidize Fluorine. New Nations Might Also Sign Peace Security Clause. Arthur King Can.\"\n",
    "\n",
    "# 単語に分割\n",
    "words = sentence.split()\n",
    "\n",
    "# 一文字だけ取る単語の位置のリスト（1から始まるインデックス）\n",
    "one_letter_indices = {1, 5, 6, 7, 8, 9, 15, 16, 19}\n",
    "\n",
    "# 単語の位置から取り出した文字へのマッピング\n",
    "elements = {}\n",
    "\n",
    "for i, word in enumerate(words, start=1):\n",
    "    # 位置がone_letter_indicesに含まれる場合は1文字、それ以外は2文字を取る\n",
    "    if i in one_letter_indices:\n",
    "        key = word[0]\n",
    "    else:\n",
    "        key = word[:2]\n",
    "\n",
    "    # 辞書に位置と対応する文字を保存\n",
    "    elements[key] = i\n",
    "\n",
    "print(elements)"
   ]
  }
 ],
 "metadata": {
  "kernelspec": {
   "display_name": "Python 3 (ipykernel)",
   "language": "python",
   "name": "python3"
  },
  "language_info": {
   "codemirror_mode": {
    "name": "ipython",
    "version": 3
   },
   "file_extension": ".py",
   "mimetype": "text/x-python",
   "name": "python",
   "nbconvert_exporter": "python",
   "pygments_lexer": "ipython3",
   "version": "3.11.4"
  }
 },
 "nbformat": 4,
 "nbformat_minor": 5
}
