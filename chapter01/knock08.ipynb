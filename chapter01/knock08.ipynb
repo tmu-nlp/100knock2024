{
 "cells": [
  {
   "cell_type": "markdown",
   "id": "18af1623",
   "metadata": {},
   "source": [
    "08. 暗号文\n",
    "\n",
    "与えられた文字列の各文字を，以下の仕様で変換する関数cipherを実装せよ．\n",
    "\n",
    "・英小文字ならば(219 - 文字コード)の文字に置換\n",
    "・その他の文字はそのまま出力\n",
    "この関数を用い，英語のメッセージを暗号化・復号化せよ."
   ]
  },
  {
   "cell_type": "code",
   "execution_count": 3,
   "id": "b70a179e",
   "metadata": {},
   "outputs": [
    {
     "name": "stdout",
     "output_type": "stream",
     "text": [
      "Encrypted: Hvool, Wliow! Tsrh rh z gvhg nvhhztv drgs ylgs UPPER zmw oldvi xzhv ovggvih.\n",
      "Decrypted: Hello, World! This is a test message with both UPPER and lower case letters.\n"
     ]
    }
   ],
   "source": [
    "def cipher(text):\n",
    "    transformed = [chr(219 - ord(char)) if 'a' <= char <= 'z' else char for char in text]\n",
    "    return ''.join(transformed)\n",
    "\n",
    "message = \"Hello, World! This is a test message with both UPPER and lower case letters.\"\n",
    "\n",
    "encrypted_message = cipher(message)\n",
    "print(\"Encrypted:\", encrypted_message)\n",
    "\n",
    "decrypted_message = cipher(encrypted_message)\n",
    "print(\"Decrypted:\", decrypted_message)"
   ]
  },
  {
   "cell_type": "code",
   "execution_count": null,
   "id": "bad511ba",
   "metadata": {},
   "outputs": [],
   "source": []
  }
 ],
 "metadata": {
  "kernelspec": {
   "display_name": "Python 3 (ipykernel)",
   "language": "python",
   "name": "python3"
  },
  "language_info": {
   "codemirror_mode": {
    "name": "ipython",
    "version": 3
   },
   "file_extension": ".py",
   "mimetype": "text/x-python",
   "name": "python",
   "nbconvert_exporter": "python",
   "pygments_lexer": "ipython3",
   "version": "3.11.4"
  }
 },
 "nbformat": 4,
 "nbformat_minor": 5
}
