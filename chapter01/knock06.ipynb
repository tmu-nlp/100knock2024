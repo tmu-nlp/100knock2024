{
 "cells": [
  {
   "cell_type": "markdown",
   "id": "742dc829",
   "metadata": {},
   "source": [
    "06. 集合\n",
    "\n",
    "“paraparaparadise”と”paragraph”に含まれる文字bi-gramの集合を，それぞれ, XとYとして求め，XとYの和集合，積集合，差集合を求めよ．さらに，’se’というbi-gramがXおよびYに含まれるかどうかを調べよ"
   ]
  },
  {
   "cell_type": "code",
   "execution_count": 10,
   "id": "fc68452c",
   "metadata": {},
   "outputs": [
    {
     "name": "stdout",
     "output_type": "stream",
     "text": [
      "X の bi-gram 集合: {'is', 'se', 'pa', 'ra', 'ad', 'ar', 'di', 'ap'}\n",
      "Y の bi-gram 集合: {'pa', 'gr', 'ra', 'ar', 'ap', 'ag', 'ph'}\n",
      "和集合: {'is', 'se', 'pa', 'gr', 'ra', 'ad', 'ar', 'di', 'ap', 'ag', 'ph'}\n",
      "積集合: {'pa', 'ar', 'ap', 'ra'}\n",
      "差集合: {'di', 'is', 'ad', 'se'}\n",
      "'se' が X に含まれるか: True\n",
      "'se' が Y に含まれるか: False\n"
     ]
    }
   ],
   "source": [
    "def n_grams(sequence, n):\n",
    "    return [sequence[i:i+n] for i in range(len(sequence) - n + 1)]\n",
    "\n",
    "text1 = \"paraparaparadise\"\n",
    "text2 = \"paragraph\"\n",
    "\n",
    "bi_grams1 = n_grams(text1, 2)\n",
    "bi_grams2 = n_grams(text2, 2)\n",
    "X = set(bi_grams1)\n",
    "Y = set(bi_grams2)\n",
    "\n",
    "union = X | Y\n",
    "intersection = X & Y\n",
    "difference = X - Y\n",
    "\n",
    "contains_se_X = 'se' in X\n",
    "contains_se_Y = 'se' in Y\n",
    "\n",
    "print(\"X の bi-gram 集合:\", X)\n",
    "print(\"Y の bi-gram 集合:\", Y)\n",
    "print(\"和集合:\", union)\n",
    "print(\"積集合:\", intersection)\n",
    "print(\"差集合:\", difference)\n",
    "print(\"'se' が X に含まれるか:\", contains_se_X)\n",
    "print(\"'se' が Y に含まれるか:\", contains_se_Y)"
   ]
  },
  {
   "cell_type": "code",
   "execution_count": null,
   "id": "13368589",
   "metadata": {},
   "outputs": [],
   "source": []
  }
 ],
 "metadata": {
  "kernelspec": {
   "display_name": "Python 3 (ipykernel)",
   "language": "python",
   "name": "python3"
  },
  "language_info": {
   "codemirror_mode": {
    "name": "ipython",
    "version": 3
   },
   "file_extension": ".py",
   "mimetype": "text/x-python",
   "name": "python",
   "nbconvert_exporter": "python",
   "pygments_lexer": "ipython3",
   "version": "3.11.4"
  }
 },
 "nbformat": 4,
 "nbformat_minor": 5
}
