{
 "cells": [
  {
   "cell_type": "code",
   "execution_count": 4,
   "id": "3257e2ad",
   "metadata": {},
   "outputs": [],
   "source": [
    "word = \"stressed\""
   ]
  },
  {
   "cell_type": "code",
   "execution_count": 5,
   "id": "a79510ef",
   "metadata": {},
   "outputs": [
    {
     "name": "stdout",
     "output_type": "stream",
     "text": [
      "desserts\n"
     ]
    }
   ],
   "source": [
    "print(word[::-1])"
   ]
  },
  {
   "cell_type": "code",
   "execution_count": null,
   "id": "215c4012",
   "metadata": {},
   "outputs": [],
   "source": []
  }
 ],
 "metadata": {
  "kernelspec": {
   "display_name": "Python 3 (ipykernel)",
   "language": "python",
   "name": "python3"
  },
  "language_info": {
   "codemirror_mode": {
    "name": "ipython",
    "version": 3
   },
   "file_extension": ".py",
   "mimetype": "text/x-python",
   "name": "python",
   "nbconvert_exporter": "python",
   "pygments_lexer": "ipython3",
   "version": "3.11.4"
  }
 },
 "nbformat": 4,
 "nbformat_minor": 5
}
