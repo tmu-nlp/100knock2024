{
 "cells": [
  {
   "cell_type": "markdown",
   "id": "98aa5ef8",
   "metadata": {},
   "source": [
    "05. n-gram\n",
    "\n",
    "与えられたシーケンス（文字列やリストなど）からn-gramを作る関数を作成せよ．この関数を用い，”I am an NLPer”という文から単語bi-gram，文字bi-gramを得よ．"
   ]
  },
  {
   "cell_type": "code",
   "execution_count": 13,
   "id": "7bc6b8fc",
   "metadata": {},
   "outputs": [],
   "source": [
    "def n_grams(sequence, n):\n",
    "    return [sequence[i:i+n] for i in range(len(sequence) - n + 1)]\n",
    "\n",
    "sentence = \"I am an NLPer\"\n",
    "words = sentence.split()\n",
    "sentence = sentence.replace(\" \", \"\")"
   ]
  },
  {
   "cell_type": "code",
   "execution_count": 14,
   "id": "9a554ec5",
   "metadata": {},
   "outputs": [
    {
     "name": "stdout",
     "output_type": "stream",
     "text": [
      "単語のbi-gram: [['I', 'am'], ['am', 'an'], ['an', 'NLPer']]\n",
      "文字のbi-gram: ['Ia', 'am', 'ma', 'an', 'nN', 'NL', 'LP', 'Pe', 'er']\n"
     ]
    }
   ],
   "source": [
    "word_bi_grams = n_grams(words, 2)\n",
    "\n",
    "char_bi_grams = n_grams(sentence, 2)\n",
    "\n",
    "print(\"単語のbi-gram:\", word_bi_grams)\n",
    "print(\"文字のbi-gram:\", char_bi_grams)"
   ]
  },
  {
   "cell_type": "code",
   "execution_count": null,
   "id": "d8f3520c",
   "metadata": {},
   "outputs": [],
   "source": []
  }
 ],
 "metadata": {
  "kernelspec": {
   "display_name": "Python 3 (ipykernel)",
   "language": "python",
   "name": "python3"
  },
  "language_info": {
   "codemirror_mode": {
    "name": "ipython",
    "version": 3
   },
   "file_extension": ".py",
   "mimetype": "text/x-python",
   "name": "python",
   "nbconvert_exporter": "python",
   "pygments_lexer": "ipython3",
   "version": "3.11.4"
  }
 },
 "nbformat": 4,
 "nbformat_minor": 5
}
