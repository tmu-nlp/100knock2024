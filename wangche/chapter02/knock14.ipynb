{
 "cells": [
  {
   "cell_type": "markdown",
   "id": "88ce9f0d",
   "metadata": {},
   "source": [
    "自然数Nをコマンドライン引数などの手段で受け取り，入力のうち先頭のN行だけを表示せよ．確認にはheadコマンドを用いよ．"
   ]
  },
  {
   "cell_type": "code",
   "execution_count": 2,
   "id": "a4ba9cc9",
   "metadata": {},
   "outputs": [
    {
     "name": "stdout",
     "output_type": "stream",
     "text": [
      "Mary\tF\t7065\t1880\n",
      "Anna\tF\t2604\t1880\n",
      "Emma\tF\t2003\t1880\n",
      "Elizabeth\tF\t1939\t1880\n",
      "Minnie\tF\t1746\t1880\n",
      "Margaret\tF\t1578\t1880\n",
      "Ida\tF\t1472\t1880\n",
      "Alice\tF\t1414\t1880\n",
      "Bertha\tF\t1320\t1880\n",
      "Sarah\tF\t1288\t1880\n"
     ]
    }
   ],
   "source": [
    "def head_n_lines(filename, n):\n",
    "    \"\"\"ファイルの先頭N行を表示する関数\"\"\"\n",
    "    with open(filename, \"r\") as file:\n",
    "        for i, line in enumerate(file):\n",
    "            if i >= n:\n",
    "                break\n",
    "            print(line.strip())\n",
    "\n",
    "filename = \"popular-names.txt\"\n",
    "n = 10\n",
    "head_n_lines(filename, n)"
   ]
  },
  {
   "cell_type": "code",
   "execution_count": null,
   "id": "3f9c08b6",
   "metadata": {},
   "outputs": [],
   "source": []
  }
 ],
 "metadata": {
  "kernelspec": {
   "display_name": "Python 3 (ipykernel)",
   "language": "python",
   "name": "python3"
  },
  "language_info": {
   "codemirror_mode": {
    "name": "ipython",
    "version": 3
   },
   "file_extension": ".py",
   "mimetype": "text/x-python",
   "name": "python",
   "nbconvert_exporter": "python",
   "pygments_lexer": "ipython3",
   "version": "3.11.4"
  }
 },
 "nbformat": 4,
 "nbformat_minor": 5
}
