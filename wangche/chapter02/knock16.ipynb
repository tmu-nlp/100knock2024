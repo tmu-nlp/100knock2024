{
 "cells": [
  {
   "cell_type": "markdown",
   "id": "66b66d66",
   "metadata": {},
   "source": [
    "自然数Nをコマンドライン引数などの手段で受け取り，入力のファイルを行単位でN分割せよ．同様の処理をsplitコマンドで実現せよ．"
   ]
  },
  {
   "cell_type": "code",
   "execution_count": 3,
   "id": "6d49d8a9",
   "metadata": {},
   "outputs": [],
   "source": [
    "import math\n",
    "\n",
    "def split_file(filename, n):\n",
    "    \"\"\"ファイルをN分割する関数\"\"\"\n",
    "    with open(filename, \"r\") as file:\n",
    "        lines = file.readlines()\n",
    "\n",
    "    num_lines = len(lines)\n",
    "    lines_per_chunk = math.ceil(num_lines / n)\n",
    "\n",
    "    for i in range(n):\n",
    "        chunk_lines = lines[i * lines_per_chunk: (i + 1) * lines_per_chunk]\n",
    "        with open(f\"chunk_{i + 1}.txt\", \"w\") as chunk_file:\n",
    "            chunk_file.writelines(chunk_lines)\n",
    "\n",
    "filename = \"popular-names.txt\"\n",
    "n = 5\n",
    "split_file(filename, n)"
   ]
  },
  {
   "cell_type": "code",
   "execution_count": null,
   "id": "f89505f1",
   "metadata": {},
   "outputs": [],
   "source": []
  }
 ],
 "metadata": {
  "kernelspec": {
   "display_name": "Python 3 (ipykernel)",
   "language": "python",
   "name": "python3"
  },
  "language_info": {
   "codemirror_mode": {
    "name": "ipython",
    "version": 3
   },
   "file_extension": ".py",
   "mimetype": "text/x-python",
   "name": "python",
   "nbconvert_exporter": "python",
   "pygments_lexer": "ipython3",
   "version": "3.11.4"
  }
 },
 "nbformat": 4,
 "nbformat_minor": 5
}
