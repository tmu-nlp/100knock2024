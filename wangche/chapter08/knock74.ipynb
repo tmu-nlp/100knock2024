{
 "cells": [
  {
   "cell_type": "markdown",
   "id": "57574215",
   "metadata": {},
   "source": [
    "74. 正解率の計測Permalink\n",
    "\n",
    "問題73で求めた行列を用いて学習データおよび評価データの事例を分類したとき，その正解率をそれぞれ求めよ．"
   ]
  },
  {
   "cell_type": "code",
   "execution_count": 4,
   "id": "a1487a62",
   "metadata": {},
   "outputs": [
    {
     "name": "stdout",
     "output_type": "stream",
     "text": [
      "訓練データ 0.7802455252553651\n",
      "評価データ 0.7848575712143928\n"
     ]
    }
   ],
   "source": [
    "import torch\n",
    "import torch.nn as nn\n",
    "#############71################\n",
    "# ネットワーククラスの定義\n",
    "class NetWork(nn.Module):\n",
    "    def __init__(self, input_feature, output):\n",
    "        super().__init__()\n",
    "        # 全結合層\n",
    "        self.fc1 = nn.Linear(input_feature, output, bias=False)\n",
    "        # Xavierの初期化を使用して重みを初期化\n",
    "        nn.init.xavier_normal_(self.fc1.weight)\n",
    "        # ソフトマックス関数\n",
    "        self.fc2 = nn.Softmax(dim=1)\n",
    "    def forward(self, x):\n",
    "        # 全結合層を通す\n",
    "        x = self.fc1(x)\n",
    "        # ソフトマックス関数を適用\n",
    "        x = self.fc2(x)\n",
    "        return x\n",
    "\n",
    "# モデルのインスタンス化\n",
    "model = NetWork(300, 4)\n",
    "################################\n",
    "# 学習済みのモデルパラメータをロード\n",
    "model.load_state_dict(torch.load(\"SigleLayer.pth\"))\n",
    "\n",
    "# テストデータおよび学習データをロード\n",
    "X_test = torch.load(\"X_test.pt\")\n",
    "Y_test = torch.load(\"Y_test.pt\")\n",
    "X_train = torch.load(\"X_train.pt\")\n",
    "Y_train = torch.load(\"Y_train.pt\")\n",
    "\n",
    "# データで予測を実行\n",
    "Y_pred = model(X_train)\n",
    "# 予測結果から最大値のインデックスを取得\n",
    "result = torch.max(Y_pred.data, dim=1).indices\n",
    "# 正解率を計算して表示\n",
    "print(\"訓練データ\", result.eq(Y_train).sum().numpy()/len(Y_pred))\n",
    "Y_pred = model(X_test)\n",
    "result = torch.max(Y_pred.data, dim=1).indices\n",
    "print(\"評価データ\", result.eq(Y_test).sum().numpy()/len(Y_pred))\n"
   ]
  },
  {
   "cell_type": "code",
   "execution_count": null,
   "id": "9a7a47cd",
   "metadata": {},
   "outputs": [],
   "source": []
  }
 ],
 "metadata": {
  "kernelspec": {
   "display_name": "Python 3 (ipykernel)",
   "language": "python",
   "name": "python3"
  },
  "language_info": {
   "codemirror_mode": {
    "name": "ipython",
    "version": 3
   },
   "file_extension": ".py",
   "mimetype": "text/x-python",
   "name": "python",
   "nbconvert_exporter": "python",
   "pygments_lexer": "ipython3",
   "version": "3.11.4"
  }
 },
 "nbformat": 4,
 "nbformat_minor": 5
}
