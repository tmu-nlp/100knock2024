{
 "cells": [
  {
   "cell_type": "code",
   "execution_count": 4,
   "id": "bd481b71",
   "metadata": {},
   "outputs": [],
   "source": [
    "from torch.utils.data import TensorDataset, DataLoader\n",
    "import torch\n",
    "import torch.nn as nn\n",
    "import torch.optim as optim\n",
    "\n",
    "class NetWork(nn.Module):\n",
    "    def __init__(self, input_feature, output):\n",
    "        super().__init__()\n",
    "        self.fc1 = nn.Linear(input_feature, output, bias=False)\n",
    "        nn.init.xavier_normal_(self.fc1.weight)  # 重みをXavierの初期化\n",
    "        self.fc2 = nn.Softmax(dim=1)\n",
    "    \n",
    "    def forward(self, x):\n",
    "        x = self.fc1(x)\n",
    "        x = self.fc2(x)\n",
    "        return x\n",
    "\n",
    "# 加载数据\n",
    "X_train = torch.load(\"X_train.pt\")\n",
    "Y_train = torch.load(\"Y_train.pt\")\n",
    "\n",
    "# 确认是否有可用的GPU\n",
    "device = torch.device(\"cuda\" if torch.cuda.is_available() else \"cpu\")\n",
    "\n",
    "# 将数据移到设备上\n",
    "X_train = X_train.to(device)\n",
    "Y_train = Y_train.to(device)\n",
    "\n",
    "# 定义损失函数和优化器\n",
    "loss = nn.CrossEntropyLoss(reduction=\"mean\")\n",
    "model = NetWork(300, 4).to(device)\n",
    "ds = TensorDataset(X_train, Y_train)\n",
    "DL = DataLoader(ds, batch_size=256, shuffle=True)\n",
    "optimizer = optim.SGD(params=model.parameters(), lr=0.01)\n",
    "\n",
    "# 训练模型\n",
    "epoch = 100\n",
    "for ep in range(epoch):\n",
    "    for X, Y in DL:\n",
    "        X = X.to(device)\n",
    "        Y = Y.to(device)\n",
    "        Y_pred = model(X)\n",
    "        CEloss = loss(Y_pred, Y)\n",
    "        optimizer.zero_grad()\n",
    "        CEloss.backward()\n",
    "        optimizer.step()\n",
    "\n",
    "# 保存模型\n",
    "torch.save(model.state_dict(), \"SingleLayer_CPU.pth\")\n"
   ]
  },
  {
   "cell_type": "code",
   "execution_count": null,
   "id": "95a6c856",
   "metadata": {},
   "outputs": [],
   "source": []
  }
 ],
 "metadata": {
  "kernelspec": {
   "display_name": "Python 3 (ipykernel)",
   "language": "python",
   "name": "python3"
  },
  "language_info": {
   "codemirror_mode": {
    "name": "ipython",
    "version": 3
   },
   "file_extension": ".py",
   "mimetype": "text/x-python",
   "name": "python",
   "nbconvert_exporter": "python",
   "pygments_lexer": "ipython3",
   "version": "3.11.4"
  }
 },
 "nbformat": 4,
 "nbformat_minor": 5
}
