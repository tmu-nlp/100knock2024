{
 "cells": [
  {
   "cell_type": "code",
   "execution_count": 2,
   "id": "2d5f4e3c",
   "metadata": {},
   "outputs": [
    {
     "name": "stdout",
     "output_type": "stream",
     "text": [
      "Batch Size: 1\n",
      "Time: 7.985502123832703\n",
      "Batch Size: 2\n",
      "Time: 4.756917214393615\n",
      "Batch Size: 4\n",
      "Time: 3.4851473808288573\n",
      "Batch Size: 8\n",
      "Time: 2.068983793258667\n",
      "Batch Size: 16\n",
      "Time: 1.0963614940643311\n",
      "Batch Size: 32\n",
      "Time: 0.4088506937026978\n",
      "Batch Size: 64\n",
      "Time: 0.30146830081939696\n",
      "Batch Size: 128\n",
      "Time: 0.3049964666366577\n",
      "Batch Size: 256\n",
      "Time: 0.21821980476379393\n",
      "Batch Size: 512\n",
      "Time: 0.21691620349884033\n",
      "Batch Size: 1024\n",
      "Time: 0.15502729415893554\n",
      "Batch Size: 2048\n",
      "Time: 0.19274687767028809\n",
      "Batch Size: 4096\n",
      "Time: 0.24777500629425048\n",
      "Batch Size: 8192\n",
      "Time: 0.22565960884094238\n",
      "Batch Size: 16384\n",
      "Time: 0.34477601051330564\n"
     ]
    }
   ],
   "source": [
    "from torch.utils.data import TensorDataset, DataLoader\n",
    "import torch\n",
    "import torch.nn as nn\n",
    "import torch.optim as optim\n",
    "import time\n",
    "class NetWork(nn.Module):\n",
    "    def __init__(self, input_feature, output):\n",
    "        super().__init__()\n",
    "        self.fc1 = nn.Linear(input_feature, output, bias=False)\n",
    "        nn.init.xavier_normal_(self.fc1.weight)#重みをXavierの初期化\n",
    "        self.fc2 = nn.Softmax(dim=1)\n",
    "    def forward(self, x):\n",
    "        x = self.fc1(x)\n",
    "        x = self.fc2(x)\n",
    "        return x\n",
    "\n",
    "X_train = torch.load(\"X_train.pt\")\n",
    "Y_train = torch.load(\"Y_train.pt\")\n",
    "\n",
    "loss = nn.CrossEntropyLoss(reduction=\"mean\")\n",
    "\n",
    "ds = TensorDataset(X_train, Y_train)\n",
    "bs_list = [2**i for i in range(15)]\n",
    "for bs in bs_list:\n",
    "    DL = DataLoader(ds, batch_size=bs, shuffle=True)\n",
    "    model = NetWork(300, 4)\n",
    "    optimizer = optim.SGD(params=model.parameters(), lr=0.01)\n",
    "    epoch = 10\n",
    "    t1 = time.time()\n",
    "    for ep in range(epoch):\n",
    "        for X, Y in DL:\n",
    "            Y_pred = model(X)\n",
    "            CEloss = loss(Y_pred, Y)\n",
    "            optimizer.zero_grad()\n",
    "            CEloss.backward()\n",
    "            optimizer.step()\n",
    "    t2 = time.time()\n",
    "    lenght = (t2 - t1)/epoch\n",
    "    print(\"Batch Size:\", bs)\n",
    "    print(\"Time:\", lenght)\n"
   ]
  },
  {
   "cell_type": "code",
   "execution_count": null,
   "id": "c709c580",
   "metadata": {},
   "outputs": [],
   "source": []
  }
 ],
 "metadata": {
  "kernelspec": {
   "display_name": "Python 3 (ipykernel)",
   "language": "python",
   "name": "python3"
  },
  "language_info": {
   "codemirror_mode": {
    "name": "ipython",
    "version": 3
   },
   "file_extension": ".py",
   "mimetype": "text/x-python",
   "name": "python",
   "nbconvert_exporter": "python",
   "pygments_lexer": "ipython3",
   "version": "3.11.4"
  }
 },
 "nbformat": 4,
 "nbformat_minor": 5
}
