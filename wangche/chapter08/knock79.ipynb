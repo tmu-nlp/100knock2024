{
 "cells": [
  {
   "cell_type": "code",
   "execution_count": 2,
   "id": "d4226dab",
   "metadata": {},
   "outputs": [
    {
     "name": "stdout",
     "output_type": "stream",
     "text": [
      "学習データ: 0.7847436978727392\n",
      "評価データ: 0.7901049475262368\n"
     ]
    }
   ],
   "source": [
    "from torch.utils.data import TensorDataset, DataLoader\n",
    "import torch\n",
    "import torch.nn as nn\n",
    "import torch.optim as optim\n",
    "import torch.nn.functional as F\n",
    "from torch.utils.tensorboard import SummaryWriter\n",
    "\n",
    "class NetWork(nn.Module):\n",
    "    def __init__(self, input_feature, output):\n",
    "        super().__init__()\n",
    "        self.fc1 = nn.Linear(input_feature, 300, bias=True)\n",
    "        self.fc2 = nn.Linear(300, output, bias=True)\n",
    "        self.fc3 = nn.Softmax(dim=1)\n",
    "        nn.init.xavier_normal_(self.fc1.weight)\n",
    "        nn.init.xavier_normal_(self.fc2.weight)\n",
    "    \n",
    "    def forward(self, x):\n",
    "        x = self.fc1(x)\n",
    "        x = F.relu(x)\n",
    "        x = self.fc2(x)\n",
    "        x = self.fc3(x)\n",
    "        return x\n",
    "\n",
    "# 加载数据\n",
    "X_train = torch.load(\"X_train.pt\")\n",
    "Y_train = torch.load(\"Y_train.pt\")\n",
    "X_test = torch.load(\"X_test.pt\")\n",
    "Y_test = torch.load(\"Y_test.pt\")\n",
    "\n",
    "# 确认是否有可用的GPU\n",
    "device = torch.device(\"cuda\" if torch.cuda.is_available() else \"cpu\")\n",
    "\n",
    "# 将数据移到设备上\n",
    "X_train = X_train.to(device)\n",
    "Y_train = Y_train.to(device)\n",
    "X_test = X_test.to(device)\n",
    "Y_test = Y_test.to(device)\n",
    "\n",
    "# 定义损失函数和优化器\n",
    "loss = nn.CrossEntropyLoss(reduction=\"mean\")\n",
    "model = NetWork(300, 4).to(device)\n",
    "ds = TensorDataset(X_train, Y_train)\n",
    "DL = DataLoader(ds, batch_size=256, shuffle=True)\n",
    "optimizer = optim.SGD(params=model.parameters(), lr=0.001)\n",
    "writer = SummaryWriter(log_dir=\"logs\")\n",
    "\n",
    "# 训练模型\n",
    "epoch = 1000\n",
    "for ep in range(epoch):\n",
    "    for X, Y in DL:\n",
    "        X = X.to(device)\n",
    "        Y = Y.to(device)\n",
    "        Y_pred = model(X)\n",
    "        CEloss = loss(Y_pred, Y)\n",
    "        optimizer.zero_grad()\n",
    "        CEloss.backward()\n",
    "        optimizer.step()\n",
    "\n",
    "# 切换到CPU上进行评估\n",
    "X_train = X_train.to(\"cpu\")\n",
    "Y_train = Y_train.to(\"cpu\")\n",
    "X_test = X_test.to(\"cpu\")\n",
    "Y_test = Y_test.to(\"cpu\")\n",
    "model = model.to(\"cpu\")\n",
    "\n",
    "# 评估训练数据\n",
    "Y_pred = model(X_train)\n",
    "result = torch.max(Y_pred.data, dim=1).indices\n",
    "accuracy = result.eq(Y_train).sum().numpy()/len(Y_pred)\n",
    "print(\"学習データ:\", accuracy)\n",
    "\n",
    "# 评估测试数据\n",
    "Y_pred = model(X_test)\n",
    "result = torch.max(Y_pred.data, dim=1).indices\n",
    "accuracy = result.eq(Y_test).sum().numpy()/len(Y_pred)\n",
    "print(\"評価データ:\", accuracy)\n"
   ]
  },
  {
   "cell_type": "code",
   "execution_count": null,
   "id": "7f818ea2",
   "metadata": {},
   "outputs": [],
   "source": []
  }
 ],
 "metadata": {
  "kernelspec": {
   "display_name": "Python 3 (ipykernel)",
   "language": "python",
   "name": "python3"
  },
  "language_info": {
   "codemirror_mode": {
    "name": "ipython",
    "version": 3
   },
   "file_extension": ".py",
   "mimetype": "text/x-python",
   "name": "python",
   "nbconvert_exporter": "python",
   "pygments_lexer": "ipython3",
   "version": "3.11.4"
  }
 },
 "nbformat": 4,
 "nbformat_minor": 5
}
