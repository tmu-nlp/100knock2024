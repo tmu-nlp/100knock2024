{
 "cells": [
  {
   "cell_type": "code",
   "execution_count": 1,
   "id": "e2e68e76",
   "metadata": {},
   "outputs": [
    {
     "name": "stdout",
     "output_type": "stream",
     "text": [
      "クロスエントロピー損失 1.379616618156433\n",
      "勾配 tensor([[ 4.1974e-04, -1.1954e-03,  8.5443e-04,  ..., -2.1764e-03,\n",
      "         -3.0304e-03,  3.4561e-03],\n",
      "        [ 6.7603e-04,  9.7407e-04, -1.6451e-03,  ..., -9.4157e-05,\n",
      "          2.2285e-03, -7.1270e-04],\n",
      "        [-2.6277e-03, -1.0229e-03,  2.9502e-03,  ...,  2.9483e-03,\n",
      "         -1.0586e-03, -1.2378e-03],\n",
      "        [ 1.5319e-03,  1.2443e-03, -2.1596e-03,  ..., -6.7777e-04,\n",
      "          1.8605e-03, -1.5056e-03]])\n"
     ]
    }
   ],
   "source": [
    "import torch\n",
    "import torch.nn as nn\n",
    "#############71################\n",
    "class NetWork(nn.Module):\n",
    "    def __init__(self, input_feature, output):\n",
    "        super().__init__()\n",
    "        self.fc1 = nn.Linear(input_feature, output, bias=False)\n",
    "        nn.init.xavier_normal_(self.fc1.weight)#重みをXavierの初期化\n",
    "        self.fc2 = nn.Softmax(dim=1)\n",
    "    def forward(self, x):\n",
    "        x = self.fc1(x)\n",
    "        x = self.fc2(x)\n",
    "        return x\n",
    "        \n",
    "X_train = torch.load(\"X_train.pt\")\n",
    "model = NetWork(300, 4)\n",
    "################################\n",
    "\n",
    "loss = nn.CrossEntropyLoss(reduction=\"mean\")\n",
    "Y_train = torch.load(\"Y_train.pt\")\n",
    "Y_pred = model(X_train)\n",
    "CEloss = loss(Y_pred, Y_train)\n",
    "\n",
    "model.zero_grad()\n",
    "CEloss.backward()\n",
    "print(\"クロスエントロピー損失\", CEloss.item())\n",
    "print(\"勾配\", model.fc1.weight.grad)\n"
   ]
  },
  {
   "cell_type": "code",
   "execution_count": null,
   "id": "518989f0",
   "metadata": {},
   "outputs": [],
   "source": []
  }
 ],
 "metadata": {
  "kernelspec": {
   "display_name": "Python 3 (ipykernel)",
   "language": "python",
   "name": "python3"
  },
  "language_info": {
   "codemirror_mode": {
    "name": "ipython",
    "version": 3
   },
   "file_extension": ".py",
   "mimetype": "text/x-python",
   "name": "python",
   "nbconvert_exporter": "python",
   "pygments_lexer": "ipython3",
   "version": "3.11.4"
  }
 },
 "nbformat": 4,
 "nbformat_minor": 5
}
