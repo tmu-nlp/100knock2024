{
 "cells": [
  {
   "cell_type": "code",
   "execution_count": 1,
   "id": "972fd3d8",
   "metadata": {},
   "outputs": [],
   "source": [
    "from torch.utils.data import TensorDataset, DataLoader\n",
    "import torch\n",
    "import torch.nn as nn\n",
    "import torch.optim as optim\n",
    "#############71################\n",
    "class NetWork(nn.Module):\n",
    "\n",
    "    def __init__(self, input_feature, output):\n",
    "        super().__init__()\n",
    "        self.fc1 = nn.Linear(input_feature, output, bias=False)\n",
    "        nn.init.xavier_normal_(self.fc1.weight)#重みをXavierの初期化\n",
    "        self.fc2 = nn.Softmax(dim=1)\n",
    "\n",
    "    def forward(self, x):\n",
    "        x = self.fc1(x)\n",
    "        x = self.fc2(x)\n",
    "        return x\n",
    "\n",
    "X_train = torch.load(\"X_train.pt\")\n",
    "model = NetWork(300, 4)\n",
    "################################\n",
    "loss = nn.CrossEntropyLoss(reduction=\"mean\")\n",
    "Y_train = torch.load(\"Y_train.pt\")\n",
    "\n",
    "ds = TensorDataset(X_train, Y_train)\n",
    "DL = DataLoader(ds, batch_size=128, shuffle=True)\n",
    "optimizer = optim.SGD(params=model.parameters(), lr=0.01)\n",
    "\n",
    "epoch = 100\n",
    "for ep in range(epoch):\n",
    "    for X, Y in DL:\n",
    "        Y_pred = model(X)\n",
    "        CEloss = loss(Y_pred, Y)\n",
    "        optimizer.zero_grad()\n",
    "        CEloss.backward()\n",
    "        optimizer.step()\n",
    "\n",
    "torch.save(model.state_dict(), \"SigleLayer.pth\")#モデルの保存\n"
   ]
  },
  {
   "cell_type": "code",
   "execution_count": null,
   "id": "ad063d98",
   "metadata": {},
   "outputs": [],
   "source": []
  }
 ],
 "metadata": {
  "kernelspec": {
   "display_name": "Python 3 (ipykernel)",
   "language": "python",
   "name": "python3"
  },
  "language_info": {
   "codemirror_mode": {
    "name": "ipython",
    "version": 3
   },
   "file_extension": ".py",
   "mimetype": "text/x-python",
   "name": "python",
   "nbconvert_exporter": "python",
   "pygments_lexer": "ipython3",
   "version": "3.11.4"
  }
 },
 "nbformat": 4,
 "nbformat_minor": 5
}
