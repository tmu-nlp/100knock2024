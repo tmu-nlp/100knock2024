{
 "cells": [
  {
   "cell_type": "code",
   "execution_count": 1,
   "id": "20519683",
   "metadata": {},
   "outputs": [
    {
     "name": "stdout",
     "output_type": "stream",
     "text": [
      "accuracy:  0.1896551724137931\n"
     ]
    }
   ],
   "source": [
    "import torch.nn as nn\n",
    "import torch\n",
    "class RNN(nn.Module):\n",
    "    def __init__(self, vocab_size, dw, dh, output):\n",
    "        super().__init__()\n",
    "        self.embed = nn.Embedding(vocab_size, dw, padding_idx=vocab_size-1)\n",
    "        self.rnn = nn.RNN(dw, dh, batch_first=True)\n",
    "        self.fc1 = nn.Linear(dh, output, bias=True)\n",
    "        self.fc2 = nn.Softmax(dim=1)\n",
    "        nn.init.xavier_normal_(self.rnn.weight_ih_l0)\n",
    "        nn.init.xavier_normal_(self.rnn.weight_hh_l0)\n",
    "        nn.init.xavier_normal_(self.fc1.weight)\n",
    "    def forward(self, x):\n",
    "        x = self.embed(x)\n",
    "        x, _ = self.rnn(x)\n",
    "        x = self.fc1(x[:, -1, :])\n",
    "        x = self.fc2(x)\n",
    "        return x\n",
    "\n",
    "def CountVocab(name):\n",
    "    f = open(\"{}_code.txt\".format(name), \"r\")\n",
    "    lines = f.readlines()\n",
    "    f.close()\n",
    "    max_num = []\n",
    "    for line in lines:\n",
    "        line_t = line.split(\"\\t\")[2].replace(\"\\n\", \"\").split(\" \")\n",
    "        max_num.extend(map(int, line_t))\n",
    "    vocab_max = max(max_num)+1\n",
    "    return vocab_max\n",
    "\n",
    "def GetCodeLow(name):\n",
    "    f = open(\"{}_code.txt\".format(name), \"r\")\n",
    "    lines = f.readlines()\n",
    "    f.close()\n",
    "    num_list = []\n",
    "    code_list = []\n",
    "    pad_list = []\n",
    "    for line in lines:\n",
    "        line_s = line.split(\"\\t\")\n",
    "        code_list.append(int(line_s[0]))\n",
    "        num = line_s[2].replace(\"\\n\", \"\").split(\" \")\n",
    "        num = list(map(int, num))\n",
    "        num_list.append(num)\n",
    "        num_tensor = torch.tensor(num)\n",
    "        pad_list.append(num_tensor)\n",
    "\n",
    "    max_vocab = CountVocab(\"train\")\n",
    "    mlen = max([len(x) for x in num_list])\n",
    "    pad_list = list(map(lambda x:x + [max_vocab]*(mlen-len(x)), num_list))\n",
    "    pad_list = torch.tensor(pad_list)\n",
    "    code_list = torch.tensor(code_list)\n",
    "    return pad_list, code_list\n",
    "\n",
    "X_valid, Y_valid = GetCodeLow(\"valid\")\n",
    "VOCAB_SIZE = CountVocab(\"train\")+1\n",
    "EMB_SIZE = 300\n",
    "OUTPUT_SIZE = 4\n",
    "HIDDEN_SIZE = 50\n",
    "lr = 1e-3\n",
    "model = RNN(VOCAB_SIZE, EMB_SIZE, HIDDEN_SIZE, OUTPUT_SIZE)\n",
    "Y_pred = model(X_valid)\n",
    "pred = torch.argmax(Y_pred, dim=-1)\n",
    "print(\"accuracy: \", sum(1 for x,y in zip(Y_valid, pred) if x == y) / float(len(Y_pred)))\n"
   ]
  }
 ],
 "metadata": {
  "kernelspec": {
   "display_name": "Python 3 (ipykernel)",
   "language": "python",
   "name": "python3"
  },
  "language_info": {
   "codemirror_mode": {
    "name": "ipython",
    "version": 3
   },
   "file_extension": ".py",
   "mimetype": "text/x-python",
   "name": "python",
   "nbconvert_exporter": "python",
   "pygments_lexer": "ipython3",
   "version": "3.11.4"
  }
 },
 "nbformat": 4,
 "nbformat_minor": 5
}
