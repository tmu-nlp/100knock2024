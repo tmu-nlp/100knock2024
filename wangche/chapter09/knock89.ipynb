{
 "cells": [
  {
   "cell_type": "code",
   "execution_count": 1,
   "id": "5a4607f0",
   "metadata": {},
   "outputs": [
    {
     "name": "stdout",
     "output_type": "stream",
     "text": [
      "Note: you may need to restart the kernel to use updated packages.\n"
     ]
    }
   ],
   "source": [
    "pip install transformers -q"
   ]
  },
  {
   "cell_type": "code",
   "execution_count": 5,
   "id": "6f750d9b",
   "metadata": {},
   "outputs": [
    {
     "name": "stdout",
     "output_type": "stream",
     "text": [
      "The tensorboard extension is already loaded. To reload it, use:\n",
      "  %reload_ext tensorboard\n"
     ]
    },
    {
     "data": {
      "text/plain": [
       "Reusing TensorBoard on port 6006 (pid 84818), started 1:17:30 ago. (Use '!kill 84818' to kill it.)"
      ]
     },
     "metadata": {},
     "output_type": "display_data"
    },
    {
     "data": {
      "text/html": [
       "\n",
       "      <iframe id=\"tensorboard-frame-67e581477150e72e\" width=\"100%\" height=\"800\" frameborder=\"0\">\n",
       "      </iframe>\n",
       "      <script>\n",
       "        (function() {\n",
       "          const frame = document.getElementById(\"tensorboard-frame-67e581477150e72e\");\n",
       "          const url = new URL(\"/\", window.location);\n",
       "          const port = 6006;\n",
       "          if (port) {\n",
       "            url.port = port;\n",
       "          }\n",
       "          frame.src = url;\n",
       "        })();\n",
       "      </script>\n",
       "    "
      ],
      "text/plain": [
       "<IPython.core.display.HTML object>"
      ]
     },
     "metadata": {},
     "output_type": "display_data"
    },
    {
     "ename": "FileNotFoundError",
     "evalue": "[Errno 2] No such file or directory: 'RNN_CNN/train_code.txt'",
     "output_type": "error",
     "traceback": [
      "\u001b[0;31m---------------------------------------------------------------------------\u001b[0m",
      "\u001b[0;31mFileNotFoundError\u001b[0m                         Traceback (most recent call last)",
      "Cell \u001b[0;32mIn[5], line 123\u001b[0m\n\u001b[1;32m    120\u001b[0m     code_list \u001b[38;5;241m=\u001b[39m torch\u001b[38;5;241m.\u001b[39mtensor(code_list)\n\u001b[1;32m    121\u001b[0m     \u001b[38;5;28;01mreturn\u001b[39;00m sent_list, code_list\n\u001b[0;32m--> 123\u001b[0m X_train, Y_train \u001b[38;5;241m=\u001b[39m GetStrLow(\u001b[38;5;124m\"\u001b[39m\u001b[38;5;124mtrain\u001b[39m\u001b[38;5;124m\"\u001b[39m)\n\u001b[1;32m    124\u001b[0m X_test, Y_test \u001b[38;5;241m=\u001b[39m GetStrLow(\u001b[38;5;124m\"\u001b[39m\u001b[38;5;124mtest\u001b[39m\u001b[38;5;124m\"\u001b[39m)\n\u001b[1;32m    126\u001b[0m MAX_LENGTH \u001b[38;5;241m=\u001b[39m \u001b[38;5;241m32\u001b[39m\n",
      "Cell \u001b[0;32mIn[5], line 109\u001b[0m, in \u001b[0;36mGetStrLow\u001b[0;34m(name)\u001b[0m\n\u001b[1;32m    108\u001b[0m \u001b[38;5;28;01mdef\u001b[39;00m \u001b[38;5;21mGetStrLow\u001b[39m(name):\n\u001b[0;32m--> 109\u001b[0m     f \u001b[38;5;241m=\u001b[39m \u001b[38;5;28mopen\u001b[39m(\u001b[38;5;124m\"\u001b[39m\u001b[38;5;124mRNN_CNN/\u001b[39m\u001b[38;5;132;01m{}\u001b[39;00m\u001b[38;5;124m_code.txt\u001b[39m\u001b[38;5;124m\"\u001b[39m\u001b[38;5;241m.\u001b[39mformat(name), \u001b[38;5;124m\"\u001b[39m\u001b[38;5;124mr\u001b[39m\u001b[38;5;124m\"\u001b[39m)\n\u001b[1;32m    110\u001b[0m     lines \u001b[38;5;241m=\u001b[39m f\u001b[38;5;241m.\u001b[39mreadlines()\n\u001b[1;32m    111\u001b[0m     f\u001b[38;5;241m.\u001b[39mclose()\n",
      "File \u001b[0;32m~/anaconda3/lib/python3.11/site-packages/IPython/core/interactiveshell.py:284\u001b[0m, in \u001b[0;36m_modified_open\u001b[0;34m(file, *args, **kwargs)\u001b[0m\n\u001b[1;32m    277\u001b[0m \u001b[38;5;28;01mif\u001b[39;00m file \u001b[38;5;129;01min\u001b[39;00m {\u001b[38;5;241m0\u001b[39m, \u001b[38;5;241m1\u001b[39m, \u001b[38;5;241m2\u001b[39m}:\n\u001b[1;32m    278\u001b[0m     \u001b[38;5;28;01mraise\u001b[39;00m \u001b[38;5;167;01mValueError\u001b[39;00m(\n\u001b[1;32m    279\u001b[0m         \u001b[38;5;124mf\u001b[39m\u001b[38;5;124m\"\u001b[39m\u001b[38;5;124mIPython won\u001b[39m\u001b[38;5;124m'\u001b[39m\u001b[38;5;124mt let you open fd=\u001b[39m\u001b[38;5;132;01m{\u001b[39;00mfile\u001b[38;5;132;01m}\u001b[39;00m\u001b[38;5;124m by default \u001b[39m\u001b[38;5;124m\"\u001b[39m\n\u001b[1;32m    280\u001b[0m         \u001b[38;5;124m\"\u001b[39m\u001b[38;5;124mas it is likely to crash IPython. If you know what you are doing, \u001b[39m\u001b[38;5;124m\"\u001b[39m\n\u001b[1;32m    281\u001b[0m         \u001b[38;5;124m\"\u001b[39m\u001b[38;5;124myou can use builtins\u001b[39m\u001b[38;5;124m'\u001b[39m\u001b[38;5;124m open.\u001b[39m\u001b[38;5;124m\"\u001b[39m\n\u001b[1;32m    282\u001b[0m     )\n\u001b[0;32m--> 284\u001b[0m \u001b[38;5;28;01mreturn\u001b[39;00m io_open(file, \u001b[38;5;241m*\u001b[39margs, \u001b[38;5;241m*\u001b[39m\u001b[38;5;241m*\u001b[39mkwargs)\n",
      "\u001b[0;31mFileNotFoundError\u001b[0m: [Errno 2] No such file or directory: 'RNN_CNN/train_code.txt'"
     ]
    }
   ],
   "source": [
    "%load_ext tensorboard\n",
    "%tensorboard --logdir logs\n",
    "from transformers import AutoTokenizer, AutoModel\n",
    "from torch.utils.data import TensorDataset, DataLoader, Dataset\n",
    "from torch.utils.tensorboard import SummaryWriter\n",
    "import torch.nn as nn\n",
    "import numpy as np\n",
    "import torch\n",
    "\n",
    "class Bert(nn.Module):\n",
    "    def __init__(self):\n",
    "        super().__init__()\n",
    "        self.bert = AutoModel.from_pretrained(\"bert-base-uncased\")\n",
    "        self.classifier = nn.Linear(in_features = 768, out_features = 4)\n",
    "    def forward(self, input_ids, attention_mask, token_type_ids):\n",
    "        outputs = self.bert(input_ids = input_ids, attention_mask = attention_mask, token_type_ids = token_type_ids)\n",
    "        pooler_output = outputs.pooler_output\n",
    "        logits = self.classifier(pooler_output).squeeze(-1)\n",
    "        return logits\n",
    "\n",
    "class BertDataset(Dataset):\n",
    "    def __init__(self, data, label):\n",
    "        super().__init__()\n",
    "        self.data_length = len(data[\"input_ids\"])\n",
    "        self.x_input_ids = data[\"input_ids\"]\n",
    "        self.x_token_type_ids = data[\"token_type_ids\"]\n",
    "        self.x_attention_mask = data[\"attention_mask\"]\n",
    "        self.y = label\n",
    "    def __len__(self):\n",
    "        return self.data_length\n",
    "    def __getitem__(self, idx):\n",
    "        x_input_ids = torch.tensor(self.x_input_ids[idx])\n",
    "        x_token_type_ids = torch.tensor(self.x_token_type_ids[idx])\n",
    "        x_attention_mask = torch.tensor(self.x_attention_mask[idx])\n",
    "        return {\"input_ids\":x_input_ids, \"token_type_ids\":x_token_type_ids, \"x_attention_mask\":x_attention_mask}, torch.tensor(self.y[idx])\n",
    "\n",
    "def calculate_loss_and_accuracy(model, dataset, device, criterion=None):\n",
    "    dataloader = DataLoader(dataset, batch_size=256, shuffle=False)\n",
    "    loss = 0.0\n",
    "    total = 0\n",
    "    correct = 0\n",
    "    model = model.to(device)\n",
    "    with torch.no_grad():\n",
    "        for X, Y in dataloader:\n",
    "            input_ids = X[\"input_ids\"].to(device)\n",
    "            attention_mask = X[\"x_attention_mask\"].to(device)\n",
    "            token_type_ids = X[\"token_type_ids\"].to(device)\n",
    "            Y = Y.to(device)\n",
    "            Y_pred =  model(input_ids, attention_mask, token_type_ids)\n",
    "            if criterion != None:\n",
    "                loss += criterion(Y_pred, Y).item()\n",
    "            pred = torch.argmax(Y_pred, dim=-1)\n",
    "            total += len(Y)\n",
    "            correct += (pred == Y).sum().item()\n",
    "    return loss / len(dataset), correct / total\n",
    "\n",
    "\n",
    "def train_model(X_train, y_train, X_test, y_test, batch_size, model, lr, num_epochs, device, collate_fn=None):\n",
    "    dataset_train = BertDataset(X_train, y_train)\n",
    "    dataset_test = BertDataset(X_test, y_test)\n",
    "    dataloader_train = DataLoader(dataset_train, batch_size=batch_size, shuffle=True)\n",
    "    dataloader_test = DataLoader(dataset_test, batch_size=batch_size, shuffle=True)\n",
    "    model = model.to(device)\n",
    "    criterion = nn.CrossEntropyLoss()\n",
    "    criterion = criterion.to(device)\n",
    "    for ep in range(num_epochs):\n",
    "        optimizer = torch.optim.SGD(model.parameters(), lr=lr)\n",
    "        model.train()\n",
    "        if ep%30==0:\n",
    "            lr = lr * 0.1\n",
    "        for X, Y in dataloader_train:\n",
    "            input_ids = X[\"input_ids\"].to(device)\n",
    "            attention_mask = X[\"x_attention_mask\"].to(device)\n",
    "            token_type_ids = X[\"token_type_ids\"].to(device)\n",
    "\n",
    "            Y = Y.to(device)\n",
    "            optimizer.zero_grad()\n",
    "            Y_pred = model(input_ids, attention_mask, token_type_ids)\n",
    "            loss = criterion(Y_pred, Y)\n",
    "            loss.backward()\n",
    "            optimizer.step()\n",
    "        model.eval()\n",
    "\n",
    "        loss_train, acc_train = calculate_loss_and_accuracy(model, dataset_train, device, criterion=criterion)\n",
    "        loss_test, acc_test = calculate_loss_and_accuracy(model, dataset_test, device, criterion=criterion)\n",
    "\n",
    "        print(f'epoch: {ep + 1}, loss_train: {loss_train:.4f}, accuracy_train: {acc_train:.4f}, loss_Test: {loss_test:.4f}, accuracy_Test: {acc_test:.4f}')\n",
    "        TensorboardWriter(ep, loss_train, acc_train, \"Train\")\n",
    "        TensorboardWriter(ep, loss_test, acc_test, \"Test\")\n",
    "\n",
    "def TensorboardWriter(epoch, loss, accuracy, name):\n",
    "    writer = SummaryWriter(log_dir=\"logs\")\n",
    "    writer.add_scalar(\"Loss/{}_Loss\".format(name), loss, epoch)\n",
    "    writer.add_scalar(\"Accuracy/{}_Accuracy\".format(name), accuracy, epoch)\n",
    "    writer.close()\n",
    "\n",
    "def CountVocab(name):\n",
    "    f = open(\"{}_code.txt\".format(name), \"r\")\n",
    "    lines = f.readlines()\n",
    "    f.close()\n",
    "    max_num = []\n",
    "    for line in lines:\n",
    "        line_t = line.split(\"\\t\")[2].replace(\"\\n\", \"\").split(\" \")\n",
    "        max_num.extend(map(int, line_t))\n",
    "    vocab_max = max(max_num)+1\n",
    "    return vocab_max\n",
    "\n",
    "def GetStrLow(name):\n",
    "    f = open(\"RNN_CNN/{}_code.txt\".format(name), \"r\")\n",
    "    lines = f.readlines()\n",
    "    f.close()\n",
    "    sent_list = []\n",
    "    code_list = []\n",
    "\n",
    "    for line in lines:\n",
    "        line_s = line.split(\"\\t\")\n",
    "        code_list.append(int(line_s[0]))\n",
    "        sent = line_s[1].replace(\"\\n\", \"\")\n",
    "        sent_list.append(sent)\n",
    "    code_list = torch.tensor(code_list)\n",
    "    return sent_list, code_list\n",
    "\n",
    "X_train, Y_train = GetStrLow(\"train\")\n",
    "X_test, Y_test = GetStrLow(\"test\")\n",
    "\n",
    "MAX_LENGTH = 32\n",
    "tokenizer = AutoTokenizer.from_pretrained(\"bert-base-uncased\")\n",
    "X_train_tokenizer = tokenizer.batch_encode_plus(X_train, padding = \"max_length\", max_length = MAX_LENGTH, truncation=True)\n",
    "X_test_tokenizer = tokenizer.batch_encode_plus(X_test, padding = \"max_length\", max_length = MAX_LENGTH, truncation=True)\n",
    "\n",
    "BATCH_SIZE = 8\n",
    "NUM_EPOCHS = 10\n",
    "lr = 1e-3\n",
    "device = torch.device(\"cuda:0\" if torch.cuda.is_available() else \"cpu\")\n",
    "model = Bert()\n",
    "train_model(X_train_tokenizer, Y_train, X_test_tokenizer, Y_test, BATCH_SIZE, model, lr, NUM_EPOCHS, device)\n"
   ]
  },
  {
   "cell_type": "code",
   "execution_count": null,
   "id": "ae441c82",
   "metadata": {},
   "outputs": [],
   "source": []
  }
 ],
 "metadata": {
  "kernelspec": {
   "display_name": "Python 3 (ipykernel)",
   "language": "python",
   "name": "python3"
  },
  "language_info": {
   "codemirror_mode": {
    "name": "ipython",
    "version": 3
   },
   "file_extension": ".py",
   "mimetype": "text/x-python",
   "name": "python",
   "nbconvert_exporter": "python",
   "pygments_lexer": "ipython3",
   "version": "3.11.4"
  }
 },
 "nbformat": 4,
 "nbformat_minor": 5
}
