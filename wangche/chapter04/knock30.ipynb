{
 "cells": [
  {
   "cell_type": "markdown",
   "id": "3f0010a5",
   "metadata": {},
   "source": [
    "形態素解析結果（neko.txt.mecab）を読み込むプログラムを実装せよ．ただし，各形態素は表層形（surface），基本形（base），品詞（pos），品詞細分類1（pos1）をキーとするマッピング型に格納し，1文を形態素（マッピング型）のリストとして表現せよ．第4章の残りの問題では，ここで作ったプログラムを活用せよ．"
   ]
  },
  {
   "cell_type": "code",
   "execution_count": 5,
   "id": "14f1c7a0",
   "metadata": {},
   "outputs": [
    {
     "name": "stdout",
     "output_type": "stream",
     "text": [
      "Collecting mecab-python3\n",
      "  Obtaining dependency information for mecab-python3 from https://files.pythonhosted.org/packages/86/f3/7cbc3f18ff2d49dce3418a669d3c41a006ada3f9044d7820a7a402637dc9/mecab_python3-1.0.9-cp311-cp311-macosx_10_9_x86_64.whl.metadata\n",
      "  Downloading mecab_python3-1.0.9-cp311-cp311-macosx_10_9_x86_64.whl.metadata (6.1 kB)\n",
      "Downloading mecab_python3-1.0.9-cp311-cp311-macosx_10_9_x86_64.whl (513 kB)\n",
      "\u001b[2K   \u001b[90m━━━━━━━━━━━━━━━━━━━━━━━━━━━━━━━━━━━━━━━━\u001b[0m \u001b[32m513.4/513.4 kB\u001b[0m \u001b[31m2.2 MB/s\u001b[0m eta \u001b[36m0:00:00\u001b[0mta \u001b[36m0:00:01\u001b[0m\n",
      "\u001b[?25hInstalling collected packages: mecab-python3\n",
      "Successfully installed mecab-python3-1.0.9\n",
      "Note: you may need to restart the kernel to use updated packages.\n"
     ]
    }
   ],
   "source": [
    "pip install mecab-python3\n"
   ]
  },
  {
   "cell_type": "code",
   "execution_count": 8,
   "id": "fe1ba5d9",
   "metadata": {},
   "outputs": [],
   "source": [
    "import MeCab\n",
    "\n",
    "def parse_neko():\n",
    "    mecab = MeCab.Tagger()\n",
    "    \n",
    "    with open('neko.txt', 'r', encoding='utf-8') as infile, open('neko.txt.mecab', 'w', encoding='utf-8') as outfile:\n",
    "        for line in infile:\n",
    "            parsed_line = mecab.parse(line)\n",
    "            outfile.write(parsed_line)\n",
    "\n",
    "if __name__ == '__main__':\n",
    "    parse_neko()\n"
   ]
  },
  {
   "cell_type": "code",
   "execution_count": 9,
   "id": "f9ae4d40",
   "metadata": {},
   "outputs": [
    {
     "name": "stdout",
     "output_type": "stream",
     "text": [
      "{'surface': '一', 'base': '一', 'pos': '名詞', 'pos1': '数'}\n"
     ]
    }
   ],
   "source": [
    "def read_parsed_neko():\n",
    "    sentences = []\n",
    "    sentence = []\n",
    "\n",
    "    with open('neko.txt.mecab', 'r', encoding='utf-8') as infile:\n",
    "        for line in infile:\n",
    "            if line == 'EOS\\n':\n",
    "                if sentence:\n",
    "                    sentences.append(sentence)\n",
    "                    sentence = []\n",
    "                continue\n",
    "            \n",
    "            surface, attr = line.split('\\t')\n",
    "            attr = attr.split(',')\n",
    "\n",
    "            morph = {\n",
    "                'surface': surface,\n",
    "                'base': attr[6],\n",
    "                'pos': attr[0],\n",
    "                'pos1': attr[1]\n",
    "            }\n",
    "\n",
    "            sentence.append(morph)\n",
    "\n",
    "    return sentences\n",
    "\n",
    "if __name__ == '__main__':\n",
    "    sentences = read_parsed_neko()\n",
    "    for morph in sentences[0]:\n",
    "        print(morph)\n"
   ]
  },
  {
   "cell_type": "code",
   "execution_count": null,
   "id": "7749de77",
   "metadata": {},
   "outputs": [],
   "source": []
  }
 ],
 "metadata": {
  "kernelspec": {
   "display_name": "Python 3 (ipykernel)",
   "language": "python",
   "name": "python3"
  },
  "language_info": {
   "codemirror_mode": {
    "name": "ipython",
    "version": 3
   },
   "file_extension": ".py",
   "mimetype": "text/x-python",
   "name": "python",
   "nbconvert_exporter": "python",
   "pygments_lexer": "ipython3",
   "version": "3.11.4"
  }
 },
 "nbformat": 4,
 "nbformat_minor": 5
}
