{
 "cells": [
  {
   "cell_type": "code",
   "execution_count": 1,
   "id": "04086a0e",
   "metadata": {},
   "outputs": [
    {
     "name": "stdout",
     "output_type": "stream",
     "text": [
      "Word: Unites_States, Similarity: 0.7877248525619507\n",
      "Word: Untied_States, Similarity: 0.7541370987892151\n",
      "Word: United_Sates, Similarity: 0.7400724291801453\n",
      "Word: U.S., Similarity: 0.7310774326324463\n",
      "Word: theUnited_States, Similarity: 0.6404393911361694\n",
      "Word: America, Similarity: 0.6178410053253174\n",
      "Word: UnitedStates, Similarity: 0.6167312264442444\n",
      "Word: Europe, Similarity: 0.6132988929748535\n",
      "Word: countries, Similarity: 0.6044804453849792\n",
      "Word: Canada, Similarity: 0.601906955242157\n"
     ]
    }
   ],
   "source": [
    "import gensim\n",
    "\n",
    "# モデルを読み込む\n",
    "model = gensim.models.KeyedVectors.load('word2vec-google-news-300.model')\n",
    "\n",
    "# \"United States\"とコサイン類似度が高い10語とその類似度を出力\n",
    "similar_words = model.most_similar('United_States', topn=10)\n",
    "for word, similarity in similar_words:\n",
    "    print(f\"Word: {word}, Similarity: {similarity}\")\n"
   ]
  },
  {
   "cell_type": "code",
   "execution_count": null,
   "id": "2e3d0946",
   "metadata": {},
   "outputs": [],
   "source": []
  }
 ],
 "metadata": {
  "kernelspec": {
   "display_name": "Python 3 (ipykernel)",
   "language": "python",
   "name": "python3"
  },
  "language_info": {
   "codemirror_mode": {
    "name": "ipython",
    "version": 3
   },
   "file_extension": ".py",
   "mimetype": "text/x-python",
   "name": "python",
   "nbconvert_exporter": "python",
   "pygments_lexer": "ipython3",
   "version": "3.11.4"
  }
 },
 "nbformat": 4,
 "nbformat_minor": 5
}
