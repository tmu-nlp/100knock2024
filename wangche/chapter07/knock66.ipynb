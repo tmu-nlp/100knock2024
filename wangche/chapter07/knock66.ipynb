{
 "cells": [
  {
   "cell_type": "code",
   "execution_count": 2,
   "id": "8ab3b0ce",
   "metadata": {},
   "outputs": [
    {
     "name": "stdout",
     "output_type": "stream",
     "text": [
      "スピアマン相関係数: 0.7000166486272194\n",
      "p値: 2.86866666051422e-53\n"
     ]
    }
   ],
   "source": [
    "import gensim\n",
    "import pandas as pd\n",
    "from scipy.stats import spearmanr\n",
    "\n",
    "# モデルを読み込む\n",
    "model = gensim.models.KeyedVectors.load('word2vec-google-news-300.model')\n",
    "\n",
    "df = pd.read_csv(\"combined.csv\")\n",
    "Cossim = lambda X:model.similarity(X[\"Word 1\"], X[\"Word 2\"])\n",
    "wordvec = df.apply(Cossim, axis=1)\n",
    "correlation, pvalue = spearmanr(wordvec, df[\"Human (mean)\"])\n",
    "print(\"スピアマン相関係数:\", correlation)\n",
    "print(\"p値:\", pvalue)\n"
   ]
  },
  {
   "cell_type": "code",
   "execution_count": null,
   "id": "f8b3cc3a",
   "metadata": {},
   "outputs": [],
   "source": []
  }
 ],
 "metadata": {
  "kernelspec": {
   "display_name": "Python 3 (ipykernel)",
   "language": "python",
   "name": "python3"
  },
  "language_info": {
   "codemirror_mode": {
    "name": "ipython",
    "version": 3
   },
   "file_extension": ".py",
   "mimetype": "text/x-python",
   "name": "python",
   "nbconvert_exporter": "python",
   "pygments_lexer": "ipython3",
   "version": "3.11.4"
  }
 },
 "nbformat": 4,
 "nbformat_minor": 5
}
