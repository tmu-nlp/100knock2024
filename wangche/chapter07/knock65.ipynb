{
 "cells": [
  {
   "cell_type": "code",
   "execution_count": 3,
   "id": "86f8a3f4",
   "metadata": {},
   "outputs": [
    {
     "name": "stdout",
     "output_type": "stream",
     "text": [
      "Semantic analogy accuracy: 0.7358780188293083\n",
      "Syntactic analogy accuracy: 0\n"
     ]
    }
   ],
   "source": [
    "semantic_correct = 0\n",
    "syntactic_correct = 0\n",
    "semantic_total = 0\n",
    "syntactic_total = 0\n",
    "\n",
    "category = None\n",
    "\n",
    "with open('analogy_results.txt', 'r') as f:\n",
    "    for line in f:\n",
    "        if line.startswith(':'):\n",
    "            category = line.strip()\n",
    "        else:\n",
    "            parts = line.strip().split()\n",
    "            original_words = parts[:4]\n",
    "            predicted_word = parts[4]\n",
    "            if original_words[3] == predicted_word:\n",
    "                if category and category.startswith(': gram'):\n",
    "                    syntactic_correct += 1\n",
    "                else:\n",
    "                    semantic_correct += 1\n",
    "            if category and category.startswith(': gram'):\n",
    "                syntactic_total += 1\n",
    "            else:\n",
    "                semantic_total += 1\n",
    "\n",
    "semantic_accuracy = semantic_correct / semantic_total if semantic_total != 0 else 0\n",
    "syntactic_accuracy = syntactic_correct / syntactic_total if syntactic_total != 0 else 0\n",
    "\n",
    "print(f\"Semantic analogy accuracy: {semantic_accuracy}\")\n",
    "print(f\"Syntactic analogy accuracy: {syntactic_accuracy}\")\n"
   ]
  },
  {
   "cell_type": "code",
   "execution_count": null,
   "id": "fc044f3e",
   "metadata": {},
   "outputs": [],
   "source": []
  }
 ],
 "metadata": {
  "kernelspec": {
   "display_name": "Python 3 (ipykernel)",
   "language": "python",
   "name": "python3"
  },
  "language_info": {
   "codemirror_mode": {
    "name": "ipython",
    "version": 3
   },
   "file_extension": ".py",
   "mimetype": "text/x-python",
   "name": "python",
   "nbconvert_exporter": "python",
   "pygments_lexer": "ipython3",
   "version": "3.11.4"
  }
 },
 "nbformat": 4,
 "nbformat_minor": 5
}
