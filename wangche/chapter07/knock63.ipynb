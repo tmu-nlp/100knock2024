{
 "cells": [
  {
   "cell_type": "code",
   "execution_count": 1,
   "id": "36c2b245",
   "metadata": {},
   "outputs": [
    {
     "name": "stdout",
     "output_type": "stream",
     "text": [
      "Word: Greece, Similarity: 0.6898480653762817\n",
      "Word: Aristeidis_Grigoriadis, Similarity: 0.560684859752655\n",
      "Word: Ioannis_Drymonakos, Similarity: 0.5552908778190613\n",
      "Word: Greeks, Similarity: 0.545068621635437\n",
      "Word: Ioannis_Christou, Similarity: 0.5400862097740173\n",
      "Word: Hrysopiyi_Devetzi, Similarity: 0.5248445272445679\n",
      "Word: Heraklio, Similarity: 0.5207759737968445\n",
      "Word: Athens_Greece, Similarity: 0.516880989074707\n",
      "Word: Lithuania, Similarity: 0.5166865587234497\n",
      "Word: Iraklion, Similarity: 0.5146791338920593\n"
     ]
    }
   ],
   "source": [
    "import gensim\n",
    "\n",
    "# モデルを読み込む\n",
    "model = gensim.models.KeyedVectors.load('word2vec-google-news-300.model')\n",
    "\n",
    "# アナロジー計算: vec(\"Spain\") - vec(\"Madrid\") + vec(\"Athens\")\n",
    "analogy_result = model.most_similar(positive=['Spain', 'Athens'], negative=['Madrid'], topn=10)\n",
    "for word, similarity in analogy_result:\n",
    "    print(f\"Word: {word}, Similarity: {similarity}\")\n"
   ]
  },
  {
   "cell_type": "code",
   "execution_count": null,
   "id": "1b778f8b",
   "metadata": {},
   "outputs": [],
   "source": []
  }
 ],
 "metadata": {
  "kernelspec": {
   "display_name": "Python 3 (ipykernel)",
   "language": "python",
   "name": "python3"
  },
  "language_info": {
   "codemirror_mode": {
    "name": "ipython",
    "version": 3
   },
   "file_extension": ".py",
   "mimetype": "text/x-python",
   "name": "python",
   "nbconvert_exporter": "python",
   "pygments_lexer": "ipython3",
   "version": "3.11.4"
  }
 },
 "nbformat": 4,
 "nbformat_minor": 5
}
