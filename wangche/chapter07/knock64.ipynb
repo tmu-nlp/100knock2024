{
 "cells": [
  {
   "cell_type": "code",
   "execution_count": 2,
   "id": "ca20e752",
   "metadata": {},
   "outputs": [],
   "source": [
    "import gensim\n",
    "\n",
    "# モデルを読み込む\n",
    "model = gensim.models.KeyedVectors.load('word2vec-google-news-300.model')\n",
    "\n",
    "# アナロジータスクの評価データを読み込み\n",
    "with open('questions-words.txt', 'r') as f:\n",
    "    analogy_tasks = f.readlines()\n"
   ]
  },
  {
   "cell_type": "code",
   "execution_count": 3,
   "id": "734179b5",
   "metadata": {},
   "outputs": [],
   "source": [
    "results = []\n",
    "for task in analogy_tasks:\n",
    "    if task.startswith(':'):\n",
    "        # タスクのカテゴリを保持\n",
    "        category = task.strip()\n",
    "    else:\n",
    "        words = task.strip().split()\n",
    "        if all(word in model for word in words):\n",
    "            result = model.most_similar(positive=[words[1], words[2]], negative=[words[0]], topn=1)\n",
    "            predicted_word, similarity = result[0]\n",
    "            results.append((words, predicted_word, similarity))\n",
    "\n",
    "# 結果をファイルに保存\n",
    "with open('analogy_results.txt', 'w') as f:\n",
    "    for words, predicted_word, similarity in results:\n",
    "        f.write(f\"{' '.join(words)} {predicted_word} {similarity}\\n\")\n",
    "        "
   ]
  },
  {
   "cell_type": "code",
   "execution_count": null,
   "id": "36059f62",
   "metadata": {},
   "outputs": [],
   "source": []
  }
 ],
 "metadata": {
  "kernelspec": {
   "display_name": "Python 3 (ipykernel)",
   "language": "python",
   "name": "python3"
  },
  "language_info": {
   "codemirror_mode": {
    "name": "ipython",
    "version": 3
   },
   "file_extension": ".py",
   "mimetype": "text/x-python",
   "name": "python",
   "nbconvert_exporter": "python",
   "pygments_lexer": "ipython3",
   "version": "3.11.4"
  }
 },
 "nbformat": 4,
 "nbformat_minor": 5
}
