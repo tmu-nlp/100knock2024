{
 "cells": [
  {
   "cell_type": "markdown",
   "id": "4c78273a",
   "metadata": {},
   "source": [
    "40. 係り受け解析結果の読み込み（形態素）\n",
    "\n",
    "形態素を表すクラスMorphを実装せよ．このクラスは表層形（surface），基本形（base），品詞（pos），品詞細分類1（pos1）をメンバ変数に持つこととする．さらに，係り受け解析の結果（ai.ja.txt.parsed）を読み込み，各文をMorphオブジェクトのリストとして表現し，冒頭の説明文の形態素列を表示せよ．"
   ]
  },
  {
   "cell_type": "code",
   "execution_count": 10,
   "id": "4c3cb85d",
   "metadata": {},
   "outputs": [],
   "source": [
    "class Morph:\n",
    "    def __init__(self, surface, base, pos, pos1):\n",
    "        self.surface = surface  # 表層形\n",
    "        self.base = base        # 基本形\n",
    "        self.pos = pos          # 品詞\n",
    "        self.pos1 = pos1        # 品詞細分類1\n",
    "\n",
    "    def __str__(self):\n",
    "        return f\"surface: {self.surface}, base: {self.base}, pos: {self.pos}, pos1: {self.pos1}\"\n"
   ]
  },
  {
   "cell_type": "code",
   "execution_count": 11,
   "id": "c4535627",
   "metadata": {},
   "outputs": [],
   "source": [
    "def parse_cabocha_output(parsed_file):\n",
    "    sentences = []\n",
    "    with open(parsed_file, 'r', encoding='utf-8') as f:\n",
    "        sentence = []\n",
    "        for line in f:\n",
    "            if line.strip() == 'EOS':\n",
    "                if sentence:\n",
    "                    sentences.append(sentence)\n",
    "                    sentence = []\n",
    "            elif line.startswith('*'):\n",
    "                continue\n",
    "            else:\n",
    "                parts = line.split('\\t')\n",
    "                if len(parts) > 1:\n",
    "                    surface = parts[0]\n",
    "                    features = parts[1].split(',')\n",
    "                    base = features[6]\n",
    "                    pos = features[0]\n",
    "                    pos1 = features[1]\n",
    "                    morph = Morph(surface, base, pos, pos1)\n",
    "                    sentence.append(morph)\n",
    "    return sentences\n"
   ]
  },
  {
   "cell_type": "code",
   "execution_count": 13,
   "id": "52f5464e",
   "metadata": {},
   "outputs": [
    {
     "name": "stdout",
     "output_type": "stream",
     "text": [
      "surface: 人工, base: 人工, pos: 名詞, pos1: 一般\n",
      "surface: 知能, base: 知能, pos: 名詞, pos1: 一般\n",
      "surface: （, base: （, pos: 記号, pos1: 括弧開\n",
      "surface: じん, base: じん, pos: 名詞, pos1: 一般\n",
      "surface: こうち, base: こうち, pos: 名詞, pos1: 一般\n",
      "surface: のう, base: のう, pos: 助詞, pos1: 終助詞\n",
      "surface: 、, base: 、, pos: 記号, pos1: 読点\n",
      "surface: 、, base: 、, pos: 記号, pos1: 読点\n",
      "surface: AI, base: *\n",
      ", pos: 名詞, pos1: 一般\n",
      "surface: 〈, base: 〈, pos: 記号, pos1: 括弧開\n",
      "surface: エーアイ, base: *\n",
      ", pos: 名詞, pos1: 固有名詞\n",
      "surface: 〉, base: 〉, pos: 記号, pos1: 括弧閉\n",
      "surface: ）, base: ）, pos: 記号, pos1: 括弧閉\n",
      "surface: と, base: と, pos: 助詞, pos1: 格助詞\n",
      "surface: は, base: は, pos: 助詞, pos1: 係助詞\n",
      "surface: 、, base: 、, pos: 記号, pos1: 読点\n",
      "surface: 「, base: 「, pos: 記号, pos1: 括弧開\n",
      "surface: 『, base: 『, pos: 記号, pos1: 括弧開\n",
      "surface: 計算, base: 計算, pos: 名詞, pos1: サ変接続\n",
      "surface: （, base: （, pos: 記号, pos1: 括弧開\n",
      "surface: ）, base: ）, pos: 記号, pos1: 括弧閉\n",
      "surface: 』, base: 』, pos: 記号, pos1: 括弧閉\n",
      "surface: という, base: という, pos: 助詞, pos1: 格助詞\n",
      "surface: 概念, base: 概念, pos: 名詞, pos1: 一般\n",
      "surface: と, base: と, pos: 助詞, pos1: 並立助詞\n",
      "surface: 『, base: 『, pos: 記号, pos1: 括弧開\n",
      "surface: コンピュータ, base: コンピュータ, pos: 名詞, pos1: 一般\n",
      "surface: （, base: （, pos: 記号, pos1: 括弧開\n",
      "surface: ）, base: ）, pos: 記号, pos1: 括弧閉\n",
      "surface: 』, base: 』, pos: 記号, pos1: 括弧閉\n",
      "surface: という, base: という, pos: 助詞, pos1: 格助詞\n",
      "surface: 道具, base: 道具, pos: 名詞, pos1: 一般\n",
      "surface: を, base: を, pos: 助詞, pos1: 格助詞\n",
      "surface: 用い, base: 用いる, pos: 動詞, pos1: 自立\n",
      "surface: て, base: て, pos: 助詞, pos1: 接続助詞\n",
      "surface: 『, base: 『, pos: 記号, pos1: 括弧開\n",
      "surface: 知能, base: 知能, pos: 名詞, pos1: 一般\n",
      "surface: 』, base: 』, pos: 記号, pos1: 括弧閉\n",
      "surface: を, base: を, pos: 助詞, pos1: 格助詞\n",
      "surface: 研究, base: 研究, pos: 名詞, pos1: サ変接続\n",
      "surface: する, base: する, pos: 動詞, pos1: 自立\n",
      "surface: 計算, base: 計算, pos: 名詞, pos1: サ変接続\n",
      "surface: 機, base: 機, pos: 名詞, pos1: 接尾\n",
      "surface: 科学, base: 科学, pos: 名詞, pos1: 一般\n",
      "surface: （, base: （, pos: 記号, pos1: 括弧開\n",
      "surface: ）, base: ）, pos: 記号, pos1: 括弧閉\n",
      "surface: の, base: の, pos: 助詞, pos1: 連体化\n",
      "surface: 一, base: 一, pos: 名詞, pos1: 数\n",
      "surface: 分野, base: 分野, pos: 名詞, pos1: 一般\n",
      "surface: 」, base: 」, pos: 記号, pos1: 括弧閉\n",
      "surface: を, base: を, pos: 助詞, pos1: 格助詞\n",
      "surface: 指す, base: 指す, pos: 動詞, pos1: 自立\n",
      "surface: 語, base: 語, pos: 名詞, pos1: 一般\n",
      "surface: 。, base: 。, pos: 記号, pos1: 句点\n"
     ]
    }
   ],
   "source": [
    "def display_first_sentence(parsed_file):\n",
    "    sentences = parse_cabocha_output(parsed_file)\n",
    "    if sentences:\n",
    "        first_sentence = sentences[0]\n",
    "        for morph in first_sentence:\n",
    "            print(morph)\n",
    "\n",
    "# 指定解析结果文件路径\n",
    "parsed_file = 'ai.ja.txt.parsed'\n",
    "\n",
    "# 显示第一个句子的形态素序列\n",
    "display_first_sentence(parsed_file)\n"
   ]
  },
  {
   "cell_type": "code",
   "execution_count": null,
   "id": "27a195b2",
   "metadata": {},
   "outputs": [],
   "source": []
  }
 ],
 "metadata": {
  "kernelspec": {
   "display_name": "Python 3 (ipykernel)",
   "language": "python",
   "name": "python3"
  },
  "language_info": {
   "codemirror_mode": {
    "name": "ipython",
    "version": 3
   },
   "file_extension": ".py",
   "mimetype": "text/x-python",
   "name": "python",
   "nbconvert_exporter": "python",
   "pygments_lexer": "ipython3",
   "version": "3.11.4"
  }
 },
 "nbformat": 4,
 "nbformat_minor": 5
}
