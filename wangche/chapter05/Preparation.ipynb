{
 "cells": [
  {
   "cell_type": "code",
   "execution_count": 1,
   "id": "6f633ceb",
   "metadata": {},
   "outputs": [],
   "source": [
    "import CaboCha\n",
    "CBC = CaboCha.Parser()\n",
    "divtext = []\n",
    "with open(\"ai-Copy1.ja.txt\", \"r\") as f, open(\"ai-Copy1.ja.txt.parsed\", \"w\") as f2:\n",
    "  lines = f.readlines()\n",
    "  for text in lines:\n",
    "    if \"。\" in text:\n",
    "      temp = text.split(\"。\")\n",
    "      temp = [x + \"。\" for x in temp if x != '']\n",
    "      divtext.extend(temp)\n",
    "  for text in divtext:\n",
    "    tree = CBC.parse(text)\n",
    "    f2.write(tree.toString(CaboCha.FORMAT_LATTICE))\n"
   ]
  },
  {
   "cell_type": "code",
   "execution_count": null,
   "id": "05d794f1",
   "metadata": {},
   "outputs": [],
   "source": []
  }
 ],
 "metadata": {
  "kernelspec": {
   "display_name": "Python 3 (ipykernel)",
   "language": "python",
   "name": "python3"
  },
  "language_info": {
   "codemirror_mode": {
    "name": "ipython",
    "version": 3
   },
   "file_extension": ".py",
   "mimetype": "text/x-python",
   "name": "python",
   "nbconvert_exporter": "python",
   "pygments_lexer": "ipython3",
   "version": "3.11.4"
  }
 },
 "nbformat": 4,
 "nbformat_minor": 5
}
