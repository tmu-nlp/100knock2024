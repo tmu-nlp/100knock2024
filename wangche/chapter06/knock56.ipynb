{
 "cells": [
  {
   "cell_type": "code",
   "execution_count": 1,
   "id": "b8c798b6",
   "metadata": {},
   "outputs": [
    {
     "name": "stdout",
     "output_type": "stream",
     "text": [
      "Category: b\n",
      "  Precision: 0.9065\n",
      "  Recall: 0.9467\n",
      "  F1 Score: 0.9262\n",
      "Category: e\n",
      "  Precision: 0.9207\n",
      "  Recall: 0.9678\n",
      "  F1 Score: 0.9437\n",
      "Category: m\n",
      "  Precision: 0.9014\n",
      "  Recall: 0.7033\n",
      "  F1 Score: 0.7901\n",
      "Category: t\n",
      "  Precision: 0.8500\n",
      "  Recall: 0.6711\n",
      "  F1 Score: 0.7500\n",
      "\n",
      "Micro-Average\n",
      "  Precision: 0.9070\n",
      "  Recall: 0.9070\n",
      "  F1 Score: 0.9070\n",
      "\n",
      "Macro-Average\n",
      "  Precision: 0.8946\n",
      "  Recall: 0.8222\n",
      "  F1 Score: 0.8525\n"
     ]
    }
   ],
   "source": [
    "import pandas as pd\n",
    "import joblib\n",
    "from sklearn.metrics import precision_score, recall_score, f1_score\n",
    "\n",
    "# モデルとエンコーダーを読み込む\n",
    "model = joblib.load('logistic_regression_model.pkl')\n",
    "label_encoder = joblib.load('label_encoder.pkl')\n",
    "vectorizer = joblib.load('vectorizer.pkl')\n",
    "\n",
    "# データを読み込む\n",
    "test_df = pd.read_csv('test.txt', sep='\\t', header=None, names=['Category', 'Title'])\n",
    "\n",
    "# 特徴とラベルを分ける\n",
    "X_test = vectorizer.transform(test_df['Title'])\n",
    "y_test = label_encoder.transform(test_df['Category'])\n",
    "\n",
    "# テストデータの予測\n",
    "y_test_pred = model.predict(X_test)\n",
    "\n",
    "# カテゴリごとの適合率，再現率，F1スコアの計測\n",
    "precision = precision_score(y_test, y_test_pred, average=None)\n",
    "recall = recall_score(y_test, y_test_pred, average=None)\n",
    "f1 = f1_score(y_test, y_test_pred, average=None)\n",
    "\n",
    "# 結果の表示\n",
    "labels = label_encoder.classes_\n",
    "for label, p, r, f in zip(labels, precision, recall, f1):\n",
    "    print(f'Category: {label}')\n",
    "    print(f'  Precision: {p:.4f}')\n",
    "    print(f'  Recall: {r:.4f}')\n",
    "    print(f'  F1 Score: {f:.4f}')\n",
    "\n",
    "# マイクロ平均とマクロ平均\n",
    "precision_micro = precision_score(y_test, y_test_pred, average='micro')\n",
    "recall_micro = recall_score(y_test, y_test_pred, average='micro')\n",
    "f1_micro = f1_score(y_test, y_test_pred, average='micro')\n",
    "\n",
    "precision_macro = precision_score(y_test, y_test_pred, average='macro')\n",
    "recall_macro = recall_score(y_test, y_test_pred, average='macro')\n",
    "f1_macro = f1_score(y_test, y_test_pred, average='macro')\n",
    "\n",
    "print('\\nMicro-Average')\n",
    "print(f'  Precision: {precision_micro:.4f}')\n",
    "print(f'  Recall: {recall_micro:.4f}')\n",
    "print(f'  F1 Score: {f1_micro:.4f}')\n",
    "\n",
    "print('\\nMacro-Average')\n",
    "print(f'  Precision: {precision_macro:.4f}')\n",
    "print(f'  Recall: {recall_macro:.4f}')\n",
    "print(f'  F1 Score: {f1_macro:.4f}')\n"
   ]
  },
  {
   "cell_type": "code",
   "execution_count": null,
   "id": "71da6bb3",
   "metadata": {},
   "outputs": [],
   "source": []
  }
 ],
 "metadata": {
  "kernelspec": {
   "display_name": "Python 3 (ipykernel)",
   "language": "python",
   "name": "python3"
  },
  "language_info": {
   "codemirror_mode": {
    "name": "ipython",
    "version": 3
   },
   "file_extension": ".py",
   "mimetype": "text/x-python",
   "name": "python",
   "nbconvert_exporter": "python",
   "pygments_lexer": "ipython3",
   "version": "3.11.4"
  }
 },
 "nbformat": 4,
 "nbformat_minor": 5
}
