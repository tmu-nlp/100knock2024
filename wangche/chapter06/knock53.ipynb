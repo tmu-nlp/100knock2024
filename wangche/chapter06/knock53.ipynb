{
 "cells": [
  {
   "cell_type": "code",
   "execution_count": 3,
   "id": "d5a07cf3",
   "metadata": {},
   "outputs": [
    {
     "name": "stdout",
     "output_type": "stream",
     "text": [
      "Title: The stock market is experiencing unprecedented growth.\n",
      "Predicted Category: b\n",
      "Probabilities: [0.94157397 0.02711228 0.00761151 0.02370224]\n",
      "b: 0.9416\n",
      "e: 0.0271\n",
      "m: 0.0076\n",
      "t: 0.0237\n"
     ]
    }
   ],
   "source": [
    "import joblib\n",
    "from sklearn.feature_extraction.text import CountVectorizer\n",
    "\n",
    "# モデルとエンコーダーを読み込む\n",
    "model = joblib.load('logistic_regression_model.pkl')\n",
    "label_encoder = joblib.load('label_encoder.pkl')\n",
    "vectorizer = joblib.load('vectorizer.pkl')\n",
    "\n",
    "# 予測関数の定義\n",
    "def predict_category(title):\n",
    "    X = vectorizer.transform([title])\n",
    "    probabilities = model.predict_proba(X)[0]\n",
    "    predicted_index = model.predict(X)[0]\n",
    "    predicted_category = label_encoder.inverse_transform([predicted_index])[0]\n",
    "    return predicted_category, probabilities\n",
    "\n",
    "# テスト\n",
    "title = \"The stock market is experiencing unprecedented growth.\"\n",
    "predicted_category, probabilities = predict_category(title)\n",
    "\n",
    "print(f\"Title: {title}\")\n",
    "print(f\"Predicted Category: {predicted_category}\")\n",
    "print(f\"Probabilities: {probabilities}\")\n",
    "\n",
    "# 各カテゴリの確率を表示\n",
    "categories = label_encoder.classes_\n",
    "for category, probability in zip(categories, probabilities):\n",
    "    print(f\"{category}: {probability:.4f}\")\n"
   ]
  },
  {
   "cell_type": "code",
   "execution_count": null,
   "id": "2c877e4a",
   "metadata": {},
   "outputs": [],
   "source": []
  }
 ],
 "metadata": {
  "kernelspec": {
   "display_name": "Python 3 (ipykernel)",
   "language": "python",
   "name": "python3"
  },
  "language_info": {
   "codemirror_mode": {
    "name": "ipython",
    "version": 3
   },
   "file_extension": ".py",
   "mimetype": "text/x-python",
   "name": "python",
   "nbconvert_exporter": "python",
   "pygments_lexer": "ipython3",
   "version": "3.11.4"
  }
 },
 "nbformat": 4,
 "nbformat_minor": 5
}
