{
 "cells": [
  {
   "cell_type": "code",
   "execution_count": 2,
   "id": "9eabdd44",
   "metadata": {},
   "outputs": [],
   "source": [
    "import pandas as pd\n",
    "from sklearn.feature_extraction.text import CountVectorizer\n",
    "\n",
    "# データを読み込む\n",
    "train_df = pd.read_csv('train.txt', sep='\\t', header=None, names=['Category', 'Title'])\n",
    "valid_df = pd.read_csv('valid.txt', sep='\\t', header=None, names=['Category', 'Title'])\n",
    "test_df = pd.read_csv('test.txt', sep='\\t', header=None, names=['Category', 'Title'])\n",
    "\n",
    "# CountVectorizerでBag of Words特徴に変換する\n",
    "vectorizer = CountVectorizer()\n",
    "X_train = vectorizer.fit_transform(train_df['Title'])\n",
    "X_valid = vectorizer.transform(valid_df['Title'])\n",
    "X_test = vectorizer.transform(test_df['Title'])\n",
    "\n",
    "# 特徴をデータフレームに変換する\n",
    "train_features = pd.DataFrame(X_train.toarray(), columns=vectorizer.get_feature_names_out())\n",
    "valid_features = pd.DataFrame(X_valid.toarray(), columns=vectorizer.get_feature_names_out())\n",
    "test_features = pd.DataFrame(X_test.toarray(), columns=vectorizer.get_feature_names_out())\n",
    "\n",
    "# 特徴データにカテゴリを追加する\n",
    "train_features.insert(0, 'Category', train_df['Category'])\n",
    "valid_features.insert(0, 'Category', valid_df['Category'])\n",
    "test_features.insert(0, 'Category', test_df['Category'])\n",
    "\n",
    "# データを保存する\n",
    "train_features.to_csv('train.feature.txt', sep='\\t', index=False)\n",
    "valid_features.to_csv('valid.feature.txt', sep='\\t', index=False)\n",
    "test_features.to_csv('test.feature.txt', sep='\\t', index=False)\n"
   ]
  },
  {
   "cell_type": "code",
   "execution_count": null,
   "id": "14332526",
   "metadata": {},
   "outputs": [],
   "source": []
  }
 ],
 "metadata": {
  "kernelspec": {
   "display_name": "Python 3 (ipykernel)",
   "language": "python",
   "name": "python3"
  },
  "language_info": {
   "codemirror_mode": {
    "name": "ipython",
    "version": 3
   },
   "file_extension": ".py",
   "mimetype": "text/x-python",
   "name": "python",
   "nbconvert_exporter": "python",
   "pygments_lexer": "ipython3",
   "version": "3.11.4"
  }
 },
 "nbformat": 4,
 "nbformat_minor": 5
}
