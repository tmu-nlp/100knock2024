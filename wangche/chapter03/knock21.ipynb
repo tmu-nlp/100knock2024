{
 "cells": [
  {
   "cell_type": "markdown",
   "id": "2a27c5f8",
   "metadata": {},
   "source": [
    "記事中でカテゴリ名を宣言している行を抽出せよ"
   ]
  },
  {
   "cell_type": "markdown",
   "id": "be658e43",
   "metadata": {},
   "source": [
    "'.'：任意の1文字を表す\n",
    "\n",
    "'*'：0個以上の繰り返し\n",
    "\n",
    "'?'：最短一致\n",
    "\n",
    "\"\\[\\[Category:.*?\\]\\]\": \"[[Category:\" で始まり \"]]\" で終わる文字列を最短一致で見つけるための正規表現"
   ]
  },
  {
   "cell_type": "code",
   "execution_count": 1,
   "id": "6494c17e",
   "metadata": {},
   "outputs": [
    {
     "data": {
      "text/plain": [
       "['[[Category:イギリス|*]]',\n",
       " '[[Category:イギリス連邦加盟国]]',\n",
       " '[[Category:英連邦王国|*]]',\n",
       " '[[Category:G8加盟国]]',\n",
       " '[[Category:欧州連合加盟国|元]]',\n",
       " '[[Category:海洋国家]]',\n",
       " '[[Category:現存する君主国]]',\n",
       " '[[Category:島国]]',\n",
       " '[[Category:1801年に成立した国家・領域]]']"
      ]
     },
     "execution_count": 1,
     "metadata": {},
     "output_type": "execute_result"
    }
   ],
   "source": [
    "import json\n",
    "import re\n",
    "\n",
    "with open('jawiki-country.json', 'r') as f:\n",
    "    for line in f:\n",
    "        article = json.loads(line)\n",
    "        if article['title'] == \"イギリス\":\n",
    "            UK_text = article['text']\n",
    "            break\n",
    "\n",
    "pattern = \"\\[\\[Category:.*?\\]\\]\"\n",
    "result = re.findall(pattern, UK_text)\n",
    "result"
   ]
  },
  {
   "cell_type": "code",
   "execution_count": null,
   "id": "35353925",
   "metadata": {},
   "outputs": [],
   "source": []
  }
 ],
 "metadata": {
  "kernelspec": {
   "display_name": "Python 3 (ipykernel)",
   "language": "python",
   "name": "python3"
  },
  "language_info": {
   "codemirror_mode": {
    "name": "ipython",
    "version": 3
   },
   "file_extension": ".py",
   "mimetype": "text/x-python",
   "name": "python",
   "nbconvert_exporter": "python",
   "pygments_lexer": "ipython3",
   "version": "3.11.4"
  }
 },
 "nbformat": 4,
 "nbformat_minor": 5
}
