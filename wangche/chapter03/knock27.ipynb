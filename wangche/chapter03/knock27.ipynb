{
 "cells": [
  {
   "cell_type": "markdown",
   "id": "b95fa4e2",
   "metadata": {},
   "source": [
    "26の処理に加えて，テンプレートの値からMediaWikiの内部リンクマークアップを除去し，テキストに変換せよ（参考: マークアップ早見表）．"
   ]
  },
  {
   "cell_type": "code",
   "execution_count": 1,
   "id": "06367b3d",
   "metadata": {},
   "outputs": [],
   "source": [
    "import json\n",
    "import re\n",
    "text_list = []\n",
    "with open('jawiki-country.json', 'r') as f:\n",
    "    lines = f.readlines()\n",
    "    for line in lines:\n",
    "        text_list.append(json.loads(line))\n",
    "\n",
    "for i in range(len(text_list)):\n",
    "    if text_list[i]['title']==\"イギリス\":\n",
    "        UK_text = str(text_list[i])\n",
    "        break"
   ]
  },
  {
   "cell_type": "code",
   "execution_count": 2,
   "id": "a9618462",
   "metadata": {},
   "outputs": [],
   "source": [
    "pattern = '基礎情報(.*?\\<references/\\>)'\n",
    "result = re.findall(pattern, UK_text)\n",
    "result[0] += \"\\\\n\"\n",
    "pattern = '(?<=\\\\\\\\n\\|)(.*?) *= *(.*?)(?=\\\\\\\\n)'\n",
    "result2 = re.findall(pattern, result[0])\n",
    "inf_dic = {}\n",
    "for i, j in result2:\n",
    "  inf_dic[i] = j"
   ]
  },
  {
   "cell_type": "code",
   "execution_count": 3,
   "id": "b55fe908",
   "metadata": {},
   "outputs": [],
   "source": [
    "inf_dic2 = {}\n",
    "for key, text in inf_dic.items():\n",
    "  inf_dic2[key] = re.sub(r'(\\\\\\'){2,5}' , '', text)"
   ]
  },
  {
   "cell_type": "code",
   "execution_count": 4,
   "id": "13ff1993",
   "metadata": {},
   "outputs": [
    {
     "data": {
      "text/plain": [
       "{'略名': 'イギリス',\n",
       " '日本語国名': 'グレートブリテン及び北アイルランド連合王国',\n",
       " '公式国名': '{{lang|en|United Kingdom of Great Britain and Northern Ireland}}<ref>英語以外での正式国名:<br />',\n",
       " '国旗画像': 'Flag of the United Kingdom.svg',\n",
       " '国章画像': 'イギリスの国章',\n",
       " '国章リンク': '（国章）',\n",
       " '標語': '{{lang|fr|Dieu et mon droit}}<br />（フランス語:神と我が権利）',\n",
       " '国歌': '{{lang|en|God Save the Queen}}{{en icon}}<br />神よ女王を護り賜え<br />{{center|ファイル:United States Navy Band - God Save the Queen.ogg}}',\n",
       " '地図画像': 'Europe-UK.svg',\n",
       " '位置画像': 'United Kingdom (+overseas territories) in the World (+Antarctica claims).svg',\n",
       " '公用語': '英語',\n",
       " '首都': 'ロンドン（事実上）',\n",
       " '最大都市': 'ロンドン',\n",
       " '元首等肩書': '女王',\n",
       " '元首等氏名': 'エリザベス2世',\n",
       " '首相等肩書': '首相',\n",
       " '首相等氏名': 'ボリス・ジョンソン',\n",
       " '他元首等肩書1': '貴族院議長',\n",
       " '他元首等氏名1': 'ノーマン・ファウラー',\n",
       " '他元首等肩書2': '庶民院議長',\n",
       " '他元首等氏名2': '{{仮リンク|リンゼイ・ホイル|en|Lindsay Hoyle}}',\n",
       " '他元首等肩書3': '最高裁判所長官',\n",
       " '他元首等氏名3': 'ブレンダ・ヘイル',\n",
       " '面積順位': '76',\n",
       " '面積大きさ': '1 E11',\n",
       " '面積値': '244,820',\n",
       " '水面積率': '1.3%',\n",
       " '人口統計年': '2018',\n",
       " '人口順位': '22',\n",
       " '人口大きさ': '1 E7',\n",
       " '人口値': '6643万5600<ref>{{Cite web|url=https://www.ons.gov.uk/peoplepopulationandcommunity/populationandmigration/populationestimates|title=Population estimates - Office for National Statistics|accessdate=2019-06-26|date=2019-06-26}}</ref>',\n",
       " '人口密度値': '271',\n",
       " 'GDP統計年元': '2012',\n",
       " 'GDP値元': '1兆5478億<ref name=\"imf-statistics-gdp\">[http://www.imf.org/external/pubs/ft/weo/2012/02/weodata/weorept.aspx?pr.x=70&pr.y=13&sy=2010&ey=2012&scsm=1&ssd=1&sort=country&ds=.&br=1&c=112&s=NGDP%2CNGDPD%2CPPPGDP%2CPPPPC&grp=0&a=IMF>Data and Statistics>World Economic Outlook Databases>By Countrise>United Kingdom]</ref>',\n",
       " 'GDP統計年MER': '2012',\n",
       " 'GDP順位MER': '6',\n",
       " 'GDP値MER': '2兆4337億<ref name=\"imf-statistics-gdp\" />',\n",
       " 'GDP統計年': '2012',\n",
       " 'GDP順位': '6',\n",
       " 'GDP値': '2兆3162億<ref name=\"imf-statistics-gdp\" />',\n",
       " 'GDP/人': '36,727<ref name=\"imf-statistics-gdp\" />',\n",
       " '建国形態': '建国',\n",
       " '確立形態1': 'イングランド王国／スコットランド王国<br />（両国とも1707年合同法まで）',\n",
       " '確立年月日1': '927年／843年',\n",
       " '確立形態2': 'グレートブリテン王国成立<br />（1707年合同法）',\n",
       " '確立年月日2': '1707年{{0}}5月{{0}}1日',\n",
       " '確立形態3': 'グレートブリテン及びアイルランド連合王国成立<br />（1800年合同法）',\n",
       " '確立年月日3': '1801年{{0}}1月{{0}}1日',\n",
       " '確立形態4': '現在の国号「グレートブリテン及び北アイルランド連合王国」に変更',\n",
       " '確立年月日4': '1927年{{0}}4月12日',\n",
       " '通貨': 'UKポンド (£)',\n",
       " '通貨コード': 'GBP',\n",
       " '時間帯': '±0',\n",
       " '夏時間': '+1',\n",
       " 'ISO 3166-1': 'GB / GBR',\n",
       " 'ccTLD': '.uk / .gb<ref>使用は.ukに比べ圧倒的少数。</ref>',\n",
       " '国際電話番号': '44',\n",
       " '注記': '<references/>'}"
      ]
     },
     "execution_count": 4,
     "metadata": {},
     "output_type": "execute_result"
    }
   ],
   "source": [
    "inf_dic3 = {}\n",
    "for key, text in inf_dic2.items():\n",
    "  pattern = \"(?<=\\}\\}\\<br \\/\\>（)\\[{2}\"#<br />（フランス語]]:[[Dieu et mon droit|神と我が権利]]）\n",
    "  text = re.sub(pattern, '', text)\n",
    "\n",
    "  pattern = \"\\[{2}.*?\\|.*?px\\|(?=.*?\\]\\])\"#'[[ファイル:Royal Coat of Arms of the United Kingdom.svg|85px|イギリスの国章]]',\n",
    "  text = re.sub(pattern, '', text)\n",
    "\n",
    "  pattern = \"(?<=(\\|))\\[{2}\"\n",
    "  text = re.sub(pattern, '', text)\n",
    "\n",
    "  pattern = \"(?<=\\}{2}（)\\[{2}\"#スコットランド・ゲール語]]）\\n*{{lang|cy\n",
    "  text = re.sub(pattern, '', text)\n",
    "\n",
    "  pattern = \"(?<=\\>（)\\[{2}.*?\\|\"#[[グレートブリテン及びアイルランド連合王国]]成立<br />（1800年合同法]]）\n",
    "  text = re.sub(pattern, '', text)\n",
    "\n",
    "  pattern = \"(?<=（.{4}).*?\\[{2}.*?\\)\\|\" #'[[イングランド王国]]／[[スコットランド王国]]<br />（両国とも[[合同法 (1707年)|1707年合同法]]まで）',\n",
    "  text = re.sub(pattern, '', text)\n",
    "\n",
    "  pattern = \"\\[{2}.*?\\|\"#[[(除去)|]]の処理\n",
    "  text = re.sub(pattern, '', text)\n",
    "\n",
    "  pattern = \"(\\[{2}|\\]{2})\"#最後に残ったやつを処理\n",
    "  inf_dic3[key] = re.sub(pattern, '', text)\n",
    "inf_dic3"
   ]
  },
  {
   "cell_type": "code",
   "execution_count": null,
   "id": "d423d195",
   "metadata": {},
   "outputs": [],
   "source": []
  }
 ],
 "metadata": {
  "kernelspec": {
   "display_name": "Python 3 (ipykernel)",
   "language": "python",
   "name": "python3"
  },
  "language_info": {
   "codemirror_mode": {
    "name": "ipython",
    "version": 3
   },
   "file_extension": ".py",
   "mimetype": "text/x-python",
   "name": "python",
   "nbconvert_exporter": "python",
   "pygments_lexer": "ipython3",
   "version": "3.11.4"
  }
 },
 "nbformat": 4,
 "nbformat_minor": 5
}
