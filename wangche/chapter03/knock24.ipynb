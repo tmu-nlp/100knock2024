{
 "cells": [
  {
   "cell_type": "markdown",
   "id": "48ff9678",
   "metadata": {},
   "source": [
    "記事から参照されているメディアファイルをすべて抜き出せ．"
   ]
  },
  {
   "cell_type": "code",
   "execution_count": 1,
   "id": "1f773a79",
   "metadata": {},
   "outputs": [],
   "source": [
    "import json\n",
    "import re\n",
    "text_list = []\n",
    "with open('jawiki-country.json', 'r') as f:\n",
    "    lines = f.readlines()\n",
    "    for line in lines:\n",
    "        text_list.append(json.loads(line))\n",
    "\n",
    "for i in range(len(text_list)):\n",
    "    if text_list[i]['title']==\"イギリス\":\n",
    "        UK_text = str(text_list[i])\n",
    "        break"
   ]
  },
  {
   "cell_type": "code",
   "execution_count": 3,
   "id": "28853379",
   "metadata": {},
   "outputs": [
    {
     "data": {
      "text/plain": [
       "['Royal Coat of Arms of the United Kingdom.svg',\n",
       " 'United States Navy Band - God Save the Queen.ogg',\n",
       " 'Descriptio Prime Tabulae Europae.jpg',\n",
       " \"Lenepveu, Jeanne d\\\\'Arc au siège d\\\\'Orléans.jpg\",\n",
       " 'London.bankofengland.arp.jpg',\n",
       " 'Battle of Waterloo 1815.PNG',\n",
       " 'Uk topo en.jpg',\n",
       " 'BenNevis2005.jpg',\n",
       " 'Population density UK 2011 census.png',\n",
       " '2019 Greenwich Peninsula & Canary Wharf.jpg',\n",
       " 'Birmingham Skyline from Edgbaston Cricket Ground crop.jpg',\n",
       " 'Leeds CBD at night.jpg',\n",
       " 'Glasgow and the Clyde from the air (geograph 4665720).jpg',\n",
       " 'Palace of Westminster, London - Feb 2007.jpg',\n",
       " 'Scotland Parliament Holyrood.jpg',\n",
       " 'Donald Trump and Theresa May (33998675310) (cropped).jpg',\n",
       " 'Soldiers Trooping the Colour, 16th June 2007.jpg',\n",
       " 'City of London skyline from London City Hall - Oct 2008.jpg',\n",
       " 'Oil platform in the North SeaPros.jpg',\n",
       " 'Eurostar at St Pancras Jan 2008.jpg',\n",
       " 'Heathrow Terminal 5C Iwelumo-1.jpg',\n",
       " 'Airbus A380-841 G-XLEB British Airways (10424102995).jpg',\n",
       " 'UKpop.svg',\n",
       " 'Anglospeak.svg',\n",
       " \"Royal Aberdeen Children\\\\'s Hospital.jpg\",\n",
       " 'CHANDOS3.jpg',\n",
       " 'The Fabs.JPG',\n",
       " 'Wembley Stadium, illuminated.jpg']"
      ]
     },
     "execution_count": 3,
     "metadata": {},
     "output_type": "execute_result"
    }
   ],
   "source": [
    "import re\n",
    "pattern = '\\[\\[ファイル:(.*?)(?:\\||\\])'\n",
    "result = re.findall(pattern, UK_text)\n",
    "result"
   ]
  },
  {
   "cell_type": "code",
   "execution_count": null,
   "id": "f52683a6",
   "metadata": {},
   "outputs": [],
   "source": []
  }
 ],
 "metadata": {
  "kernelspec": {
   "display_name": "Python 3 (ipykernel)",
   "language": "python",
   "name": "python3"
  },
  "language_info": {
   "codemirror_mode": {
    "name": "ipython",
    "version": 3
   },
   "file_extension": ".py",
   "mimetype": "text/x-python",
   "name": "python",
   "nbconvert_exporter": "python",
   "pygments_lexer": "ipython3",
   "version": "3.11.4"
  }
 },
 "nbformat": 4,
 "nbformat_minor": 5
}
