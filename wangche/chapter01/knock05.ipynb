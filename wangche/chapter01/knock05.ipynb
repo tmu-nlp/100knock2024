{
 "cells": [
  {
   "cell_type": "markdown",
   "id": "d716b0e6",
   "metadata": {},
   "source": [
    "# 与えられたシーケンス（文字列やリストなど）からn-gramを作る関数を作成せよ．この関数を用い，”I am an NLPer”という文から単語bi-gram，文字bi-gramを得よ．"
   ]
  },
  {
   "cell_type": "code",
   "execution_count": 1,
   "id": "356adfb7",
   "metadata": {},
   "outputs": [],
   "source": [
    "def n_grams(sequence, n):\n",
    "    return [sequence[i:i+n] for i in range(len(sequence) - n + 1)]"
   ]
  },
  {
   "cell_type": "code",
   "execution_count": 2,
   "id": "c17ddae4",
   "metadata": {},
   "outputs": [
    {
     "name": "stdout",
     "output_type": "stream",
     "text": [
      "[['I', 'am'], ['am', 'an'], ['an', 'NLPer']]\n"
     ]
    }
   ],
   "source": [
    "sentence = \"I am an NLPer\"\n",
    "words = sentence.split()\n",
    "print(n_grams(words, 2))"
   ]
  },
  {
   "cell_type": "code",
   "execution_count": 3,
   "id": "37247f61",
   "metadata": {},
   "outputs": [
    {
     "name": "stdout",
     "output_type": "stream",
     "text": [
      "['I ', ' a', 'am', 'm ', ' a', 'an', 'n ', ' N', 'NL', 'LP', 'Pe', 'er']\n"
     ]
    }
   ],
   "source": [
    "print(n_grams(sentence, 2))"
   ]
  },
  {
   "cell_type": "code",
   "execution_count": null,
   "id": "6e87cde7",
   "metadata": {},
   "outputs": [],
   "source": []
  }
 ],
 "metadata": {
  "kernelspec": {
   "display_name": "Python 3 (ipykernel)",
   "language": "python",
   "name": "python3"
  },
  "language_info": {
   "codemirror_mode": {
    "name": "ipython",
    "version": 3
   },
   "file_extension": ".py",
   "mimetype": "text/x-python",
   "name": "python",
   "nbconvert_exporter": "python",
   "pygments_lexer": "ipython3",
   "version": "3.11.4"
  }
 },
 "nbformat": 4,
 "nbformat_minor": 5
}
