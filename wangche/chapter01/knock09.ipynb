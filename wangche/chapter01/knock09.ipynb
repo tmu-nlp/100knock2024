{
 "cells": [
  {
   "cell_type": "markdown",
   "id": "8ecbf4b9",
   "metadata": {},
   "source": [
    "# スペースで区切られた単語列に対して，各単語の先頭と末尾の文字は残し，それ以外の文字の順序をランダムに並び替えるプログラムを作成せよ．ただし，長さが４以下の単語は並び替えないこととする．適当な英語の文（例えば”I couldn’t believe that I could actually understand what I was reading : the phenomenal power of the human mind .”）を与え，その実行結果を確認せよ．"
   ]
  },
  {
   "cell_type": "code",
   "execution_count": 2,
   "id": "32da9305",
   "metadata": {},
   "outputs": [
    {
     "name": "stdout",
     "output_type": "stream",
     "text": [
      "Original: I couldn’t believe that I could actually understand what I was reading : the phenomenal power of the human mind .\n",
      "Scrambled: I couldn’t believe that I could actually understand what I was reading : the phenomenal power of the human mind .\n"
     ]
    }
   ],
   "source": [
    "import random\n",
    "\n",
    "def scramble_word(word):\n",
    "    if len(word) > 4:\n",
    "        middle = list(word[1:-1])\n",
    "        return word[0] + ''.join(middle) + word[-1]\n",
    "    else:\n",
    "        return word\n",
    "\n",
    "def scramble_sentence(sentence):\n",
    "    words = sentence.split()\n",
    "    scrambled_words = [scramble_word(word) for word in words]\n",
    "    return ' '.join(scrambled_words)\n",
    "\n",
    "sentence = \"I couldn’t believe that I could actually understand what I was reading : the phenomenal power of the human mind .\"\n",
    "scrambled_sentence = scramble_sentence(sentence)\n",
    "print(\"Original:\", sentence)\n",
    "print(\"Scrambled:\", scrambled_sentence)"
   ]
  },
  {
   "cell_type": "code",
   "execution_count": null,
   "id": "4924ebb1",
   "metadata": {},
   "outputs": [],
   "source": []
  }
 ],
 "metadata": {
  "kernelspec": {
   "display_name": "Python 3 (ipykernel)",
   "language": "python",
   "name": "python3"
  },
  "language_info": {
   "codemirror_mode": {
    "name": "ipython",
    "version": 3
   },
   "file_extension": ".py",
   "mimetype": "text/x-python",
   "name": "python",
   "nbconvert_exporter": "python",
   "pygments_lexer": "ipython3",
   "version": "3.11.4"
  }
 },
 "nbformat": 4,
 "nbformat_minor": 5
}
