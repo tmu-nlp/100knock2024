{
 "cells": [
  {
   "cell_type": "markdown",
   "id": "f1638373",
   "metadata": {},
   "source": [
    "# 引数x, y, zを受け取り「x時のyはz」という文字列を返す関数を実装せよ．さらに，x=12, y=”気温”, z=22.4として，実行結果を確認せよ．"
   ]
  },
  {
   "cell_type": "code",
   "execution_count": 1,
   "id": "ef4557ba",
   "metadata": {},
   "outputs": [
    {
     "name": "stdout",
     "output_type": "stream",
     "text": [
      "12時の気温は22.4\n"
     ]
    }
   ],
   "source": [
    "def create_sentence(x, y, z):\n",
    "    return f\"{x}時の{y}は{z}\"\n",
    "x = 12\n",
    "y = \"気温\"\n",
    "z = 22.4\n",
    "\n",
    "print(create_sentence(x, y, z))"
   ]
  },
  {
   "cell_type": "code",
   "execution_count": null,
   "id": "3a28a7e7",
   "metadata": {},
   "outputs": [],
   "source": []
  }
 ],
 "metadata": {
  "kernelspec": {
   "display_name": "Python 3 (ipykernel)",
   "language": "python",
   "name": "python3"
  },
  "language_info": {
   "codemirror_mode": {
    "name": "ipython",
    "version": 3
   },
   "file_extension": ".py",
   "mimetype": "text/x-python",
   "name": "python",
   "nbconvert_exporter": "python",
   "pygments_lexer": "ipython3",
   "version": "3.11.4"
  }
 },
 "nbformat": 4,
 "nbformat_minor": 5
}
