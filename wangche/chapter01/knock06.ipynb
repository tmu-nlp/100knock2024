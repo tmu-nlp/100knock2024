{
 "cells": [
  {
   "cell_type": "markdown",
   "id": "8b159254",
   "metadata": {},
   "source": [
    "# “paraparaparadise”と”paragraph”に含まれる文字bi-gramの集合を，それぞれ, XとYとして求め，XとYの和集合，積集合，差集合を求めよ．さらに，’se’というbi-gramがXおよびYに含まれるかどうかを調べよ．"
   ]
  },
  {
   "cell_type": "code",
   "execution_count": 4,
   "id": "604237ad",
   "metadata": {},
   "outputs": [
    {
     "name": "stdout",
     "output_type": "stream",
     "text": [
      "{'se', 'ap', 'di', 'pa', 'ad', 'is', 'ar', 'ra'}\n",
      "{'ap', 'ag', 'ph', 'pa', 'gr', 'ar', 'ra'}\n"
     ]
    }
   ],
   "source": [
    "def n_grams(sequence, n):\n",
    "    return [sequence[i:i+n] for i in range(len(sequence) - n + 1)]\n",
    "word1 = \"paraparaparadise\"\n",
    "word2 = \"paragraph\"\n",
    "X = set(n_grams(word1, 2))\n",
    "Y = set(n_grams(word2, 2))\n",
    "print(X)\n",
    "print(Y)"
   ]
  },
  {
   "cell_type": "code",
   "execution_count": 10,
   "id": "50ca0cc1",
   "metadata": {},
   "outputs": [
    {
     "name": "stdout",
     "output_type": "stream",
     "text": [
      "和集合: {'se', 'ap', 'di', 'ag', 'ph', 'pa', 'gr', 'ad', 'is', 'ar', 'ra'}\n",
      "積集合: {'pa', 'ap', 'ar', 'ra'}\n",
      "差集合: {'ad', 'se', 'is', 'di'}\n",
      "'se' が X に含まれるか: True\n",
      "'se' が Y に含まれるか: False\n"
     ]
    }
   ],
   "source": [
    "print(\"和集合:\",X | Y)\n",
    "print(\"積集合:\",X & Y)\n",
    "print(\"差集合:\",X - Y)\n",
    "print(\"'se' が X に含まれるか:\", 'se' in X)\n",
    "print(\"'se' が Y に含まれるか:\", 'se' in Y)"
   ]
  },
  {
   "cell_type": "code",
   "execution_count": null,
   "id": "0bc2a531",
   "metadata": {},
   "outputs": [],
   "source": []
  }
 ],
 "metadata": {
  "kernelspec": {
   "display_name": "Python 3 (ipykernel)",
   "language": "python",
   "name": "python3"
  },
  "language_info": {
   "codemirror_mode": {
    "name": "ipython",
    "version": 3
   },
   "file_extension": ".py",
   "mimetype": "text/x-python",
   "name": "python",
   "nbconvert_exporter": "python",
   "pygments_lexer": "ipython3",
   "version": "3.11.4"
  }
 },
 "nbformat": 4,
 "nbformat_minor": 5
}
